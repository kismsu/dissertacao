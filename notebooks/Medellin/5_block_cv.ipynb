{
 "cells": [
  {
   "cell_type": "code",
   "execution_count": 1,
   "metadata": {},
   "outputs": [
    {
     "name": "stderr",
     "output_type": "stream",
     "text": [
      "/Users/mariofilho/miniconda3/lib/python3.7/site-packages/lightgbm/__init__.py:48: UserWarning: Starting from version 2.2.1, the library file in distribution wheels for macOS is built by the Apple Clang (Xcode_8.3.3) compiler.\n",
      "This means that in case of installing LightGBM from PyPI via the ``pip install lightgbm`` command, you don't need to install the gcc compiler anymore.\n",
      "Instead of that, you need to install the OpenMP library, which is required for running LightGBM on the system with the Apple Clang compiler.\n",
      "You can install the OpenMP library by the following command: ``brew install libomp``.\n",
      "  \"You can install the OpenMP library by the following command: ``brew install libomp``.\", UserWarning)\n"
     ]
    }
   ],
   "source": [
    "import pandas as pd\n",
    "import numpy as np\n",
    "from lightgbm import LGBMRegressor"
   ]
  },
  {
   "cell_type": "code",
   "execution_count": 2,
   "metadata": {},
   "outputs": [],
   "source": [
    "data = pd.read_feather(\"train.f\")"
   ]
  },
  {
   "cell_type": "markdown",
   "metadata": {},
   "source": [
    "# Block CV (1-block)"
   ]
  },
  {
   "cell_type": "code",
   "execution_count": 3,
   "metadata": {},
   "outputs": [],
   "source": [
    "data['block'] = np.trunc(data['era']*.1).astype(int)\n",
    "data.loc[data['block'] == 12, 'block'] = 11"
   ]
  },
  {
   "cell_type": "code",
   "execution_count": 4,
   "metadata": {},
   "outputs": [
    {
     "data": {
      "text/plain": [
       "0     24515\n",
       "1     34600\n",
       "2     37444\n",
       "3     41101\n",
       "4     43439\n",
       "5     48186\n",
       "6     46831\n",
       "7     40403\n",
       "8     43971\n",
       "9     45609\n",
       "10    46107\n",
       "11    49602\n",
       "Name: block, dtype: int64"
      ]
     },
     "execution_count": 4,
     "metadata": {},
     "output_type": "execute_result"
    }
   ],
   "source": [
    "data['block'].value_counts().sort_index()"
   ]
  },
  {
   "cell_type": "code",
   "execution_count": 5,
   "metadata": {},
   "outputs": [
    {
     "name": "stdout",
     "output_type": "stream",
     "text": [
      "Validation Block 0\n",
      "Correlation 0.06711982432645597\n",
      "\n",
      "Validation Block 1\n",
      "Correlation 0.07207312167119041\n",
      "\n",
      "Validation Block 2\n",
      "Correlation 0.0737811751573178\n",
      "\n",
      "Validation Block 3\n",
      "Correlation 0.06260542085119478\n",
      "\n",
      "Validation Block 4\n",
      "Correlation 0.05524753270154888\n",
      "\n",
      "Validation Block 5\n",
      "Correlation 0.0406986702554227\n",
      "\n",
      "Validation Block 6\n",
      "Correlation 0.02701121633777277\n",
      "\n",
      "Validation Block 7\n",
      "Correlation 0.06469652449034577\n",
      "\n",
      "Validation Block 8\n",
      "Correlation 0.04383883097679592\n",
      "\n",
      "Validation Block 9\n",
      "Correlation 0.06805487272587811\n",
      "\n",
      "Validation Block 10\n",
      "Correlation 0.045569279898783954\n",
      "\n",
      "Validation Block 11\n",
      "Correlation 0.04476211397290722\n",
      "\n"
     ]
    }
   ],
   "source": [
    "results_val = []\n",
    "\n",
    "for block in range(12):\n",
    "    print(\"Validation Block {}\".format(block))\n",
    "    \n",
    "\n",
    "    train = data[data['block'] != block]\n",
    "    val = data[data['block'] == block]\n",
    "    \n",
    "    X_train = train.filter(regex=r'feature')\n",
    "    X_val = val.filter(regex=r'feature')\n",
    "\n",
    "    y_train = train['target_kazutsugi']\n",
    "    y_val = val['target_kazutsugi']\n",
    "     \n",
    "\n",
    "    mdl = LGBMRegressor(max_depth=5, num_leaves=2**5, learning_rate=0.01, n_estimators=2000, colsample_bytree=0.1, random_state=0)\n",
    "    mdl.fit(X_train, y_train)\n",
    "    \n",
    "    predictions = pd.Series(mdl.predict(X_val))\n",
    "    ranked_predictions = predictions.rank(pct=True, method=\"first\")\n",
    "    correlation = np.corrcoef(y_val, ranked_predictions)[0, 1]\n",
    "    #print(correlation)\n",
    "    \n",
    "    results_val.append(correlation)\n",
    "    print(\"Correlation {}\".format(correlation))\n",
    "    print()\n",
    "   "
   ]
  },
  {
   "cell_type": "code",
   "execution_count": 6,
   "metadata": {},
   "outputs": [
    {
     "data": {
      "text/plain": [
       "0.05892647677637183"
      ]
     },
     "execution_count": 6,
     "metadata": {},
     "output_type": "execute_result"
    }
   ],
   "source": [
    "np.median(results_val)"
   ]
  },
  {
   "cell_type": "code",
   "execution_count": 7,
   "metadata": {},
   "outputs": [
    {
     "data": {
      "text/plain": [
       "0.02701121633777277"
      ]
     },
     "execution_count": 7,
     "metadata": {},
     "output_type": "execute_result"
    }
   ],
   "source": [
    "np.min(results_val)"
   ]
  },
  {
   "cell_type": "code",
   "execution_count": 8,
   "metadata": {},
   "outputs": [
    {
     "data": {
      "text/plain": [
       "0.0737811751573178"
      ]
     },
     "execution_count": 8,
     "metadata": {},
     "output_type": "execute_result"
    }
   ],
   "source": [
    "np.max(results_val)"
   ]
  },
  {
   "cell_type": "code",
   "execution_count": 9,
   "metadata": {},
   "outputs": [
    {
     "data": {
      "text/plain": [
       "0.05545488194713452"
      ]
     },
     "execution_count": 9,
     "metadata": {},
     "output_type": "execute_result"
    }
   ],
   "source": [
    "np.mean(results_val)"
   ]
  },
  {
   "cell_type": "code",
   "execution_count": 10,
   "metadata": {},
   "outputs": [
    {
     "data": {
      "text/plain": [
       "12"
      ]
     },
     "execution_count": 10,
     "metadata": {},
     "output_type": "execute_result"
    }
   ],
   "source": [
    "len(results_val)"
   ]
  },
  {
   "cell_type": "markdown",
   "metadata": {},
   "source": [
    "# hv-Block CV (1-block)\n",
    "- \"We call it h-block cross-validation, because the idea is to reduce the training set by removing the h observations preceding and following the observation in the test s\"\n",
    "- gap original - remover apenas era mais próxima do treino"
   ]
  },
  {
   "cell_type": "code",
   "execution_count": 11,
   "metadata": {},
   "outputs": [
    {
     "name": "stdout",
     "output_type": "stream",
     "text": [
      "Train block 0 - Gap Block 1 - Validation Block 2\n",
      "Correlation 0.06891527161934806\n",
      "\n",
      "Train block 1 - Gap Block 2 - Validation Block 3\n",
      "Correlation 0.05608920907352532\n",
      "\n",
      "Train block 2 - Gap Block 3 - Validation Block 4\n",
      "Correlation 0.050683289487780864\n",
      "\n",
      "Train block 3 - Gap Block 4 - Validation Block 5\n",
      "Correlation 0.03800523049303772\n",
      "\n",
      "Train block 4 - Gap Block 5 - Validation Block 6\n",
      "Correlation 0.02052873989528275\n",
      "\n",
      "Train block 5 - Gap Block 6 - Validation Block 7\n",
      "Correlation 0.060454668169158655\n",
      "\n",
      "Train block 6 - Gap Block 7 - Validation Block 8\n",
      "Correlation 0.04014577185049007\n",
      "\n",
      "Train block 7 - Gap Block 8 - Validation Block 9\n",
      "Correlation 0.06519420956831873\n",
      "\n",
      "Train block 8 - Gap Block 9 - Validation Block 10\n",
      "Correlation 0.04113250552613722\n",
      "\n",
      "Train block 9 - Gap Block 10 - Validation Block 11\n",
      "Correlation 0.04157351090598695\n",
      "\n"
     ]
    }
   ],
   "source": [
    "results_val = []\n",
    "\n",
    "for block in range(2,12):\n",
    "    print(\"Train block {} - Gap Block {} - Validation Block {}\".format(block - 2, block - 1,  block))\n",
    "\n",
    "    if block == 0:\n",
    "        train = data[data['block'] > block+1]\n",
    "    elif block == 11:\n",
    "        train = data[data['block'] < block-1]\n",
    "    else:\n",
    "        train = data[(data['block'] != block-1) & (data['block'] != block) & (data['block'] != block+1)]\n",
    "    \n",
    "    val = data[data['block'] == block]\n",
    "    \n",
    "    X_train = train.filter(regex=r'feature')\n",
    "    X_val = val.filter(regex=r'feature')\n",
    "\n",
    "    y_train = train['target_kazutsugi']\n",
    "    y_val = val['target_kazutsugi']\n",
    "     \n",
    "\n",
    "    mdl = LGBMRegressor(max_depth=5, num_leaves=2**5, learning_rate=0.01, n_estimators=2000, colsample_bytree=0.1, random_state=0)\n",
    "    mdl.fit(X_train, y_train)\n",
    "    \n",
    "    predictions = pd.Series(mdl.predict(X_val))\n",
    "    ranked_predictions = predictions.rank(pct=True, method=\"first\")\n",
    "    correlation = np.corrcoef(y_val, ranked_predictions)[0, 1]\n",
    "    #print(correlation)\n",
    "    \n",
    "    results_val.append(correlation)\n",
    "    print(\"Correlation {}\".format(correlation))\n",
    "    print()\n",
    "   "
   ]
  },
  {
   "cell_type": "code",
   "execution_count": 12,
   "metadata": {},
   "outputs": [
    {
     "data": {
      "text/plain": [
       "0.04612840019688391"
      ]
     },
     "execution_count": 12,
     "metadata": {},
     "output_type": "execute_result"
    }
   ],
   "source": [
    "np.median(results_val)"
   ]
  },
  {
   "cell_type": "code",
   "execution_count": 13,
   "metadata": {},
   "outputs": [
    {
     "data": {
      "text/plain": [
       "0.02052873989528275"
      ]
     },
     "execution_count": 13,
     "metadata": {},
     "output_type": "execute_result"
    }
   ],
   "source": [
    "np.min(results_val)"
   ]
  },
  {
   "cell_type": "code",
   "execution_count": 14,
   "metadata": {},
   "outputs": [
    {
     "data": {
      "text/plain": [
       "0.06891527161934806"
      ]
     },
     "execution_count": 14,
     "metadata": {},
     "output_type": "execute_result"
    }
   ],
   "source": [
    "np.max(results_val)"
   ]
  },
  {
   "cell_type": "code",
   "execution_count": 15,
   "metadata": {},
   "outputs": [
    {
     "data": {
      "text/plain": [
       "0.04827224065890663"
      ]
     },
     "execution_count": 15,
     "metadata": {},
     "output_type": "execute_result"
    }
   ],
   "source": [
    "np.mean(results_val)"
   ]
  },
  {
   "cell_type": "code",
   "execution_count": 16,
   "metadata": {},
   "outputs": [
    {
     "data": {
      "text/plain": [
       "10"
      ]
     },
     "execution_count": 16,
     "metadata": {},
     "output_type": "execute_result"
    }
   ],
   "source": [
    "len(results_val)"
   ]
  },
  {
   "cell_type": "markdown",
   "metadata": {},
   "source": [
    "# Combinatorial Purged (Gap) (Block)-CV\n",
    "- purging original - remover apenas era mais próxima do treino\n",
    "- \"Advances in Financial Machine Learning\" - Marcos López de Prado"
   ]
  },
  {
   "cell_type": "code",
   "execution_count": 30,
   "metadata": {},
   "outputs": [
    {
     "name": "stdout",
     "output_type": "stream",
     "text": [
      "Total de pares com gap 110\n",
      "Train block 0 - Validation Block 2\n",
      "Correlation 0.05345227304313937\n",
      "\n",
      "Train block 0 - Validation Block 3\n",
      "Correlation 0.04537896326256358\n",
      "\n",
      "Train block 0 - Validation Block 4\n",
      "Correlation 0.028638840809714506\n",
      "\n",
      "Train block 0 - Validation Block 5\n",
      "Correlation 0.012266404939832694\n",
      "\n",
      "Train block 0 - Validation Block 6\n",
      "Correlation 0.006774445659950066\n",
      "\n",
      "Train block 0 - Validation Block 7\n",
      "Correlation 0.04735954213583829\n",
      "\n",
      "Train block 0 - Validation Block 8\n",
      "Correlation 0.035712999834871376\n",
      "\n",
      "Train block 0 - Validation Block 9\n",
      "Correlation 0.04633006527379678\n",
      "\n",
      "Train block 0 - Validation Block 10\n",
      "Correlation 0.02171331752472719\n",
      "\n",
      "Train block 0 - Validation Block 11\n",
      "Correlation 0.016752894694547108\n",
      "\n",
      "Train block 1 - Validation Block 3\n",
      "Correlation 0.04509813993002888\n",
      "\n",
      "Train block 1 - Validation Block 4\n",
      "Correlation 0.03552693549724267\n",
      "\n",
      "Train block 1 - Validation Block 5\n",
      "Correlation 0.01210165993262393\n",
      "\n",
      "Train block 1 - Validation Block 6\n",
      "Correlation 0.015728398473927964\n",
      "\n",
      "Train block 1 - Validation Block 7\n",
      "Correlation 0.045097879006188495\n",
      "\n",
      "Train block 1 - Validation Block 8\n",
      "Correlation 0.038809787501912676\n",
      "\n",
      "Train block 1 - Validation Block 9\n",
      "Correlation 0.04910401839523232\n",
      "\n",
      "Train block 1 - Validation Block 10\n",
      "Correlation 0.029424677965125667\n",
      "\n",
      "Train block 1 - Validation Block 11\n",
      "Correlation 0.024019455516667308\n",
      "\n",
      "Train block 2 - Validation Block 0\n",
      "Correlation 0.06416408511024498\n",
      "\n",
      "Train block 2 - Validation Block 4\n",
      "Correlation 0.039443046756817826\n",
      "\n",
      "Train block 2 - Validation Block 5\n",
      "Correlation 0.017577892161920534\n",
      "\n",
      "Train block 2 - Validation Block 6\n",
      "Correlation 0.009296010505242584\n",
      "\n",
      "Train block 2 - Validation Block 7\n",
      "Correlation 0.05782559753550368\n",
      "\n",
      "Train block 2 - Validation Block 8\n",
      "Correlation 0.030915116400108092\n",
      "\n",
      "Train block 2 - Validation Block 9\n",
      "Correlation 0.057721615883343416\n",
      "\n",
      "Train block 2 - Validation Block 10\n",
      "Correlation 0.030815544305731832\n",
      "\n",
      "Train block 2 - Validation Block 11\n",
      "Correlation 0.026630696732942175\n",
      "\n",
      "Train block 3 - Validation Block 0\n",
      "Correlation 0.048327922519456765\n",
      "\n",
      "Train block 3 - Validation Block 1\n",
      "Correlation 0.04507980829804256\n",
      "\n",
      "Train block 3 - Validation Block 5\n",
      "Correlation 0.023738960188158055\n",
      "\n",
      "Train block 3 - Validation Block 6\n",
      "Correlation 0.010516018061185838\n",
      "\n",
      "Train block 3 - Validation Block 7\n",
      "Correlation 0.04701112621801693\n",
      "\n",
      "Train block 3 - Validation Block 8\n",
      "Correlation 0.034545605614966245\n",
      "\n",
      "Train block 3 - Validation Block 9\n",
      "Correlation 0.04962173147443206\n",
      "\n",
      "Train block 3 - Validation Block 10\n",
      "Correlation 0.014846313855547856\n",
      "\n",
      "Train block 3 - Validation Block 11\n",
      "Correlation 0.017188136122245408\n",
      "\n",
      "Train block 4 - Validation Block 0\n",
      "Correlation 0.04021811018892311\n",
      "\n",
      "Train block 4 - Validation Block 1\n",
      "Correlation 0.052513377773833574\n",
      "\n",
      "Train block 4 - Validation Block 2\n",
      "Correlation 0.05139086566614555\n",
      "\n",
      "Train block 4 - Validation Block 6\n",
      "Correlation 0.017413657800124795\n",
      "\n",
      "Train block 4 - Validation Block 7\n",
      "Correlation 0.05242176197605065\n",
      "\n",
      "Train block 4 - Validation Block 8\n",
      "Correlation 0.028967699084850706\n",
      "\n",
      "Train block 4 - Validation Block 9\n",
      "Correlation 0.04236512773848095\n",
      "\n",
      "Train block 4 - Validation Block 10\n",
      "Correlation 0.025890528670477808\n",
      "\n",
      "Train block 4 - Validation Block 11\n",
      "Correlation 0.03418735204855519\n",
      "\n",
      "Train block 5 - Validation Block 0\n",
      "Correlation 0.02913658513599507\n",
      "\n",
      "Train block 5 - Validation Block 1\n",
      "Correlation 0.026332966726477433\n",
      "\n",
      "Train block 5 - Validation Block 2\n",
      "Correlation 0.031179375957214272\n",
      "\n",
      "Train block 5 - Validation Block 3\n",
      "Correlation 0.027736317441209527\n",
      "\n",
      "Train block 5 - Validation Block 7\n",
      "Correlation 0.024640167304435363\n",
      "\n",
      "Train block 5 - Validation Block 8\n",
      "Correlation 0.015218010187533715\n",
      "\n",
      "Train block 5 - Validation Block 9\n",
      "Correlation 0.03734948947794393\n",
      "\n",
      "Train block 5 - Validation Block 10\n",
      "Correlation 0.02550169673708577\n",
      "\n",
      "Train block 5 - Validation Block 11\n",
      "Correlation 0.026148679955682808\n",
      "\n",
      "Train block 6 - Validation Block 0\n",
      "Correlation 0.014716968577849564\n",
      "\n",
      "Train block 6 - Validation Block 1\n",
      "Correlation 0.027927434830695406\n",
      "\n",
      "Train block 6 - Validation Block 2\n",
      "Correlation 0.013519047343250998\n",
      "\n",
      "Train block 6 - Validation Block 3\n",
      "Correlation 0.017503255420646197\n",
      "\n",
      "Train block 6 - Validation Block 4\n",
      "Correlation 0.0218836325938343\n",
      "\n",
      "Train block 6 - Validation Block 8\n",
      "Correlation 0.012308896744822391\n",
      "\n",
      "Train block 6 - Validation Block 9\n",
      "Correlation 0.020441109119281584\n",
      "\n",
      "Train block 6 - Validation Block 10\n",
      "Correlation 0.022348206327591016\n",
      "\n",
      "Train block 6 - Validation Block 11\n",
      "Correlation 0.015623008123692245\n",
      "\n",
      "Train block 7 - Validation Block 0\n",
      "Correlation 0.04442392416682164\n",
      "\n",
      "Train block 7 - Validation Block 1\n",
      "Correlation 0.04134062231294736\n",
      "\n",
      "Train block 7 - Validation Block 2\n",
      "Correlation 0.04853294169960513\n",
      "\n",
      "Train block 7 - Validation Block 3\n",
      "Correlation 0.041018005334752854\n",
      "\n",
      "Train block 7 - Validation Block 4\n",
      "Correlation 0.03534144832026833\n",
      "\n",
      "Train block 7 - Validation Block 5\n",
      "Correlation 0.010548898033343546\n",
      "\n",
      "Train block 7 - Validation Block 9\n",
      "Correlation 0.0385174953842173\n",
      "\n",
      "Train block 7 - Validation Block 10\n",
      "Correlation 0.02996447647301936\n",
      "\n",
      "Train block 7 - Validation Block 11\n",
      "Correlation 0.02388472392818906\n",
      "\n",
      "Train block 8 - Validation Block 0\n",
      "Correlation 0.043543149523953925\n",
      "\n",
      "Train block 8 - Validation Block 1\n",
      "Correlation 0.0504412731634074\n",
      "\n",
      "Train block 8 - Validation Block 2\n",
      "Correlation 0.028299915010960065\n",
      "\n",
      "Train block 8 - Validation Block 3\n",
      "Correlation 0.029557236839211416\n",
      "\n",
      "Train block 8 - Validation Block 4\n",
      "Correlation 0.02783560461185861\n",
      "\n",
      "Train block 8 - Validation Block 5\n",
      "Correlation 0.007495438931201769\n",
      "\n",
      "Train block 8 - Validation Block 6\n",
      "Correlation 0.0069611206493400135\n",
      "\n",
      "Train block 8 - Validation Block 10\n",
      "Correlation 0.02333269112437655\n",
      "\n",
      "Train block 8 - Validation Block 11\n",
      "Correlation 0.019038579597501874\n",
      "\n",
      "Train block 9 - Validation Block 0\n",
      "Correlation 0.050709631452538394\n",
      "\n",
      "Train block 9 - Validation Block 1\n",
      "Correlation 0.04998274875515758\n",
      "\n",
      "Train block 9 - Validation Block 2\n",
      "Correlation 0.046464331418835346\n",
      "\n",
      "Train block 9 - Validation Block 3\n",
      "Correlation 0.03862526583965734\n",
      "\n",
      "Train block 9 - Validation Block 4\n",
      "Correlation 0.03099498480046968\n",
      "\n",
      "Train block 9 - Validation Block 5\n",
      "Correlation 0.02383789685711075\n",
      "\n",
      "Train block 9 - Validation Block 6\n",
      "Correlation 0.010331318142868121\n",
      "\n",
      "Train block 9 - Validation Block 7\n",
      "Correlation 0.04002284288714038\n",
      "\n",
      "Train block 9 - Validation Block 11\n",
      "Correlation 0.03035357473693364\n",
      "\n",
      "Train block 10 - Validation Block 0\n",
      "Correlation 0.038628250594170764\n",
      "\n",
      "Train block 10 - Validation Block 1\n",
      "Correlation 0.03289964307043149\n",
      "\n",
      "Train block 10 - Validation Block 2\n",
      "Correlation 0.04735751773032382\n",
      "\n",
      "Train block 10 - Validation Block 3\n",
      "Correlation 0.01148647881968322\n",
      "\n",
      "Train block 10 - Validation Block 4\n",
      "Correlation 0.028255784566627862\n",
      "\n",
      "Train block 10 - Validation Block 5\n",
      "Correlation 0.017118296446847658\n",
      "\n",
      "Train block 10 - Validation Block 6\n",
      "Correlation 0.016437863026428794\n",
      "\n",
      "Train block 10 - Validation Block 7\n",
      "Correlation 0.04278770418818871\n",
      "\n",
      "Train block 10 - Validation Block 8\n",
      "Correlation 0.023685266301593278\n",
      "\n",
      "Train block 11 - Validation Block 0\n",
      "Correlation 0.01999688762441267\n",
      "\n",
      "Train block 11 - Validation Block 1\n",
      "Correlation 0.040603856980244594\n",
      "\n",
      "Train block 11 - Validation Block 2\n",
      "Correlation 0.031028086985094797\n",
      "\n",
      "Train block 11 - Validation Block 3\n",
      "Correlation 0.022456082501007696\n",
      "\n",
      "Train block 11 - Validation Block 4\n",
      "Correlation 0.029042223452421075\n",
      "\n",
      "Train block 11 - Validation Block 5\n",
      "Correlation 0.022671575756444108\n",
      "\n",
      "Train block 11 - Validation Block 6\n",
      "Correlation 0.009149464707763118\n",
      "\n",
      "Train block 11 - Validation Block 7\n",
      "Correlation 0.03203986940907931\n",
      "\n",
      "Train block 11 - Validation Block 8\n",
      "Correlation 0.019068941759603587\n",
      "\n",
      "Train block 11 - Validation Block 9\n",
      "Correlation 0.039875809863862306\n",
      "\n"
     ]
    }
   ],
   "source": [
    "from itertools import permutations\n",
    "\n",
    "block_combos = list(permutations(range(12), 2)) # pode ser mais que 2\n",
    "\n",
    "total_purged_pairs = sum([1 for train_block, val_block in block_combos if abs(train_block - val_block) != 1])\n",
    "print(\"Total de pares com gap {}\".format(total_purged_pairs))\n",
    "\n",
    "results_val = []\n",
    "for train_block, val_block in block_combos:\n",
    "    if abs(train_block - val_block) == 1:\n",
    "        continue\n",
    "        \n",
    "    print(\"Train block {} - Validation Block {}\".format(train_block, val_block))\n",
    "\n",
    "    train = data[data['block'] == train_block]\n",
    "    val = data[data['block'] == val_block]\n",
    "    \n",
    "    X_train = train.filter(regex=r'feature')\n",
    "    X_val = val.filter(regex=r'feature')\n",
    "\n",
    "    y_train = train['target_kazutsugi']\n",
    "    y_val = val['target_kazutsugi']\n",
    "     \n",
    "\n",
    "    mdl = LGBMRegressor(max_depth=5, num_leaves=2**5, learning_rate=0.01, n_estimators=2000, colsample_bytree=0.1, random_state=0)\n",
    "    mdl.fit(X_train, y_train)\n",
    "    \n",
    "    predictions = pd.Series(mdl.predict(X_val))\n",
    "    ranked_predictions = predictions.rank(pct=True, method=\"first\")\n",
    "    correlation = np.corrcoef(y_val, ranked_predictions)[0, 1]\n",
    "    #print(correlation)\n",
    "    \n",
    "    results_val.append(correlation)\n",
    "    print(\"Correlation {}\".format(correlation))\n",
    "    print()\n",
    "   "
   ]
  },
  {
   "cell_type": "code",
   "execution_count": 31,
   "metadata": {},
   "outputs": [
    {
     "data": {
      "text/plain": [
       "0.02928063155056037"
      ]
     },
     "execution_count": 31,
     "metadata": {},
     "output_type": "execute_result"
    }
   ],
   "source": [
    "np.median(results_val)"
   ]
  },
  {
   "cell_type": "code",
   "execution_count": 32,
   "metadata": {},
   "outputs": [
    {
     "data": {
      "text/plain": [
       "0.006774445659950066"
      ]
     },
     "execution_count": 32,
     "metadata": {},
     "output_type": "execute_result"
    }
   ],
   "source": [
    "np.min(results_val)"
   ]
  },
  {
   "cell_type": "code",
   "execution_count": 33,
   "metadata": {},
   "outputs": [
    {
     "data": {
      "text/plain": [
       "0.06416408511024498"
      ]
     },
     "execution_count": 33,
     "metadata": {},
     "output_type": "execute_result"
    }
   ],
   "source": [
    "np.max(results_val)"
   ]
  },
  {
   "cell_type": "code",
   "execution_count": 34,
   "metadata": {},
   "outputs": [
    {
     "data": {
      "text/plain": [
       "0.0307766272715858"
      ]
     },
     "execution_count": 34,
     "metadata": {},
     "output_type": "execute_result"
    }
   ],
   "source": [
    "np.mean(results_val)"
   ]
  },
  {
   "cell_type": "code",
   "execution_count": 35,
   "metadata": {},
   "outputs": [
    {
     "data": {
      "text/plain": [
       "110"
      ]
     },
     "execution_count": 35,
     "metadata": {},
     "output_type": "execute_result"
    }
   ],
   "source": [
    "len(results_val)"
   ]
  }
 ],
 "metadata": {
  "kernelspec": {
   "display_name": "Python 3",
   "language": "python",
   "name": "python3"
  },
  "language_info": {
   "codemirror_mode": {
    "name": "ipython",
    "version": 3
   },
   "file_extension": ".py",
   "mimetype": "text/x-python",
   "name": "python",
   "nbconvert_exporter": "python",
   "pygments_lexer": "ipython3",
   "version": "3.8.3"
  }
 },
 "nbformat": 4,
 "nbformat_minor": 4
}
