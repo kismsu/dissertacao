{
 "cells": [
  {
   "cell_type": "markdown",
   "metadata": {
    "slideshow": {
     "slide_type": "slide"
    }
   },
   "source": [
    "# Capítulo 5 - Residualização"
   ]
  },
  {
   "cell_type": "markdown",
   "metadata": {
    "slideshow": {
     "slide_type": "skip"
    }
   },
   "source": [
    "### Parte 1 - Carregar Bibliotecas e Dataset"
   ]
  },
  {
   "cell_type": "code",
   "execution_count": 1,
   "metadata": {
    "ExecuteTime": {
     "end_time": "2021-01-14T08:42:29.110082Z",
     "start_time": "2021-01-14T08:42:29.073400Z"
    },
    "slideshow": {
     "slide_type": "skip"
    }
   },
   "outputs": [],
   "source": [
    "%load_ext autoreload\n",
    "%autoreload 2"
   ]
  },
  {
   "cell_type": "code",
   "execution_count": 3,
   "metadata": {
    "ExecuteTime": {
     "end_time": "2020-12-18T03:36:57.972794Z",
     "start_time": "2020-12-18T03:36:57.938367Z"
    },
    "slideshow": {
     "slide_type": "skip"
    }
   },
   "outputs": [],
   "source": [
    "#%reload_ext autoreload\n",
    "#make_dataset.new_func()"
   ]
  },
  {
   "cell_type": "code",
   "execution_count": 7,
   "metadata": {
    "ExecuteTime": {
     "end_time": "2021-01-14T08:43:34.234087Z",
     "start_time": "2021-01-14T08:43:34.171019Z"
    },
    "slideshow": {
     "slide_type": "skip"
    }
   },
   "outputs": [],
   "source": [
    "#basics\n",
    "import sys,os\n",
    "sys.path.insert(1, os.path.dirname(os.getcwd()))\n",
    "\n",
    "#utils\n",
    "import paths\n",
    "\n",
    "#main libraries\n",
    "import numpy as np\n",
    "import pandas as pd\n",
    "import matplotlib.pyplot as plt\n",
    "pd.set_option(\"display.precision\", 4)\n",
    "%matplotlib inline\n",
    "\n",
    "#model Libraries\n",
    "from sklearn import utils\n",
    "from sklearn import preprocessing\n",
    "\n",
    "from sklearn.model_selection import RandomizedSearchCV\n",
    "from sklearn.model_selection import GroupKFold\n",
    "\n",
    "from sklearn.ensemble import RandomForestClassifier\n",
    "from sklearn.ensemble import RandomForestRegressor\n",
    "\n",
    "from sklearn.metrics import make_scorer\n",
    "from sklearn.metrics import roc_auc_score\n",
    "from sklearn.metrics import mean_squared_error\n",
    "\n",
    "\n",
    "#skopt\n",
    "from skopt import BayesSearchCV\n",
    "from skopt.space import Real, Categorical, Integer\n",
    "from tune_sklearn import TuneSearchCV"
   ]
  },
  {
   "cell_type": "code",
   "execution_count": 8,
   "metadata": {
    "ExecuteTime": {
     "end_time": "2021-01-14T08:43:34.985085Z",
     "start_time": "2021-01-14T08:43:34.923287Z"
    },
    "slideshow": {
     "slide_type": "skip"
    }
   },
   "outputs": [],
   "source": [
    "#private modules \n",
    "\n",
    "#utils\n",
    "from src.utils import memory_usage\n",
    "from src.utils import quick_setup\n",
    "quick_setup.get_libs(local=True)\n",
    "\n",
    "#data\n",
    "from src.data import make_dataset\n",
    "\n",
    "#models\n",
    "from src.models import train_model\n",
    "from src.models import evaluation\n",
    "from src.models import rank_cv\n",
    "from src.models import meta_model\n",
    "from src.models import neutralize\n",
    "\n",
    "\n",
    "#validation\n",
    "from src.validation import combinatorial_split\n",
    "from src.validation import group_ts_split\n",
    "from src.validation import metrics_era\n",
    "from src.validation import metrics\n",
    "from src.validation import metrics_description\n",
    "from src.validation import dsr\n",
    "from src.validation import models_dict\n",
    "\n",
    "#visualization\n",
    "from src.visualization import visualize\n",
    "\n",
    "\n",
    "#sklearn\n",
    "from sklearn.model_selection import GroupKFold\n",
    "from sklearn.preprocessing import MinMaxScaler\n",
    "\n",
    "#min cols\n",
    "min_cols = [\"Feat_exp_max\", 'Validation_SD', 'corr_with_example_preds']\n"
   ]
  },
  {
   "cell_type": "code",
   "execution_count": null,
   "metadata": {
    "ExecuteTime": {
     "end_time": "2021-01-14T08:42:37.753262Z",
     "start_time": "2021-01-14T08:42:36.973Z"
    },
    "slideshow": {
     "slide_type": "skip"
    }
   },
   "outputs": [],
   "source": [
    "#checando versoes para evitar conflitos\n",
    "import xgboost as xgb\n",
    "print(\"xgb version:\", xgb.__version__)\n",
    "\n",
    "import lightgbm as lgbm\n",
    "print(\"lgbm version:\", lgbm.__version__)\n",
    "\n",
    "import sklearn\n",
    "print(\"sklearn version:\", sklearn.__version__)\n",
    "\n",
    "import catboost\n",
    "print(\"catboost version:\", catboost.__version__)"
   ]
  },
  {
   "cell_type": "code",
   "execution_count": 4,
   "metadata": {
    "ExecuteTime": {
     "end_time": "2021-01-14T08:42:37.936481Z",
     "start_time": "2021-01-14T08:42:37.881221Z"
    },
    "slideshow": {
     "slide_type": "skip"
    }
   },
   "outputs": [],
   "source": [
    "#private class (tentar treinar com a classe da pasta [no colab] a o inves de colar local)\n",
    "from sklearn.base import BaseEstimator, RegressorMixin\n",
    "\n",
    "from xgboost import XGBRanker\n",
    "class MyXGBRanker(XGBRanker, BaseEstimator, RegressorMixin):\n",
    "    def fit(self, x, y):\n",
    "        cdf = x.groupby('era').agg(['count'])\n",
    "        group = cdf[cdf.columns[0]].values\n",
    "        return super().fit(x[features], y, group=group)\n",
    "\n",
    "    def predict(self, x):\n",
    "        return super().predict(x[features])"
   ]
  },
  {
   "cell_type": "markdown",
   "metadata": {
    "slideshow": {
     "slide_type": "skip"
    }
   },
   "source": [
    "#### Training"
   ]
  },
  {
   "cell_type": "code",
   "execution_count": 62,
   "metadata": {
    "ExecuteTime": {
     "end_time": "2021-01-13T05:05:40.456045Z",
     "start_time": "2021-01-13T05:05:31.280268Z"
    },
    "slideshow": {
     "slide_type": "skip"
    }
   },
   "outputs": [
    {
     "name": "stdout",
     "output_type": "stream",
     "text": [
      "<class 'pandas.core.frame.DataFrame'>\n",
      "RangeIndex: 501808 entries, 0 to 501807\n",
      "Columns: 314 entries, id to target\n",
      "dtypes: float32(311), int32(1), object(2)\n",
      "memory usage: 604.9+ MB\n",
      "None\n",
      "CPU times: user 1.17 s, sys: 1.92 s, total: 3.09 s\n",
      "Wall time: 9.03 s\n"
     ]
    }
   ],
   "source": [
    "%%time\n",
    "df_training,features,target = make_dataset.get_data(nrows=None,\n",
    "                                                    low_memory=False, \n",
    "                                                    dataset=\"training\", \n",
    "                                                    feather=True) #false on AWS/colab"
   ]
  },
  {
   "cell_type": "markdown",
   "metadata": {
    "slideshow": {
     "slide_type": "skip"
    }
   },
   "source": [
    "#### Validation"
   ]
  },
  {
   "cell_type": "code",
   "execution_count": 9,
   "metadata": {
    "ExecuteTime": {
     "end_time": "2021-01-14T08:43:41.927266Z",
     "start_time": "2021-01-14T08:43:39.640965Z"
    },
    "slideshow": {
     "slide_type": "skip"
    }
   },
   "outputs": [
    {
     "name": "stdout",
     "output_type": "stream",
     "text": [
      "<class 'pandas.core.frame.DataFrame'>\n",
      "RangeIndex: 137779 entries, 0 to 137778\n",
      "Columns: 314 entries, id to target\n",
      "dtypes: float32(311), int32(1), object(2)\n",
      "memory usage: 166.1+ MB\n",
      "None\n",
      "CPU times: user 251 ms, sys: 538 ms, total: 789 ms\n",
      "Wall time: 2.22 s\n"
     ]
    }
   ],
   "source": [
    "%%time\n",
    "df_validation,features,target = make_dataset.get_data(nrows=None,\n",
    "                                                    low_memory=False, \n",
    "                                                    dataset=\"validation\", \n",
    "                                                    feather=True)"
   ]
  },
  {
   "cell_type": "markdown",
   "metadata": {
    "slideshow": {
     "slide_type": "skip"
    }
   },
   "source": [
    "# Continuação"
   ]
  },
  {
   "cell_type": "markdown",
   "metadata": {
    "slideshow": {
     "slide_type": "slide"
    }
   },
   "source": [
    "## Revisando Métricas\n",
    "\n",
    "Quais métricas otimizamos direta ou indiretamente?\n",
    "\n",
    "<img src=\"https://github.com/nicholasrichers/dissertacao/blob/master/references/figures/cap3/diag_rio.png?raw=true\" width=200 />\n"
   ]
  },
  {
   "cell_type": "markdown",
   "metadata": {
    "slideshow": {
     "slide_type": "subslide"
    }
   },
   "source": [
    "### (MAX) Feature exposure (por era)\n",
    "\n",
    "* Feature mais correlacionada com as predições $(fe\\_max)$ gerada pelo modelo (por era)\n",
    "\n",
    "$$fe\\_max = \\frac{\\sum_{era=1}^{120} fe\\_max_{era}}{120}$$"
   ]
  },
  {
   "cell_type": "markdown",
   "metadata": {
    "slideshow": {
     "slide_type": "fragment"
    }
   },
   "source": [
    "#### Relembrando Cap3 (Performance de uma feature)\n",
    "\n",
    "<img src=\"https://github.com/nicholasrichers/dissertacao/blob/master/references/figures/cap3/mm10_strenght34.png?raw=true\" width=300 />\n",
    "\n",
    "\n"
   ]
  },
  {
   "cell_type": "markdown",
   "metadata": {
    "slideshow": {
     "slide_type": "fragment"
    }
   },
   "source": [
    "#### Regularização\n",
    "\n",
    "* Podemos controlar a exposição as features a partir do parâmetro de regularização ($\\alpha$) que é encontrado no modelo **Ridge** e também nos modelos de árvore.\n",
    "* Existem outras formas de regularização como o **Dropout** em Redes Neurais."
   ]
  },
  {
   "cell_type": "markdown",
   "metadata": {
    "ExecuteTime": {
     "end_time": "2020-12-07T21:49:25.707579Z",
     "start_time": "2020-12-07T21:49:25.648696Z"
    },
    "slideshow": {
     "slide_type": "subslide"
    }
   },
   "source": [
    "### Feature Neutral Mean (Neutralization/Residualization)"
   ]
  },
  {
   "cell_type": "markdown",
   "metadata": {
    "slideshow": {
     "slide_type": "fragment"
    }
   },
   "source": [
    "#### A residualização é uma aplicação do Teorema de Frisch-Waugh-Lovell (1933)\n",
    "\n",
    "\n",
    "* O Teorema FWL fornce uma expressão fechada para obter um subconjunto do vetor de coeficientes de uma regressão múltipla (Greene 2003). \n",
    "\n",
    "\n",
    "* Para dois conjuntos de variáveis, X1 e X2 o subconjunto de coeficientes ($b_2$) é obtido quando os resíduos da regressão de y em X1 são **regredidos no conjunto de resíduos** obtidos quando cada coluna de X2 é regredida em X1 (Greene 2003)."
   ]
  },
  {
   "cell_type": "markdown",
   "metadata": {
    "slideshow": {
     "slide_type": "fragment"
    }
   },
   "source": [
    "#### Regressão em 2 passos\n",
    "\n",
    "1. Regressão de y em $X_1$: $M_{X1}y$ é o resíduo\n",
    "2. Regressão de $X_2$ em $X_1$: $M_{X1}X_2$ é o resíduo\n",
    "\n",
    "- Temos que:\n",
    "\n",
    "$$M_{X1}y = M_{X1}X_2 \\cdot \\widehat{\\beta_2} + \\widehat{\\mu}$$\n",
    "\n",
    "\n",
    "\n",
    "* $M_{XI}y$ : Tudo de y que não foi explicado por $X_1$, mas pode ser explicado por $X_2$\n",
    "* $M_{XI}X_2$ : Tudo de $X_2$ que não está sendo explicado por $X_1$\n",
    "\n",
    "* O Teorema FWL prova que $\\widehat{\\beta_2}$ é igual a $b_2$\n",
    "\n",
    "\n",
    "*Fonte: GREENE, W.H. Econometric Analysis. 5th  ed. New York, NY, PearsonEducation, 2003*"
   ]
  },
  {
   "cell_type": "markdown",
   "metadata": {
    "slideshow": {
     "slide_type": "subslide"
    }
   },
   "source": [
    "### Aplicando ao nosso problema\n",
    "\n",
    "\n",
    "* A Neutralização é um método de subtrair a contribuição de outro vetor numérico, enquanto mantém a **informação original**. \n",
    "\n",
    "* Iremos neutralizar a propria previsao feita pelo modelo, por um modelo linear treinado sobre as previsões. O residuo resultante será ortogonal a um OLS.\n",
    "\n",
    "\n",
    "$$score\\_neutro = scores - prop \\cdot exp \\cdot (exp^{\\dagger } \\cdot scores)$$\n",
    "\n",
    "\n",
    "\n",
    "* $exp^{\\dagger }$ é a pseudo inversa de $exp$\n",
    "* $ exp^{\\dagger } \\cdot scores = \\beta$ (OLS)\n",
    "* $prop$ entre $[0,1]$\n"
   ]
  },
  {
   "cell_type": "code",
   "execution_count": 66,
   "metadata": {
    "ExecuteTime": {
     "end_time": "2021-01-13T05:09:22.541290Z",
     "start_time": "2021-01-13T05:09:22.471424Z"
    },
    "slideshow": {
     "slide_type": "skip"
    }
   },
   "outputs": [],
   "source": [
    "def neutralize_series(series, by, proportion=1.0):\n",
    "    scores = series.values.reshape(-1, 1)\n",
    "    exposures = by.values.reshape(-1, 1)\n",
    "    exposures = np.hstack((exposures, np.array([np.mean(series)] * len(exposures)).reshape(-1, 1)))\n",
    "    correction = proportion * (exposures.dot(np.linalg.lstsq(exposures, scores,rcond=None)[0]))\n",
    "    corrected_scores = scores - correction\n",
    "    neutralized = pd.Series(corrected_scores.ravel(), index=series.index)\n",
    "    return neutralized"
   ]
  },
  {
   "cell_type": "markdown",
   "metadata": {
    "slideshow": {
     "slide_type": "fragment"
    }
   },
   "source": [
    "#### Neutralizando feature_strength34 e, relação ao target\n",
    "\n",
    "* Note que após a neutralização a feature se tornou ortogonal ao target\n",
    "* Contudo possui correlação próxima a 1, anes da neutralização"
   ]
  },
  {
   "cell_type": "code",
   "execution_count": 68,
   "metadata": {
    "ExecuteTime": {
     "end_time": "2021-01-13T05:09:24.859656Z",
     "start_time": "2021-01-13T05:09:24.670811Z"
    },
    "slideshow": {
     "slide_type": "skip"
    }
   },
   "outputs": [],
   "source": [
    "f1     = df_training[\"feature_strength34\"]\n",
    "f1_nt  = neutralize_series(f1, df_training[\"target\"])"
   ]
  },
  {
   "cell_type": "code",
   "execution_count": 72,
   "metadata": {
    "ExecuteTime": {
     "end_time": "2021-01-13T05:13:26.930787Z",
     "start_time": "2021-01-13T05:13:26.818586Z"
    },
    "slideshow": {
     "slide_type": "fragment"
    }
   },
   "outputs": [
    {
     "name": "stdout",
     "output_type": "stream",
     "text": [
      "Corr fs_34 & target:              0.012310288017607295\n",
      "Corr fs_34 100% neutr. & target:  1.7673754128672442e-08\n",
      "Corr fs_34 & fs_34 100% neutr.:   0.999924225751144\n"
     ]
    }
   ],
   "source": [
    "print(\"Corr fs_34 & target:             \", np.corrcoef(f1, df_training[\"target\"])[0, 1])   \n",
    "print(\"Corr fs_34 100% neutr. & target: \", np.corrcoef(f1_nt, df_training[\"target\"])[0, 1])\n",
    "print(\"Corr fs_34 & fs_34 100% neutr.:  \", np.corrcoef(f1, f1_nt)[0, 1])"
   ]
  },
  {
   "cell_type": "markdown",
   "metadata": {
    "slideshow": {
     "slide_type": "fragment"
    }
   },
   "source": [
    "#### A neutralização ajuda a mitigar o feature exposure, mas elas não sao a mesma coisa\n",
    "\n",
    "* Feature exposure é uma métrica que mede a dissimilaridade das correlações entre as features\n",
    "\n",
    "* Feature Neutralization é uma operação que remove a correlação entre as features"
   ]
  },
  {
   "cell_type": "markdown",
   "metadata": {
    "slideshow": {
     "slide_type": "fragment"
    }
   },
   "source": [
    "#### Sobre as métricas\n",
    "\n",
    "* Feature neutral mean (neutralizado pelo OLS das predicoes)\n",
    "\n",
    "* MMC Mean  (neutralizado pelo meta modelo da numerai) (proxy ex_preds)"
   ]
  },
  {
   "cell_type": "markdown",
   "metadata": {
    "slideshow": {
     "slide_type": "subslide"
    }
   },
   "source": [
    "## Comparativo com e sem FN\n",
    "\n",
    "* Atualizamos o modelos Medellin (lgbm_exp20) e o lgbm_slider20 de forma a considerar todas as eras"
   ]
  },
  {
   "cell_type": "markdown",
   "metadata": {
    "slideshow": {
     "slide_type": "fragment"
    }
   },
   "source": [
    "#### Sem FN (0 %)"
   ]
  },
  {
   "cell_type": "code",
   "execution_count": 233,
   "metadata": {
    "ExecuteTime": {
     "end_time": "2021-01-14T05:53:46.723294Z",
     "start_time": "2021-01-14T05:49:25.935759Z"
    },
    "slideshow": {
     "slide_type": "skip"
    }
   },
   "outputs": [
    {
     "name": "stdout",
     "output_type": "stream",
     "text": [
      "FN =  0.0\n",
      "creating predictions to: nr__rio\n",
      "creating predictions to: nr__sao_paulo\n",
      "creating predictions to: lgbm_exp20\n",
      "creating predictions to: lgbm_slider20\n",
      "creating predictions to: ex_preds\n",
      "CPU times: user 4min 17s, sys: 30.5 s, total: 4min 47s\n",
      "Wall time: 4min 20s\n"
     ]
    }
   ],
   "source": [
    "%%time\n",
    "path = '../../reports/predicoes_validacao/raw/'\n",
    "models_nr = ['ex_preds','nr__rio', 'nr__sao_paulo', 'lgbm_exp20', 'lgbm_slider20']\n",
    "\n",
    "preds_nr, feat_corrs_nr = dict(), dict()\n",
    "era_scores_nr, df_metrics_nr = dict(), dict()\n",
    "\n",
    "\n",
    "from sklearn.linear_model import LinearRegression\n",
    "ml_model = LinearRegression(fit_intercept=False)\n",
    "\n",
    "FN=0.0\n",
    "print(\"FN = \", FN)\n",
    "\n",
    "for model in models_nr:\n",
    "    \n",
    "    #predicoes val1 & val2\n",
    "    print(\"creating predictions to:\", model)\n",
    "    df_validation['preds'] =  pd.read_csv(path+model+'_preds_test.csv', index_col='id').values.reshape(1,-1)[0]\n",
    "\n",
    "    #preds neutralized after\n",
    "    preds_nr[model] = neutralize.preds_neutralized(df_validation, ['preds'], features, ml_model, FN)\n",
    "    \n",
    "\n",
    "    #salvando as metricas\n",
    "    if model =='ex_preds': mmc=False\n",
    "    else: mmc=True\n",
    "    era_scores_nr[model], df_metrics_nr[model], feat_corrs_nr[model], ex_preds = \\\n",
    "                        metrics.submission_metrics(df_validation, preds_nr[model], model, mmc)   \n",
    "\n",
    "\n",
    "#dict to dataframe\n",
    "df_preds_nr = pd.DataFrame.from_dict(preds_nr)\n",
    "df_era_scores_nr = pd.DataFrame.from_dict(era_scores_nr)\n",
    "df_feat_corrs_nr = pd.DataFrame.from_dict(feat_corrs_nr)\n",
    "df_metrics_cons_nr = metrics.metrics_consolidated(df_metrics_nr)"
   ]
  },
  {
   "cell_type": "code",
   "execution_count": 17,
   "metadata": {
    "ExecuteTime": {
     "end_time": "2021-01-11T20:06:28.102491Z",
     "start_time": "2021-01-11T20:06:27.866408Z"
    },
    "slideshow": {
     "slide_type": "fragment"
    }
   },
   "outputs": [
    {
     "data": {
      "text/html": [
       "<style  type=\"text/css\" >\n",
       "    #T_7d4284f0_5448_11eb_953f_8438355b82e0row0_col0 {\n",
       "            color:  black;\n",
       "            background-color:  yellow;\n",
       "        }    #T_7d4284f0_5448_11eb_953f_8438355b82e0row0_col1 {\n",
       "            color:  black;\n",
       "            : ;\n",
       "        }    #T_7d4284f0_5448_11eb_953f_8438355b82e0row0_col2 {\n",
       "            color:  black;\n",
       "            : ;\n",
       "        }    #T_7d4284f0_5448_11eb_953f_8438355b82e0row0_col3 {\n",
       "            color:  black;\n",
       "            : ;\n",
       "        }    #T_7d4284f0_5448_11eb_953f_8438355b82e0row0_col4 {\n",
       "            color:  black;\n",
       "            : ;\n",
       "        }    #T_7d4284f0_5448_11eb_953f_8438355b82e0row1_col0 {\n",
       "            color:  darkgreen;\n",
       "            background-color:  yellow;\n",
       "        }    #T_7d4284f0_5448_11eb_953f_8438355b82e0row1_col1 {\n",
       "            color:  darkgreen;\n",
       "            : ;\n",
       "        }    #T_7d4284f0_5448_11eb_953f_8438355b82e0row1_col2 {\n",
       "            color:  darkgreen;\n",
       "            : ;\n",
       "        }    #T_7d4284f0_5448_11eb_953f_8438355b82e0row1_col3 {\n",
       "            color:  darkgreen;\n",
       "            : ;\n",
       "        }    #T_7d4284f0_5448_11eb_953f_8438355b82e0row1_col4 {\n",
       "            color:  darkgreen;\n",
       "            : ;\n",
       "        }    #T_7d4284f0_5448_11eb_953f_8438355b82e0row2_col0 {\n",
       "            color:  lime;\n",
       "            background-color:  yellow;\n",
       "        }    #T_7d4284f0_5448_11eb_953f_8438355b82e0row2_col1 {\n",
       "            color:  darkgreen;\n",
       "            : ;\n",
       "        }    #T_7d4284f0_5448_11eb_953f_8438355b82e0row2_col2 {\n",
       "            color:  darkgreen;\n",
       "            : ;\n",
       "        }    #T_7d4284f0_5448_11eb_953f_8438355b82e0row2_col3 {\n",
       "            color:  darkgreen;\n",
       "            : ;\n",
       "        }    #T_7d4284f0_5448_11eb_953f_8438355b82e0row2_col4 {\n",
       "            color:  darkgreen;\n",
       "            : ;\n",
       "        }    #T_7d4284f0_5448_11eb_953f_8438355b82e0row3_col0 {\n",
       "            color:  red;\n",
       "            : ;\n",
       "        }    #T_7d4284f0_5448_11eb_953f_8438355b82e0row3_col1 {\n",
       "            color:  red;\n",
       "            : ;\n",
       "        }    #T_7d4284f0_5448_11eb_953f_8438355b82e0row3_col2 {\n",
       "            color:  red;\n",
       "            : ;\n",
       "        }    #T_7d4284f0_5448_11eb_953f_8438355b82e0row3_col3 {\n",
       "            color:  red;\n",
       "            : ;\n",
       "        }    #T_7d4284f0_5448_11eb_953f_8438355b82e0row3_col4 {\n",
       "            color:  red;\n",
       "            background-color:  yellow;\n",
       "        }    #T_7d4284f0_5448_11eb_953f_8438355b82e0row4_col0 {\n",
       "            color:  black;\n",
       "            : ;\n",
       "        }    #T_7d4284f0_5448_11eb_953f_8438355b82e0row4_col1 {\n",
       "            color:  black;\n",
       "            background-color:  yellow;\n",
       "        }    #T_7d4284f0_5448_11eb_953f_8438355b82e0row4_col2 {\n",
       "            color:  red;\n",
       "            : ;\n",
       "        }    #T_7d4284f0_5448_11eb_953f_8438355b82e0row4_col3 {\n",
       "            color:  black;\n",
       "            : ;\n",
       "        }    #T_7d4284f0_5448_11eb_953f_8438355b82e0row4_col4 {\n",
       "            color:  black;\n",
       "            : ;\n",
       "        }    #T_7d4284f0_5448_11eb_953f_8438355b82e0row5_col0 {\n",
       "            color:  black;\n",
       "            background-color:  yellow;\n",
       "        }    #T_7d4284f0_5448_11eb_953f_8438355b82e0row5_col1 {\n",
       "            color:  red;\n",
       "            : ;\n",
       "        }    #T_7d4284f0_5448_11eb_953f_8438355b82e0row5_col2 {\n",
       "            color:  red;\n",
       "            : ;\n",
       "        }    #T_7d4284f0_5448_11eb_953f_8438355b82e0row5_col3 {\n",
       "            color:  red;\n",
       "            : ;\n",
       "        }    #T_7d4284f0_5448_11eb_953f_8438355b82e0row5_col4 {\n",
       "            color:  black;\n",
       "            : ;\n",
       "        }    #T_7d4284f0_5448_11eb_953f_8438355b82e0row6_col0 {\n",
       "            color:  black;\n",
       "            background-color:  yellow;\n",
       "        }    #T_7d4284f0_5448_11eb_953f_8438355b82e0row6_col1 {\n",
       "            color:  black;\n",
       "            : ;\n",
       "        }    #T_7d4284f0_5448_11eb_953f_8438355b82e0row6_col2 {\n",
       "            color:  black;\n",
       "            : ;\n",
       "        }    #T_7d4284f0_5448_11eb_953f_8438355b82e0row6_col3 {\n",
       "            color:  black;\n",
       "            : ;\n",
       "        }    #T_7d4284f0_5448_11eb_953f_8438355b82e0row6_col4 {\n",
       "            color:  black;\n",
       "            : ;\n",
       "        }    #T_7d4284f0_5448_11eb_953f_8438355b82e0row7_col0 {\n",
       "            color:  black;\n",
       "            : ;\n",
       "        }    #T_7d4284f0_5448_11eb_953f_8438355b82e0row7_col1 {\n",
       "            color:  black;\n",
       "            background-color:  yellow;\n",
       "        }    #T_7d4284f0_5448_11eb_953f_8438355b82e0row7_col2 {\n",
       "            color:  black;\n",
       "            : ;\n",
       "        }    #T_7d4284f0_5448_11eb_953f_8438355b82e0row7_col3 {\n",
       "            color:  black;\n",
       "            : ;\n",
       "        }    #T_7d4284f0_5448_11eb_953f_8438355b82e0row7_col4 {\n",
       "            color:  black;\n",
       "            : ;\n",
       "        }    #T_7d4284f0_5448_11eb_953f_8438355b82e0row8_col0 {\n",
       "            color:  red;\n",
       "            : ;\n",
       "        }    #T_7d4284f0_5448_11eb_953f_8438355b82e0row8_col1 {\n",
       "            color:  red;\n",
       "            : ;\n",
       "        }    #T_7d4284f0_5448_11eb_953f_8438355b82e0row8_col2 {\n",
       "            color:  red;\n",
       "            : ;\n",
       "        }    #T_7d4284f0_5448_11eb_953f_8438355b82e0row8_col3 {\n",
       "            color:  red;\n",
       "            background-color:  yellow;\n",
       "        }    #T_7d4284f0_5448_11eb_953f_8438355b82e0row8_col4 {\n",
       "            color:  red;\n",
       "            : ;\n",
       "        }</style><table id=\"T_7d4284f0_5448_11eb_953f_8438355b82e0\" ><thead>    <tr>        <th class=\"blank level0\" ></th>        <th class=\"col_heading level0 col0\" >ex_preds</th>        <th class=\"col_heading level0 col1\" >NR_Rio</th>        <th class=\"col_heading level0 col2\" >NR_Sao_Paulo</th>        <th class=\"col_heading level0 col3\" >lgbm_exp20</th>        <th class=\"col_heading level0 col4\" >lgbm_slider20</th>    </tr>    <tr>        <th class=\"index_name level0\" >Metrica</th>        <th class=\"blank\" ></th>        <th class=\"blank\" ></th>        <th class=\"blank\" ></th>        <th class=\"blank\" ></th>        <th class=\"blank\" ></th>    </tr></thead><tbody>\n",
       "                <tr>\n",
       "                        <th id=\"T_7d4284f0_5448_11eb_953f_8438355b82e0level0_row0\" class=\"row_heading level0 row0\" >Validation_Sharpe</th>\n",
       "                        <td id=\"T_7d4284f0_5448_11eb_953f_8438355b82e0row0_col0\" class=\"data row0 col0\" >0.9757</td>\n",
       "                        <td id=\"T_7d4284f0_5448_11eb_953f_8438355b82e0row0_col1\" class=\"data row0 col1\" >0.9500</td>\n",
       "                        <td id=\"T_7d4284f0_5448_11eb_953f_8438355b82e0row0_col2\" class=\"data row0 col2\" >0.8757</td>\n",
       "                        <td id=\"T_7d4284f0_5448_11eb_953f_8438355b82e0row0_col3\" class=\"data row0 col3\" >0.9209</td>\n",
       "                        <td id=\"T_7d4284f0_5448_11eb_953f_8438355b82e0row0_col4\" class=\"data row0 col4\" >0.9678</td>\n",
       "            </tr>\n",
       "            <tr>\n",
       "                        <th id=\"T_7d4284f0_5448_11eb_953f_8438355b82e0level0_row1\" class=\"row_heading level0 row1\" >Validation_Mean</th>\n",
       "                        <td id=\"T_7d4284f0_5448_11eb_953f_8438355b82e0row1_col0\" class=\"data row1 col0\" >0.0266</td>\n",
       "                        <td id=\"T_7d4284f0_5448_11eb_953f_8438355b82e0row1_col1\" class=\"data row1 col1\" >0.0264</td>\n",
       "                        <td id=\"T_7d4284f0_5448_11eb_953f_8438355b82e0row1_col2\" class=\"data row1 col2\" >0.0245</td>\n",
       "                        <td id=\"T_7d4284f0_5448_11eb_953f_8438355b82e0row1_col3\" class=\"data row1 col3\" >0.0244</td>\n",
       "                        <td id=\"T_7d4284f0_5448_11eb_953f_8438355b82e0row1_col4\" class=\"data row1 col4\" >0.0256</td>\n",
       "            </tr>\n",
       "            <tr>\n",
       "                        <th id=\"T_7d4284f0_5448_11eb_953f_8438355b82e0level0_row2\" class=\"row_heading level0 row2\" >Feat_neutral_mean</th>\n",
       "                        <td id=\"T_7d4284f0_5448_11eb_953f_8438355b82e0row2_col0\" class=\"data row2 col0\" >0.0215</td>\n",
       "                        <td id=\"T_7d4284f0_5448_11eb_953f_8438355b82e0row2_col1\" class=\"data row2 col1\" >0.0206</td>\n",
       "                        <td id=\"T_7d4284f0_5448_11eb_953f_8438355b82e0row2_col2\" class=\"data row2 col2\" >0.0183</td>\n",
       "                        <td id=\"T_7d4284f0_5448_11eb_953f_8438355b82e0row2_col3\" class=\"data row2 col3\" >0.0182</td>\n",
       "                        <td id=\"T_7d4284f0_5448_11eb_953f_8438355b82e0row2_col4\" class=\"data row2 col4\" >0.0187</td>\n",
       "            </tr>\n",
       "            <tr>\n",
       "                        <th id=\"T_7d4284f0_5448_11eb_953f_8438355b82e0level0_row3\" class=\"row_heading level0 row3\" >Validation_SD</th>\n",
       "                        <td id=\"T_7d4284f0_5448_11eb_953f_8438355b82e0row3_col0\" class=\"data row3 col0\" >0.0272</td>\n",
       "                        <td id=\"T_7d4284f0_5448_11eb_953f_8438355b82e0row3_col1\" class=\"data row3 col1\" >0.0278</td>\n",
       "                        <td id=\"T_7d4284f0_5448_11eb_953f_8438355b82e0row3_col2\" class=\"data row3 col2\" >0.0280</td>\n",
       "                        <td id=\"T_7d4284f0_5448_11eb_953f_8438355b82e0row3_col3\" class=\"data row3 col3\" >0.0265</td>\n",
       "                        <td id=\"T_7d4284f0_5448_11eb_953f_8438355b82e0row3_col4\" class=\"data row3 col4\" >0.0264</td>\n",
       "            </tr>\n",
       "            <tr>\n",
       "                        <th id=\"T_7d4284f0_5448_11eb_953f_8438355b82e0level0_row4\" class=\"row_heading level0 row4\" >Feat_exp_max</th>\n",
       "                        <td id=\"T_7d4284f0_5448_11eb_953f_8438355b82e0row4_col0\" class=\"data row4 col0\" >0.2694</td>\n",
       "                        <td id=\"T_7d4284f0_5448_11eb_953f_8438355b82e0row4_col1\" class=\"data row4 col1\" >0.2601</td>\n",
       "                        <td id=\"T_7d4284f0_5448_11eb_953f_8438355b82e0row4_col2\" class=\"data row4 col2\" >0.2928</td>\n",
       "                        <td id=\"T_7d4284f0_5448_11eb_953f_8438355b82e0row4_col3\" class=\"data row4 col3\" >0.2642</td>\n",
       "                        <td id=\"T_7d4284f0_5448_11eb_953f_8438355b82e0row4_col4\" class=\"data row4 col4\" >0.2651</td>\n",
       "            </tr>\n",
       "            <tr>\n",
       "                        <th id=\"T_7d4284f0_5448_11eb_953f_8438355b82e0level0_row5\" class=\"row_heading level0 row5\" >Max_Drawdown</th>\n",
       "                        <td id=\"T_7d4284f0_5448_11eb_953f_8438355b82e0row5_col0\" class=\"data row5 col0\" >-0.0651</td>\n",
       "                        <td id=\"T_7d4284f0_5448_11eb_953f_8438355b82e0row5_col1\" class=\"data row5 col1\" >-0.0867</td>\n",
       "                        <td id=\"T_7d4284f0_5448_11eb_953f_8438355b82e0row5_col2\" class=\"data row5 col2\" >-0.0859</td>\n",
       "                        <td id=\"T_7d4284f0_5448_11eb_953f_8438355b82e0row5_col3\" class=\"data row5 col3\" >-0.0995</td>\n",
       "                        <td id=\"T_7d4284f0_5448_11eb_953f_8438355b82e0row5_col4\" class=\"data row5 col4\" >-0.0703</td>\n",
       "            </tr>\n",
       "            <tr>\n",
       "                        <th id=\"T_7d4284f0_5448_11eb_953f_8438355b82e0level0_row6\" class=\"row_heading level0 row6\" >corr_plus_mmc_sharpe</th>\n",
       "                        <td id=\"T_7d4284f0_5448_11eb_953f_8438355b82e0row6_col0\" class=\"data row6 col0\" >0.9757</td>\n",
       "                        <td id=\"T_7d4284f0_5448_11eb_953f_8438355b82e0row6_col1\" class=\"data row6 col1\" >0.8973</td>\n",
       "                        <td id=\"T_7d4284f0_5448_11eb_953f_8438355b82e0row6_col2\" class=\"data row6 col2\" >0.7949</td>\n",
       "                        <td id=\"T_7d4284f0_5448_11eb_953f_8438355b82e0row6_col3\" class=\"data row6 col3\" >0.8359</td>\n",
       "                        <td id=\"T_7d4284f0_5448_11eb_953f_8438355b82e0row6_col4\" class=\"data row6 col4\" >0.9121</td>\n",
       "            </tr>\n",
       "            <tr>\n",
       "                        <th id=\"T_7d4284f0_5448_11eb_953f_8438355b82e0level0_row7\" class=\"row_heading level0 row7\" >val_mmc_mean</th>\n",
       "                        <td id=\"T_7d4284f0_5448_11eb_953f_8438355b82e0row7_col0\" class=\"data row7 col0\" >0.0000</td>\n",
       "                        <td id=\"T_7d4284f0_5448_11eb_953f_8438355b82e0row7_col1\" class=\"data row7 col1\" >0.0017</td>\n",
       "                        <td id=\"T_7d4284f0_5448_11eb_953f_8438355b82e0row7_col2\" class=\"data row7 col2\" >-0.0008</td>\n",
       "                        <td id=\"T_7d4284f0_5448_11eb_953f_8438355b82e0row7_col3\" class=\"data row7 col3\" >0.0010</td>\n",
       "                        <td id=\"T_7d4284f0_5448_11eb_953f_8438355b82e0row7_col4\" class=\"data row7 col4\" >0.0014</td>\n",
       "            </tr>\n",
       "            <tr>\n",
       "                        <th id=\"T_7d4284f0_5448_11eb_953f_8438355b82e0level0_row8\" class=\"row_heading level0 row8\" >corr_with_example_preds</th>\n",
       "                        <td id=\"T_7d4284f0_5448_11eb_953f_8438355b82e0row8_col0\" class=\"data row8 col0\" >1.0000</td>\n",
       "                        <td id=\"T_7d4284f0_5448_11eb_953f_8438355b82e0row8_col1\" class=\"data row8 col1\" >0.9088</td>\n",
       "                        <td id=\"T_7d4284f0_5448_11eb_953f_8438355b82e0row8_col2\" class=\"data row8 col2\" >0.9630</td>\n",
       "                        <td id=\"T_7d4284f0_5448_11eb_953f_8438355b82e0row8_col3\" class=\"data row8 col3\" >0.8687</td>\n",
       "                        <td id=\"T_7d4284f0_5448_11eb_953f_8438355b82e0row8_col4\" class=\"data row8 col4\" >0.8942</td>\n",
       "            </tr>\n",
       "    </tbody></table>"
      ],
      "text/plain": [
       "<pandas.io.formats.style.Styler at 0x7ffb976746a0>"
      ]
     },
     "execution_count": 17,
     "metadata": {},
     "output_type": "execute_result"
    }
   ],
   "source": [
    "#print(\"Menor é melhor:\", min_cols)\n",
    "leaderboard_nr = df_metrics_cons_nr[df_metrics_cons_nr.Categoria.isin([\"Performance\", \"Risk\", \"MMC\"])].loc[:,models_nr[0:]]\n",
    "leaderboard_nr.astype(float).style.apply(visualize.diagnostic_colors).apply(visualize.highlight_max, axis = 1)"
   ]
  },
  {
   "cell_type": "code",
   "execution_count": 205,
   "metadata": {
    "ExecuteTime": {
     "end_time": "2021-01-13T17:42:58.167613Z",
     "start_time": "2021-01-13T17:42:57.909883Z"
    }
   },
   "outputs": [
    {
     "data": {
      "application/vnd.plotly.v1+json": {
       "config": {
        "linkText": "Export to plot.ly",
        "plotlyServerURL": "https://plot.ly",
        "showLink": false
       },
       "data": [
        {
         "marker": {
          "color": "#ff0000"
         },
         "name": "ex_preds",
         "type": "box",
         "y": [
          0.09934960206186132,
          0.08308792781703705,
          0.08424029670424951,
          0.08380992962496472,
          0.08523940499935508,
          0.08420673934936389,
          0.07875080781451221,
          0.08019752581254407,
          0.08577932842289114,
          0.08197461326565839,
          0.08251684500126892,
          0.08253443275406606,
          0.09874436378261536,
          0.09151156414266666,
          0.09024072754747027,
          0.09574006328805792,
          0.09499400078563662,
          0.09558751339435884,
          0.09051796434669405,
          0.09193197144209016,
          0.10430917175162158,
          0.10107941136503905,
          0.10844543654305482,
          0.10601600761110043,
          0.11923037331216275,
          0.12049050298191671,
          0.119803329912104,
          0.12952409455638844
         ]
        },
        {
         "marker": {
          "color": "#ffa700"
         },
         "name": "NR_Rio",
         "type": "box",
         "y": [
          0.08946273270610179,
          0.07648046610418589,
          0.07651260614627696,
          0.077589436612384,
          0.07797204191651709,
          0.07652681197681692,
          0.07202895558809293,
          0.07157318148661336,
          0.07651470038696666,
          0.0733872028420282,
          0.07436295808985431,
          0.07415919707647427,
          0.09208848840901197,
          0.08585096954397821,
          0.08457816937333357,
          0.08978957391404727,
          0.08673156081024182,
          0.08721799037658719,
          0.08239019490140735,
          0.08447761227940165,
          0.09557649056795435,
          0.09302566590972716,
          0.09657423086168028,
          0.09585557995207816,
          0.10530843090848502,
          0.10511436719182737,
          0.11555860657391653,
          0.12281769596851258
         ]
        },
        {
         "marker": {
          "color": "#afff00"
         },
         "name": "NR_Sao_Paulo",
         "type": "box",
         "y": [
          0.10289340671575017,
          0.08787033889800903,
          0.08880923743257671,
          0.08883198710012154,
          0.091966314969189,
          0.09029040754113755,
          0.08551357989115668,
          0.08473465643840923,
          0.08969033829087353,
          0.08618184572477511,
          0.08726523361732638,
          0.08759200370939019,
          0.10517948436137745,
          0.09816532709462748,
          0.09624610887802246,
          0.10175876527818728,
          0.09947385523526152,
          0.10056993797685343,
          0.09606928985932375,
          0.09790943336290998,
          0.10895206838802589,
          0.10759043373951481,
          0.10982955706130033,
          0.10866653756397007,
          0.12061827976134952,
          0.12200675978510653,
          0.12429753890045225,
          0.13258301557235153
         ]
        },
        {
         "marker": {
          "color": "#08ff00"
         },
         "name": "lgbm_exp20",
         "type": "box",
         "y": [
          0.08061482359879012,
          0.06897825867124655,
          0.06968584590125826,
          0.071602730167585,
          0.06979040381188277,
          0.07069164966659604,
          0.06745723324061405,
          0.0641418637324123,
          0.06860056768240104,
          0.06712747423823112,
          0.06716951008653348,
          0.066086999119308,
          0.08627120093468678,
          0.08081660814415598,
          0.08082094776549122,
          0.0859774950945794,
          0.07991740873437321,
          0.08020565020003416,
          0.07452601039510964,
          0.07695437350561316,
          0.09030450052516407,
          0.08842433185881587,
          0.09303857371306377,
          0.09358065019827645,
          0.1042698987436512,
          0.09892851258192858,
          0.11262819965495043,
          0.11949175063665858
         ]
        },
        {
         "marker": {
          "color": "#00ff9f"
         },
         "name": "lgbm_slider20",
         "type": "box",
         "y": [
          0.08774022974980873,
          0.07549644705315242,
          0.07677823808328964,
          0.07689797119499238,
          0.07653355851011798,
          0.07701521605430861,
          0.07124488749091647,
          0.07060591899909481,
          0.07435475954628487,
          0.07271819523322114,
          0.07393960553641846,
          0.07253782160211043,
          0.09146765112837772,
          0.0844390928158964,
          0.08518811532542207,
          0.08940445775537643,
          0.08660462609817741,
          0.08653007639724658,
          0.08084308980421029,
          0.08287562310184954,
          0.09444300769439667,
          0.09322020612925988,
          0.0973412438771915,
          0.09508057101611504,
          0.10755589040716305,
          0.10533898817551482,
          0.11230513490535364,
          0.11793192260655526
         ]
        }
       ],
       "layout": {
        "paper_bgcolor": "rgb(243, 243, 243)",
        "plot_bgcolor": "rgb(243, 243, 243)",
        "template": {
         "data": {
          "bar": [
           {
            "error_x": {
             "color": "#2a3f5f"
            },
            "error_y": {
             "color": "#2a3f5f"
            },
            "marker": {
             "line": {
              "color": "#E5ECF6",
              "width": 0.5
             }
            },
            "type": "bar"
           }
          ],
          "barpolar": [
           {
            "marker": {
             "line": {
              "color": "#E5ECF6",
              "width": 0.5
             }
            },
            "type": "barpolar"
           }
          ],
          "carpet": [
           {
            "aaxis": {
             "endlinecolor": "#2a3f5f",
             "gridcolor": "white",
             "linecolor": "white",
             "minorgridcolor": "white",
             "startlinecolor": "#2a3f5f"
            },
            "baxis": {
             "endlinecolor": "#2a3f5f",
             "gridcolor": "white",
             "linecolor": "white",
             "minorgridcolor": "white",
             "startlinecolor": "#2a3f5f"
            },
            "type": "carpet"
           }
          ],
          "choropleth": [
           {
            "colorbar": {
             "outlinewidth": 0,
             "ticks": ""
            },
            "type": "choropleth"
           }
          ],
          "contour": [
           {
            "colorbar": {
             "outlinewidth": 0,
             "ticks": ""
            },
            "colorscale": [
             [
              0,
              "#0d0887"
             ],
             [
              0.1111111111111111,
              "#46039f"
             ],
             [
              0.2222222222222222,
              "#7201a8"
             ],
             [
              0.3333333333333333,
              "#9c179e"
             ],
             [
              0.4444444444444444,
              "#bd3786"
             ],
             [
              0.5555555555555556,
              "#d8576b"
             ],
             [
              0.6666666666666666,
              "#ed7953"
             ],
             [
              0.7777777777777778,
              "#fb9f3a"
             ],
             [
              0.8888888888888888,
              "#fdca26"
             ],
             [
              1,
              "#f0f921"
             ]
            ],
            "type": "contour"
           }
          ],
          "contourcarpet": [
           {
            "colorbar": {
             "outlinewidth": 0,
             "ticks": ""
            },
            "type": "contourcarpet"
           }
          ],
          "heatmap": [
           {
            "colorbar": {
             "outlinewidth": 0,
             "ticks": ""
            },
            "colorscale": [
             [
              0,
              "#0d0887"
             ],
             [
              0.1111111111111111,
              "#46039f"
             ],
             [
              0.2222222222222222,
              "#7201a8"
             ],
             [
              0.3333333333333333,
              "#9c179e"
             ],
             [
              0.4444444444444444,
              "#bd3786"
             ],
             [
              0.5555555555555556,
              "#d8576b"
             ],
             [
              0.6666666666666666,
              "#ed7953"
             ],
             [
              0.7777777777777778,
              "#fb9f3a"
             ],
             [
              0.8888888888888888,
              "#fdca26"
             ],
             [
              1,
              "#f0f921"
             ]
            ],
            "type": "heatmap"
           }
          ],
          "heatmapgl": [
           {
            "colorbar": {
             "outlinewidth": 0,
             "ticks": ""
            },
            "colorscale": [
             [
              0,
              "#0d0887"
             ],
             [
              0.1111111111111111,
              "#46039f"
             ],
             [
              0.2222222222222222,
              "#7201a8"
             ],
             [
              0.3333333333333333,
              "#9c179e"
             ],
             [
              0.4444444444444444,
              "#bd3786"
             ],
             [
              0.5555555555555556,
              "#d8576b"
             ],
             [
              0.6666666666666666,
              "#ed7953"
             ],
             [
              0.7777777777777778,
              "#fb9f3a"
             ],
             [
              0.8888888888888888,
              "#fdca26"
             ],
             [
              1,
              "#f0f921"
             ]
            ],
            "type": "heatmapgl"
           }
          ],
          "histogram": [
           {
            "marker": {
             "colorbar": {
              "outlinewidth": 0,
              "ticks": ""
             }
            },
            "type": "histogram"
           }
          ],
          "histogram2d": [
           {
            "colorbar": {
             "outlinewidth": 0,
             "ticks": ""
            },
            "colorscale": [
             [
              0,
              "#0d0887"
             ],
             [
              0.1111111111111111,
              "#46039f"
             ],
             [
              0.2222222222222222,
              "#7201a8"
             ],
             [
              0.3333333333333333,
              "#9c179e"
             ],
             [
              0.4444444444444444,
              "#bd3786"
             ],
             [
              0.5555555555555556,
              "#d8576b"
             ],
             [
              0.6666666666666666,
              "#ed7953"
             ],
             [
              0.7777777777777778,
              "#fb9f3a"
             ],
             [
              0.8888888888888888,
              "#fdca26"
             ],
             [
              1,
              "#f0f921"
             ]
            ],
            "type": "histogram2d"
           }
          ],
          "histogram2dcontour": [
           {
            "colorbar": {
             "outlinewidth": 0,
             "ticks": ""
            },
            "colorscale": [
             [
              0,
              "#0d0887"
             ],
             [
              0.1111111111111111,
              "#46039f"
             ],
             [
              0.2222222222222222,
              "#7201a8"
             ],
             [
              0.3333333333333333,
              "#9c179e"
             ],
             [
              0.4444444444444444,
              "#bd3786"
             ],
             [
              0.5555555555555556,
              "#d8576b"
             ],
             [
              0.6666666666666666,
              "#ed7953"
             ],
             [
              0.7777777777777778,
              "#fb9f3a"
             ],
             [
              0.8888888888888888,
              "#fdca26"
             ],
             [
              1,
              "#f0f921"
             ]
            ],
            "type": "histogram2dcontour"
           }
          ],
          "mesh3d": [
           {
            "colorbar": {
             "outlinewidth": 0,
             "ticks": ""
            },
            "type": "mesh3d"
           }
          ],
          "parcoords": [
           {
            "line": {
             "colorbar": {
              "outlinewidth": 0,
              "ticks": ""
             }
            },
            "type": "parcoords"
           }
          ],
          "pie": [
           {
            "automargin": true,
            "type": "pie"
           }
          ],
          "scatter": [
           {
            "marker": {
             "colorbar": {
              "outlinewidth": 0,
              "ticks": ""
             }
            },
            "type": "scatter"
           }
          ],
          "scatter3d": [
           {
            "line": {
             "colorbar": {
              "outlinewidth": 0,
              "ticks": ""
             }
            },
            "marker": {
             "colorbar": {
              "outlinewidth": 0,
              "ticks": ""
             }
            },
            "type": "scatter3d"
           }
          ],
          "scattercarpet": [
           {
            "marker": {
             "colorbar": {
              "outlinewidth": 0,
              "ticks": ""
             }
            },
            "type": "scattercarpet"
           }
          ],
          "scattergeo": [
           {
            "marker": {
             "colorbar": {
              "outlinewidth": 0,
              "ticks": ""
             }
            },
            "type": "scattergeo"
           }
          ],
          "scattergl": [
           {
            "marker": {
             "colorbar": {
              "outlinewidth": 0,
              "ticks": ""
             }
            },
            "type": "scattergl"
           }
          ],
          "scattermapbox": [
           {
            "marker": {
             "colorbar": {
              "outlinewidth": 0,
              "ticks": ""
             }
            },
            "type": "scattermapbox"
           }
          ],
          "scatterpolar": [
           {
            "marker": {
             "colorbar": {
              "outlinewidth": 0,
              "ticks": ""
             }
            },
            "type": "scatterpolar"
           }
          ],
          "scatterpolargl": [
           {
            "marker": {
             "colorbar": {
              "outlinewidth": 0,
              "ticks": ""
             }
            },
            "type": "scatterpolargl"
           }
          ],
          "scatterternary": [
           {
            "marker": {
             "colorbar": {
              "outlinewidth": 0,
              "ticks": ""
             }
            },
            "type": "scatterternary"
           }
          ],
          "surface": [
           {
            "colorbar": {
             "outlinewidth": 0,
             "ticks": ""
            },
            "colorscale": [
             [
              0,
              "#0d0887"
             ],
             [
              0.1111111111111111,
              "#46039f"
             ],
             [
              0.2222222222222222,
              "#7201a8"
             ],
             [
              0.3333333333333333,
              "#9c179e"
             ],
             [
              0.4444444444444444,
              "#bd3786"
             ],
             [
              0.5555555555555556,
              "#d8576b"
             ],
             [
              0.6666666666666666,
              "#ed7953"
             ],
             [
              0.7777777777777778,
              "#fb9f3a"
             ],
             [
              0.8888888888888888,
              "#fdca26"
             ],
             [
              1,
              "#f0f921"
             ]
            ],
            "type": "surface"
           }
          ],
          "table": [
           {
            "cells": {
             "fill": {
              "color": "#EBF0F8"
             },
             "line": {
              "color": "white"
             }
            },
            "header": {
             "fill": {
              "color": "#C8D4E3"
             },
             "line": {
              "color": "white"
             }
            },
            "type": "table"
           }
          ]
         },
         "layout": {
          "annotationdefaults": {
           "arrowcolor": "#2a3f5f",
           "arrowhead": 0,
           "arrowwidth": 1
          },
          "coloraxis": {
           "colorbar": {
            "outlinewidth": 0,
            "ticks": ""
           }
          },
          "colorscale": {
           "diverging": [
            [
             0,
             "#8e0152"
            ],
            [
             0.1,
             "#c51b7d"
            ],
            [
             0.2,
             "#de77ae"
            ],
            [
             0.3,
             "#f1b6da"
            ],
            [
             0.4,
             "#fde0ef"
            ],
            [
             0.5,
             "#f7f7f7"
            ],
            [
             0.6,
             "#e6f5d0"
            ],
            [
             0.7,
             "#b8e186"
            ],
            [
             0.8,
             "#7fbc41"
            ],
            [
             0.9,
             "#4d9221"
            ],
            [
             1,
             "#276419"
            ]
           ],
           "sequential": [
            [
             0,
             "#0d0887"
            ],
            [
             0.1111111111111111,
             "#46039f"
            ],
            [
             0.2222222222222222,
             "#7201a8"
            ],
            [
             0.3333333333333333,
             "#9c179e"
            ],
            [
             0.4444444444444444,
             "#bd3786"
            ],
            [
             0.5555555555555556,
             "#d8576b"
            ],
            [
             0.6666666666666666,
             "#ed7953"
            ],
            [
             0.7777777777777778,
             "#fb9f3a"
            ],
            [
             0.8888888888888888,
             "#fdca26"
            ],
            [
             1,
             "#f0f921"
            ]
           ],
           "sequentialminus": [
            [
             0,
             "#0d0887"
            ],
            [
             0.1111111111111111,
             "#46039f"
            ],
            [
             0.2222222222222222,
             "#7201a8"
            ],
            [
             0.3333333333333333,
             "#9c179e"
            ],
            [
             0.4444444444444444,
             "#bd3786"
            ],
            [
             0.5555555555555556,
             "#d8576b"
            ],
            [
             0.6666666666666666,
             "#ed7953"
            ],
            [
             0.7777777777777778,
             "#fb9f3a"
            ],
            [
             0.8888888888888888,
             "#fdca26"
            ],
            [
             1,
             "#f0f921"
            ]
           ]
          },
          "colorway": [
           "#636efa",
           "#EF553B",
           "#00cc96",
           "#ab63fa",
           "#FFA15A",
           "#19d3f3",
           "#FF6692",
           "#B6E880",
           "#FF97FF",
           "#FECB52"
          ],
          "font": {
           "color": "#2a3f5f"
          },
          "geo": {
           "bgcolor": "white",
           "lakecolor": "white",
           "landcolor": "#E5ECF6",
           "showlakes": true,
           "showland": true,
           "subunitcolor": "white"
          },
          "hoverlabel": {
           "align": "left"
          },
          "hovermode": "closest",
          "mapbox": {
           "style": "light"
          },
          "paper_bgcolor": "white",
          "plot_bgcolor": "#E5ECF6",
          "polar": {
           "angularaxis": {
            "gridcolor": "white",
            "linecolor": "white",
            "ticks": ""
           },
           "bgcolor": "#E5ECF6",
           "radialaxis": {
            "gridcolor": "white",
            "linecolor": "white",
            "ticks": ""
           }
          },
          "scene": {
           "xaxis": {
            "backgroundcolor": "#E5ECF6",
            "gridcolor": "white",
            "gridwidth": 2,
            "linecolor": "white",
            "showbackground": true,
            "ticks": "",
            "zerolinecolor": "white"
           },
           "yaxis": {
            "backgroundcolor": "#E5ECF6",
            "gridcolor": "white",
            "gridwidth": 2,
            "linecolor": "white",
            "showbackground": true,
            "ticks": "",
            "zerolinecolor": "white"
           },
           "zaxis": {
            "backgroundcolor": "#E5ECF6",
            "gridcolor": "white",
            "gridwidth": 2,
            "linecolor": "white",
            "showbackground": true,
            "ticks": "",
            "zerolinecolor": "white"
           }
          },
          "shapedefaults": {
           "line": {
            "color": "#2a3f5f"
           }
          },
          "ternary": {
           "aaxis": {
            "gridcolor": "white",
            "linecolor": "white",
            "ticks": ""
           },
           "baxis": {
            "gridcolor": "white",
            "linecolor": "white",
            "ticks": ""
           },
           "bgcolor": "#E5ECF6",
           "caxis": {
            "gridcolor": "white",
            "linecolor": "white",
            "ticks": ""
           }
          },
          "title": {
           "x": 0.05
          },
          "xaxis": {
           "automargin": true,
           "gridcolor": "white",
           "linecolor": "white",
           "ticks": "",
           "title": {
            "standoff": 15
           },
           "zerolinecolor": "white",
           "zerolinewidth": 2
          },
          "yaxis": {
           "automargin": true,
           "gridcolor": "white",
           "linecolor": "white",
           "ticks": "",
           "title": {
            "standoff": 15
           },
           "zerolinecolor": "white",
           "zerolinewidth": 2
          }
         }
        },
        "title": {
         "font": {
          "color": "#7f7f7f",
          "family": "Arial",
          "size": 22
         },
         "text": "Correlação das features com o Target"
        },
        "xaxis": {
         "title": {
          "text": "Models"
         }
        },
        "yaxis": {
         "title": {
          "text": "Feat_corr w/ target"
         }
        }
       }
      },
      "text/html": [
       "<div>                            <div id=\"f5e1e83b-7252-479c-a498-e01377922503\" class=\"plotly-graph-div\" style=\"height:525px; width:100%;\"></div>            <script type=\"text/javascript\">                require([\"plotly\"], function(Plotly) {                    window.PLOTLYENV=window.PLOTLYENV || {};                                    if (document.getElementById(\"f5e1e83b-7252-479c-a498-e01377922503\")) {                    Plotly.newPlot(                        \"f5e1e83b-7252-479c-a498-e01377922503\",                        [{\"marker\": {\"color\": \"#ff0000\"}, \"name\": \"ex_preds\", \"type\": \"box\", \"y\": [0.09934960206186132, 0.08308792781703705, 0.08424029670424951, 0.08380992962496472, 0.08523940499935508, 0.08420673934936389, 0.07875080781451221, 0.08019752581254407, 0.08577932842289114, 0.08197461326565839, 0.08251684500126892, 0.08253443275406606, 0.09874436378261536, 0.09151156414266666, 0.09024072754747027, 0.09574006328805792, 0.09499400078563662, 0.09558751339435884, 0.09051796434669405, 0.09193197144209016, 0.10430917175162158, 0.10107941136503905, 0.10844543654305482, 0.10601600761110043, 0.11923037331216275, 0.12049050298191671, 0.119803329912104, 0.12952409455638844]}, {\"marker\": {\"color\": \"#ffa700\"}, \"name\": \"NR_Rio\", \"type\": \"box\", \"y\": [0.08946273270610179, 0.07648046610418589, 0.07651260614627696, 0.077589436612384, 0.07797204191651709, 0.07652681197681692, 0.07202895558809293, 0.07157318148661336, 0.07651470038696666, 0.0733872028420282, 0.07436295808985431, 0.07415919707647427, 0.09208848840901197, 0.08585096954397821, 0.08457816937333357, 0.08978957391404727, 0.08673156081024182, 0.08721799037658719, 0.08239019490140735, 0.08447761227940165, 0.09557649056795435, 0.09302566590972716, 0.09657423086168028, 0.09585557995207816, 0.10530843090848502, 0.10511436719182737, 0.11555860657391653, 0.12281769596851258]}, {\"marker\": {\"color\": \"#afff00\"}, \"name\": \"NR_Sao_Paulo\", \"type\": \"box\", \"y\": [0.10289340671575017, 0.08787033889800903, 0.08880923743257671, 0.08883198710012154, 0.091966314969189, 0.09029040754113755, 0.08551357989115668, 0.08473465643840923, 0.08969033829087353, 0.08618184572477511, 0.08726523361732638, 0.08759200370939019, 0.10517948436137745, 0.09816532709462748, 0.09624610887802246, 0.10175876527818728, 0.09947385523526152, 0.10056993797685343, 0.09606928985932375, 0.09790943336290998, 0.10895206838802589, 0.10759043373951481, 0.10982955706130033, 0.10866653756397007, 0.12061827976134952, 0.12200675978510653, 0.12429753890045225, 0.13258301557235153]}, {\"marker\": {\"color\": \"#08ff00\"}, \"name\": \"lgbm_exp20\", \"type\": \"box\", \"y\": [0.08061482359879012, 0.06897825867124655, 0.06968584590125826, 0.071602730167585, 0.06979040381188277, 0.07069164966659604, 0.06745723324061405, 0.0641418637324123, 0.06860056768240104, 0.06712747423823112, 0.06716951008653348, 0.066086999119308, 0.08627120093468678, 0.08081660814415598, 0.08082094776549122, 0.0859774950945794, 0.07991740873437321, 0.08020565020003416, 0.07452601039510964, 0.07695437350561316, 0.09030450052516407, 0.08842433185881587, 0.09303857371306377, 0.09358065019827645, 0.1042698987436512, 0.09892851258192858, 0.11262819965495043, 0.11949175063665858]}, {\"marker\": {\"color\": \"#00ff9f\"}, \"name\": \"lgbm_slider20\", \"type\": \"box\", \"y\": [0.08774022974980873, 0.07549644705315242, 0.07677823808328964, 0.07689797119499238, 0.07653355851011798, 0.07701521605430861, 0.07124488749091647, 0.07060591899909481, 0.07435475954628487, 0.07271819523322114, 0.07393960553641846, 0.07253782160211043, 0.09146765112837772, 0.0844390928158964, 0.08518811532542207, 0.08940445775537643, 0.08660462609817741, 0.08653007639724658, 0.08084308980421029, 0.08287562310184954, 0.09444300769439667, 0.09322020612925988, 0.0973412438771915, 0.09508057101611504, 0.10755589040716305, 0.10533898817551482, 0.11230513490535364, 0.11793192260655526]}],                        {\"paper_bgcolor\": \"rgb(243, 243, 243)\", \"plot_bgcolor\": \"rgb(243, 243, 243)\", \"template\": {\"data\": {\"bar\": [{\"error_x\": {\"color\": \"#2a3f5f\"}, \"error_y\": {\"color\": \"#2a3f5f\"}, \"marker\": {\"line\": {\"color\": \"#E5ECF6\", \"width\": 0.5}}, \"type\": \"bar\"}], \"barpolar\": [{\"marker\": {\"line\": {\"color\": \"#E5ECF6\", \"width\": 0.5}}, \"type\": \"barpolar\"}], \"carpet\": [{\"aaxis\": {\"endlinecolor\": \"#2a3f5f\", \"gridcolor\": \"white\", \"linecolor\": \"white\", \"minorgridcolor\": \"white\", \"startlinecolor\": \"#2a3f5f\"}, \"baxis\": {\"endlinecolor\": \"#2a3f5f\", \"gridcolor\": \"white\", \"linecolor\": \"white\", \"minorgridcolor\": \"white\", \"startlinecolor\": \"#2a3f5f\"}, \"type\": \"carpet\"}], \"choropleth\": [{\"colorbar\": {\"outlinewidth\": 0, \"ticks\": \"\"}, \"type\": \"choropleth\"}], \"contour\": [{\"colorbar\": {\"outlinewidth\": 0, \"ticks\": \"\"}, \"colorscale\": [[0.0, \"#0d0887\"], [0.1111111111111111, \"#46039f\"], [0.2222222222222222, \"#7201a8\"], [0.3333333333333333, \"#9c179e\"], [0.4444444444444444, \"#bd3786\"], [0.5555555555555556, \"#d8576b\"], [0.6666666666666666, \"#ed7953\"], [0.7777777777777778, \"#fb9f3a\"], [0.8888888888888888, \"#fdca26\"], [1.0, \"#f0f921\"]], \"type\": \"contour\"}], \"contourcarpet\": [{\"colorbar\": {\"outlinewidth\": 0, \"ticks\": \"\"}, \"type\": \"contourcarpet\"}], \"heatmap\": [{\"colorbar\": {\"outlinewidth\": 0, \"ticks\": \"\"}, \"colorscale\": [[0.0, \"#0d0887\"], [0.1111111111111111, \"#46039f\"], [0.2222222222222222, \"#7201a8\"], [0.3333333333333333, \"#9c179e\"], [0.4444444444444444, \"#bd3786\"], [0.5555555555555556, \"#d8576b\"], [0.6666666666666666, \"#ed7953\"], [0.7777777777777778, \"#fb9f3a\"], [0.8888888888888888, \"#fdca26\"], [1.0, \"#f0f921\"]], \"type\": \"heatmap\"}], \"heatmapgl\": [{\"colorbar\": {\"outlinewidth\": 0, \"ticks\": \"\"}, \"colorscale\": [[0.0, \"#0d0887\"], [0.1111111111111111, \"#46039f\"], [0.2222222222222222, \"#7201a8\"], [0.3333333333333333, \"#9c179e\"], [0.4444444444444444, \"#bd3786\"], [0.5555555555555556, \"#d8576b\"], [0.6666666666666666, \"#ed7953\"], [0.7777777777777778, \"#fb9f3a\"], [0.8888888888888888, \"#fdca26\"], [1.0, \"#f0f921\"]], \"type\": \"heatmapgl\"}], \"histogram\": [{\"marker\": {\"colorbar\": {\"outlinewidth\": 0, \"ticks\": \"\"}}, \"type\": \"histogram\"}], \"histogram2d\": [{\"colorbar\": {\"outlinewidth\": 0, \"ticks\": \"\"}, \"colorscale\": [[0.0, \"#0d0887\"], [0.1111111111111111, \"#46039f\"], [0.2222222222222222, \"#7201a8\"], [0.3333333333333333, \"#9c179e\"], [0.4444444444444444, \"#bd3786\"], [0.5555555555555556, \"#d8576b\"], [0.6666666666666666, \"#ed7953\"], [0.7777777777777778, \"#fb9f3a\"], [0.8888888888888888, \"#fdca26\"], [1.0, \"#f0f921\"]], \"type\": \"histogram2d\"}], \"histogram2dcontour\": [{\"colorbar\": {\"outlinewidth\": 0, \"ticks\": \"\"}, \"colorscale\": [[0.0, \"#0d0887\"], [0.1111111111111111, \"#46039f\"], [0.2222222222222222, \"#7201a8\"], [0.3333333333333333, \"#9c179e\"], [0.4444444444444444, \"#bd3786\"], [0.5555555555555556, \"#d8576b\"], [0.6666666666666666, \"#ed7953\"], [0.7777777777777778, \"#fb9f3a\"], [0.8888888888888888, \"#fdca26\"], [1.0, \"#f0f921\"]], \"type\": \"histogram2dcontour\"}], \"mesh3d\": [{\"colorbar\": {\"outlinewidth\": 0, \"ticks\": \"\"}, \"type\": \"mesh3d\"}], \"parcoords\": [{\"line\": {\"colorbar\": {\"outlinewidth\": 0, \"ticks\": \"\"}}, \"type\": \"parcoords\"}], \"pie\": [{\"automargin\": true, \"type\": \"pie\"}], \"scatter\": [{\"marker\": {\"colorbar\": {\"outlinewidth\": 0, \"ticks\": \"\"}}, \"type\": \"scatter\"}], \"scatter3d\": [{\"line\": {\"colorbar\": {\"outlinewidth\": 0, \"ticks\": \"\"}}, \"marker\": {\"colorbar\": {\"outlinewidth\": 0, \"ticks\": \"\"}}, \"type\": \"scatter3d\"}], \"scattercarpet\": [{\"marker\": {\"colorbar\": {\"outlinewidth\": 0, \"ticks\": \"\"}}, \"type\": \"scattercarpet\"}], \"scattergeo\": [{\"marker\": {\"colorbar\": {\"outlinewidth\": 0, \"ticks\": \"\"}}, \"type\": \"scattergeo\"}], \"scattergl\": [{\"marker\": {\"colorbar\": {\"outlinewidth\": 0, \"ticks\": \"\"}}, \"type\": \"scattergl\"}], \"scattermapbox\": [{\"marker\": {\"colorbar\": {\"outlinewidth\": 0, \"ticks\": \"\"}}, \"type\": \"scattermapbox\"}], \"scatterpolar\": [{\"marker\": {\"colorbar\": {\"outlinewidth\": 0, \"ticks\": \"\"}}, \"type\": \"scatterpolar\"}], \"scatterpolargl\": [{\"marker\": {\"colorbar\": {\"outlinewidth\": 0, \"ticks\": \"\"}}, \"type\": \"scatterpolargl\"}], \"scatterternary\": [{\"marker\": {\"colorbar\": {\"outlinewidth\": 0, \"ticks\": \"\"}}, \"type\": \"scatterternary\"}], \"surface\": [{\"colorbar\": {\"outlinewidth\": 0, \"ticks\": \"\"}, \"colorscale\": [[0.0, \"#0d0887\"], [0.1111111111111111, \"#46039f\"], [0.2222222222222222, \"#7201a8\"], [0.3333333333333333, \"#9c179e\"], [0.4444444444444444, \"#bd3786\"], [0.5555555555555556, \"#d8576b\"], [0.6666666666666666, \"#ed7953\"], [0.7777777777777778, \"#fb9f3a\"], [0.8888888888888888, \"#fdca26\"], [1.0, \"#f0f921\"]], \"type\": \"surface\"}], \"table\": [{\"cells\": {\"fill\": {\"color\": \"#EBF0F8\"}, \"line\": {\"color\": \"white\"}}, \"header\": {\"fill\": {\"color\": \"#C8D4E3\"}, \"line\": {\"color\": \"white\"}}, \"type\": \"table\"}]}, \"layout\": {\"annotationdefaults\": {\"arrowcolor\": \"#2a3f5f\", \"arrowhead\": 0, \"arrowwidth\": 1}, \"coloraxis\": {\"colorbar\": {\"outlinewidth\": 0, \"ticks\": \"\"}}, \"colorscale\": {\"diverging\": [[0, \"#8e0152\"], [0.1, \"#c51b7d\"], [0.2, \"#de77ae\"], [0.3, \"#f1b6da\"], [0.4, \"#fde0ef\"], [0.5, \"#f7f7f7\"], [0.6, \"#e6f5d0\"], [0.7, \"#b8e186\"], [0.8, \"#7fbc41\"], [0.9, \"#4d9221\"], [1, \"#276419\"]], \"sequential\": [[0.0, \"#0d0887\"], [0.1111111111111111, \"#46039f\"], [0.2222222222222222, \"#7201a8\"], [0.3333333333333333, \"#9c179e\"], [0.4444444444444444, \"#bd3786\"], [0.5555555555555556, \"#d8576b\"], [0.6666666666666666, \"#ed7953\"], [0.7777777777777778, \"#fb9f3a\"], [0.8888888888888888, \"#fdca26\"], [1.0, \"#f0f921\"]], \"sequentialminus\": [[0.0, \"#0d0887\"], [0.1111111111111111, \"#46039f\"], [0.2222222222222222, \"#7201a8\"], [0.3333333333333333, \"#9c179e\"], [0.4444444444444444, \"#bd3786\"], [0.5555555555555556, \"#d8576b\"], [0.6666666666666666, \"#ed7953\"], [0.7777777777777778, \"#fb9f3a\"], [0.8888888888888888, \"#fdca26\"], [1.0, \"#f0f921\"]]}, \"colorway\": [\"#636efa\", \"#EF553B\", \"#00cc96\", \"#ab63fa\", \"#FFA15A\", \"#19d3f3\", \"#FF6692\", \"#B6E880\", \"#FF97FF\", \"#FECB52\"], \"font\": {\"color\": \"#2a3f5f\"}, \"geo\": {\"bgcolor\": \"white\", \"lakecolor\": \"white\", \"landcolor\": \"#E5ECF6\", \"showlakes\": true, \"showland\": true, \"subunitcolor\": \"white\"}, \"hoverlabel\": {\"align\": \"left\"}, \"hovermode\": \"closest\", \"mapbox\": {\"style\": \"light\"}, \"paper_bgcolor\": \"white\", \"plot_bgcolor\": \"#E5ECF6\", \"polar\": {\"angularaxis\": {\"gridcolor\": \"white\", \"linecolor\": \"white\", \"ticks\": \"\"}, \"bgcolor\": \"#E5ECF6\", \"radialaxis\": {\"gridcolor\": \"white\", \"linecolor\": \"white\", \"ticks\": \"\"}}, \"scene\": {\"xaxis\": {\"backgroundcolor\": \"#E5ECF6\", \"gridcolor\": \"white\", \"gridwidth\": 2, \"linecolor\": \"white\", \"showbackground\": true, \"ticks\": \"\", \"zerolinecolor\": \"white\"}, \"yaxis\": {\"backgroundcolor\": \"#E5ECF6\", \"gridcolor\": \"white\", \"gridwidth\": 2, \"linecolor\": \"white\", \"showbackground\": true, \"ticks\": \"\", \"zerolinecolor\": \"white\"}, \"zaxis\": {\"backgroundcolor\": \"#E5ECF6\", \"gridcolor\": \"white\", \"gridwidth\": 2, \"linecolor\": \"white\", \"showbackground\": true, \"ticks\": \"\", \"zerolinecolor\": \"white\"}}, \"shapedefaults\": {\"line\": {\"color\": \"#2a3f5f\"}}, \"ternary\": {\"aaxis\": {\"gridcolor\": \"white\", \"linecolor\": \"white\", \"ticks\": \"\"}, \"baxis\": {\"gridcolor\": \"white\", \"linecolor\": \"white\", \"ticks\": \"\"}, \"bgcolor\": \"#E5ECF6\", \"caxis\": {\"gridcolor\": \"white\", \"linecolor\": \"white\", \"ticks\": \"\"}}, \"title\": {\"x\": 0.05}, \"xaxis\": {\"automargin\": true, \"gridcolor\": \"white\", \"linecolor\": \"white\", \"ticks\": \"\", \"title\": {\"standoff\": 15}, \"zerolinecolor\": \"white\", \"zerolinewidth\": 2}, \"yaxis\": {\"automargin\": true, \"gridcolor\": \"white\", \"linecolor\": \"white\", \"ticks\": \"\", \"title\": {\"standoff\": 15}, \"zerolinecolor\": \"white\", \"zerolinewidth\": 2}}}, \"title\": {\"font\": {\"color\": \"#7f7f7f\", \"family\": \"Arial\", \"size\": 22}, \"text\": \"Correla\\u00e7\\u00e3o das features com o Target\"}, \"xaxis\": {\"title\": {\"text\": \"Models\"}}, \"yaxis\": {\"title\": {\"text\": \"Feat_corr w/ target\"}}},                        {\"responsive\": true}                    ).then(function(){\n",
       "                            \n",
       "var gd = document.getElementById('f5e1e83b-7252-479c-a498-e01377922503');\n",
       "var x = new MutationObserver(function (mutations, observer) {{\n",
       "        var display = window.getComputedStyle(gd).display;\n",
       "        if (!display || display === 'none') {{\n",
       "            console.log([gd, 'removed!']);\n",
       "            Plotly.purge(gd);\n",
       "            observer.disconnect();\n",
       "        }}\n",
       "}});\n",
       "\n",
       "// Listen for the removal of the full notebook cells\n",
       "var notebookContainer = gd.closest('#notebook-container');\n",
       "if (notebookContainer) {{\n",
       "    x.observe(notebookContainer, {childList: true});\n",
       "}}\n",
       "\n",
       "// Listen for the clearing of the current output cell\n",
       "var outputEl = gd.closest('.output');\n",
       "if (outputEl) {{\n",
       "    x.observe(outputEl, {childList: true});\n",
       "}}\n",
       "\n",
       "                        })                };                });            </script>        </div>"
      ]
     },
     "metadata": {},
     "output_type": "display_data"
    }
   ],
   "source": [
    "visualize.plot_feat_cors(df_feat_corrs_nr, models_nr)"
   ]
  },
  {
   "cell_type": "markdown",
   "metadata": {
    "slideshow": {
     "slide_type": "subslide"
    }
   },
   "source": [
    "#### Com FN (100 %)\n",
    "\n",
    "* Os modelos são mais estáveis"
   ]
  },
  {
   "cell_type": "code",
   "execution_count": 241,
   "metadata": {
    "ExecuteTime": {
     "end_time": "2021-01-14T06:19:28.516288Z",
     "start_time": "2021-01-14T06:15:36.496353Z"
    },
    "slideshow": {
     "slide_type": "skip"
    }
   },
   "outputs": [
    {
     "name": "stdout",
     "output_type": "stream",
     "text": [
      "FN =  1.0\n",
      "creating predictions to: ex_preds\n",
      "creating predictions to: nr__rio\n",
      "creating predictions to: nr__sao_paulo\n",
      "creating predictions to: lgbm_exp20\n",
      "creating predictions to: lgbm_slider20\n",
      "CPU times: user 4min 13s, sys: 28.2 s, total: 4min 41s\n",
      "Wall time: 3min 51s\n"
     ]
    }
   ],
   "source": [
    "%%time\n",
    "path = '../../reports/predicoes_validacao/raw/'\n",
    "models_nr = ['ex_preds','nr__rio', 'nr__sao_paulo', 'lgbm_exp20', 'lgbm_slider20']\n",
    "\n",
    "preds_nr, feat_corrs_nr = dict(), dict()\n",
    "era_scores_nr, df_metrics_nr = dict(), dict()\n",
    "\n",
    "\n",
    "from sklearn.linear_model import LinearRegression\n",
    "ml_model = LinearRegression(fit_intercept=False)\n",
    "\n",
    "FN=1.0\n",
    "print(\"FN = \", FN)\n",
    "\n",
    "for model in models_nr:\n",
    "    \n",
    "    #predicoes val1 & val2\n",
    "    print(\"creating predictions to:\", model)\n",
    "    df_validation['preds'] =  pd.read_csv(path+model+'_preds_test.csv', index_col='id').values.reshape(1,-1)[0]\n",
    "\n",
    "    #preds neutralized after\n",
    "    preds_nr[model] = neutralize.preds_neutralized(df_validation, ['preds'], features, ml_model, FN)\n",
    "    \n",
    "\n",
    "    #salvando as metricas\n",
    "    if model =='ex_preds': mmc=False\n",
    "    else: mmc=True\n",
    "    era_scores_nr[model], df_metrics_nr[model], feat_corrs_nr[model], ex_preds = \\\n",
    "                        metrics.submission_metrics(df_validation, preds_nr[model], model, mmc)   \n",
    "\n",
    "\n",
    "#dict to dataframe\n",
    "df_preds_nr = pd.DataFrame.from_dict(preds_nr)\n",
    "df_era_scores_nr = pd.DataFrame.from_dict(era_scores_nr)\n",
    "df_feat_corrs_nr = pd.DataFrame.from_dict(feat_corrs_nr)\n",
    "df_metrics_cons_nr = metrics.metrics_consolidated(df_metrics_nr)"
   ]
  },
  {
   "cell_type": "code",
   "execution_count": 235,
   "metadata": {
    "ExecuteTime": {
     "end_time": "2021-01-14T06:10:56.869180Z",
     "start_time": "2021-01-14T06:10:56.672725Z"
    }
   },
   "outputs": [
    {
     "data": {
      "text/html": [
       "<style  type=\"text/css\" >\n",
       "    #T_43f3ea66_562f_11eb_953f_8438355b82e0row0_col0 {\n",
       "            color:  black;\n",
       "            : ;\n",
       "        }    #T_43f3ea66_562f_11eb_953f_8438355b82e0row0_col1 {\n",
       "            color:  lime;\n",
       "            : ;\n",
       "        }    #T_43f3ea66_562f_11eb_953f_8438355b82e0row0_col2 {\n",
       "            color:  darkgreen;\n",
       "            : ;\n",
       "        }    #T_43f3ea66_562f_11eb_953f_8438355b82e0row0_col3 {\n",
       "            color:  black;\n",
       "            : ;\n",
       "        }    #T_43f3ea66_562f_11eb_953f_8438355b82e0row0_col4 {\n",
       "            color:  lime;\n",
       "            background-color:  yellow;\n",
       "        }    #T_43f3ea66_562f_11eb_953f_8438355b82e0row1_col0 {\n",
       "            color:  darkgreen;\n",
       "            background-color:  yellow;\n",
       "        }    #T_43f3ea66_562f_11eb_953f_8438355b82e0row1_col1 {\n",
       "            color:  black;\n",
       "            : ;\n",
       "        }    #T_43f3ea66_562f_11eb_953f_8438355b82e0row1_col2 {\n",
       "            color:  black;\n",
       "            : ;\n",
       "        }    #T_43f3ea66_562f_11eb_953f_8438355b82e0row1_col3 {\n",
       "            color:  black;\n",
       "            : ;\n",
       "        }    #T_43f3ea66_562f_11eb_953f_8438355b82e0row1_col4 {\n",
       "            color:  black;\n",
       "            : ;\n",
       "        }    #T_43f3ea66_562f_11eb_953f_8438355b82e0row2_col0 {\n",
       "            color:  lime;\n",
       "            : ;\n",
       "        }    #T_43f3ea66_562f_11eb_953f_8438355b82e0row2_col1 {\n",
       "            color:  lime;\n",
       "            background-color:  yellow;\n",
       "        }    #T_43f3ea66_562f_11eb_953f_8438355b82e0row2_col2 {\n",
       "            color:  darkgreen;\n",
       "            : ;\n",
       "        }    #T_43f3ea66_562f_11eb_953f_8438355b82e0row2_col3 {\n",
       "            color:  darkgreen;\n",
       "            : ;\n",
       "        }    #T_43f3ea66_562f_11eb_953f_8438355b82e0row2_col4 {\n",
       "            color:  darkgreen;\n",
       "            : ;\n",
       "        }    #T_43f3ea66_562f_11eb_953f_8438355b82e0row3_col0 {\n",
       "            color:  red;\n",
       "            : ;\n",
       "        }    #T_43f3ea66_562f_11eb_953f_8438355b82e0row3_col1 {\n",
       "            color:  darkgreen;\n",
       "            : ;\n",
       "        }    #T_43f3ea66_562f_11eb_953f_8438355b82e0row3_col2 {\n",
       "            color:  darkgreen;\n",
       "            : ;\n",
       "        }    #T_43f3ea66_562f_11eb_953f_8438355b82e0row3_col3 {\n",
       "            color:  darkgreen;\n",
       "            : ;\n",
       "        }    #T_43f3ea66_562f_11eb_953f_8438355b82e0row3_col4 {\n",
       "            color:  lime;\n",
       "            background-color:  yellow;\n",
       "        }    #T_43f3ea66_562f_11eb_953f_8438355b82e0row4_col0 {\n",
       "            color:  black;\n",
       "            : ;\n",
       "        }    #T_43f3ea66_562f_11eb_953f_8438355b82e0row4_col1 {\n",
       "            color:  lime;\n",
       "            : ;\n",
       "        }    #T_43f3ea66_562f_11eb_953f_8438355b82e0row4_col2 {\n",
       "            color:  lime;\n",
       "            : ;\n",
       "        }    #T_43f3ea66_562f_11eb_953f_8438355b82e0row4_col3 {\n",
       "            color:  lime;\n",
       "            background-color:  yellow;\n",
       "        }    #T_43f3ea66_562f_11eb_953f_8438355b82e0row4_col4 {\n",
       "            color:  lime;\n",
       "            : ;\n",
       "        }    #T_43f3ea66_562f_11eb_953f_8438355b82e0row5_col0 {\n",
       "            color:  black;\n",
       "            : ;\n",
       "        }    #T_43f3ea66_562f_11eb_953f_8438355b82e0row5_col1 {\n",
       "            color:  darkgreen;\n",
       "            : ;\n",
       "        }    #T_43f3ea66_562f_11eb_953f_8438355b82e0row5_col2 {\n",
       "            color:  darkgreen;\n",
       "            : ;\n",
       "        }    #T_43f3ea66_562f_11eb_953f_8438355b82e0row5_col3 {\n",
       "            color:  darkgreen;\n",
       "            : ;\n",
       "        }    #T_43f3ea66_562f_11eb_953f_8438355b82e0row5_col4 {\n",
       "            color:  lime;\n",
       "            background-color:  yellow;\n",
       "        }    #T_43f3ea66_562f_11eb_953f_8438355b82e0row6_col0 {\n",
       "            color:  black;\n",
       "            : ;\n",
       "        }    #T_43f3ea66_562f_11eb_953f_8438355b82e0row6_col1 {\n",
       "            color:  black;\n",
       "            : ;\n",
       "        }    #T_43f3ea66_562f_11eb_953f_8438355b82e0row6_col2 {\n",
       "            color:  black;\n",
       "            : ;\n",
       "        }    #T_43f3ea66_562f_11eb_953f_8438355b82e0row6_col3 {\n",
       "            color:  black;\n",
       "            : ;\n",
       "        }    #T_43f3ea66_562f_11eb_953f_8438355b82e0row6_col4 {\n",
       "            color:  black;\n",
       "            background-color:  yellow;\n",
       "        }    #T_43f3ea66_562f_11eb_953f_8438355b82e0row7_col0 {\n",
       "            color:  black;\n",
       "            : ;\n",
       "        }    #T_43f3ea66_562f_11eb_953f_8438355b82e0row7_col1 {\n",
       "            color:  darkgreen;\n",
       "            background-color:  yellow;\n",
       "        }    #T_43f3ea66_562f_11eb_953f_8438355b82e0row7_col2 {\n",
       "            color:  darkgreen;\n",
       "            : ;\n",
       "        }    #T_43f3ea66_562f_11eb_953f_8438355b82e0row7_col3 {\n",
       "            color:  darkgreen;\n",
       "            : ;\n",
       "        }    #T_43f3ea66_562f_11eb_953f_8438355b82e0row7_col4 {\n",
       "            color:  darkgreen;\n",
       "            : ;\n",
       "        }    #T_43f3ea66_562f_11eb_953f_8438355b82e0row8_col0 {\n",
       "            color:  red;\n",
       "            : ;\n",
       "        }    #T_43f3ea66_562f_11eb_953f_8438355b82e0row8_col1 {\n",
       "            color:  darkgreen;\n",
       "            : ;\n",
       "        }    #T_43f3ea66_562f_11eb_953f_8438355b82e0row8_col2 {\n",
       "            color:  black;\n",
       "            : ;\n",
       "        }    #T_43f3ea66_562f_11eb_953f_8438355b82e0row8_col3 {\n",
       "            color:  darkgreen;\n",
       "            background-color:  yellow;\n",
       "        }    #T_43f3ea66_562f_11eb_953f_8438355b82e0row8_col4 {\n",
       "            color:  darkgreen;\n",
       "            : ;\n",
       "        }</style><table id=\"T_43f3ea66_562f_11eb_953f_8438355b82e0\" ><thead>    <tr>        <th class=\"blank level0\" ></th>        <th class=\"col_heading level0 col0\" >ex_preds</th>        <th class=\"col_heading level0 col1\" >nr__rio</th>        <th class=\"col_heading level0 col2\" >nr__sao_paulo</th>        <th class=\"col_heading level0 col3\" >lgbm_exp20</th>        <th class=\"col_heading level0 col4\" >lgbm_slider20</th>    </tr>    <tr>        <th class=\"index_name level0\" >Metrica</th>        <th class=\"blank\" ></th>        <th class=\"blank\" ></th>        <th class=\"blank\" ></th>        <th class=\"blank\" ></th>        <th class=\"blank\" ></th>    </tr></thead><tbody>\n",
       "                <tr>\n",
       "                        <th id=\"T_43f3ea66_562f_11eb_953f_8438355b82e0level0_row0\" class=\"row_heading level0 row0\" >Validation_Sharpe</th>\n",
       "                        <td id=\"T_43f3ea66_562f_11eb_953f_8438355b82e0row0_col0\" class=\"data row0 col0\" >0.9757</td>\n",
       "                        <td id=\"T_43f3ea66_562f_11eb_953f_8438355b82e0row0_col1\" class=\"data row0 col1\" >1.2246</td>\n",
       "                        <td id=\"T_43f3ea66_562f_11eb_953f_8438355b82e0row0_col2\" class=\"data row0 col2\" >1.1207</td>\n",
       "                        <td id=\"T_43f3ea66_562f_11eb_953f_8438355b82e0row0_col3\" class=\"data row0 col3\" >1.0191</td>\n",
       "                        <td id=\"T_43f3ea66_562f_11eb_953f_8438355b82e0row0_col4\" class=\"data row0 col4\" >1.3628</td>\n",
       "            </tr>\n",
       "            <tr>\n",
       "                        <th id=\"T_43f3ea66_562f_11eb_953f_8438355b82e0level0_row1\" class=\"row_heading level0 row1\" >Validation_Mean</th>\n",
       "                        <td id=\"T_43f3ea66_562f_11eb_953f_8438355b82e0row1_col0\" class=\"data row1 col0\" >0.0266</td>\n",
       "                        <td id=\"T_43f3ea66_562f_11eb_953f_8438355b82e0row1_col1\" class=\"data row1 col1\" >0.0226</td>\n",
       "                        <td id=\"T_43f3ea66_562f_11eb_953f_8438355b82e0row1_col2\" class=\"data row1 col2\" >0.0210</td>\n",
       "                        <td id=\"T_43f3ea66_562f_11eb_953f_8438355b82e0row1_col3\" class=\"data row1 col3\" >0.0195</td>\n",
       "                        <td id=\"T_43f3ea66_562f_11eb_953f_8438355b82e0row1_col4\" class=\"data row1 col4\" >0.0212</td>\n",
       "            </tr>\n",
       "            <tr>\n",
       "                        <th id=\"T_43f3ea66_562f_11eb_953f_8438355b82e0level0_row2\" class=\"row_heading level0 row2\" >Feat_neutral_mean</th>\n",
       "                        <td id=\"T_43f3ea66_562f_11eb_953f_8438355b82e0row2_col0\" class=\"data row2 col0\" >0.0215</td>\n",
       "                        <td id=\"T_43f3ea66_562f_11eb_953f_8438355b82e0row2_col1\" class=\"data row2 col1\" >0.0217</td>\n",
       "                        <td id=\"T_43f3ea66_562f_11eb_953f_8438355b82e0row2_col2\" class=\"data row2 col2\" >0.0202</td>\n",
       "                        <td id=\"T_43f3ea66_562f_11eb_953f_8438355b82e0row2_col3\" class=\"data row2 col3\" >0.0186</td>\n",
       "                        <td id=\"T_43f3ea66_562f_11eb_953f_8438355b82e0row2_col4\" class=\"data row2 col4\" >0.0205</td>\n",
       "            </tr>\n",
       "            <tr>\n",
       "                        <th id=\"T_43f3ea66_562f_11eb_953f_8438355b82e0level0_row3\" class=\"row_heading level0 row3\" >Validation_SD</th>\n",
       "                        <td id=\"T_43f3ea66_562f_11eb_953f_8438355b82e0row3_col0\" class=\"data row3 col0\" >0.0272</td>\n",
       "                        <td id=\"T_43f3ea66_562f_11eb_953f_8438355b82e0row3_col1\" class=\"data row3 col1\" >0.0185</td>\n",
       "                        <td id=\"T_43f3ea66_562f_11eb_953f_8438355b82e0row3_col2\" class=\"data row3 col2\" >0.0188</td>\n",
       "                        <td id=\"T_43f3ea66_562f_11eb_953f_8438355b82e0row3_col3\" class=\"data row3 col3\" >0.0191</td>\n",
       "                        <td id=\"T_43f3ea66_562f_11eb_953f_8438355b82e0row3_col4\" class=\"data row3 col4\" >0.0155</td>\n",
       "            </tr>\n",
       "            <tr>\n",
       "                        <th id=\"T_43f3ea66_562f_11eb_953f_8438355b82e0level0_row4\" class=\"row_heading level0 row4\" >Feat_exp_max</th>\n",
       "                        <td id=\"T_43f3ea66_562f_11eb_953f_8438355b82e0row4_col0\" class=\"data row4 col0\" >0.2694</td>\n",
       "                        <td id=\"T_43f3ea66_562f_11eb_953f_8438355b82e0row4_col1\" class=\"data row4 col1\" >0.0108</td>\n",
       "                        <td id=\"T_43f3ea66_562f_11eb_953f_8438355b82e0row4_col2\" class=\"data row4 col2\" >0.0167</td>\n",
       "                        <td id=\"T_43f3ea66_562f_11eb_953f_8438355b82e0row4_col3\" class=\"data row4 col3\" >0.0089</td>\n",
       "                        <td id=\"T_43f3ea66_562f_11eb_953f_8438355b82e0row4_col4\" class=\"data row4 col4\" >0.0111</td>\n",
       "            </tr>\n",
       "            <tr>\n",
       "                        <th id=\"T_43f3ea66_562f_11eb_953f_8438355b82e0level0_row5\" class=\"row_heading level0 row5\" >Max_Drawdown</th>\n",
       "                        <td id=\"T_43f3ea66_562f_11eb_953f_8438355b82e0row5_col0\" class=\"data row5 col0\" >-0.0651</td>\n",
       "                        <td id=\"T_43f3ea66_562f_11eb_953f_8438355b82e0row5_col1\" class=\"data row5 col1\" >-0.0352</td>\n",
       "                        <td id=\"T_43f3ea66_562f_11eb_953f_8438355b82e0row5_col2\" class=\"data row5 col2\" >-0.0353</td>\n",
       "                        <td id=\"T_43f3ea66_562f_11eb_953f_8438355b82e0row5_col3\" class=\"data row5 col3\" >-0.0462</td>\n",
       "                        <td id=\"T_43f3ea66_562f_11eb_953f_8438355b82e0row5_col4\" class=\"data row5 col4\" >-0.0202</td>\n",
       "            </tr>\n",
       "            <tr>\n",
       "                        <th id=\"T_43f3ea66_562f_11eb_953f_8438355b82e0level0_row6\" class=\"row_heading level0 row6\" >corr_plus_mmc_sharpe</th>\n",
       "                        <td id=\"T_43f3ea66_562f_11eb_953f_8438355b82e0row6_col0\" class=\"data row6 col0\" >0.9757</td>\n",
       "                        <td id=\"T_43f3ea66_562f_11eb_953f_8438355b82e0row6_col1\" class=\"data row6 col1\" >1.0213</td>\n",
       "                        <td id=\"T_43f3ea66_562f_11eb_953f_8438355b82e0row6_col2\" class=\"data row6 col2\" >0.8512</td>\n",
       "                        <td id=\"T_43f3ea66_562f_11eb_953f_8438355b82e0row6_col3\" class=\"data row6 col3\" >0.8088</td>\n",
       "                        <td id=\"T_43f3ea66_562f_11eb_953f_8438355b82e0row6_col4\" class=\"data row6 col4\" >1.0958</td>\n",
       "            </tr>\n",
       "            <tr>\n",
       "                        <th id=\"T_43f3ea66_562f_11eb_953f_8438355b82e0level0_row7\" class=\"row_heading level0 row7\" >val_mmc_mean</th>\n",
       "                        <td id=\"T_43f3ea66_562f_11eb_953f_8438355b82e0row7_col0\" class=\"data row7 col0\" >0.0000</td>\n",
       "                        <td id=\"T_43f3ea66_562f_11eb_953f_8438355b82e0row7_col1\" class=\"data row7 col1\" >0.0070</td>\n",
       "                        <td id=\"T_43f3ea66_562f_11eb_953f_8438355b82e0row7_col2\" class=\"data row7 col2\" >0.0046</td>\n",
       "                        <td id=\"T_43f3ea66_562f_11eb_953f_8438355b82e0row7_col3\" class=\"data row7 col3\" >0.0053</td>\n",
       "                        <td id=\"T_43f3ea66_562f_11eb_953f_8438355b82e0row7_col4\" class=\"data row7 col4\" >0.0062</td>\n",
       "            </tr>\n",
       "            <tr>\n",
       "                        <th id=\"T_43f3ea66_562f_11eb_953f_8438355b82e0level0_row8\" class=\"row_heading level0 row8\" >corr_with_example_preds</th>\n",
       "                        <td id=\"T_43f3ea66_562f_11eb_953f_8438355b82e0row8_col0\" class=\"data row8 col0\" >1.0000</td>\n",
       "                        <td id=\"T_43f3ea66_562f_11eb_953f_8438355b82e0row8_col1\" class=\"data row8 col1\" >0.5009</td>\n",
       "                        <td id=\"T_43f3ea66_562f_11eb_953f_8438355b82e0row8_col2\" class=\"data row8 col2\" >0.5617</td>\n",
       "                        <td id=\"T_43f3ea66_562f_11eb_953f_8438355b82e0row8_col3\" class=\"data row8 col3\" >0.4696</td>\n",
       "                        <td id=\"T_43f3ea66_562f_11eb_953f_8438355b82e0row8_col4\" class=\"data row8 col4\" >0.4874</td>\n",
       "            </tr>\n",
       "    </tbody></table>"
      ],
      "text/plain": [
       "<pandas.io.formats.style.Styler at 0x7ffaf961a0d0>"
      ]
     },
     "execution_count": 235,
     "metadata": {},
     "output_type": "execute_result"
    }
   ],
   "source": [
    "#print(\"Menor é melhor:\", min_cols)\n",
    "leaderboard_nr = df_metrics_cons_nr[df_metrics_cons_nr.Categoria.isin([\"Performance\", \"Risk\", \"MMC\"])].loc[:,models_nr]\n",
    "leaderboard_nr.astype(float).style.apply(visualize.diagnostic_colors).apply(visualize.highlight_max, axis = 1)"
   ]
  },
  {
   "cell_type": "markdown",
   "metadata": {
    "slideshow": {
     "slide_type": "subslide"
    }
   },
   "source": [
    "## Testando Múltiplos FN"
   ]
  },
  {
   "cell_type": "code",
   "execution_count": null,
   "metadata": {},
   "outputs": [],
   "source": [
    "%%time\n",
    "path = '../../reports/predicoes_validacao/raw/'\n",
    "models_nr = ['ex_preds','nr__rio', 'nr__sao_paulo', 'lgbm_exp20', 'lgbm_slider20']\n",
    "\n",
    "preds_nr, feat_corrs_nr = dict(), dict()\n",
    "era_scores_nr, df_metrics_nr = dict(), dict()\n",
    "\n",
    "\n",
    "from sklearn.linear_model import LinearRegression\n",
    "ml_model = LinearRegression(fit_intercept=False)\n",
    "\n",
    "FN=1.0\n",
    "print(\"FN = \", FN)\n",
    "\n",
    "for model in models_nr:\n",
    "    \n",
    "    #predicoes val1 & val2\n",
    "    print(\"creating predictions to:\", model)\n",
    "    df_validation['preds'] =  pd.read_csv(path+model+'_preds_test.csv', index_col='id').values.reshape(1,-1)[0]\n",
    "\n",
    "    #preds neutralized after\n",
    "    preds_nr[model] = neutralize.preds_neutralized(df_validation, ['preds'], features, ml_model, FN)\n",
    "    \n",
    "\n",
    "    #salvando as metricas\n",
    "    if model =='ex_preds': mmc=False\n",
    "    else: mmc=True\n",
    "    era_scores_nr[model], df_metrics_nr[model], feat_corrs_nr[model], ex_preds = \\\n",
    "                        metrics.submission_metrics(df_validation, preds_nr[model], model, mmc)   \n",
    "\n",
    "\n",
    "#dict to dataframe\n",
    "df_preds_nr = pd.DataFrame.from_dict(preds_nr)\n",
    "df_era_scores_nr = pd.DataFrame.from_dict(era_scores_nr)\n",
    "df_feat_corrs_nr = pd.DataFrame.from_dict(feat_corrs_nr)\n",
    "df_metrics_cons_nr = metrics.metrics_consolidated(df_metrics_nr)"
   ]
  },
  {
   "cell_type": "code",
   "execution_count": 29,
   "metadata": {
    "ExecuteTime": {
     "end_time": "2021-01-11T20:33:04.587371Z",
     "start_time": "2021-01-11T20:26:31.257649Z"
    },
    "slideshow": {
     "slide_type": "skip"
    }
   },
   "outputs": [
    {
     "name": "stdout",
     "output_type": "stream",
     "text": [
      "creating predictions to: NR_Rio0\n",
      "creating predictions to: NR_Rio0.25\n",
      "creating predictions to: NR_Rio0.4\n",
      "creating predictions to: NR_Rio0.5\n",
      "creating predictions to: NR_Rio0.6\n",
      "creating predictions to: NR_Rio0.75\n",
      "creating predictions to: NR_Rio0.9\n",
      "creating predictions to: NR_Rio1.0\n",
      "creating predictions to: ex_preds\n",
      "CPU times: user 7min 55s, sys: 45 s, total: 8min 40s\n",
      "Wall time: 6min 33s\n"
     ]
    }
   ],
   "source": [
    "%%time\n",
    "path = '../../reports/predicoes_validacao/raw/'\n",
    "models_nr = ['ex_preds', 'NR_Rio', 'NR_Sao_Paulo', 'lgbm_exp20', 'lgbm_slider20']\n",
    "\n",
    "FN=[0, .25, .4, .5, .6, .75, .9, 1.0]\n",
    "\n",
    "from sklearn.linear_model import LinearRegression\n",
    "ml_model = LinearRegression(fit_intercept=False)\n",
    "\n",
    "preds_nr, feat_corrs_nr = dict(), dict()\n",
    "era_scores_nr, df_metrics_nr = dict(), dict()\n",
    "\n",
    "for fnv in FN:\n",
    "    \n",
    "    model = 'NR_Rio'\n",
    "    #predicoes val1 & val2\n",
    "    print(\"creating predictions to:\", model+str(fnv))\n",
    "    df_validation['preds'] =  pd.read_csv(path+model+'_preds_test.csv', index_col='id').values.reshape(1,-1)[0]\n",
    "\n",
    "\n",
    "\n",
    "    #preds neutralized after\n",
    "    preds_nr[model] = neutralize.preds_neutralized(df_validation, ['preds'], features, ml_model, fnv)\n",
    "    \n",
    "    \n",
    "    #salvando as metricas\n",
    "    era_scores_nr[model], df_metrics_nr[model], feat_corrs_nr[model], ex_preds = \\\n",
    "                        metrics.submission_metrics(df_validation, preds_nr[model], model, True)   \n",
    "\n",
    "\n",
    "\n",
    "#add ex_preds\n",
    "print(\"creating predictions to: ex_preds\")\n",
    "preds_nr['ex_preds'] = np.array(ex_preds)\n",
    "era_scores_nr['ex_preds'], df_metrics_nr['ex_preds'], feat_corrs_nr['ex_preds'], ex_preds = \\\n",
    "                        metrics.submission_metrics(df_validation, preds_nr['ex_preds'], \"ex_preds\", False)\n",
    "\n",
    "\n",
    "\n",
    "#dict to dataframe\n",
    "df_preds_nr = pd.DataFrame.from_dict(preds_nr)\n",
    "df_era_scores_nr = pd.DataFrame.from_dict(era_scores_nr)\n",
    "df_feat_corrs_nr = pd.DataFrame.from_dict(feat_corrs_nr)\n",
    "df_metrics_cons_nr = metrics.metrics_consolidated(df_metrics_nr)"
   ]
  },
  {
   "cell_type": "code",
   "execution_count": 30,
   "metadata": {
    "ExecuteTime": {
     "end_time": "2021-01-11T20:33:05.309132Z",
     "start_time": "2021-01-11T20:33:05.108456Z"
    },
    "slideshow": {
     "slide_type": "fragment"
    }
   },
   "outputs": [
    {
     "data": {
      "text/html": [
       "<style  type=\"text/css\" >\n",
       "    #T_3545ef1c_544c_11eb_953f_8438355b82e0row0_col0 {\n",
       "            color:  black;\n",
       "            : ;\n",
       "        }    #T_3545ef1c_544c_11eb_953f_8438355b82e0row0_col1 {\n",
       "            color:  black;\n",
       "            : ;\n",
       "        }    #T_3545ef1c_544c_11eb_953f_8438355b82e0row0_col2 {\n",
       "            color:  black;\n",
       "            : ;\n",
       "        }    #T_3545ef1c_544c_11eb_953f_8438355b82e0row0_col3 {\n",
       "            color:  darkgreen;\n",
       "            : ;\n",
       "        }    #T_3545ef1c_544c_11eb_953f_8438355b82e0row0_col4 {\n",
       "            color:  darkgreen;\n",
       "            : ;\n",
       "        }    #T_3545ef1c_544c_11eb_953f_8438355b82e0row0_col5 {\n",
       "            color:  darkgreen;\n",
       "            : ;\n",
       "        }    #T_3545ef1c_544c_11eb_953f_8438355b82e0row0_col6 {\n",
       "            color:  lime;\n",
       "            : ;\n",
       "        }    #T_3545ef1c_544c_11eb_953f_8438355b82e0row0_col7 {\n",
       "            color:  lime;\n",
       "            background-color:  yellow;\n",
       "        }    #T_3545ef1c_544c_11eb_953f_8438355b82e0row0_col8 {\n",
       "            color:  lime;\n",
       "            : ;\n",
       "        }    #T_3545ef1c_544c_11eb_953f_8438355b82e0row1_col0 {\n",
       "            color:  darkgreen;\n",
       "            : ;\n",
       "        }    #T_3545ef1c_544c_11eb_953f_8438355b82e0row1_col1 {\n",
       "            color:  darkgreen;\n",
       "            : ;\n",
       "        }    #T_3545ef1c_544c_11eb_953f_8438355b82e0row1_col2 {\n",
       "            color:  darkgreen;\n",
       "            : ;\n",
       "        }    #T_3545ef1c_544c_11eb_953f_8438355b82e0row1_col3 {\n",
       "            color:  darkgreen;\n",
       "            background-color:  yellow;\n",
       "        }    #T_3545ef1c_544c_11eb_953f_8438355b82e0row1_col4 {\n",
       "            color:  darkgreen;\n",
       "            : ;\n",
       "        }    #T_3545ef1c_544c_11eb_953f_8438355b82e0row1_col5 {\n",
       "            color:  darkgreen;\n",
       "            : ;\n",
       "        }    #T_3545ef1c_544c_11eb_953f_8438355b82e0row1_col6 {\n",
       "            color:  darkgreen;\n",
       "            : ;\n",
       "        }    #T_3545ef1c_544c_11eb_953f_8438355b82e0row1_col7 {\n",
       "            color:  black;\n",
       "            : ;\n",
       "        }    #T_3545ef1c_544c_11eb_953f_8438355b82e0row1_col8 {\n",
       "            color:  black;\n",
       "            : ;\n",
       "        }    #T_3545ef1c_544c_11eb_953f_8438355b82e0row2_col0 {\n",
       "            color:  lime;\n",
       "            : ;\n",
       "        }    #T_3545ef1c_544c_11eb_953f_8438355b82e0row2_col1 {\n",
       "            color:  darkgreen;\n",
       "            : ;\n",
       "        }    #T_3545ef1c_544c_11eb_953f_8438355b82e0row2_col2 {\n",
       "            color:  darkgreen;\n",
       "            : ;\n",
       "        }    #T_3545ef1c_544c_11eb_953f_8438355b82e0row2_col3 {\n",
       "            color:  darkgreen;\n",
       "            : ;\n",
       "        }    #T_3545ef1c_544c_11eb_953f_8438355b82e0row2_col4 {\n",
       "            color:  lime;\n",
       "            : ;\n",
       "        }    #T_3545ef1c_544c_11eb_953f_8438355b82e0row2_col5 {\n",
       "            color:  lime;\n",
       "            : ;\n",
       "        }    #T_3545ef1c_544c_11eb_953f_8438355b82e0row2_col6 {\n",
       "            color:  lime;\n",
       "            : ;\n",
       "        }    #T_3545ef1c_544c_11eb_953f_8438355b82e0row2_col7 {\n",
       "            color:  lime;\n",
       "            : ;\n",
       "        }    #T_3545ef1c_544c_11eb_953f_8438355b82e0row2_col8 {\n",
       "            color:  lime;\n",
       "            background-color:  yellow;\n",
       "        }    #T_3545ef1c_544c_11eb_953f_8438355b82e0row3_col0 {\n",
       "            color:  red;\n",
       "            : ;\n",
       "        }    #T_3545ef1c_544c_11eb_953f_8438355b82e0row3_col1 {\n",
       "            color:  red;\n",
       "            : ;\n",
       "        }    #T_3545ef1c_544c_11eb_953f_8438355b82e0row3_col2 {\n",
       "            color:  red;\n",
       "            : ;\n",
       "        }    #T_3545ef1c_544c_11eb_953f_8438355b82e0row3_col3 {\n",
       "            color:  black;\n",
       "            : ;\n",
       "        }    #T_3545ef1c_544c_11eb_953f_8438355b82e0row3_col4 {\n",
       "            color:  black;\n",
       "            : ;\n",
       "        }    #T_3545ef1c_544c_11eb_953f_8438355b82e0row3_col5 {\n",
       "            color:  black;\n",
       "            : ;\n",
       "        }    #T_3545ef1c_544c_11eb_953f_8438355b82e0row3_col6 {\n",
       "            color:  black;\n",
       "            : ;\n",
       "        }    #T_3545ef1c_544c_11eb_953f_8438355b82e0row3_col7 {\n",
       "            color:  darkgreen;\n",
       "            : ;\n",
       "        }    #T_3545ef1c_544c_11eb_953f_8438355b82e0row3_col8 {\n",
       "            color:  darkgreen;\n",
       "            background-color:  yellow;\n",
       "        }    #T_3545ef1c_544c_11eb_953f_8438355b82e0row4_col0 {\n",
       "            color:  black;\n",
       "            : ;\n",
       "        }    #T_3545ef1c_544c_11eb_953f_8438355b82e0row4_col1 {\n",
       "            color:  black;\n",
       "            : ;\n",
       "        }    #T_3545ef1c_544c_11eb_953f_8438355b82e0row4_col2 {\n",
       "            color:  black;\n",
       "            : ;\n",
       "        }    #T_3545ef1c_544c_11eb_953f_8438355b82e0row4_col3 {\n",
       "            color:  black;\n",
       "            : ;\n",
       "        }    #T_3545ef1c_544c_11eb_953f_8438355b82e0row4_col4 {\n",
       "            color:  black;\n",
       "            : ;\n",
       "        }    #T_3545ef1c_544c_11eb_953f_8438355b82e0row4_col5 {\n",
       "            color:  darkgreen;\n",
       "            : ;\n",
       "        }    #T_3545ef1c_544c_11eb_953f_8438355b82e0row4_col6 {\n",
       "            color:  darkgreen;\n",
       "            : ;\n",
       "        }    #T_3545ef1c_544c_11eb_953f_8438355b82e0row4_col7 {\n",
       "            color:  lime;\n",
       "            : ;\n",
       "        }    #T_3545ef1c_544c_11eb_953f_8438355b82e0row4_col8 {\n",
       "            color:  lime;\n",
       "            background-color:  yellow;\n",
       "        }    #T_3545ef1c_544c_11eb_953f_8438355b82e0row5_col0 {\n",
       "            color:  black;\n",
       "            : ;\n",
       "        }    #T_3545ef1c_544c_11eb_953f_8438355b82e0row5_col1 {\n",
       "            color:  red;\n",
       "            : ;\n",
       "        }    #T_3545ef1c_544c_11eb_953f_8438355b82e0row5_col2 {\n",
       "            color:  black;\n",
       "            : ;\n",
       "        }    #T_3545ef1c_544c_11eb_953f_8438355b82e0row5_col3 {\n",
       "            color:  black;\n",
       "            : ;\n",
       "        }    #T_3545ef1c_544c_11eb_953f_8438355b82e0row5_col4 {\n",
       "            color:  darkgreen;\n",
       "            : ;\n",
       "        }    #T_3545ef1c_544c_11eb_953f_8438355b82e0row5_col5 {\n",
       "            color:  darkgreen;\n",
       "            : ;\n",
       "        }    #T_3545ef1c_544c_11eb_953f_8438355b82e0row5_col6 {\n",
       "            color:  darkgreen;\n",
       "            : ;\n",
       "        }    #T_3545ef1c_544c_11eb_953f_8438355b82e0row5_col7 {\n",
       "            color:  darkgreen;\n",
       "            : ;\n",
       "        }    #T_3545ef1c_544c_11eb_953f_8438355b82e0row5_col8 {\n",
       "            color:  darkgreen;\n",
       "            background-color:  yellow;\n",
       "        }    #T_3545ef1c_544c_11eb_953f_8438355b82e0row6_col0 {\n",
       "            color:  black;\n",
       "            : ;\n",
       "        }    #T_3545ef1c_544c_11eb_953f_8438355b82e0row6_col1 {\n",
       "            color:  black;\n",
       "            : ;\n",
       "        }    #T_3545ef1c_544c_11eb_953f_8438355b82e0row6_col2 {\n",
       "            color:  black;\n",
       "            : ;\n",
       "        }    #T_3545ef1c_544c_11eb_953f_8438355b82e0row6_col3 {\n",
       "            color:  black;\n",
       "            : ;\n",
       "        }    #T_3545ef1c_544c_11eb_953f_8438355b82e0row6_col4 {\n",
       "            color:  black;\n",
       "            : ;\n",
       "        }    #T_3545ef1c_544c_11eb_953f_8438355b82e0row6_col5 {\n",
       "            color:  black;\n",
       "            : ;\n",
       "        }    #T_3545ef1c_544c_11eb_953f_8438355b82e0row6_col6 {\n",
       "            color:  darkgreen;\n",
       "            background-color:  yellow;\n",
       "        }    #T_3545ef1c_544c_11eb_953f_8438355b82e0row6_col7 {\n",
       "            color:  black;\n",
       "            : ;\n",
       "        }    #T_3545ef1c_544c_11eb_953f_8438355b82e0row6_col8 {\n",
       "            color:  black;\n",
       "            : ;\n",
       "        }    #T_3545ef1c_544c_11eb_953f_8438355b82e0row7_col0 {\n",
       "            color:  black;\n",
       "            : ;\n",
       "        }    #T_3545ef1c_544c_11eb_953f_8438355b82e0row7_col1 {\n",
       "            color:  black;\n",
       "            : ;\n",
       "        }    #T_3545ef1c_544c_11eb_953f_8438355b82e0row7_col2 {\n",
       "            color:  black;\n",
       "            : ;\n",
       "        }    #T_3545ef1c_544c_11eb_953f_8438355b82e0row7_col3 {\n",
       "            color:  black;\n",
       "            : ;\n",
       "        }    #T_3545ef1c_544c_11eb_953f_8438355b82e0row7_col4 {\n",
       "            color:  black;\n",
       "            : ;\n",
       "        }    #T_3545ef1c_544c_11eb_953f_8438355b82e0row7_col5 {\n",
       "            color:  darkgreen;\n",
       "            : ;\n",
       "        }    #T_3545ef1c_544c_11eb_953f_8438355b82e0row7_col6 {\n",
       "            color:  darkgreen;\n",
       "            : ;\n",
       "        }    #T_3545ef1c_544c_11eb_953f_8438355b82e0row7_col7 {\n",
       "            color:  darkgreen;\n",
       "            : ;\n",
       "        }    #T_3545ef1c_544c_11eb_953f_8438355b82e0row7_col8 {\n",
       "            color:  darkgreen;\n",
       "            background-color:  yellow;\n",
       "        }    #T_3545ef1c_544c_11eb_953f_8438355b82e0row8_col0 {\n",
       "            color:  red;\n",
       "            : ;\n",
       "        }    #T_3545ef1c_544c_11eb_953f_8438355b82e0row8_col1 {\n",
       "            color:  red;\n",
       "            : ;\n",
       "        }    #T_3545ef1c_544c_11eb_953f_8438355b82e0row8_col2 {\n",
       "            color:  red;\n",
       "            : ;\n",
       "        }    #T_3545ef1c_544c_11eb_953f_8438355b82e0row8_col3 {\n",
       "            color:  red;\n",
       "            : ;\n",
       "        }    #T_3545ef1c_544c_11eb_953f_8438355b82e0row8_col4 {\n",
       "            color:  red;\n",
       "            : ;\n",
       "        }    #T_3545ef1c_544c_11eb_953f_8438355b82e0row8_col5 {\n",
       "            color:  black;\n",
       "            : ;\n",
       "        }    #T_3545ef1c_544c_11eb_953f_8438355b82e0row8_col6 {\n",
       "            color:  black;\n",
       "            : ;\n",
       "        }    #T_3545ef1c_544c_11eb_953f_8438355b82e0row8_col7 {\n",
       "            color:  black;\n",
       "            : ;\n",
       "        }    #T_3545ef1c_544c_11eb_953f_8438355b82e0row8_col8 {\n",
       "            color:  darkgreen;\n",
       "            background-color:  yellow;\n",
       "        }</style><table id=\"T_3545ef1c_544c_11eb_953f_8438355b82e0\" ><thead>    <tr>        <th class=\"blank level0\" ></th>        <th class=\"col_heading level0 col0\" >ex_preds</th>        <th class=\"col_heading level0 col1\" >NR_Rio_0</th>        <th class=\"col_heading level0 col2\" >NR_Rio_0.25</th>        <th class=\"col_heading level0 col3\" >NR_Rio_0.4</th>        <th class=\"col_heading level0 col4\" >NR_Rio_0.5</th>        <th class=\"col_heading level0 col5\" >NR_Rio_0.6</th>        <th class=\"col_heading level0 col6\" >NR_Rio_0.75</th>        <th class=\"col_heading level0 col7\" >NR_Rio_0.9</th>        <th class=\"col_heading level0 col8\" >NR_Rio_1.0</th>    </tr>    <tr>        <th class=\"index_name level0\" >Metrica</th>        <th class=\"blank\" ></th>        <th class=\"blank\" ></th>        <th class=\"blank\" ></th>        <th class=\"blank\" ></th>        <th class=\"blank\" ></th>        <th class=\"blank\" ></th>        <th class=\"blank\" ></th>        <th class=\"blank\" ></th>        <th class=\"blank\" ></th>    </tr></thead><tbody>\n",
       "                <tr>\n",
       "                        <th id=\"T_3545ef1c_544c_11eb_953f_8438355b82e0level0_row0\" class=\"row_heading level0 row0\" >Validation_Sharpe</th>\n",
       "                        <td id=\"T_3545ef1c_544c_11eb_953f_8438355b82e0row0_col0\" class=\"data row0 col0\" >0.9757</td>\n",
       "                        <td id=\"T_3545ef1c_544c_11eb_953f_8438355b82e0row0_col1\" class=\"data row0 col1\" >0.9500</td>\n",
       "                        <td id=\"T_3545ef1c_544c_11eb_953f_8438355b82e0row0_col2\" class=\"data row0 col2\" >1.0188</td>\n",
       "                        <td id=\"T_3545ef1c_544c_11eb_953f_8438355b82e0row0_col3\" class=\"data row0 col3\" >1.0704</td>\n",
       "                        <td id=\"T_3545ef1c_544c_11eb_953f_8438355b82e0row0_col4\" class=\"data row0 col4\" >1.1126</td>\n",
       "                        <td id=\"T_3545ef1c_544c_11eb_953f_8438355b82e0row0_col5\" class=\"data row0 col5\" >1.1559</td>\n",
       "                        <td id=\"T_3545ef1c_544c_11eb_953f_8438355b82e0row0_col6\" class=\"data row0 col6\" >1.2141</td>\n",
       "                        <td id=\"T_3545ef1c_544c_11eb_953f_8438355b82e0row0_col7\" class=\"data row0 col7\" >1.2465</td>\n",
       "                        <td id=\"T_3545ef1c_544c_11eb_953f_8438355b82e0row0_col8\" class=\"data row0 col8\" >1.2246</td>\n",
       "            </tr>\n",
       "            <tr>\n",
       "                        <th id=\"T_3545ef1c_544c_11eb_953f_8438355b82e0level0_row1\" class=\"row_heading level0 row1\" >Validation_Mean</th>\n",
       "                        <td id=\"T_3545ef1c_544c_11eb_953f_8438355b82e0row1_col0\" class=\"data row1 col0\" >0.0266</td>\n",
       "                        <td id=\"T_3545ef1c_544c_11eb_953f_8438355b82e0row1_col1\" class=\"data row1 col1\" >0.0264</td>\n",
       "                        <td id=\"T_3545ef1c_544c_11eb_953f_8438355b82e0row1_col2\" class=\"data row1 col2\" >0.0268</td>\n",
       "                        <td id=\"T_3545ef1c_544c_11eb_953f_8438355b82e0row1_col3\" class=\"data row1 col3\" >0.0269</td>\n",
       "                        <td id=\"T_3545ef1c_544c_11eb_953f_8438355b82e0row1_col4\" class=\"data row1 col4\" >0.0268</td>\n",
       "                        <td id=\"T_3545ef1c_544c_11eb_953f_8438355b82e0row1_col5\" class=\"data row1 col5\" >0.0264</td>\n",
       "                        <td id=\"T_3545ef1c_544c_11eb_953f_8438355b82e0row1_col6\" class=\"data row1 col6\" >0.0255</td>\n",
       "                        <td id=\"T_3545ef1c_544c_11eb_953f_8438355b82e0row1_col7\" class=\"data row1 col7\" >0.0240</td>\n",
       "                        <td id=\"T_3545ef1c_544c_11eb_953f_8438355b82e0row1_col8\" class=\"data row1 col8\" >0.0226</td>\n",
       "            </tr>\n",
       "            <tr>\n",
       "                        <th id=\"T_3545ef1c_544c_11eb_953f_8438355b82e0level0_row2\" class=\"row_heading level0 row2\" >Feat_neutral_mean</th>\n",
       "                        <td id=\"T_3545ef1c_544c_11eb_953f_8438355b82e0row2_col0\" class=\"data row2 col0\" >0.0215</td>\n",
       "                        <td id=\"T_3545ef1c_544c_11eb_953f_8438355b82e0row2_col1\" class=\"data row2 col1\" >0.0206</td>\n",
       "                        <td id=\"T_3545ef1c_544c_11eb_953f_8438355b82e0row2_col2\" class=\"data row2 col2\" >0.0211</td>\n",
       "                        <td id=\"T_3545ef1c_544c_11eb_953f_8438355b82e0row2_col3\" class=\"data row2 col3\" >0.0213</td>\n",
       "                        <td id=\"T_3545ef1c_544c_11eb_953f_8438355b82e0row2_col4\" class=\"data row2 col4\" >0.0214</td>\n",
       "                        <td id=\"T_3545ef1c_544c_11eb_953f_8438355b82e0row2_col5\" class=\"data row2 col5\" >0.0214</td>\n",
       "                        <td id=\"T_3545ef1c_544c_11eb_953f_8438355b82e0row2_col6\" class=\"data row2 col6\" >0.0214</td>\n",
       "                        <td id=\"T_3545ef1c_544c_11eb_953f_8438355b82e0row2_col7\" class=\"data row2 col7\" >0.0215</td>\n",
       "                        <td id=\"T_3545ef1c_544c_11eb_953f_8438355b82e0row2_col8\" class=\"data row2 col8\" >0.0217</td>\n",
       "            </tr>\n",
       "            <tr>\n",
       "                        <th id=\"T_3545ef1c_544c_11eb_953f_8438355b82e0level0_row3\" class=\"row_heading level0 row3\" >Validation_SD</th>\n",
       "                        <td id=\"T_3545ef1c_544c_11eb_953f_8438355b82e0row3_col0\" class=\"data row3 col0\" >0.0272</td>\n",
       "                        <td id=\"T_3545ef1c_544c_11eb_953f_8438355b82e0row3_col1\" class=\"data row3 col1\" >0.0278</td>\n",
       "                        <td id=\"T_3545ef1c_544c_11eb_953f_8438355b82e0row3_col2\" class=\"data row3 col2\" >0.0263</td>\n",
       "                        <td id=\"T_3545ef1c_544c_11eb_953f_8438355b82e0row3_col3\" class=\"data row3 col3\" >0.0251</td>\n",
       "                        <td id=\"T_3545ef1c_544c_11eb_953f_8438355b82e0row3_col4\" class=\"data row3 col4\" >0.0241</td>\n",
       "                        <td id=\"T_3545ef1c_544c_11eb_953f_8438355b82e0row3_col5\" class=\"data row3 col5\" >0.0229</td>\n",
       "                        <td id=\"T_3545ef1c_544c_11eb_953f_8438355b82e0row3_col6\" class=\"data row3 col6\" >0.0210</td>\n",
       "                        <td id=\"T_3545ef1c_544c_11eb_953f_8438355b82e0row3_col7\" class=\"data row3 col7\" >0.0192</td>\n",
       "                        <td id=\"T_3545ef1c_544c_11eb_953f_8438355b82e0row3_col8\" class=\"data row3 col8\" >0.0185</td>\n",
       "            </tr>\n",
       "            <tr>\n",
       "                        <th id=\"T_3545ef1c_544c_11eb_953f_8438355b82e0level0_row4\" class=\"row_heading level0 row4\" >Feat_exp_max</th>\n",
       "                        <td id=\"T_3545ef1c_544c_11eb_953f_8438355b82e0row4_col0\" class=\"data row4 col0\" >0.2694</td>\n",
       "                        <td id=\"T_3545ef1c_544c_11eb_953f_8438355b82e0row4_col1\" class=\"data row4 col1\" >0.2601</td>\n",
       "                        <td id=\"T_3545ef1c_544c_11eb_953f_8438355b82e0row4_col2\" class=\"data row4 col2\" >0.2221</td>\n",
       "                        <td id=\"T_3545ef1c_544c_11eb_953f_8438355b82e0row4_col3\" class=\"data row4 col3\" >0.1910</td>\n",
       "                        <td id=\"T_3545ef1c_544c_11eb_953f_8438355b82e0row4_col4\" class=\"data row4 col4\" >0.1663</td>\n",
       "                        <td id=\"T_3545ef1c_544c_11eb_953f_8438355b82e0row4_col5\" class=\"data row4 col5\" >0.1380</td>\n",
       "                        <td id=\"T_3545ef1c_544c_11eb_953f_8438355b82e0row4_col6\" class=\"data row4 col6\" >0.0893</td>\n",
       "                        <td id=\"T_3545ef1c_544c_11eb_953f_8438355b82e0row4_col7\" class=\"data row4 col7\" >0.0371</td>\n",
       "                        <td id=\"T_3545ef1c_544c_11eb_953f_8438355b82e0row4_col8\" class=\"data row4 col8\" >0.0108</td>\n",
       "            </tr>\n",
       "            <tr>\n",
       "                        <th id=\"T_3545ef1c_544c_11eb_953f_8438355b82e0level0_row5\" class=\"row_heading level0 row5\" >Max_Drawdown</th>\n",
       "                        <td id=\"T_3545ef1c_544c_11eb_953f_8438355b82e0row5_col0\" class=\"data row5 col0\" >-0.0651</td>\n",
       "                        <td id=\"T_3545ef1c_544c_11eb_953f_8438355b82e0row5_col1\" class=\"data row5 col1\" >-0.0867</td>\n",
       "                        <td id=\"T_3545ef1c_544c_11eb_953f_8438355b82e0row5_col2\" class=\"data row5 col2\" >-0.0715</td>\n",
       "                        <td id=\"T_3545ef1c_544c_11eb_953f_8438355b82e0row5_col3\" class=\"data row5 col3\" >-0.0584</td>\n",
       "                        <td id=\"T_3545ef1c_544c_11eb_953f_8438355b82e0row5_col4\" class=\"data row5 col4\" >-0.0468</td>\n",
       "                        <td id=\"T_3545ef1c_544c_11eb_953f_8438355b82e0row5_col5\" class=\"data row5 col5\" >-0.0410</td>\n",
       "                        <td id=\"T_3545ef1c_544c_11eb_953f_8438355b82e0row5_col6\" class=\"data row5 col6\" >-0.0401</td>\n",
       "                        <td id=\"T_3545ef1c_544c_11eb_953f_8438355b82e0row5_col7\" class=\"data row5 col7\" >-0.0373</td>\n",
       "                        <td id=\"T_3545ef1c_544c_11eb_953f_8438355b82e0row5_col8\" class=\"data row5 col8\" >-0.0352</td>\n",
       "            </tr>\n",
       "            <tr>\n",
       "                        <th id=\"T_3545ef1c_544c_11eb_953f_8438355b82e0level0_row6\" class=\"row_heading level0 row6\" >corr_plus_mmc_sharpe</th>\n",
       "                        <td id=\"T_3545ef1c_544c_11eb_953f_8438355b82e0row6_col0\" class=\"data row6 col0\" >0.9757</td>\n",
       "                        <td id=\"T_3545ef1c_544c_11eb_953f_8438355b82e0row6_col1\" class=\"data row6 col1\" >0.8973</td>\n",
       "                        <td id=\"T_3545ef1c_544c_11eb_953f_8438355b82e0row6_col2\" class=\"data row6 col2\" >0.9866</td>\n",
       "                        <td id=\"T_3545ef1c_544c_11eb_953f_8438355b82e0row6_col3\" class=\"data row6 col3\" >1.0429</td>\n",
       "                        <td id=\"T_3545ef1c_544c_11eb_953f_8438355b82e0row6_col4\" class=\"data row6 col4\" >1.0819</td>\n",
       "                        <td id=\"T_3545ef1c_544c_11eb_953f_8438355b82e0row6_col5\" class=\"data row6 col5\" >1.1109</td>\n",
       "                        <td id=\"T_3545ef1c_544c_11eb_953f_8438355b82e0row6_col6\" class=\"data row6 col6\" >1.1231</td>\n",
       "                        <td id=\"T_3545ef1c_544c_11eb_953f_8438355b82e0row6_col7\" class=\"data row6 col7\" >1.0846</td>\n",
       "                        <td id=\"T_3545ef1c_544c_11eb_953f_8438355b82e0row6_col8\" class=\"data row6 col8\" >1.0213</td>\n",
       "            </tr>\n",
       "            <tr>\n",
       "                        <th id=\"T_3545ef1c_544c_11eb_953f_8438355b82e0level0_row7\" class=\"row_heading level0 row7\" >val_mmc_mean</th>\n",
       "                        <td id=\"T_3545ef1c_544c_11eb_953f_8438355b82e0row7_col0\" class=\"data row7 col0\" >0.0000</td>\n",
       "                        <td id=\"T_3545ef1c_544c_11eb_953f_8438355b82e0row7_col1\" class=\"data row7 col1\" >0.0017</td>\n",
       "                        <td id=\"T_3545ef1c_544c_11eb_953f_8438355b82e0row7_col2\" class=\"data row7 col2\" >0.0027</td>\n",
       "                        <td id=\"T_3545ef1c_544c_11eb_953f_8438355b82e0row7_col3\" class=\"data row7 col3\" >0.0034</td>\n",
       "                        <td id=\"T_3545ef1c_544c_11eb_953f_8438355b82e0row7_col4\" class=\"data row7 col4\" >0.0039</td>\n",
       "                        <td id=\"T_3545ef1c_544c_11eb_953f_8438355b82e0row7_col5\" class=\"data row7 col5\" >0.0045</td>\n",
       "                        <td id=\"T_3545ef1c_544c_11eb_953f_8438355b82e0row7_col6\" class=\"data row7 col6\" >0.0055</td>\n",
       "                        <td id=\"T_3545ef1c_544c_11eb_953f_8438355b82e0row7_col7\" class=\"data row7 col7\" >0.0064</td>\n",
       "                        <td id=\"T_3545ef1c_544c_11eb_953f_8438355b82e0row7_col8\" class=\"data row7 col8\" >0.0070</td>\n",
       "            </tr>\n",
       "            <tr>\n",
       "                        <th id=\"T_3545ef1c_544c_11eb_953f_8438355b82e0level0_row8\" class=\"row_heading level0 row8\" >corr_with_example_preds</th>\n",
       "                        <td id=\"T_3545ef1c_544c_11eb_953f_8438355b82e0row8_col0\" class=\"data row8 col0\" >1.0000</td>\n",
       "                        <td id=\"T_3545ef1c_544c_11eb_953f_8438355b82e0row8_col1\" class=\"data row8 col1\" >0.9088</td>\n",
       "                        <td id=\"T_3545ef1c_544c_11eb_953f_8438355b82e0row8_col2\" class=\"data row8 col2\" >0.8790</td>\n",
       "                        <td id=\"T_3545ef1c_544c_11eb_953f_8438355b82e0row8_col3\" class=\"data row8 col3\" >0.8447</td>\n",
       "                        <td id=\"T_3545ef1c_544c_11eb_953f_8438355b82e0row8_col4\" class=\"data row8 col4\" >0.8122</td>\n",
       "                        <td id=\"T_3545ef1c_544c_11eb_953f_8438355b82e0row8_col5\" class=\"data row8 col5\" >0.7703</td>\n",
       "                        <td id=\"T_3545ef1c_544c_11eb_953f_8438355b82e0row8_col6\" class=\"data row8 col6\" >0.6877</td>\n",
       "                        <td id=\"T_3545ef1c_544c_11eb_953f_8438355b82e0row8_col7\" class=\"data row8 col7\" >0.5818</td>\n",
       "                        <td id=\"T_3545ef1c_544c_11eb_953f_8438355b82e0row8_col8\" class=\"data row8 col8\" >0.5009</td>\n",
       "            </tr>\n",
       "    </tbody></table>"
      ],
      "text/plain": [
       "<pandas.io.formats.style.Styler at 0x7ffb7e1fc3d0>"
      ]
     },
     "execution_count": 30,
     "metadata": {},
     "output_type": "execute_result"
    }
   ],
   "source": [
    "model = 'NR_Rio_'\n",
    "models_fn = ['ex_preds']+[model+str(fnv) for fnv in FN]\n",
    "\n",
    "leaderboard_nr = df_metrics_cons_nr[df_metrics_cons_nr.Categoria.isin([\"Performance\", \"Risk\", \"MMC\"])].loc[:,models_fn[0:]]\n",
    "leaderboard_nr.astype(float).style.apply(visualize.diagnostic_colors).apply(visualize.highlight_max, axis = 1)"
   ]
  },
  {
   "cell_type": "markdown",
   "metadata": {
    "slideshow": {
     "slide_type": "subslide"
    }
   },
   "source": [
    "## Customizando a neutralização\n",
    "\n",
    "* No lugar do OLS, podemos usar na verdade qualquer modelo\n",
    "* Modelos lineares com regularização como o ridge ou lasso anularam o efeito da neutralização\n",
    "* Modelos não lineares neutralizariam todo o sinal original encontrado pelo modelo\n",
    "\n",
    "* COMENTAR MIXED\n",
    "rio sgd - ridge 25%\n",
    "sp sgp puro\n",
    "med ols - ridge (1-prop)\n"
   ]
  },
  {
   "cell_type": "markdown",
   "metadata": {
    "slideshow": {
     "slide_type": "fragment"
    }
   },
   "source": [
    "#### SGD Regressor melhorou a validation_mean sem prejuízo as demais métricas\n",
    "\n",
    "<img src=\"https://ichi.pro/assets/images/max/724/1*e88JKNWAFok3vpjeuPfHig.gif\" width=300 />\n"
   ]
  },
  {
   "cell_type": "markdown",
   "metadata": {
    "slideshow": {
     "slide_type": "subslide"
    }
   },
   "source": [
    "## Atualizando os Modelos com FN\n",
    "\n",
    " * NR__Medellin passou para o *lgbm_slider20* com FN\n",
    " * Atualizamos também o **baseline** com FN=100%"
   ]
  },
  {
   "cell_type": "code",
   "execution_count": 48,
   "metadata": {
    "ExecuteTime": {
     "end_time": "2021-01-14T21:03:40.252208Z",
     "start_time": "2021-01-14T20:59:53.991056Z"
    },
    "slideshow": {
     "slide_type": "skip"
    }
   },
   "outputs": [
    {
     "name": "stdout",
     "output_type": "stream",
     "text": [
      "creating predictions to: ex_preds\n",
      "creating predictions to: ex_FN100\n",
      "creating predictions to: nr__rio\n",
      "creating predictions to: nr__sao_paulo\n",
      "creating predictions to: nr__medellin\n",
      "CPU times: user 3min 26s, sys: 19.4 s, total: 3min 46s\n",
      "Wall time: 3min 46s\n"
     ]
    }
   ],
   "source": [
    "%%time\n",
    "path = '../../reports/predicoes_validacao/'\n",
    "models_nr = ['ex_preds', 'ex_FN100', 'nr__rio', 'nr__sao_paulo', 'nr__medellin']\n",
    "\n",
    "\n",
    "preds_nr, feat_corrs_nr = dict(), dict()\n",
    "era_scores_nr, df_metrics_nr = dict(), dict()\n",
    "\n",
    "\n",
    "\n",
    "for model in models_nr[0:]:\n",
    "    \n",
    "    #predicoes val1 & val2\n",
    "    print(\"creating predictions to:\", model)\n",
    "    preds_nr[model]=  pd.read_csv(path+model+'_preds_test.csv', index_col='id').values.reshape(1,-1)[0]\n",
    "\n",
    "\n",
    "    #salvando as metricas\n",
    "    era_scores_nr[model], df_metrics_nr[model], feat_corrs_nr[model], ex_preds = \\\n",
    "                        metrics.submission_metrics(df_validation, preds_nr[model], model, True)   \n",
    "\n",
    "\n",
    "\n",
    "\n",
    "#dict to dataframe\n",
    "df_preds_nr = pd.DataFrame.from_dict(preds_nr)\n",
    "df_era_scores_nr = pd.DataFrame.from_dict(era_scores_nr)\n",
    "df_feat_corrs_nr = pd.DataFrame.from_dict(feat_corrs_nr)\n",
    "df_metrics_cons_nr = metrics.metrics_consolidated(df_metrics_nr)"
   ]
  },
  {
   "cell_type": "code",
   "execution_count": 17,
   "metadata": {
    "ExecuteTime": {
     "end_time": "2021-01-14T09:10:12.160561Z",
     "start_time": "2021-01-14T09:10:12.026810Z"
    },
    "slideshow": {
     "slide_type": "skip"
    }
   },
   "outputs": [
    {
     "data": {
      "text/html": [
       "<style  type=\"text/css\" >\n",
       "    #T_4e9d9a48_5648_11eb_835a_8438355b82e0row0_col0 {\n",
       "            color:  black;\n",
       "            : ;\n",
       "        }    #T_4e9d9a48_5648_11eb_835a_8438355b82e0row0_col1 {\n",
       "            color:  lime;\n",
       "            : ;\n",
       "        }    #T_4e9d9a48_5648_11eb_835a_8438355b82e0row0_col2 {\n",
       "            color:  lime;\n",
       "            : ;\n",
       "        }    #T_4e9d9a48_5648_11eb_835a_8438355b82e0row0_col3 {\n",
       "            color:  lime;\n",
       "            : ;\n",
       "        }    #T_4e9d9a48_5648_11eb_835a_8438355b82e0row0_col4 {\n",
       "            color:  lime;\n",
       "            background-color:  yellow;\n",
       "        }    #T_4e9d9a48_5648_11eb_835a_8438355b82e0row1_col0 {\n",
       "            color:  darkgreen;\n",
       "            background-color:  yellow;\n",
       "        }    #T_4e9d9a48_5648_11eb_835a_8438355b82e0row1_col1 {\n",
       "            color:  black;\n",
       "            : ;\n",
       "        }    #T_4e9d9a48_5648_11eb_835a_8438355b82e0row1_col2 {\n",
       "            color:  black;\n",
       "            : ;\n",
       "        }    #T_4e9d9a48_5648_11eb_835a_8438355b82e0row1_col3 {\n",
       "            color:  black;\n",
       "            : ;\n",
       "        }    #T_4e9d9a48_5648_11eb_835a_8438355b82e0row1_col4 {\n",
       "            color:  black;\n",
       "            : ;\n",
       "        }    #T_4e9d9a48_5648_11eb_835a_8438355b82e0row2_col0 {\n",
       "            color:  lime;\n",
       "            : ;\n",
       "        }    #T_4e9d9a48_5648_11eb_835a_8438355b82e0row2_col1 {\n",
       "            color:  lime;\n",
       "            background-color:  yellow;\n",
       "        }    #T_4e9d9a48_5648_11eb_835a_8438355b82e0row2_col2 {\n",
       "            color:  lime;\n",
       "            : ;\n",
       "        }    #T_4e9d9a48_5648_11eb_835a_8438355b82e0row2_col3 {\n",
       "            color:  darkgreen;\n",
       "            : ;\n",
       "        }    #T_4e9d9a48_5648_11eb_835a_8438355b82e0row2_col4 {\n",
       "            color:  darkgreen;\n",
       "            : ;\n",
       "        }    #T_4e9d9a48_5648_11eb_835a_8438355b82e0row3_col0 {\n",
       "            color:  red;\n",
       "            : ;\n",
       "        }    #T_4e9d9a48_5648_11eb_835a_8438355b82e0row3_col1 {\n",
       "            color:  darkgreen;\n",
       "            : ;\n",
       "        }    #T_4e9d9a48_5648_11eb_835a_8438355b82e0row3_col2 {\n",
       "            color:  darkgreen;\n",
       "            : ;\n",
       "        }    #T_4e9d9a48_5648_11eb_835a_8438355b82e0row3_col3 {\n",
       "            color:  darkgreen;\n",
       "            : ;\n",
       "        }    #T_4e9d9a48_5648_11eb_835a_8438355b82e0row3_col4 {\n",
       "            color:  lime;\n",
       "            background-color:  yellow;\n",
       "        }    #T_4e9d9a48_5648_11eb_835a_8438355b82e0row4_col0 {\n",
       "            color:  black;\n",
       "            : ;\n",
       "        }    #T_4e9d9a48_5648_11eb_835a_8438355b82e0row4_col1 {\n",
       "            color:  lime;\n",
       "            : ;\n",
       "        }    #T_4e9d9a48_5648_11eb_835a_8438355b82e0row4_col2 {\n",
       "            color:  lime;\n",
       "            : ;\n",
       "        }    #T_4e9d9a48_5648_11eb_835a_8438355b82e0row4_col3 {\n",
       "            color:  lime;\n",
       "            : ;\n",
       "        }    #T_4e9d9a48_5648_11eb_835a_8438355b82e0row4_col4 {\n",
       "            color:  lime;\n",
       "            background-color:  yellow;\n",
       "        }    #T_4e9d9a48_5648_11eb_835a_8438355b82e0row5_col0 {\n",
       "            color:  black;\n",
       "            : ;\n",
       "        }    #T_4e9d9a48_5648_11eb_835a_8438355b82e0row5_col1 {\n",
       "            color:  lime;\n",
       "            : ;\n",
       "        }    #T_4e9d9a48_5648_11eb_835a_8438355b82e0row5_col2 {\n",
       "            color:  darkgreen;\n",
       "            : ;\n",
       "        }    #T_4e9d9a48_5648_11eb_835a_8438355b82e0row5_col3 {\n",
       "            color:  darkgreen;\n",
       "            : ;\n",
       "        }    #T_4e9d9a48_5648_11eb_835a_8438355b82e0row5_col4 {\n",
       "            color:  lime;\n",
       "            background-color:  yellow;\n",
       "        }    #T_4e9d9a48_5648_11eb_835a_8438355b82e0row6_col0 {\n",
       "            color:  black;\n",
       "            : ;\n",
       "        }    #T_4e9d9a48_5648_11eb_835a_8438355b82e0row6_col1 {\n",
       "            color:  black;\n",
       "            : ;\n",
       "        }    #T_4e9d9a48_5648_11eb_835a_8438355b82e0row6_col2 {\n",
       "            color:  black;\n",
       "            : ;\n",
       "        }    #T_4e9d9a48_5648_11eb_835a_8438355b82e0row6_col3 {\n",
       "            color:  black;\n",
       "            : ;\n",
       "        }    #T_4e9d9a48_5648_11eb_835a_8438355b82e0row6_col4 {\n",
       "            color:  black;\n",
       "            background-color:  yellow;\n",
       "        }    #T_4e9d9a48_5648_11eb_835a_8438355b82e0row7_col0 {\n",
       "            color:  black;\n",
       "            : ;\n",
       "        }    #T_4e9d9a48_5648_11eb_835a_8438355b82e0row7_col1 {\n",
       "            color:  darkgreen;\n",
       "            : ;\n",
       "        }    #T_4e9d9a48_5648_11eb_835a_8438355b82e0row7_col2 {\n",
       "            color:  lime;\n",
       "            background-color:  yellow;\n",
       "        }    #T_4e9d9a48_5648_11eb_835a_8438355b82e0row7_col3 {\n",
       "            color:  darkgreen;\n",
       "            : ;\n",
       "        }    #T_4e9d9a48_5648_11eb_835a_8438355b82e0row7_col4 {\n",
       "            color:  darkgreen;\n",
       "            : ;\n",
       "        }    #T_4e9d9a48_5648_11eb_835a_8438355b82e0row8_col0 {\n",
       "            color:  red;\n",
       "            : ;\n",
       "        }    #T_4e9d9a48_5648_11eb_835a_8438355b82e0row8_col1 {\n",
       "            color:  black;\n",
       "            : ;\n",
       "        }    #T_4e9d9a48_5648_11eb_835a_8438355b82e0row8_col2 {\n",
       "            color:  darkgreen;\n",
       "            : ;\n",
       "        }    #T_4e9d9a48_5648_11eb_835a_8438355b82e0row8_col3 {\n",
       "            color:  black;\n",
       "            : ;\n",
       "        }    #T_4e9d9a48_5648_11eb_835a_8438355b82e0row8_col4 {\n",
       "            color:  darkgreen;\n",
       "            background-color:  yellow;\n",
       "        }</style><table id=\"T_4e9d9a48_5648_11eb_835a_8438355b82e0\" ><thead>    <tr>        <th class=\"blank level0\" ></th>        <th class=\"col_heading level0 col0\" >ex_preds</th>        <th class=\"col_heading level0 col1\" >ex_FN100</th>        <th class=\"col_heading level0 col2\" >nr__rio</th>        <th class=\"col_heading level0 col3\" >nr__sao_paulo</th>        <th class=\"col_heading level0 col4\" >nr__medellin</th>    </tr>    <tr>        <th class=\"index_name level0\" >Metrica</th>        <th class=\"blank\" ></th>        <th class=\"blank\" ></th>        <th class=\"blank\" ></th>        <th class=\"blank\" ></th>        <th class=\"blank\" ></th>    </tr></thead><tbody>\n",
       "                <tr>\n",
       "                        <th id=\"T_4e9d9a48_5648_11eb_835a_8438355b82e0level0_row0\" class=\"row_heading level0 row0\" >Validation_Sharpe</th>\n",
       "                        <td id=\"T_4e9d9a48_5648_11eb_835a_8438355b82e0row0_col0\" class=\"data row0 col0\" >0.9757</td>\n",
       "                        <td id=\"T_4e9d9a48_5648_11eb_835a_8438355b82e0row0_col1\" class=\"data row0 col1\" >1.2648</td>\n",
       "                        <td id=\"T_4e9d9a48_5648_11eb_835a_8438355b82e0row0_col2\" class=\"data row0 col2\" >1.2787</td>\n",
       "                        <td id=\"T_4e9d9a48_5648_11eb_835a_8438355b82e0row0_col3\" class=\"data row0 col3\" >1.2194</td>\n",
       "                        <td id=\"T_4e9d9a48_5648_11eb_835a_8438355b82e0row0_col4\" class=\"data row0 col4\" >1.3584</td>\n",
       "            </tr>\n",
       "            <tr>\n",
       "                        <th id=\"T_4e9d9a48_5648_11eb_835a_8438355b82e0level0_row1\" class=\"row_heading level0 row1\" >Validation_Mean</th>\n",
       "                        <td id=\"T_4e9d9a48_5648_11eb_835a_8438355b82e0row1_col0\" class=\"data row1 col0\" >0.0266</td>\n",
       "                        <td id=\"T_4e9d9a48_5648_11eb_835a_8438355b82e0row1_col1\" class=\"data row1 col1\" >0.0234</td>\n",
       "                        <td id=\"T_4e9d9a48_5648_11eb_835a_8438355b82e0row1_col2\" class=\"data row1 col2\" >0.0235</td>\n",
       "                        <td id=\"T_4e9d9a48_5648_11eb_835a_8438355b82e0row1_col3\" class=\"data row1 col3\" >0.0238</td>\n",
       "                        <td id=\"T_4e9d9a48_5648_11eb_835a_8438355b82e0row1_col4\" class=\"data row1 col4\" >0.0211</td>\n",
       "            </tr>\n",
       "            <tr>\n",
       "                        <th id=\"T_4e9d9a48_5648_11eb_835a_8438355b82e0level0_row2\" class=\"row_heading level0 row2\" >Feat_neutral_mean</th>\n",
       "                        <td id=\"T_4e9d9a48_5648_11eb_835a_8438355b82e0row2_col0\" class=\"data row2 col0\" >0.0215</td>\n",
       "                        <td id=\"T_4e9d9a48_5648_11eb_835a_8438355b82e0row2_col1\" class=\"data row2 col1\" >0.0226</td>\n",
       "                        <td id=\"T_4e9d9a48_5648_11eb_835a_8438355b82e0row2_col2\" class=\"data row2 col2\" >0.0214</td>\n",
       "                        <td id=\"T_4e9d9a48_5648_11eb_835a_8438355b82e0row2_col3\" class=\"data row2 col3\" >0.0196</td>\n",
       "                        <td id=\"T_4e9d9a48_5648_11eb_835a_8438355b82e0row2_col4\" class=\"data row2 col4\" >0.0204</td>\n",
       "            </tr>\n",
       "            <tr>\n",
       "                        <th id=\"T_4e9d9a48_5648_11eb_835a_8438355b82e0level0_row3\" class=\"row_heading level0 row3\" >Validation_SD</th>\n",
       "                        <td id=\"T_4e9d9a48_5648_11eb_835a_8438355b82e0row3_col0\" class=\"data row3 col0\" >0.0272</td>\n",
       "                        <td id=\"T_4e9d9a48_5648_11eb_835a_8438355b82e0row3_col1\" class=\"data row3 col1\" >0.0185</td>\n",
       "                        <td id=\"T_4e9d9a48_5648_11eb_835a_8438355b82e0row3_col2\" class=\"data row3 col2\" >0.0184</td>\n",
       "                        <td id=\"T_4e9d9a48_5648_11eb_835a_8438355b82e0row3_col3\" class=\"data row3 col3\" >0.0195</td>\n",
       "                        <td id=\"T_4e9d9a48_5648_11eb_835a_8438355b82e0row3_col4\" class=\"data row3 col4\" >0.0156</td>\n",
       "            </tr>\n",
       "            <tr>\n",
       "                        <th id=\"T_4e9d9a48_5648_11eb_835a_8438355b82e0level0_row4\" class=\"row_heading level0 row4\" >Feat_exp_max</th>\n",
       "                        <td id=\"T_4e9d9a48_5648_11eb_835a_8438355b82e0row4_col0\" class=\"data row4 col0\" >0.2708</td>\n",
       "                        <td id=\"T_4e9d9a48_5648_11eb_835a_8438355b82e0row4_col1\" class=\"data row4 col1\" >0.0146</td>\n",
       "                        <td id=\"T_4e9d9a48_5648_11eb_835a_8438355b82e0row4_col2\" class=\"data row4 col2\" >0.0299</td>\n",
       "                        <td id=\"T_4e9d9a48_5648_11eb_835a_8438355b82e0row4_col3\" class=\"data row4 col3\" >0.0614</td>\n",
       "                        <td id=\"T_4e9d9a48_5648_11eb_835a_8438355b82e0row4_col4\" class=\"data row4 col4\" >0.0084</td>\n",
       "            </tr>\n",
       "            <tr>\n",
       "                        <th id=\"T_4e9d9a48_5648_11eb_835a_8438355b82e0level0_row5\" class=\"row_heading level0 row5\" >Max_Drawdown</th>\n",
       "                        <td id=\"T_4e9d9a48_5648_11eb_835a_8438355b82e0row5_col0\" class=\"data row5 col0\" >-0.0651</td>\n",
       "                        <td id=\"T_4e9d9a48_5648_11eb_835a_8438355b82e0row5_col1\" class=\"data row5 col1\" >-0.0270</td>\n",
       "                        <td id=\"T_4e9d9a48_5648_11eb_835a_8438355b82e0row5_col2\" class=\"data row5 col2\" >-0.0373</td>\n",
       "                        <td id=\"T_4e9d9a48_5648_11eb_835a_8438355b82e0row5_col3\" class=\"data row5 col3\" >-0.0417</td>\n",
       "                        <td id=\"T_4e9d9a48_5648_11eb_835a_8438355b82e0row5_col4\" class=\"data row5 col4\" >-0.0203</td>\n",
       "            </tr>\n",
       "            <tr>\n",
       "                        <th id=\"T_4e9d9a48_5648_11eb_835a_8438355b82e0level0_row6\" class=\"row_heading level0 row6\" >corr_plus_mmc_sharpe</th>\n",
       "                        <td id=\"T_4e9d9a48_5648_11eb_835a_8438355b82e0row6_col0\" class=\"data row6 col0\" >0.9757</td>\n",
       "                        <td id=\"T_4e9d9a48_5648_11eb_835a_8438355b82e0row6_col1\" class=\"data row6 col1\" >0.9910</td>\n",
       "                        <td id=\"T_4e9d9a48_5648_11eb_835a_8438355b82e0row6_col2\" class=\"data row6 col2\" >1.0776</td>\n",
       "                        <td id=\"T_4e9d9a48_5648_11eb_835a_8438355b82e0row6_col3\" class=\"data row6 col3\" >1.0050</td>\n",
       "                        <td id=\"T_4e9d9a48_5648_11eb_835a_8438355b82e0row6_col4\" class=\"data row6 col4\" >1.0919</td>\n",
       "            </tr>\n",
       "            <tr>\n",
       "                        <th id=\"T_4e9d9a48_5648_11eb_835a_8438355b82e0level0_row7\" class=\"row_heading level0 row7\" >val_mmc_mean</th>\n",
       "                        <td id=\"T_4e9d9a48_5648_11eb_835a_8438355b82e0row7_col0\" class=\"data row7 col0\" >0.0000</td>\n",
       "                        <td id=\"T_4e9d9a48_5648_11eb_835a_8438355b82e0row7_col1\" class=\"data row7 col1\" >0.0055</td>\n",
       "                        <td id=\"T_4e9d9a48_5648_11eb_835a_8438355b82e0row7_col2\" class=\"data row7 col2\" >0.0075</td>\n",
       "                        <td id=\"T_4e9d9a48_5648_11eb_835a_8438355b82e0row7_col3\" class=\"data row7 col3\" >0.0041</td>\n",
       "                        <td id=\"T_4e9d9a48_5648_11eb_835a_8438355b82e0row7_col4\" class=\"data row7 col4\" >0.0062</td>\n",
       "            </tr>\n",
       "            <tr>\n",
       "                        <th id=\"T_4e9d9a48_5648_11eb_835a_8438355b82e0level0_row8\" class=\"row_heading level0 row8\" >corr_with_example_preds</th>\n",
       "                        <td id=\"T_4e9d9a48_5648_11eb_835a_8438355b82e0row8_col0\" class=\"data row8 col0\" >1.0000</td>\n",
       "                        <td id=\"T_4e9d9a48_5648_11eb_835a_8438355b82e0row8_col1\" class=\"data row8 col1\" >0.6078</td>\n",
       "                        <td id=\"T_4e9d9a48_5648_11eb_835a_8438355b82e0row8_col2\" class=\"data row8 col2\" >0.5091</td>\n",
       "                        <td id=\"T_4e9d9a48_5648_11eb_835a_8438355b82e0row8_col3\" class=\"data row8 col3\" >0.6810</td>\n",
       "                        <td id=\"T_4e9d9a48_5648_11eb_835a_8438355b82e0row8_col4\" class=\"data row8 col4\" >0.4869</td>\n",
       "            </tr>\n",
       "    </tbody></table>"
      ],
      "text/plain": [
       "<pandas.io.formats.style.Styler at 0x7fc86df67c70>"
      ]
     },
     "execution_count": 17,
     "metadata": {},
     "output_type": "execute_result"
    }
   ],
   "source": [
    "#print(\"Menor é melhor:\", min_cols)\n",
    "leaderboard_nr = df_metrics_cons_nr[df_metrics_cons_nr.Categoria.isin([\"Performance\", \"Risk\", \"MMC\"])].loc[:,models_nr[0:]]\n",
    "leaderboard_nr.astype(float).style.apply(visualize.diagnostic_colors).apply(visualize.highlight_max, axis = 1)"
   ]
  },
  {
   "cell_type": "code",
   "execution_count": 49,
   "metadata": {
    "ExecuteTime": {
     "end_time": "2021-01-14T21:03:41.967061Z",
     "start_time": "2021-01-14T21:03:41.821283Z"
    }
   },
   "outputs": [
    {
     "data": {
      "text/html": [
       "<style  type=\"text/css\" >\n",
       "    #T_fb3dfa5a_56ab_11eb_835a_8438355b82e0row0_col4 {\n",
       "            background-color:  yellow;\n",
       "        }    #T_fb3dfa5a_56ab_11eb_835a_8438355b82e0row1_col0 {\n",
       "            background-color:  yellow;\n",
       "        }    #T_fb3dfa5a_56ab_11eb_835a_8438355b82e0row2_col1 {\n",
       "            background-color:  yellow;\n",
       "        }    #T_fb3dfa5a_56ab_11eb_835a_8438355b82e0row3_col4 {\n",
       "            background-color:  yellow;\n",
       "        }    #T_fb3dfa5a_56ab_11eb_835a_8438355b82e0row4_col4 {\n",
       "            background-color:  yellow;\n",
       "        }    #T_fb3dfa5a_56ab_11eb_835a_8438355b82e0row5_col4 {\n",
       "            background-color:  yellow;\n",
       "        }    #T_fb3dfa5a_56ab_11eb_835a_8438355b82e0row6_col1 {\n",
       "            background-color:  yellow;\n",
       "        }    #T_fb3dfa5a_56ab_11eb_835a_8438355b82e0row7_col2 {\n",
       "            background-color:  yellow;\n",
       "        }    #T_fb3dfa5a_56ab_11eb_835a_8438355b82e0row8_col4 {\n",
       "            background-color:  yellow;\n",
       "        }    #T_fb3dfa5a_56ab_11eb_835a_8438355b82e0row9_col2 {\n",
       "            background-color:  yellow;\n",
       "        }    #T_fb3dfa5a_56ab_11eb_835a_8438355b82e0row10_col1 {\n",
       "            background-color:  yellow;\n",
       "        }    #T_fb3dfa5a_56ab_11eb_835a_8438355b82e0row11_col0 {\n",
       "            background-color:  yellow;\n",
       "        }    #T_fb3dfa5a_56ab_11eb_835a_8438355b82e0row11_col1 {\n",
       "            background-color:  yellow;\n",
       "        }    #T_fb3dfa5a_56ab_11eb_835a_8438355b82e0row12_col1 {\n",
       "            background-color:  yellow;\n",
       "        }    #T_fb3dfa5a_56ab_11eb_835a_8438355b82e0row13_col4 {\n",
       "            background-color:  yellow;\n",
       "        }    #T_fb3dfa5a_56ab_11eb_835a_8438355b82e0row14_col4 {\n",
       "            background-color:  yellow;\n",
       "        }</style><table id=\"T_fb3dfa5a_56ab_11eb_835a_8438355b82e0\" ><thead>    <tr>        <th class=\"blank level0\" ></th>        <th class=\"col_heading level0 col0\" >ex_preds</th>        <th class=\"col_heading level0 col1\" >ex_FN100</th>        <th class=\"col_heading level0 col2\" >nr__rio</th>        <th class=\"col_heading level0 col3\" >nr__sao_paulo</th>        <th class=\"col_heading level0 col4\" >nr__medellin</th>    </tr>    <tr>        <th class=\"index_name level0\" >Metrica</th>        <th class=\"blank\" ></th>        <th class=\"blank\" ></th>        <th class=\"blank\" ></th>        <th class=\"blank\" ></th>        <th class=\"blank\" ></th>    </tr></thead><tbody>\n",
       "                <tr>\n",
       "                        <th id=\"T_fb3dfa5a_56ab_11eb_835a_8438355b82e0level0_row0\" class=\"row_heading level0 row0\" >Validation_Sharpe</th>\n",
       "                        <td id=\"T_fb3dfa5a_56ab_11eb_835a_8438355b82e0row0_col0\" class=\"data row0 col0\" >0.9757</td>\n",
       "                        <td id=\"T_fb3dfa5a_56ab_11eb_835a_8438355b82e0row0_col1\" class=\"data row0 col1\" >1.2648</td>\n",
       "                        <td id=\"T_fb3dfa5a_56ab_11eb_835a_8438355b82e0row0_col2\" class=\"data row0 col2\" >1.2787</td>\n",
       "                        <td id=\"T_fb3dfa5a_56ab_11eb_835a_8438355b82e0row0_col3\" class=\"data row0 col3\" >1.2194</td>\n",
       "                        <td id=\"T_fb3dfa5a_56ab_11eb_835a_8438355b82e0row0_col4\" class=\"data row0 col4\" >1.3584</td>\n",
       "            </tr>\n",
       "            <tr>\n",
       "                        <th id=\"T_fb3dfa5a_56ab_11eb_835a_8438355b82e0level0_row1\" class=\"row_heading level0 row1\" >Validation_Mean</th>\n",
       "                        <td id=\"T_fb3dfa5a_56ab_11eb_835a_8438355b82e0row1_col0\" class=\"data row1 col0\" >0.0266</td>\n",
       "                        <td id=\"T_fb3dfa5a_56ab_11eb_835a_8438355b82e0row1_col1\" class=\"data row1 col1\" >0.0234</td>\n",
       "                        <td id=\"T_fb3dfa5a_56ab_11eb_835a_8438355b82e0row1_col2\" class=\"data row1 col2\" >0.0235</td>\n",
       "                        <td id=\"T_fb3dfa5a_56ab_11eb_835a_8438355b82e0row1_col3\" class=\"data row1 col3\" >0.0238</td>\n",
       "                        <td id=\"T_fb3dfa5a_56ab_11eb_835a_8438355b82e0row1_col4\" class=\"data row1 col4\" >0.0211</td>\n",
       "            </tr>\n",
       "            <tr>\n",
       "                        <th id=\"T_fb3dfa5a_56ab_11eb_835a_8438355b82e0level0_row2\" class=\"row_heading level0 row2\" >Feat_neutral_mean</th>\n",
       "                        <td id=\"T_fb3dfa5a_56ab_11eb_835a_8438355b82e0row2_col0\" class=\"data row2 col0\" >0.0215</td>\n",
       "                        <td id=\"T_fb3dfa5a_56ab_11eb_835a_8438355b82e0row2_col1\" class=\"data row2 col1\" >0.0226</td>\n",
       "                        <td id=\"T_fb3dfa5a_56ab_11eb_835a_8438355b82e0row2_col2\" class=\"data row2 col2\" >0.0214</td>\n",
       "                        <td id=\"T_fb3dfa5a_56ab_11eb_835a_8438355b82e0row2_col3\" class=\"data row2 col3\" >0.0196</td>\n",
       "                        <td id=\"T_fb3dfa5a_56ab_11eb_835a_8438355b82e0row2_col4\" class=\"data row2 col4\" >0.0204</td>\n",
       "            </tr>\n",
       "            <tr>\n",
       "                        <th id=\"T_fb3dfa5a_56ab_11eb_835a_8438355b82e0level0_row3\" class=\"row_heading level0 row3\" >Validation_SD</th>\n",
       "                        <td id=\"T_fb3dfa5a_56ab_11eb_835a_8438355b82e0row3_col0\" class=\"data row3 col0\" >0.0272</td>\n",
       "                        <td id=\"T_fb3dfa5a_56ab_11eb_835a_8438355b82e0row3_col1\" class=\"data row3 col1\" >0.0185</td>\n",
       "                        <td id=\"T_fb3dfa5a_56ab_11eb_835a_8438355b82e0row3_col2\" class=\"data row3 col2\" >0.0184</td>\n",
       "                        <td id=\"T_fb3dfa5a_56ab_11eb_835a_8438355b82e0row3_col3\" class=\"data row3 col3\" >0.0195</td>\n",
       "                        <td id=\"T_fb3dfa5a_56ab_11eb_835a_8438355b82e0row3_col4\" class=\"data row3 col4\" >0.0156</td>\n",
       "            </tr>\n",
       "            <tr>\n",
       "                        <th id=\"T_fb3dfa5a_56ab_11eb_835a_8438355b82e0level0_row4\" class=\"row_heading level0 row4\" >Feat_exp_max</th>\n",
       "                        <td id=\"T_fb3dfa5a_56ab_11eb_835a_8438355b82e0row4_col0\" class=\"data row4 col0\" >0.2708</td>\n",
       "                        <td id=\"T_fb3dfa5a_56ab_11eb_835a_8438355b82e0row4_col1\" class=\"data row4 col1\" >0.0146</td>\n",
       "                        <td id=\"T_fb3dfa5a_56ab_11eb_835a_8438355b82e0row4_col2\" class=\"data row4 col2\" >0.0299</td>\n",
       "                        <td id=\"T_fb3dfa5a_56ab_11eb_835a_8438355b82e0row4_col3\" class=\"data row4 col3\" >0.0614</td>\n",
       "                        <td id=\"T_fb3dfa5a_56ab_11eb_835a_8438355b82e0row4_col4\" class=\"data row4 col4\" >0.0084</td>\n",
       "            </tr>\n",
       "            <tr>\n",
       "                        <th id=\"T_fb3dfa5a_56ab_11eb_835a_8438355b82e0level0_row5\" class=\"row_heading level0 row5\" >Max_Drawdown</th>\n",
       "                        <td id=\"T_fb3dfa5a_56ab_11eb_835a_8438355b82e0row5_col0\" class=\"data row5 col0\" >-0.0651</td>\n",
       "                        <td id=\"T_fb3dfa5a_56ab_11eb_835a_8438355b82e0row5_col1\" class=\"data row5 col1\" >-0.0270</td>\n",
       "                        <td id=\"T_fb3dfa5a_56ab_11eb_835a_8438355b82e0row5_col2\" class=\"data row5 col2\" >-0.0373</td>\n",
       "                        <td id=\"T_fb3dfa5a_56ab_11eb_835a_8438355b82e0row5_col3\" class=\"data row5 col3\" >-0.0417</td>\n",
       "                        <td id=\"T_fb3dfa5a_56ab_11eb_835a_8438355b82e0row5_col4\" class=\"data row5 col4\" >-0.0203</td>\n",
       "            </tr>\n",
       "            <tr>\n",
       "                        <th id=\"T_fb3dfa5a_56ab_11eb_835a_8438355b82e0level0_row6\" class=\"row_heading level0 row6\" >corr_plus_mmc_sharpe</th>\n",
       "                        <td id=\"T_fb3dfa5a_56ab_11eb_835a_8438355b82e0row6_col0\" class=\"data row6 col0\" >0.9757</td>\n",
       "                        <td id=\"T_fb3dfa5a_56ab_11eb_835a_8438355b82e0row6_col1\" class=\"data row6 col1\" >1.2648</td>\n",
       "                        <td id=\"T_fb3dfa5a_56ab_11eb_835a_8438355b82e0row6_col2\" class=\"data row6 col2\" >1.0776</td>\n",
       "                        <td id=\"T_fb3dfa5a_56ab_11eb_835a_8438355b82e0row6_col3\" class=\"data row6 col3\" >1.0050</td>\n",
       "                        <td id=\"T_fb3dfa5a_56ab_11eb_835a_8438355b82e0row6_col4\" class=\"data row6 col4\" >1.0919</td>\n",
       "            </tr>\n",
       "            <tr>\n",
       "                        <th id=\"T_fb3dfa5a_56ab_11eb_835a_8438355b82e0level0_row7\" class=\"row_heading level0 row7\" >val_mmc_mean</th>\n",
       "                        <td id=\"T_fb3dfa5a_56ab_11eb_835a_8438355b82e0row7_col0\" class=\"data row7 col0\" >0.0000</td>\n",
       "                        <td id=\"T_fb3dfa5a_56ab_11eb_835a_8438355b82e0row7_col1\" class=\"data row7 col1\" >0.0000</td>\n",
       "                        <td id=\"T_fb3dfa5a_56ab_11eb_835a_8438355b82e0row7_col2\" class=\"data row7 col2\" >0.0075</td>\n",
       "                        <td id=\"T_fb3dfa5a_56ab_11eb_835a_8438355b82e0row7_col3\" class=\"data row7 col3\" >0.0041</td>\n",
       "                        <td id=\"T_fb3dfa5a_56ab_11eb_835a_8438355b82e0row7_col4\" class=\"data row7 col4\" >0.0062</td>\n",
       "            </tr>\n",
       "            <tr>\n",
       "                        <th id=\"T_fb3dfa5a_56ab_11eb_835a_8438355b82e0level0_row8\" class=\"row_heading level0 row8\" >corr_with_example_preds</th>\n",
       "                        <td id=\"T_fb3dfa5a_56ab_11eb_835a_8438355b82e0row8_col0\" class=\"data row8 col0\" >1.0000</td>\n",
       "                        <td id=\"T_fb3dfa5a_56ab_11eb_835a_8438355b82e0row8_col1\" class=\"data row8 col1\" >1.0000</td>\n",
       "                        <td id=\"T_fb3dfa5a_56ab_11eb_835a_8438355b82e0row8_col2\" class=\"data row8 col2\" >0.5103</td>\n",
       "                        <td id=\"T_fb3dfa5a_56ab_11eb_835a_8438355b82e0row8_col3\" class=\"data row8 col3\" >0.6815</td>\n",
       "                        <td id=\"T_fb3dfa5a_56ab_11eb_835a_8438355b82e0row8_col4\" class=\"data row8 col4\" >0.4871</td>\n",
       "            </tr>\n",
       "            <tr>\n",
       "                        <th id=\"T_fb3dfa5a_56ab_11eb_835a_8438355b82e0level0_row9\" class=\"row_heading level0 row9\" >val_mmc_mean_FN</th>\n",
       "                        <td id=\"T_fb3dfa5a_56ab_11eb_835a_8438355b82e0row9_col0\" class=\"data row9 col0\" >0.0000</td>\n",
       "                        <td id=\"T_fb3dfa5a_56ab_11eb_835a_8438355b82e0row9_col1\" class=\"data row9 col1\" >0.0000</td>\n",
       "                        <td id=\"T_fb3dfa5a_56ab_11eb_835a_8438355b82e0row9_col2\" class=\"data row9 col2\" >0.0036</td>\n",
       "                        <td id=\"T_fb3dfa5a_56ab_11eb_835a_8438355b82e0row9_col3\" class=\"data row9 col3\" >0.0022</td>\n",
       "                        <td id=\"T_fb3dfa5a_56ab_11eb_835a_8438355b82e0row9_col4\" class=\"data row9 col4\" >0.0021</td>\n",
       "            </tr>\n",
       "            <tr>\n",
       "                        <th id=\"T_fb3dfa5a_56ab_11eb_835a_8438355b82e0level0_row10\" class=\"row_heading level0 row10\" >corr_plus_mmc_sharpe_FN</th>\n",
       "                        <td id=\"T_fb3dfa5a_56ab_11eb_835a_8438355b82e0row10_col0\" class=\"data row10 col0\" >0.9757</td>\n",
       "                        <td id=\"T_fb3dfa5a_56ab_11eb_835a_8438355b82e0row10_col1\" class=\"data row10 col1\" >1.2648</td>\n",
       "                        <td id=\"T_fb3dfa5a_56ab_11eb_835a_8438355b82e0row10_col2\" class=\"data row10 col2\" >1.1405</td>\n",
       "                        <td id=\"T_fb3dfa5a_56ab_11eb_835a_8438355b82e0row10_col3\" class=\"data row10 col3\" >1.0968</td>\n",
       "                        <td id=\"T_fb3dfa5a_56ab_11eb_835a_8438355b82e0row10_col4\" class=\"data row10 col4\" >1.2093</td>\n",
       "            </tr>\n",
       "            <tr>\n",
       "                        <th id=\"T_fb3dfa5a_56ab_11eb_835a_8438355b82e0level0_row11\" class=\"row_heading level0 row11\" >corr_with_ex_FN100</th>\n",
       "                        <td id=\"T_fb3dfa5a_56ab_11eb_835a_8438355b82e0row11_col0\" class=\"data row11 col0\" >1.0000</td>\n",
       "                        <td id=\"T_fb3dfa5a_56ab_11eb_835a_8438355b82e0row11_col1\" class=\"data row11 col1\" >1.0000</td>\n",
       "                        <td id=\"T_fb3dfa5a_56ab_11eb_835a_8438355b82e0row11_col2\" class=\"data row11 col2\" >0.7950</td>\n",
       "                        <td id=\"T_fb3dfa5a_56ab_11eb_835a_8438355b82e0row11_col3\" class=\"data row11 col3\" >0.8817</td>\n",
       "                        <td id=\"T_fb3dfa5a_56ab_11eb_835a_8438355b82e0row11_col4\" class=\"data row11 col4\" >0.7830</td>\n",
       "            </tr>\n",
       "            <tr>\n",
       "                        <th id=\"T_fb3dfa5a_56ab_11eb_835a_8438355b82e0level0_row12\" class=\"row_heading level0 row12\" >Adj_Sharpe</th>\n",
       "                        <td id=\"T_fb3dfa5a_56ab_11eb_835a_8438355b82e0row12_col0\" class=\"data row12 col0\" >0.5703</td>\n",
       "                        <td id=\"T_fb3dfa5a_56ab_11eb_835a_8438355b82e0row12_col1\" class=\"data row12 col1\" >0.6828</td>\n",
       "                        <td id=\"T_fb3dfa5a_56ab_11eb_835a_8438355b82e0row12_col2\" class=\"data row12 col2\" >0.6397</td>\n",
       "                        <td id=\"T_fb3dfa5a_56ab_11eb_835a_8438355b82e0row12_col3\" class=\"data row12 col3\" >0.6080</td>\n",
       "                        <td id=\"T_fb3dfa5a_56ab_11eb_835a_8438355b82e0row12_col4\" class=\"data row12 col4\" >0.6607</td>\n",
       "            </tr>\n",
       "            <tr>\n",
       "                        <th id=\"T_fb3dfa5a_56ab_11eb_835a_8438355b82e0level0_row13\" class=\"row_heading level0 row13\" >Prob_Sharpe</th>\n",
       "                        <td id=\"T_fb3dfa5a_56ab_11eb_835a_8438355b82e0row13_col0\" class=\"data row13 col0\" >1.0000</td>\n",
       "                        <td id=\"T_fb3dfa5a_56ab_11eb_835a_8438355b82e0row13_col1\" class=\"data row13 col1\" >1.0000</td>\n",
       "                        <td id=\"T_fb3dfa5a_56ab_11eb_835a_8438355b82e0row13_col2\" class=\"data row13 col2\" >1.0000</td>\n",
       "                        <td id=\"T_fb3dfa5a_56ab_11eb_835a_8438355b82e0row13_col3\" class=\"data row13 col3\" >1.0000</td>\n",
       "                        <td id=\"T_fb3dfa5a_56ab_11eb_835a_8438355b82e0row13_col4\" class=\"data row13 col4\" >1.0000</td>\n",
       "            </tr>\n",
       "            <tr>\n",
       "                        <th id=\"T_fb3dfa5a_56ab_11eb_835a_8438355b82e0level0_row14\" class=\"row_heading level0 row14\" >Deflated_Sharpe</th>\n",
       "                        <td id=\"T_fb3dfa5a_56ab_11eb_835a_8438355b82e0row14_col0\" class=\"data row14 col0\" >0.0000</td>\n",
       "                        <td id=\"T_fb3dfa5a_56ab_11eb_835a_8438355b82e0row14_col1\" class=\"data row14 col1\" >0.0000</td>\n",
       "                        <td id=\"T_fb3dfa5a_56ab_11eb_835a_8438355b82e0row14_col2\" class=\"data row14 col2\" >0.0000</td>\n",
       "                        <td id=\"T_fb3dfa5a_56ab_11eb_835a_8438355b82e0row14_col3\" class=\"data row14 col3\" >0.0000</td>\n",
       "                        <td id=\"T_fb3dfa5a_56ab_11eb_835a_8438355b82e0row14_col4\" class=\"data row14 col4\" >0.9929</td>\n",
       "            </tr>\n",
       "    </tbody></table>"
      ],
      "text/plain": [
       "<pandas.io.formats.style.Styler at 0x7fc83181a9a0>"
      ]
     },
     "execution_count": 49,
     "metadata": {},
     "output_type": "execute_result"
    }
   ],
   "source": [
    "1#print(\"Menor é melhor:\", min_cols)\n",
    "leaderboard_nr = df_metrics_cons_nr[df_metrics_cons_nr.Categoria.isin([\"Performance\",\n",
    "                                                                       \"Risk\", \n",
    "                                                                       \"MMC\", \n",
    "                                                                       \"MMC_FN\", \n",
    "                                                                       \"Special\"])].loc[:,models_nr[0:]]\n",
    "\n",
    "leaderboard_nr.astype(float).style.apply(visualize.highlight_max, axis = 1)"
   ]
  },
  {
   "cell_type": "code",
   "execution_count": 36,
   "metadata": {
    "ExecuteTime": {
     "end_time": "2021-01-14T20:43:06.990886Z",
     "start_time": "2021-01-14T20:43:06.543134Z"
    },
    "slideshow": {
     "slide_type": "subslide"
    }
   },
   "outputs": [
    {
     "data": {
      "application/vnd.plotly.v1+json": {
       "config": {
        "linkText": "Export to plot.ly",
        "plotlyServerURL": "https://plot.ly",
        "showLink": false
       },
       "data": [
        {
         "marker": {
          "color": "#ff0000"
         },
         "name": "ex_preds",
         "type": "bar",
         "x": [
          "era_121",
          "era_122",
          "era_123",
          "era_124",
          "era_125",
          "era_126",
          "era_127",
          "era_128",
          "era_129",
          "era_130",
          "era_131",
          "era_132",
          "era_197",
          "era_198",
          "era_199",
          "era_200",
          "era_201",
          "era_202",
          "era_203",
          "era_204",
          "era_205",
          "era_206",
          "era_207",
          "era_208",
          "era_209",
          "era_210",
          "era_211",
          "era_212"
         ],
         "y": [
          0.04122480924321019,
          0.027952611938385063,
          0.04119477608502579,
          0.06373926526856741,
          0.043692850356729096,
          0.025310861347111004,
          0.0032825428417203573,
          0.06384033587906851,
          -0.019212299775156597,
          0.06258835392571085,
          0.03003545576842802,
          0.07335540107511057,
          0.02969288667050656,
          0.018079358380192843,
          -0.03260486476565889,
          0.006095150624495453,
          0.013111989697519671,
          0.044512370949521714,
          0.02495302382100023,
          0.02230667982587441,
          0.0045475927048986555,
          0.004436713221560518,
          0.0597683485089227,
          0.037813767588772265,
          0.054333830293016167,
          -0.01394615747393294,
          -0.01784991873204364,
          0.03191145836336875
         ]
        },
        {
         "marker": {
          "color": "#ffa700"
         },
         "name": "ex_FN100",
         "type": "bar",
         "x": [
          "era_121",
          "era_122",
          "era_123",
          "era_124",
          "era_125",
          "era_126",
          "era_127",
          "era_128",
          "era_129",
          "era_130",
          "era_131",
          "era_132",
          "era_197",
          "era_198",
          "era_199",
          "era_200",
          "era_201",
          "era_202",
          "era_203",
          "era_204",
          "era_205",
          "era_206",
          "era_207",
          "era_208",
          "era_209",
          "era_210",
          "era_211",
          "era_212"
         ],
         "y": [
          0.06939916002426803,
          0.04443711663126354,
          0.025762794825502,
          0.04397680715670657,
          0.040850606137788896,
          -0.004361946855068059,
          0.029238377946502952,
          0.025404790738603116,
          -0.020657827160335724,
          0.05166422407839638,
          0.018039698065866826,
          0.014170042088072387,
          0.01702879820473818,
          0.03806615983401128,
          0.02629348839106989,
          -0.008028396710475724,
          0.004412448062541152,
          0.03413295946257918,
          0.024134785318802317,
          0.004399938756371303,
          0.02170050759283865,
          0.015360893614997057,
          0.04059350246625131,
          0.02006149869585597,
          0.018441630566688984,
          0.011217786476627929,
          0.021885976519419186,
          0.028973592220806463
         ]
        },
        {
         "marker": {
          "color": "#afff00"
         },
         "name": "nr__rio",
         "type": "bar",
         "x": [
          "era_121",
          "era_122",
          "era_123",
          "era_124",
          "era_125",
          "era_126",
          "era_127",
          "era_128",
          "era_129",
          "era_130",
          "era_131",
          "era_132",
          "era_197",
          "era_198",
          "era_199",
          "era_200",
          "era_201",
          "era_202",
          "era_203",
          "era_204",
          "era_205",
          "era_206",
          "era_207",
          "era_208",
          "era_209",
          "era_210",
          "era_211",
          "era_212"
         ],
         "y": [
          0.06311278770096497,
          0.02919654334980769,
          0.030553716916620958,
          0.03889278007284822,
          0.03207772251659092,
          0.0005967006019444655,
          0.04688941141803261,
          0.04209731417884466,
          -0.028267876883813898,
          0.0320006188867439,
          0.030958863462223162,
          0.03749103769487316,
          0.010402061567990386,
          0.03519079550828336,
          0.02923021928594462,
          -0.003713846515456051,
          0.006260527118198195,
          0.037858223679526924,
          0.016848059704610046,
          -0.002073323044436794,
          0.038779422330945064,
          0.01476894151113725,
          0.023361934274950247,
          0.02954244552641844,
          0.02460155225853416,
          0.003567967934836462,
          0.016597398524719226,
          0.021390299833732633
         ]
        },
        {
         "marker": {
          "color": "#08ff00"
         },
         "name": "nr__sao_paulo",
         "type": "bar",
         "x": [
          "era_121",
          "era_122",
          "era_123",
          "era_124",
          "era_125",
          "era_126",
          "era_127",
          "era_128",
          "era_129",
          "era_130",
          "era_131",
          "era_132",
          "era_197",
          "era_198",
          "era_199",
          "era_200",
          "era_201",
          "era_202",
          "era_203",
          "era_204",
          "era_205",
          "era_206",
          "era_207",
          "era_208",
          "era_209",
          "era_210",
          "era_211",
          "era_212"
         ],
         "y": [
          0.06073108552734227,
          0.04070997060290201,
          0.03476575721309458,
          0.046026797665716546,
          0.039983016229083575,
          -0.004960770317143955,
          0.03459654781890374,
          0.03499740109199429,
          -0.031461602094788585,
          0.04793191306934763,
          0.037661567195689485,
          0.033060696553627325,
          0.016145505166654164,
          0.0358942275580137,
          0.019093307599843585,
          -0.007732825006075031,
          0.004590733336145723,
          0.03255170639709388,
          0.006337285271988616,
          0.008884065225384397,
          0.026225420487572204,
          0.018657908745397217,
          0.032502289893964524,
          0.03204358054414556,
          0.025984418505047863,
          -0.00025850113445698966,
          0.011417236522318007,
          0.029421080813418363
         ]
        },
        {
         "marker": {
          "color": "#00ff9f"
         },
         "name": "nr__medellin",
         "type": "bar",
         "x": [
          "era_121",
          "era_122",
          "era_123",
          "era_124",
          "era_125",
          "era_126",
          "era_127",
          "era_128",
          "era_129",
          "era_130",
          "era_131",
          "era_132",
          "era_197",
          "era_198",
          "era_199",
          "era_200",
          "era_201",
          "era_202",
          "era_203",
          "era_204",
          "era_205",
          "era_206",
          "era_207",
          "era_208",
          "era_209",
          "era_210",
          "era_211",
          "era_212"
         ],
         "y": [
          0.05697934318807764,
          0.021685757713606424,
          0.034857370914517,
          0.030655394274980572,
          0.02762170484454043,
          0.003343150896989749,
          0.04205416194673143,
          0.026420300672613486,
          -0.015972481729276202,
          0.04234141974739126,
          0.014556442778334858,
          0.028988191946467255,
          0.014117789312714506,
          0.027224911271651775,
          0.026318048679955082,
          -0.0062109892385651564,
          0.0038099667931188338,
          0.02284267207233131,
          0.03376999431913324,
          0.00540085332954768,
          0.033057567916408764,
          0.020854455053636645,
          0.019306688559509694,
          0.034513767884487956,
          0.009941630137703075,
          0.001299879264710513,
          0.016473494533520677,
          0.01582041852434252
         ]
        }
       ],
       "layout": {
        "barmode": "stack",
        "template": {
         "data": {
          "bar": [
           {
            "error_x": {
             "color": "#2a3f5f"
            },
            "error_y": {
             "color": "#2a3f5f"
            },
            "marker": {
             "line": {
              "color": "#E5ECF6",
              "width": 0.5
             }
            },
            "type": "bar"
           }
          ],
          "barpolar": [
           {
            "marker": {
             "line": {
              "color": "#E5ECF6",
              "width": 0.5
             }
            },
            "type": "barpolar"
           }
          ],
          "carpet": [
           {
            "aaxis": {
             "endlinecolor": "#2a3f5f",
             "gridcolor": "white",
             "linecolor": "white",
             "minorgridcolor": "white",
             "startlinecolor": "#2a3f5f"
            },
            "baxis": {
             "endlinecolor": "#2a3f5f",
             "gridcolor": "white",
             "linecolor": "white",
             "minorgridcolor": "white",
             "startlinecolor": "#2a3f5f"
            },
            "type": "carpet"
           }
          ],
          "choropleth": [
           {
            "colorbar": {
             "outlinewidth": 0,
             "ticks": ""
            },
            "type": "choropleth"
           }
          ],
          "contour": [
           {
            "colorbar": {
             "outlinewidth": 0,
             "ticks": ""
            },
            "colorscale": [
             [
              0,
              "#0d0887"
             ],
             [
              0.1111111111111111,
              "#46039f"
             ],
             [
              0.2222222222222222,
              "#7201a8"
             ],
             [
              0.3333333333333333,
              "#9c179e"
             ],
             [
              0.4444444444444444,
              "#bd3786"
             ],
             [
              0.5555555555555556,
              "#d8576b"
             ],
             [
              0.6666666666666666,
              "#ed7953"
             ],
             [
              0.7777777777777778,
              "#fb9f3a"
             ],
             [
              0.8888888888888888,
              "#fdca26"
             ],
             [
              1,
              "#f0f921"
             ]
            ],
            "type": "contour"
           }
          ],
          "contourcarpet": [
           {
            "colorbar": {
             "outlinewidth": 0,
             "ticks": ""
            },
            "type": "contourcarpet"
           }
          ],
          "heatmap": [
           {
            "colorbar": {
             "outlinewidth": 0,
             "ticks": ""
            },
            "colorscale": [
             [
              0,
              "#0d0887"
             ],
             [
              0.1111111111111111,
              "#46039f"
             ],
             [
              0.2222222222222222,
              "#7201a8"
             ],
             [
              0.3333333333333333,
              "#9c179e"
             ],
             [
              0.4444444444444444,
              "#bd3786"
             ],
             [
              0.5555555555555556,
              "#d8576b"
             ],
             [
              0.6666666666666666,
              "#ed7953"
             ],
             [
              0.7777777777777778,
              "#fb9f3a"
             ],
             [
              0.8888888888888888,
              "#fdca26"
             ],
             [
              1,
              "#f0f921"
             ]
            ],
            "type": "heatmap"
           }
          ],
          "heatmapgl": [
           {
            "colorbar": {
             "outlinewidth": 0,
             "ticks": ""
            },
            "colorscale": [
             [
              0,
              "#0d0887"
             ],
             [
              0.1111111111111111,
              "#46039f"
             ],
             [
              0.2222222222222222,
              "#7201a8"
             ],
             [
              0.3333333333333333,
              "#9c179e"
             ],
             [
              0.4444444444444444,
              "#bd3786"
             ],
             [
              0.5555555555555556,
              "#d8576b"
             ],
             [
              0.6666666666666666,
              "#ed7953"
             ],
             [
              0.7777777777777778,
              "#fb9f3a"
             ],
             [
              0.8888888888888888,
              "#fdca26"
             ],
             [
              1,
              "#f0f921"
             ]
            ],
            "type": "heatmapgl"
           }
          ],
          "histogram": [
           {
            "marker": {
             "colorbar": {
              "outlinewidth": 0,
              "ticks": ""
             }
            },
            "type": "histogram"
           }
          ],
          "histogram2d": [
           {
            "colorbar": {
             "outlinewidth": 0,
             "ticks": ""
            },
            "colorscale": [
             [
              0,
              "#0d0887"
             ],
             [
              0.1111111111111111,
              "#46039f"
             ],
             [
              0.2222222222222222,
              "#7201a8"
             ],
             [
              0.3333333333333333,
              "#9c179e"
             ],
             [
              0.4444444444444444,
              "#bd3786"
             ],
             [
              0.5555555555555556,
              "#d8576b"
             ],
             [
              0.6666666666666666,
              "#ed7953"
             ],
             [
              0.7777777777777778,
              "#fb9f3a"
             ],
             [
              0.8888888888888888,
              "#fdca26"
             ],
             [
              1,
              "#f0f921"
             ]
            ],
            "type": "histogram2d"
           }
          ],
          "histogram2dcontour": [
           {
            "colorbar": {
             "outlinewidth": 0,
             "ticks": ""
            },
            "colorscale": [
             [
              0,
              "#0d0887"
             ],
             [
              0.1111111111111111,
              "#46039f"
             ],
             [
              0.2222222222222222,
              "#7201a8"
             ],
             [
              0.3333333333333333,
              "#9c179e"
             ],
             [
              0.4444444444444444,
              "#bd3786"
             ],
             [
              0.5555555555555556,
              "#d8576b"
             ],
             [
              0.6666666666666666,
              "#ed7953"
             ],
             [
              0.7777777777777778,
              "#fb9f3a"
             ],
             [
              0.8888888888888888,
              "#fdca26"
             ],
             [
              1,
              "#f0f921"
             ]
            ],
            "type": "histogram2dcontour"
           }
          ],
          "mesh3d": [
           {
            "colorbar": {
             "outlinewidth": 0,
             "ticks": ""
            },
            "type": "mesh3d"
           }
          ],
          "parcoords": [
           {
            "line": {
             "colorbar": {
              "outlinewidth": 0,
              "ticks": ""
             }
            },
            "type": "parcoords"
           }
          ],
          "pie": [
           {
            "automargin": true,
            "type": "pie"
           }
          ],
          "scatter": [
           {
            "marker": {
             "colorbar": {
              "outlinewidth": 0,
              "ticks": ""
             }
            },
            "type": "scatter"
           }
          ],
          "scatter3d": [
           {
            "line": {
             "colorbar": {
              "outlinewidth": 0,
              "ticks": ""
             }
            },
            "marker": {
             "colorbar": {
              "outlinewidth": 0,
              "ticks": ""
             }
            },
            "type": "scatter3d"
           }
          ],
          "scattercarpet": [
           {
            "marker": {
             "colorbar": {
              "outlinewidth": 0,
              "ticks": ""
             }
            },
            "type": "scattercarpet"
           }
          ],
          "scattergeo": [
           {
            "marker": {
             "colorbar": {
              "outlinewidth": 0,
              "ticks": ""
             }
            },
            "type": "scattergeo"
           }
          ],
          "scattergl": [
           {
            "marker": {
             "colorbar": {
              "outlinewidth": 0,
              "ticks": ""
             }
            },
            "type": "scattergl"
           }
          ],
          "scattermapbox": [
           {
            "marker": {
             "colorbar": {
              "outlinewidth": 0,
              "ticks": ""
             }
            },
            "type": "scattermapbox"
           }
          ],
          "scatterpolar": [
           {
            "marker": {
             "colorbar": {
              "outlinewidth": 0,
              "ticks": ""
             }
            },
            "type": "scatterpolar"
           }
          ],
          "scatterpolargl": [
           {
            "marker": {
             "colorbar": {
              "outlinewidth": 0,
              "ticks": ""
             }
            },
            "type": "scatterpolargl"
           }
          ],
          "scatterternary": [
           {
            "marker": {
             "colorbar": {
              "outlinewidth": 0,
              "ticks": ""
             }
            },
            "type": "scatterternary"
           }
          ],
          "surface": [
           {
            "colorbar": {
             "outlinewidth": 0,
             "ticks": ""
            },
            "colorscale": [
             [
              0,
              "#0d0887"
             ],
             [
              0.1111111111111111,
              "#46039f"
             ],
             [
              0.2222222222222222,
              "#7201a8"
             ],
             [
              0.3333333333333333,
              "#9c179e"
             ],
             [
              0.4444444444444444,
              "#bd3786"
             ],
             [
              0.5555555555555556,
              "#d8576b"
             ],
             [
              0.6666666666666666,
              "#ed7953"
             ],
             [
              0.7777777777777778,
              "#fb9f3a"
             ],
             [
              0.8888888888888888,
              "#fdca26"
             ],
             [
              1,
              "#f0f921"
             ]
            ],
            "type": "surface"
           }
          ],
          "table": [
           {
            "cells": {
             "fill": {
              "color": "#EBF0F8"
             },
             "line": {
              "color": "white"
             }
            },
            "header": {
             "fill": {
              "color": "#C8D4E3"
             },
             "line": {
              "color": "white"
             }
            },
            "type": "table"
           }
          ]
         },
         "layout": {
          "annotationdefaults": {
           "arrowcolor": "#2a3f5f",
           "arrowhead": 0,
           "arrowwidth": 1
          },
          "coloraxis": {
           "colorbar": {
            "outlinewidth": 0,
            "ticks": ""
           }
          },
          "colorscale": {
           "diverging": [
            [
             0,
             "#8e0152"
            ],
            [
             0.1,
             "#c51b7d"
            ],
            [
             0.2,
             "#de77ae"
            ],
            [
             0.3,
             "#f1b6da"
            ],
            [
             0.4,
             "#fde0ef"
            ],
            [
             0.5,
             "#f7f7f7"
            ],
            [
             0.6,
             "#e6f5d0"
            ],
            [
             0.7,
             "#b8e186"
            ],
            [
             0.8,
             "#7fbc41"
            ],
            [
             0.9,
             "#4d9221"
            ],
            [
             1,
             "#276419"
            ]
           ],
           "sequential": [
            [
             0,
             "#0d0887"
            ],
            [
             0.1111111111111111,
             "#46039f"
            ],
            [
             0.2222222222222222,
             "#7201a8"
            ],
            [
             0.3333333333333333,
             "#9c179e"
            ],
            [
             0.4444444444444444,
             "#bd3786"
            ],
            [
             0.5555555555555556,
             "#d8576b"
            ],
            [
             0.6666666666666666,
             "#ed7953"
            ],
            [
             0.7777777777777778,
             "#fb9f3a"
            ],
            [
             0.8888888888888888,
             "#fdca26"
            ],
            [
             1,
             "#f0f921"
            ]
           ],
           "sequentialminus": [
            [
             0,
             "#0d0887"
            ],
            [
             0.1111111111111111,
             "#46039f"
            ],
            [
             0.2222222222222222,
             "#7201a8"
            ],
            [
             0.3333333333333333,
             "#9c179e"
            ],
            [
             0.4444444444444444,
             "#bd3786"
            ],
            [
             0.5555555555555556,
             "#d8576b"
            ],
            [
             0.6666666666666666,
             "#ed7953"
            ],
            [
             0.7777777777777778,
             "#fb9f3a"
            ],
            [
             0.8888888888888888,
             "#fdca26"
            ],
            [
             1,
             "#f0f921"
            ]
           ]
          },
          "colorway": [
           "#636efa",
           "#EF553B",
           "#00cc96",
           "#ab63fa",
           "#FFA15A",
           "#19d3f3",
           "#FF6692",
           "#B6E880",
           "#FF97FF",
           "#FECB52"
          ],
          "font": {
           "color": "#2a3f5f"
          },
          "geo": {
           "bgcolor": "white",
           "lakecolor": "white",
           "landcolor": "#E5ECF6",
           "showlakes": true,
           "showland": true,
           "subunitcolor": "white"
          },
          "hoverlabel": {
           "align": "left"
          },
          "hovermode": "closest",
          "mapbox": {
           "style": "light"
          },
          "paper_bgcolor": "white",
          "plot_bgcolor": "#E5ECF6",
          "polar": {
           "angularaxis": {
            "gridcolor": "white",
            "linecolor": "white",
            "ticks": ""
           },
           "bgcolor": "#E5ECF6",
           "radialaxis": {
            "gridcolor": "white",
            "linecolor": "white",
            "ticks": ""
           }
          },
          "scene": {
           "xaxis": {
            "backgroundcolor": "#E5ECF6",
            "gridcolor": "white",
            "gridwidth": 2,
            "linecolor": "white",
            "showbackground": true,
            "ticks": "",
            "zerolinecolor": "white"
           },
           "yaxis": {
            "backgroundcolor": "#E5ECF6",
            "gridcolor": "white",
            "gridwidth": 2,
            "linecolor": "white",
            "showbackground": true,
            "ticks": "",
            "zerolinecolor": "white"
           },
           "zaxis": {
            "backgroundcolor": "#E5ECF6",
            "gridcolor": "white",
            "gridwidth": 2,
            "linecolor": "white",
            "showbackground": true,
            "ticks": "",
            "zerolinecolor": "white"
           }
          },
          "shapedefaults": {
           "line": {
            "color": "#2a3f5f"
           }
          },
          "ternary": {
           "aaxis": {
            "gridcolor": "white",
            "linecolor": "white",
            "ticks": ""
           },
           "baxis": {
            "gridcolor": "white",
            "linecolor": "white",
            "ticks": ""
           },
           "bgcolor": "#E5ECF6",
           "caxis": {
            "gridcolor": "white",
            "linecolor": "white",
            "ticks": ""
           }
          },
          "title": {
           "x": 0.05
          },
          "xaxis": {
           "automargin": true,
           "gridcolor": "white",
           "linecolor": "white",
           "ticks": "",
           "title": {
            "standoff": 15
           },
           "zerolinecolor": "white",
           "zerolinewidth": 2
          },
          "yaxis": {
           "automargin": true,
           "gridcolor": "white",
           "linecolor": "white",
           "ticks": "",
           "title": {
            "standoff": 15
           },
           "zerolinecolor": "white",
           "zerolinewidth": 2
          }
         }
        },
        "title": {
         "text": "Era Scores por Modelo"
        },
        "xaxis": {
         "title": {
          "text": "Eras"
         }
        },
        "yaxis": {
         "title": {
          "text": "Spearman Score"
         }
        }
       }
      },
      "text/html": [
       "<div>                            <div id=\"838e93b7-5126-4204-98d8-11317b3a00a8\" class=\"plotly-graph-div\" style=\"height:525px; width:100%;\"></div>            <script type=\"text/javascript\">                require([\"plotly\"], function(Plotly) {                    window.PLOTLYENV=window.PLOTLYENV || {};                                    if (document.getElementById(\"838e93b7-5126-4204-98d8-11317b3a00a8\")) {                    Plotly.newPlot(                        \"838e93b7-5126-4204-98d8-11317b3a00a8\",                        [{\"marker\": {\"color\": \"#ff0000\"}, \"name\": \"ex_preds\", \"type\": \"bar\", \"x\": [\"era_121\", \"era_122\", \"era_123\", \"era_124\", \"era_125\", \"era_126\", \"era_127\", \"era_128\", \"era_129\", \"era_130\", \"era_131\", \"era_132\", \"era_197\", \"era_198\", \"era_199\", \"era_200\", \"era_201\", \"era_202\", \"era_203\", \"era_204\", \"era_205\", \"era_206\", \"era_207\", \"era_208\", \"era_209\", \"era_210\", \"era_211\", \"era_212\"], \"y\": [0.04122480924321019, 0.027952611938385063, 0.04119477608502579, 0.06373926526856741, 0.043692850356729096, 0.025310861347111004, 0.0032825428417203573, 0.06384033587906851, -0.019212299775156597, 0.06258835392571085, 0.03003545576842802, 0.07335540107511057, 0.02969288667050656, 0.018079358380192843, -0.03260486476565889, 0.006095150624495453, 0.013111989697519671, 0.044512370949521714, 0.02495302382100023, 0.02230667982587441, 0.0045475927048986555, 0.004436713221560518, 0.0597683485089227, 0.037813767588772265, 0.054333830293016167, -0.01394615747393294, -0.01784991873204364, 0.03191145836336875]}, {\"marker\": {\"color\": \"#ffa700\"}, \"name\": \"ex_FN100\", \"type\": \"bar\", \"x\": [\"era_121\", \"era_122\", \"era_123\", \"era_124\", \"era_125\", \"era_126\", \"era_127\", \"era_128\", \"era_129\", \"era_130\", \"era_131\", \"era_132\", \"era_197\", \"era_198\", \"era_199\", \"era_200\", \"era_201\", \"era_202\", \"era_203\", \"era_204\", \"era_205\", \"era_206\", \"era_207\", \"era_208\", \"era_209\", \"era_210\", \"era_211\", \"era_212\"], \"y\": [0.06939916002426803, 0.04443711663126354, 0.025762794825502, 0.04397680715670657, 0.040850606137788896, -0.004361946855068059, 0.029238377946502952, 0.025404790738603116, -0.020657827160335724, 0.05166422407839638, 0.018039698065866826, 0.014170042088072387, 0.01702879820473818, 0.03806615983401128, 0.02629348839106989, -0.008028396710475724, 0.004412448062541152, 0.03413295946257918, 0.024134785318802317, 0.004399938756371303, 0.02170050759283865, 0.015360893614997057, 0.04059350246625131, 0.02006149869585597, 0.018441630566688984, 0.011217786476627929, 0.021885976519419186, 0.028973592220806463]}, {\"marker\": {\"color\": \"#afff00\"}, \"name\": \"nr__rio\", \"type\": \"bar\", \"x\": [\"era_121\", \"era_122\", \"era_123\", \"era_124\", \"era_125\", \"era_126\", \"era_127\", \"era_128\", \"era_129\", \"era_130\", \"era_131\", \"era_132\", \"era_197\", \"era_198\", \"era_199\", \"era_200\", \"era_201\", \"era_202\", \"era_203\", \"era_204\", \"era_205\", \"era_206\", \"era_207\", \"era_208\", \"era_209\", \"era_210\", \"era_211\", \"era_212\"], \"y\": [0.06311278770096497, 0.02919654334980769, 0.030553716916620958, 0.03889278007284822, 0.03207772251659092, 0.0005967006019444655, 0.04688941141803261, 0.04209731417884466, -0.028267876883813898, 0.0320006188867439, 0.030958863462223162, 0.03749103769487316, 0.010402061567990386, 0.03519079550828336, 0.02923021928594462, -0.003713846515456051, 0.006260527118198195, 0.037858223679526924, 0.016848059704610046, -0.002073323044436794, 0.038779422330945064, 0.01476894151113725, 0.023361934274950247, 0.02954244552641844, 0.02460155225853416, 0.003567967934836462, 0.016597398524719226, 0.021390299833732633]}, {\"marker\": {\"color\": \"#08ff00\"}, \"name\": \"nr__sao_paulo\", \"type\": \"bar\", \"x\": [\"era_121\", \"era_122\", \"era_123\", \"era_124\", \"era_125\", \"era_126\", \"era_127\", \"era_128\", \"era_129\", \"era_130\", \"era_131\", \"era_132\", \"era_197\", \"era_198\", \"era_199\", \"era_200\", \"era_201\", \"era_202\", \"era_203\", \"era_204\", \"era_205\", \"era_206\", \"era_207\", \"era_208\", \"era_209\", \"era_210\", \"era_211\", \"era_212\"], \"y\": [0.06073108552734227, 0.04070997060290201, 0.03476575721309458, 0.046026797665716546, 0.039983016229083575, -0.004960770317143955, 0.03459654781890374, 0.03499740109199429, -0.031461602094788585, 0.04793191306934763, 0.037661567195689485, 0.033060696553627325, 0.016145505166654164, 0.0358942275580137, 0.019093307599843585, -0.007732825006075031, 0.004590733336145723, 0.03255170639709388, 0.006337285271988616, 0.008884065225384397, 0.026225420487572204, 0.018657908745397217, 0.032502289893964524, 0.03204358054414556, 0.025984418505047863, -0.00025850113445698966, 0.011417236522318007, 0.029421080813418363]}, {\"marker\": {\"color\": \"#00ff9f\"}, \"name\": \"nr__medellin\", \"type\": \"bar\", \"x\": [\"era_121\", \"era_122\", \"era_123\", \"era_124\", \"era_125\", \"era_126\", \"era_127\", \"era_128\", \"era_129\", \"era_130\", \"era_131\", \"era_132\", \"era_197\", \"era_198\", \"era_199\", \"era_200\", \"era_201\", \"era_202\", \"era_203\", \"era_204\", \"era_205\", \"era_206\", \"era_207\", \"era_208\", \"era_209\", \"era_210\", \"era_211\", \"era_212\"], \"y\": [0.05697934318807764, 0.021685757713606424, 0.034857370914517, 0.030655394274980572, 0.02762170484454043, 0.003343150896989749, 0.04205416194673143, 0.026420300672613486, -0.015972481729276202, 0.04234141974739126, 0.014556442778334858, 0.028988191946467255, 0.014117789312714506, 0.027224911271651775, 0.026318048679955082, -0.0062109892385651564, 0.0038099667931188338, 0.02284267207233131, 0.03376999431913324, 0.00540085332954768, 0.033057567916408764, 0.020854455053636645, 0.019306688559509694, 0.034513767884487956, 0.009941630137703075, 0.001299879264710513, 0.016473494533520677, 0.01582041852434252]}],                        {\"barmode\": \"stack\", \"template\": {\"data\": {\"bar\": [{\"error_x\": {\"color\": \"#2a3f5f\"}, \"error_y\": {\"color\": \"#2a3f5f\"}, \"marker\": {\"line\": {\"color\": \"#E5ECF6\", \"width\": 0.5}}, \"type\": \"bar\"}], \"barpolar\": [{\"marker\": {\"line\": {\"color\": \"#E5ECF6\", \"width\": 0.5}}, \"type\": \"barpolar\"}], \"carpet\": [{\"aaxis\": {\"endlinecolor\": \"#2a3f5f\", \"gridcolor\": \"white\", \"linecolor\": \"white\", \"minorgridcolor\": \"white\", \"startlinecolor\": \"#2a3f5f\"}, \"baxis\": {\"endlinecolor\": \"#2a3f5f\", \"gridcolor\": \"white\", \"linecolor\": \"white\", \"minorgridcolor\": \"white\", \"startlinecolor\": \"#2a3f5f\"}, \"type\": \"carpet\"}], \"choropleth\": [{\"colorbar\": {\"outlinewidth\": 0, \"ticks\": \"\"}, \"type\": \"choropleth\"}], \"contour\": [{\"colorbar\": {\"outlinewidth\": 0, \"ticks\": \"\"}, \"colorscale\": [[0.0, \"#0d0887\"], [0.1111111111111111, \"#46039f\"], [0.2222222222222222, \"#7201a8\"], [0.3333333333333333, \"#9c179e\"], [0.4444444444444444, \"#bd3786\"], [0.5555555555555556, \"#d8576b\"], [0.6666666666666666, \"#ed7953\"], [0.7777777777777778, \"#fb9f3a\"], [0.8888888888888888, \"#fdca26\"], [1.0, \"#f0f921\"]], \"type\": \"contour\"}], \"contourcarpet\": [{\"colorbar\": {\"outlinewidth\": 0, \"ticks\": \"\"}, \"type\": \"contourcarpet\"}], \"heatmap\": [{\"colorbar\": {\"outlinewidth\": 0, \"ticks\": \"\"}, \"colorscale\": [[0.0, \"#0d0887\"], [0.1111111111111111, \"#46039f\"], [0.2222222222222222, \"#7201a8\"], [0.3333333333333333, \"#9c179e\"], [0.4444444444444444, \"#bd3786\"], [0.5555555555555556, \"#d8576b\"], [0.6666666666666666, \"#ed7953\"], [0.7777777777777778, \"#fb9f3a\"], [0.8888888888888888, \"#fdca26\"], [1.0, \"#f0f921\"]], \"type\": \"heatmap\"}], \"heatmapgl\": [{\"colorbar\": {\"outlinewidth\": 0, \"ticks\": \"\"}, \"colorscale\": [[0.0, \"#0d0887\"], [0.1111111111111111, \"#46039f\"], [0.2222222222222222, \"#7201a8\"], [0.3333333333333333, \"#9c179e\"], [0.4444444444444444, \"#bd3786\"], [0.5555555555555556, \"#d8576b\"], [0.6666666666666666, \"#ed7953\"], [0.7777777777777778, \"#fb9f3a\"], [0.8888888888888888, \"#fdca26\"], [1.0, \"#f0f921\"]], \"type\": \"heatmapgl\"}], \"histogram\": [{\"marker\": {\"colorbar\": {\"outlinewidth\": 0, \"ticks\": \"\"}}, \"type\": \"histogram\"}], \"histogram2d\": [{\"colorbar\": {\"outlinewidth\": 0, \"ticks\": \"\"}, \"colorscale\": [[0.0, \"#0d0887\"], [0.1111111111111111, \"#46039f\"], [0.2222222222222222, \"#7201a8\"], [0.3333333333333333, \"#9c179e\"], [0.4444444444444444, \"#bd3786\"], [0.5555555555555556, \"#d8576b\"], [0.6666666666666666, \"#ed7953\"], [0.7777777777777778, \"#fb9f3a\"], [0.8888888888888888, \"#fdca26\"], [1.0, \"#f0f921\"]], \"type\": \"histogram2d\"}], \"histogram2dcontour\": [{\"colorbar\": {\"outlinewidth\": 0, \"ticks\": \"\"}, \"colorscale\": [[0.0, \"#0d0887\"], [0.1111111111111111, \"#46039f\"], [0.2222222222222222, \"#7201a8\"], [0.3333333333333333, \"#9c179e\"], [0.4444444444444444, \"#bd3786\"], [0.5555555555555556, \"#d8576b\"], [0.6666666666666666, \"#ed7953\"], [0.7777777777777778, \"#fb9f3a\"], [0.8888888888888888, \"#fdca26\"], [1.0, \"#f0f921\"]], \"type\": \"histogram2dcontour\"}], \"mesh3d\": [{\"colorbar\": {\"outlinewidth\": 0, \"ticks\": \"\"}, \"type\": \"mesh3d\"}], \"parcoords\": [{\"line\": {\"colorbar\": {\"outlinewidth\": 0, \"ticks\": \"\"}}, \"type\": \"parcoords\"}], \"pie\": [{\"automargin\": true, \"type\": \"pie\"}], \"scatter\": [{\"marker\": {\"colorbar\": {\"outlinewidth\": 0, \"ticks\": \"\"}}, \"type\": \"scatter\"}], \"scatter3d\": [{\"line\": {\"colorbar\": {\"outlinewidth\": 0, \"ticks\": \"\"}}, \"marker\": {\"colorbar\": {\"outlinewidth\": 0, \"ticks\": \"\"}}, \"type\": \"scatter3d\"}], \"scattercarpet\": [{\"marker\": {\"colorbar\": {\"outlinewidth\": 0, \"ticks\": \"\"}}, \"type\": \"scattercarpet\"}], \"scattergeo\": [{\"marker\": {\"colorbar\": {\"outlinewidth\": 0, \"ticks\": \"\"}}, \"type\": \"scattergeo\"}], \"scattergl\": [{\"marker\": {\"colorbar\": {\"outlinewidth\": 0, \"ticks\": \"\"}}, \"type\": \"scattergl\"}], \"scattermapbox\": [{\"marker\": {\"colorbar\": {\"outlinewidth\": 0, \"ticks\": \"\"}}, \"type\": \"scattermapbox\"}], \"scatterpolar\": [{\"marker\": {\"colorbar\": {\"outlinewidth\": 0, \"ticks\": \"\"}}, \"type\": \"scatterpolar\"}], \"scatterpolargl\": [{\"marker\": {\"colorbar\": {\"outlinewidth\": 0, \"ticks\": \"\"}}, \"type\": \"scatterpolargl\"}], \"scatterternary\": [{\"marker\": {\"colorbar\": {\"outlinewidth\": 0, \"ticks\": \"\"}}, \"type\": \"scatterternary\"}], \"surface\": [{\"colorbar\": {\"outlinewidth\": 0, \"ticks\": \"\"}, \"colorscale\": [[0.0, \"#0d0887\"], [0.1111111111111111, \"#46039f\"], [0.2222222222222222, \"#7201a8\"], [0.3333333333333333, \"#9c179e\"], [0.4444444444444444, \"#bd3786\"], [0.5555555555555556, \"#d8576b\"], [0.6666666666666666, \"#ed7953\"], [0.7777777777777778, \"#fb9f3a\"], [0.8888888888888888, \"#fdca26\"], [1.0, \"#f0f921\"]], \"type\": \"surface\"}], \"table\": [{\"cells\": {\"fill\": {\"color\": \"#EBF0F8\"}, \"line\": {\"color\": \"white\"}}, \"header\": {\"fill\": {\"color\": \"#C8D4E3\"}, \"line\": {\"color\": \"white\"}}, \"type\": \"table\"}]}, \"layout\": {\"annotationdefaults\": {\"arrowcolor\": \"#2a3f5f\", \"arrowhead\": 0, \"arrowwidth\": 1}, \"coloraxis\": {\"colorbar\": {\"outlinewidth\": 0, \"ticks\": \"\"}}, \"colorscale\": {\"diverging\": [[0, \"#8e0152\"], [0.1, \"#c51b7d\"], [0.2, \"#de77ae\"], [0.3, \"#f1b6da\"], [0.4, \"#fde0ef\"], [0.5, \"#f7f7f7\"], [0.6, \"#e6f5d0\"], [0.7, \"#b8e186\"], [0.8, \"#7fbc41\"], [0.9, \"#4d9221\"], [1, \"#276419\"]], \"sequential\": [[0.0, \"#0d0887\"], [0.1111111111111111, \"#46039f\"], [0.2222222222222222, \"#7201a8\"], [0.3333333333333333, \"#9c179e\"], [0.4444444444444444, \"#bd3786\"], [0.5555555555555556, \"#d8576b\"], [0.6666666666666666, \"#ed7953\"], [0.7777777777777778, \"#fb9f3a\"], [0.8888888888888888, \"#fdca26\"], [1.0, \"#f0f921\"]], \"sequentialminus\": [[0.0, \"#0d0887\"], [0.1111111111111111, \"#46039f\"], [0.2222222222222222, \"#7201a8\"], [0.3333333333333333, \"#9c179e\"], [0.4444444444444444, \"#bd3786\"], [0.5555555555555556, \"#d8576b\"], [0.6666666666666666, \"#ed7953\"], [0.7777777777777778, \"#fb9f3a\"], [0.8888888888888888, \"#fdca26\"], [1.0, \"#f0f921\"]]}, \"colorway\": [\"#636efa\", \"#EF553B\", \"#00cc96\", \"#ab63fa\", \"#FFA15A\", \"#19d3f3\", \"#FF6692\", \"#B6E880\", \"#FF97FF\", \"#FECB52\"], \"font\": {\"color\": \"#2a3f5f\"}, \"geo\": {\"bgcolor\": \"white\", \"lakecolor\": \"white\", \"landcolor\": \"#E5ECF6\", \"showlakes\": true, \"showland\": true, \"subunitcolor\": \"white\"}, \"hoverlabel\": {\"align\": \"left\"}, \"hovermode\": \"closest\", \"mapbox\": {\"style\": \"light\"}, \"paper_bgcolor\": \"white\", \"plot_bgcolor\": \"#E5ECF6\", \"polar\": {\"angularaxis\": {\"gridcolor\": \"white\", \"linecolor\": \"white\", \"ticks\": \"\"}, \"bgcolor\": \"#E5ECF6\", \"radialaxis\": {\"gridcolor\": \"white\", \"linecolor\": \"white\", \"ticks\": \"\"}}, \"scene\": {\"xaxis\": {\"backgroundcolor\": \"#E5ECF6\", \"gridcolor\": \"white\", \"gridwidth\": 2, \"linecolor\": \"white\", \"showbackground\": true, \"ticks\": \"\", \"zerolinecolor\": \"white\"}, \"yaxis\": {\"backgroundcolor\": \"#E5ECF6\", \"gridcolor\": \"white\", \"gridwidth\": 2, \"linecolor\": \"white\", \"showbackground\": true, \"ticks\": \"\", \"zerolinecolor\": \"white\"}, \"zaxis\": {\"backgroundcolor\": \"#E5ECF6\", \"gridcolor\": \"white\", \"gridwidth\": 2, \"linecolor\": \"white\", \"showbackground\": true, \"ticks\": \"\", \"zerolinecolor\": \"white\"}}, \"shapedefaults\": {\"line\": {\"color\": \"#2a3f5f\"}}, \"ternary\": {\"aaxis\": {\"gridcolor\": \"white\", \"linecolor\": \"white\", \"ticks\": \"\"}, \"baxis\": {\"gridcolor\": \"white\", \"linecolor\": \"white\", \"ticks\": \"\"}, \"bgcolor\": \"#E5ECF6\", \"caxis\": {\"gridcolor\": \"white\", \"linecolor\": \"white\", \"ticks\": \"\"}}, \"title\": {\"x\": 0.05}, \"xaxis\": {\"automargin\": true, \"gridcolor\": \"white\", \"linecolor\": \"white\", \"ticks\": \"\", \"title\": {\"standoff\": 15}, \"zerolinecolor\": \"white\", \"zerolinewidth\": 2}, \"yaxis\": {\"automargin\": true, \"gridcolor\": \"white\", \"linecolor\": \"white\", \"ticks\": \"\", \"title\": {\"standoff\": 15}, \"zerolinecolor\": \"white\", \"zerolinewidth\": 2}}}, \"title\": {\"text\": \"Era Scores por Modelo\"}, \"xaxis\": {\"title\": {\"text\": \"Eras\"}}, \"yaxis\": {\"title\": {\"text\": \"Spearman Score\"}}},                        {\"responsive\": true}                    ).then(function(){\n",
       "                            \n",
       "var gd = document.getElementById('838e93b7-5126-4204-98d8-11317b3a00a8');\n",
       "var x = new MutationObserver(function (mutations, observer) {{\n",
       "        var display = window.getComputedStyle(gd).display;\n",
       "        if (!display || display === 'none') {{\n",
       "            console.log([gd, 'removed!']);\n",
       "            Plotly.purge(gd);\n",
       "            observer.disconnect();\n",
       "        }}\n",
       "}});\n",
       "\n",
       "// Listen for the removal of the full notebook cells\n",
       "var notebookContainer = gd.closest('#notebook-container');\n",
       "if (notebookContainer) {{\n",
       "    x.observe(notebookContainer, {childList: true});\n",
       "}}\n",
       "\n",
       "// Listen for the clearing of the current output cell\n",
       "var outputEl = gd.closest('.output');\n",
       "if (outputEl) {{\n",
       "    x.observe(outputEl, {childList: true});\n",
       "}}\n",
       "\n",
       "                        })                };                });            </script>        </div>"
      ]
     },
     "metadata": {},
     "output_type": "display_data"
    }
   ],
   "source": [
    "visualize.plot_era_scores(df_era_scores_nr, models_nr)"
   ]
  },
  {
   "cell_type": "markdown",
   "metadata": {
    "slideshow": {
     "slide_type": "slide"
    }
   },
   "source": [
    "# Modelo NR__Guadalajara\n",
    "\n",
    "\n",
    "<img src=\"https://github.com/nicholasrichers/dissertacao/blob/master/references/figures/cidades/nr__guadalajara.jpg?raw=true\" width=600 />\n"
   ]
  },
  {
   "cell_type": "code",
   "execution_count": 13,
   "metadata": {
    "ExecuteTime": {
     "end_time": "2021-01-14T09:01:14.302494Z",
     "start_time": "2021-01-14T08:57:46.993248Z"
    },
    "scrolled": true
   },
   "outputs": [
    {
     "name": "stderr",
     "output_type": "stream",
     "text": [
      "[autoreload of neutralize failed: Traceback (most recent call last):\n",
      "  File \"/Users/nicholasrichers/Documents/virtualenvs/numerai_env/lib/python3.8/site-packages/IPython/extensions/autoreload.py\", line 245, in check\n",
      "    superreload(m, reload, self.old_objects)\n",
      "  File \"/Users/nicholasrichers/Documents/virtualenvs/numerai_env/lib/python3.8/site-packages/IPython/extensions/autoreload.py\", line 394, in superreload\n",
      "    module = reload(module)\n",
      "  File \"/Library/Frameworks/Python.framework/Versions/3.8/lib/python3.8/imp.py\", line 314, in reload\n",
      "    return importlib.reload(module)\n",
      "  File \"/Library/Frameworks/Python.framework/Versions/3.8/lib/python3.8/importlib/__init__.py\", line 168, in reload\n",
      "    raise ModuleNotFoundError(f\"spec not found for the module {name!r}\", name=name)\n",
      "ModuleNotFoundError: spec not found for the module 'neutralize'\n",
      "]\n"
     ]
    },
    {
     "name": "stdout",
     "output_type": "stream",
     "text": [
      "creating predictions to: ex_preds\n",
      "creating predictions to: ex_FN100\n",
      "creating predictions to: nr__rio\n",
      "creating predictions to: nr__sao_paulo\n",
      "creating predictions to: nr__medellin\n",
      "CPU times: user 4min 6s, sys: 23.3 s, total: 4min 30s\n",
      "Wall time: 3min 27s\n"
     ]
    }
   ],
   "source": [
    "%%time\n",
    "path = '../../reports/predicoes_validacao/raw/'\n",
    "models_nr = ['ex_preds', 'ex_FN100', 'nr__rio', 'nr__sao_paulo', 'nr__medellin']\n",
    "\n",
    "\n",
    "preds_nr, feat_corrs_nr = dict(), dict()\n",
    "era_scores_nr, df_metrics_nr = dict(), dict()\n",
    "\n",
    "\n",
    "from sklearn.linear_model import LinearRegression\n",
    "ml_model = LinearRegression(fit_intercept=False)\n",
    "\n",
    "\n",
    "for model in models_nr[0:]:\n",
    "    \n",
    "    #predicoes val1 & val2\n",
    "    print(\"creating predictions to:\", model)\n",
    "    df_validation['preds'] =  pd.read_csv(path+model+'_preds_test.csv', index_col='id').values.reshape(1,-1)[0]\n",
    "\n",
    "    \n",
    "    #preds neutralized after\n",
    "    preds_nr[model] = neutralize.preds_neutralized(df_validation, \n",
    "                                                   ['preds'], \n",
    "                                                   features,\n",
    "                                                   #ml_model,\n",
    "                                                   neutralize.fn_strategy_dict[model]['model'], \n",
    "                                                   neutralize.fn_strategy_dict[model]['factor'])\n",
    "    \n",
    "\n",
    "    #salvando as metricas\n",
    "    if model =='ex_preds': mmc=False\n",
    "    else: mmc=True\n",
    "    era_scores_nr[model], df_metrics_nr[model], feat_corrs_nr[model], ex_preds = \\\n",
    "                        metrics.submission_metrics(df_validation, preds_nr[model], model, mmc)   \n",
    "\n",
    "\n",
    "\n",
    "\n",
    "#dict to dataframe\n",
    "df_preds_nr = pd.DataFrame.from_dict(preds_nr)\n",
    "df_era_scores_nr = pd.DataFrame.from_dict(era_scores_nr)\n",
    "df_feat_corrs_nr = pd.DataFrame.from_dict(feat_corrs_nr)\n",
    "df_metrics_cons_nr = metrics.metrics_consolidated(df_metrics_nr)"
   ]
  },
  {
   "cell_type": "code",
   "execution_count": 14,
   "metadata": {
    "ExecuteTime": {
     "end_time": "2021-01-14T09:01:23.235564Z",
     "start_time": "2021-01-14T09:01:22.773119Z"
    }
   },
   "outputs": [
    {
     "data": {
      "text/html": [
       "<style  type=\"text/css\" >\n",
       "    #T_1359aac2_5647_11eb_835a_8438355b82e0row0_col0 {\n",
       "            color:  black;\n",
       "            : ;\n",
       "        }    #T_1359aac2_5647_11eb_835a_8438355b82e0row0_col1 {\n",
       "            color:  lime;\n",
       "            : ;\n",
       "        }    #T_1359aac2_5647_11eb_835a_8438355b82e0row0_col2 {\n",
       "            color:  lime;\n",
       "            : ;\n",
       "        }    #T_1359aac2_5647_11eb_835a_8438355b82e0row0_col3 {\n",
       "            color:  lime;\n",
       "            : ;\n",
       "        }    #T_1359aac2_5647_11eb_835a_8438355b82e0row0_col4 {\n",
       "            color:  lime;\n",
       "            background-color:  yellow;\n",
       "        }    #T_1359aac2_5647_11eb_835a_8438355b82e0row1_col0 {\n",
       "            color:  darkgreen;\n",
       "            background-color:  yellow;\n",
       "        }    #T_1359aac2_5647_11eb_835a_8438355b82e0row1_col1 {\n",
       "            color:  black;\n",
       "            : ;\n",
       "        }    #T_1359aac2_5647_11eb_835a_8438355b82e0row1_col2 {\n",
       "            color:  black;\n",
       "            : ;\n",
       "        }    #T_1359aac2_5647_11eb_835a_8438355b82e0row1_col3 {\n",
       "            color:  black;\n",
       "            : ;\n",
       "        }    #T_1359aac2_5647_11eb_835a_8438355b82e0row1_col4 {\n",
       "            color:  black;\n",
       "            : ;\n",
       "        }    #T_1359aac2_5647_11eb_835a_8438355b82e0row2_col0 {\n",
       "            color:  lime;\n",
       "            : ;\n",
       "        }    #T_1359aac2_5647_11eb_835a_8438355b82e0row2_col1 {\n",
       "            color:  lime;\n",
       "            background-color:  yellow;\n",
       "        }    #T_1359aac2_5647_11eb_835a_8438355b82e0row2_col2 {\n",
       "            color:  lime;\n",
       "            : ;\n",
       "        }    #T_1359aac2_5647_11eb_835a_8438355b82e0row2_col3 {\n",
       "            color:  darkgreen;\n",
       "            : ;\n",
       "        }    #T_1359aac2_5647_11eb_835a_8438355b82e0row2_col4 {\n",
       "            color:  darkgreen;\n",
       "            : ;\n",
       "        }    #T_1359aac2_5647_11eb_835a_8438355b82e0row3_col0 {\n",
       "            color:  red;\n",
       "            : ;\n",
       "        }    #T_1359aac2_5647_11eb_835a_8438355b82e0row3_col1 {\n",
       "            color:  darkgreen;\n",
       "            : ;\n",
       "        }    #T_1359aac2_5647_11eb_835a_8438355b82e0row3_col2 {\n",
       "            color:  darkgreen;\n",
       "            : ;\n",
       "        }    #T_1359aac2_5647_11eb_835a_8438355b82e0row3_col3 {\n",
       "            color:  darkgreen;\n",
       "            : ;\n",
       "        }    #T_1359aac2_5647_11eb_835a_8438355b82e0row3_col4 {\n",
       "            color:  lime;\n",
       "            background-color:  yellow;\n",
       "        }    #T_1359aac2_5647_11eb_835a_8438355b82e0row4_col0 {\n",
       "            color:  black;\n",
       "            : ;\n",
       "        }    #T_1359aac2_5647_11eb_835a_8438355b82e0row4_col1 {\n",
       "            color:  lime;\n",
       "            : ;\n",
       "        }    #T_1359aac2_5647_11eb_835a_8438355b82e0row4_col2 {\n",
       "            color:  lime;\n",
       "            : ;\n",
       "        }    #T_1359aac2_5647_11eb_835a_8438355b82e0row4_col3 {\n",
       "            color:  lime;\n",
       "            : ;\n",
       "        }    #T_1359aac2_5647_11eb_835a_8438355b82e0row4_col4 {\n",
       "            color:  lime;\n",
       "            background-color:  yellow;\n",
       "        }    #T_1359aac2_5647_11eb_835a_8438355b82e0row5_col0 {\n",
       "            color:  black;\n",
       "            : ;\n",
       "        }    #T_1359aac2_5647_11eb_835a_8438355b82e0row5_col1 {\n",
       "            color:  lime;\n",
       "            : ;\n",
       "        }    #T_1359aac2_5647_11eb_835a_8438355b82e0row5_col2 {\n",
       "            color:  darkgreen;\n",
       "            : ;\n",
       "        }    #T_1359aac2_5647_11eb_835a_8438355b82e0row5_col3 {\n",
       "            color:  darkgreen;\n",
       "            : ;\n",
       "        }    #T_1359aac2_5647_11eb_835a_8438355b82e0row5_col4 {\n",
       "            color:  lime;\n",
       "            background-color:  yellow;\n",
       "        }    #T_1359aac2_5647_11eb_835a_8438355b82e0row6_col0 {\n",
       "            color:  black;\n",
       "            : ;\n",
       "        }    #T_1359aac2_5647_11eb_835a_8438355b82e0row6_col1 {\n",
       "            color:  black;\n",
       "            : ;\n",
       "        }    #T_1359aac2_5647_11eb_835a_8438355b82e0row6_col2 {\n",
       "            color:  black;\n",
       "            : ;\n",
       "        }    #T_1359aac2_5647_11eb_835a_8438355b82e0row6_col3 {\n",
       "            color:  black;\n",
       "            : ;\n",
       "        }    #T_1359aac2_5647_11eb_835a_8438355b82e0row6_col4 {\n",
       "            color:  black;\n",
       "            background-color:  yellow;\n",
       "        }    #T_1359aac2_5647_11eb_835a_8438355b82e0row7_col0 {\n",
       "            color:  black;\n",
       "            : ;\n",
       "        }    #T_1359aac2_5647_11eb_835a_8438355b82e0row7_col1 {\n",
       "            color:  darkgreen;\n",
       "            : ;\n",
       "        }    #T_1359aac2_5647_11eb_835a_8438355b82e0row7_col2 {\n",
       "            color:  lime;\n",
       "            background-color:  yellow;\n",
       "        }    #T_1359aac2_5647_11eb_835a_8438355b82e0row7_col3 {\n",
       "            color:  darkgreen;\n",
       "            : ;\n",
       "        }    #T_1359aac2_5647_11eb_835a_8438355b82e0row7_col4 {\n",
       "            color:  darkgreen;\n",
       "            : ;\n",
       "        }    #T_1359aac2_5647_11eb_835a_8438355b82e0row8_col0 {\n",
       "            color:  red;\n",
       "            : ;\n",
       "        }    #T_1359aac2_5647_11eb_835a_8438355b82e0row8_col1 {\n",
       "            color:  black;\n",
       "            : ;\n",
       "        }    #T_1359aac2_5647_11eb_835a_8438355b82e0row8_col2 {\n",
       "            color:  darkgreen;\n",
       "            : ;\n",
       "        }    #T_1359aac2_5647_11eb_835a_8438355b82e0row8_col3 {\n",
       "            color:  black;\n",
       "            : ;\n",
       "        }    #T_1359aac2_5647_11eb_835a_8438355b82e0row8_col4 {\n",
       "            color:  darkgreen;\n",
       "            background-color:  yellow;\n",
       "        }</style><table id=\"T_1359aac2_5647_11eb_835a_8438355b82e0\" ><thead>    <tr>        <th class=\"blank level0\" ></th>        <th class=\"col_heading level0 col0\" >ex_preds</th>        <th class=\"col_heading level0 col1\" >ex_FN100</th>        <th class=\"col_heading level0 col2\" >nr__rio</th>        <th class=\"col_heading level0 col3\" >nr__sao_paulo</th>        <th class=\"col_heading level0 col4\" >nr__medellin</th>    </tr>    <tr>        <th class=\"index_name level0\" >Metrica</th>        <th class=\"blank\" ></th>        <th class=\"blank\" ></th>        <th class=\"blank\" ></th>        <th class=\"blank\" ></th>        <th class=\"blank\" ></th>    </tr></thead><tbody>\n",
       "                <tr>\n",
       "                        <th id=\"T_1359aac2_5647_11eb_835a_8438355b82e0level0_row0\" class=\"row_heading level0 row0\" >Validation_Sharpe</th>\n",
       "                        <td id=\"T_1359aac2_5647_11eb_835a_8438355b82e0row0_col0\" class=\"data row0 col0\" >0.9757</td>\n",
       "                        <td id=\"T_1359aac2_5647_11eb_835a_8438355b82e0row0_col1\" class=\"data row0 col1\" >1.2648</td>\n",
       "                        <td id=\"T_1359aac2_5647_11eb_835a_8438355b82e0row0_col2\" class=\"data row0 col2\" >1.2787</td>\n",
       "                        <td id=\"T_1359aac2_5647_11eb_835a_8438355b82e0row0_col3\" class=\"data row0 col3\" >1.2194</td>\n",
       "                        <td id=\"T_1359aac2_5647_11eb_835a_8438355b82e0row0_col4\" class=\"data row0 col4\" >1.3584</td>\n",
       "            </tr>\n",
       "            <tr>\n",
       "                        <th id=\"T_1359aac2_5647_11eb_835a_8438355b82e0level0_row1\" class=\"row_heading level0 row1\" >Validation_Mean</th>\n",
       "                        <td id=\"T_1359aac2_5647_11eb_835a_8438355b82e0row1_col0\" class=\"data row1 col0\" >0.0266</td>\n",
       "                        <td id=\"T_1359aac2_5647_11eb_835a_8438355b82e0row1_col1\" class=\"data row1 col1\" >0.0234</td>\n",
       "                        <td id=\"T_1359aac2_5647_11eb_835a_8438355b82e0row1_col2\" class=\"data row1 col2\" >0.0235</td>\n",
       "                        <td id=\"T_1359aac2_5647_11eb_835a_8438355b82e0row1_col3\" class=\"data row1 col3\" >0.0238</td>\n",
       "                        <td id=\"T_1359aac2_5647_11eb_835a_8438355b82e0row1_col4\" class=\"data row1 col4\" >0.0211</td>\n",
       "            </tr>\n",
       "            <tr>\n",
       "                        <th id=\"T_1359aac2_5647_11eb_835a_8438355b82e0level0_row2\" class=\"row_heading level0 row2\" >Feat_neutral_mean</th>\n",
       "                        <td id=\"T_1359aac2_5647_11eb_835a_8438355b82e0row2_col0\" class=\"data row2 col0\" >0.0215</td>\n",
       "                        <td id=\"T_1359aac2_5647_11eb_835a_8438355b82e0row2_col1\" class=\"data row2 col1\" >0.0226</td>\n",
       "                        <td id=\"T_1359aac2_5647_11eb_835a_8438355b82e0row2_col2\" class=\"data row2 col2\" >0.0214</td>\n",
       "                        <td id=\"T_1359aac2_5647_11eb_835a_8438355b82e0row2_col3\" class=\"data row2 col3\" >0.0196</td>\n",
       "                        <td id=\"T_1359aac2_5647_11eb_835a_8438355b82e0row2_col4\" class=\"data row2 col4\" >0.0204</td>\n",
       "            </tr>\n",
       "            <tr>\n",
       "                        <th id=\"T_1359aac2_5647_11eb_835a_8438355b82e0level0_row3\" class=\"row_heading level0 row3\" >Validation_SD</th>\n",
       "                        <td id=\"T_1359aac2_5647_11eb_835a_8438355b82e0row3_col0\" class=\"data row3 col0\" >0.0272</td>\n",
       "                        <td id=\"T_1359aac2_5647_11eb_835a_8438355b82e0row3_col1\" class=\"data row3 col1\" >0.0185</td>\n",
       "                        <td id=\"T_1359aac2_5647_11eb_835a_8438355b82e0row3_col2\" class=\"data row3 col2\" >0.0184</td>\n",
       "                        <td id=\"T_1359aac2_5647_11eb_835a_8438355b82e0row3_col3\" class=\"data row3 col3\" >0.0195</td>\n",
       "                        <td id=\"T_1359aac2_5647_11eb_835a_8438355b82e0row3_col4\" class=\"data row3 col4\" >0.0156</td>\n",
       "            </tr>\n",
       "            <tr>\n",
       "                        <th id=\"T_1359aac2_5647_11eb_835a_8438355b82e0level0_row4\" class=\"row_heading level0 row4\" >Feat_exp_max</th>\n",
       "                        <td id=\"T_1359aac2_5647_11eb_835a_8438355b82e0row4_col0\" class=\"data row4 col0\" >0.2708</td>\n",
       "                        <td id=\"T_1359aac2_5647_11eb_835a_8438355b82e0row4_col1\" class=\"data row4 col1\" >0.0146</td>\n",
       "                        <td id=\"T_1359aac2_5647_11eb_835a_8438355b82e0row4_col2\" class=\"data row4 col2\" >0.0299</td>\n",
       "                        <td id=\"T_1359aac2_5647_11eb_835a_8438355b82e0row4_col3\" class=\"data row4 col3\" >0.0614</td>\n",
       "                        <td id=\"T_1359aac2_5647_11eb_835a_8438355b82e0row4_col4\" class=\"data row4 col4\" >0.0084</td>\n",
       "            </tr>\n",
       "            <tr>\n",
       "                        <th id=\"T_1359aac2_5647_11eb_835a_8438355b82e0level0_row5\" class=\"row_heading level0 row5\" >Max_Drawdown</th>\n",
       "                        <td id=\"T_1359aac2_5647_11eb_835a_8438355b82e0row5_col0\" class=\"data row5 col0\" >-0.0651</td>\n",
       "                        <td id=\"T_1359aac2_5647_11eb_835a_8438355b82e0row5_col1\" class=\"data row5 col1\" >-0.0270</td>\n",
       "                        <td id=\"T_1359aac2_5647_11eb_835a_8438355b82e0row5_col2\" class=\"data row5 col2\" >-0.0373</td>\n",
       "                        <td id=\"T_1359aac2_5647_11eb_835a_8438355b82e0row5_col3\" class=\"data row5 col3\" >-0.0417</td>\n",
       "                        <td id=\"T_1359aac2_5647_11eb_835a_8438355b82e0row5_col4\" class=\"data row5 col4\" >-0.0203</td>\n",
       "            </tr>\n",
       "            <tr>\n",
       "                        <th id=\"T_1359aac2_5647_11eb_835a_8438355b82e0level0_row6\" class=\"row_heading level0 row6\" >corr_plus_mmc_sharpe</th>\n",
       "                        <td id=\"T_1359aac2_5647_11eb_835a_8438355b82e0row6_col0\" class=\"data row6 col0\" >0.9757</td>\n",
       "                        <td id=\"T_1359aac2_5647_11eb_835a_8438355b82e0row6_col1\" class=\"data row6 col1\" >0.9910</td>\n",
       "                        <td id=\"T_1359aac2_5647_11eb_835a_8438355b82e0row6_col2\" class=\"data row6 col2\" >1.0776</td>\n",
       "                        <td id=\"T_1359aac2_5647_11eb_835a_8438355b82e0row6_col3\" class=\"data row6 col3\" >1.0050</td>\n",
       "                        <td id=\"T_1359aac2_5647_11eb_835a_8438355b82e0row6_col4\" class=\"data row6 col4\" >1.0919</td>\n",
       "            </tr>\n",
       "            <tr>\n",
       "                        <th id=\"T_1359aac2_5647_11eb_835a_8438355b82e0level0_row7\" class=\"row_heading level0 row7\" >val_mmc_mean</th>\n",
       "                        <td id=\"T_1359aac2_5647_11eb_835a_8438355b82e0row7_col0\" class=\"data row7 col0\" >0.0000</td>\n",
       "                        <td id=\"T_1359aac2_5647_11eb_835a_8438355b82e0row7_col1\" class=\"data row7 col1\" >0.0055</td>\n",
       "                        <td id=\"T_1359aac2_5647_11eb_835a_8438355b82e0row7_col2\" class=\"data row7 col2\" >0.0075</td>\n",
       "                        <td id=\"T_1359aac2_5647_11eb_835a_8438355b82e0row7_col3\" class=\"data row7 col3\" >0.0041</td>\n",
       "                        <td id=\"T_1359aac2_5647_11eb_835a_8438355b82e0row7_col4\" class=\"data row7 col4\" >0.0062</td>\n",
       "            </tr>\n",
       "            <tr>\n",
       "                        <th id=\"T_1359aac2_5647_11eb_835a_8438355b82e0level0_row8\" class=\"row_heading level0 row8\" >corr_with_example_preds</th>\n",
       "                        <td id=\"T_1359aac2_5647_11eb_835a_8438355b82e0row8_col0\" class=\"data row8 col0\" >1.0000</td>\n",
       "                        <td id=\"T_1359aac2_5647_11eb_835a_8438355b82e0row8_col1\" class=\"data row8 col1\" >0.6078</td>\n",
       "                        <td id=\"T_1359aac2_5647_11eb_835a_8438355b82e0row8_col2\" class=\"data row8 col2\" >0.5091</td>\n",
       "                        <td id=\"T_1359aac2_5647_11eb_835a_8438355b82e0row8_col3\" class=\"data row8 col3\" >0.6810</td>\n",
       "                        <td id=\"T_1359aac2_5647_11eb_835a_8438355b82e0row8_col4\" class=\"data row8 col4\" >0.4869</td>\n",
       "            </tr>\n",
       "    </tbody></table>"
      ],
      "text/plain": [
       "<pandas.io.formats.style.Styler at 0x7fc8536535b0>"
      ]
     },
     "execution_count": 14,
     "metadata": {},
     "output_type": "execute_result"
    }
   ],
   "source": [
    "1#print(\"Menor é melhor:\", min_cols) #mixed\n",
    "leaderboard_nr = df_metrics_cons_nr[df_metrics_cons_nr.Categoria.isin([\"Performance\", \"Risk\", \"MMC\"])].loc[:,models_nr[:]]\n",
    "leaderboard_nr.astype(float).style.apply(visualize.diagnostic_colors).apply(visualize.highlight_max, axis = 1)"
   ]
  },
  {
   "cell_type": "code",
   "execution_count": null,
   "metadata": {},
   "outputs": [],
   "source": []
  },
  {
   "cell_type": "code",
   "execution_count": null,
   "metadata": {},
   "outputs": [],
   "source": []
  },
  {
   "cell_type": "code",
   "execution_count": null,
   "metadata": {},
   "outputs": [],
   "source": []
  },
  {
   "cell_type": "markdown",
   "metadata": {
    "heading_collapsed": true,
    "slideshow": {
     "slide_type": "subslide"
    }
   },
   "source": [
    "## Live eras performance"
   ]
  },
  {
   "cell_type": "code",
   "execution_count": 34,
   "metadata": {
    "ExecuteTime": {
     "end_time": "2020-12-22T06:01:28.336843Z",
     "start_time": "2020-12-22T06:01:28.225609Z"
    },
    "hidden": true
   },
   "outputs": [],
   "source": [
    "live_dict =  models_dict.sp_dict"
   ]
  },
  {
   "cell_type": "code",
   "execution_count": 33,
   "metadata": {
    "ExecuteTime": {
     "end_time": "2020-12-22T06:01:24.598667Z",
     "start_time": "2020-12-22T06:01:24.532403Z"
    },
    "hidden": true
   },
   "outputs": [
    {
     "data": {
      "text/plain": [
       "{'models': {'integration_test': 'ex_preds',\n",
       "  'nrichers': 'xgb_ranker_ts',\n",
       "  'nick_richers': 'lgbm_forest',\n",
       "  'nr__rio': 'nr__rio',\n",
       "  'nr__sao_paulo': 'nr__sao_paulo'},\n",
       " 'round': 234}"
      ]
     },
     "execution_count": 33,
     "metadata": {},
     "output_type": "execute_result"
    }
   ],
   "source": [
    "live_dict"
   ]
  },
  {
   "cell_type": "code",
   "execution_count": 36,
   "metadata": {
    "ExecuteTime": {
     "end_time": "2020-12-22T06:03:06.139129Z",
     "start_time": "2020-12-22T06:03:00.154932Z"
    },
    "hidden": true
   },
   "outputs": [
    {
     "name": "stderr",
     "output_type": "stream",
     "text": [
      "[autoreload of visualize failed: Traceback (most recent call last):\n",
      "  File \"/Users/nicholasrichers/Documents/virtualenvs/numerai_env/lib/python3.8/site-packages/IPython/extensions/autoreload.py\", line 245, in check\n",
      "    superreload(m, reload, self.old_objects)\n",
      "  File \"/Users/nicholasrichers/Documents/virtualenvs/numerai_env/lib/python3.8/site-packages/IPython/extensions/autoreload.py\", line 394, in superreload\n",
      "    module = reload(module)\n",
      "  File \"/Library/Frameworks/Python.framework/Versions/3.8/lib/python3.8/imp.py\", line 314, in reload\n",
      "    return importlib.reload(module)\n",
      "  File \"/Library/Frameworks/Python.framework/Versions/3.8/lib/python3.8/importlib/__init__.py\", line 168, in reload\n",
      "    raise ModuleNotFoundError(f\"spec not found for the module {name!r}\", name=name)\n",
      "ModuleNotFoundError: spec not found for the module 'visualize'\n",
      "]\n"
     ]
    },
    {
     "data": {
      "application/vnd.plotly.v1+json": {
       "config": {
        "linkText": "Export to plot.ly",
        "plotlyServerURL": "https://plot.ly",
        "showLink": false
       },
       "data": [
        {
         "line": {
          "shape": "linear"
         },
         "marker": {
          "color": "#ff0000"
         },
         "name": "ex_preds",
         "type": "scatter",
         "x": [
          "2020-11-11T00:00:00+00:00",
          "2020-11-18T00:00:00+00:00",
          "2020-11-25T00:00:00+00:00",
          "2020-12-02T00:00:00+00:00",
          "2020-12-09T00:00:00+00:00",
          "2020-12-16T00:00:00+00:00",
          "2020-12-19T00:00:00+00:00",
          null
         ],
         "y": [
          0,
          -3.0765116097971035,
          -1.2417428011657365,
          1.1094363244599148,
          5.879120799470351,
          12.881969864034065,
          18.408061236977982
         ]
        },
        {
         "line": {
          "shape": "linear"
         },
         "marker": {
          "color": "#ffa700"
         },
         "name": "xgb_ranker_ts",
         "type": "scatter",
         "x": [
          "2020-11-11T00:00:00+00:00",
          "2020-11-18T00:00:00+00:00",
          "2020-11-25T00:00:00+00:00",
          "2020-12-02T00:00:00+00:00",
          "2020-12-09T00:00:00+00:00",
          "2020-12-16T00:00:00+00:00",
          "2020-12-19T00:00:00+00:00",
          null
         ],
         "y": [
          0,
          -3.3675777785832084,
          -1.8664856803461318,
          -0.23757275541495293,
          4.341083687275159,
          11.486861860290922,
          17.391040957718577
         ]
        },
        {
         "line": {
          "shape": "linear"
         },
         "marker": {
          "color": "#afff00"
         },
         "name": "lgbm_forest",
         "type": "scatter",
         "x": [
          "2020-11-11T00:00:00+00:00",
          "2020-11-18T00:00:00+00:00",
          "2020-11-25T00:00:00+00:00",
          "2020-12-02T00:00:00+00:00",
          "2020-12-09T00:00:00+00:00",
          "2020-12-16T00:00:00+00:00",
          "2020-12-19T00:00:00+00:00",
          null
         ],
         "y": [
          0,
          -2.5356395195158656,
          -1.4886455779586671,
          0.8486534172853357,
          3.9712342991699514,
          11.723710319434598,
          17.514669959565204
         ]
        },
        {
         "line": {
          "shape": "linear"
         },
         "marker": {
          "color": "#08ff00"
         },
         "name": "nr__rio",
         "type": "scatter",
         "x": [
          "2020-11-11T00:00:00+00:00",
          "2020-11-18T00:00:00+00:00",
          "2020-11-25T00:00:00+00:00",
          "2020-12-02T00:00:00+00:00",
          "2020-12-09T00:00:00+00:00",
          "2020-12-16T00:00:00+00:00",
          "2020-12-19T00:00:00+00:00",
          null
         ],
         "y": [
          0,
          -1.8574826535701865,
          -0.3454788214881468,
          1.3679587263373874,
          4.622425952017686,
          11.976355313259152,
          17.24728044662315
         ]
        },
        {
         "line": {
          "shape": "linear"
         },
         "marker": {
          "color": "#00ff9f"
         },
         "name": "nr__sao_paulo",
         "type": "scatter",
         "x": [
          "2020-11-11T00:00:00+00:00",
          "2020-11-18T00:00:00+00:00",
          "2020-11-25T00:00:00+00:00",
          "2020-12-02T00:00:00+00:00",
          "2020-12-09T00:00:00+00:00",
          "2020-12-16T00:00:00+00:00",
          "2020-12-19T00:00:00+00:00",
          null
         ],
         "y": [
          0,
          -2.9525531832690266,
          -1.5491902355046825,
          0.061197002847866555,
          4.055342099738584,
          11.662548083631538,
          17.47525716402778
         ]
        }
       ],
       "layout": {
        "template": {
         "data": {
          "bar": [
           {
            "error_x": {
             "color": "#2a3f5f"
            },
            "error_y": {
             "color": "#2a3f5f"
            },
            "marker": {
             "line": {
              "color": "#E5ECF6",
              "width": 0.5
             }
            },
            "type": "bar"
           }
          ],
          "barpolar": [
           {
            "marker": {
             "line": {
              "color": "#E5ECF6",
              "width": 0.5
             }
            },
            "type": "barpolar"
           }
          ],
          "carpet": [
           {
            "aaxis": {
             "endlinecolor": "#2a3f5f",
             "gridcolor": "white",
             "linecolor": "white",
             "minorgridcolor": "white",
             "startlinecolor": "#2a3f5f"
            },
            "baxis": {
             "endlinecolor": "#2a3f5f",
             "gridcolor": "white",
             "linecolor": "white",
             "minorgridcolor": "white",
             "startlinecolor": "#2a3f5f"
            },
            "type": "carpet"
           }
          ],
          "choropleth": [
           {
            "colorbar": {
             "outlinewidth": 0,
             "ticks": ""
            },
            "type": "choropleth"
           }
          ],
          "contour": [
           {
            "colorbar": {
             "outlinewidth": 0,
             "ticks": ""
            },
            "colorscale": [
             [
              0,
              "#0d0887"
             ],
             [
              0.1111111111111111,
              "#46039f"
             ],
             [
              0.2222222222222222,
              "#7201a8"
             ],
             [
              0.3333333333333333,
              "#9c179e"
             ],
             [
              0.4444444444444444,
              "#bd3786"
             ],
             [
              0.5555555555555556,
              "#d8576b"
             ],
             [
              0.6666666666666666,
              "#ed7953"
             ],
             [
              0.7777777777777778,
              "#fb9f3a"
             ],
             [
              0.8888888888888888,
              "#fdca26"
             ],
             [
              1,
              "#f0f921"
             ]
            ],
            "type": "contour"
           }
          ],
          "contourcarpet": [
           {
            "colorbar": {
             "outlinewidth": 0,
             "ticks": ""
            },
            "type": "contourcarpet"
           }
          ],
          "heatmap": [
           {
            "colorbar": {
             "outlinewidth": 0,
             "ticks": ""
            },
            "colorscale": [
             [
              0,
              "#0d0887"
             ],
             [
              0.1111111111111111,
              "#46039f"
             ],
             [
              0.2222222222222222,
              "#7201a8"
             ],
             [
              0.3333333333333333,
              "#9c179e"
             ],
             [
              0.4444444444444444,
              "#bd3786"
             ],
             [
              0.5555555555555556,
              "#d8576b"
             ],
             [
              0.6666666666666666,
              "#ed7953"
             ],
             [
              0.7777777777777778,
              "#fb9f3a"
             ],
             [
              0.8888888888888888,
              "#fdca26"
             ],
             [
              1,
              "#f0f921"
             ]
            ],
            "type": "heatmap"
           }
          ],
          "heatmapgl": [
           {
            "colorbar": {
             "outlinewidth": 0,
             "ticks": ""
            },
            "colorscale": [
             [
              0,
              "#0d0887"
             ],
             [
              0.1111111111111111,
              "#46039f"
             ],
             [
              0.2222222222222222,
              "#7201a8"
             ],
             [
              0.3333333333333333,
              "#9c179e"
             ],
             [
              0.4444444444444444,
              "#bd3786"
             ],
             [
              0.5555555555555556,
              "#d8576b"
             ],
             [
              0.6666666666666666,
              "#ed7953"
             ],
             [
              0.7777777777777778,
              "#fb9f3a"
             ],
             [
              0.8888888888888888,
              "#fdca26"
             ],
             [
              1,
              "#f0f921"
             ]
            ],
            "type": "heatmapgl"
           }
          ],
          "histogram": [
           {
            "marker": {
             "colorbar": {
              "outlinewidth": 0,
              "ticks": ""
             }
            },
            "type": "histogram"
           }
          ],
          "histogram2d": [
           {
            "colorbar": {
             "outlinewidth": 0,
             "ticks": ""
            },
            "colorscale": [
             [
              0,
              "#0d0887"
             ],
             [
              0.1111111111111111,
              "#46039f"
             ],
             [
              0.2222222222222222,
              "#7201a8"
             ],
             [
              0.3333333333333333,
              "#9c179e"
             ],
             [
              0.4444444444444444,
              "#bd3786"
             ],
             [
              0.5555555555555556,
              "#d8576b"
             ],
             [
              0.6666666666666666,
              "#ed7953"
             ],
             [
              0.7777777777777778,
              "#fb9f3a"
             ],
             [
              0.8888888888888888,
              "#fdca26"
             ],
             [
              1,
              "#f0f921"
             ]
            ],
            "type": "histogram2d"
           }
          ],
          "histogram2dcontour": [
           {
            "colorbar": {
             "outlinewidth": 0,
             "ticks": ""
            },
            "colorscale": [
             [
              0,
              "#0d0887"
             ],
             [
              0.1111111111111111,
              "#46039f"
             ],
             [
              0.2222222222222222,
              "#7201a8"
             ],
             [
              0.3333333333333333,
              "#9c179e"
             ],
             [
              0.4444444444444444,
              "#bd3786"
             ],
             [
              0.5555555555555556,
              "#d8576b"
             ],
             [
              0.6666666666666666,
              "#ed7953"
             ],
             [
              0.7777777777777778,
              "#fb9f3a"
             ],
             [
              0.8888888888888888,
              "#fdca26"
             ],
             [
              1,
              "#f0f921"
             ]
            ],
            "type": "histogram2dcontour"
           }
          ],
          "mesh3d": [
           {
            "colorbar": {
             "outlinewidth": 0,
             "ticks": ""
            },
            "type": "mesh3d"
           }
          ],
          "parcoords": [
           {
            "line": {
             "colorbar": {
              "outlinewidth": 0,
              "ticks": ""
             }
            },
            "type": "parcoords"
           }
          ],
          "pie": [
           {
            "automargin": true,
            "type": "pie"
           }
          ],
          "scatter": [
           {
            "marker": {
             "colorbar": {
              "outlinewidth": 0,
              "ticks": ""
             }
            },
            "type": "scatter"
           }
          ],
          "scatter3d": [
           {
            "line": {
             "colorbar": {
              "outlinewidth": 0,
              "ticks": ""
             }
            },
            "marker": {
             "colorbar": {
              "outlinewidth": 0,
              "ticks": ""
             }
            },
            "type": "scatter3d"
           }
          ],
          "scattercarpet": [
           {
            "marker": {
             "colorbar": {
              "outlinewidth": 0,
              "ticks": ""
             }
            },
            "type": "scattercarpet"
           }
          ],
          "scattergeo": [
           {
            "marker": {
             "colorbar": {
              "outlinewidth": 0,
              "ticks": ""
             }
            },
            "type": "scattergeo"
           }
          ],
          "scattergl": [
           {
            "marker": {
             "colorbar": {
              "outlinewidth": 0,
              "ticks": ""
             }
            },
            "type": "scattergl"
           }
          ],
          "scattermapbox": [
           {
            "marker": {
             "colorbar": {
              "outlinewidth": 0,
              "ticks": ""
             }
            },
            "type": "scattermapbox"
           }
          ],
          "scatterpolar": [
           {
            "marker": {
             "colorbar": {
              "outlinewidth": 0,
              "ticks": ""
             }
            },
            "type": "scatterpolar"
           }
          ],
          "scatterpolargl": [
           {
            "marker": {
             "colorbar": {
              "outlinewidth": 0,
              "ticks": ""
             }
            },
            "type": "scatterpolargl"
           }
          ],
          "scatterternary": [
           {
            "marker": {
             "colorbar": {
              "outlinewidth": 0,
              "ticks": ""
             }
            },
            "type": "scatterternary"
           }
          ],
          "surface": [
           {
            "colorbar": {
             "outlinewidth": 0,
             "ticks": ""
            },
            "colorscale": [
             [
              0,
              "#0d0887"
             ],
             [
              0.1111111111111111,
              "#46039f"
             ],
             [
              0.2222222222222222,
              "#7201a8"
             ],
             [
              0.3333333333333333,
              "#9c179e"
             ],
             [
              0.4444444444444444,
              "#bd3786"
             ],
             [
              0.5555555555555556,
              "#d8576b"
             ],
             [
              0.6666666666666666,
              "#ed7953"
             ],
             [
              0.7777777777777778,
              "#fb9f3a"
             ],
             [
              0.8888888888888888,
              "#fdca26"
             ],
             [
              1,
              "#f0f921"
             ]
            ],
            "type": "surface"
           }
          ],
          "table": [
           {
            "cells": {
             "fill": {
              "color": "#EBF0F8"
             },
             "line": {
              "color": "white"
             }
            },
            "header": {
             "fill": {
              "color": "#C8D4E3"
             },
             "line": {
              "color": "white"
             }
            },
            "type": "table"
           }
          ]
         },
         "layout": {
          "annotationdefaults": {
           "arrowcolor": "#2a3f5f",
           "arrowhead": 0,
           "arrowwidth": 1
          },
          "coloraxis": {
           "colorbar": {
            "outlinewidth": 0,
            "ticks": ""
           }
          },
          "colorscale": {
           "diverging": [
            [
             0,
             "#8e0152"
            ],
            [
             0.1,
             "#c51b7d"
            ],
            [
             0.2,
             "#de77ae"
            ],
            [
             0.3,
             "#f1b6da"
            ],
            [
             0.4,
             "#fde0ef"
            ],
            [
             0.5,
             "#f7f7f7"
            ],
            [
             0.6,
             "#e6f5d0"
            ],
            [
             0.7,
             "#b8e186"
            ],
            [
             0.8,
             "#7fbc41"
            ],
            [
             0.9,
             "#4d9221"
            ],
            [
             1,
             "#276419"
            ]
           ],
           "sequential": [
            [
             0,
             "#0d0887"
            ],
            [
             0.1111111111111111,
             "#46039f"
            ],
            [
             0.2222222222222222,
             "#7201a8"
            ],
            [
             0.3333333333333333,
             "#9c179e"
            ],
            [
             0.4444444444444444,
             "#bd3786"
            ],
            [
             0.5555555555555556,
             "#d8576b"
            ],
            [
             0.6666666666666666,
             "#ed7953"
            ],
            [
             0.7777777777777778,
             "#fb9f3a"
            ],
            [
             0.8888888888888888,
             "#fdca26"
            ],
            [
             1,
             "#f0f921"
            ]
           ],
           "sequentialminus": [
            [
             0,
             "#0d0887"
            ],
            [
             0.1111111111111111,
             "#46039f"
            ],
            [
             0.2222222222222222,
             "#7201a8"
            ],
            [
             0.3333333333333333,
             "#9c179e"
            ],
            [
             0.4444444444444444,
             "#bd3786"
            ],
            [
             0.5555555555555556,
             "#d8576b"
            ],
            [
             0.6666666666666666,
             "#ed7953"
            ],
            [
             0.7777777777777778,
             "#fb9f3a"
            ],
            [
             0.8888888888888888,
             "#fdca26"
            ],
            [
             1,
             "#f0f921"
            ]
           ]
          },
          "colorway": [
           "#636efa",
           "#EF553B",
           "#00cc96",
           "#ab63fa",
           "#FFA15A",
           "#19d3f3",
           "#FF6692",
           "#B6E880",
           "#FF97FF",
           "#FECB52"
          ],
          "font": {
           "color": "#2a3f5f"
          },
          "geo": {
           "bgcolor": "white",
           "lakecolor": "white",
           "landcolor": "#E5ECF6",
           "showlakes": true,
           "showland": true,
           "subunitcolor": "white"
          },
          "hoverlabel": {
           "align": "left"
          },
          "hovermode": "closest",
          "mapbox": {
           "style": "light"
          },
          "paper_bgcolor": "white",
          "plot_bgcolor": "#E5ECF6",
          "polar": {
           "angularaxis": {
            "gridcolor": "white",
            "linecolor": "white",
            "ticks": ""
           },
           "bgcolor": "#E5ECF6",
           "radialaxis": {
            "gridcolor": "white",
            "linecolor": "white",
            "ticks": ""
           }
          },
          "scene": {
           "xaxis": {
            "backgroundcolor": "#E5ECF6",
            "gridcolor": "white",
            "gridwidth": 2,
            "linecolor": "white",
            "showbackground": true,
            "ticks": "",
            "zerolinecolor": "white"
           },
           "yaxis": {
            "backgroundcolor": "#E5ECF6",
            "gridcolor": "white",
            "gridwidth": 2,
            "linecolor": "white",
            "showbackground": true,
            "ticks": "",
            "zerolinecolor": "white"
           },
           "zaxis": {
            "backgroundcolor": "#E5ECF6",
            "gridcolor": "white",
            "gridwidth": 2,
            "linecolor": "white",
            "showbackground": true,
            "ticks": "",
            "zerolinecolor": "white"
           }
          },
          "shapedefaults": {
           "line": {
            "color": "#2a3f5f"
           }
          },
          "ternary": {
           "aaxis": {
            "gridcolor": "white",
            "linecolor": "white",
            "ticks": ""
           },
           "baxis": {
            "gridcolor": "white",
            "linecolor": "white",
            "ticks": ""
           },
           "bgcolor": "#E5ECF6",
           "caxis": {
            "gridcolor": "white",
            "linecolor": "white",
            "ticks": ""
           }
          },
          "title": {
           "x": 0.05
          },
          "xaxis": {
           "automargin": true,
           "gridcolor": "white",
           "linecolor": "white",
           "ticks": "",
           "title": {
            "standoff": 15
           },
           "zerolinecolor": "white",
           "zerolinewidth": 2
          },
          "yaxis": {
           "automargin": true,
           "gridcolor": "white",
           "linecolor": "white",
           "ticks": "",
           "title": {
            "standoff": 15
           },
           "zerolinecolor": "white",
           "zerolinewidth": 2
          }
         }
        },
        "title": {
         "text": "Live Scores por Modelo"
        },
        "xaxis": {
         "title": {
          "text": "Rounds"
         }
        },
        "yaxis": {
         "title": {
          "text": "Retorno (%)"
         }
        }
       }
      },
      "text/html": [
       "<div>                            <div id=\"b8b621f9-6063-4397-b7b6-30ea921bd97c\" class=\"plotly-graph-div\" style=\"height:525px; width:100%;\"></div>            <script type=\"text/javascript\">                require([\"plotly\"], function(Plotly) {                    window.PLOTLYENV=window.PLOTLYENV || {};                                    if (document.getElementById(\"b8b621f9-6063-4397-b7b6-30ea921bd97c\")) {                    Plotly.newPlot(                        \"b8b621f9-6063-4397-b7b6-30ea921bd97c\",                        [{\"line\": {\"shape\": \"linear\"}, \"marker\": {\"color\": \"#ff0000\"}, \"name\": \"ex_preds\", \"type\": \"scatter\", \"x\": [\"2020-11-11T00:00:00+00:00\", \"2020-11-18T00:00:00+00:00\", \"2020-11-25T00:00:00+00:00\", \"2020-12-02T00:00:00+00:00\", \"2020-12-09T00:00:00+00:00\", \"2020-12-16T00:00:00+00:00\", \"2020-12-19T00:00:00+00:00\", null], \"y\": [0.0, -3.0765116097971035, -1.2417428011657365, 1.1094363244599148, 5.879120799470351, 12.881969864034065, 18.408061236977982]}, {\"line\": {\"shape\": \"linear\"}, \"marker\": {\"color\": \"#ffa700\"}, \"name\": \"xgb_ranker_ts\", \"type\": \"scatter\", \"x\": [\"2020-11-11T00:00:00+00:00\", \"2020-11-18T00:00:00+00:00\", \"2020-11-25T00:00:00+00:00\", \"2020-12-02T00:00:00+00:00\", \"2020-12-09T00:00:00+00:00\", \"2020-12-16T00:00:00+00:00\", \"2020-12-19T00:00:00+00:00\", null], \"y\": [0.0, -3.3675777785832084, -1.8664856803461318, -0.23757275541495293, 4.341083687275159, 11.486861860290922, 17.391040957718577]}, {\"line\": {\"shape\": \"linear\"}, \"marker\": {\"color\": \"#afff00\"}, \"name\": \"lgbm_forest\", \"type\": \"scatter\", \"x\": [\"2020-11-11T00:00:00+00:00\", \"2020-11-18T00:00:00+00:00\", \"2020-11-25T00:00:00+00:00\", \"2020-12-02T00:00:00+00:00\", \"2020-12-09T00:00:00+00:00\", \"2020-12-16T00:00:00+00:00\", \"2020-12-19T00:00:00+00:00\", null], \"y\": [0.0, -2.5356395195158656, -1.4886455779586671, 0.8486534172853357, 3.9712342991699514, 11.723710319434598, 17.514669959565204]}, {\"line\": {\"shape\": \"linear\"}, \"marker\": {\"color\": \"#08ff00\"}, \"name\": \"nr__rio\", \"type\": \"scatter\", \"x\": [\"2020-11-11T00:00:00+00:00\", \"2020-11-18T00:00:00+00:00\", \"2020-11-25T00:00:00+00:00\", \"2020-12-02T00:00:00+00:00\", \"2020-12-09T00:00:00+00:00\", \"2020-12-16T00:00:00+00:00\", \"2020-12-19T00:00:00+00:00\", null], \"y\": [0.0, -1.8574826535701865, -0.3454788214881468, 1.3679587263373874, 4.622425952017686, 11.976355313259152, 17.24728044662315]}, {\"line\": {\"shape\": \"linear\"}, \"marker\": {\"color\": \"#00ff9f\"}, \"name\": \"nr__sao_paulo\", \"type\": \"scatter\", \"x\": [\"2020-11-11T00:00:00+00:00\", \"2020-11-18T00:00:00+00:00\", \"2020-11-25T00:00:00+00:00\", \"2020-12-02T00:00:00+00:00\", \"2020-12-09T00:00:00+00:00\", \"2020-12-16T00:00:00+00:00\", \"2020-12-19T00:00:00+00:00\", null], \"y\": [0.0, -2.9525531832690266, -1.5491902355046825, 0.061197002847866555, 4.055342099738584, 11.662548083631538, 17.47525716402778]}],                        {\"template\": {\"data\": {\"bar\": [{\"error_x\": {\"color\": \"#2a3f5f\"}, \"error_y\": {\"color\": \"#2a3f5f\"}, \"marker\": {\"line\": {\"color\": \"#E5ECF6\", \"width\": 0.5}}, \"type\": \"bar\"}], \"barpolar\": [{\"marker\": {\"line\": {\"color\": \"#E5ECF6\", \"width\": 0.5}}, \"type\": \"barpolar\"}], \"carpet\": [{\"aaxis\": {\"endlinecolor\": \"#2a3f5f\", \"gridcolor\": \"white\", \"linecolor\": \"white\", \"minorgridcolor\": \"white\", \"startlinecolor\": \"#2a3f5f\"}, \"baxis\": {\"endlinecolor\": \"#2a3f5f\", \"gridcolor\": \"white\", \"linecolor\": \"white\", \"minorgridcolor\": \"white\", \"startlinecolor\": \"#2a3f5f\"}, \"type\": \"carpet\"}], \"choropleth\": [{\"colorbar\": {\"outlinewidth\": 0, \"ticks\": \"\"}, \"type\": \"choropleth\"}], \"contour\": [{\"colorbar\": {\"outlinewidth\": 0, \"ticks\": \"\"}, \"colorscale\": [[0.0, \"#0d0887\"], [0.1111111111111111, \"#46039f\"], [0.2222222222222222, \"#7201a8\"], [0.3333333333333333, \"#9c179e\"], [0.4444444444444444, \"#bd3786\"], [0.5555555555555556, \"#d8576b\"], [0.6666666666666666, \"#ed7953\"], [0.7777777777777778, \"#fb9f3a\"], [0.8888888888888888, \"#fdca26\"], [1.0, \"#f0f921\"]], \"type\": \"contour\"}], \"contourcarpet\": [{\"colorbar\": {\"outlinewidth\": 0, \"ticks\": \"\"}, \"type\": \"contourcarpet\"}], \"heatmap\": [{\"colorbar\": {\"outlinewidth\": 0, \"ticks\": \"\"}, \"colorscale\": [[0.0, \"#0d0887\"], [0.1111111111111111, \"#46039f\"], [0.2222222222222222, \"#7201a8\"], [0.3333333333333333, \"#9c179e\"], [0.4444444444444444, \"#bd3786\"], [0.5555555555555556, \"#d8576b\"], [0.6666666666666666, \"#ed7953\"], [0.7777777777777778, \"#fb9f3a\"], [0.8888888888888888, \"#fdca26\"], [1.0, \"#f0f921\"]], \"type\": \"heatmap\"}], \"heatmapgl\": [{\"colorbar\": {\"outlinewidth\": 0, \"ticks\": \"\"}, \"colorscale\": [[0.0, \"#0d0887\"], [0.1111111111111111, \"#46039f\"], [0.2222222222222222, \"#7201a8\"], [0.3333333333333333, \"#9c179e\"], [0.4444444444444444, \"#bd3786\"], [0.5555555555555556, \"#d8576b\"], [0.6666666666666666, \"#ed7953\"], [0.7777777777777778, \"#fb9f3a\"], [0.8888888888888888, \"#fdca26\"], [1.0, \"#f0f921\"]], \"type\": \"heatmapgl\"}], \"histogram\": [{\"marker\": {\"colorbar\": {\"outlinewidth\": 0, \"ticks\": \"\"}}, \"type\": \"histogram\"}], \"histogram2d\": [{\"colorbar\": {\"outlinewidth\": 0, \"ticks\": \"\"}, \"colorscale\": [[0.0, \"#0d0887\"], [0.1111111111111111, \"#46039f\"], [0.2222222222222222, \"#7201a8\"], [0.3333333333333333, \"#9c179e\"], [0.4444444444444444, \"#bd3786\"], [0.5555555555555556, \"#d8576b\"], [0.6666666666666666, \"#ed7953\"], [0.7777777777777778, \"#fb9f3a\"], [0.8888888888888888, \"#fdca26\"], [1.0, \"#f0f921\"]], \"type\": \"histogram2d\"}], \"histogram2dcontour\": [{\"colorbar\": {\"outlinewidth\": 0, \"ticks\": \"\"}, \"colorscale\": [[0.0, \"#0d0887\"], [0.1111111111111111, \"#46039f\"], [0.2222222222222222, \"#7201a8\"], [0.3333333333333333, \"#9c179e\"], [0.4444444444444444, \"#bd3786\"], [0.5555555555555556, \"#d8576b\"], [0.6666666666666666, \"#ed7953\"], [0.7777777777777778, \"#fb9f3a\"], [0.8888888888888888, \"#fdca26\"], [1.0, \"#f0f921\"]], \"type\": \"histogram2dcontour\"}], \"mesh3d\": [{\"colorbar\": {\"outlinewidth\": 0, \"ticks\": \"\"}, \"type\": \"mesh3d\"}], \"parcoords\": [{\"line\": {\"colorbar\": {\"outlinewidth\": 0, \"ticks\": \"\"}}, \"type\": \"parcoords\"}], \"pie\": [{\"automargin\": true, \"type\": \"pie\"}], \"scatter\": [{\"marker\": {\"colorbar\": {\"outlinewidth\": 0, \"ticks\": \"\"}}, \"type\": \"scatter\"}], \"scatter3d\": [{\"line\": {\"colorbar\": {\"outlinewidth\": 0, \"ticks\": \"\"}}, \"marker\": {\"colorbar\": {\"outlinewidth\": 0, \"ticks\": \"\"}}, \"type\": \"scatter3d\"}], \"scattercarpet\": [{\"marker\": {\"colorbar\": {\"outlinewidth\": 0, \"ticks\": \"\"}}, \"type\": \"scattercarpet\"}], \"scattergeo\": [{\"marker\": {\"colorbar\": {\"outlinewidth\": 0, \"ticks\": \"\"}}, \"type\": \"scattergeo\"}], \"scattergl\": [{\"marker\": {\"colorbar\": {\"outlinewidth\": 0, \"ticks\": \"\"}}, \"type\": \"scattergl\"}], \"scattermapbox\": [{\"marker\": {\"colorbar\": {\"outlinewidth\": 0, \"ticks\": \"\"}}, \"type\": \"scattermapbox\"}], \"scatterpolar\": [{\"marker\": {\"colorbar\": {\"outlinewidth\": 0, \"ticks\": \"\"}}, \"type\": \"scatterpolar\"}], \"scatterpolargl\": [{\"marker\": {\"colorbar\": {\"outlinewidth\": 0, \"ticks\": \"\"}}, \"type\": \"scatterpolargl\"}], \"scatterternary\": [{\"marker\": {\"colorbar\": {\"outlinewidth\": 0, \"ticks\": \"\"}}, \"type\": \"scatterternary\"}], \"surface\": [{\"colorbar\": {\"outlinewidth\": 0, \"ticks\": \"\"}, \"colorscale\": [[0.0, \"#0d0887\"], [0.1111111111111111, \"#46039f\"], [0.2222222222222222, \"#7201a8\"], [0.3333333333333333, \"#9c179e\"], [0.4444444444444444, \"#bd3786\"], [0.5555555555555556, \"#d8576b\"], [0.6666666666666666, \"#ed7953\"], [0.7777777777777778, \"#fb9f3a\"], [0.8888888888888888, \"#fdca26\"], [1.0, \"#f0f921\"]], \"type\": \"surface\"}], \"table\": [{\"cells\": {\"fill\": {\"color\": \"#EBF0F8\"}, \"line\": {\"color\": \"white\"}}, \"header\": {\"fill\": {\"color\": \"#C8D4E3\"}, \"line\": {\"color\": \"white\"}}, \"type\": \"table\"}]}, \"layout\": {\"annotationdefaults\": {\"arrowcolor\": \"#2a3f5f\", \"arrowhead\": 0, \"arrowwidth\": 1}, \"coloraxis\": {\"colorbar\": {\"outlinewidth\": 0, \"ticks\": \"\"}}, \"colorscale\": {\"diverging\": [[0, \"#8e0152\"], [0.1, \"#c51b7d\"], [0.2, \"#de77ae\"], [0.3, \"#f1b6da\"], [0.4, \"#fde0ef\"], [0.5, \"#f7f7f7\"], [0.6, \"#e6f5d0\"], [0.7, \"#b8e186\"], [0.8, \"#7fbc41\"], [0.9, \"#4d9221\"], [1, \"#276419\"]], \"sequential\": [[0.0, \"#0d0887\"], [0.1111111111111111, \"#46039f\"], [0.2222222222222222, \"#7201a8\"], [0.3333333333333333, \"#9c179e\"], [0.4444444444444444, \"#bd3786\"], [0.5555555555555556, \"#d8576b\"], [0.6666666666666666, \"#ed7953\"], [0.7777777777777778, \"#fb9f3a\"], [0.8888888888888888, \"#fdca26\"], [1.0, \"#f0f921\"]], \"sequentialminus\": [[0.0, \"#0d0887\"], [0.1111111111111111, \"#46039f\"], [0.2222222222222222, \"#7201a8\"], [0.3333333333333333, \"#9c179e\"], [0.4444444444444444, \"#bd3786\"], [0.5555555555555556, \"#d8576b\"], [0.6666666666666666, \"#ed7953\"], [0.7777777777777778, \"#fb9f3a\"], [0.8888888888888888, \"#fdca26\"], [1.0, \"#f0f921\"]]}, \"colorway\": [\"#636efa\", \"#EF553B\", \"#00cc96\", \"#ab63fa\", \"#FFA15A\", \"#19d3f3\", \"#FF6692\", \"#B6E880\", \"#FF97FF\", \"#FECB52\"], \"font\": {\"color\": \"#2a3f5f\"}, \"geo\": {\"bgcolor\": \"white\", \"lakecolor\": \"white\", \"landcolor\": \"#E5ECF6\", \"showlakes\": true, \"showland\": true, \"subunitcolor\": \"white\"}, \"hoverlabel\": {\"align\": \"left\"}, \"hovermode\": \"closest\", \"mapbox\": {\"style\": \"light\"}, \"paper_bgcolor\": \"white\", \"plot_bgcolor\": \"#E5ECF6\", \"polar\": {\"angularaxis\": {\"gridcolor\": \"white\", \"linecolor\": \"white\", \"ticks\": \"\"}, \"bgcolor\": \"#E5ECF6\", \"radialaxis\": {\"gridcolor\": \"white\", \"linecolor\": \"white\", \"ticks\": \"\"}}, \"scene\": {\"xaxis\": {\"backgroundcolor\": \"#E5ECF6\", \"gridcolor\": \"white\", \"gridwidth\": 2, \"linecolor\": \"white\", \"showbackground\": true, \"ticks\": \"\", \"zerolinecolor\": \"white\"}, \"yaxis\": {\"backgroundcolor\": \"#E5ECF6\", \"gridcolor\": \"white\", \"gridwidth\": 2, \"linecolor\": \"white\", \"showbackground\": true, \"ticks\": \"\", \"zerolinecolor\": \"white\"}, \"zaxis\": {\"backgroundcolor\": \"#E5ECF6\", \"gridcolor\": \"white\", \"gridwidth\": 2, \"linecolor\": \"white\", \"showbackground\": true, \"ticks\": \"\", \"zerolinecolor\": \"white\"}}, \"shapedefaults\": {\"line\": {\"color\": \"#2a3f5f\"}}, \"ternary\": {\"aaxis\": {\"gridcolor\": \"white\", \"linecolor\": \"white\", \"ticks\": \"\"}, \"baxis\": {\"gridcolor\": \"white\", \"linecolor\": \"white\", \"ticks\": \"\"}, \"bgcolor\": \"#E5ECF6\", \"caxis\": {\"gridcolor\": \"white\", \"linecolor\": \"white\", \"ticks\": \"\"}}, \"title\": {\"x\": 0.05}, \"xaxis\": {\"automargin\": true, \"gridcolor\": \"white\", \"linecolor\": \"white\", \"ticks\": \"\", \"title\": {\"standoff\": 15}, \"zerolinecolor\": \"white\", \"zerolinewidth\": 2}, \"yaxis\": {\"automargin\": true, \"gridcolor\": \"white\", \"linecolor\": \"white\", \"ticks\": \"\", \"title\": {\"standoff\": 15}, \"zerolinecolor\": \"white\", \"zerolinewidth\": 2}}}, \"title\": {\"text\": \"Live Scores por Modelo\"}, \"xaxis\": {\"title\": {\"text\": \"Rounds\"}}, \"yaxis\": {\"title\": {\"text\": \"Retorno (%)\"}}},                        {\"responsive\": true}                    ).then(function(){\n",
       "                            \n",
       "var gd = document.getElementById('b8b621f9-6063-4397-b7b6-30ea921bd97c');\n",
       "var x = new MutationObserver(function (mutations, observer) {{\n",
       "        var display = window.getComputedStyle(gd).display;\n",
       "        if (!display || display === 'none') {{\n",
       "            console.log([gd, 'removed!']);\n",
       "            Plotly.purge(gd);\n",
       "            observer.disconnect();\n",
       "        }}\n",
       "}});\n",
       "\n",
       "// Listen for the removal of the full notebook cells\n",
       "var notebookContainer = gd.closest('#notebook-container');\n",
       "if (notebookContainer) {{\n",
       "    x.observe(notebookContainer, {childList: true});\n",
       "}}\n",
       "\n",
       "// Listen for the clearing of the current output cell\n",
       "var outputEl = gd.closest('.output');\n",
       "if (outputEl) {{\n",
       "    x.observe(outputEl, {childList: true});\n",
       "}}\n",
       "\n",
       "                        })                };                });            </script>        </div>"
      ]
     },
     "metadata": {},
     "output_type": "display_data"
    }
   ],
   "source": [
    "visualize.plot_live_scores(live_dict['models'], live_dict['round'], base=\"acum\")"
   ]
  },
  {
   "cell_type": "code",
   "execution_count": 37,
   "metadata": {
    "ExecuteTime": {
     "end_time": "2020-12-22T06:03:25.925628Z",
     "start_time": "2020-12-22T06:03:21.424896Z"
    },
    "hidden": true
   },
   "outputs": [
    {
     "data": {
      "application/vnd.plotly.v1+json": {
       "config": {
        "linkText": "Export to plot.ly",
        "plotlyServerURL": "https://plot.ly",
        "showLink": false
       },
       "data": [
        {
         "line": {
          "shape": "linear"
         },
         "marker": {
          "color": "#ff0000"
         },
         "name": "ex_preds",
         "type": "scatter",
         "x": [
          "2020-11-11T00:00:00+00:00",
          "2020-11-18T00:00:00+00:00",
          "2020-11-25T00:00:00+00:00",
          "2020-12-02T00:00:00+00:00",
          "2020-12-09T00:00:00+00:00",
          "2020-12-16T00:00:00+00:00",
          "2020-12-19T00:00:00+00:00",
          null
         ],
         "y": [
          0,
          -3.0765116097971035,
          1.834768808631367,
          2.3511791256256513,
          4.769684475010436,
          7.002849064563714,
          5.526091372943918
         ]
        },
        {
         "line": {
          "shape": "linear"
         },
         "marker": {
          "color": "#ffa700"
         },
         "name": "xgb_ranker_ts",
         "type": "scatter",
         "x": [
          "2020-11-11T00:00:00+00:00",
          "2020-11-18T00:00:00+00:00",
          "2020-11-25T00:00:00+00:00",
          "2020-12-02T00:00:00+00:00",
          "2020-12-09T00:00:00+00:00",
          "2020-12-16T00:00:00+00:00",
          "2020-12-19T00:00:00+00:00",
          null
         ],
         "y": [
          0,
          -3.3675777785832084,
          1.5010920982370766,
          1.628912924931179,
          4.578656442690112,
          7.145778173015763,
          5.904179097427655
         ]
        },
        {
         "line": {
          "shape": "linear"
         },
         "marker": {
          "color": "#afff00"
         },
         "name": "lgbm_forest",
         "type": "scatter",
         "x": [
          "2020-11-11T00:00:00+00:00",
          "2020-11-18T00:00:00+00:00",
          "2020-11-25T00:00:00+00:00",
          "2020-12-02T00:00:00+00:00",
          "2020-12-09T00:00:00+00:00",
          "2020-12-16T00:00:00+00:00",
          "2020-12-19T00:00:00+00:00",
          null
         ],
         "y": [
          0,
          -2.5356395195158656,
          1.0469939415571985,
          2.337298995244003,
          3.1225808818846157,
          7.7524760202646466,
          5.790959640130607
         ]
        },
        {
         "line": {
          "shape": "linear"
         },
         "marker": {
          "color": "#08ff00"
         },
         "name": "nr__rio",
         "type": "scatter",
         "x": [
          "2020-11-11T00:00:00+00:00",
          "2020-11-18T00:00:00+00:00",
          "2020-11-25T00:00:00+00:00",
          "2020-12-02T00:00:00+00:00",
          "2020-12-09T00:00:00+00:00",
          "2020-12-16T00:00:00+00:00",
          "2020-12-19T00:00:00+00:00",
          null
         ],
         "y": [
          0,
          -1.8574826535701865,
          1.5120038320820397,
          1.7134375478255341,
          3.254467225680298,
          7.353929361241467,
          5.270925133363999
         ]
        },
        {
         "line": {
          "shape": "linear"
         },
         "marker": {
          "color": "#00ff9f"
         },
         "name": "nr__sao_paulo",
         "type": "scatter",
         "x": [
          "2020-11-11T00:00:00+00:00",
          "2020-11-18T00:00:00+00:00",
          "2020-11-25T00:00:00+00:00",
          "2020-12-02T00:00:00+00:00",
          "2020-12-09T00:00:00+00:00",
          "2020-12-16T00:00:00+00:00",
          "2020-12-19T00:00:00+00:00",
          null
         ],
         "y": [
          0,
          -2.9525531832690266,
          1.4033629477643441,
          1.610387238352549,
          3.9941450968907173,
          7.607205983892955,
          5.812709080396241
         ]
        }
       ],
       "layout": {
        "template": {
         "data": {
          "bar": [
           {
            "error_x": {
             "color": "#2a3f5f"
            },
            "error_y": {
             "color": "#2a3f5f"
            },
            "marker": {
             "line": {
              "color": "#E5ECF6",
              "width": 0.5
             }
            },
            "type": "bar"
           }
          ],
          "barpolar": [
           {
            "marker": {
             "line": {
              "color": "#E5ECF6",
              "width": 0.5
             }
            },
            "type": "barpolar"
           }
          ],
          "carpet": [
           {
            "aaxis": {
             "endlinecolor": "#2a3f5f",
             "gridcolor": "white",
             "linecolor": "white",
             "minorgridcolor": "white",
             "startlinecolor": "#2a3f5f"
            },
            "baxis": {
             "endlinecolor": "#2a3f5f",
             "gridcolor": "white",
             "linecolor": "white",
             "minorgridcolor": "white",
             "startlinecolor": "#2a3f5f"
            },
            "type": "carpet"
           }
          ],
          "choropleth": [
           {
            "colorbar": {
             "outlinewidth": 0,
             "ticks": ""
            },
            "type": "choropleth"
           }
          ],
          "contour": [
           {
            "colorbar": {
             "outlinewidth": 0,
             "ticks": ""
            },
            "colorscale": [
             [
              0,
              "#0d0887"
             ],
             [
              0.1111111111111111,
              "#46039f"
             ],
             [
              0.2222222222222222,
              "#7201a8"
             ],
             [
              0.3333333333333333,
              "#9c179e"
             ],
             [
              0.4444444444444444,
              "#bd3786"
             ],
             [
              0.5555555555555556,
              "#d8576b"
             ],
             [
              0.6666666666666666,
              "#ed7953"
             ],
             [
              0.7777777777777778,
              "#fb9f3a"
             ],
             [
              0.8888888888888888,
              "#fdca26"
             ],
             [
              1,
              "#f0f921"
             ]
            ],
            "type": "contour"
           }
          ],
          "contourcarpet": [
           {
            "colorbar": {
             "outlinewidth": 0,
             "ticks": ""
            },
            "type": "contourcarpet"
           }
          ],
          "heatmap": [
           {
            "colorbar": {
             "outlinewidth": 0,
             "ticks": ""
            },
            "colorscale": [
             [
              0,
              "#0d0887"
             ],
             [
              0.1111111111111111,
              "#46039f"
             ],
             [
              0.2222222222222222,
              "#7201a8"
             ],
             [
              0.3333333333333333,
              "#9c179e"
             ],
             [
              0.4444444444444444,
              "#bd3786"
             ],
             [
              0.5555555555555556,
              "#d8576b"
             ],
             [
              0.6666666666666666,
              "#ed7953"
             ],
             [
              0.7777777777777778,
              "#fb9f3a"
             ],
             [
              0.8888888888888888,
              "#fdca26"
             ],
             [
              1,
              "#f0f921"
             ]
            ],
            "type": "heatmap"
           }
          ],
          "heatmapgl": [
           {
            "colorbar": {
             "outlinewidth": 0,
             "ticks": ""
            },
            "colorscale": [
             [
              0,
              "#0d0887"
             ],
             [
              0.1111111111111111,
              "#46039f"
             ],
             [
              0.2222222222222222,
              "#7201a8"
             ],
             [
              0.3333333333333333,
              "#9c179e"
             ],
             [
              0.4444444444444444,
              "#bd3786"
             ],
             [
              0.5555555555555556,
              "#d8576b"
             ],
             [
              0.6666666666666666,
              "#ed7953"
             ],
             [
              0.7777777777777778,
              "#fb9f3a"
             ],
             [
              0.8888888888888888,
              "#fdca26"
             ],
             [
              1,
              "#f0f921"
             ]
            ],
            "type": "heatmapgl"
           }
          ],
          "histogram": [
           {
            "marker": {
             "colorbar": {
              "outlinewidth": 0,
              "ticks": ""
             }
            },
            "type": "histogram"
           }
          ],
          "histogram2d": [
           {
            "colorbar": {
             "outlinewidth": 0,
             "ticks": ""
            },
            "colorscale": [
             [
              0,
              "#0d0887"
             ],
             [
              0.1111111111111111,
              "#46039f"
             ],
             [
              0.2222222222222222,
              "#7201a8"
             ],
             [
              0.3333333333333333,
              "#9c179e"
             ],
             [
              0.4444444444444444,
              "#bd3786"
             ],
             [
              0.5555555555555556,
              "#d8576b"
             ],
             [
              0.6666666666666666,
              "#ed7953"
             ],
             [
              0.7777777777777778,
              "#fb9f3a"
             ],
             [
              0.8888888888888888,
              "#fdca26"
             ],
             [
              1,
              "#f0f921"
             ]
            ],
            "type": "histogram2d"
           }
          ],
          "histogram2dcontour": [
           {
            "colorbar": {
             "outlinewidth": 0,
             "ticks": ""
            },
            "colorscale": [
             [
              0,
              "#0d0887"
             ],
             [
              0.1111111111111111,
              "#46039f"
             ],
             [
              0.2222222222222222,
              "#7201a8"
             ],
             [
              0.3333333333333333,
              "#9c179e"
             ],
             [
              0.4444444444444444,
              "#bd3786"
             ],
             [
              0.5555555555555556,
              "#d8576b"
             ],
             [
              0.6666666666666666,
              "#ed7953"
             ],
             [
              0.7777777777777778,
              "#fb9f3a"
             ],
             [
              0.8888888888888888,
              "#fdca26"
             ],
             [
              1,
              "#f0f921"
             ]
            ],
            "type": "histogram2dcontour"
           }
          ],
          "mesh3d": [
           {
            "colorbar": {
             "outlinewidth": 0,
             "ticks": ""
            },
            "type": "mesh3d"
           }
          ],
          "parcoords": [
           {
            "line": {
             "colorbar": {
              "outlinewidth": 0,
              "ticks": ""
             }
            },
            "type": "parcoords"
           }
          ],
          "pie": [
           {
            "automargin": true,
            "type": "pie"
           }
          ],
          "scatter": [
           {
            "marker": {
             "colorbar": {
              "outlinewidth": 0,
              "ticks": ""
             }
            },
            "type": "scatter"
           }
          ],
          "scatter3d": [
           {
            "line": {
             "colorbar": {
              "outlinewidth": 0,
              "ticks": ""
             }
            },
            "marker": {
             "colorbar": {
              "outlinewidth": 0,
              "ticks": ""
             }
            },
            "type": "scatter3d"
           }
          ],
          "scattercarpet": [
           {
            "marker": {
             "colorbar": {
              "outlinewidth": 0,
              "ticks": ""
             }
            },
            "type": "scattercarpet"
           }
          ],
          "scattergeo": [
           {
            "marker": {
             "colorbar": {
              "outlinewidth": 0,
              "ticks": ""
             }
            },
            "type": "scattergeo"
           }
          ],
          "scattergl": [
           {
            "marker": {
             "colorbar": {
              "outlinewidth": 0,
              "ticks": ""
             }
            },
            "type": "scattergl"
           }
          ],
          "scattermapbox": [
           {
            "marker": {
             "colorbar": {
              "outlinewidth": 0,
              "ticks": ""
             }
            },
            "type": "scattermapbox"
           }
          ],
          "scatterpolar": [
           {
            "marker": {
             "colorbar": {
              "outlinewidth": 0,
              "ticks": ""
             }
            },
            "type": "scatterpolar"
           }
          ],
          "scatterpolargl": [
           {
            "marker": {
             "colorbar": {
              "outlinewidth": 0,
              "ticks": ""
             }
            },
            "type": "scatterpolargl"
           }
          ],
          "scatterternary": [
           {
            "marker": {
             "colorbar": {
              "outlinewidth": 0,
              "ticks": ""
             }
            },
            "type": "scatterternary"
           }
          ],
          "surface": [
           {
            "colorbar": {
             "outlinewidth": 0,
             "ticks": ""
            },
            "colorscale": [
             [
              0,
              "#0d0887"
             ],
             [
              0.1111111111111111,
              "#46039f"
             ],
             [
              0.2222222222222222,
              "#7201a8"
             ],
             [
              0.3333333333333333,
              "#9c179e"
             ],
             [
              0.4444444444444444,
              "#bd3786"
             ],
             [
              0.5555555555555556,
              "#d8576b"
             ],
             [
              0.6666666666666666,
              "#ed7953"
             ],
             [
              0.7777777777777778,
              "#fb9f3a"
             ],
             [
              0.8888888888888888,
              "#fdca26"
             ],
             [
              1,
              "#f0f921"
             ]
            ],
            "type": "surface"
           }
          ],
          "table": [
           {
            "cells": {
             "fill": {
              "color": "#EBF0F8"
             },
             "line": {
              "color": "white"
             }
            },
            "header": {
             "fill": {
              "color": "#C8D4E3"
             },
             "line": {
              "color": "white"
             }
            },
            "type": "table"
           }
          ]
         },
         "layout": {
          "annotationdefaults": {
           "arrowcolor": "#2a3f5f",
           "arrowhead": 0,
           "arrowwidth": 1
          },
          "coloraxis": {
           "colorbar": {
            "outlinewidth": 0,
            "ticks": ""
           }
          },
          "colorscale": {
           "diverging": [
            [
             0,
             "#8e0152"
            ],
            [
             0.1,
             "#c51b7d"
            ],
            [
             0.2,
             "#de77ae"
            ],
            [
             0.3,
             "#f1b6da"
            ],
            [
             0.4,
             "#fde0ef"
            ],
            [
             0.5,
             "#f7f7f7"
            ],
            [
             0.6,
             "#e6f5d0"
            ],
            [
             0.7,
             "#b8e186"
            ],
            [
             0.8,
             "#7fbc41"
            ],
            [
             0.9,
             "#4d9221"
            ],
            [
             1,
             "#276419"
            ]
           ],
           "sequential": [
            [
             0,
             "#0d0887"
            ],
            [
             0.1111111111111111,
             "#46039f"
            ],
            [
             0.2222222222222222,
             "#7201a8"
            ],
            [
             0.3333333333333333,
             "#9c179e"
            ],
            [
             0.4444444444444444,
             "#bd3786"
            ],
            [
             0.5555555555555556,
             "#d8576b"
            ],
            [
             0.6666666666666666,
             "#ed7953"
            ],
            [
             0.7777777777777778,
             "#fb9f3a"
            ],
            [
             0.8888888888888888,
             "#fdca26"
            ],
            [
             1,
             "#f0f921"
            ]
           ],
           "sequentialminus": [
            [
             0,
             "#0d0887"
            ],
            [
             0.1111111111111111,
             "#46039f"
            ],
            [
             0.2222222222222222,
             "#7201a8"
            ],
            [
             0.3333333333333333,
             "#9c179e"
            ],
            [
             0.4444444444444444,
             "#bd3786"
            ],
            [
             0.5555555555555556,
             "#d8576b"
            ],
            [
             0.6666666666666666,
             "#ed7953"
            ],
            [
             0.7777777777777778,
             "#fb9f3a"
            ],
            [
             0.8888888888888888,
             "#fdca26"
            ],
            [
             1,
             "#f0f921"
            ]
           ]
          },
          "colorway": [
           "#636efa",
           "#EF553B",
           "#00cc96",
           "#ab63fa",
           "#FFA15A",
           "#19d3f3",
           "#FF6692",
           "#B6E880",
           "#FF97FF",
           "#FECB52"
          ],
          "font": {
           "color": "#2a3f5f"
          },
          "geo": {
           "bgcolor": "white",
           "lakecolor": "white",
           "landcolor": "#E5ECF6",
           "showlakes": true,
           "showland": true,
           "subunitcolor": "white"
          },
          "hoverlabel": {
           "align": "left"
          },
          "hovermode": "closest",
          "mapbox": {
           "style": "light"
          },
          "paper_bgcolor": "white",
          "plot_bgcolor": "#E5ECF6",
          "polar": {
           "angularaxis": {
            "gridcolor": "white",
            "linecolor": "white",
            "ticks": ""
           },
           "bgcolor": "#E5ECF6",
           "radialaxis": {
            "gridcolor": "white",
            "linecolor": "white",
            "ticks": ""
           }
          },
          "scene": {
           "xaxis": {
            "backgroundcolor": "#E5ECF6",
            "gridcolor": "white",
            "gridwidth": 2,
            "linecolor": "white",
            "showbackground": true,
            "ticks": "",
            "zerolinecolor": "white"
           },
           "yaxis": {
            "backgroundcolor": "#E5ECF6",
            "gridcolor": "white",
            "gridwidth": 2,
            "linecolor": "white",
            "showbackground": true,
            "ticks": "",
            "zerolinecolor": "white"
           },
           "zaxis": {
            "backgroundcolor": "#E5ECF6",
            "gridcolor": "white",
            "gridwidth": 2,
            "linecolor": "white",
            "showbackground": true,
            "ticks": "",
            "zerolinecolor": "white"
           }
          },
          "shapedefaults": {
           "line": {
            "color": "#2a3f5f"
           }
          },
          "ternary": {
           "aaxis": {
            "gridcolor": "white",
            "linecolor": "white",
            "ticks": ""
           },
           "baxis": {
            "gridcolor": "white",
            "linecolor": "white",
            "ticks": ""
           },
           "bgcolor": "#E5ECF6",
           "caxis": {
            "gridcolor": "white",
            "linecolor": "white",
            "ticks": ""
           }
          },
          "title": {
           "x": 0.05
          },
          "xaxis": {
           "automargin": true,
           "gridcolor": "white",
           "linecolor": "white",
           "ticks": "",
           "title": {
            "standoff": 15
           },
           "zerolinecolor": "white",
           "zerolinewidth": 2
          },
          "yaxis": {
           "automargin": true,
           "gridcolor": "white",
           "linecolor": "white",
           "ticks": "",
           "title": {
            "standoff": 15
           },
           "zerolinecolor": "white",
           "zerolinewidth": 2
          }
         }
        },
        "title": {
         "text": "Live Scores por Modelo"
        },
        "xaxis": {
         "title": {
          "text": "Rounds"
         }
        },
        "yaxis": {
         "title": {
          "text": "Retorno (%)"
         }
        }
       }
      },
      "text/html": [
       "<div>                            <div id=\"247452e7-c1ad-4320-9b14-10910caa8237\" class=\"plotly-graph-div\" style=\"height:525px; width:100%;\"></div>            <script type=\"text/javascript\">                require([\"plotly\"], function(Plotly) {                    window.PLOTLYENV=window.PLOTLYENV || {};                                    if (document.getElementById(\"247452e7-c1ad-4320-9b14-10910caa8237\")) {                    Plotly.newPlot(                        \"247452e7-c1ad-4320-9b14-10910caa8237\",                        [{\"line\": {\"shape\": \"linear\"}, \"marker\": {\"color\": \"#ff0000\"}, \"name\": \"ex_preds\", \"type\": \"scatter\", \"x\": [\"2020-11-11T00:00:00+00:00\", \"2020-11-18T00:00:00+00:00\", \"2020-11-25T00:00:00+00:00\", \"2020-12-02T00:00:00+00:00\", \"2020-12-09T00:00:00+00:00\", \"2020-12-16T00:00:00+00:00\", \"2020-12-19T00:00:00+00:00\", null], \"y\": [0.0, -3.0765116097971035, 1.834768808631367, 2.3511791256256513, 4.769684475010436, 7.002849064563714, 5.526091372943918]}, {\"line\": {\"shape\": \"linear\"}, \"marker\": {\"color\": \"#ffa700\"}, \"name\": \"xgb_ranker_ts\", \"type\": \"scatter\", \"x\": [\"2020-11-11T00:00:00+00:00\", \"2020-11-18T00:00:00+00:00\", \"2020-11-25T00:00:00+00:00\", \"2020-12-02T00:00:00+00:00\", \"2020-12-09T00:00:00+00:00\", \"2020-12-16T00:00:00+00:00\", \"2020-12-19T00:00:00+00:00\", null], \"y\": [0.0, -3.3675777785832084, 1.5010920982370766, 1.628912924931179, 4.578656442690112, 7.145778173015763, 5.904179097427655]}, {\"line\": {\"shape\": \"linear\"}, \"marker\": {\"color\": \"#afff00\"}, \"name\": \"lgbm_forest\", \"type\": \"scatter\", \"x\": [\"2020-11-11T00:00:00+00:00\", \"2020-11-18T00:00:00+00:00\", \"2020-11-25T00:00:00+00:00\", \"2020-12-02T00:00:00+00:00\", \"2020-12-09T00:00:00+00:00\", \"2020-12-16T00:00:00+00:00\", \"2020-12-19T00:00:00+00:00\", null], \"y\": [0.0, -2.5356395195158656, 1.0469939415571985, 2.337298995244003, 3.1225808818846157, 7.7524760202646466, 5.790959640130607]}, {\"line\": {\"shape\": \"linear\"}, \"marker\": {\"color\": \"#08ff00\"}, \"name\": \"nr__rio\", \"type\": \"scatter\", \"x\": [\"2020-11-11T00:00:00+00:00\", \"2020-11-18T00:00:00+00:00\", \"2020-11-25T00:00:00+00:00\", \"2020-12-02T00:00:00+00:00\", \"2020-12-09T00:00:00+00:00\", \"2020-12-16T00:00:00+00:00\", \"2020-12-19T00:00:00+00:00\", null], \"y\": [0.0, -1.8574826535701865, 1.5120038320820397, 1.7134375478255341, 3.254467225680298, 7.353929361241467, 5.270925133363999]}, {\"line\": {\"shape\": \"linear\"}, \"marker\": {\"color\": \"#00ff9f\"}, \"name\": \"nr__sao_paulo\", \"type\": \"scatter\", \"x\": [\"2020-11-11T00:00:00+00:00\", \"2020-11-18T00:00:00+00:00\", \"2020-11-25T00:00:00+00:00\", \"2020-12-02T00:00:00+00:00\", \"2020-12-09T00:00:00+00:00\", \"2020-12-16T00:00:00+00:00\", \"2020-12-19T00:00:00+00:00\", null], \"y\": [0.0, -2.9525531832690266, 1.4033629477643441, 1.610387238352549, 3.9941450968907173, 7.607205983892955, 5.812709080396241]}],                        {\"template\": {\"data\": {\"bar\": [{\"error_x\": {\"color\": \"#2a3f5f\"}, \"error_y\": {\"color\": \"#2a3f5f\"}, \"marker\": {\"line\": {\"color\": \"#E5ECF6\", \"width\": 0.5}}, \"type\": \"bar\"}], \"barpolar\": [{\"marker\": {\"line\": {\"color\": \"#E5ECF6\", \"width\": 0.5}}, \"type\": \"barpolar\"}], \"carpet\": [{\"aaxis\": {\"endlinecolor\": \"#2a3f5f\", \"gridcolor\": \"white\", \"linecolor\": \"white\", \"minorgridcolor\": \"white\", \"startlinecolor\": \"#2a3f5f\"}, \"baxis\": {\"endlinecolor\": \"#2a3f5f\", \"gridcolor\": \"white\", \"linecolor\": \"white\", \"minorgridcolor\": \"white\", \"startlinecolor\": \"#2a3f5f\"}, \"type\": \"carpet\"}], \"choropleth\": [{\"colorbar\": {\"outlinewidth\": 0, \"ticks\": \"\"}, \"type\": \"choropleth\"}], \"contour\": [{\"colorbar\": {\"outlinewidth\": 0, \"ticks\": \"\"}, \"colorscale\": [[0.0, \"#0d0887\"], [0.1111111111111111, \"#46039f\"], [0.2222222222222222, \"#7201a8\"], [0.3333333333333333, \"#9c179e\"], [0.4444444444444444, \"#bd3786\"], [0.5555555555555556, \"#d8576b\"], [0.6666666666666666, \"#ed7953\"], [0.7777777777777778, \"#fb9f3a\"], [0.8888888888888888, \"#fdca26\"], [1.0, \"#f0f921\"]], \"type\": \"contour\"}], \"contourcarpet\": [{\"colorbar\": {\"outlinewidth\": 0, \"ticks\": \"\"}, \"type\": \"contourcarpet\"}], \"heatmap\": [{\"colorbar\": {\"outlinewidth\": 0, \"ticks\": \"\"}, \"colorscale\": [[0.0, \"#0d0887\"], [0.1111111111111111, \"#46039f\"], [0.2222222222222222, \"#7201a8\"], [0.3333333333333333, \"#9c179e\"], [0.4444444444444444, \"#bd3786\"], [0.5555555555555556, \"#d8576b\"], [0.6666666666666666, \"#ed7953\"], [0.7777777777777778, \"#fb9f3a\"], [0.8888888888888888, \"#fdca26\"], [1.0, \"#f0f921\"]], \"type\": \"heatmap\"}], \"heatmapgl\": [{\"colorbar\": {\"outlinewidth\": 0, \"ticks\": \"\"}, \"colorscale\": [[0.0, \"#0d0887\"], [0.1111111111111111, \"#46039f\"], [0.2222222222222222, \"#7201a8\"], [0.3333333333333333, \"#9c179e\"], [0.4444444444444444, \"#bd3786\"], [0.5555555555555556, \"#d8576b\"], [0.6666666666666666, \"#ed7953\"], [0.7777777777777778, \"#fb9f3a\"], [0.8888888888888888, \"#fdca26\"], [1.0, \"#f0f921\"]], \"type\": \"heatmapgl\"}], \"histogram\": [{\"marker\": {\"colorbar\": {\"outlinewidth\": 0, \"ticks\": \"\"}}, \"type\": \"histogram\"}], \"histogram2d\": [{\"colorbar\": {\"outlinewidth\": 0, \"ticks\": \"\"}, \"colorscale\": [[0.0, \"#0d0887\"], [0.1111111111111111, \"#46039f\"], [0.2222222222222222, \"#7201a8\"], [0.3333333333333333, \"#9c179e\"], [0.4444444444444444, \"#bd3786\"], [0.5555555555555556, \"#d8576b\"], [0.6666666666666666, \"#ed7953\"], [0.7777777777777778, \"#fb9f3a\"], [0.8888888888888888, \"#fdca26\"], [1.0, \"#f0f921\"]], \"type\": \"histogram2d\"}], \"histogram2dcontour\": [{\"colorbar\": {\"outlinewidth\": 0, \"ticks\": \"\"}, \"colorscale\": [[0.0, \"#0d0887\"], [0.1111111111111111, \"#46039f\"], [0.2222222222222222, \"#7201a8\"], [0.3333333333333333, \"#9c179e\"], [0.4444444444444444, \"#bd3786\"], [0.5555555555555556, \"#d8576b\"], [0.6666666666666666, \"#ed7953\"], [0.7777777777777778, \"#fb9f3a\"], [0.8888888888888888, \"#fdca26\"], [1.0, \"#f0f921\"]], \"type\": \"histogram2dcontour\"}], \"mesh3d\": [{\"colorbar\": {\"outlinewidth\": 0, \"ticks\": \"\"}, \"type\": \"mesh3d\"}], \"parcoords\": [{\"line\": {\"colorbar\": {\"outlinewidth\": 0, \"ticks\": \"\"}}, \"type\": \"parcoords\"}], \"pie\": [{\"automargin\": true, \"type\": \"pie\"}], \"scatter\": [{\"marker\": {\"colorbar\": {\"outlinewidth\": 0, \"ticks\": \"\"}}, \"type\": \"scatter\"}], \"scatter3d\": [{\"line\": {\"colorbar\": {\"outlinewidth\": 0, \"ticks\": \"\"}}, \"marker\": {\"colorbar\": {\"outlinewidth\": 0, \"ticks\": \"\"}}, \"type\": \"scatter3d\"}], \"scattercarpet\": [{\"marker\": {\"colorbar\": {\"outlinewidth\": 0, \"ticks\": \"\"}}, \"type\": \"scattercarpet\"}], \"scattergeo\": [{\"marker\": {\"colorbar\": {\"outlinewidth\": 0, \"ticks\": \"\"}}, \"type\": \"scattergeo\"}], \"scattergl\": [{\"marker\": {\"colorbar\": {\"outlinewidth\": 0, \"ticks\": \"\"}}, \"type\": \"scattergl\"}], \"scattermapbox\": [{\"marker\": {\"colorbar\": {\"outlinewidth\": 0, \"ticks\": \"\"}}, \"type\": \"scattermapbox\"}], \"scatterpolar\": [{\"marker\": {\"colorbar\": {\"outlinewidth\": 0, \"ticks\": \"\"}}, \"type\": \"scatterpolar\"}], \"scatterpolargl\": [{\"marker\": {\"colorbar\": {\"outlinewidth\": 0, \"ticks\": \"\"}}, \"type\": \"scatterpolargl\"}], \"scatterternary\": [{\"marker\": {\"colorbar\": {\"outlinewidth\": 0, \"ticks\": \"\"}}, \"type\": \"scatterternary\"}], \"surface\": [{\"colorbar\": {\"outlinewidth\": 0, \"ticks\": \"\"}, \"colorscale\": [[0.0, \"#0d0887\"], [0.1111111111111111, \"#46039f\"], [0.2222222222222222, \"#7201a8\"], [0.3333333333333333, \"#9c179e\"], [0.4444444444444444, \"#bd3786\"], [0.5555555555555556, \"#d8576b\"], [0.6666666666666666, \"#ed7953\"], [0.7777777777777778, \"#fb9f3a\"], [0.8888888888888888, \"#fdca26\"], [1.0, \"#f0f921\"]], \"type\": \"surface\"}], \"table\": [{\"cells\": {\"fill\": {\"color\": \"#EBF0F8\"}, \"line\": {\"color\": \"white\"}}, \"header\": {\"fill\": {\"color\": \"#C8D4E3\"}, \"line\": {\"color\": \"white\"}}, \"type\": \"table\"}]}, \"layout\": {\"annotationdefaults\": {\"arrowcolor\": \"#2a3f5f\", \"arrowhead\": 0, \"arrowwidth\": 1}, \"coloraxis\": {\"colorbar\": {\"outlinewidth\": 0, \"ticks\": \"\"}}, \"colorscale\": {\"diverging\": [[0, \"#8e0152\"], [0.1, \"#c51b7d\"], [0.2, \"#de77ae\"], [0.3, \"#f1b6da\"], [0.4, \"#fde0ef\"], [0.5, \"#f7f7f7\"], [0.6, \"#e6f5d0\"], [0.7, \"#b8e186\"], [0.8, \"#7fbc41\"], [0.9, \"#4d9221\"], [1, \"#276419\"]], \"sequential\": [[0.0, \"#0d0887\"], [0.1111111111111111, \"#46039f\"], [0.2222222222222222, \"#7201a8\"], [0.3333333333333333, \"#9c179e\"], [0.4444444444444444, \"#bd3786\"], [0.5555555555555556, \"#d8576b\"], [0.6666666666666666, \"#ed7953\"], [0.7777777777777778, \"#fb9f3a\"], [0.8888888888888888, \"#fdca26\"], [1.0, \"#f0f921\"]], \"sequentialminus\": [[0.0, \"#0d0887\"], [0.1111111111111111, \"#46039f\"], [0.2222222222222222, \"#7201a8\"], [0.3333333333333333, \"#9c179e\"], [0.4444444444444444, \"#bd3786\"], [0.5555555555555556, \"#d8576b\"], [0.6666666666666666, \"#ed7953\"], [0.7777777777777778, \"#fb9f3a\"], [0.8888888888888888, \"#fdca26\"], [1.0, \"#f0f921\"]]}, \"colorway\": [\"#636efa\", \"#EF553B\", \"#00cc96\", \"#ab63fa\", \"#FFA15A\", \"#19d3f3\", \"#FF6692\", \"#B6E880\", \"#FF97FF\", \"#FECB52\"], \"font\": {\"color\": \"#2a3f5f\"}, \"geo\": {\"bgcolor\": \"white\", \"lakecolor\": \"white\", \"landcolor\": \"#E5ECF6\", \"showlakes\": true, \"showland\": true, \"subunitcolor\": \"white\"}, \"hoverlabel\": {\"align\": \"left\"}, \"hovermode\": \"closest\", \"mapbox\": {\"style\": \"light\"}, \"paper_bgcolor\": \"white\", \"plot_bgcolor\": \"#E5ECF6\", \"polar\": {\"angularaxis\": {\"gridcolor\": \"white\", \"linecolor\": \"white\", \"ticks\": \"\"}, \"bgcolor\": \"#E5ECF6\", \"radialaxis\": {\"gridcolor\": \"white\", \"linecolor\": \"white\", \"ticks\": \"\"}}, \"scene\": {\"xaxis\": {\"backgroundcolor\": \"#E5ECF6\", \"gridcolor\": \"white\", \"gridwidth\": 2, \"linecolor\": \"white\", \"showbackground\": true, \"ticks\": \"\", \"zerolinecolor\": \"white\"}, \"yaxis\": {\"backgroundcolor\": \"#E5ECF6\", \"gridcolor\": \"white\", \"gridwidth\": 2, \"linecolor\": \"white\", \"showbackground\": true, \"ticks\": \"\", \"zerolinecolor\": \"white\"}, \"zaxis\": {\"backgroundcolor\": \"#E5ECF6\", \"gridcolor\": \"white\", \"gridwidth\": 2, \"linecolor\": \"white\", \"showbackground\": true, \"ticks\": \"\", \"zerolinecolor\": \"white\"}}, \"shapedefaults\": {\"line\": {\"color\": \"#2a3f5f\"}}, \"ternary\": {\"aaxis\": {\"gridcolor\": \"white\", \"linecolor\": \"white\", \"ticks\": \"\"}, \"baxis\": {\"gridcolor\": \"white\", \"linecolor\": \"white\", \"ticks\": \"\"}, \"bgcolor\": \"#E5ECF6\", \"caxis\": {\"gridcolor\": \"white\", \"linecolor\": \"white\", \"ticks\": \"\"}}, \"title\": {\"x\": 0.05}, \"xaxis\": {\"automargin\": true, \"gridcolor\": \"white\", \"linecolor\": \"white\", \"ticks\": \"\", \"title\": {\"standoff\": 15}, \"zerolinecolor\": \"white\", \"zerolinewidth\": 2}, \"yaxis\": {\"automargin\": true, \"gridcolor\": \"white\", \"linecolor\": \"white\", \"ticks\": \"\", \"title\": {\"standoff\": 15}, \"zerolinecolor\": \"white\", \"zerolinewidth\": 2}}}, \"title\": {\"text\": \"Live Scores por Modelo\"}, \"xaxis\": {\"title\": {\"text\": \"Rounds\"}}, \"yaxis\": {\"title\": {\"text\": \"Retorno (%)\"}}},                        {\"responsive\": true}                    ).then(function(){\n",
       "                            \n",
       "var gd = document.getElementById('247452e7-c1ad-4320-9b14-10910caa8237');\n",
       "var x = new MutationObserver(function (mutations, observer) {{\n",
       "        var display = window.getComputedStyle(gd).display;\n",
       "        if (!display || display === 'none') {{\n",
       "            console.log([gd, 'removed!']);\n",
       "            Plotly.purge(gd);\n",
       "            observer.disconnect();\n",
       "        }}\n",
       "}});\n",
       "\n",
       "// Listen for the removal of the full notebook cells\n",
       "var notebookContainer = gd.closest('#notebook-container');\n",
       "if (notebookContainer) {{\n",
       "    x.observe(notebookContainer, {childList: true});\n",
       "}}\n",
       "\n",
       "// Listen for the clearing of the current output cell\n",
       "var outputEl = gd.closest('.output');\n",
       "if (outputEl) {{\n",
       "    x.observe(outputEl, {childList: true});\n",
       "}}\n",
       "\n",
       "                        })                };                });            </script>        </div>"
      ]
     },
     "metadata": {},
     "output_type": "display_data"
    }
   ],
   "source": [
    "visualize.plot_live_scores(live_dict['models'], live_dict['round'], base=\"weekly\")"
   ]
  },
  {
   "cell_type": "code",
   "execution_count": null,
   "metadata": {
    "hidden": true
   },
   "outputs": [],
   "source": []
  },
  {
   "cell_type": "code",
   "execution_count": null,
   "metadata": {
    "hidden": true
   },
   "outputs": [],
   "source": []
  },
  {
   "cell_type": "code",
   "execution_count": null,
   "metadata": {
    "hidden": true
   },
   "outputs": [],
   "source": []
  },
  {
   "cell_type": "markdown",
   "metadata": {
    "slideshow": {
     "slide_type": "subslide"
    }
   },
   "source": [
    "# Resumo do modelo (relatorio final)\n",
    "\n",
    "\n",
    "* bla bla bla\n",
    "\n",
    "### Para o proximo modelo \n",
    "\n",
    "* Diversidade"
   ]
  },
  {
   "cell_type": "markdown",
   "metadata": {
    "slideshow": {
     "slide_type": "skip"
    }
   },
   "source": [
    "### Verificando modelos"
   ]
  },
  {
   "cell_type": "code",
   "execution_count": 15,
   "metadata": {
    "ExecuteTime": {
     "end_time": "2021-01-14T09:06:24.009262Z",
     "start_time": "2021-01-14T09:06:19.687282Z"
    }
   },
   "outputs": [
    {
     "name": "stdout",
     "output_type": "stream",
     "text": [
      "creating predictions to: ex_preds\n",
      "creating predictions to: ex_FN100\n",
      "creating predictions to: nr__rio\n",
      "creating predictions to: nr__sao_paulo\n",
      "creating predictions to: nr__medellin\n",
      "CPU times: user 3.41 s, sys: 209 ms, total: 3.61 s\n",
      "Wall time: 4.14 s\n"
     ]
    }
   ],
   "source": [
    "#%%time\n",
    "#\n",
    "#from joblib import dump, load\n",
    "#path = '../../reports/predicoes_validacao/'\n",
    "#\n",
    "#models, res_cv, preds = dict(), dict(), dict()\n",
    "#models_nr = ['ex_preds', 'ex_FN100', 'nr__rio', 'nr__sao_paulo', 'nr__medellin']\n",
    "#\n",
    "#\n",
    "#for model in models_nr:\n",
    "#    #load model complete pipe\n",
    "#    print(\"creating predictions to:\", model)\n",
    "#    #models[model] = load(file_path + model + '-cv.pkl')\n",
    "#    #preds[model] = models[model].model.predict(df_validation[features])\n",
    "#\n",
    "#    # predictions must have an `id` column and a `prediction_kazutsugi` column\n",
    "#    predictions_df = df_validation[\"id\"].to_frame()\n",
    "#    predictions_df[model] = preds_nr[model]\n",
    "#    predictions_df.to_csv(path+model +\"_preds_test.csv\", index=False)\n",
    "#"
   ]
  },
  {
   "cell_type": "code",
   "execution_count": 31,
   "metadata": {
    "ExecuteTime": {
     "end_time": "2020-12-10T02:37:50.873407Z",
     "start_time": "2020-12-10T02:37:49.234151Z"
    },
    "slideshow": {
     "slide_type": "skip"
    }
   },
   "outputs": [],
   "source": [
    "import glob\n",
    "from joblib import dump, load\n",
    "#from joblib import dump, load\n",
    "#file_path = '/content/dissertacao/models/sao_paulo/'\n",
    "file_path = '../../models/guadalajara/'\n",
    "\n",
    "files_path_list = glob.glob(file_path+'*-cv.pkl')\n",
    "models_verify = dict()\n",
    "\n",
    "\n",
    "for file_ in files_path_list:\n",
    "    \n",
    "    #load model complete pipe\n",
    "    #print(\"creating predictions to:\", model)\n",
    "    models_verify[file_] = load(file_)#(file_path + model + '-cv.pkl') #-120"
   ]
  },
  {
   "cell_type": "code",
   "execution_count": 32,
   "metadata": {
    "ExecuteTime": {
     "end_time": "2020-12-10T02:37:52.448608Z",
     "start_time": "2020-12-10T02:37:52.433877Z"
    },
    "slideshow": {
     "slide_type": "skip"
    }
   },
   "outputs": [
    {
     "data": {
      "text/plain": [
       "{'../../models/medellin/xgb_slider20-cv.pkl': <train_model.BuildModel at 0x7fa72ade0df0>,\n",
       " '../../models/medellin/lgbm_slider20-cv.pkl': <train_model.BuildModel at 0x7fa7e5867d30>,\n",
       " '../../models/medellin/xgb_exp20-cv.pkl': <train_model.TunedModel_Skopt at 0x7fa71cdc7fd0>,\n",
       " '../../models/medellin/lgbm_exp20-cv.pkl': <train_model.TunedModel_Skopt at 0x7fa72ae00940>,\n",
       " '../../models/medellin/omp_exp20-cv.pkl': <train_model.TunedModel_Skopt at 0x7fa72ae00ca0>}"
      ]
     },
     "execution_count": 32,
     "metadata": {},
     "output_type": "execute_result"
    }
   ],
   "source": [
    "models_verify"
   ]
  },
  {
   "cell_type": "markdown",
   "metadata": {
    "slideshow": {
     "slide_type": "skip"
    }
   },
   "source": [
    "# Create Slides"
   ]
  },
  {
   "cell_type": "code",
   "execution_count": 37,
   "metadata": {
    "ExecuteTime": {
     "end_time": "2021-01-11T20:46:53.124042Z",
     "start_time": "2021-01-11T20:46:50.030202Z"
    },
    "slideshow": {
     "slide_type": "skip"
    }
   },
   "outputs": [
    {
     "name": "stdout",
     "output_type": "stream",
     "text": [
      "[NbConvertApp] Converting notebook Cap5_Residualizacao.ipynb to slides\n",
      "[NbConvertApp] Writing 380367 bytes to Cap5_Residualizacao.slides.html\n"
     ]
    }
   ],
   "source": [
    "!jupyter nbconvert Cap5_Residualizacao.ipynb --to slides  --template output_toggle  --SlidesExporter.reveal_scroll=True --SlidesExporter.reveal_theme=white  #--reveal-prefix=reveal.js --post serve"
   ]
  },
  {
   "cell_type": "code",
   "execution_count": null,
   "metadata": {},
   "outputs": [],
   "source": []
  }
 ],
 "metadata": {
  "celltoolbar": "Slideshow",
  "hide_input": false,
  "kernelspec": {
   "display_name": "Python 3",
   "language": "python",
   "name": "python3"
  },
  "language_info": {
   "codemirror_mode": {
    "name": "ipython",
    "version": 3
   },
   "file_extension": ".py",
   "mimetype": "text/x-python",
   "name": "python",
   "nbconvert_exporter": "python",
   "pygments_lexer": "ipython3",
   "version": "3.8.3"
  },
  "latex_envs": {
   "LaTeX_envs_menu_present": true,
   "autoclose": true,
   "autocomplete": true,
   "bibliofile": "biblio.bib",
   "cite_by": "apalike",
   "current_citInitial": 1,
   "eqLabelWithNumbers": true,
   "eqNumInitial": 1,
   "hotkeys": {
    "equation": "Ctrl-E",
    "itemize": "Ctrl-I"
   },
   "labels_anchors": false,
   "latex_user_defs": false,
   "report_style_numbering": true,
   "user_envs_cfg": true
  },
  "toc": {
   "base_numbering": 1,
   "nav_menu": {},
   "number_sections": true,
   "sideBar": true,
   "skip_h1_title": false,
   "title_cell": "Table of Contents",
   "title_sidebar": "Contents",
   "toc_cell": false,
   "toc_position": {},
   "toc_section_display": true,
   "toc_window_display": false
  },
  "varInspector": {
   "cols": {
    "lenName": 16,
    "lenType": 16,
    "lenVar": 40
   },
   "kernels_config": {
    "python": {
     "delete_cmd_postfix": "",
     "delete_cmd_prefix": "del ",
     "library": "var_list.py",
     "varRefreshCmd": "print(var_dic_list())"
    },
    "r": {
     "delete_cmd_postfix": ") ",
     "delete_cmd_prefix": "rm(",
     "library": "var_list.r",
     "varRefreshCmd": "cat(var_dic_list()) "
    }
   },
   "types_to_exclude": [
    "module",
    "function",
    "builtin_function_or_method",
    "instance",
    "_Feature"
   ],
   "window_display": false
  }
 },
 "nbformat": 4,
 "nbformat_minor": 4
}
