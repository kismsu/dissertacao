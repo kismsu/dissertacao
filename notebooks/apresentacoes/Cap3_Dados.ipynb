{
 "cells": [
  {
   "cell_type": "markdown",
   "metadata": {
    "slideshow": {
     "slide_type": "slide"
    }
   },
   "source": [
    "# Capítulo 3 - Analisando os dados"
   ]
  },
  {
   "cell_type": "code",
   "execution_count": 1,
   "metadata": {
    "ExecuteTime": {
     "end_time": "2020-11-08T07:37:53.617817Z",
     "start_time": "2020-11-08T07:37:53.583115Z"
    },
    "slideshow": {
     "slide_type": "skip"
    }
   },
   "outputs": [],
   "source": [
    "%load_ext autoreload\n",
    "%autoreload 2"
   ]
  },
  {
   "cell_type": "code",
   "execution_count": 2,
   "metadata": {
    "ExecuteTime": {
     "end_time": "2020-11-08T07:37:57.362708Z",
     "start_time": "2020-11-08T07:37:54.593440Z"
    },
    "slideshow": {
     "slide_type": "skip"
    }
   },
   "outputs": [],
   "source": [
    "#basics\n",
    "import sys,os\n",
    "sys.path.insert(1, os.path.dirname(os.getcwd()))\n",
    "\n",
    "#utils\n",
    "import paths\n",
    "\n",
    "#main libraries\n",
    "import numpy as np\n",
    "import pandas as pd\n",
    "import matplotlib.pyplot as plt\n",
    "pd.set_option(\"display.precision\", 4)\n",
    "%matplotlib inline\n",
    "\n",
    "#model Libraries\n",
    "from sklearn import utils\n",
    "from sklearn import preprocessing\n",
    "\n",
    "from sklearn.model_selection import RandomizedSearchCV\n",
    "from sklearn.model_selection import GroupKFold\n",
    "\n",
    "from sklearn.ensemble import RandomForestClassifier\n",
    "from sklearn.ensemble import RandomForestRegressor\n",
    "\n",
    "from sklearn.metrics import make_scorer\n",
    "from sklearn.metrics import roc_auc_score\n",
    "from sklearn.metrics import mean_squared_error\n",
    "\n",
    "#Light GBM\n",
    "from lightgbm import LGBMClassifier\n",
    "from lightgbm import LGBMRegressor\n",
    "from lightgbm import LGBMRanker"
   ]
  },
  {
   "cell_type": "code",
   "execution_count": 3,
   "metadata": {
    "ExecuteTime": {
     "end_time": "2020-11-08T07:37:58.680606Z",
     "start_time": "2020-11-08T07:37:57.941192Z"
    },
    "slideshow": {
     "slide_type": "skip"
    }
   },
   "outputs": [],
   "source": [
    "#private modules \n",
    "#data\n",
    "from src.data import make_dataset\n",
    "\n",
    "#utils\n",
    "from src.utils import memory_usage\n",
    "\n",
    "#models\n",
    "from src.models import train_model\n",
    "from src.models import evaluation\n",
    "\n",
    "#visualization\n",
    "from src.visualization import visualize\n",
    "\n",
    "#validation\n",
    "from src.validation import metrics\n",
    "from src.validation import metrics_description\n",
    "\n",
    "#min cols\n",
    "min_cols = [\"Feat_exp_max\", 'Std_Dev', 'corr_with_example_preds']"
   ]
  },
  {
   "cell_type": "code",
   "execution_count": 4,
   "metadata": {
    "ExecuteTime": {
     "end_time": "2020-11-08T07:38:00.206996Z",
     "start_time": "2020-11-08T07:37:59.215597Z"
    },
    "slideshow": {
     "slide_type": "skip"
    }
   },
   "outputs": [],
   "source": [
    "from catboost import CatBoostClassifier\n",
    "from catboost import CatBoostRegressor\n",
    "\n",
    "from lightgbm import LGBMClassifier\n",
    "from lightgbm import LGBMRegressor\n",
    "from lightgbm import LGBMRanker\n",
    "\n",
    "from xgboost import XGBClassifier\n",
    "from xgboost import XGBRegressor\n",
    "from xgboost import XGBRanker"
   ]
  },
  {
   "cell_type": "markdown",
   "metadata": {
    "slideshow": {
     "slide_type": "skip"
    }
   },
   "source": [
    "# Dados"
   ]
  },
  {
   "cell_type": "code",
   "execution_count": 11,
   "metadata": {
    "ExecuteTime": {
     "end_time": "2020-10-29T02:08:40.819924Z",
     "start_time": "2020-10-29T02:05:05.517086Z"
    },
    "slideshow": {
     "slide_type": "skip"
    }
   },
   "outputs": [
    {
     "name": "stdout",
     "output_type": "stream",
     "text": [
      "low memory activated\n",
      "Memory usage after optimization is: 309.15 MB\n",
      "Decreased by 49.1%\n",
      "<class 'pandas.core.frame.DataFrame'>\n",
      "RangeIndex: 501808 entries, 0 to 501807\n",
      "Columns: 314 entries, id to target_kazutsugi\n",
      "dtypes: float16(311), int32(1), object(2)\n",
      "memory usage: 307.2+ MB\n",
      "None\n",
      "CPU times: user 51 s, sys: 1min 13s, total: 2min 4s\n",
      "Wall time: 3min 35s\n"
     ]
    }
   ],
   "source": [
    "%%time\n",
    "df_training,features,target = make_dataset.get_data(nrows=None,\n",
    "                                                    low_memory=True, \n",
    "                                                    dataset=\"training\", \n",
    "                                                    feather=True)"
   ]
  },
  {
   "cell_type": "code",
   "execution_count": 5,
   "metadata": {
    "ExecuteTime": {
     "end_time": "2020-11-08T07:38:02.469144Z",
     "start_time": "2020-11-08T07:38:00.774544Z"
    },
    "slideshow": {
     "slide_type": "skip"
    }
   },
   "outputs": [
    {
     "name": "stdout",
     "output_type": "stream",
     "text": [
      "<class 'pandas.core.frame.DataFrame'>\n",
      "RangeIndex: 106895 entries, 0 to 106894\n",
      "Columns: 314 entries, id to target_kazutsugi\n",
      "dtypes: float32(311), int32(1), object(2)\n",
      "memory usage: 128.9+ MB\n",
      "None\n",
      "CPU times: user 668 ms, sys: 857 ms, total: 1.52 s\n",
      "Wall time: 1.61 s\n"
     ]
    }
   ],
   "source": [
    "%%time\n",
    "df_validation,features,target = make_dataset.get_data(nrows=None,\n",
    "                                                    low_memory=False, \n",
    "                                                    dataset=\"validation\", \n",
    "                                                    feather=True)"
   ]
  },
  {
   "cell_type": "code",
   "execution_count": 28,
   "metadata": {
    "ExecuteTime": {
     "end_time": "2020-11-08T07:20:26.342053Z",
     "start_time": "2020-11-08T07:20:26.251460Z"
    },
    "slideshow": {
     "slide_type": "skip"
    }
   },
   "outputs": [
    {
     "name": "stdout",
     "output_type": "stream",
     "text": [
      "Available memory (%): 18.303871154785156\n",
      "None\n"
     ]
    }
   ],
   "source": [
    "print(memory_usage.memory())"
   ]
  },
  {
   "cell_type": "markdown",
   "metadata": {
    "id": "iWvGwJSC_3LD",
    "slideshow": {
     "slide_type": "skip"
    }
   },
   "source": [
    "validation"
   ]
  },
  {
   "cell_type": "code",
   "execution_count": 9,
   "metadata": {
    "id": "gDdJMjqFjvhh",
    "slideshow": {
     "slide_type": "skip"
    }
   },
   "outputs": [],
   "source": [
    "df_validation = df_tournament[df_tournament.data_type == 'validation']\n",
    "df_validation['era'] = df_validation.loc[:, 'era'].str[3:].astype('int32')"
   ]
  },
  {
   "cell_type": "markdown",
   "metadata": {
    "id": "J9X5tY5O4jBs",
    "slideshow": {
     "slide_type": "skip"
    }
   },
   "source": [
    "### Nomi"
   ]
  },
  {
   "cell_type": "code",
   "execution_count": 5,
   "metadata": {
    "ExecuteTime": {
     "end_time": "2020-11-07T19:49:22.217466Z",
     "start_time": "2020-11-07T19:46:16.321152Z"
    },
    "colab": {
     "base_uri": "https://localhost:8080/"
    },
    "id": "755MtFOw3apv",
    "outputId": "fafdc85d-237e-4269-f47f-e516a5125bd5",
    "slideshow": {
     "slide_type": "skip"
    }
   },
   "outputs": [
    {
     "name": "stdout",
     "output_type": "stream",
     "text": [
      "low memory activated\n",
      "Memory usage after optimization is: 376.17 MB\n",
      "Decreased by 49.1%\n",
      "<class 'pandas.core.frame.DataFrame'>\n",
      "RangeIndex: 608703 entries, 0 to 608702\n",
      "Columns: 315 entries, id to target_nomi\n",
      "dtypes: float16(312), int32(1), object(2)\n",
      "memory usage: 373.8+ MB\n",
      "None\n",
      "CPU times: user 1min, sys: 1min 17s, total: 2min 18s\n",
      "Wall time: 3min 5s\n"
     ]
    }
   ],
   "source": [
    "%%time\n",
    "df_training,df_validation,features,target = \\\n",
    "                          make_dataset.get_data_nomi(nrows=None,\n",
    "                                                    low_memory=True, \n",
    "                                                    dataset=\"nomi\", \n",
    "                                                    feather=True)"
   ]
  },
  {
   "cell_type": "markdown",
   "metadata": {
    "id": "Lj6XKcqw4xJO",
    "slideshow": {
     "slide_type": "subslide"
    }
   },
   "source": [
    "## Conjunto de dados (treino)"
   ]
  },
  {
   "cell_type": "code",
   "execution_count": 31,
   "metadata": {
    "ExecuteTime": {
     "end_time": "2020-10-29T02:48:09.934512Z",
     "start_time": "2020-10-29T02:48:04.158637Z"
    },
    "colab": {
     "base_uri": "https://localhost:8080/",
     "height": 253
    },
    "id": "0-E8aGUy3XcH",
    "outputId": "0a81002e-46e5-4857-d2f6-48b4ccf847cf",
    "scrolled": true,
    "slideshow": {
     "slide_type": "fragment"
    }
   },
   "outputs": [
    {
     "data": {
      "text/html": [
       "<div>\n",
       "<style scoped>\n",
       "    .dataframe tbody tr th:only-of-type {\n",
       "        vertical-align: middle;\n",
       "    }\n",
       "\n",
       "    .dataframe tbody tr th {\n",
       "        vertical-align: top;\n",
       "    }\n",
       "\n",
       "    .dataframe thead th {\n",
       "        text-align: right;\n",
       "    }\n",
       "</style>\n",
       "<table border=\"1\" class=\"dataframe\">\n",
       "  <thead>\n",
       "    <tr style=\"text-align: right;\">\n",
       "      <th></th>\n",
       "      <th>id</th>\n",
       "      <th>era</th>\n",
       "      <th>data_type</th>\n",
       "      <th>feature_intelligence1</th>\n",
       "      <th>feature_intelligence2</th>\n",
       "      <th>feature_intelligence3</th>\n",
       "      <th>feature_intelligence4</th>\n",
       "      <th>feature_intelligence5</th>\n",
       "      <th>feature_intelligence6</th>\n",
       "      <th>feature_intelligence7</th>\n",
       "      <th>...</th>\n",
       "      <th>feature_wisdom38</th>\n",
       "      <th>feature_wisdom39</th>\n",
       "      <th>feature_wisdom40</th>\n",
       "      <th>feature_wisdom41</th>\n",
       "      <th>feature_wisdom42</th>\n",
       "      <th>feature_wisdom43</th>\n",
       "      <th>feature_wisdom44</th>\n",
       "      <th>feature_wisdom45</th>\n",
       "      <th>feature_wisdom46</th>\n",
       "      <th>target_kazutsugi</th>\n",
       "    </tr>\n",
       "  </thead>\n",
       "  <tbody>\n",
       "    <tr>\n",
       "      <th>0</th>\n",
       "      <td>n000315175b67977</td>\n",
       "      <td>1</td>\n",
       "      <td>train</td>\n",
       "      <td>0.00</td>\n",
       "      <td>0.50</td>\n",
       "      <td>0.25</td>\n",
       "      <td>0.00</td>\n",
       "      <td>0.5</td>\n",
       "      <td>0.25</td>\n",
       "      <td>0.25</td>\n",
       "      <td>...</td>\n",
       "      <td>1.00</td>\n",
       "      <td>1.00</td>\n",
       "      <td>0.75</td>\n",
       "      <td>0.50</td>\n",
       "      <td>0.75</td>\n",
       "      <td>0.50</td>\n",
       "      <td>1.00</td>\n",
       "      <td>0.50</td>\n",
       "      <td>0.75</td>\n",
       "      <td>0.75</td>\n",
       "    </tr>\n",
       "    <tr>\n",
       "      <th>1</th>\n",
       "      <td>n0014af834a96cdd</td>\n",
       "      <td>1</td>\n",
       "      <td>train</td>\n",
       "      <td>0.00</td>\n",
       "      <td>0.00</td>\n",
       "      <td>0.00</td>\n",
       "      <td>0.25</td>\n",
       "      <td>0.5</td>\n",
       "      <td>0.00</td>\n",
       "      <td>0.00</td>\n",
       "      <td>...</td>\n",
       "      <td>1.00</td>\n",
       "      <td>1.00</td>\n",
       "      <td>0.00</td>\n",
       "      <td>0.00</td>\n",
       "      <td>0.75</td>\n",
       "      <td>0.25</td>\n",
       "      <td>0.00</td>\n",
       "      <td>0.25</td>\n",
       "      <td>1.00</td>\n",
       "      <td>0.25</td>\n",
       "    </tr>\n",
       "    <tr>\n",
       "      <th>2</th>\n",
       "      <td>n001c93979ac41d4</td>\n",
       "      <td>1</td>\n",
       "      <td>train</td>\n",
       "      <td>0.25</td>\n",
       "      <td>0.50</td>\n",
       "      <td>0.25</td>\n",
       "      <td>0.25</td>\n",
       "      <td>1.0</td>\n",
       "      <td>0.75</td>\n",
       "      <td>0.75</td>\n",
       "      <td>...</td>\n",
       "      <td>0.25</td>\n",
       "      <td>0.50</td>\n",
       "      <td>0.00</td>\n",
       "      <td>0.00</td>\n",
       "      <td>0.50</td>\n",
       "      <td>1.00</td>\n",
       "      <td>0.00</td>\n",
       "      <td>0.25</td>\n",
       "      <td>0.75</td>\n",
       "      <td>0.00</td>\n",
       "    </tr>\n",
       "    <tr>\n",
       "      <th>3</th>\n",
       "      <td>n0034e4143f22a13</td>\n",
       "      <td>1</td>\n",
       "      <td>train</td>\n",
       "      <td>1.00</td>\n",
       "      <td>0.00</td>\n",
       "      <td>0.00</td>\n",
       "      <td>0.50</td>\n",
       "      <td>0.5</td>\n",
       "      <td>0.25</td>\n",
       "      <td>0.25</td>\n",
       "      <td>...</td>\n",
       "      <td>1.00</td>\n",
       "      <td>1.00</td>\n",
       "      <td>0.75</td>\n",
       "      <td>0.75</td>\n",
       "      <td>1.00</td>\n",
       "      <td>1.00</td>\n",
       "      <td>0.75</td>\n",
       "      <td>1.00</td>\n",
       "      <td>1.00</td>\n",
       "      <td>0.00</td>\n",
       "    </tr>\n",
       "    <tr>\n",
       "      <th>4</th>\n",
       "      <td>n00679d1a636062f</td>\n",
       "      <td>1</td>\n",
       "      <td>train</td>\n",
       "      <td>0.25</td>\n",
       "      <td>0.25</td>\n",
       "      <td>0.25</td>\n",
       "      <td>0.25</td>\n",
       "      <td>0.0</td>\n",
       "      <td>0.25</td>\n",
       "      <td>0.50</td>\n",
       "      <td>...</td>\n",
       "      <td>0.75</td>\n",
       "      <td>0.75</td>\n",
       "      <td>0.25</td>\n",
       "      <td>0.50</td>\n",
       "      <td>0.75</td>\n",
       "      <td>0.00</td>\n",
       "      <td>0.50</td>\n",
       "      <td>0.25</td>\n",
       "      <td>0.75</td>\n",
       "      <td>0.75</td>\n",
       "    </tr>\n",
       "  </tbody>\n",
       "</table>\n",
       "<p>5 rows × 314 columns</p>\n",
       "</div>"
      ],
      "text/plain": [
       "                 id  era data_type  feature_intelligence1  \\\n",
       "0  n000315175b67977    1     train                   0.00   \n",
       "1  n0014af834a96cdd    1     train                   0.00   \n",
       "2  n001c93979ac41d4    1     train                   0.25   \n",
       "3  n0034e4143f22a13    1     train                   1.00   \n",
       "4  n00679d1a636062f    1     train                   0.25   \n",
       "\n",
       "   feature_intelligence2  feature_intelligence3  feature_intelligence4  \\\n",
       "0                   0.50                   0.25                   0.00   \n",
       "1                   0.00                   0.00                   0.25   \n",
       "2                   0.50                   0.25                   0.25   \n",
       "3                   0.00                   0.00                   0.50   \n",
       "4                   0.25                   0.25                   0.25   \n",
       "\n",
       "   feature_intelligence5  feature_intelligence6  feature_intelligence7  ...  \\\n",
       "0                    0.5                   0.25                   0.25  ...   \n",
       "1                    0.5                   0.00                   0.00  ...   \n",
       "2                    1.0                   0.75                   0.75  ...   \n",
       "3                    0.5                   0.25                   0.25  ...   \n",
       "4                    0.0                   0.25                   0.50  ...   \n",
       "\n",
       "   feature_wisdom38  feature_wisdom39  feature_wisdom40  feature_wisdom41  \\\n",
       "0              1.00              1.00              0.75              0.50   \n",
       "1              1.00              1.00              0.00              0.00   \n",
       "2              0.25              0.50              0.00              0.00   \n",
       "3              1.00              1.00              0.75              0.75   \n",
       "4              0.75              0.75              0.25              0.50   \n",
       "\n",
       "   feature_wisdom42  feature_wisdom43  feature_wisdom44  feature_wisdom45  \\\n",
       "0              0.75              0.50              1.00              0.50   \n",
       "1              0.75              0.25              0.00              0.25   \n",
       "2              0.50              1.00              0.00              0.25   \n",
       "3              1.00              1.00              0.75              1.00   \n",
       "4              0.75              0.00              0.50              0.25   \n",
       "\n",
       "   feature_wisdom46  target_kazutsugi  \n",
       "0              0.75              0.75  \n",
       "1              1.00              0.25  \n",
       "2              0.75              0.00  \n",
       "3              1.00              0.00  \n",
       "4              0.75              0.75  \n",
       "\n",
       "[5 rows x 314 columns]"
      ]
     },
     "execution_count": 31,
     "metadata": {},
     "output_type": "execute_result"
    }
   ],
   "source": [
    "df_training.head() #.iloc[:,:-1]"
   ]
  },
  {
   "cell_type": "code",
   "execution_count": 13,
   "metadata": {
    "id": "UELZOBfu3XsQ",
    "slideshow": {
     "slide_type": "skip"
    }
   },
   "outputs": [],
   "source": [
    "# The features are grouped together into 6 types\n",
    "feature_groups = {\n",
    "    g: [c for c in df_training if c.startswith(f\"feature_{g}\")]\n",
    "    for g in [\"intelligence\", \"wisdom\", \"charisma\", \"dexterity\", \"strength\", \"constitution\"]\n",
    "}"
   ]
  },
  {
   "cell_type": "code",
   "execution_count": 14,
   "metadata": {
    "colab": {
     "base_uri": "https://localhost:8080/"
    },
    "id": "xYZp6IzR3XoY",
    "outputId": "99b3efeb-e3e9-4115-9c28-ae7f4d21fed7",
    "slideshow": {
     "slide_type": "fragment"
    }
   },
   "outputs": [
    {
     "name": "stdout",
     "output_type": "stream",
     "text": [
      "feature_intelligence12\n",
      "feature_wisdom46\n",
      "feature_charisma86\n",
      "feature_dexterity14\n",
      "feature_strength38\n",
      "feature_constitution114\n"
     ]
    }
   ],
   "source": [
    "for group, f_list in feature_groups.items():\n",
    "    print(f_list[-1])"
   ]
  },
  {
   "cell_type": "markdown",
   "metadata": {
    "id": "7D-8JdCcKPo1",
    "slideshow": {
     "slide_type": "subslide"
    }
   },
   "source": [
    "### Algumas features dentro do mesmo grupo são altamente correlacionadas"
   ]
  },
  {
   "cell_type": "code",
   "execution_count": 19,
   "metadata": {
    "ExecuteTime": {
     "end_time": "2020-10-29T02:22:05.214229Z",
     "start_time": "2020-10-29T02:22:05.121612Z"
    },
    "id": "_pswwLb8CF4d",
    "slideshow": {
     "slide_type": "skip"
    }
   },
   "outputs": [],
   "source": [
    "feature_intelligence = [c for c in df_training if c.startswith(\"feature_intelligence\")]"
   ]
  },
  {
   "cell_type": "code",
   "execution_count": 19,
   "metadata": {
    "colab": {
     "base_uri": "https://localhost:8080/",
     "height": 674
    },
    "id": "Uc85PHGTDUK0",
    "outputId": "cedc30e5-9329-4ade-9869-fe6116a27ecf",
    "slideshow": {
     "slide_type": "fragment"
    }
   },
   "outputs": [
    {
     "data": {
      "image/png": "[encoded data removed]",
      "text/plain": [
       "<Figure size 792x648 with 2 Axes>"
      ]
     },
     "metadata": {
      "tags": []
     },
     "output_type": "display_data"
    }
   ],
   "source": [
    "visualize.plot_corr_matrix(df_training[feature_intelligence])"
   ]
  },
  {
   "cell_type": "code",
   "execution_count": 33,
   "metadata": {
    "ExecuteTime": {
     "end_time": "2020-10-29T02:50:25.230103Z",
     "start_time": "2020-10-29T02:50:25.069011Z"
    },
    "slideshow": {
     "slide_type": "fragment"
    }
   },
   "outputs": [
    {
     "name": "stdout",
     "output_type": "stream",
     "text": [
      "\n",
      "\n",
      "\n",
      "\n"
     ]
    }
   ],
   "source": [
    "print()\n",
    "print()\n",
    "print()\n",
    "print()"
   ]
  },
  {
   "cell_type": "markdown",
   "metadata": {
    "id": "FF1ix3Hf1ogX",
    "slideshow": {
     "slide_type": "subslide"
    }
   },
   "source": [
    "### Essa correlação muda com o passar das eras\n",
    "\n",
    "Comparamos a correlação de **pearson** nas primeira metade (eras 1-60), com a segunda metade (era 61-120)"
   ]
  },
  {
   "cell_type": "code",
   "execution_count": 18,
   "metadata": {
    "ExecuteTime": {
     "end_time": "2020-10-29T02:21:57.918183Z",
     "start_time": "2020-10-29T02:21:53.610421Z"
    },
    "id": "ezGDuKQP1ogX",
    "slideshow": {
     "slide_type": "skip"
    }
   },
   "outputs": [],
   "source": [
    "eras = df_training.era\n",
    "df1 = df_training[eras<=eras.median()]\n",
    "df2 = df_training[eras>eras.median()]"
   ]
  },
  {
   "cell_type": "code",
   "execution_count": 20,
   "metadata": {
    "ExecuteTime": {
     "end_time": "2020-10-29T02:22:13.966142Z",
     "start_time": "2020-10-29T02:22:13.580526Z"
    },
    "id": "SpuHEbR31ogb",
    "slideshow": {
     "slide_type": "skip"
    }
   },
   "outputs": [],
   "source": [
    "corr1 = df1[feature_intelligence].corr().unstack()\n",
    "corr1 = corr1[corr1.index.get_level_values(0) < corr1.index.get_level_values(1)]"
   ]
  },
  {
   "cell_type": "code",
   "execution_count": 21,
   "metadata": {
    "ExecuteTime": {
     "end_time": "2020-10-29T02:22:15.552075Z",
     "start_time": "2020-10-29T02:22:15.347510Z"
    },
    "id": "C_Ohlm-z1oge",
    "slideshow": {
     "slide_type": "skip"
    }
   },
   "outputs": [],
   "source": [
    "corr2 = df2[feature_intelligence].corr().unstack()\n",
    "corr2 = corr2[corr2.index.get_level_values(0) < corr2.index.get_level_values(1)]"
   ]
  },
  {
   "cell_type": "code",
   "execution_count": 24,
   "metadata": {
    "ExecuteTime": {
     "end_time": "2020-10-29T02:22:27.323878Z",
     "start_time": "2020-10-29T02:22:27.155520Z"
    },
    "colab": {
     "base_uri": "https://localhost:8080/",
     "height": 204
    },
    "id": "CJyHWIVy1ogi",
    "outputId": "b4a23a0e-859f-427c-aad8-ddce7d7d5595",
    "slideshow": {
     "slide_type": "fragment"
    }
   },
   "outputs": [
    {
     "data": {
      "text/html": [
       "<style  type=\"text/css\" >\n",
       "    #T_969bd53c_198d_11eb_9a93_8438355b82e0row0_col0 {\n",
       "            font-size:  20 pt;\n",
       "        }    #T_969bd53c_198d_11eb_9a93_8438355b82e0row0_col1 {\n",
       "            font-size:  20 pt;\n",
       "        }    #T_969bd53c_198d_11eb_9a93_8438355b82e0row0_col2 {\n",
       "            font-size:  20 pt;\n",
       "        }    #T_969bd53c_198d_11eb_9a93_8438355b82e0row1_col0 {\n",
       "            font-size:  20 pt;\n",
       "        }    #T_969bd53c_198d_11eb_9a93_8438355b82e0row1_col1 {\n",
       "            font-size:  20 pt;\n",
       "        }    #T_969bd53c_198d_11eb_9a93_8438355b82e0row1_col2 {\n",
       "            font-size:  20 pt;\n",
       "        }    #T_969bd53c_198d_11eb_9a93_8438355b82e0row2_col0 {\n",
       "            font-size:  20 pt;\n",
       "        }    #T_969bd53c_198d_11eb_9a93_8438355b82e0row2_col1 {\n",
       "            font-size:  20 pt;\n",
       "        }    #T_969bd53c_198d_11eb_9a93_8438355b82e0row2_col2 {\n",
       "            font-size:  20 pt;\n",
       "        }    #T_969bd53c_198d_11eb_9a93_8438355b82e0row3_col0 {\n",
       "            font-size:  20 pt;\n",
       "        }    #T_969bd53c_198d_11eb_9a93_8438355b82e0row3_col1 {\n",
       "            font-size:  20 pt;\n",
       "        }    #T_969bd53c_198d_11eb_9a93_8438355b82e0row3_col2 {\n",
       "            font-size:  20 pt;\n",
       "        }    #T_969bd53c_198d_11eb_9a93_8438355b82e0row4_col0 {\n",
       "            font-size:  20 pt;\n",
       "        }    #T_969bd53c_198d_11eb_9a93_8438355b82e0row4_col1 {\n",
       "            font-size:  20 pt;\n",
       "        }    #T_969bd53c_198d_11eb_9a93_8438355b82e0row4_col2 {\n",
       "            font-size:  20 pt;\n",
       "        }</style><table id=\"T_969bd53c_198d_11eb_9a93_8438355b82e0\" ><thead>    <tr>        <th class=\"blank\" ></th>        <th class=\"blank level0\" ></th>        <th class=\"col_heading level0 col0\" >corr1</th>        <th class=\"col_heading level0 col1\" >corr2</th>        <th class=\"col_heading level0 col2\" >corr_diff</th>    </tr></thead><tbody>\n",
       "                <tr>\n",
       "                        <th id=\"T_969bd53c_198d_11eb_9a93_8438355b82e0level0_row0\" class=\"row_heading level0 row0\" >feature_intelligence11</th>\n",
       "                        <th id=\"T_969bd53c_198d_11eb_9a93_8438355b82e0level1_row0\" class=\"row_heading level1 row0\" >feature_intelligence9</th>\n",
       "                        <td id=\"T_969bd53c_198d_11eb_9a93_8438355b82e0row0_col0\" class=\"data row0 col0\" >0.0914</td>\n",
       "                        <td id=\"T_969bd53c_198d_11eb_9a93_8438355b82e0row0_col1\" class=\"data row0 col1\" >-0.1289</td>\n",
       "                        <td id=\"T_969bd53c_198d_11eb_9a93_8438355b82e0row0_col2\" class=\"data row0 col2\" >-0.2202</td>\n",
       "            </tr>\n",
       "            <tr>\n",
       "                        <th id=\"T_969bd53c_198d_11eb_9a93_8438355b82e0level0_row1\" class=\"row_heading level0 row1\" rowspan=2>feature_intelligence10</th>\n",
       "                        <th id=\"T_969bd53c_198d_11eb_9a93_8438355b82e0level1_row1\" class=\"row_heading level1 row1\" >feature_intelligence11</th>\n",
       "                        <td id=\"T_969bd53c_198d_11eb_9a93_8438355b82e0row1_col0\" class=\"data row1 col0\" >0.0750</td>\n",
       "                        <td id=\"T_969bd53c_198d_11eb_9a93_8438355b82e0row1_col1\" class=\"data row1 col1\" >-0.1305</td>\n",
       "                        <td id=\"T_969bd53c_198d_11eb_9a93_8438355b82e0row1_col2\" class=\"data row1 col2\" >-0.2055</td>\n",
       "            </tr>\n",
       "            <tr>\n",
       "                                <th id=\"T_969bd53c_198d_11eb_9a93_8438355b82e0level1_row2\" class=\"row_heading level1 row2\" >feature_intelligence4</th>\n",
       "                        <td id=\"T_969bd53c_198d_11eb_9a93_8438355b82e0row2_col0\" class=\"data row2 col0\" >0.0548</td>\n",
       "                        <td id=\"T_969bd53c_198d_11eb_9a93_8438355b82e0row2_col1\" class=\"data row2 col1\" >-0.1442</td>\n",
       "                        <td id=\"T_969bd53c_198d_11eb_9a93_8438355b82e0row2_col2\" class=\"data row2 col2\" >-0.1990</td>\n",
       "            </tr>\n",
       "            <tr>\n",
       "                        <th id=\"T_969bd53c_198d_11eb_9a93_8438355b82e0level0_row3\" class=\"row_heading level0 row3\" >feature_intelligence4</th>\n",
       "                        <th id=\"T_969bd53c_198d_11eb_9a93_8438355b82e0level1_row3\" class=\"row_heading level1 row3\" >feature_intelligence9</th>\n",
       "                        <td id=\"T_969bd53c_198d_11eb_9a93_8438355b82e0row3_col0\" class=\"data row3 col0\" >0.0676</td>\n",
       "                        <td id=\"T_969bd53c_198d_11eb_9a93_8438355b82e0row3_col1\" class=\"data row3 col1\" >-0.1296</td>\n",
       "                        <td id=\"T_969bd53c_198d_11eb_9a93_8438355b82e0row3_col2\" class=\"data row3 col2\" >-0.1972</td>\n",
       "            </tr>\n",
       "            <tr>\n",
       "                        <th id=\"T_969bd53c_198d_11eb_9a93_8438355b82e0level0_row4\" class=\"row_heading level0 row4\" >feature_intelligence10</th>\n",
       "                        <th id=\"T_969bd53c_198d_11eb_9a93_8438355b82e0level1_row4\" class=\"row_heading level1 row4\" >feature_intelligence8</th>\n",
       "                        <td id=\"T_969bd53c_198d_11eb_9a93_8438355b82e0row4_col0\" class=\"data row4 col0\" >0.0549</td>\n",
       "                        <td id=\"T_969bd53c_198d_11eb_9a93_8438355b82e0row4_col1\" class=\"data row4 col1\" >-0.1354</td>\n",
       "                        <td id=\"T_969bd53c_198d_11eb_9a93_8438355b82e0row4_col2\" class=\"data row4 col2\" >-0.1903</td>\n",
       "            </tr>\n",
       "    </tbody></table>"
      ],
      "text/plain": [
       "<pandas.io.formats.style.Styler at 0x7fa069a5ba60>"
      ]
     },
     "execution_count": 24,
     "metadata": {},
     "output_type": "execute_result"
    }
   ],
   "source": [
    "tdf = pd.DataFrame({\n",
    "    \"corr1\": corr1,\n",
    "    \"corr2\": corr2,\n",
    "})\n",
    "tdf[\"corr_diff\"] = tdf.corr2 - tdf.corr1\n",
    "tdf.sort_values(by=\"corr_diff\").head().style.set_properties(**{'font-size': '20 pt'})"
   ]
  },
  {
   "cell_type": "markdown",
   "metadata": {
    "slideshow": {
     "slide_type": "fragment"
    }
   },
   "source": [
    "#### O relacionamento entre as variáveis é inconsistente"
   ]
  },
  {
   "cell_type": "markdown",
   "metadata": {
    "slideshow": {
     "slide_type": "subslide"
    }
   },
   "source": [
    "## Sobre o target\n",
    "\n",
    "* Proporção dos valores do target é similar ao *Numerai Signals*\n",
    "* A Quantidade de ações monitorada dentro das 120 eras (mensais) é variável."
   ]
  },
  {
   "cell_type": "code",
   "execution_count": 40,
   "metadata": {
    "ExecuteTime": {
     "end_time": "2020-10-29T02:58:44.482882Z",
     "start_time": "2020-10-29T02:58:40.889243Z"
    },
    "colab": {
     "base_uri": "https://localhost:8080/",
     "height": 321
    },
    "id": "LJQUF8Sd3XYi",
    "outputId": "555d8b33-65e8-43e9-89d0-83775b2b1625",
    "slideshow": {
     "slide_type": "fragment"
    }
   },
   "outputs": [
    {
     "data": {
      "image/png": "[encoded data removed]",
      "text/plain": [
       "<Figure size 864x288 with 1 Axes>"
      ]
     },
     "metadata": {
      "needs_background": "light"
     },
     "output_type": "display_data"
    }
   ],
   "source": [
    "targets = df_training.loc[:, ['era', target]]\n",
    "pivot_target = targets.groupby(['era', target]).apply(lambda x: len(x)).reset_index(1).pivot(columns=target,values=0)\n",
    "pivot_target.iloc[::2].plot(kind='bar', stacked=True, figsize=(12,4), title='Proporção de ações por era');"
   ]
  },
  {
   "cell_type": "markdown",
   "metadata": {
    "slideshow": {
     "slide_type": "fragment"
    }
   },
   "source": [
    "#### Lembrando toda era começa na sexta feira e precisamos prever o retorno de cada ação para o período subsequente"
   ]
  },
  {
   "cell_type": "markdown",
   "metadata": {
    "id": "zW3dpEHTMnJZ",
    "slideshow": {
     "slide_type": "subslide"
    }
   },
   "source": [
    "## Algumas features possuem correlação com o target"
   ]
  },
  {
   "cell_type": "code",
   "execution_count": 159,
   "metadata": {
    "ExecuteTime": {
     "end_time": "2020-11-08T02:49:21.725733Z",
     "start_time": "2020-11-08T02:49:18.325324Z"
    },
    "id": "pbP_TOAAM_xX",
    "slideshow": {
     "slide_type": "skip"
    }
   },
   "outputs": [],
   "source": [
    "df = df_training.copy()\n",
    "eras = df_training.era"
   ]
  },
  {
   "cell_type": "code",
   "execution_count": 14,
   "metadata": {
    "ExecuteTime": {
     "end_time": "2020-10-29T02:11:20.744533Z",
     "start_time": "2020-10-29T02:11:20.662487Z"
    },
    "id": "_SkU43MHM2kv",
    "slideshow": {
     "slide_type": "skip"
    }
   },
   "outputs": [],
   "source": [
    "# The models should be scored based on the rank-correlation (spearman) with the target\n",
    "def numerai_score(y_true, y_pred):\n",
    "    rank_pred = y_pred.groupby(eras).apply(lambda x: x.rank(pct=True, method=\"first\"))\n",
    "    return np.corrcoef(y_true, rank_pred)[0,1]\n",
    "\n",
    "# It can also be convenient while working to evaluate based on the regular (pearson) correlation\n",
    "def correlation_score(y_true, y_pred):\n",
    "    return np.corrcoef(y_true, y_pred)[0,1]"
   ]
  },
  {
   "cell_type": "code",
   "execution_count": 35,
   "metadata": {
    "id": "gURvw4LQMnJa",
    "slideshow": {
     "slide_type": "skip"
    }
   },
   "outputs": [],
   "source": [
    "feature_scores = {\n",
    "    feature: numerai_score(df[target], df[feature])\n",
    "    for feature in features\n",
    "}"
   ]
  },
  {
   "cell_type": "code",
   "execution_count": 45,
   "metadata": {
    "colab": {
     "base_uri": "https://localhost:8080/"
    },
    "id": "e0wSAf4cMnJd",
    "outputId": "9b0f3a46-2981-480a-ec1c-e182b19983f7",
    "slideshow": {
     "slide_type": "fragment"
    }
   },
   "outputs": [
    {
     "data": {
      "text/plain": [
       "feature_strength34     0.0123\n",
       "feature_strength14     0.0115\n",
       "feature_charisma37     0.0110\n",
       "feature_charisma18     0.0108\n",
       "feature_charisma76     0.0107\n",
       "                        ...  \n",
       "feature_dexterity11   -0.0102\n",
       "feature_charisma69    -0.0103\n",
       "feature_dexterity4    -0.0110\n",
       "feature_dexterity6    -0.0111\n",
       "feature_dexterity7    -0.0115\n",
       "Length: 310, dtype: float64"
      ]
     },
     "execution_count": 45,
     "metadata": {
      "tags": []
     },
     "output_type": "execute_result"
    }
   ],
   "source": [
    "pd.Series(feature_scores).sort_values(ascending=False)"
   ]
  },
  {
   "cell_type": "markdown",
   "metadata": {
    "slideshow": {
     "slide_type": "fragment"
    }
   },
   "source": [
    "### Lembre-se que a relação sinal-ruído é extramamente baixa"
   ]
  },
  {
   "cell_type": "markdown",
   "metadata": {
    "slideshow": {
     "slide_type": "subslide"
    }
   },
   "source": [
    "### Como uma feature se comporta com relação ao target por era\n",
    "\n",
    "Lembrete: Uma feature é um indicador financeiro"
   ]
  },
  {
   "cell_type": "code",
   "execution_count": 39,
   "metadata": {
    "ExecuteTime": {
     "end_time": "2020-10-29T02:58:36.833583Z",
     "start_time": "2020-10-29T02:58:32.589565Z"
    },
    "colab": {
     "base_uri": "https://localhost:8080/",
     "height": 285
    },
    "id": "v3Xejz7nMnJh",
    "outputId": "9a8094f1-a0c2-437b-dcce-c7c85f80db6f",
    "slideshow": {
     "slide_type": "fragment"
    }
   },
   "outputs": [
    {
     "data": {
      "image/png": "[encoded data removed]",
      "text/plain": [
       "<Figure size 432x288 with 1 Axes>"
      ]
     },
     "metadata": {
      "needs_background": "light"
     },
     "output_type": "display_data"
    }
   ],
   "source": [
    "# Single features do not work consistently though\n",
    "by_era_correlation = pd.Series({\n",
    "    era: np.corrcoef(tdf['target_kazutsugi'], tdf[\"feature_strength34\"])[0,1]\n",
    "    for era, tdf in df.groupby(eras)\n",
    "})\n",
    "by_era_correlation.plot();"
   ]
  },
  {
   "cell_type": "markdown",
   "metadata": {
    "slideshow": {
     "slide_type": "subslide"
    }
   },
   "source": [
    "#### Analisando a média movel de 12 eras (1 ano)"
   ]
  },
  {
   "cell_type": "code",
   "execution_count": 44,
   "metadata": {
    "ExecuteTime": {
     "end_time": "2020-10-29T14:43:18.123533Z",
     "start_time": "2020-10-29T14:43:17.803272Z"
    }
   },
   "outputs": [
    {
     "data": {
      "image/png": "[encoded data removed]",
      "text/plain": [
       "<Figure size 432x288 with 1 Axes>"
      ]
     },
     "metadata": {
      "needs_background": "light"
     },
     "output_type": "display_data"
    }
   ],
   "source": [
    "# With a rolling 12 era average you can see some trends\n",
    "by_era_correlation.rolling(12).mean().plot();"
   ]
  },
  {
   "cell_type": "markdown",
   "metadata": {
    "slideshow": {
     "slide_type": "fragment"
    }
   },
   "source": [
    "### Conclusão: Não podemos confiar demais em um grupo pequeno de features"
   ]
  },
  {
   "cell_type": "markdown",
   "metadata": {
    "id": "76aXwYiKpIsG",
    "slideshow": {
     "slide_type": "slide"
    }
   },
   "source": [
    "## Como somos Avaliados?"
   ]
  },
  {
   "cell_type": "markdown",
   "metadata": {
    "id": "S1Av3YDJuZKR",
    "slideshow": {
     "slide_type": "fragment"
    }
   },
   "source": [
    "<img src=\"https://github.com/nicholasrichers/dissertacao/blob/master/references/figures/cap3/integration_test.png?raw=true\" width=800 />\n",
    "\n",
    "- Equivale a um retorno de 8.5% a cada NMR investido (1NMR=25USD)\n",
    "\n",
    "*Fonte: https://numer.ai/integration_test*"
   ]
  },
  {
   "cell_type": "markdown",
   "metadata": {
    "id": "FhP4WVBLpiCx",
    "slideshow": {
     "slide_type": "subslide"
    }
   },
   "source": [
    "### Baseline"
   ]
  },
  {
   "cell_type": "markdown",
   "metadata": {
    "slideshow": {
     "slide_type": "fragment"
    }
   },
   "source": [
    "#### Modelo do Integration Test"
   ]
  },
  {
   "cell_type": "code",
   "execution_count": 136,
   "metadata": {
    "ExecuteTime": {
     "end_time": "2020-11-07T21:56:54.671898Z",
     "start_time": "2020-11-07T21:56:54.377342Z"
    },
    "colab": {
     "base_uri": "https://localhost:8080/"
    },
    "id": "ajZMy-UNoRbA",
    "outputId": "39ec7c35-022e-4907-f3e3-54659a427818",
    "slideshow": {
     "slide_type": "fragment"
    }
   },
   "outputs": [
    {
     "name": "stdout",
     "output_type": "stream",
     "text": [
      "XGBRegressor(n_estimators=2000, learning_rate=0.01, max_depth=5, colsample_bytree=0.1)\n"
     ]
    }
   ],
   "source": [
    "print(\"XGBRegressor(n_estimators=2000, learning_rate=0.01, max_depth=5, colsample_bytree=0.1)\")"
   ]
  },
  {
   "cell_type": "markdown",
   "metadata": {
    "id": "qNbJFiouvAGu",
    "slideshow": {
     "slide_type": "fragment"
    }
   },
   "source": [
    "### Lembrando que o target assume os valores  {0, 0,25, 0,5, 0,75, 1}"
   ]
  },
  {
   "cell_type": "markdown",
   "metadata": {
    "slideshow": {
     "slide_type": "fragment"
    }
   },
   "source": [
    "#### Mas a avaliação é feita sobre a correlação de spearman"
   ]
  },
  {
   "cell_type": "markdown",
   "metadata": {
    "id": "Qr5BMpC9w-zZ",
    "slideshow": {
     "slide_type": "subslide"
    }
   },
   "source": [
    "### Correlação de Spearman\n",
    "\n",
    "$${\\displaystyle r_{s}=\\rho _{\\operatorname {rg} _{X},\\operatorname {rg} _{Y}}={\\frac {\\operatorname {cov} (\\operatorname {rg} _{X},\\operatorname {rg} _{Y})}{\\sigma _{\\operatorname {rg} _{X}}\\sigma _{\\operatorname {rg} _{Y}}}},}$$\n",
    "\n",
    "\n"
   ]
  },
  {
   "cell_type": "markdown",
   "metadata": {
    "slideshow": {
     "slide_type": "fragment"
    }
   },
   "source": [
    "\n",
    "<img src=\"https://github.com/nicholasrichers/dissertacao/blob/master/references/figures/cap2/spearman.png?raw=true\" width=350 />\n",
    "\n"
   ]
  },
  {
   "cell_type": "markdown",
   "metadata": {
    "id": "p0EKLdfc1U1z",
    "slideshow": {
     "slide_type": "fragment"
    }
   },
   "source": [
    "#### entao estamos resolvendo um problema de ranqueamento"
   ]
  },
  {
   "cell_type": "markdown",
   "metadata": {
    "ExecuteTime": {
     "end_time": "2020-11-08T02:01:07.723823Z",
     "start_time": "2020-11-08T02:01:07.640295Z"
    },
    "slideshow": {
     "slide_type": "fragment"
    }
   },
   "source": [
    "*Fonte: https://en.wikipedia.org/wiki/Spearman%27s_rank_correlation_coefficient*"
   ]
  },
  {
   "cell_type": "markdown",
   "metadata": {
    "slideshow": {
     "slide_type": "subslide"
    }
   },
   "source": [
    "### Tipos de Aprendizado Supervisionado"
   ]
  },
  {
   "cell_type": "markdown",
   "metadata": {
    "slideshow": {
     "slide_type": "fragment"
    }
   },
   "source": [
    "#### Regressão e Classificação\n",
    "<img src=\"https://miro.medium.com/max/3200/1*ASYpFfDh7XnreU-ygqXonw.png\" style=\"width: 700px;\"/> \n",
    "\n",
    "*Fonte: https://medium.com/opensanca/aprendizagem-de-maquina-supervisionada-ou-n%C3%A3o-supervisionada-7d01f78cd80a*"
   ]
  },
  {
   "cell_type": "markdown",
   "metadata": {
    "slideshow": {
     "slide_type": "subslide"
    }
   },
   "source": [
    "#### Ranqueamento\n",
    "\n",
    "<td> <img src=\"https://i1.wp.com/mlexplained.com/wp-content/uploads/2019/05/Screen-Shot-2019-05-24-at-10.53.30-PM.png?resize=840%2C434\" alt=\"Drawing\" style=\"width: 500px;\"/> </td>\n",
    "\n",
    "*Fonte: https://mlexplained.com/2019/05/27/learning-to-rank-explained-with-code/*"
   ]
  },
  {
   "cell_type": "markdown",
   "metadata": {
    "id": "Ph8ogJZL1oVm",
    "slideshow": {
     "slide_type": "subslide"
    }
   },
   "source": [
    "#### Podemos fazer das três formas"
   ]
  },
  {
   "cell_type": "code",
   "execution_count": 156,
   "metadata": {
    "ExecuteTime": {
     "end_time": "2020-11-08T02:15:13.416116Z",
     "start_time": "2020-11-08T02:15:12.763907Z"
    },
    "slideshow": {
     "slide_type": "fragment"
    }
   },
   "outputs": [
    {
     "data": {
      "image/png": "[encoded data removed]",
      "text/plain": [
       "<Figure size 576x396 with 1 Axes>"
      ]
     },
     "metadata": {},
     "output_type": "display_data"
    }
   ],
   "source": [
    "plt.style.use('seaborn-white')\n",
    "\n",
    "X = []\n",
    "for i in range(5):\n",
    "    X +=[[i+random.random(),i+random.random(),i/4] for _ in range(20)]\n",
    "\n",
    "    \n",
    "X = np.array(X)\n",
    "df = pd.DataFrame(dict(preds=X[:,0], target=X[:,1], label=X[:,2]))\n",
    "colors = {0:'red', .25:'blue', .5:'green', .75:'orange', 1:'purple'}\n",
    "\n",
    "\n",
    "fig, ax = pyplot.subplots()\n",
    "grouped = df.groupby('label')\n",
    "for key, group in grouped:\n",
    "    group.plot(ax=ax, kind='scatter', x='preds', y='target', label=key, color=colors[key], s=30)\n",
    "\n",
    "    \n",
    "dash = np.linspace(0,5,100)\n",
    "plt.plot(dash, dash, color='grey', linestyle='dashed')\n",
    "plt.show()"
   ]
  },
  {
   "cell_type": "markdown",
   "metadata": {
    "slideshow": {
     "slide_type": "slide"
    }
   },
   "source": [
    "### Qual dos três é o melhor?"
   ]
  },
  {
   "cell_type": "markdown",
   "metadata": {
    "id": "Cxi0FILGs5v3",
    "slideshow": {
     "slide_type": "fragment"
    }
   },
   "source": [
    "###### Utilizamos 3 modelos top de linha e vamos comparar as implementações de classificação, regressão e ranqueamento.\n",
    "\n",
    "- Xgboost (Microsoft)\n",
    "- LightGBM (Microsoft)\n",
    "- Catboost (Yandex)"
   ]
  },
  {
   "cell_type": "code",
   "execution_count": null,
   "metadata": {
    "id": "2UMCwx-Kqwkr",
    "slideshow": {
     "slide_type": "skip"
    }
   },
   "outputs": [],
   "source": [
    "model_name = [\n",
    "              \"XGBClassifier\"\n",
    "              ,\"XGBRegressor\"\n",
    "              ,\"XGBRanker\"\n",
    "              ,\"LGBMClassifier\"\n",
    "              ,\"LGBMRegressor\"\n",
    "              ,\"LGBMRanker\"\n",
    "              ,\"CatBoostClassifier\"\n",
    "              ,\"CatBoostRegressor\"              \n",
    "]"
   ]
  },
  {
   "cell_type": "code",
   "execution_count": null,
   "metadata": {
    "id": "kABOWPNHqwkh",
    "slideshow": {
     "slide_type": "skip"
    }
   },
   "outputs": [],
   "source": [
    "est = 2000\n",
    "models = [\n",
    "    XGBClassifier(max_depth=5, learning_rate=0.01, n_estimators=est, n_jobs=-1, colsample_bytree=0.1, tree_method='gpu_hist', gpu_id=0),\n",
    "    XGBRegressor(max_depth=5, learning_rate=0.01, n_estimators=est, n_jobs=-1, colsample_bytree=0.1, tree_method='gpu_hist', gpu_id=0),\n",
    "    XGBRanker(max_depth=5, learning_rate=0.01, n_estimators=est, n_jobs=-1, colsample_bytree=0.1, tree_method='gpu_hist', gpu_id=0)\n",
    "] +  [\n",
    "    LGBMClassifier(max_depth=5, learning_rate=0.01, n_estimators=est, n_jobs=-1, colsample_bytree=0.1, num_leaves=32, device_type = \"gpu\"),\n",
    "    LGBMRegressor(max_depth=5, learning_rate=0.01, n_estimators=est, n_jobs=-1, colsample_bytree=0.1, num_leaves=32, device_type = \"gpu\"),\n",
    "    LGBMRanker(max_depth=5, learning_rate=0.01, n_estimators=est, n_jobs=-1, colsample_bytree=0.1, num_leaves=32, device_type = \"gpu\")\n",
    "] +  [\n",
    "    CatBoostClassifier(max_depth=5, learning_rate=0.01, n_estimators=est, task_type='GPU'),\n",
    "    CatBoostRegressor(max_depth=5, learning_rate=0.01, n_estimators=est, task_type='GPU')\n",
    "]"
   ]
  },
  {
   "cell_type": "code",
   "execution_count": null,
   "metadata": {
    "colab": {
     "base_uri": "https://localhost:8080/",
     "height": 187
    },
    "id": "eL2nIkRHqwku",
    "outputId": "8de8e71f-e83d-4a27-dfc4-cbf288b81869",
    "slideshow": {
     "slide_type": "skip"
    }
   },
   "outputs": [
    {
     "name": "stdout",
     "output_type": "stream",
     "text": [
      " --  XGBRegressor(base_score=0.5, booster='gbtree', colsample_bylevel=1,\n",
      "             colsample_bynode=1, colsample_bytree=0.1, gamma=0, gpu_id=0,\n",
      "             importance_type='gain', learning_rate=0.01, max_delta_step=0,\n",
      "             max_depth=5, min_child_weight=1, missing=None, n_estimators=2000,\n",
      "             n_jobs=-1, nthread=None, objective='reg:linear', random_state=0,\n",
      "             reg_alpha=0, reg_lambda=1, scale_pos_weight=1, seed=None,\n",
      "             silent=None, subsample=1, tree_method='gpu_hist', verbosity=1)\n",
      "[16:58:24] WARNING: /workspace/src/objective/regression_obj.cu:152: reg:linear is now deprecated in favor of reg:squarederror.\n",
      "\n",
      "\n"
     ]
    }
   ],
   "source": [
    "results = dict()\n",
    "from time import time\n",
    "\n",
    "for i,model in enumerate(models):\n",
    "    model_res = dict()\n",
    "    print(\" -- \", model)\n",
    "    start = time()\n",
    "    if model_name[i] == \"XGBRanker\" or model_name[i] == \"LGBMRanker\":\n",
    "      model.fit(training_data[features], training_data[target], group=group)\n",
    "    else:\n",
    "      model.fit(training_data[features], training_data[target])\n",
    "    elapsed = time() - start\n",
    "    model_res[\"outsample\"] = numerai_score(df2[target], pd.Series(model.predict(df2[features]).reshape(1,-1)[0], index=df2.index))\n",
    "    model_res[\"insample\"] = numerai_score(df1[target], pd.Series(model.predict(df1[features]).reshape(1,-1)[0], index=df1.index))\n",
    "    model_res[\"time_elapsed(s)\"] = elapsed\n",
    "    print(\n",
    "        #f\"outsample: {model_res[\"outsample\"]}, insample: {model_res[\"insample\"]}\"\n",
    "    )\n",
    "    print()\n",
    "    results[model_name[i]] = model_res\n",
    "    file_name = 'baseline_'+ model_name[i] +'.pkl'\n",
    "    dump(model, file_name)\n",
    "\n",
    "res = pd.DataFrame.from_dict(results).T\n",
    "pd.set_option(\"display.precision\", 4)\n",
    "\n",
    "final_results = res.sort_values(by=['outsample'], ascending=False)\n",
    "#final_results.to_csv(\"results_baseline.csv\", index=True)"
   ]
  },
  {
   "cell_type": "code",
   "execution_count": 138,
   "metadata": {
    "ExecuteTime": {
     "end_time": "2020-11-07T23:22:36.957073Z",
     "start_time": "2020-11-07T23:22:36.522631Z"
    },
    "id": "pmvO5k7-qwk_",
    "slideshow": {
     "slide_type": "skip"
    }
   },
   "outputs": [],
   "source": [
    "#res.sort_values(by=['time_elapsed(s)'])\n",
    "results = pd.read_csv(\"../../reports/results_baseline.csv\")"
   ]
  },
  {
   "cell_type": "markdown",
   "metadata": {
    "slideshow": {
     "slide_type": "fragment"
    }
   },
   "source": [
    "#### Treinamos nas eras 1-60 e testamos nas eras 61-120"
   ]
  },
  {
   "cell_type": "code",
   "execution_count": 194,
   "metadata": {
    "ExecuteTime": {
     "end_time": "2020-11-08T03:34:13.075258Z",
     "start_time": "2020-11-08T03:34:12.868532Z"
    },
    "id": "uCqHL-9TsQAS",
    "outputId": "7ac93e64-27e9-4174-ec0e-919aa232d0c8",
    "slideshow": {
     "slide_type": "fragment"
    }
   },
   "outputs": [
    {
     "data": {
      "text/html": [
       "<style  type=\"text/css\" >\n",
       "    #T_452edecc_2173_11eb_b9cd_8438355b82e0row0_col0 {\n",
       "            font-size:  30 pt;\n",
       "        }    #T_452edecc_2173_11eb_b9cd_8438355b82e0row0_col1 {\n",
       "            font-size:  30 pt;\n",
       "        }    #T_452edecc_2173_11eb_b9cd_8438355b82e0row0_col2 {\n",
       "            font-size:  30 pt;\n",
       "        }    #T_452edecc_2173_11eb_b9cd_8438355b82e0row0_col3 {\n",
       "            font-size:  30 pt;\n",
       "        }    #T_452edecc_2173_11eb_b9cd_8438355b82e0row1_col0 {\n",
       "            font-size:  30 pt;\n",
       "        }    #T_452edecc_2173_11eb_b9cd_8438355b82e0row1_col1 {\n",
       "            font-size:  30 pt;\n",
       "        }    #T_452edecc_2173_11eb_b9cd_8438355b82e0row1_col2 {\n",
       "            font-size:  30 pt;\n",
       "        }    #T_452edecc_2173_11eb_b9cd_8438355b82e0row1_col3 {\n",
       "            font-size:  30 pt;\n",
       "        }    #T_452edecc_2173_11eb_b9cd_8438355b82e0row2_col0 {\n",
       "            font-size:  30 pt;\n",
       "        }    #T_452edecc_2173_11eb_b9cd_8438355b82e0row2_col1 {\n",
       "            font-size:  30 pt;\n",
       "        }    #T_452edecc_2173_11eb_b9cd_8438355b82e0row2_col2 {\n",
       "            font-size:  30 pt;\n",
       "        }    #T_452edecc_2173_11eb_b9cd_8438355b82e0row2_col3 {\n",
       "            font-size:  30 pt;\n",
       "        }    #T_452edecc_2173_11eb_b9cd_8438355b82e0row3_col0 {\n",
       "            font-size:  30 pt;\n",
       "        }    #T_452edecc_2173_11eb_b9cd_8438355b82e0row3_col1 {\n",
       "            font-size:  30 pt;\n",
       "        }    #T_452edecc_2173_11eb_b9cd_8438355b82e0row3_col2 {\n",
       "            font-size:  30 pt;\n",
       "        }    #T_452edecc_2173_11eb_b9cd_8438355b82e0row3_col3 {\n",
       "            font-size:  30 pt;\n",
       "        }    #T_452edecc_2173_11eb_b9cd_8438355b82e0row4_col0 {\n",
       "            font-size:  30 pt;\n",
       "        }    #T_452edecc_2173_11eb_b9cd_8438355b82e0row4_col1 {\n",
       "            font-size:  30 pt;\n",
       "        }    #T_452edecc_2173_11eb_b9cd_8438355b82e0row4_col2 {\n",
       "            font-size:  30 pt;\n",
       "        }    #T_452edecc_2173_11eb_b9cd_8438355b82e0row4_col3 {\n",
       "            font-size:  30 pt;\n",
       "        }    #T_452edecc_2173_11eb_b9cd_8438355b82e0row5_col0 {\n",
       "            font-size:  30 pt;\n",
       "        }    #T_452edecc_2173_11eb_b9cd_8438355b82e0row5_col1 {\n",
       "            font-size:  30 pt;\n",
       "        }    #T_452edecc_2173_11eb_b9cd_8438355b82e0row5_col2 {\n",
       "            font-size:  30 pt;\n",
       "        }    #T_452edecc_2173_11eb_b9cd_8438355b82e0row5_col3 {\n",
       "            font-size:  30 pt;\n",
       "        }    #T_452edecc_2173_11eb_b9cd_8438355b82e0row6_col0 {\n",
       "            font-size:  30 pt;\n",
       "        }    #T_452edecc_2173_11eb_b9cd_8438355b82e0row6_col1 {\n",
       "            font-size:  30 pt;\n",
       "        }    #T_452edecc_2173_11eb_b9cd_8438355b82e0row6_col2 {\n",
       "            font-size:  30 pt;\n",
       "        }    #T_452edecc_2173_11eb_b9cd_8438355b82e0row6_col3 {\n",
       "            font-size:  30 pt;\n",
       "        }    #T_452edecc_2173_11eb_b9cd_8438355b82e0row7_col0 {\n",
       "            font-size:  30 pt;\n",
       "        }    #T_452edecc_2173_11eb_b9cd_8438355b82e0row7_col1 {\n",
       "            font-size:  30 pt;\n",
       "        }    #T_452edecc_2173_11eb_b9cd_8438355b82e0row7_col2 {\n",
       "            font-size:  30 pt;\n",
       "        }    #T_452edecc_2173_11eb_b9cd_8438355b82e0row7_col3 {\n",
       "            font-size:  30 pt;\n",
       "        }</style><table id=\"T_452edecc_2173_11eb_b9cd_8438355b82e0\" ><thead>    <tr>        <th class=\"blank level0\" ></th>        <th class=\"col_heading level0 col0\" >outsample</th>        <th class=\"col_heading level0 col1\" >insample</th>        <th class=\"col_heading level0 col2\" >time_elapsed_GPU(s)</th>        <th class=\"col_heading level0 col3\" >time_elapsed(s)</th>    </tr></thead><tbody>\n",
       "                <tr>\n",
       "                        <th id=\"T_452edecc_2173_11eb_b9cd_8438355b82e0level0_row0\" class=\"row_heading level0 row0\" >LGBMRegressor</th>\n",
       "                        <td id=\"T_452edecc_2173_11eb_b9cd_8438355b82e0row0_col0\" class=\"data row0 col0\" >0.0447</td>\n",
       "                        <td id=\"T_452edecc_2173_11eb_b9cd_8438355b82e0row0_col1\" class=\"data row0 col1\" >0.2677</td>\n",
       "                        <td id=\"T_452edecc_2173_11eb_b9cd_8438355b82e0row0_col2\" class=\"data row0 col2\" >23.8324</td>\n",
       "                        <td id=\"T_452edecc_2173_11eb_b9cd_8438355b82e0row0_col3\" class=\"data row0 col3\" >62.3275</td>\n",
       "            </tr>\n",
       "            <tr>\n",
       "                        <th id=\"T_452edecc_2173_11eb_b9cd_8438355b82e0level0_row1\" class=\"row_heading level0 row1\" >XGBRanker</th>\n",
       "                        <td id=\"T_452edecc_2173_11eb_b9cd_8438355b82e0row1_col0\" class=\"data row1 col0\" >0.0442</td>\n",
       "                        <td id=\"T_452edecc_2173_11eb_b9cd_8438355b82e0row1_col1\" class=\"data row1 col1\" >0.2021</td>\n",
       "                        <td id=\"T_452edecc_2173_11eb_b9cd_8438355b82e0row1_col2\" class=\"data row1 col2\" >67.5707</td>\n",
       "                        <td id=\"T_452edecc_2173_11eb_b9cd_8438355b82e0row1_col3\" class=\"data row1 col3\" >469.0444</td>\n",
       "            </tr>\n",
       "            <tr>\n",
       "                        <th id=\"T_452edecc_2173_11eb_b9cd_8438355b82e0level0_row2\" class=\"row_heading level0 row2\" >XGBRegressor</th>\n",
       "                        <td id=\"T_452edecc_2173_11eb_b9cd_8438355b82e0row2_col0\" class=\"data row2 col0\" >0.0440</td>\n",
       "                        <td id=\"T_452edecc_2173_11eb_b9cd_8438355b82e0row2_col1\" class=\"data row2 col1\" >0.2667</td>\n",
       "                        <td id=\"T_452edecc_2173_11eb_b9cd_8438355b82e0row2_col2\" class=\"data row2 col2\" >37.2466</td>\n",
       "                        <td id=\"T_452edecc_2173_11eb_b9cd_8438355b82e0row2_col3\" class=\"data row2 col3\" >445.6100</td>\n",
       "            </tr>\n",
       "            <tr>\n",
       "                        <th id=\"T_452edecc_2173_11eb_b9cd_8438355b82e0level0_row3\" class=\"row_heading level0 row3\" >LGBMClassifier</th>\n",
       "                        <td id=\"T_452edecc_2173_11eb_b9cd_8438355b82e0row3_col0\" class=\"data row3 col0\" >0.0305</td>\n",
       "                        <td id=\"T_452edecc_2173_11eb_b9cd_8438355b82e0row3_col1\" class=\"data row3 col1\" >0.2070</td>\n",
       "                        <td id=\"T_452edecc_2173_11eb_b9cd_8438355b82e0row3_col2\" class=\"data row3 col2\" >137.1966</td>\n",
       "                        <td id=\"T_452edecc_2173_11eb_b9cd_8438355b82e0row3_col3\" class=\"data row3 col3\" >301.8254</td>\n",
       "            </tr>\n",
       "            <tr>\n",
       "                        <th id=\"T_452edecc_2173_11eb_b9cd_8438355b82e0level0_row4\" class=\"row_heading level0 row4\" >XGBClassifier</th>\n",
       "                        <td id=\"T_452edecc_2173_11eb_b9cd_8438355b82e0row4_col0\" class=\"data row4 col0\" >0.0302</td>\n",
       "                        <td id=\"T_452edecc_2173_11eb_b9cd_8438355b82e0row4_col1\" class=\"data row4 col1\" >0.1648</td>\n",
       "                        <td id=\"T_452edecc_2173_11eb_b9cd_8438355b82e0row4_col2\" class=\"data row4 col2\" >232.9470</td>\n",
       "                        <td id=\"T_452edecc_2173_11eb_b9cd_8438355b82e0row4_col3\" class=\"data row4 col3\" >2172.2911</td>\n",
       "            </tr>\n",
       "            <tr>\n",
       "                        <th id=\"T_452edecc_2173_11eb_b9cd_8438355b82e0level0_row5\" class=\"row_heading level0 row5\" >CatBoostClassifier</th>\n",
       "                        <td id=\"T_452edecc_2173_11eb_b9cd_8438355b82e0row5_col0\" class=\"data row5 col0\" >0.0271</td>\n",
       "                        <td id=\"T_452edecc_2173_11eb_b9cd_8438355b82e0row5_col1\" class=\"data row5 col1\" >0.0959</td>\n",
       "                        <td id=\"T_452edecc_2173_11eb_b9cd_8438355b82e0row5_col2\" class=\"data row5 col2\" >19.0138</td>\n",
       "                        <td id=\"T_452edecc_2173_11eb_b9cd_8438355b82e0row5_col3\" class=\"data row5 col3\" >1193.6433</td>\n",
       "            </tr>\n",
       "            <tr>\n",
       "                        <th id=\"T_452edecc_2173_11eb_b9cd_8438355b82e0level0_row6\" class=\"row_heading level0 row6\" >CatBoostRegressor</th>\n",
       "                        <td id=\"T_452edecc_2173_11eb_b9cd_8438355b82e0row6_col0\" class=\"data row6 col0\" >0.0267</td>\n",
       "                        <td id=\"T_452edecc_2173_11eb_b9cd_8438355b82e0row6_col1\" class=\"data row6 col1\" >0.0949</td>\n",
       "                        <td id=\"T_452edecc_2173_11eb_b9cd_8438355b82e0row6_col2\" class=\"data row6 col2\" >9.2403</td>\n",
       "                        <td id=\"T_452edecc_2173_11eb_b9cd_8438355b82e0row6_col3\" class=\"data row6 col3\" >209.8839</td>\n",
       "            </tr>\n",
       "            <tr>\n",
       "                        <th id=\"T_452edecc_2173_11eb_b9cd_8438355b82e0level0_row7\" class=\"row_heading level0 row7\" >LGBMRanker</th>\n",
       "                        <td id=\"T_452edecc_2173_11eb_b9cd_8438355b82e0row7_col0\" class=\"data row7 col0\" >0.0150</td>\n",
       "                        <td id=\"T_452edecc_2173_11eb_b9cd_8438355b82e0row7_col1\" class=\"data row7 col1\" >0.0647</td>\n",
       "                        <td id=\"T_452edecc_2173_11eb_b9cd_8438355b82e0row7_col2\" class=\"data row7 col2\" >6092.7200</td>\n",
       "                        <td id=\"T_452edecc_2173_11eb_b9cd_8438355b82e0row7_col3\" class=\"data row7 col3\" >16133.8554</td>\n",
       "            </tr>\n",
       "    </tbody></table>"
      ],
      "text/plain": [
       "<pandas.io.formats.style.Styler at 0x7fc781846520>"
      ]
     },
     "execution_count": 194,
     "metadata": {},
     "output_type": "execute_result"
    }
   ],
   "source": [
    "results.sort_values(by=['outsample'], ascending=False).style.set_properties(**{'font-size': '30 pt'})\n"
   ]
  },
  {
   "cell_type": "markdown",
   "metadata": {
    "id": "7252QtClsQAW",
    "slideshow": {
     "slide_type": "subslide"
    }
   },
   "source": [
    "### Avaliando Modelo de  Classificação (LGBM Classifier)"
   ]
  },
  {
   "cell_type": "code",
   "execution_count": null,
   "metadata": {
    "id": "YRSXHj6_sQAX",
    "slideshow": {
     "slide_type": "skip"
    }
   },
   "outputs": [],
   "source": [
    "preds = models[\"LGBMClassifier\"].predict(df_validation[features])"
   ]
  },
  {
   "cell_type": "code",
   "execution_count": null,
   "metadata": {
    "id": "4vQwIfzFsQAb",
    "outputId": "642692f6-2916-42c8-d73c-2eee174bbb10",
    "slideshow": {
     "slide_type": "fragment"
    }
   },
   "outputs": [
    {
     "name": "stdout",
     "output_type": "stream",
     "text": [
      "              precision    recall  f1-score   support\n",
      "\n",
      "           0       0.27      0.28      0.28     21352\n",
      "           1       0.23      0.15      0.18     21363\n",
      "           2       0.27      0.36      0.31     21474\n",
      "           3       0.22      0.15      0.18     21362\n",
      "           4       0.27      0.35      0.30     21344\n",
      "\n",
      "    accuracy                           0.26    106895\n",
      "   macro avg       0.25      0.26      0.25    106895\n",
      "weighted avg       0.25      0.26      0.25    106895\n",
      "\n"
     ]
    },
    {
     "data": {
      "image/png": "[encoded data removed]",
      "text/plain": [
       "<Figure size 432x288 with 2 Axes>"
      ]
     },
     "metadata": {
      "needs_background": "light",
      "tags": []
     },
     "output_type": "display_data"
    }
   ],
   "source": [
    "evaluation.plot_confusion_matrix(lab_enc.fit_transform(df_validation[target]), preds/4)"
   ]
  },
  {
   "cell_type": "markdown",
   "metadata": {
    "slideshow": {
     "slide_type": "subslide"
    }
   },
   "source": [
    "### Os extremos e o meio das predições são muito correlacionados"
   ]
  },
  {
   "cell_type": "code",
   "execution_count": null,
   "metadata": {
    "id": "7nv-EAPjsQAe",
    "outputId": "21de7ec5-b14e-4eb5-84a5-a40ae9b8a7b6",
    "slideshow": {
     "slide_type": "fragment"
    }
   },
   "outputs": [
    {
     "data": {
      "text/plain": [
       "array([[ 1.        , -0.81393351, -0.8942065 , -0.88654085,  0.78328667],\n",
       "       [-0.81393351,  1.        ,  0.80874765,  0.72378902, -0.89877694],\n",
       "       [-0.8942065 ,  0.80874765,  1.        ,  0.77462933, -0.90867348],\n",
       "       [-0.88654085,  0.72378902,  0.77462933,  1.        , -0.80042416],\n",
       "       [ 0.78328667, -0.89877694, -0.90867348, -0.80042416,  1.        ]])"
      ]
     },
     "execution_count": 121,
     "metadata": {
      "tags": []
     },
     "output_type": "execute_result"
    },
    {
     "data": {
      "image/png": "[encoded data removed]",
      "text/plain": [
       "<Figure size 432x288 with 1 Axes>"
      ]
     },
     "metadata": {
      "needs_background": "light",
      "tags": []
     },
     "output_type": "display_data"
    }
   ],
   "source": [
    "corrs=np.corrcoef(model.predict_proba(df_validation[features]).T)\n",
    "plt.imshow(corrs, vmin=-1, vmax=1, cmap=\"RdYlGn\")\n",
    "corrs"
   ]
  },
  {
   "cell_type": "markdown",
   "metadata": {
    "slideshow": {
     "slide_type": "fragment"
    }
   },
   "source": [
    "#### Modelos de classificação performam pior que os outros!"
   ]
  },
  {
   "cell_type": "markdown",
   "metadata": {
    "slideshow": {
     "slide_type": "slide"
    }
   },
   "source": [
    "## Como treinar os modelos (validação)"
   ]
  },
  {
   "cell_type": "markdown",
   "metadata": {
    "ExecuteTime": {
     "end_time": "2020-11-08T01:53:12.167253Z",
     "start_time": "2020-11-08T01:53:11.777720Z"
    },
    "slideshow": {
     "slide_type": "fragment"
    }
   },
   "source": [
    "<img src=\"https://github.com/nicholasrichers/dissertacao/blob/master/references/figures/cap2/k_fold.png?raw=true\" title=\"xxxx\" alt=\"Drawing\" style=\"width: 500px;\"/>\n",
    "    \n",
    "  \n",
    "<img src=\"https://github.com/nicholasrichers/dissertacao/blob/master/references/figures/cap2/group_kfold.png?raw=true\" alt=\"Drawing\" style=\"width: 500px;\"/>\n",
    "    \n",
    "    \n",
    " \n",
    " <img src=\"https://github.com/nicholasrichers/dissertacao/blob/master/references/figures/cap2/ts_kfold.png?raw=true\" alt=\"Drawing\" style=\"width: 500px;\"/>\n",
    "\n",
    "\n",
    "\n",
    "\n",
    "*Fonte: https://scikit-learn.org/stable/modules/cross_validation.html*"
   ]
  },
  {
   "cell_type": "code",
   "execution_count": 151,
   "metadata": {
    "ExecuteTime": {
     "end_time": "2020-11-08T02:00:10.816827Z",
     "start_time": "2020-11-08T02:00:10.630489Z"
    },
    "slideshow": {
     "slide_type": "fragment"
    }
   },
   "outputs": [
    {
     "name": "stdout",
     "output_type": "stream",
     "text": [
      "\n",
      "\n",
      "\n",
      "\n"
     ]
    }
   ],
   "source": [
    "print()\n",
    "print()\n",
    "print()\n",
    "print()"
   ]
  },
  {
   "cell_type": "markdown",
   "metadata": {
    "id": "-SJLoP7I1ohf",
    "slideshow": {
     "slide_type": "subslide"
    }
   },
   "source": [
    "### Comparando Esquemas de Validação\n",
    "<table><tr>\n",
    "\n",
    "<td> <img src=\"https://github.com/nicholasrichers/dissertacao/blob/master/references/figures/cap2/k_fold.png?raw=true\" title=\"xxxx\" alt=\"Drawing\" style=\"width: 500px;\"/> </td>\n",
    "    \n",
    "  \n",
    "<td> <img src=\"https://github.com/nicholasrichers/dissertacao/blob/master/references/figures/cap2/group_kfold.png?raw=true\" alt=\"Drawing\" style=\"width: 500px;\"/> </td>\n",
    "    \n",
    "    \n",
    " \n",
    "<td> <img src=\"https://github.com/nicholasrichers/dissertacao/blob/master/references/figures/cap2/ts_kfold.png?raw=true\" alt=\"Drawing\" style=\"width: 500px;\"/> </td>\n",
    "</tr></table>\n"
   ]
  },
  {
   "cell_type": "code",
   "execution_count": 58,
   "metadata": {
    "id": "o3RmlgqB7Lt5",
    "slideshow": {
     "slide_type": "skip"
    }
   },
   "outputs": [],
   "source": [
    "from sklearn import (\n",
    "    feature_extraction, feature_selection, decomposition, linear_model,\n",
    "    model_selection, metrics, svm\n",
    ")"
   ]
  },
  {
   "cell_type": "code",
   "execution_count": null,
   "metadata": {
    "ExecuteTime": {
     "end_time": "2020-11-08T01:12:34.467569Z",
     "start_time": "2020-11-08T01:12:34.069245Z"
    },
    "id": "KNumZnBE1ohg",
    "slideshow": {
     "slide_type": "skip"
    }
   },
   "outputs": [],
   "source": [
    "crossvalidators = [\n",
    "    model_selection.KFold(5),\n",
    "    model_selection.KFold(5, shuffle=True),\n",
    "    model_selection.GroupKFold(5),\n",
    "    model_selection.TimeSeriesSplit(5)\n",
    "]"
   ]
  },
  {
   "cell_type": "code",
   "execution_count": 163,
   "metadata": {
    "ExecuteTime": {
     "end_time": "2020-11-08T02:53:07.961912Z",
     "start_time": "2020-11-08T02:53:07.771569Z"
    },
    "id": "AlsoDtzA1ohj",
    "slideshow": {
     "slide_type": "skip"
    }
   },
   "outputs": [],
   "source": [
    "def correlation_score(y_true, y_pred):\n",
    "    return np.corrcoef(y_true, y_pred)[0,1]"
   ]
  },
  {
   "cell_type": "markdown",
   "metadata": {
    "slideshow": {
     "slide_type": "fragment"
    }
   },
   "source": [
    "#### 5-fold com e sem embaralhar"
   ]
  },
  {
   "cell_type": "code",
   "execution_count": null,
   "metadata": {
    "id": "VBPvoDIF1ohn",
    "outputId": "cdc18e03-bafc-4e4d-a9db-d00394290c57",
    "slideshow": {
     "slide_type": "fragment"
    }
   },
   "outputs": [
    {
     "name": "stdout",
     "output_type": "stream",
     "text": [
      "KFold(n_splits=5, random_state=None, shuffle=False)\n",
      "0.03658489467457003\n",
      "\n",
      "KFold(n_splits=5, random_state=None, shuffle=True)\n",
      "0.04360860798952288\n",
      "\n",
      "GroupKFold(n_splits=5)\n",
      "0.038069863851659315\n",
      "\n",
      "TimeSeriesSplit(max_train_size=None, n_splits=5)\n",
      "0.033943838232674675\n",
      "\n"
     ]
    }
   ],
   "source": [
    "for cv in crossvalidators:\n",
    "    print(cv)\n",
    "    print(np.mean(\n",
    "            model_selection.cross_val_score(\n",
    "            linear_model.LinearRegression(),\n",
    "            df[features],\n",
    "            df[target],\n",
    "            cv=cv,\n",
    "            n_jobs=1,\n",
    "            groups=eras,\n",
    "            scoring=metrics.make_scorer(correlation_score, greater_is_better=True)\n",
    "        )))\n",
    "    print()"
   ]
  },
  {
   "cell_type": "markdown",
   "metadata": {
    "id": "4xw8Gq5b65_h",
    "slideshow": {
     "slide_type": "subslide"
    }
   },
   "source": [
    "### Como interpretar as eras\n",
    "\n",
    "- Algumas eras são menos aplicáveis do que outras eras (regimes diferentes)\n"
   ]
  },
  {
   "cell_type": "markdown",
   "metadata": {
    "slideshow": {
     "slide_type": "fragment"
    }
   },
   "source": [
    "Vamos treinar um modelo em cada grupo de 10 eras e testar nas restantes"
   ]
  },
  {
   "cell_type": "code",
   "execution_count": 198,
   "metadata": {
    "ExecuteTime": {
     "end_time": "2020-11-08T03:37:43.115488Z",
     "start_time": "2020-11-08T03:37:43.042818Z"
    },
    "colab": {
     "base_uri": "https://localhost:8080/"
    },
    "id": "lRP2JsD365_j",
    "outputId": "10692f5b-ebc7-436c-a753-d118d96d3122",
    "slideshow": {
     "slide_type": "skip"
    }
   },
   "outputs": [],
   "source": [
    "eras10 = (eras // 10) * 10\n",
    "#eras10.value_counts()"
   ]
  },
  {
   "cell_type": "code",
   "execution_count": null,
   "metadata": {
    "ExecuteTime": {
     "end_time": "2020-11-08T02:56:10.938473Z",
     "start_time": "2020-11-08T02:53:16.428764Z"
    },
    "colab": {
     "base_uri": "https://localhost:8080/"
    },
    "id": "WMg2JJd465_w",
    "outputId": "7cf9857e-2880-4c17-d0f9-16a78fad4118",
    "slideshow": {
     "slide_type": "skip"
    }
   },
   "outputs": [],
   "source": [
    "from sklearn.linear_model import LinearRegression\n",
    "results10 = []\n",
    "for train_era, tdf in df[eras10<120].groupby(eras10):\n",
    "    print(train_era)\n",
    "    model = LinearRegression()\n",
    "    model.fit(tdf[features], tdf[target])\n",
    "    for test_era, tdf in df[eras10<120].groupby(eras10):\n",
    "        results10.append([\n",
    "            train_era,\n",
    "            test_era,\n",
    "            correlation_score(tdf[target], model.predict(tdf[features]))\n",
    "        ])"
   ]
  },
  {
   "cell_type": "code",
   "execution_count": 197,
   "metadata": {
    "ExecuteTime": {
     "end_time": "2020-11-08T03:37:35.555447Z",
     "start_time": "2020-11-08T03:37:35.311611Z"
    },
    "colab": {
     "base_uri": "https://localhost:8080/",
     "height": 452
    },
    "id": "vEG2qekH65_4",
    "outputId": "071eb68f-ae1a-4684-84a5-f834b96fc7e8",
    "scrolled": false,
    "slideshow": {
     "slide_type": "skip"
    }
   },
   "outputs": [],
   "source": [
    "results_df = pd.DataFrame(\n",
    "    results10,\n",
    "    columns=[\"train_era\", \"test_era\", \"score\"]\n",
    ").pivot(index=\"train_era\", columns=\"test_era\", values=\"score\")\n",
    "#results_df"
   ]
  },
  {
   "cell_type": "code",
   "execution_count": 211,
   "metadata": {
    "ExecuteTime": {
     "end_time": "2020-11-08T03:55:44.386820Z",
     "start_time": "2020-11-08T03:55:43.092400Z"
    },
    "slideshow": {
     "slide_type": "fragment"
    }
   },
   "outputs": [
    {
     "data": {
      "image/png": "[encoded data removed]",
      "text/plain": [
       "<Figure size 720x288 with 2 Axes>"
      ]
     },
     "metadata": {},
     "output_type": "display_data"
    }
   ],
   "source": [
    "import numpy as np\n",
    "import matplotlib.pyplot as plt\n",
    "\n",
    "\n",
    "fig, ax = plt.subplots(figsize=(10, 4), ncols=1)\n",
    "ax.set_title('Regressão Linear 10x10 eras', fontsize=16)\n",
    "pos_neg_clipped = ax.imshow(results_df, cmap='RdBu', vmin=-.02, vmax=.04)\n",
    "cbar = fig.colorbar(pos_neg_clipped, ax=ax, extend='both')\n",
    "cbar.minorticks_on()\n",
    "plt.show()"
   ]
  },
  {
   "cell_type": "markdown",
   "metadata": {
    "slideshow": {
     "slide_type": "fragment"
    }
   },
   "source": [
    "- As eras do meio não parecem ser relevantes para as outras eras\n",
    "- A performance do modelo parece decair ao longo do tempo"
   ]
  },
  {
   "cell_type": "code",
   "execution_count": 200,
   "metadata": {
    "ExecuteTime": {
     "end_time": "2020-11-08T03:39:30.169149Z",
     "start_time": "2020-11-08T03:39:29.955394Z"
    },
    "slideshow": {
     "slide_type": "skip"
    }
   },
   "outputs": [
    {
     "name": "stdout",
     "output_type": "stream",
     "text": [
      "\n",
      "\n",
      "\n",
      "\n"
     ]
    }
   ],
   "source": [
    "print()\n",
    "print()\n",
    "print()\n",
    "print()"
   ]
  },
  {
   "cell_type": "markdown",
   "metadata": {
    "id": "7mDR-Doh65__",
    "pycharm": {
     "name": "#%% md\n"
    },
    "slideshow": {
     "slide_type": "skip"
    }
   },
   "source": [
    "Here is an advanced paper that talks about generalization.\n",
    "Eras can be thought about in the same way that \"distributions\" or \"environments\" are talked about here\n",
    "https://arxiv.org/pdf/1907.02893.pdf"
   ]
  },
  {
   "cell_type": "markdown",
   "metadata": {
    "id": "ZWN9Rw1P2pOy",
    "slideshow": {
     "slide_type": "slide"
    }
   },
   "source": [
    "# Padrão dos Modelos\n",
    "\n",
    "Os modelos seguirao o padrao NR__<\"Nome_Cidade\">\n",
    "\n"
   ]
  },
  {
   "cell_type": "markdown",
   "metadata": {
    "slideshow": {
     "slide_type": "fragment"
    }
   },
   "source": [
    "# NR__RIO\n",
    "\n",
    "\n",
    "<img src=\"https://diariodorio.com/wp-content/uploads/2019/02/rio-de-janeiro-juntos-pelo-rio.jpg\" alt=\"Drawing\" style=\"width: 500px;\"/>\n",
    "\n"
   ]
  },
  {
   "cell_type": "markdown",
   "metadata": {
    "slideshow": {
     "slide_type": "subslide"
    }
   },
   "source": [
    "### Descrição NR__RIO\n",
    "\n",
    "- Modelo LGBMRegressor (o melhor testado até aqui)\n",
    "- Validação 3-Group Kfold\n",
    "- Com Otimização de Hiperparâmetros"
   ]
  },
  {
   "cell_type": "code",
   "execution_count": 26,
   "metadata": {
    "ExecuteTime": {
     "end_time": "2020-11-08T04:58:15.381015Z",
     "start_time": "2020-11-08T04:58:15.189790Z"
    },
    "slideshow": {
     "slide_type": "fragment"
    }
   },
   "outputs": [
    {
     "name": "stdout",
     "output_type": "stream",
     "text": [
      "LGBMRegressor(n_estimators=3135, learning_rate=0.0064, num_leaves=226,...)\n"
     ]
    }
   ],
   "source": [
    "print(\"LGBMRegressor(n_estimators=3135, learning_rate=0.0064, num_leaves=226,...)\")"
   ]
  },
  {
   "cell_type": "markdown",
   "metadata": {
    "id": "FRexEiewzlSo",
    "slideshow": {
     "slide_type": "subslide"
    }
   },
   "source": [
    "### Como testar o modelo\n",
    "\n",
    "- Usaremos o dataset de \"validação\"\n",
    "- Eras 121 a 206 (dados do futuro)"
   ]
  },
  {
   "cell_type": "code",
   "execution_count": 15,
   "metadata": {
    "ExecuteTime": {
     "end_time": "2020-11-08T04:18:08.276507Z",
     "start_time": "2020-11-08T04:18:08.107413Z"
    },
    "slideshow": {
     "slide_type": "fragment"
    }
   },
   "outputs": [
    {
     "data": {
      "text/html": [
       "<div>\n",
       "<style scoped>\n",
       "    .dataframe tbody tr th:only-of-type {\n",
       "        vertical-align: middle;\n",
       "    }\n",
       "\n",
       "    .dataframe tbody tr th {\n",
       "        vertical-align: top;\n",
       "    }\n",
       "\n",
       "    .dataframe thead th {\n",
       "        text-align: right;\n",
       "    }\n",
       "</style>\n",
       "<table border=\"1\" class=\"dataframe\">\n",
       "  <thead>\n",
       "    <tr style=\"text-align: right;\">\n",
       "      <th></th>\n",
       "      <th>id</th>\n",
       "      <th>era</th>\n",
       "      <th>data_type</th>\n",
       "      <th>feature_intelligence1</th>\n",
       "      <th>feature_intelligence2</th>\n",
       "      <th>feature_intelligence3</th>\n",
       "      <th>feature_intelligence4</th>\n",
       "      <th>feature_intelligence5</th>\n",
       "      <th>feature_intelligence6</th>\n",
       "      <th>feature_intelligence7</th>\n",
       "      <th>...</th>\n",
       "      <th>feature_wisdom38</th>\n",
       "      <th>feature_wisdom39</th>\n",
       "      <th>feature_wisdom40</th>\n",
       "      <th>feature_wisdom41</th>\n",
       "      <th>feature_wisdom42</th>\n",
       "      <th>feature_wisdom43</th>\n",
       "      <th>feature_wisdom44</th>\n",
       "      <th>feature_wisdom45</th>\n",
       "      <th>feature_wisdom46</th>\n",
       "      <th>target_kazutsugi</th>\n",
       "    </tr>\n",
       "  </thead>\n",
       "  <tbody>\n",
       "    <tr>\n",
       "      <th>0</th>\n",
       "      <td>n0003aa52cab36c2</td>\n",
       "      <td>121</td>\n",
       "      <td>validation</td>\n",
       "      <td>0.25</td>\n",
       "      <td>0.75</td>\n",
       "      <td>0.50</td>\n",
       "      <td>0.50</td>\n",
       "      <td>0.0</td>\n",
       "      <td>0.75</td>\n",
       "      <td>0.5</td>\n",
       "      <td>...</td>\n",
       "      <td>0.75</td>\n",
       "      <td>0.75</td>\n",
       "      <td>1.00</td>\n",
       "      <td>0.75</td>\n",
       "      <td>0.50</td>\n",
       "      <td>0.5</td>\n",
       "      <td>1.0</td>\n",
       "      <td>0.00</td>\n",
       "      <td>0.00</td>\n",
       "      <td>0.00</td>\n",
       "    </tr>\n",
       "    <tr>\n",
       "      <th>1</th>\n",
       "      <td>n000920ed083903f</td>\n",
       "      <td>121</td>\n",
       "      <td>validation</td>\n",
       "      <td>0.75</td>\n",
       "      <td>0.50</td>\n",
       "      <td>0.75</td>\n",
       "      <td>1.00</td>\n",
       "      <td>0.5</td>\n",
       "      <td>0.00</td>\n",
       "      <td>0.0</td>\n",
       "      <td>...</td>\n",
       "      <td>0.50</td>\n",
       "      <td>0.50</td>\n",
       "      <td>0.75</td>\n",
       "      <td>1.00</td>\n",
       "      <td>0.75</td>\n",
       "      <td>0.5</td>\n",
       "      <td>0.5</td>\n",
       "      <td>0.50</td>\n",
       "      <td>0.50</td>\n",
       "      <td>0.25</td>\n",
       "    </tr>\n",
       "    <tr>\n",
       "      <th>2</th>\n",
       "      <td>n0038e640522c4a6</td>\n",
       "      <td>121</td>\n",
       "      <td>validation</td>\n",
       "      <td>1.00</td>\n",
       "      <td>0.00</td>\n",
       "      <td>0.00</td>\n",
       "      <td>1.00</td>\n",
       "      <td>1.0</td>\n",
       "      <td>1.00</td>\n",
       "      <td>1.0</td>\n",
       "      <td>...</td>\n",
       "      <td>0.00</td>\n",
       "      <td>0.00</td>\n",
       "      <td>0.50</td>\n",
       "      <td>0.25</td>\n",
       "      <td>0.00</td>\n",
       "      <td>0.0</td>\n",
       "      <td>0.5</td>\n",
       "      <td>0.50</td>\n",
       "      <td>0.00</td>\n",
       "      <td>1.00</td>\n",
       "    </tr>\n",
       "    <tr>\n",
       "      <th>3</th>\n",
       "      <td>n004ac94a87dc54b</td>\n",
       "      <td>121</td>\n",
       "      <td>validation</td>\n",
       "      <td>0.75</td>\n",
       "      <td>1.00</td>\n",
       "      <td>1.00</td>\n",
       "      <td>0.50</td>\n",
       "      <td>0.0</td>\n",
       "      <td>0.00</td>\n",
       "      <td>0.0</td>\n",
       "      <td>...</td>\n",
       "      <td>0.00</td>\n",
       "      <td>0.00</td>\n",
       "      <td>0.00</td>\n",
       "      <td>0.25</td>\n",
       "      <td>0.00</td>\n",
       "      <td>0.0</td>\n",
       "      <td>0.0</td>\n",
       "      <td>0.25</td>\n",
       "      <td>0.25</td>\n",
       "      <td>0.75</td>\n",
       "    </tr>\n",
       "    <tr>\n",
       "      <th>4</th>\n",
       "      <td>n0052fe97ea0c05f</td>\n",
       "      <td>121</td>\n",
       "      <td>validation</td>\n",
       "      <td>0.25</td>\n",
       "      <td>0.50</td>\n",
       "      <td>0.50</td>\n",
       "      <td>0.25</td>\n",
       "      <td>1.0</td>\n",
       "      <td>0.50</td>\n",
       "      <td>0.5</td>\n",
       "      <td>...</td>\n",
       "      <td>0.50</td>\n",
       "      <td>0.75</td>\n",
       "      <td>0.00</td>\n",
       "      <td>0.00</td>\n",
       "      <td>0.75</td>\n",
       "      <td>1.0</td>\n",
       "      <td>0.0</td>\n",
       "      <td>0.25</td>\n",
       "      <td>1.00</td>\n",
       "      <td>1.00</td>\n",
       "    </tr>\n",
       "  </tbody>\n",
       "</table>\n",
       "<p>5 rows × 314 columns</p>\n",
       "</div>"
      ],
      "text/plain": [
       "                 id  era   data_type  feature_intelligence1  \\\n",
       "0  n0003aa52cab36c2  121  validation                   0.25   \n",
       "1  n000920ed083903f  121  validation                   0.75   \n",
       "2  n0038e640522c4a6  121  validation                   1.00   \n",
       "3  n004ac94a87dc54b  121  validation                   0.75   \n",
       "4  n0052fe97ea0c05f  121  validation                   0.25   \n",
       "\n",
       "   feature_intelligence2  feature_intelligence3  feature_intelligence4  \\\n",
       "0                   0.75                   0.50                   0.50   \n",
       "1                   0.50                   0.75                   1.00   \n",
       "2                   0.00                   0.00                   1.00   \n",
       "3                   1.00                   1.00                   0.50   \n",
       "4                   0.50                   0.50                   0.25   \n",
       "\n",
       "   feature_intelligence5  feature_intelligence6  feature_intelligence7  ...  \\\n",
       "0                    0.0                   0.75                    0.5  ...   \n",
       "1                    0.5                   0.00                    0.0  ...   \n",
       "2                    1.0                   1.00                    1.0  ...   \n",
       "3                    0.0                   0.00                    0.0  ...   \n",
       "4                    1.0                   0.50                    0.5  ...   \n",
       "\n",
       "   feature_wisdom38  feature_wisdom39  feature_wisdom40  feature_wisdom41  \\\n",
       "0              0.75              0.75              1.00              0.75   \n",
       "1              0.50              0.50              0.75              1.00   \n",
       "2              0.00              0.00              0.50              0.25   \n",
       "3              0.00              0.00              0.00              0.25   \n",
       "4              0.50              0.75              0.00              0.00   \n",
       "\n",
       "   feature_wisdom42  feature_wisdom43  feature_wisdom44  feature_wisdom45  \\\n",
       "0              0.50               0.5               1.0              0.00   \n",
       "1              0.75               0.5               0.5              0.50   \n",
       "2              0.00               0.0               0.5              0.50   \n",
       "3              0.00               0.0               0.0              0.25   \n",
       "4              0.75               1.0               0.0              0.25   \n",
       "\n",
       "   feature_wisdom46  target_kazutsugi  \n",
       "0              0.00              0.00  \n",
       "1              0.50              0.25  \n",
       "2              0.00              1.00  \n",
       "3              0.25              0.75  \n",
       "4              1.00              1.00  \n",
       "\n",
       "[5 rows x 314 columns]"
      ]
     },
     "execution_count": 15,
     "metadata": {},
     "output_type": "execute_result"
    }
   ],
   "source": [
    "df_validation.head()"
   ]
  },
  {
   "cell_type": "markdown",
   "metadata": {
    "slideshow": {
     "slide_type": "subslide"
    }
   },
   "source": [
    "### Dataset Validação\n",
    "<img src=\"https://github.com/nicholasrichers/dissertacao/blob/master/references/figures/cap2/df_validation.png?raw=true\" alt=\"Drawing\" style=\"width: 350px;\"/>"
   ]
  },
  {
   "cell_type": "code",
   "execution_count": 37,
   "metadata": {
    "ExecuteTime": {
     "end_time": "2020-11-08T14:46:30.695034Z",
     "start_time": "2020-11-08T14:45:58.978229Z"
    },
    "slideshow": {
     "slide_type": "skip"
    }
   },
   "outputs": [
    {
     "name": "stdout",
     "output_type": "stream",
     "text": [
      "creating predictions to: NR_Rio\n",
      "creating predictions to: ex_preds\n"
     ]
    }
   ],
   "source": [
    "path = '../../Data/processed/predicoes_validacao/'\n",
    "models_nr = ['ex_preds', 'NR_Rio']\n",
    "\n",
    "\n",
    "from src.validation import metrics\n",
    "from src.validation import metrics_description\n",
    "\n",
    "preds_nr, feat_corrs_nr = dict(), dict()\n",
    "era_scores_nr, df_metrics_nr = dict(), dict()\n",
    "\n",
    "for model in models_nr[1:]:\n",
    "    \n",
    "    #predicoes val1 & val2\n",
    "    print(\"creating predictions to:\", model)\n",
    "    preds_nr[model] =  pd.read_csv(path+model+'_preds_test.csv', index_col='id').values.reshape(1,-1)[0]\n",
    "    \n",
    "    #salvando as metricas\n",
    "    era_scores_nr[model], df_metrics_nr[model], feat_corrs_nr[model], ex_preds = \\\n",
    "                        metrics.submission_metrics(df_validation, preds_nr[model], model, True)   \n",
    "\n",
    "\n",
    "\n",
    "#add ex_preds\n",
    "print(\"creating predictions to: ex_preds\")\n",
    "preds_nr['ex_preds'] = np.array(ex_preds)\n",
    "era_scores_nr['ex_preds'], df_metrics_nr['ex_preds'], feat_corrs_nr['ex_preds'], ex_preds = \\\n",
    "                        metrics.submission_metrics(df_validation, preds_nr['ex_preds'], \"ex_preds\", False)\n",
    "\n",
    "\n",
    "\n",
    "#dict to dataframe\n",
    "df_preds_nr = pd.DataFrame.from_dict(preds_nr)  \n",
    "df_era_scores_nr = pd.DataFrame.from_dict(era_scores_nr)\n",
    "df_feat_corrs_nr = pd.DataFrame.from_dict(feat_corrs_nr)\n",
    "df_metrics_cons_nr = metrics.metrics_consolidated(df_metrics_nr)"
   ]
  },
  {
   "cell_type": "markdown",
   "metadata": {
    "slideshow": {
     "slide_type": "subslide"
    }
   },
   "source": [
    "### Avaliando nos dados de teste"
   ]
  },
  {
   "cell_type": "code",
   "execution_count": 38,
   "metadata": {
    "ExecuteTime": {
     "end_time": "2020-11-08T14:47:09.416723Z",
     "start_time": "2020-11-08T14:47:09.205793Z"
    },
    "slideshow": {
     "slide_type": "fragment"
    }
   },
   "outputs": [
    {
     "data": {
      "application/vnd.plotly.v1+json": {
       "config": {
        "linkText": "Export to plot.ly",
        "plotlyServerURL": "https://plot.ly",
        "showLink": false
       },
       "data": [
        {
         "marker": {
          "color": "#ff0000"
         },
         "name": "ex_preds",
         "type": "bar",
         "x": [
          "era_121",
          "era_122",
          "era_123",
          "era_124",
          "era_125",
          "era_126",
          "era_127",
          "era_128",
          "era_129",
          "era_130",
          "era_131",
          "era_132",
          "era_197",
          "era_198",
          "era_199",
          "era_200",
          "era_201",
          "era_202",
          "era_203",
          "era_204",
          "era_205",
          "era_206"
         ],
         "y": [
          0.02658597697996036,
          0.04339875581876526,
          0.04907394731011726,
          0.06838787820356924,
          0.03814799880148446,
          0.02406871151417386,
          -0.007102952584526107,
          0.06760793411812865,
          -0.0037113711493262946,
          0.05849739305286067,
          0.046349660817217204,
          0.07905974948537531,
          0.029469035656589378,
          0.028506225632680723,
          -0.045446710740293925,
          0.01714869303825111,
          0.003377175012418782,
          0.04871177063368134,
          0.028097936590960645,
          0.05192546861830195,
          -0.014971099553397193,
          -0.0018762954329969508
         ]
        },
        {
         "marker": {
          "color": "#ffa700"
         },
         "name": "NR_Rio",
         "type": "bar",
         "x": [
          "era_121",
          "era_122",
          "era_123",
          "era_124",
          "era_125",
          "era_126",
          "era_127",
          "era_128",
          "era_129",
          "era_130",
          "era_131",
          "era_132",
          "era_197",
          "era_198",
          "era_199",
          "era_200",
          "era_201",
          "era_202",
          "era_203",
          "era_204",
          "era_205",
          "era_206"
         ],
         "y": [
          0.029470539293356097,
          0.02888711852544732,
          0.04561663863466344,
          0.057719709614043664,
          0.04549631167560804,
          0.022324935152040693,
          0.013846897482035115,
          0.0737858484899305,
          -0.009549857832718394,
          0.045099181428495796,
          0.05181926355654931,
          0.0872273210414535,
          0.024184271860964456,
          0.019060198115510626,
          -0.03034450125640339,
          0.015079921809669045,
          0.0126292471336563,
          0.04692558677573666,
          0.025126613234142853,
          0.04208006273680022,
          -0.0015548008128160847,
          0.013172142358171384
         ]
        }
       ],
       "layout": {
        "barmode": "stack",
        "template": {
         "data": {
          "bar": [
           {
            "error_x": {
             "color": "#2a3f5f"
            },
            "error_y": {
             "color": "#2a3f5f"
            },
            "marker": {
             "line": {
              "color": "#E5ECF6",
              "width": 0.5
             }
            },
            "type": "bar"
           }
          ],
          "barpolar": [
           {
            "marker": {
             "line": {
              "color": "#E5ECF6",
              "width": 0.5
             }
            },
            "type": "barpolar"
           }
          ],
          "carpet": [
           {
            "aaxis": {
             "endlinecolor": "#2a3f5f",
             "gridcolor": "white",
             "linecolor": "white",
             "minorgridcolor": "white",
             "startlinecolor": "#2a3f5f"
            },
            "baxis": {
             "endlinecolor": "#2a3f5f",
             "gridcolor": "white",
             "linecolor": "white",
             "minorgridcolor": "white",
             "startlinecolor": "#2a3f5f"
            },
            "type": "carpet"
           }
          ],
          "choropleth": [
           {
            "colorbar": {
             "outlinewidth": 0,
             "ticks": ""
            },
            "type": "choropleth"
           }
          ],
          "contour": [
           {
            "colorbar": {
             "outlinewidth": 0,
             "ticks": ""
            },
            "colorscale": [
             [
              0,
              "#0d0887"
             ],
             [
              0.1111111111111111,
              "#46039f"
             ],
             [
              0.2222222222222222,
              "#7201a8"
             ],
             [
              0.3333333333333333,
              "#9c179e"
             ],
             [
              0.4444444444444444,
              "#bd3786"
             ],
             [
              0.5555555555555556,
              "#d8576b"
             ],
             [
              0.6666666666666666,
              "#ed7953"
             ],
             [
              0.7777777777777778,
              "#fb9f3a"
             ],
             [
              0.8888888888888888,
              "#fdca26"
             ],
             [
              1,
              "#f0f921"
             ]
            ],
            "type": "contour"
           }
          ],
          "contourcarpet": [
           {
            "colorbar": {
             "outlinewidth": 0,
             "ticks": ""
            },
            "type": "contourcarpet"
           }
          ],
          "heatmap": [
           {
            "colorbar": {
             "outlinewidth": 0,
             "ticks": ""
            },
            "colorscale": [
             [
              0,
              "#0d0887"
             ],
             [
              0.1111111111111111,
              "#46039f"
             ],
             [
              0.2222222222222222,
              "#7201a8"
             ],
             [
              0.3333333333333333,
              "#9c179e"
             ],
             [
              0.4444444444444444,
              "#bd3786"
             ],
             [
              0.5555555555555556,
              "#d8576b"
             ],
             [
              0.6666666666666666,
              "#ed7953"
             ],
             [
              0.7777777777777778,
              "#fb9f3a"
             ],
             [
              0.8888888888888888,
              "#fdca26"
             ],
             [
              1,
              "#f0f921"
             ]
            ],
            "type": "heatmap"
           }
          ],
          "heatmapgl": [
           {
            "colorbar": {
             "outlinewidth": 0,
             "ticks": ""
            },
            "colorscale": [
             [
              0,
              "#0d0887"
             ],
             [
              0.1111111111111111,
              "#46039f"
             ],
             [
              0.2222222222222222,
              "#7201a8"
             ],
             [
              0.3333333333333333,
              "#9c179e"
             ],
             [
              0.4444444444444444,
              "#bd3786"
             ],
             [
              0.5555555555555556,
              "#d8576b"
             ],
             [
              0.6666666666666666,
              "#ed7953"
             ],
             [
              0.7777777777777778,
              "#fb9f3a"
             ],
             [
              0.8888888888888888,
              "#fdca26"
             ],
             [
              1,
              "#f0f921"
             ]
            ],
            "type": "heatmapgl"
           }
          ],
          "histogram": [
           {
            "marker": {
             "colorbar": {
              "outlinewidth": 0,
              "ticks": ""
             }
            },
            "type": "histogram"
           }
          ],
          "histogram2d": [
           {
            "colorbar": {
             "outlinewidth": 0,
             "ticks": ""
            },
            "colorscale": [
             [
              0,
              "#0d0887"
             ],
             [
              0.1111111111111111,
              "#46039f"
             ],
             [
              0.2222222222222222,
              "#7201a8"
             ],
             [
              0.3333333333333333,
              "#9c179e"
             ],
             [
              0.4444444444444444,
              "#bd3786"
             ],
             [
              0.5555555555555556,
              "#d8576b"
             ],
             [
              0.6666666666666666,
              "#ed7953"
             ],
             [
              0.7777777777777778,
              "#fb9f3a"
             ],
             [
              0.8888888888888888,
              "#fdca26"
             ],
             [
              1,
              "#f0f921"
             ]
            ],
            "type": "histogram2d"
           }
          ],
          "histogram2dcontour": [
           {
            "colorbar": {
             "outlinewidth": 0,
             "ticks": ""
            },
            "colorscale": [
             [
              0,
              "#0d0887"
             ],
             [
              0.1111111111111111,
              "#46039f"
             ],
             [
              0.2222222222222222,
              "#7201a8"
             ],
             [
              0.3333333333333333,
              "#9c179e"
             ],
             [
              0.4444444444444444,
              "#bd3786"
             ],
             [
              0.5555555555555556,
              "#d8576b"
             ],
             [
              0.6666666666666666,
              "#ed7953"
             ],
             [
              0.7777777777777778,
              "#fb9f3a"
             ],
             [
              0.8888888888888888,
              "#fdca26"
             ],
             [
              1,
              "#f0f921"
             ]
            ],
            "type": "histogram2dcontour"
           }
          ],
          "mesh3d": [
           {
            "colorbar": {
             "outlinewidth": 0,
             "ticks": ""
            },
            "type": "mesh3d"
           }
          ],
          "parcoords": [
           {
            "line": {
             "colorbar": {
              "outlinewidth": 0,
              "ticks": ""
             }
            },
            "type": "parcoords"
           }
          ],
          "pie": [
           {
            "automargin": true,
            "type": "pie"
           }
          ],
          "scatter": [
           {
            "marker": {
             "colorbar": {
              "outlinewidth": 0,
              "ticks": ""
             }
            },
            "type": "scatter"
           }
          ],
          "scatter3d": [
           {
            "line": {
             "colorbar": {
              "outlinewidth": 0,
              "ticks": ""
             }
            },
            "marker": {
             "colorbar": {
              "outlinewidth": 0,
              "ticks": ""
             }
            },
            "type": "scatter3d"
           }
          ],
          "scattercarpet": [
           {
            "marker": {
             "colorbar": {
              "outlinewidth": 0,
              "ticks": ""
             }
            },
            "type": "scattercarpet"
           }
          ],
          "scattergeo": [
           {
            "marker": {
             "colorbar": {
              "outlinewidth": 0,
              "ticks": ""
             }
            },
            "type": "scattergeo"
           }
          ],
          "scattergl": [
           {
            "marker": {
             "colorbar": {
              "outlinewidth": 0,
              "ticks": ""
             }
            },
            "type": "scattergl"
           }
          ],
          "scattermapbox": [
           {
            "marker": {
             "colorbar": {
              "outlinewidth": 0,
              "ticks": ""
             }
            },
            "type": "scattermapbox"
           }
          ],
          "scatterpolar": [
           {
            "marker": {
             "colorbar": {
              "outlinewidth": 0,
              "ticks": ""
             }
            },
            "type": "scatterpolar"
           }
          ],
          "scatterpolargl": [
           {
            "marker": {
             "colorbar": {
              "outlinewidth": 0,
              "ticks": ""
             }
            },
            "type": "scatterpolargl"
           }
          ],
          "scatterternary": [
           {
            "marker": {
             "colorbar": {
              "outlinewidth": 0,
              "ticks": ""
             }
            },
            "type": "scatterternary"
           }
          ],
          "surface": [
           {
            "colorbar": {
             "outlinewidth": 0,
             "ticks": ""
            },
            "colorscale": [
             [
              0,
              "#0d0887"
             ],
             [
              0.1111111111111111,
              "#46039f"
             ],
             [
              0.2222222222222222,
              "#7201a8"
             ],
             [
              0.3333333333333333,
              "#9c179e"
             ],
             [
              0.4444444444444444,
              "#bd3786"
             ],
             [
              0.5555555555555556,
              "#d8576b"
             ],
             [
              0.6666666666666666,
              "#ed7953"
             ],
             [
              0.7777777777777778,
              "#fb9f3a"
             ],
             [
              0.8888888888888888,
              "#fdca26"
             ],
             [
              1,
              "#f0f921"
             ]
            ],
            "type": "surface"
           }
          ],
          "table": [
           {
            "cells": {
             "fill": {
              "color": "#EBF0F8"
             },
             "line": {
              "color": "white"
             }
            },
            "header": {
             "fill": {
              "color": "#C8D4E3"
             },
             "line": {
              "color": "white"
             }
            },
            "type": "table"
           }
          ]
         },
         "layout": {
          "annotationdefaults": {
           "arrowcolor": "#2a3f5f",
           "arrowhead": 0,
           "arrowwidth": 1
          },
          "coloraxis": {
           "colorbar": {
            "outlinewidth": 0,
            "ticks": ""
           }
          },
          "colorscale": {
           "diverging": [
            [
             0,
             "#8e0152"
            ],
            [
             0.1,
             "#c51b7d"
            ],
            [
             0.2,
             "#de77ae"
            ],
            [
             0.3,
             "#f1b6da"
            ],
            [
             0.4,
             "#fde0ef"
            ],
            [
             0.5,
             "#f7f7f7"
            ],
            [
             0.6,
             "#e6f5d0"
            ],
            [
             0.7,
             "#b8e186"
            ],
            [
             0.8,
             "#7fbc41"
            ],
            [
             0.9,
             "#4d9221"
            ],
            [
             1,
             "#276419"
            ]
           ],
           "sequential": [
            [
             0,
             "#0d0887"
            ],
            [
             0.1111111111111111,
             "#46039f"
            ],
            [
             0.2222222222222222,
             "#7201a8"
            ],
            [
             0.3333333333333333,
             "#9c179e"
            ],
            [
             0.4444444444444444,
             "#bd3786"
            ],
            [
             0.5555555555555556,
             "#d8576b"
            ],
            [
             0.6666666666666666,
             "#ed7953"
            ],
            [
             0.7777777777777778,
             "#fb9f3a"
            ],
            [
             0.8888888888888888,
             "#fdca26"
            ],
            [
             1,
             "#f0f921"
            ]
           ],
           "sequentialminus": [
            [
             0,
             "#0d0887"
            ],
            [
             0.1111111111111111,
             "#46039f"
            ],
            [
             0.2222222222222222,
             "#7201a8"
            ],
            [
             0.3333333333333333,
             "#9c179e"
            ],
            [
             0.4444444444444444,
             "#bd3786"
            ],
            [
             0.5555555555555556,
             "#d8576b"
            ],
            [
             0.6666666666666666,
             "#ed7953"
            ],
            [
             0.7777777777777778,
             "#fb9f3a"
            ],
            [
             0.8888888888888888,
             "#fdca26"
            ],
            [
             1,
             "#f0f921"
            ]
           ]
          },
          "colorway": [
           "#636efa",
           "#EF553B",
           "#00cc96",
           "#ab63fa",
           "#FFA15A",
           "#19d3f3",
           "#FF6692",
           "#B6E880",
           "#FF97FF",
           "#FECB52"
          ],
          "font": {
           "color": "#2a3f5f"
          },
          "geo": {
           "bgcolor": "white",
           "lakecolor": "white",
           "landcolor": "#E5ECF6",
           "showlakes": true,
           "showland": true,
           "subunitcolor": "white"
          },
          "hoverlabel": {
           "align": "left"
          },
          "hovermode": "closest",
          "mapbox": {
           "style": "light"
          },
          "paper_bgcolor": "white",
          "plot_bgcolor": "#E5ECF6",
          "polar": {
           "angularaxis": {
            "gridcolor": "white",
            "linecolor": "white",
            "ticks": ""
           },
           "bgcolor": "#E5ECF6",
           "radialaxis": {
            "gridcolor": "white",
            "linecolor": "white",
            "ticks": ""
           }
          },
          "scene": {
           "xaxis": {
            "backgroundcolor": "#E5ECF6",
            "gridcolor": "white",
            "gridwidth": 2,
            "linecolor": "white",
            "showbackground": true,
            "ticks": "",
            "zerolinecolor": "white"
           },
           "yaxis": {
            "backgroundcolor": "#E5ECF6",
            "gridcolor": "white",
            "gridwidth": 2,
            "linecolor": "white",
            "showbackground": true,
            "ticks": "",
            "zerolinecolor": "white"
           },
           "zaxis": {
            "backgroundcolor": "#E5ECF6",
            "gridcolor": "white",
            "gridwidth": 2,
            "linecolor": "white",
            "showbackground": true,
            "ticks": "",
            "zerolinecolor": "white"
           }
          },
          "shapedefaults": {
           "line": {
            "color": "#2a3f5f"
           }
          },
          "ternary": {
           "aaxis": {
            "gridcolor": "white",
            "linecolor": "white",
            "ticks": ""
           },
           "baxis": {
            "gridcolor": "white",
            "linecolor": "white",
            "ticks": ""
           },
           "bgcolor": "#E5ECF6",
           "caxis": {
            "gridcolor": "white",
            "linecolor": "white",
            "ticks": ""
           }
          },
          "title": {
           "x": 0.05
          },
          "xaxis": {
           "automargin": true,
           "gridcolor": "white",
           "linecolor": "white",
           "ticks": "",
           "title": {
            "standoff": 15
           },
           "zerolinecolor": "white",
           "zerolinewidth": 2
          },
          "yaxis": {
           "automargin": true,
           "gridcolor": "white",
           "linecolor": "white",
           "ticks": "",
           "title": {
            "standoff": 15
           },
           "zerolinecolor": "white",
           "zerolinewidth": 2
          }
         }
        },
        "title": {
         "text": "Era Scores por Modelo"
        },
        "xaxis": {
         "title": {
          "text": "Eras"
         }
        },
        "yaxis": {
         "title": {
          "text": "Spearman Score"
         }
        }
       }
      },
      "text/html": [
       "<div>                            <div id=\"01c69598-fa86-4e1a-b23c-39cc54b9c19e\" class=\"plotly-graph-div\" style=\"height:525px; width:100%;\"></div>            <script type=\"text/javascript\">                require([\"plotly\"], function(Plotly) {                    window.PLOTLYENV=window.PLOTLYENV || {};                                    if (document.getElementById(\"01c69598-fa86-4e1a-b23c-39cc54b9c19e\")) {                    Plotly.newPlot(                        \"01c69598-fa86-4e1a-b23c-39cc54b9c19e\",                        [{\"marker\": {\"color\": \"#ff0000\"}, \"name\": \"ex_preds\", \"type\": \"bar\", \"x\": [\"era_121\", \"era_122\", \"era_123\", \"era_124\", \"era_125\", \"era_126\", \"era_127\", \"era_128\", \"era_129\", \"era_130\", \"era_131\", \"era_132\", \"era_197\", \"era_198\", \"era_199\", \"era_200\", \"era_201\", \"era_202\", \"era_203\", \"era_204\", \"era_205\", \"era_206\"], \"y\": [0.02658597697996036, 0.04339875581876526, 0.04907394731011726, 0.06838787820356924, 0.03814799880148446, 0.02406871151417386, -0.007102952584526107, 0.06760793411812865, -0.0037113711493262946, 0.05849739305286067, 0.046349660817217204, 0.07905974948537531, 0.029469035656589378, 0.028506225632680723, -0.045446710740293925, 0.01714869303825111, 0.003377175012418782, 0.04871177063368134, 0.028097936590960645, 0.05192546861830195, -0.014971099553397193, -0.0018762954329969508]}, {\"marker\": {\"color\": \"#ffa700\"}, \"name\": \"NR_Rio\", \"type\": \"bar\", \"x\": [\"era_121\", \"era_122\", \"era_123\", \"era_124\", \"era_125\", \"era_126\", \"era_127\", \"era_128\", \"era_129\", \"era_130\", \"era_131\", \"era_132\", \"era_197\", \"era_198\", \"era_199\", \"era_200\", \"era_201\", \"era_202\", \"era_203\", \"era_204\", \"era_205\", \"era_206\"], \"y\": [0.029470539293356097, 0.02888711852544732, 0.04561663863466344, 0.057719709614043664, 0.04549631167560804, 0.022324935152040693, 0.013846897482035115, 0.0737858484899305, -0.009549857832718394, 0.045099181428495796, 0.05181926355654931, 0.0872273210414535, 0.024184271860964456, 0.019060198115510626, -0.03034450125640339, 0.015079921809669045, 0.0126292471336563, 0.04692558677573666, 0.025126613234142853, 0.04208006273680022, -0.0015548008128160847, 0.013172142358171384]}],                        {\"barmode\": \"stack\", \"template\": {\"data\": {\"bar\": [{\"error_x\": {\"color\": \"#2a3f5f\"}, \"error_y\": {\"color\": \"#2a3f5f\"}, \"marker\": {\"line\": {\"color\": \"#E5ECF6\", \"width\": 0.5}}, \"type\": \"bar\"}], \"barpolar\": [{\"marker\": {\"line\": {\"color\": \"#E5ECF6\", \"width\": 0.5}}, \"type\": \"barpolar\"}], \"carpet\": [{\"aaxis\": {\"endlinecolor\": \"#2a3f5f\", \"gridcolor\": \"white\", \"linecolor\": \"white\", \"minorgridcolor\": \"white\", \"startlinecolor\": \"#2a3f5f\"}, \"baxis\": {\"endlinecolor\": \"#2a3f5f\", \"gridcolor\": \"white\", \"linecolor\": \"white\", \"minorgridcolor\": \"white\", \"startlinecolor\": \"#2a3f5f\"}, \"type\": \"carpet\"}], \"choropleth\": [{\"colorbar\": {\"outlinewidth\": 0, \"ticks\": \"\"}, \"type\": \"choropleth\"}], \"contour\": [{\"colorbar\": {\"outlinewidth\": 0, \"ticks\": \"\"}, \"colorscale\": [[0.0, \"#0d0887\"], [0.1111111111111111, \"#46039f\"], [0.2222222222222222, \"#7201a8\"], [0.3333333333333333, \"#9c179e\"], [0.4444444444444444, \"#bd3786\"], [0.5555555555555556, \"#d8576b\"], [0.6666666666666666, \"#ed7953\"], [0.7777777777777778, \"#fb9f3a\"], [0.8888888888888888, \"#fdca26\"], [1.0, \"#f0f921\"]], \"type\": \"contour\"}], \"contourcarpet\": [{\"colorbar\": {\"outlinewidth\": 0, \"ticks\": \"\"}, \"type\": \"contourcarpet\"}], \"heatmap\": [{\"colorbar\": {\"outlinewidth\": 0, \"ticks\": \"\"}, \"colorscale\": [[0.0, \"#0d0887\"], [0.1111111111111111, \"#46039f\"], [0.2222222222222222, \"#7201a8\"], [0.3333333333333333, \"#9c179e\"], [0.4444444444444444, \"#bd3786\"], [0.5555555555555556, \"#d8576b\"], [0.6666666666666666, \"#ed7953\"], [0.7777777777777778, \"#fb9f3a\"], [0.8888888888888888, \"#fdca26\"], [1.0, \"#f0f921\"]], \"type\": \"heatmap\"}], \"heatmapgl\": [{\"colorbar\": {\"outlinewidth\": 0, \"ticks\": \"\"}, \"colorscale\": [[0.0, \"#0d0887\"], [0.1111111111111111, \"#46039f\"], [0.2222222222222222, \"#7201a8\"], [0.3333333333333333, \"#9c179e\"], [0.4444444444444444, \"#bd3786\"], [0.5555555555555556, \"#d8576b\"], [0.6666666666666666, \"#ed7953\"], [0.7777777777777778, \"#fb9f3a\"], [0.8888888888888888, \"#fdca26\"], [1.0, \"#f0f921\"]], \"type\": \"heatmapgl\"}], \"histogram\": [{\"marker\": {\"colorbar\": {\"outlinewidth\": 0, \"ticks\": \"\"}}, \"type\": \"histogram\"}], \"histogram2d\": [{\"colorbar\": {\"outlinewidth\": 0, \"ticks\": \"\"}, \"colorscale\": [[0.0, \"#0d0887\"], [0.1111111111111111, \"#46039f\"], [0.2222222222222222, \"#7201a8\"], [0.3333333333333333, \"#9c179e\"], [0.4444444444444444, \"#bd3786\"], [0.5555555555555556, \"#d8576b\"], [0.6666666666666666, \"#ed7953\"], [0.7777777777777778, \"#fb9f3a\"], [0.8888888888888888, \"#fdca26\"], [1.0, \"#f0f921\"]], \"type\": \"histogram2d\"}], \"histogram2dcontour\": [{\"colorbar\": {\"outlinewidth\": 0, \"ticks\": \"\"}, \"colorscale\": [[0.0, \"#0d0887\"], [0.1111111111111111, \"#46039f\"], [0.2222222222222222, \"#7201a8\"], [0.3333333333333333, \"#9c179e\"], [0.4444444444444444, \"#bd3786\"], [0.5555555555555556, \"#d8576b\"], [0.6666666666666666, \"#ed7953\"], [0.7777777777777778, \"#fb9f3a\"], [0.8888888888888888, \"#fdca26\"], [1.0, \"#f0f921\"]], \"type\": \"histogram2dcontour\"}], \"mesh3d\": [{\"colorbar\": {\"outlinewidth\": 0, \"ticks\": \"\"}, \"type\": \"mesh3d\"}], \"parcoords\": [{\"line\": {\"colorbar\": {\"outlinewidth\": 0, \"ticks\": \"\"}}, \"type\": \"parcoords\"}], \"pie\": [{\"automargin\": true, \"type\": \"pie\"}], \"scatter\": [{\"marker\": {\"colorbar\": {\"outlinewidth\": 0, \"ticks\": \"\"}}, \"type\": \"scatter\"}], \"scatter3d\": [{\"line\": {\"colorbar\": {\"outlinewidth\": 0, \"ticks\": \"\"}}, \"marker\": {\"colorbar\": {\"outlinewidth\": 0, \"ticks\": \"\"}}, \"type\": \"scatter3d\"}], \"scattercarpet\": [{\"marker\": {\"colorbar\": {\"outlinewidth\": 0, \"ticks\": \"\"}}, \"type\": \"scattercarpet\"}], \"scattergeo\": [{\"marker\": {\"colorbar\": {\"outlinewidth\": 0, \"ticks\": \"\"}}, \"type\": \"scattergeo\"}], \"scattergl\": [{\"marker\": {\"colorbar\": {\"outlinewidth\": 0, \"ticks\": \"\"}}, \"type\": \"scattergl\"}], \"scattermapbox\": [{\"marker\": {\"colorbar\": {\"outlinewidth\": 0, \"ticks\": \"\"}}, \"type\": \"scattermapbox\"}], \"scatterpolar\": [{\"marker\": {\"colorbar\": {\"outlinewidth\": 0, \"ticks\": \"\"}}, \"type\": \"scatterpolar\"}], \"scatterpolargl\": [{\"marker\": {\"colorbar\": {\"outlinewidth\": 0, \"ticks\": \"\"}}, \"type\": \"scatterpolargl\"}], \"scatterternary\": [{\"marker\": {\"colorbar\": {\"outlinewidth\": 0, \"ticks\": \"\"}}, \"type\": \"scatterternary\"}], \"surface\": [{\"colorbar\": {\"outlinewidth\": 0, \"ticks\": \"\"}, \"colorscale\": [[0.0, \"#0d0887\"], [0.1111111111111111, \"#46039f\"], [0.2222222222222222, \"#7201a8\"], [0.3333333333333333, \"#9c179e\"], [0.4444444444444444, \"#bd3786\"], [0.5555555555555556, \"#d8576b\"], [0.6666666666666666, \"#ed7953\"], [0.7777777777777778, \"#fb9f3a\"], [0.8888888888888888, \"#fdca26\"], [1.0, \"#f0f921\"]], \"type\": \"surface\"}], \"table\": [{\"cells\": {\"fill\": {\"color\": \"#EBF0F8\"}, \"line\": {\"color\": \"white\"}}, \"header\": {\"fill\": {\"color\": \"#C8D4E3\"}, \"line\": {\"color\": \"white\"}}, \"type\": \"table\"}]}, \"layout\": {\"annotationdefaults\": {\"arrowcolor\": \"#2a3f5f\", \"arrowhead\": 0, \"arrowwidth\": 1}, \"coloraxis\": {\"colorbar\": {\"outlinewidth\": 0, \"ticks\": \"\"}}, \"colorscale\": {\"diverging\": [[0, \"#8e0152\"], [0.1, \"#c51b7d\"], [0.2, \"#de77ae\"], [0.3, \"#f1b6da\"], [0.4, \"#fde0ef\"], [0.5, \"#f7f7f7\"], [0.6, \"#e6f5d0\"], [0.7, \"#b8e186\"], [0.8, \"#7fbc41\"], [0.9, \"#4d9221\"], [1, \"#276419\"]], \"sequential\": [[0.0, \"#0d0887\"], [0.1111111111111111, \"#46039f\"], [0.2222222222222222, \"#7201a8\"], [0.3333333333333333, \"#9c179e\"], [0.4444444444444444, \"#bd3786\"], [0.5555555555555556, \"#d8576b\"], [0.6666666666666666, \"#ed7953\"], [0.7777777777777778, \"#fb9f3a\"], [0.8888888888888888, \"#fdca26\"], [1.0, \"#f0f921\"]], \"sequentialminus\": [[0.0, \"#0d0887\"], [0.1111111111111111, \"#46039f\"], [0.2222222222222222, \"#7201a8\"], [0.3333333333333333, \"#9c179e\"], [0.4444444444444444, \"#bd3786\"], [0.5555555555555556, \"#d8576b\"], [0.6666666666666666, \"#ed7953\"], [0.7777777777777778, \"#fb9f3a\"], [0.8888888888888888, \"#fdca26\"], [1.0, \"#f0f921\"]]}, \"colorway\": [\"#636efa\", \"#EF553B\", \"#00cc96\", \"#ab63fa\", \"#FFA15A\", \"#19d3f3\", \"#FF6692\", \"#B6E880\", \"#FF97FF\", \"#FECB52\"], \"font\": {\"color\": \"#2a3f5f\"}, \"geo\": {\"bgcolor\": \"white\", \"lakecolor\": \"white\", \"landcolor\": \"#E5ECF6\", \"showlakes\": true, \"showland\": true, \"subunitcolor\": \"white\"}, \"hoverlabel\": {\"align\": \"left\"}, \"hovermode\": \"closest\", \"mapbox\": {\"style\": \"light\"}, \"paper_bgcolor\": \"white\", \"plot_bgcolor\": \"#E5ECF6\", \"polar\": {\"angularaxis\": {\"gridcolor\": \"white\", \"linecolor\": \"white\", \"ticks\": \"\"}, \"bgcolor\": \"#E5ECF6\", \"radialaxis\": {\"gridcolor\": \"white\", \"linecolor\": \"white\", \"ticks\": \"\"}}, \"scene\": {\"xaxis\": {\"backgroundcolor\": \"#E5ECF6\", \"gridcolor\": \"white\", \"gridwidth\": 2, \"linecolor\": \"white\", \"showbackground\": true, \"ticks\": \"\", \"zerolinecolor\": \"white\"}, \"yaxis\": {\"backgroundcolor\": \"#E5ECF6\", \"gridcolor\": \"white\", \"gridwidth\": 2, \"linecolor\": \"white\", \"showbackground\": true, \"ticks\": \"\", \"zerolinecolor\": \"white\"}, \"zaxis\": {\"backgroundcolor\": \"#E5ECF6\", \"gridcolor\": \"white\", \"gridwidth\": 2, \"linecolor\": \"white\", \"showbackground\": true, \"ticks\": \"\", \"zerolinecolor\": \"white\"}}, \"shapedefaults\": {\"line\": {\"color\": \"#2a3f5f\"}}, \"ternary\": {\"aaxis\": {\"gridcolor\": \"white\", \"linecolor\": \"white\", \"ticks\": \"\"}, \"baxis\": {\"gridcolor\": \"white\", \"linecolor\": \"white\", \"ticks\": \"\"}, \"bgcolor\": \"#E5ECF6\", \"caxis\": {\"gridcolor\": \"white\", \"linecolor\": \"white\", \"ticks\": \"\"}}, \"title\": {\"x\": 0.05}, \"xaxis\": {\"automargin\": true, \"gridcolor\": \"white\", \"linecolor\": \"white\", \"ticks\": \"\", \"title\": {\"standoff\": 15}, \"zerolinecolor\": \"white\", \"zerolinewidth\": 2}, \"yaxis\": {\"automargin\": true, \"gridcolor\": \"white\", \"linecolor\": \"white\", \"ticks\": \"\", \"title\": {\"standoff\": 15}, \"zerolinecolor\": \"white\", \"zerolinewidth\": 2}}}, \"title\": {\"text\": \"Era Scores por Modelo\"}, \"xaxis\": {\"title\": {\"text\": \"Eras\"}}, \"yaxis\": {\"title\": {\"text\": \"Spearman Score\"}}},                        {\"responsive\": true}                    ).then(function(){\n",
       "                            \n",
       "var gd = document.getElementById('01c69598-fa86-4e1a-b23c-39cc54b9c19e');\n",
       "var x = new MutationObserver(function (mutations, observer) {{\n",
       "        var display = window.getComputedStyle(gd).display;\n",
       "        if (!display || display === 'none') {{\n",
       "            console.log([gd, 'removed!']);\n",
       "            Plotly.purge(gd);\n",
       "            observer.disconnect();\n",
       "        }}\n",
       "}});\n",
       "\n",
       "// Listen for the removal of the full notebook cells\n",
       "var notebookContainer = gd.closest('#notebook-container');\n",
       "if (notebookContainer) {{\n",
       "    x.observe(notebookContainer, {childList: true});\n",
       "}}\n",
       "\n",
       "// Listen for the clearing of the current output cell\n",
       "var outputEl = gd.closest('.output');\n",
       "if (outputEl) {{\n",
       "    x.observe(outputEl, {childList: true});\n",
       "}}\n",
       "\n",
       "                        })                };                });            </script>        </div>"
      ]
     },
     "metadata": {},
     "output_type": "display_data"
    }
   ],
   "source": [
    "visualize.plot_era_scores(df_era_scores_nr, models_nr)"
   ]
  },
  {
   "cell_type": "code",
   "execution_count": 25,
   "metadata": {
    "ExecuteTime": {
     "end_time": "2020-11-08T08:18:36.776080Z",
     "start_time": "2020-11-08T08:18:36.599786Z"
    },
    "slideshow": {
     "slide_type": "skip"
    }
   },
   "outputs": [],
   "source": [
    "#visualize.plot_feat_cors(df_feat_corrs_nr, models_nr)"
   ]
  },
  {
   "cell_type": "markdown",
   "metadata": {
    "ExecuteTime": {
     "end_time": "2020-11-08T04:45:45.810328Z",
     "start_time": "2020-11-08T04:45:45.524062Z"
    },
    "slideshow": {
     "slide_type": "subslide"
    }
   },
   "source": [
    "### Diagnóstico do modelo\n",
    "\n",
    "<img src=\"https://github.com/nicholasrichers/dissertacao/blob/master/references/figures/cap3/diagnostics.png?raw=true\" alt=\"Drawing\" style=\"width: 250px;\"/>\n",
    "\n"
   ]
  },
  {
   "cell_type": "markdown",
   "metadata": {
    "slideshow": {
     "slide_type": "subslide"
    }
   },
   "source": [
    "### Comparando com o baseline"
   ]
  },
  {
   "cell_type": "code",
   "execution_count": 39,
   "metadata": {
    "ExecuteTime": {
     "end_time": "2020-11-08T14:47:18.251629Z",
     "start_time": "2020-11-08T14:47:16.790000Z"
    },
    "slideshow": {
     "slide_type": "fragment"
    }
   },
   "outputs": [
    {
     "name": "stdout",
     "output_type": "stream",
     "text": [
      "Menor é melhor: ['Feat_exp_max', 'Std_Dev', 'corr_with_example_preds']\n"
     ]
    },
    {
     "data": {
      "text/html": [
       "<style  type=\"text/css\" >\n",
       "    #T_4ca08b98_21d1_11eb_9921_8438355b82e0row0_col1 {\n",
       "            background-color:  yellow;\n",
       "        }    #T_4ca08b98_21d1_11eb_9921_8438355b82e0row1_col1 {\n",
       "            background-color:  yellow;\n",
       "        }    #T_4ca08b98_21d1_11eb_9921_8438355b82e0row2_col1 {\n",
       "            background-color:  yellow;\n",
       "        }    #T_4ca08b98_21d1_11eb_9921_8438355b82e0row3_col0 {\n",
       "            background-color:  yellow;\n",
       "        }    #T_4ca08b98_21d1_11eb_9921_8438355b82e0row4_col1 {\n",
       "            background-color:  yellow;\n",
       "        }    #T_4ca08b98_21d1_11eb_9921_8438355b82e0row5_col1 {\n",
       "            background-color:  yellow;\n",
       "        }    #T_4ca08b98_21d1_11eb_9921_8438355b82e0row6_col1 {\n",
       "            background-color:  yellow;\n",
       "        }    #T_4ca08b98_21d1_11eb_9921_8438355b82e0row7_col1 {\n",
       "            background-color:  yellow;\n",
       "        }    #T_4ca08b98_21d1_11eb_9921_8438355b82e0row8_col1 {\n",
       "            background-color:  yellow;\n",
       "        }</style><table id=\"T_4ca08b98_21d1_11eb_9921_8438355b82e0\" ><thead>    <tr>        <th class=\"blank level0\" ></th>        <th class=\"col_heading level0 col0\" >ex_preds</th>        <th class=\"col_heading level0 col1\" >NR_Rio</th>    </tr>    <tr>        <th class=\"index_name level0\" >Metrica</th>        <th class=\"blank\" ></th>        <th class=\"blank\" ></th>    </tr></thead><tbody>\n",
       "                <tr>\n",
       "                        <th id=\"T_4ca08b98_21d1_11eb_9921_8438355b82e0level0_row0\" class=\"row_heading level0 row0\" >Validation_Sharpe</th>\n",
       "                        <td id=\"T_4ca08b98_21d1_11eb_9921_8438355b82e0row0_col0\" class=\"data row0 col0\" >0.9588</td>\n",
       "                        <td id=\"T_4ca08b98_21d1_11eb_9921_8438355b82e0row0_col1\" class=\"data row0 col1\" >1.1423</td>\n",
       "            </tr>\n",
       "            <tr>\n",
       "                        <th id=\"T_4ca08b98_21d1_11eb_9921_8438355b82e0level0_row1\" class=\"row_heading level0 row1\" >Validation_Mean</th>\n",
       "                        <td id=\"T_4ca08b98_21d1_11eb_9921_8438355b82e0row1_col0\" class=\"data row1 col0\" >0.0289</td>\n",
       "                        <td id=\"T_4ca08b98_21d1_11eb_9921_8438355b82e0row1_col1\" class=\"data row1 col1\" >0.0299</td>\n",
       "            </tr>\n",
       "            <tr>\n",
       "                        <th id=\"T_4ca08b98_21d1_11eb_9921_8438355b82e0level0_row2\" class=\"row_heading level0 row2\" >Feat_neutral_mean</th>\n",
       "                        <td id=\"T_4ca08b98_21d1_11eb_9921_8438355b82e0row2_col0\" class=\"data row2 col0\" >0.0000</td>\n",
       "                        <td id=\"T_4ca08b98_21d1_11eb_9921_8438355b82e0row2_col1\" class=\"data row2 col1\" >0.0259</td>\n",
       "            </tr>\n",
       "            <tr>\n",
       "                        <th id=\"T_4ca08b98_21d1_11eb_9921_8438355b82e0level0_row3\" class=\"row_heading level0 row3\" >Validation_SD</th>\n",
       "                        <td id=\"T_4ca08b98_21d1_11eb_9921_8438355b82e0row3_col0\" class=\"data row3 col0\" >0.0301</td>\n",
       "                        <td id=\"T_4ca08b98_21d1_11eb_9921_8438355b82e0row3_col1\" class=\"data row3 col1\" >0.0262</td>\n",
       "            </tr>\n",
       "            <tr>\n",
       "                        <th id=\"T_4ca08b98_21d1_11eb_9921_8438355b82e0level0_row4\" class=\"row_heading level0 row4\" >Feat_exp_max</th>\n",
       "                        <td id=\"T_4ca08b98_21d1_11eb_9921_8438355b82e0row4_col0\" class=\"data row4 col0\" >0.2917</td>\n",
       "                        <td id=\"T_4ca08b98_21d1_11eb_9921_8438355b82e0row4_col1\" class=\"data row4 col1\" >0.2526</td>\n",
       "            </tr>\n",
       "            <tr>\n",
       "                        <th id=\"T_4ca08b98_21d1_11eb_9921_8438355b82e0level0_row5\" class=\"row_heading level0 row5\" >Max_Drawdown</th>\n",
       "                        <td id=\"T_4ca08b98_21d1_11eb_9921_8438355b82e0row5_col0\" class=\"data row5 col0\" >-0.0775</td>\n",
       "                        <td id=\"T_4ca08b98_21d1_11eb_9921_8438355b82e0row5_col1\" class=\"data row5 col1\" >-0.0511</td>\n",
       "            </tr>\n",
       "            <tr>\n",
       "                        <th id=\"T_4ca08b98_21d1_11eb_9921_8438355b82e0level0_row6\" class=\"row_heading level0 row6\" >corr_plus_mmc_sharpe</th>\n",
       "                        <td id=\"T_4ca08b98_21d1_11eb_9921_8438355b82e0row6_col0\" class=\"data row6 col0\" >0.0000</td>\n",
       "                        <td id=\"T_4ca08b98_21d1_11eb_9921_8438355b82e0row6_col1\" class=\"data row6 col1\" >1.2072</td>\n",
       "            </tr>\n",
       "            <tr>\n",
       "                        <th id=\"T_4ca08b98_21d1_11eb_9921_8438355b82e0level0_row7\" class=\"row_heading level0 row7\" >val_mmc_mean</th>\n",
       "                        <td id=\"T_4ca08b98_21d1_11eb_9921_8438355b82e0row7_col0\" class=\"data row7 col0\" >0.0000</td>\n",
       "                        <td id=\"T_4ca08b98_21d1_11eb_9921_8438355b82e0row7_col1\" class=\"data row7 col1\" >0.0055</td>\n",
       "            </tr>\n",
       "            <tr>\n",
       "                        <th id=\"T_4ca08b98_21d1_11eb_9921_8438355b82e0level0_row8\" class=\"row_heading level0 row8\" >corr_with_example_preds</th>\n",
       "                        <td id=\"T_4ca08b98_21d1_11eb_9921_8438355b82e0row8_col0\" class=\"data row8 col0\" >1.0000</td>\n",
       "                        <td id=\"T_4ca08b98_21d1_11eb_9921_8438355b82e0row8_col1\" class=\"data row8 col1\" >0.8791</td>\n",
       "            </tr>\n",
       "    </tbody></table>"
      ],
      "text/plain": [
       "<pandas.io.formats.style.Styler at 0x7ff0a27ada30>"
      ]
     },
     "execution_count": 39,
     "metadata": {},
     "output_type": "execute_result"
    }
   ],
   "source": [
    "print(\"Menor é melhor:\", min_cols)\n",
    "leaderboard_nr = df_metrics_cons_nr[df_metrics_cons_nr.Categoria.isin([\"Performance\", \"Risk\", \"MMC\"])].loc[:,models_nr]\n",
    "leaderboard_nr.astype(float).style.apply(visualize.highlight_max, axis = 1)"
   ]
  },
  {
   "cell_type": "markdown",
   "metadata": {
    "ExecuteTime": {
     "end_time": "2020-11-08T05:04:59.859966Z",
     "start_time": "2020-11-08T05:04:59.634744Z"
    },
    "slideshow": {
     "slide_type": "fragment"
    }
   },
   "source": [
    "### Superamos o baseline da numerai com \"facilidade\""
   ]
  },
  {
   "cell_type": "markdown",
   "metadata": {
    "id": "3BudX8opzRTO",
    "slideshow": {
     "slide_type": "notes"
    }
   },
   "source": [
    "# Create Slides"
   ]
  },
  {
   "cell_type": "code",
   "execution_count": 41,
   "metadata": {
    "ExecuteTime": {
     "end_time": "2020-11-08T14:57:39.956066Z",
     "start_time": "2020-11-08T14:57:35.922268Z"
    },
    "slideshow": {
     "slide_type": "notes"
    }
   },
   "outputs": [
    {
     "name": "stdout",
     "output_type": "stream",
     "text": [
      "[NbConvertApp] Converting notebook Cap3_Dados.ipynb to slides\n",
      "[NbConvertApp] Writing 627417 bytes to Cap3_Dados.slides.html\n"
     ]
    }
   ],
   "source": [
    "!jupyter nbconvert Cap3_Dados.ipynb --to slides  --template output_toggle  --SlidesExporter.reveal_scroll=True --SlidesExporter.reveal_theme=white  #--reveal-prefix=reveal.js --post serve"
   ]
  },
  {
   "cell_type": "code",
   "execution_count": 60,
   "metadata": {
    "ExecuteTime": {
     "end_time": "2020-11-08T06:27:34.071874Z",
     "start_time": "2020-11-08T06:27:33.973668Z"
    },
    "slideshow": {
     "slide_type": "notes"
    }
   },
   "outputs": [],
   "source": [
    "import plotly.graph_objects as go\n",
    "import plotly.io as pio\n",
    "\n",
    "# Set default renderer\n",
    "pio.renderers.default = 'notebook+jupyterlab'  #  See [1]\n",
    "\n",
    "# Set default template\n",
    "pio.templates['slides'] = go.layout.Template(layout=dict(width=900, height=600))\n",
    "pio.templates.default = 'plotly+slides'  # See [2]"
   ]
  },
  {
   "cell_type": "code",
   "execution_count": null,
   "metadata": {
    "slideshow": {
     "slide_type": "notes"
    }
   },
   "outputs": [],
   "source": [
    "#configuração da dimensões da tela de apresentação\n",
    "from notebook.services.config import ConfigManager\n",
    "cm = ConfigManager()\n",
    "\n",
    "#defina as dimensões da apresentação.\n",
    "cm.update('livereveal', {\n",
    "              'width': 1024,\n",
    "              'height': 768,\n",
    "              'scroll': True,\n",
    "              'transition': 'slide',\n",
    "              \"theme\": \"white\",\n",
    "               \"autolaunch\": False\n",
    "         })\n",
    "\n",
    "\n",
    "#\"rise\": {\"enable_chalkboard\": True}\n",
    "# themes path /Users/nicholasrichers/Documents/virtualenvs/numerai_env/share/jupyter/nbextensions/rise/reveal.js/css/theme"
   ]
  },
  {
   "cell_type": "code",
   "execution_count": null,
   "metadata": {
    "slideshow": {
     "slide_type": "notes"
    }
   },
   "outputs": [],
   "source": [
    "#df_training.iloc[0:2,0:2].to_markdown()"
   ]
  }
 ],
 "metadata": {
  "celltoolbar": "Slideshow",
  "colab": {
   "collapsed_sections": [],
   "machine_shape": "hm",
   "name": "NR__Rio",
   "provenance": [],
   "toc_visible": true
  },
  "hide_input": false,
  "kernelspec": {
   "display_name": "Python 3",
   "language": "python",
   "name": "python3"
  },
  "language_info": {
   "codemirror_mode": {
    "name": "ipython",
    "version": 3
   },
   "file_extension": ".py",
   "mimetype": "text/x-python",
   "name": "python",
   "nbconvert_exporter": "python",
   "pygments_lexer": "ipython3",
   "version": "3.8.3"
  },
  "latex_envs": {
   "LaTeX_envs_menu_present": true,
   "autoclose": true,
   "autocomplete": true,
   "bibliofile": "biblio.bib",
   "cite_by": "apalike",
   "current_citInitial": 1,
   "eqLabelWithNumbers": true,
   "eqNumInitial": 1,
   "hotkeys": {
    "equation": "Ctrl-E",
    "itemize": "Ctrl-I"
   },
   "labels_anchors": false,
   "latex_user_defs": false,
   "report_style_numbering": true,
   "user_envs_cfg": true
  },
  "toc": {
   "base_numbering": 1,
   "nav_menu": {},
   "number_sections": true,
   "sideBar": true,
   "skip_h1_title": false,
   "title_cell": "Table of Contents",
   "title_sidebar": "Contents",
   "toc_cell": false,
   "toc_position": {},
   "toc_section_display": true,
   "toc_window_display": false
  },
  "varInspector": {
   "cols": {
    "lenName": 16,
    "lenType": 16,
    "lenVar": 40
   },
   "kernels_config": {
    "python": {
     "delete_cmd_postfix": "",
     "delete_cmd_prefix": "del ",
     "library": "var_list.py",
     "varRefreshCmd": "print(var_dic_list())"
    },
    "r": {
     "delete_cmd_postfix": ") ",
     "delete_cmd_prefix": "rm(",
     "library": "var_list.r",
     "varRefreshCmd": "cat(var_dic_list()) "
    }
   },
   "types_to_exclude": [
    "module",
    "function",
    "builtin_function_or_method",
    "instance",
    "_Feature"
   ],
   "window_display": false
  }
 },
 "nbformat": 4,
 "nbformat_minor": 4
}
