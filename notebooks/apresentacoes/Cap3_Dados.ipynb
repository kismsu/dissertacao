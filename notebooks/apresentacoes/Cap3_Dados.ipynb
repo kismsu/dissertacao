{
 "cells": [
  {
   "cell_type": "markdown",
   "metadata": {
    "slideshow": {
     "slide_type": "slide"
    }
   },
   "source": [
    "# Capítulo 3 - Analisando os dados"
   ]
  },
  {
   "cell_type": "code",
   "execution_count": 7,
   "metadata": {
    "ExecuteTime": {
     "end_time": "2020-10-29T02:04:52.312502Z",
     "start_time": "2020-10-29T02:04:52.171529Z"
    },
    "slideshow": {
     "slide_type": "skip"
    }
   },
   "outputs": [
    {
     "name": "stdout",
     "output_type": "stream",
     "text": [
      "The autoreload extension is already loaded. To reload it, use:\n",
      "  %reload_ext autoreload\n"
     ]
    }
   ],
   "source": [
    "%load_ext autoreload\n",
    "%autoreload 2"
   ]
  },
  {
   "cell_type": "code",
   "execution_count": 8,
   "metadata": {
    "ExecuteTime": {
     "end_time": "2020-10-29T02:04:53.705225Z",
     "start_time": "2020-10-29T02:04:53.625321Z"
    },
    "slideshow": {
     "slide_type": "skip"
    }
   },
   "outputs": [],
   "source": [
    "#basics\n",
    "import sys,os\n",
    "sys.path.insert(1, os.path.dirname(os.getcwd()))\n",
    "\n",
    "#utils\n",
    "import paths\n",
    "\n",
    "#main libraries\n",
    "import numpy as np\n",
    "import pandas as pd\n",
    "import matplotlib.pyplot as plt\n",
    "pd.set_option(\"display.precision\", 4)\n",
    "%matplotlib inline\n",
    "\n",
    "#model Libraries\n",
    "from sklearn import utils\n",
    "from sklearn import preprocessing\n",
    "\n",
    "from sklearn.model_selection import RandomizedSearchCV\n",
    "from sklearn.model_selection import GroupKFold\n",
    "\n",
    "from sklearn.ensemble import RandomForestClassifier\n",
    "from sklearn.ensemble import RandomForestRegressor\n",
    "\n",
    "from sklearn.metrics import make_scorer\n",
    "from sklearn.metrics import roc_auc_score\n",
    "from sklearn.metrics import mean_squared_error\n",
    "\n",
    "#Light GBM\n",
    "from lightgbm import LGBMClassifier\n",
    "from lightgbm import LGBMRegressor\n",
    "from lightgbm import LGBMRanker"
   ]
  },
  {
   "cell_type": "code",
   "execution_count": 9,
   "metadata": {
    "ExecuteTime": {
     "end_time": "2020-10-29T02:04:55.262903Z",
     "start_time": "2020-10-29T02:04:55.205882Z"
    },
    "slideshow": {
     "slide_type": "skip"
    }
   },
   "outputs": [],
   "source": [
    "#private modules \n",
    "#data\n",
    "from src.data import make_dataset\n",
    "\n",
    "#utils\n",
    "from src.utils import memory_usage\n",
    "\n",
    "#models\n",
    "from src.models import train_model\n",
    "from src.models import evaluation\n",
    "\n",
    "#validation\n",
    "from src.validation import metrics\n",
    "from src.validation import metrics_description"
   ]
  },
  {
   "cell_type": "code",
   "execution_count": 10,
   "metadata": {
    "ExecuteTime": {
     "end_time": "2020-10-29T02:04:57.375413Z",
     "start_time": "2020-10-29T02:04:57.322812Z"
    },
    "slideshow": {
     "slide_type": "skip"
    }
   },
   "outputs": [],
   "source": [
    "from catboost import CatBoostClassifier\n",
    "from catboost import CatBoostRegressor\n",
    "\n",
    "from lightgbm import LGBMClassifier\n",
    "from lightgbm import LGBMRegressor\n",
    "from lightgbm import LGBMRanker\n",
    "\n",
    "from xgboost import XGBClassifier\n",
    "from xgboost import XGBRegressor\n",
    "from xgboost import XGBRanker"
   ]
  },
  {
   "cell_type": "markdown",
   "metadata": {
    "slideshow": {
     "slide_type": "skip"
    }
   },
   "source": [
    "# Dados"
   ]
  },
  {
   "cell_type": "code",
   "execution_count": 11,
   "metadata": {
    "ExecuteTime": {
     "end_time": "2020-10-29T02:08:40.819924Z",
     "start_time": "2020-10-29T02:05:05.517086Z"
    },
    "slideshow": {
     "slide_type": "skip"
    }
   },
   "outputs": [
    {
     "name": "stdout",
     "output_type": "stream",
     "text": [
      "low memory activated\n",
      "Memory usage after optimization is: 309.15 MB\n",
      "Decreased by 49.1%\n",
      "<class 'pandas.core.frame.DataFrame'>\n",
      "RangeIndex: 501808 entries, 0 to 501807\n",
      "Columns: 314 entries, id to target_kazutsugi\n",
      "dtypes: float16(311), int32(1), object(2)\n",
      "memory usage: 307.2+ MB\n",
      "None\n",
      "CPU times: user 51 s, sys: 1min 13s, total: 2min 4s\n",
      "Wall time: 3min 35s\n"
     ]
    }
   ],
   "source": [
    "%%time\n",
    "df_training,features,target = make_dataset.get_data(nrows=None,\n",
    "                                                    low_memory=True, \n",
    "                                                    dataset=\"training\", \n",
    "                                                    feather=True)"
   ]
  },
  {
   "cell_type": "code",
   "execution_count": 47,
   "metadata": {
    "slideshow": {
     "slide_type": "skip"
    }
   },
   "outputs": [
    {
     "name": "stdout",
     "output_type": "stream",
     "text": [
      "<class 'pandas.core.frame.DataFrame'>\n",
      "RangeIndex: 106895 entries, 0 to 106894\n",
      "Columns: 314 entries, id to target_kazutsugi\n",
      "dtypes: float32(311), int32(1), object(2)\n",
      "memory usage: 128.9+ MB\n",
      "None\n",
      "CPU times: user 534 ms, sys: 847 ms, total: 1.38 s\n",
      "Wall time: 975 ms\n"
     ]
    }
   ],
   "source": [
    "%%time\n",
    "df_validation,features,target = make_dataset.get_data(nrows=None,\n",
    "                                                    low_memory=False, \n",
    "                                                    dataset=\"validation\", \n",
    "                                                    feather=True)"
   ]
  },
  {
   "cell_type": "code",
   "execution_count": 16,
   "metadata": {
    "slideshow": {
     "slide_type": "skip"
    }
   },
   "outputs": [
    {
     "name": "stdout",
     "output_type": "stream",
     "text": [
      "Available memory (%): 26.99270248413086\n",
      "None\n"
     ]
    }
   ],
   "source": [
    "print(memory_usage.memory())"
   ]
  },
  {
   "cell_type": "markdown",
   "metadata": {
    "id": "iWvGwJSC_3LD",
    "slideshow": {
     "slide_type": "skip"
    }
   },
   "source": [
    "validation"
   ]
  },
  {
   "cell_type": "code",
   "execution_count": 9,
   "metadata": {
    "id": "gDdJMjqFjvhh",
    "slideshow": {
     "slide_type": "skip"
    }
   },
   "outputs": [],
   "source": [
    "df_validation = df_tournament[df_tournament.data_type == 'validation']\n",
    "df_validation['era'] = df_validation.loc[:, 'era'].str[3:].astype('int32')"
   ]
  },
  {
   "cell_type": "markdown",
   "metadata": {
    "id": "J9X5tY5O4jBs",
    "slideshow": {
     "slide_type": "skip"
    }
   },
   "source": [
    "### Nomi"
   ]
  },
  {
   "cell_type": "code",
   "execution_count": 10,
   "metadata": {
    "colab": {
     "base_uri": "https://localhost:8080/"
    },
    "id": "bPVW_qUY4rq0",
    "outputId": "0739bfed-59ca-4907-a2d5-1889183423d1",
    "slideshow": {
     "slide_type": "skip"
    }
   },
   "outputs": [
    {
     "name": "stdout",
     "output_type": "stream",
     "text": [
      "Mounted at /content/drive\n"
     ]
    }
   ],
   "source": [
    "from google.colab import drive, files\n",
    "drive.mount('/content/drive')"
   ]
  },
  {
   "cell_type": "code",
   "execution_count": 11,
   "metadata": {
    "colab": {
     "base_uri": "https://localhost:8080/"
    },
    "id": "755MtFOw3apv",
    "outputId": "fafdc85d-237e-4269-f47f-e516a5125bd5",
    "slideshow": {
     "slide_type": "skip"
    }
   },
   "outputs": [
    {
     "name": "stdout",
     "output_type": "stream",
     "text": [
      "<class 'pandas.core.frame.DataFrame'>\n",
      "RangeIndex: 608703 entries, 0 to 608702\n",
      "Columns: 315 entries, id to target_nomi\n",
      "dtypes: float64(312), int32(1), object(2)\n",
      "memory usage: 1.4+ GB\n",
      "None\n",
      "CPU times: user 23.9 s, sys: 4.51 s, total: 28.4 s\n",
      "Wall time: 31.4 s\n"
     ]
    }
   ],
   "source": [
    "%%time\n",
    "df_training,df_validation,features,target = \\\n",
    "                          make_dataset.get_data_nomi(nrows=None,\n",
    "                                                    low_memory=True, \n",
    "                                                    dataset=\"nomi\", \n",
    "                                                    feather=True)"
   ]
  },
  {
   "cell_type": "markdown",
   "metadata": {
    "id": "Lj6XKcqw4xJO",
    "slideshow": {
     "slide_type": "subslide"
    }
   },
   "source": [
    "## Conjunto de dados (treino)"
   ]
  },
  {
   "cell_type": "code",
   "execution_count": 12,
   "metadata": {
    "ExecuteTime": {
     "end_time": "2020-10-29T02:08:41.894212Z",
     "start_time": "2020-10-29T02:08:41.761969Z"
    },
    "colab": {
     "base_uri": "https://localhost:8080/",
     "height": 253
    },
    "id": "0-E8aGUy3XcH",
    "outputId": "0a81002e-46e5-4857-d2f6-48b4ccf847cf",
    "slideshow": {
     "slide_type": "fragment"
    }
   },
   "outputs": [
    {
     "data": {
      "text/html": [
       "<div>\n",
       "<style scoped>\n",
       "    .dataframe tbody tr th:only-of-type {\n",
       "        vertical-align: middle;\n",
       "    }\n",
       "\n",
       "    .dataframe tbody tr th {\n",
       "        vertical-align: top;\n",
       "    }\n",
       "\n",
       "    .dataframe thead th {\n",
       "        text-align: right;\n",
       "    }\n",
       "</style>\n",
       "<table border=\"1\" class=\"dataframe\">\n",
       "  <thead>\n",
       "    <tr style=\"text-align: right;\">\n",
       "      <th></th>\n",
       "      <th>id</th>\n",
       "      <th>era</th>\n",
       "      <th>data_type</th>\n",
       "      <th>feature_intelligence1</th>\n",
       "      <th>feature_intelligence2</th>\n",
       "      <th>feature_intelligence3</th>\n",
       "      <th>feature_intelligence4</th>\n",
       "      <th>feature_intelligence5</th>\n",
       "      <th>feature_intelligence6</th>\n",
       "      <th>feature_intelligence7</th>\n",
       "      <th>...</th>\n",
       "      <th>feature_wisdom38</th>\n",
       "      <th>feature_wisdom39</th>\n",
       "      <th>feature_wisdom40</th>\n",
       "      <th>feature_wisdom41</th>\n",
       "      <th>feature_wisdom42</th>\n",
       "      <th>feature_wisdom43</th>\n",
       "      <th>feature_wisdom44</th>\n",
       "      <th>feature_wisdom45</th>\n",
       "      <th>feature_wisdom46</th>\n",
       "      <th>target_kazutsugi</th>\n",
       "    </tr>\n",
       "  </thead>\n",
       "  <tbody>\n",
       "    <tr>\n",
       "      <th>0</th>\n",
       "      <td>n000315175b67977</td>\n",
       "      <td>1</td>\n",
       "      <td>train</td>\n",
       "      <td>0.00</td>\n",
       "      <td>0.50</td>\n",
       "      <td>0.25</td>\n",
       "      <td>0.00</td>\n",
       "      <td>0.5</td>\n",
       "      <td>0.25</td>\n",
       "      <td>0.25</td>\n",
       "      <td>...</td>\n",
       "      <td>1.00</td>\n",
       "      <td>1.00</td>\n",
       "      <td>0.75</td>\n",
       "      <td>0.50</td>\n",
       "      <td>0.75</td>\n",
       "      <td>0.50</td>\n",
       "      <td>1.00</td>\n",
       "      <td>0.50</td>\n",
       "      <td>0.75</td>\n",
       "      <td>0.75</td>\n",
       "    </tr>\n",
       "    <tr>\n",
       "      <th>1</th>\n",
       "      <td>n0014af834a96cdd</td>\n",
       "      <td>1</td>\n",
       "      <td>train</td>\n",
       "      <td>0.00</td>\n",
       "      <td>0.00</td>\n",
       "      <td>0.00</td>\n",
       "      <td>0.25</td>\n",
       "      <td>0.5</td>\n",
       "      <td>0.00</td>\n",
       "      <td>0.00</td>\n",
       "      <td>...</td>\n",
       "      <td>1.00</td>\n",
       "      <td>1.00</td>\n",
       "      <td>0.00</td>\n",
       "      <td>0.00</td>\n",
       "      <td>0.75</td>\n",
       "      <td>0.25</td>\n",
       "      <td>0.00</td>\n",
       "      <td>0.25</td>\n",
       "      <td>1.00</td>\n",
       "      <td>0.25</td>\n",
       "    </tr>\n",
       "    <tr>\n",
       "      <th>2</th>\n",
       "      <td>n001c93979ac41d4</td>\n",
       "      <td>1</td>\n",
       "      <td>train</td>\n",
       "      <td>0.25</td>\n",
       "      <td>0.50</td>\n",
       "      <td>0.25</td>\n",
       "      <td>0.25</td>\n",
       "      <td>1.0</td>\n",
       "      <td>0.75</td>\n",
       "      <td>0.75</td>\n",
       "      <td>...</td>\n",
       "      <td>0.25</td>\n",
       "      <td>0.50</td>\n",
       "      <td>0.00</td>\n",
       "      <td>0.00</td>\n",
       "      <td>0.50</td>\n",
       "      <td>1.00</td>\n",
       "      <td>0.00</td>\n",
       "      <td>0.25</td>\n",
       "      <td>0.75</td>\n",
       "      <td>0.00</td>\n",
       "    </tr>\n",
       "    <tr>\n",
       "      <th>3</th>\n",
       "      <td>n0034e4143f22a13</td>\n",
       "      <td>1</td>\n",
       "      <td>train</td>\n",
       "      <td>1.00</td>\n",
       "      <td>0.00</td>\n",
       "      <td>0.00</td>\n",
       "      <td>0.50</td>\n",
       "      <td>0.5</td>\n",
       "      <td>0.25</td>\n",
       "      <td>0.25</td>\n",
       "      <td>...</td>\n",
       "      <td>1.00</td>\n",
       "      <td>1.00</td>\n",
       "      <td>0.75</td>\n",
       "      <td>0.75</td>\n",
       "      <td>1.00</td>\n",
       "      <td>1.00</td>\n",
       "      <td>0.75</td>\n",
       "      <td>1.00</td>\n",
       "      <td>1.00</td>\n",
       "      <td>0.00</td>\n",
       "    </tr>\n",
       "    <tr>\n",
       "      <th>4</th>\n",
       "      <td>n00679d1a636062f</td>\n",
       "      <td>1</td>\n",
       "      <td>train</td>\n",
       "      <td>0.25</td>\n",
       "      <td>0.25</td>\n",
       "      <td>0.25</td>\n",
       "      <td>0.25</td>\n",
       "      <td>0.0</td>\n",
       "      <td>0.25</td>\n",
       "      <td>0.50</td>\n",
       "      <td>...</td>\n",
       "      <td>0.75</td>\n",
       "      <td>0.75</td>\n",
       "      <td>0.25</td>\n",
       "      <td>0.50</td>\n",
       "      <td>0.75</td>\n",
       "      <td>0.00</td>\n",
       "      <td>0.50</td>\n",
       "      <td>0.25</td>\n",
       "      <td>0.75</td>\n",
       "      <td>0.75</td>\n",
       "    </tr>\n",
       "  </tbody>\n",
       "</table>\n",
       "<p>5 rows × 314 columns</p>\n",
       "</div>"
      ],
      "text/plain": [
       "                 id  era data_type  feature_intelligence1  \\\n",
       "0  n000315175b67977    1     train                   0.00   \n",
       "1  n0014af834a96cdd    1     train                   0.00   \n",
       "2  n001c93979ac41d4    1     train                   0.25   \n",
       "3  n0034e4143f22a13    1     train                   1.00   \n",
       "4  n00679d1a636062f    1     train                   0.25   \n",
       "\n",
       "   feature_intelligence2  feature_intelligence3  feature_intelligence4  \\\n",
       "0                   0.50                   0.25                   0.00   \n",
       "1                   0.00                   0.00                   0.25   \n",
       "2                   0.50                   0.25                   0.25   \n",
       "3                   0.00                   0.00                   0.50   \n",
       "4                   0.25                   0.25                   0.25   \n",
       "\n",
       "   feature_intelligence5  feature_intelligence6  feature_intelligence7  ...  \\\n",
       "0                    0.5                   0.25                   0.25  ...   \n",
       "1                    0.5                   0.00                   0.00  ...   \n",
       "2                    1.0                   0.75                   0.75  ...   \n",
       "3                    0.5                   0.25                   0.25  ...   \n",
       "4                    0.0                   0.25                   0.50  ...   \n",
       "\n",
       "   feature_wisdom38  feature_wisdom39  feature_wisdom40  feature_wisdom41  \\\n",
       "0              1.00              1.00              0.75              0.50   \n",
       "1              1.00              1.00              0.00              0.00   \n",
       "2              0.25              0.50              0.00              0.00   \n",
       "3              1.00              1.00              0.75              0.75   \n",
       "4              0.75              0.75              0.25              0.50   \n",
       "\n",
       "   feature_wisdom42  feature_wisdom43  feature_wisdom44  feature_wisdom45  \\\n",
       "0              0.75              0.50              1.00              0.50   \n",
       "1              0.75              0.25              0.00              0.25   \n",
       "2              0.50              1.00              0.00              0.25   \n",
       "3              1.00              1.00              0.75              1.00   \n",
       "4              0.75              0.00              0.50              0.25   \n",
       "\n",
       "   feature_wisdom46  target_kazutsugi  \n",
       "0              0.75              0.75  \n",
       "1              1.00              0.25  \n",
       "2              0.75              0.00  \n",
       "3              1.00              0.00  \n",
       "4              0.75              0.75  \n",
       "\n",
       "[5 rows x 314 columns]"
      ]
     },
     "execution_count": 12,
     "metadata": {},
     "output_type": "execute_result"
    }
   ],
   "source": [
    "df_training.head()"
   ]
  },
  {
   "cell_type": "code",
   "execution_count": 13,
   "metadata": {
    "id": "UELZOBfu3XsQ",
    "slideshow": {
     "slide_type": "skip"
    }
   },
   "outputs": [],
   "source": [
    "# The features are grouped together into 6 types\n",
    "feature_groups = {\n",
    "    g: [c for c in df_training if c.startswith(f\"feature_{g}\")]\n",
    "    for g in [\"intelligence\", \"wisdom\", \"charisma\", \"dexterity\", \"strength\", \"constitution\"]\n",
    "}"
   ]
  },
  {
   "cell_type": "code",
   "execution_count": 14,
   "metadata": {
    "colab": {
     "base_uri": "https://localhost:8080/"
    },
    "id": "xYZp6IzR3XoY",
    "outputId": "99b3efeb-e3e9-4115-9c28-ae7f4d21fed7",
    "slideshow": {
     "slide_type": "fragment"
    }
   },
   "outputs": [
    {
     "name": "stdout",
     "output_type": "stream",
     "text": [
      "feature_intelligence12\n",
      "feature_wisdom46\n",
      "feature_charisma86\n",
      "feature_dexterity14\n",
      "feature_strength38\n",
      "feature_constitution114\n"
     ]
    }
   ],
   "source": [
    "for group, f_list in feature_groups.items():\n",
    "    print(f_list[-1])"
   ]
  },
  {
   "cell_type": "markdown",
   "metadata": {
    "id": "7D-8JdCcKPo1",
    "slideshow": {
     "slide_type": "subslide"
    }
   },
   "source": [
    "### Some features are very correlated inside the groups"
   ]
  },
  {
   "cell_type": "code",
   "execution_count": 20,
   "metadata": {
    "id": "_pswwLb8CF4d",
    "slideshow": {
     "slide_type": "skip"
    }
   },
   "outputs": [],
   "source": [
    "feature_intelligence = [c for c in df_training if c.startswith(\"feature_intelligence\")]"
   ]
  },
  {
   "cell_type": "code",
   "execution_count": 19,
   "metadata": {
    "colab": {
     "base_uri": "https://localhost:8080/",
     "height": 674
    },
    "id": "Uc85PHGTDUK0",
    "outputId": "cedc30e5-9329-4ade-9869-fe6116a27ecf",
    "slideshow": {
     "slide_type": "fragment"
    }
   },
   "outputs": [
    {
     "data": {
      "image/png": "[encoded data removed]",
      "text/plain": [
       "<Figure size 792x648 with 2 Axes>"
      ]
     },
     "metadata": {
      "tags": []
     },
     "output_type": "display_data"
    }
   ],
   "source": [
    "visualize.plot_corr_matrix(df_training[feature_intelligence])"
   ]
  },
  {
   "cell_type": "markdown",
   "metadata": {
    "id": "FF1ix3Hf1ogX",
    "slideshow": {
     "slide_type": "subslide"
    }
   },
   "source": [
    "### The correlation can change over time\n",
    "You can see this by comparing feature correlations on the first half and second half on the training set"
   ]
  },
  {
   "cell_type": "code",
   "execution_count": 22,
   "metadata": {
    "id": "ezGDuKQP1ogX",
    "slideshow": {
     "slide_type": "skip"
    }
   },
   "outputs": [],
   "source": [
    "eras = df_training.era\n",
    "df1 = df_training[eras<=eras.median()]\n",
    "df2 = df_training[eras>eras.median()]"
   ]
  },
  {
   "cell_type": "code",
   "execution_count": 23,
   "metadata": {
    "id": "SpuHEbR31ogb",
    "slideshow": {
     "slide_type": "skip"
    }
   },
   "outputs": [],
   "source": [
    "corr1 = df1[feature_intelligence].corr().unstack()\n",
    "corr1 = corr1[corr1.index.get_level_values(0) < corr1.index.get_level_values(1)]"
   ]
  },
  {
   "cell_type": "code",
   "execution_count": 24,
   "metadata": {
    "id": "C_Ohlm-z1oge",
    "slideshow": {
     "slide_type": "skip"
    }
   },
   "outputs": [],
   "source": [
    "corr2 = df2[feature_intelligence].corr().unstack()\n",
    "corr2 = corr2[corr2.index.get_level_values(0) < corr2.index.get_level_values(1)]"
   ]
  },
  {
   "cell_type": "code",
   "execution_count": 29,
   "metadata": {
    "colab": {
     "base_uri": "https://localhost:8080/",
     "height": 204
    },
    "id": "CJyHWIVy1ogi",
    "outputId": "b4a23a0e-859f-427c-aad8-ddce7d7d5595",
    "slideshow": {
     "slide_type": "fragment"
    }
   },
   "outputs": [
    {
     "data": {
      "text/html": [
       "<div>\n",
       "<style scoped>\n",
       "    .dataframe tbody tr th:only-of-type {\n",
       "        vertical-align: middle;\n",
       "    }\n",
       "\n",
       "    .dataframe tbody tr th {\n",
       "        vertical-align: top;\n",
       "    }\n",
       "\n",
       "    .dataframe thead th {\n",
       "        text-align: right;\n",
       "    }\n",
       "</style>\n",
       "<table border=\"1\" class=\"dataframe\">\n",
       "  <thead>\n",
       "    <tr style=\"text-align: right;\">\n",
       "      <th></th>\n",
       "      <th></th>\n",
       "      <th>corr1</th>\n",
       "      <th>corr2</th>\n",
       "      <th>corr_diff</th>\n",
       "    </tr>\n",
       "  </thead>\n",
       "  <tbody>\n",
       "    <tr>\n",
       "      <th>feature_intelligence11</th>\n",
       "      <th>feature_intelligence9</th>\n",
       "      <td>0.0914</td>\n",
       "      <td>-0.1289</td>\n",
       "      <td>-0.2202</td>\n",
       "    </tr>\n",
       "    <tr>\n",
       "      <th rowspan=\"2\" valign=\"top\">feature_intelligence10</th>\n",
       "      <th>feature_intelligence11</th>\n",
       "      <td>0.0750</td>\n",
       "      <td>-0.1305</td>\n",
       "      <td>-0.2055</td>\n",
       "    </tr>\n",
       "    <tr>\n",
       "      <th>feature_intelligence4</th>\n",
       "      <td>0.0548</td>\n",
       "      <td>-0.1442</td>\n",
       "      <td>-0.1990</td>\n",
       "    </tr>\n",
       "    <tr>\n",
       "      <th>feature_intelligence4</th>\n",
       "      <th>feature_intelligence9</th>\n",
       "      <td>0.0676</td>\n",
       "      <td>-0.1296</td>\n",
       "      <td>-0.1972</td>\n",
       "    </tr>\n",
       "    <tr>\n",
       "      <th>feature_intelligence10</th>\n",
       "      <th>feature_intelligence8</th>\n",
       "      <td>0.0549</td>\n",
       "      <td>-0.1354</td>\n",
       "      <td>-0.1903</td>\n",
       "    </tr>\n",
       "  </tbody>\n",
       "</table>\n",
       "</div>"
      ],
      "text/plain": [
       "                                                corr1   corr2  corr_diff\n",
       "feature_intelligence11 feature_intelligence9   0.0914 -0.1289    -0.2202\n",
       "feature_intelligence10 feature_intelligence11  0.0750 -0.1305    -0.2055\n",
       "                       feature_intelligence4   0.0548 -0.1442    -0.1990\n",
       "feature_intelligence4  feature_intelligence9   0.0676 -0.1296    -0.1972\n",
       "feature_intelligence10 feature_intelligence8   0.0549 -0.1354    -0.1903"
      ]
     },
     "execution_count": 29,
     "metadata": {
      "tags": []
     },
     "output_type": "execute_result"
    }
   ],
   "source": [
    "tdf = pd.DataFrame({\n",
    "    \"corr1\": corr1,\n",
    "    \"corr2\": corr2,\n",
    "})\n",
    "tdf[\"corr_diff\"] = tdf.corr2 - tdf.corr1\n",
    "tdf.sort_values(by=\"corr_diff\").head()"
   ]
  },
  {
   "cell_type": "markdown",
   "metadata": {},
   "source": [
    "## Sobre o target"
   ]
  },
  {
   "cell_type": "code",
   "execution_count": 16,
   "metadata": {
    "colab": {
     "base_uri": "https://localhost:8080/",
     "height": 321
    },
    "id": "LJQUF8Sd3XYi",
    "outputId": "555d8b33-65e8-43e9-89d0-83775b2b1625"
   },
   "outputs": [
    {
     "data": {
      "text/plain": [
       "<matplotlib.axes._subplots.AxesSubplot at 0x7fd6ea75fac8>"
      ]
     },
     "execution_count": 16,
     "metadata": {
      "tags": []
     },
     "output_type": "execute_result"
    },
    {
     "data": {
      "image/png": "[encoded data removed]",
      "text/plain": [
       "<Figure size 864x288 with 1 Axes>"
      ]
     },
     "metadata": {
      "needs_background": "light",
      "tags": []
     },
     "output_type": "display_data"
    }
   ],
   "source": [
    "targets = df_training.loc[:, ['era', target]]\n",
    "pivot_target = targets.groupby(['era', target]).apply(lambda x: len(x)).reset_index(1).pivot(columns=target,values=0)\n",
    "pivot_target.iloc[::2].plot(kind='bar', stacked=True, figsize=(12,4), title='Number of tickers in each class per era')"
   ]
  },
  {
   "cell_type": "markdown",
   "metadata": {
    "id": "zW3dpEHTMnJZ"
   },
   "source": [
    "## Some features are predictive on their own"
   ]
  },
  {
   "cell_type": "code",
   "execution_count": 31,
   "metadata": {
    "id": "pbP_TOAAM_xX"
   },
   "outputs": [],
   "source": [
    "df = df_training.copy()\n",
    "eras = df_training.era"
   ]
  },
  {
   "cell_type": "code",
   "execution_count": 34,
   "metadata": {
    "id": "_SkU43MHM2kv"
   },
   "outputs": [],
   "source": [
    "# The models should be scored based on the rank-correlation (spearman) with the target\n",
    "def numerai_score(y_true, y_pred):\n",
    "    rank_pred = y_pred.groupby(eras).apply(lambda x: x.rank(pct=True, method=\"first\"))\n",
    "    return np.corrcoef(y_true, rank_pred)[0,1]\n",
    "\n",
    "# It can also be convenient while working to evaluate based on the regular (pearson) correlation\n",
    "def correlation_score(y_true, y_pred):\n",
    "    return np.corrcoef(y_true, y_pred)[0,1]"
   ]
  },
  {
   "cell_type": "code",
   "execution_count": 35,
   "metadata": {
    "id": "gURvw4LQMnJa"
   },
   "outputs": [],
   "source": [
    "feature_scores = {\n",
    "    feature: numerai_score(df[target], df[feature])\n",
    "    for feature in features\n",
    "}"
   ]
  },
  {
   "cell_type": "code",
   "execution_count": 45,
   "metadata": {
    "colab": {
     "base_uri": "https://localhost:8080/"
    },
    "id": "e0wSAf4cMnJd",
    "outputId": "9b0f3a46-2981-480a-ec1c-e182b19983f7"
   },
   "outputs": [
    {
     "data": {
      "text/plain": [
       "feature_strength34     0.0123\n",
       "feature_strength14     0.0115\n",
       "feature_charisma37     0.0110\n",
       "feature_charisma18     0.0108\n",
       "feature_charisma76     0.0107\n",
       "                        ...  \n",
       "feature_dexterity11   -0.0102\n",
       "feature_charisma69    -0.0103\n",
       "feature_dexterity4    -0.0110\n",
       "feature_dexterity6    -0.0111\n",
       "feature_dexterity7    -0.0115\n",
       "Length: 310, dtype: float64"
      ]
     },
     "execution_count": 45,
     "metadata": {
      "tags": []
     },
     "output_type": "execute_result"
    }
   ],
   "source": [
    "pd.Series(feature_scores).sort_values(ascending=False)"
   ]
  },
  {
   "cell_type": "code",
   "execution_count": 48,
   "metadata": {
    "colab": {
     "base_uri": "https://localhost:8080/",
     "height": 285
    },
    "id": "v3Xejz7nMnJh",
    "outputId": "9a8094f1-a0c2-437b-dcce-c7c85f80db6f"
   },
   "outputs": [
    {
     "data": {
      "text/plain": [
       "<matplotlib.axes._subplots.AxesSubplot at 0x7fd6ea9d1710>"
      ]
     },
     "execution_count": 48,
     "metadata": {
      "tags": []
     },
     "output_type": "execute_result"
    },
    {
     "data": {
      "image/png": "[encoded data removed]",
      "text/plain": [
       "<Figure size 432x288 with 1 Axes>"
      ]
     },
     "metadata": {
      "tags": []
     },
     "output_type": "display_data"
    }
   ],
   "source": [
    "# Single features do not work consistently though\n",
    "by_era_correlation = pd.Series({\n",
    "    era: np.corrcoef(tdf['target_kazutsugi'], tdf[\"feature_strength34\"])[0,1]\n",
    "    for era, tdf in df.groupby(eras)\n",
    "})\n",
    "by_era_correlation.plot()"
   ]
  },
  {
   "cell_type": "code",
   "execution_count": 49,
   "metadata": {
    "colab": {
     "base_uri": "https://localhost:8080/",
     "height": 285
    },
    "id": "zCkpmb1NMnJk",
    "outputId": "73e61673-ea9d-4f45-ba4a-98b00ad511a0"
   },
   "outputs": [
    {
     "data": {
      "text/plain": [
       "<matplotlib.axes._subplots.AxesSubplot at 0x7fd6ea495668>"
      ]
     },
     "execution_count": 49,
     "metadata": {
      "tags": []
     },
     "output_type": "execute_result"
    },
    {
     "data": {
      "image/png": "[encoded data removed]",
      "text/plain": [
       "<Figure size 432x288 with 1 Axes>"
      ]
     },
     "metadata": {
      "tags": []
     },
     "output_type": "display_data"
    }
   ],
   "source": [
    "# With a rolling 10 era average you can see some trends\n",
    "by_era_correlation.rolling(10).mean().plot()"
   ]
  },
  {
   "cell_type": "markdown",
   "metadata": {
    "id": "76aXwYiKpIsG"
   },
   "source": [
    "## Que tipo de problema estamos resolvendo?"
   ]
  },
  {
   "cell_type": "markdown",
   "metadata": {
    "id": "S1Av3YDJuZKR"
   },
   "source": [
    "Print integration test"
   ]
  },
  {
   "cell_type": "markdown",
   "metadata": {
    "id": "Qr5BMpC9w-zZ"
   },
   "source": [
    "spearman como é, coloque a imagem da wiki"
   ]
  },
  {
   "cell_type": "markdown",
   "metadata": {
    "id": "p0EKLdfc1U1z"
   },
   "source": [
    "entao estamos resolvendo um problema de ranqueamento"
   ]
  },
  {
   "cell_type": "markdown",
   "metadata": {
    "id": "Ph8ogJZL1oVm"
   },
   "source": [
    "criar bolotas"
   ]
  },
  {
   "cell_type": "markdown",
   "metadata": {
    "id": "FhP4WVBLpiCx"
   },
   "source": [
    "### Baseline"
   ]
  },
  {
   "cell_type": "markdown",
   "metadata": {
    "id": "4ed8y57jv1tb"
   },
   "source": [
    "Que modelo ele usa? (*)"
   ]
  },
  {
   "cell_type": "code",
   "execution_count": 56,
   "metadata": {
    "colab": {
     "base_uri": "https://localhost:8080/"
    },
    "id": "ajZMy-UNoRbA",
    "outputId": "39ec7c35-022e-4907-f3e3-54659a427818"
   },
   "outputs": [
    {
     "name": "stdout",
     "output_type": "stream",
     "text": [
      "XGBRegressor(n_estimators=2000, learning_rate=0.01, max_depth=5, colsample_bytree=0.1)\n"
     ]
    }
   ],
   "source": [
    "print(\"XGBRegressor(n_estimators=2000, learning_rate=0.01, max_depth=5, colsample_bytree=0.1)\")"
   ]
  },
  {
   "cell_type": "markdown",
   "metadata": {
    "id": "qNbJFiouvAGu"
   },
   "source": [
    "Lembrando que o target possui os valores ..."
   ]
  },
  {
   "cell_type": "markdown",
   "metadata": {
    "id": "kmaZ1Pomp1AK"
   },
   "source": [
    "Porque regressão?"
   ]
  },
  {
   "cell_type": "markdown",
   "metadata": {
    "id": "Cxi0FILGs5v3"
   },
   "source": [
    "Utilizaremos 3 dos melhores modelos de machine learning do mercado e vamos comparar as implementações de classificação, regressão e ranqueamento."
   ]
  },
  {
   "cell_type": "code",
   "execution_count": null,
   "metadata": {
    "id": "2UMCwx-Kqwkr"
   },
   "outputs": [],
   "source": [
    "model_name = [\n",
    "              \"XGBClassifier\"\n",
    "              ,\"XGBRegressor\"\n",
    "              ,\"XGBRanker\"\n",
    "              ,\"LGBMClassifier\"\n",
    "              ,\"LGBMRegressor\"\n",
    "              ,\"LGBMRanker\"\n",
    "              ,\"CatBoostClassifier\"\n",
    "              ,\"CatBoostRegressor\"              \n",
    "]"
   ]
  },
  {
   "cell_type": "code",
   "execution_count": null,
   "metadata": {
    "id": "kABOWPNHqwkh"
   },
   "outputs": [],
   "source": [
    "est = 2000\n",
    "models = [\n",
    "    XGBClassifier(max_depth=5, learning_rate=0.01, n_estimators=est, n_jobs=-1, colsample_bytree=0.1, tree_method='gpu_hist', gpu_id=0),\n",
    "    XGBRegressor(max_depth=5, learning_rate=0.01, n_estimators=est, n_jobs=-1, colsample_bytree=0.1, tree_method='gpu_hist', gpu_id=0),\n",
    "    XGBRanker(max_depth=5, learning_rate=0.01, n_estimators=est, n_jobs=-1, colsample_bytree=0.1, tree_method='gpu_hist', gpu_id=0)\n",
    "] +  [\n",
    "    LGBMClassifier(max_depth=5, learning_rate=0.01, n_estimators=est, n_jobs=-1, colsample_bytree=0.1, num_leaves=32, device_type = \"gpu\"),\n",
    "    LGBMRegressor(max_depth=5, learning_rate=0.01, n_estimators=est, n_jobs=-1, colsample_bytree=0.1, num_leaves=32, device_type = \"gpu\"),\n",
    "    LGBMRanker(max_depth=5, learning_rate=0.01, n_estimators=est, n_jobs=-1, colsample_bytree=0.1, num_leaves=32, device_type = \"gpu\")\n",
    "] +  [\n",
    "    CatBoostClassifier(max_depth=5, learning_rate=0.01, n_estimators=est, task_type='GPU'),\n",
    "    CatBoostRegressor(max_depth=5, learning_rate=0.01, n_estimators=est, task_type='GPU')\n",
    "]"
   ]
  },
  {
   "cell_type": "code",
   "execution_count": null,
   "metadata": {
    "colab": {
     "base_uri": "https://localhost:8080/",
     "height": 187
    },
    "id": "eL2nIkRHqwku",
    "outputId": "8de8e71f-e83d-4a27-dfc4-cbf288b81869"
   },
   "outputs": [
    {
     "name": "stdout",
     "output_type": "stream",
     "text": [
      " --  XGBRegressor(base_score=0.5, booster='gbtree', colsample_bylevel=1,\n",
      "             colsample_bynode=1, colsample_bytree=0.1, gamma=0, gpu_id=0,\n",
      "             importance_type='gain', learning_rate=0.01, max_delta_step=0,\n",
      "             max_depth=5, min_child_weight=1, missing=None, n_estimators=2000,\n",
      "             n_jobs=-1, nthread=None, objective='reg:linear', random_state=0,\n",
      "             reg_alpha=0, reg_lambda=1, scale_pos_weight=1, seed=None,\n",
      "             silent=None, subsample=1, tree_method='gpu_hist', verbosity=1)\n",
      "[16:58:24] WARNING: /workspace/src/objective/regression_obj.cu:152: reg:linear is now deprecated in favor of reg:squarederror.\n",
      "\n",
      "\n"
     ]
    }
   ],
   "source": [
    "results = dict()\n",
    "from time import time\n",
    "\n",
    "for i,model in enumerate(models):\n",
    "    model_res = dict()\n",
    "    print(\" -- \", model)\n",
    "    start = time()\n",
    "    if model_name[i] == \"XGBRanker\" or model_name[i] == \"LGBMRanker\":\n",
    "      model.fit(training_data[features], training_data[target], group=group)\n",
    "    else:\n",
    "      model.fit(training_data[features], training_data[target])\n",
    "    elapsed = time() - start\n",
    "    model_res[\"outsample\"] = numerai_score(df2[target], pd.Series(model.predict(df2[features]).reshape(1,-1)[0], index=df2.index))\n",
    "    model_res[\"insample\"] = numerai_score(df1[target], pd.Series(model.predict(df1[features]).reshape(1,-1)[0], index=df1.index))\n",
    "    model_res[\"time_elapsed(s)\"] = elapsed\n",
    "    print(\n",
    "        #f\"outsample: {model_res[\"outsample\"]}, insample: {model_res[\"insample\"]}\"\n",
    "    )\n",
    "    print()\n",
    "    results[model_name[i]] = model_res\n",
    "    file_name = 'baseline_'+ model_name[i] +'.pkl'\n",
    "    dump(model, file_name)\n",
    "\n",
    "res = pd.DataFrame.from_dict(results).T\n",
    "pd.set_option(\"display.precision\", 4)\n",
    "\n",
    "final_results = res.sort_values(by=['outsample'], ascending=False)\n",
    "#final_results.to_csv(\"results_baseline.csv\", index=True)"
   ]
  },
  {
   "cell_type": "code",
   "execution_count": 50,
   "metadata": {
    "id": "pmvO5k7-qwk_"
   },
   "outputs": [],
   "source": [
    "#res.sort_values(by=['time_elapsed(s)'])\n",
    "results = pd.read_csv(\"../../reports/results_baseline.csv\")"
   ]
  },
  {
   "cell_type": "code",
   "execution_count": null,
   "metadata": {
    "id": "uCqHL-9TsQAS",
    "outputId": "7ac93e64-27e9-4174-ec0e-919aa232d0c8"
   },
   "outputs": [
    {
     "data": {
      "text/html": [
       "<div>\n",
       "<style scoped>\n",
       "    .dataframe tbody tr th:only-of-type {\n",
       "        vertical-align: middle;\n",
       "    }\n",
       "\n",
       "    .dataframe tbody tr th {\n",
       "        vertical-align: top;\n",
       "    }\n",
       "\n",
       "    .dataframe thead th {\n",
       "        text-align: right;\n",
       "    }\n",
       "</style>\n",
       "<table border=\"1\" class=\"dataframe\">\n",
       "  <thead>\n",
       "    <tr style=\"text-align: right;\">\n",
       "      <th></th>\n",
       "      <th>outsample</th>\n",
       "      <th>insample</th>\n",
       "      <th>time_elapsed_GPU(s)</th>\n",
       "      <th>time_elapsed(s)</th>\n",
       "    </tr>\n",
       "  </thead>\n",
       "  <tbody>\n",
       "    <tr>\n",
       "      <th>LGBMRegressor</th>\n",
       "      <td>0.0447</td>\n",
       "      <td>0.2677</td>\n",
       "      <td>23.8324</td>\n",
       "      <td>62.3275</td>\n",
       "    </tr>\n",
       "    <tr>\n",
       "      <th>XGBRanker</th>\n",
       "      <td>0.0442</td>\n",
       "      <td>0.2021</td>\n",
       "      <td>67.5707</td>\n",
       "      <td>469.0444</td>\n",
       "    </tr>\n",
       "    <tr>\n",
       "      <th>XGBRegressor</th>\n",
       "      <td>0.0440</td>\n",
       "      <td>0.2667</td>\n",
       "      <td>37.2466</td>\n",
       "      <td>445.6100</td>\n",
       "    </tr>\n",
       "    <tr>\n",
       "      <th>LGBMClassifier</th>\n",
       "      <td>0.0305</td>\n",
       "      <td>0.2070</td>\n",
       "      <td>137.1966</td>\n",
       "      <td>301.8254</td>\n",
       "    </tr>\n",
       "    <tr>\n",
       "      <th>XGBClassifier</th>\n",
       "      <td>0.0302</td>\n",
       "      <td>0.1648</td>\n",
       "      <td>232.9470</td>\n",
       "      <td>2172.2911</td>\n",
       "    </tr>\n",
       "    <tr>\n",
       "      <th>CatBoostClassifier</th>\n",
       "      <td>0.0271</td>\n",
       "      <td>0.0959</td>\n",
       "      <td>19.0138</td>\n",
       "      <td>1193.6433</td>\n",
       "    </tr>\n",
       "    <tr>\n",
       "      <th>CatBoostRegressor</th>\n",
       "      <td>0.0267</td>\n",
       "      <td>0.0949</td>\n",
       "      <td>9.2403</td>\n",
       "      <td>209.8839</td>\n",
       "    </tr>\n",
       "    <tr>\n",
       "      <th>LGBMRanker</th>\n",
       "      <td>0.0150</td>\n",
       "      <td>0.0647</td>\n",
       "      <td>6092.7200</td>\n",
       "      <td>16133.8554</td>\n",
       "    </tr>\n",
       "  </tbody>\n",
       "</table>\n",
       "</div>"
      ],
      "text/plain": [
       "                    outsample  insample  time_elapsed_GPU(s)  time_elapsed(s)\n",
       "LGBMRegressor          0.0447    0.2677              23.8324          62.3275\n",
       "XGBRanker              0.0442    0.2021              67.5707         469.0444\n",
       "XGBRegressor           0.0440    0.2667              37.2466         445.6100\n",
       "LGBMClassifier         0.0305    0.2070             137.1966         301.8254\n",
       "XGBClassifier          0.0302    0.1648             232.9470        2172.2911\n",
       "CatBoostClassifier     0.0271    0.0959              19.0138        1193.6433\n",
       "CatBoostRegressor      0.0267    0.0949               9.2403         209.8839\n",
       "LGBMRanker             0.0150    0.0647            6092.7200       16133.8554"
      ]
     },
     "execution_count": 35,
     "metadata": {
      "tags": []
     },
     "output_type": "execute_result"
    }
   ],
   "source": [
    "results.sort_values(by=['outsample'], ascending=False)"
   ]
  },
  {
   "cell_type": "markdown",
   "metadata": {
    "id": "7252QtClsQAW"
   },
   "source": [
    "#### Metricas Classificacao "
   ]
  },
  {
   "cell_type": "code",
   "execution_count": null,
   "metadata": {
    "id": "YRSXHj6_sQAX"
   },
   "outputs": [],
   "source": [
    "preds = models[\"LGBMClassifier\"].predict(df_validation[features])"
   ]
  },
  {
   "cell_type": "code",
   "execution_count": null,
   "metadata": {
    "id": "4vQwIfzFsQAb",
    "outputId": "642692f6-2916-42c8-d73c-2eee174bbb10"
   },
   "outputs": [
    {
     "name": "stdout",
     "output_type": "stream",
     "text": [
      "              precision    recall  f1-score   support\n",
      "\n",
      "           0       0.27      0.28      0.28     21352\n",
      "           1       0.23      0.15      0.18     21363\n",
      "           2       0.27      0.36      0.31     21474\n",
      "           3       0.22      0.15      0.18     21362\n",
      "           4       0.27      0.35      0.30     21344\n",
      "\n",
      "    accuracy                           0.26    106895\n",
      "   macro avg       0.25      0.26      0.25    106895\n",
      "weighted avg       0.25      0.26      0.25    106895\n",
      "\n"
     ]
    },
    {
     "data": {
      "image/png": "[encoded data removed]",
      "text/plain": [
       "<Figure size 432x288 with 2 Axes>"
      ]
     },
     "metadata": {
      "needs_background": "light",
      "tags": []
     },
     "output_type": "display_data"
    }
   ],
   "source": [
    "evaluation.plot_confusion_matrix(lab_enc.fit_transform(df_validation[target]), preds/4)"
   ]
  },
  {
   "cell_type": "code",
   "execution_count": null,
   "metadata": {
    "id": "7nv-EAPjsQAe",
    "outputId": "21de7ec5-b14e-4eb5-84a5-a40ae9b8a7b6"
   },
   "outputs": [
    {
     "data": {
      "text/plain": [
       "array([[ 1.        , -0.81393351, -0.8942065 , -0.88654085,  0.78328667],\n",
       "       [-0.81393351,  1.        ,  0.80874765,  0.72378902, -0.89877694],\n",
       "       [-0.8942065 ,  0.80874765,  1.        ,  0.77462933, -0.90867348],\n",
       "       [-0.88654085,  0.72378902,  0.77462933,  1.        , -0.80042416],\n",
       "       [ 0.78328667, -0.89877694, -0.90867348, -0.80042416,  1.        ]])"
      ]
     },
     "execution_count": 121,
     "metadata": {
      "tags": []
     },
     "output_type": "execute_result"
    },
    {
     "data": {
      "image/png": "[encoded data removed]",
      "text/plain": [
       "<Figure size 432x288 with 1 Axes>"
      ]
     },
     "metadata": {
      "needs_background": "light",
      "tags": []
     },
     "output_type": "display_data"
    }
   ],
   "source": [
    "# The first and last class are highly correlated\n",
    "corrs=np.corrcoef(model.predict_proba(df_validation[features]).T)\n",
    "plt.imshow(corrs, vmin=-1, vmax=1, cmap=\"RdYlGn\")\n",
    "corrs"
   ]
  },
  {
   "cell_type": "code",
   "execution_count": null,
   "metadata": {
    "id": "1VRi61-hoRIr"
   },
   "outputs": [],
   "source": []
  },
  {
   "cell_type": "markdown",
   "metadata": {
    "id": "-SJLoP7I1ohf"
   },
   "source": [
    "## Falar sobre validação\n",
    "##  Random cross-validation will look much better than cross-validating by era\n",
    "\n",
    "Even for a simple linear model, taking a random shuffle reports a correlation of 4.3%, but a time series split reports a lower score of 3.4%"
   ]
  },
  {
   "cell_type": "code",
   "execution_count": 58,
   "metadata": {
    "id": "o3RmlgqB7Lt5"
   },
   "outputs": [],
   "source": [
    "from sklearn import (\n",
    "    feature_extraction, feature_selection, decomposition, linear_model,\n",
    "    model_selection, metrics, svm\n",
    ")"
   ]
  },
  {
   "cell_type": "code",
   "execution_count": 59,
   "metadata": {
    "id": "KNumZnBE1ohg"
   },
   "outputs": [],
   "source": [
    "crossvalidators = [\n",
    "    model_selection.KFold(5),\n",
    "    model_selection.KFold(5, shuffle=True),\n",
    "    model_selection.GroupKFold(5),\n",
    "    model_selection.TimeSeriesSplit(5)\n",
    "]"
   ]
  },
  {
   "cell_type": "code",
   "execution_count": 60,
   "metadata": {
    "id": "AlsoDtzA1ohj"
   },
   "outputs": [],
   "source": [
    "def correlation_score(y_true, y_pred):\n",
    "    return numpy.corrcoef(y_true, y_pred)[0,1]"
   ]
  },
  {
   "cell_type": "code",
   "execution_count": null,
   "metadata": {
    "id": "VBPvoDIF1ohn",
    "outputId": "cdc18e03-bafc-4e4d-a9db-d00394290c57"
   },
   "outputs": [
    {
     "name": "stdout",
     "output_type": "stream",
     "text": [
      "KFold(n_splits=5, random_state=None, shuffle=False)\n",
      "0.03658489467457003\n",
      "\n",
      "KFold(n_splits=5, random_state=None, shuffle=True)\n",
      "0.04360860798952288\n",
      "\n",
      "GroupKFold(n_splits=5)\n",
      "0.038069863851659315\n",
      "\n",
      "TimeSeriesSplit(max_train_size=None, n_splits=5)\n",
      "0.033943838232674675\n",
      "\n"
     ]
    }
   ],
   "source": [
    "for cv in crossvalidators:\n",
    "    print(cv)\n",
    "    print(np.mean(\n",
    "            model_selection.cross_val_score(\n",
    "            linear_model.LinearRegression(),\n",
    "            df[features],\n",
    "            df[target],\n",
    "            cv=cv,\n",
    "            n_jobs=1,\n",
    "            groups=eras,\n",
    "            scoring=metrics.make_scorer(correlation_score, greater_is_better=True)\n",
    "        )))\n",
    "    print()"
   ]
  },
  {
   "cell_type": "markdown",
   "metadata": {
    "id": "4xw8Gq5b65_h"
   },
   "source": [
    "## Eras can be more or less applicable to other eras\n",
    "You can test this be splitting the eras into blocks of 10, training on each block, and evaluating on each other block."
   ]
  },
  {
   "cell_type": "code",
   "execution_count": 68,
   "metadata": {
    "colab": {
     "base_uri": "https://localhost:8080/"
    },
    "id": "lRP2JsD365_j",
    "outputId": "10692f5b-ebc7-436c-a753-d118d96d3122"
   },
   "outputs": [
    {
     "data": {
      "text/plain": [
       "50     48186\n",
       "60     46831\n",
       "100    46107\n",
       "90     45609\n",
       "110    45070\n",
       "80     43971\n",
       "40     43439\n",
       "30     41101\n",
       "70     40403\n",
       "20     37444\n",
       "10     34600\n",
       "0      24515\n",
       "120     4532\n",
       "Name: era, dtype: int64"
      ]
     },
     "execution_count": 68,
     "metadata": {
      "tags": []
     },
     "output_type": "execute_result"
    }
   ],
   "source": [
    "eras10 = (eras // 10) * 10\n",
    "eras10.value_counts()"
   ]
  },
  {
   "cell_type": "code",
   "execution_count": 69,
   "metadata": {
    "colab": {
     "base_uri": "https://localhost:8080/"
    },
    "id": "WMg2JJd465_w",
    "outputId": "7cf9857e-2880-4c17-d0f9-16a78fad4118"
   },
   "outputs": [
    {
     "name": "stdout",
     "output_type": "stream",
     "text": [
      "0\n",
      "10\n",
      "20\n",
      "30\n",
      "40\n",
      "50\n",
      "60\n",
      "70\n",
      "80\n",
      "90\n",
      "100\n",
      "110\n"
     ]
    }
   ],
   "source": [
    "from sklearn.linear_model import LinearRegression\n",
    "results10 = []\n",
    "for train_era, tdf in df[eras10<120].groupby(eras10):\n",
    "    print(train_era)\n",
    "    model = linear_model.LinearRegression()\n",
    "    model.fit(tdf[features], tdf[target])\n",
    "    for test_era, tdf in df[eras10<120].groupby(eras10):\n",
    "        results10.append([\n",
    "            train_era,\n",
    "            test_era,\n",
    "            correlation_score(tdf[target], model.predict(tdf[features]))\n",
    "        ])"
   ]
  },
  {
   "cell_type": "code",
   "execution_count": 71,
   "metadata": {
    "colab": {
     "base_uri": "https://localhost:8080/",
     "height": 452
    },
    "id": "vEG2qekH65_4",
    "outputId": "071eb68f-ae1a-4684-84a5-f834b96fc7e8"
   },
   "outputs": [
    {
     "data": {
      "text/html": [
       "<div>\n",
       "<style scoped>\n",
       "    .dataframe tbody tr th:only-of-type {\n",
       "        vertical-align: middle;\n",
       "    }\n",
       "\n",
       "    .dataframe tbody tr th {\n",
       "        vertical-align: top;\n",
       "    }\n",
       "\n",
       "    .dataframe thead th {\n",
       "        text-align: right;\n",
       "    }\n",
       "</style>\n",
       "<table border=\"1\" class=\"dataframe\">\n",
       "  <thead>\n",
       "    <tr style=\"text-align: right;\">\n",
       "      <th>test_era</th>\n",
       "      <th>0</th>\n",
       "      <th>10</th>\n",
       "      <th>20</th>\n",
       "      <th>30</th>\n",
       "      <th>40</th>\n",
       "      <th>50</th>\n",
       "      <th>60</th>\n",
       "      <th>70</th>\n",
       "      <th>80</th>\n",
       "      <th>90</th>\n",
       "      <th>100</th>\n",
       "      <th>110</th>\n",
       "    </tr>\n",
       "    <tr>\n",
       "      <th>train_era</th>\n",
       "      <th></th>\n",
       "      <th></th>\n",
       "      <th></th>\n",
       "      <th></th>\n",
       "      <th></th>\n",
       "      <th></th>\n",
       "      <th></th>\n",
       "      <th></th>\n",
       "      <th></th>\n",
       "      <th></th>\n",
       "      <th></th>\n",
       "      <th></th>\n",
       "    </tr>\n",
       "  </thead>\n",
       "  <tbody>\n",
       "    <tr>\n",
       "      <th>0</th>\n",
       "      <td>0.1462</td>\n",
       "      <td>0.0330</td>\n",
       "      <td>0.0345</td>\n",
       "      <td>0.0297</td>\n",
       "      <td>0.0216</td>\n",
       "      <td>0.0075</td>\n",
       "      <td>-0.0004</td>\n",
       "      <td>0.0318</td>\n",
       "      <td>0.0274</td>\n",
       "      <td>0.0316</td>\n",
       "      <td>0.0190</td>\n",
       "      <td>0.0006</td>\n",
       "    </tr>\n",
       "    <tr>\n",
       "      <th>10</th>\n",
       "      <td>0.0427</td>\n",
       "      <td>0.1153</td>\n",
       "      <td>0.0294</td>\n",
       "      <td>0.0299</td>\n",
       "      <td>0.0330</td>\n",
       "      <td>0.0055</td>\n",
       "      <td>0.0078</td>\n",
       "      <td>0.0233</td>\n",
       "      <td>0.0205</td>\n",
       "      <td>0.0301</td>\n",
       "      <td>0.0205</td>\n",
       "      <td>0.0145</td>\n",
       "    </tr>\n",
       "    <tr>\n",
       "      <th>20</th>\n",
       "      <td>0.0421</td>\n",
       "      <td>0.0343</td>\n",
       "      <td>0.1131</td>\n",
       "      <td>0.0368</td>\n",
       "      <td>0.0163</td>\n",
       "      <td>0.0060</td>\n",
       "      <td>-0.0016</td>\n",
       "      <td>0.0195</td>\n",
       "      <td>0.0118</td>\n",
       "      <td>0.0265</td>\n",
       "      <td>0.0216</td>\n",
       "      <td>0.0090</td>\n",
       "    </tr>\n",
       "    <tr>\n",
       "      <th>30</th>\n",
       "      <td>0.0368</td>\n",
       "      <td>0.0342</td>\n",
       "      <td>0.0394</td>\n",
       "      <td>0.1101</td>\n",
       "      <td>0.0399</td>\n",
       "      <td>0.0214</td>\n",
       "      <td>0.0157</td>\n",
       "      <td>0.0330</td>\n",
       "      <td>0.0259</td>\n",
       "      <td>0.0356</td>\n",
       "      <td>0.0130</td>\n",
       "      <td>0.0080</td>\n",
       "    </tr>\n",
       "    <tr>\n",
       "      <th>40</th>\n",
       "      <td>0.0344</td>\n",
       "      <td>0.0417</td>\n",
       "      <td>0.0200</td>\n",
       "      <td>0.0403</td>\n",
       "      <td>0.1000</td>\n",
       "      <td>0.0151</td>\n",
       "      <td>0.0082</td>\n",
       "      <td>0.0280</td>\n",
       "      <td>0.0227</td>\n",
       "      <td>0.0289</td>\n",
       "      <td>0.0117</td>\n",
       "      <td>0.0154</td>\n",
       "    </tr>\n",
       "    <tr>\n",
       "      <th>50</th>\n",
       "      <td>0.0155</td>\n",
       "      <td>0.0107</td>\n",
       "      <td>0.0069</td>\n",
       "      <td>0.0248</td>\n",
       "      <td>0.0157</td>\n",
       "      <td>0.1051</td>\n",
       "      <td>0.0129</td>\n",
       "      <td>0.0116</td>\n",
       "      <td>0.0050</td>\n",
       "      <td>0.0189</td>\n",
       "      <td>0.0134</td>\n",
       "      <td>0.0170</td>\n",
       "    </tr>\n",
       "    <tr>\n",
       "      <th>60</th>\n",
       "      <td>0.0065</td>\n",
       "      <td>0.0154</td>\n",
       "      <td>0.0035</td>\n",
       "      <td>0.0193</td>\n",
       "      <td>0.0124</td>\n",
       "      <td>0.0112</td>\n",
       "      <td>0.1015</td>\n",
       "      <td>0.0131</td>\n",
       "      <td>0.0089</td>\n",
       "      <td>-0.0027</td>\n",
       "      <td>0.0071</td>\n",
       "      <td>0.0120</td>\n",
       "    </tr>\n",
       "    <tr>\n",
       "      <th>70</th>\n",
       "      <td>0.0350</td>\n",
       "      <td>0.0259</td>\n",
       "      <td>0.0225</td>\n",
       "      <td>0.0284</td>\n",
       "      <td>0.0233</td>\n",
       "      <td>0.0022</td>\n",
       "      <td>0.0087</td>\n",
       "      <td>0.1211</td>\n",
       "      <td>0.0284</td>\n",
       "      <td>0.0301</td>\n",
       "      <td>0.0167</td>\n",
       "      <td>0.0036</td>\n",
       "    </tr>\n",
       "    <tr>\n",
       "      <th>80</th>\n",
       "      <td>0.0396</td>\n",
       "      <td>0.0263</td>\n",
       "      <td>0.0107</td>\n",
       "      <td>0.0220</td>\n",
       "      <td>0.0173</td>\n",
       "      <td>0.0025</td>\n",
       "      <td>0.0053</td>\n",
       "      <td>0.0285</td>\n",
       "      <td>0.1040</td>\n",
       "      <td>0.0284</td>\n",
       "      <td>0.0157</td>\n",
       "      <td>0.0062</td>\n",
       "    </tr>\n",
       "    <tr>\n",
       "      <th>90</th>\n",
       "      <td>0.0332</td>\n",
       "      <td>0.0291</td>\n",
       "      <td>0.0235</td>\n",
       "      <td>0.0316</td>\n",
       "      <td>0.0199</td>\n",
       "      <td>0.0108</td>\n",
       "      <td>-0.0052</td>\n",
       "      <td>0.0269</td>\n",
       "      <td>0.0225</td>\n",
       "      <td>0.1127</td>\n",
       "      <td>0.0163</td>\n",
       "      <td>0.0093</td>\n",
       "    </tr>\n",
       "    <tr>\n",
       "      <th>100</th>\n",
       "      <td>0.0265</td>\n",
       "      <td>0.0183</td>\n",
       "      <td>0.0213</td>\n",
       "      <td>0.0097</td>\n",
       "      <td>0.0071</td>\n",
       "      <td>0.0128</td>\n",
       "      <td>0.0081</td>\n",
       "      <td>0.0198</td>\n",
       "      <td>0.0106</td>\n",
       "      <td>0.0187</td>\n",
       "      <td>0.0998</td>\n",
       "      <td>0.0149</td>\n",
       "    </tr>\n",
       "    <tr>\n",
       "      <th>110</th>\n",
       "      <td>0.0021</td>\n",
       "      <td>0.0182</td>\n",
       "      <td>0.0091</td>\n",
       "      <td>0.0070</td>\n",
       "      <td>0.0151</td>\n",
       "      <td>0.0164</td>\n",
       "      <td>0.0114</td>\n",
       "      <td>0.0060</td>\n",
       "      <td>0.0079</td>\n",
       "      <td>0.0169</td>\n",
       "      <td>0.0130</td>\n",
       "      <td>0.0939</td>\n",
       "    </tr>\n",
       "  </tbody>\n",
       "</table>\n",
       "</div>"
      ],
      "text/plain": [
       "test_era      0       10      20      30   ...     80      90      100     110\n",
       "train_era                                  ...                                \n",
       "0          0.1462  0.0330  0.0345  0.0297  ...  0.0274  0.0316  0.0190  0.0006\n",
       "10         0.0427  0.1153  0.0294  0.0299  ...  0.0205  0.0301  0.0205  0.0145\n",
       "20         0.0421  0.0343  0.1131  0.0368  ...  0.0118  0.0265  0.0216  0.0090\n",
       "30         0.0368  0.0342  0.0394  0.1101  ...  0.0259  0.0356  0.0130  0.0080\n",
       "40         0.0344  0.0417  0.0200  0.0403  ...  0.0227  0.0289  0.0117  0.0154\n",
       "50         0.0155  0.0107  0.0069  0.0248  ...  0.0050  0.0189  0.0134  0.0170\n",
       "60         0.0065  0.0154  0.0035  0.0193  ...  0.0089 -0.0027  0.0071  0.0120\n",
       "70         0.0350  0.0259  0.0225  0.0284  ...  0.0284  0.0301  0.0167  0.0036\n",
       "80         0.0396  0.0263  0.0107  0.0220  ...  0.1040  0.0284  0.0157  0.0062\n",
       "90         0.0332  0.0291  0.0235  0.0316  ...  0.0225  0.1127  0.0163  0.0093\n",
       "100        0.0265  0.0183  0.0213  0.0097  ...  0.0106  0.0187  0.0998  0.0149\n",
       "110        0.0021  0.0182  0.0091  0.0070  ...  0.0079  0.0169  0.0130  0.0939\n",
       "\n",
       "[12 rows x 12 columns]"
      ]
     },
     "execution_count": 71,
     "metadata": {
      "tags": []
     },
     "output_type": "execute_result"
    }
   ],
   "source": [
    "results_df = pd.DataFrame(\n",
    "    results10,\n",
    "    columns=[\"train_era\", \"test_era\", \"score\"]\n",
    ").pivot(index=\"train_era\", columns=\"test_era\", values=\"score\")\n",
    "results_df"
   ]
  },
  {
   "cell_type": "code",
   "execution_count": 78,
   "metadata": {
    "colab": {
     "base_uri": "https://localhost:8080/",
     "height": 611
    },
    "id": "hq5QJS6i65_8",
    "outputId": "e8534025-f515-4bb8-d49b-2a841add3504"
   },
   "outputs": [
    {
     "data": {
      "text/plain": [
       "<matplotlib.image.AxesImage at 0x7fd6dfe82278>"
      ]
     },
     "execution_count": 78,
     "metadata": {
      "tags": []
     },
     "output_type": "execute_result"
    },
    {
     "data": {
      "image/png": "[encoded data removed]",
      "text/plain": [
       "<Figure size 720x720 with 1 Axes>"
      ]
     },
     "metadata": {
      "tags": []
     },
     "output_type": "display_data"
    }
   ],
   "source": [
    "# Each row here is the training block of eras, each column is a testing block of eras.\n",
    "# Note that there is a period in the middle that does not seem to be relevant to other eras, and the\n",
    "#  overall performance seems to decrease a bit over time.\n",
    "plt.figure(figsize=(10,10))\n",
    "plt.imshow(results_df, vmin=-0.04, vmax=0.04, cmap=\"RdYlGn\")\n"
   ]
  },
  {
   "cell_type": "markdown",
   "metadata": {
    "id": "7mDR-Doh65__",
    "pycharm": {
     "name": "#%% md\n"
    }
   },
   "source": [
    "Here is an advanced paper that talks about generalization.\n",
    "Eras can be thought about in the same way that \"distributions\" or \"environments\" are talked about here\n",
    "https://arxiv.org/pdf/1907.02893.pdf"
   ]
  },
  {
   "cell_type": "markdown",
   "metadata": {
    "id": "ZWN9Rw1P2pOy"
   },
   "source": [
    "# NR_RIO"
   ]
  },
  {
   "cell_type": "markdown",
   "metadata": {
    "id": "FRexEiewzlSo"
   },
   "source": [
    "falar brevemente e e mostrar os resultados\n",
    "\n",
    "\n",
    "falar tbm dos dataset de validacaoe  tournament, usar a ia"
   ]
  },
  {
   "cell_type": "markdown",
   "metadata": {
    "id": "3BudX8opzRTO"
   },
   "source": [
    "# Create Slides"
   ]
  },
  {
   "cell_type": "code",
   "execution_count": null,
   "metadata": {},
   "outputs": [],
   "source": [
    "!jupyter nbconvert Cap1_intro.ipynb --to slides --template output_toggle  --SlidesExporter.reveal_scroll=True --SlidesExporter.reveal_theme=white #--post serve"
   ]
  },
  {
   "cell_type": "code",
   "execution_count": null,
   "metadata": {},
   "outputs": [],
   "source": [
    "#configuração da dimensões da tela de apresentação\n",
    "from notebook.services.config import ConfigManager\n",
    "cm = ConfigManager()\n",
    "\n",
    "#defina as dimensões da apresentação.\n",
    "cm.update('livereveal', {\n",
    "              'width': 1024,\n",
    "              'height': 768,\n",
    "              'scroll': True,\n",
    "              'transition': 'slide',\n",
    "              \"theme\": \"white\",\n",
    "               \"autolaunch\": False\n",
    "         })\n",
    "\n",
    "\n",
    "#\"rise\": {\"enable_chalkboard\": True}\n",
    "# themes path /Users/nicholasrichers/Documents/virtualenvs/numerai_env/share/jupyter/nbextensions/rise/reveal.js/css/theme"
   ]
  },
  {
   "cell_type": "code",
   "execution_count": null,
   "metadata": {},
   "outputs": [],
   "source": [
    "#df_training.iloc[0:2,0:2].to_markdown()"
   ]
  }
 ],
 "metadata": {
  "celltoolbar": "Slideshow",
  "colab": {
   "collapsed_sections": [],
   "machine_shape": "hm",
   "name": "NR__Rio",
   "provenance": [],
   "toc_visible": true
  },
  "hide_input": false,
  "kernelspec": {
   "display_name": "Python 3",
   "language": "python",
   "name": "python3"
  },
  "language_info": {
   "codemirror_mode": {
    "name": "ipython",
    "version": 3
   },
   "file_extension": ".py",
   "mimetype": "text/x-python",
   "name": "python",
   "nbconvert_exporter": "python",
   "pygments_lexer": "ipython3",
   "version": "3.8.3"
  },
  "latex_envs": {
   "LaTeX_envs_menu_present": true,
   "autoclose": true,
   "autocomplete": true,
   "bibliofile": "biblio.bib",
   "cite_by": "apalike",
   "current_citInitial": 1,
   "eqLabelWithNumbers": true,
   "eqNumInitial": 1,
   "hotkeys": {
    "equation": "Ctrl-E",
    "itemize": "Ctrl-I"
   },
   "labels_anchors": false,
   "latex_user_defs": false,
   "report_style_numbering": true,
   "user_envs_cfg": true
  },
  "toc": {
   "base_numbering": 1,
   "nav_menu": {},
   "number_sections": true,
   "sideBar": true,
   "skip_h1_title": false,
   "title_cell": "Table of Contents",
   "title_sidebar": "Contents",
   "toc_cell": false,
   "toc_position": {},
   "toc_section_display": true,
   "toc_window_display": false
  },
  "varInspector": {
   "cols": {
    "lenName": 16,
    "lenType": 16,
    "lenVar": 40
   },
   "kernels_config": {
    "python": {
     "delete_cmd_postfix": "",
     "delete_cmd_prefix": "del ",
     "library": "var_list.py",
     "varRefreshCmd": "print(var_dic_list())"
    },
    "r": {
     "delete_cmd_postfix": ") ",
     "delete_cmd_prefix": "rm(",
     "library": "var_list.r",
     "varRefreshCmd": "cat(var_dic_list()) "
    }
   },
   "types_to_exclude": [
    "module",
    "function",
    "builtin_function_or_method",
    "instance",
    "_Feature"
   ],
   "window_display": false
  }
 },
 "nbformat": 4,
 "nbformat_minor": 4
}
