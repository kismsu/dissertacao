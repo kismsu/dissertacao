{
 "cells": [
  {
   "cell_type": "code",
   "execution_count": null,
   "metadata": {},
   "outputs": [],
   "source": [
    "%load_ext autoreload\n",
    "%autoreload 2"
   ]
  },
  {
   "cell_type": "code",
   "execution_count": 19,
   "metadata": {},
   "outputs": [],
   "source": [
    "#basics\n",
    "import sys,os\n",
    "\n",
    "#utils\n",
    "import paths\n",
    "\n",
    "#main libraries\n",
    "import pandas as pd\n",
    "\n",
    "#model Libraries\n",
    "from sklearn import utils\n",
    "from sklearn import preprocessing\n",
    "\n",
    "from sklearn.model_selection import RandomizedSearchCV\n",
    "from sklearn.model_selection import GroupKFold\n",
    "\n",
    "from sklearn.ensemble import RandomForestClassifier\n",
    "from sklearn.ensemble import RandomForestRegressor\n",
    "\n",
    "from sklearn.metrics import make_scorer\n",
    "from sklearn.metrics import roc_auc_score\n",
    "from sklearn.metrics import mean_squared_error"
   ]
  },
  {
   "cell_type": "code",
   "execution_count": 3,
   "metadata": {},
   "outputs": [],
   "source": [
    "#private modules \n",
    "#data\n",
    "from src.data import make_dataset\n",
    "\n",
    "#utils\n",
    "from src.utils import memory_usage\n",
    "\n",
    "#model\n",
    "from src.models import train_model\n",
    "from src.models import evaluation"
   ]
  },
  {
   "cell_type": "code",
   "execution_count": 25,
   "metadata": {},
   "outputs": [
    {
     "name": "stdout",
     "output_type": "stream",
     "text": [
      "<class 'pandas.core.frame.DataFrame'>\n",
      "RangeIndex: 50000 entries, 0 to 49999\n",
      "Columns: 314 entries, id to target_kazutsugi\n",
      "dtypes: float64(311), int32(1), object(2)\n",
      "memory usage: 119.6+ MB\n",
      "None\n",
      "CPU times: user 3.63 s, sys: 689 ms, total: 4.32 s\n",
      "Wall time: 11.3 s\n"
     ]
    }
   ],
   "source": [
    "%%time\n",
    "df_training,features,target = make_dataset.get_data(nrows=50000, low_memory=False, dataset=\"training\")"
   ]
  },
  {
   "cell_type": "code",
   "execution_count": 5,
   "metadata": {},
   "outputs": [
    {
     "name": "stdout",
     "output_type": "stream",
     "text": [
      "CPU times: user 3 µs, sys: 0 ns, total: 3 µs\n",
      "Wall time: 7.15 µs\n"
     ]
    }
   ],
   "source": [
    "%%time\n",
    "#df_tournament,features,target = make_dataset.get_data(nrows=5000, low_memory=False, dataset=\"tournament\")"
   ]
  },
  {
   "cell_type": "code",
   "execution_count": 6,
   "metadata": {},
   "outputs": [],
   "source": [
    "#encoding target to multiclass\n",
    "lab_enc = preprocessing.LabelEncoder()\n",
    "encoded_target_train = lab_enc.fit_transform(df_training[target])\n",
    "#encoded_target_tournament = lab_enc.fit_transform(df_tournament[target])"
   ]
  },
  {
   "cell_type": "code",
   "execution_count": 39,
   "metadata": {},
   "outputs": [
    {
     "name": "stdout",
     "output_type": "stream",
     "text": [
      "Available memory (%): 24.791336059570312\n"
     ]
    }
   ],
   "source": [
    "memory_usage.memory()"
   ]
  },
  {
   "cell_type": "code",
   "execution_count": 8,
   "metadata": {},
   "outputs": [],
   "source": [
    "results, res_cv = list(), dict()"
   ]
  },
  {
   "cell_type": "code",
   "execution_count": 38,
   "metadata": {},
   "outputs": [
    {
     "name": "stdout",
     "output_type": "stream",
     "text": [
      "==> Starting K-fold cross validation for rf model, 50000 examples\n",
      "Fitting 3 folds for each of 1 candidates, totalling 3 fits\n"
     ]
    },
    {
     "name": "stderr",
     "output_type": "stream",
     "text": [
      "[Parallel(n_jobs=-1)]: Using backend LokyBackend with 4 concurrent workers.\n",
      "[Parallel(n_jobs=-1)]: Done   3 out of   3 | elapsed:    7.8s remaining:    0.0s\n",
      "[Parallel(n_jobs=-1)]: Done   3 out of   3 | elapsed:    7.8s finished\n"
     ]
    },
    {
     "name": "stdout",
     "output_type": "stream",
     "text": [
      "==> Elapsed seconds: 11.933\n",
      "Best rf model: RandomForestClassifier(n_estimators=10)\n",
      "Best rf score (val): 0.532\n"
     ]
    }
   ],
   "source": [
    "rf_param_grid =  {\n",
    "    'rf__n_estimators' : [10],\n",
    "}\n",
    "\n",
    "\n",
    "#encoding target to multiclass\n",
    "lab_enc = preprocessing.LabelEncoder()\n",
    "encoded_target_train = lab_enc.fit_transform(df_training[target])\n",
    "\n",
    "\n",
    "#Group K-fold\n",
    "CV = GroupKFold(n_splits = 3)\n",
    "grp = list(CV.split(X = df_training[features], y = df_training[target],  groups = df_training.era.values))\n",
    "\n",
    "\n",
    "#scorer function\n",
    "scorer = make_scorer(roc_auc_score, multi_class='ovr', needs_proba=True)\n",
    "\n",
    "result = evaluation.evaluate_model(df_training[features], encoded_target_train,\n",
    "                                   RandomForestClassifier(), 'rf',\n",
    "                                   rf_param_grid, \n",
    "                                   scorer, \n",
    "                                   n_iter=1, \n",
    "                                   cv_folds=grp,\n",
    "                                   pipeline=None)\n",
    "\n",
    "results.append(result)\n",
    "res_cv[result[1]] = evaluation.get_cv_scores(result[0])"
   ]
  },
  {
   "cell_type": "code",
   "execution_count": 40,
   "metadata": {},
   "outputs": [
    {
     "name": "stdout",
     "output_type": "stream",
     "text": [
      "==> Starting K-fold cross validation for rf model, 50000 examples\n",
      "Fitting 3 folds for each of 2 candidates, totalling 6 fits\n"
     ]
    },
    {
     "name": "stderr",
     "output_type": "stream",
     "text": [
      "[Parallel(n_jobs=-1)]: Using backend LokyBackend with 4 concurrent workers.\n",
      "[Parallel(n_jobs=-1)]: Done   3 out of   6 | elapsed:  1.3min remaining:  1.3min\n",
      "[Parallel(n_jobs=-1)]: Done   6 out of   6 | elapsed:  2.8min finished\n"
     ]
    },
    {
     "name": "stdout",
     "output_type": "stream",
     "text": [
      "==> Elapsed seconds: 229.635\n",
      "Best rf model: RandomForestRegressor(n_estimators=10)\n",
      "Best rf score (val): 2.273\n"
     ]
    }
   ],
   "source": [
    "rf_param_grid =  {\n",
    "    #'rf__bootstrap' : [True, False],\n",
    "    #'rf__ccp_alpha' : 0.0, \n",
    "    #'rf__class_weight': [None, {0:1,1:1}, {0:1,1:10}, {0:1,1:100}, 'balanced'],\n",
    "    #'rf__criterion' : 'gini', \n",
    "    #'rf__max_depth' : [10, 20, 30, 40, 50, 60, 70, 80, 90, 100, None], \n",
    "    #'rf__max_features' : ['auto', 'sqrt'],\n",
    "    #'rf__max_leaf_nodes' : None,\n",
    "    #'rf__max_samples' : None,\n",
    "    #'rf__min_impurity_decrease' : 0.0, \n",
    "    #'rf__min_impurity_split' : None,\n",
    "    #'rf__min_samples_leaf' : [1, 2, 4],\n",
    "    #'rf__min_samples_split' : [2, 5, 10],\n",
    "    #'rf__min_weight_fraction_leaf' : 0.0, \n",
    "    'rf__n_estimators' : [10, 20],#, 200, 400, 600, 800, 1000, 1200, 1400, 1600, 1800, 2000],\n",
    "    #'rf__oob_score' : False, \n",
    "    #'rf__random_state' : None,\n",
    "    #'rf__verbose' : 0, \n",
    "    #'rf__warm_start' : False\n",
    "}\n",
    "\n",
    "\n",
    "scorer = make_scorer(mean_squared_error)\n",
    "\n",
    "result = evaluation.evaluate_model(df_training[features], encoded_target_train,\n",
    "                                   RandomForestRegressor(), 'rf',\n",
    "                                   rf_param_grid, \n",
    "                                   scorer, n_iter=2, \n",
    "                                   cv_folds=grp, pipeline=None)\n",
    "\n",
    "results.append(result)\n",
    "res_cv[result[1]] = evaluation.get_cv_scores(result[0])"
   ]
  },
  {
   "cell_type": "code",
   "execution_count": 11,
   "metadata": {},
   "outputs": [],
   "source": [
    "model_result = list(filter(lambda x: x[1] == 'rf', results))[0]\n",
    "model = model_result[0]"
   ]
  },
  {
   "cell_type": "code",
   "execution_count": 13,
   "metadata": {},
   "outputs": [
    {
     "name": "stdout",
     "output_type": "stream",
     "text": [
      "CPU times: user 416 ms, sys: 20.6 ms, total: 436 ms\n",
      "Wall time: 171 ms\n"
     ]
    }
   ],
   "source": [
    "%%time\n",
    "from joblib import parallel_backend\n",
    "\n",
    "with parallel_backend('threading', n_jobs=-1):\n",
    "    # Train the model\n",
    "    model = RandomForestClassifier(n_estimators=10, n_jobs=-1)\n",
    "    model.fit(df_training[features], encoded_target_train)\n",
    "    # Test the model\n",
    "    #y_pred = clf.predict(X_test)\n"
   ]
  },
  {
   "cell_type": "code",
   "execution_count": null,
   "metadata": {},
   "outputs": [],
   "source": []
  },
  {
   "cell_type": "code",
   "execution_count": null,
   "metadata": {},
   "outputs": [],
   "source": [
    "#### ALL ABOUT NUMEROX e metricas"
   ]
  },
  {
   "cell_type": "code",
   "execution_count": null,
   "metadata": {},
   "outputs": [],
   "source": []
  },
  {
   "cell_type": "code",
   "execution_count": null,
   "metadata": {},
   "outputs": [],
   "source": []
  },
  {
   "cell_type": "code",
   "execution_count": null,
   "metadata": {},
   "outputs": [],
   "source": []
  },
  {
   "cell_type": "code",
   "execution_count": null,
   "metadata": {},
   "outputs": [],
   "source": []
  }
 ],
 "metadata": {
  "kernelspec": {
   "display_name": "Python 3",
   "language": "python",
   "name": "python3"
  },
  "language_info": {
   "codemirror_mode": {
    "name": "ipython",
    "version": 3
   },
   "file_extension": ".py",
   "mimetype": "text/x-python",
   "name": "python",
   "nbconvert_exporter": "python",
   "pygments_lexer": "ipython3",
   "version": "3.8.3"
  }
 },
 "nbformat": 4,
 "nbformat_minor": 4
}
