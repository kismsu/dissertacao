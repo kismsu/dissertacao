{
 "cells": [
  {
   "cell_type": "code",
   "execution_count": 1,
   "metadata": {},
   "outputs": [],
   "source": [
    "%load_ext autoreload\n",
    "%autoreload 2"
   ]
  },
  {
   "cell_type": "code",
   "execution_count": 2,
   "metadata": {},
   "outputs": [],
   "source": [
    "#basics\n",
    "import sys,os\n",
    "\n",
    "#utils\n",
    "import paths\n",
    "\n",
    "#main libraries\n",
    "import pandas as pd\n",
    "\n",
    "#model Libraries\n",
    "from sklearn import utils\n",
    "from sklearn import preprocessing\n",
    "\n",
    "from sklearn.model_selection import RandomizedSearchCV\n",
    "from sklearn.model_selection import GroupKFold\n",
    "\n",
    "from sklearn.ensemble import RandomForestClassifier\n",
    "from sklearn.ensemble import RandomForestRegressor\n",
    "\n",
    "from sklearn.metrics import make_scorer\n",
    "from sklearn.metrics import roc_auc_score\n",
    "from sklearn.metrics import mean_squared_error"
   ]
  },
  {
   "cell_type": "code",
   "execution_count": 3,
   "metadata": {},
   "outputs": [],
   "source": [
    "#private modules \n",
    "#data\n",
    "from src.data import make_dataset\n",
    "\n",
    "#utils\n",
    "from src.utils import memory_usage\n",
    "\n",
    "#model\n",
    "from src.models import train_model\n",
    "from src.models import evaluation"
   ]
  },
  {
   "cell_type": "code",
   "execution_count": 35,
   "metadata": {},
   "outputs": [
    {
     "name": "stdout",
     "output_type": "stream",
     "text": [
      "<class 'pandas.core.frame.DataFrame'>\n",
      "RangeIndex: 5000 entries, 0 to 4999\n",
      "Columns: 314 entries, id to target_kazutsugi\n",
      "dtypes: float64(311), int32(1), object(2)\n",
      "memory usage: 12.0+ MB\n",
      "None\n",
      "CPU times: user 888 ms, sys: 631 ms, total: 1.52 s\n",
      "Wall time: 24.1 s\n"
     ]
    }
   ],
   "source": [
    "%%time\n",
    "df_training,features,target = make_dataset.get_data(nrows=5000, low_memory=False, dataset=\"training\")"
   ]
  },
  {
   "cell_type": "code",
   "execution_count": null,
   "metadata": {},
   "outputs": [],
   "source": [
    "%%time\n",
    "#df_tournament,features,target = make_dataset.get_data(nrows=5000, low_memory=False, dataset=\"tournament\")"
   ]
  },
  {
   "cell_type": "code",
   "execution_count": 36,
   "metadata": {},
   "outputs": [],
   "source": [
    "#encoding target to multiclass\n",
    "lab_enc = preprocessing.LabelEncoder()\n",
    "encoded_target_train = lab_enc.fit_transform(df_training[target])\n",
    "#encoded_target_tournament = lab_enc.fit_transform(df_tournament[target])"
   ]
  },
  {
   "cell_type": "code",
   "execution_count": 37,
   "metadata": {},
   "outputs": [
    {
     "name": "stdout",
     "output_type": "stream",
     "text": [
      "Available memory (%): 21.953296661376953\n"
     ]
    }
   ],
   "source": [
    "memory_usage.memory()"
   ]
  },
  {
   "cell_type": "code",
   "execution_count": 38,
   "metadata": {},
   "outputs": [],
   "source": [
    "results, res_cv = list(), dict()"
   ]
  },
  {
   "cell_type": "code",
   "execution_count": 39,
   "metadata": {},
   "outputs": [
    {
     "name": "stdout",
     "output_type": "stream",
     "text": [
      "==> Starting [(array([2408, 2409, 2410, ..., 4997, 4998, 4999]), array([   0,    1,    2, ..., 2405, 2406, 2407])), (array([   0,    1,    2, ..., 4997, 4998, 4999]), array([2408, 2409, 2410, ..., 4776, 4777, 4778])), (array([   0,    1,    2, ..., 4776, 4777, 4778]), array([4779, 4780, 4781, 4782, 4783, 4784, 4785, 4786, 4787, 4788, 4789,\n",
      "       4790, 4791, 4792, 4793, 4794, 4795, 4796, 4797, 4798, 4799, 4800,\n",
      "       4801, 4802, 4803, 4804, 4805, 4806, 4807, 4808, 4809, 4810, 4811,\n",
      "       4812, 4813, 4814, 4815, 4816, 4817, 4818, 4819, 4820, 4821, 4822,\n",
      "       4823, 4824, 4825, 4826, 4827, 4828, 4829, 4830, 4831, 4832, 4833,\n",
      "       4834, 4835, 4836, 4837, 4838, 4839, 4840, 4841, 4842, 4843, 4844,\n",
      "       4845, 4846, 4847, 4848, 4849, 4850, 4851, 4852, 4853, 4854, 4855,\n",
      "       4856, 4857, 4858, 4859, 4860, 4861, 4862, 4863, 4864, 4865, 4866,\n",
      "       4867, 4868, 4869, 4870, 4871, 4872, 4873, 4874, 4875, 4876, 4877,\n",
      "       4878, 4879, 4880, 4881, 4882, 4883, 4884, 4885, 4886, 4887, 4888,\n",
      "       4889, 4890, 4891, 4892, 4893, 4894, 4895, 4896, 4897, 4898, 4899,\n",
      "       4900, 4901, 4902, 4903, 4904, 4905, 4906, 4907, 4908, 4909, 4910,\n",
      "       4911, 4912, 4913, 4914, 4915, 4916, 4917, 4918, 4919, 4920, 4921,\n",
      "       4922, 4923, 4924, 4925, 4926, 4927, 4928, 4929, 4930, 4931, 4932,\n",
      "       4933, 4934, 4935, 4936, 4937, 4938, 4939, 4940, 4941, 4942, 4943,\n",
      "       4944, 4945, 4946, 4947, 4948, 4949, 4950, 4951, 4952, 4953, 4954,\n",
      "       4955, 4956, 4957, 4958, 4959, 4960, 4961, 4962, 4963, 4964, 4965,\n",
      "       4966, 4967, 4968, 4969, 4970, 4971, 4972, 4973, 4974, 4975, 4976,\n",
      "       4977, 4978, 4979, 4980, 4981, 4982, 4983, 4984, 4985, 4986, 4987,\n",
      "       4988, 4989, 4990, 4991, 4992, 4993, 4994, 4995, 4996, 4997, 4998,\n",
      "       4999]))]-fold cross validation for rf model, 5000 examples\n",
      "Fitting 3 folds for each of 1 candidates, totalling 3 fits\n"
     ]
    },
    {
     "name": "stderr",
     "output_type": "stream",
     "text": [
      "[Parallel(n_jobs=-1)]: Using backend LokyBackend with 4 concurrent workers.\n",
      "[Parallel(n_jobs=-1)]: Done   3 out of   3 | elapsed:    3.8s remaining:    0.0s\n",
      "[Parallel(n_jobs=-1)]: Done   3 out of   3 | elapsed:    3.8s finished\n"
     ]
    },
    {
     "name": "stdout",
     "output_type": "stream",
     "text": [
      "==> Elapsed seconds: 4.377\n",
      "Best rf model: RandomForestClassifier(n_estimators=10)\n",
      "Best rf score (val): 0.536\n"
     ]
    }
   ],
   "source": [
    "rf_param_grid =  {\n",
    "    'rf__n_estimators' : [10],\n",
    "}\n",
    "\n",
    "\n",
    "#encoding target to multiclass\n",
    "lab_enc = preprocessing.LabelEncoder()\n",
    "encoded_target_train = lab_enc.fit_transform(df_training[target])\n",
    "\n",
    "\n",
    "#Group K-fold\n",
    "CV = GroupKFold(n_splits = 3)\n",
    "grp = list(CV.split(X = df_training[features], y = df_training[target],  groups = df_training.era.values))\n",
    "\n",
    "\n",
    "#scorer function\n",
    "scorer = make_scorer(roc_auc_score, multi_class='ovr', needs_proba=True)\n",
    "\n",
    "result = evaluation.evaluate_model(df_training[features], encoded_target_train,\n",
    "                                   RandomForestClassifier(), 'rf',\n",
    "                                   rf_param_grid, \n",
    "                                   scorer, \n",
    "                                   n_iter=1, \n",
    "                                   cv_folds=grp,\n",
    "                                   pipeline=None)\n",
    "\n",
    "results.append(result)\n",
    "res_cv[result[1]] = evaluation.get_cv_scores(result[0])"
   ]
  },
  {
   "cell_type": "code",
   "execution_count": 45,
   "metadata": {},
   "outputs": [
    {
     "name": "stdout",
     "output_type": "stream",
     "text": [
      "==> Starting K-fold cross validation for rrf model, 5000 examples\n",
      "Fitting 3 folds for each of 2 candidates, totalling 6 fits\n"
     ]
    },
    {
     "name": "stderr",
     "output_type": "stream",
     "text": [
      "[Parallel(n_jobs=-1)]: Using backend LokyBackend with 4 concurrent workers.\n",
      "[Parallel(n_jobs=-1)]: Done   3 out of   6 | elapsed:    6.3s remaining:    6.3s\n",
      "[Parallel(n_jobs=-1)]: Done   6 out of   6 | elapsed:   12.0s finished\n"
     ]
    },
    {
     "name": "stdout",
     "output_type": "stream",
     "text": [
      "==> Elapsed seconds: 15.729\n",
      "Best rrf model: RandomForestRegressor(n_estimators=10)\n",
      "Best rrf score (val): 2.261\n"
     ]
    }
   ],
   "source": [
    "rf_param_grid =  {\n",
    "    #'rf__bootstrap' : [True, False],\n",
    "    #'rf__ccp_alpha' : 0.0, \n",
    "    #'rf__class_weight': [None, {0:1,1:1}, {0:1,1:10}, {0:1,1:100}, 'balanced'],\n",
    "    #'rf__criterion' : 'gini', \n",
    "    #'rf__max_depth' : [10, 20, 30, 40, 50, 60, 70, 80, 90, 100, None], \n",
    "    #'rf__max_features' : ['auto', 'sqrt'],\n",
    "    #'rf__max_leaf_nodes' : None,\n",
    "    #'rf__max_samples' : None,\n",
    "    #'rf__min_impurity_decrease' : 0.0, \n",
    "    #'rf__min_impurity_split' : None,\n",
    "    #'rf__min_samples_leaf' : [1, 2, 4],\n",
    "    #'rf__min_samples_split' : [2, 5, 10],\n",
    "    #'rf__min_weight_fraction_leaf' : 0.0, \n",
    "    'rrf__n_estimators' : [10, 20],#, 200, 400, 600, 800, 1000, 1200, 1400, 1600, 1800, 2000],\n",
    "    #'rf__oob_score' : False, \n",
    "    #'rf__random_state' : None,\n",
    "    #'rf__verbose' : 0, \n",
    "    #'rf__warm_start' : False\n",
    "}\n",
    "\n",
    "\n",
    "scorer = make_scorer(mean_squared_error)\n",
    "\n",
    "result = evaluation.evaluate_model(df_training[features], encoded_target_train,\n",
    "                                   RandomForestRegressor(), 'rrf',\n",
    "                                   rf_param_grid, \n",
    "                                   scorer, n_iter=2, \n",
    "                                   cv_folds=grp, pipeline=None)\n",
    "\n",
    "results.append(result)\n",
    "res_cv[result[1]] = evaluation.get_cv_scores(result[0])"
   ]
  },
  {
   "cell_type": "code",
   "execution_count": 40,
   "metadata": {},
   "outputs": [],
   "source": [
    "file_path = '../../models/rf-baseline.pkl'\n",
    "\n",
    "model = list(filter(lambda x: x[1] == 'rf', results))[0][0]\n",
    "model.save(file_path)"
   ]
  },
  {
   "cell_type": "code",
   "execution_count": 46,
   "metadata": {},
   "outputs": [
    {
     "data": {
      "image/png": "[encoded data removed]",
      "text/plain": [
       "<Figure size 432x288 with 1 Axes>"
      ]
     },
     "metadata": {
      "needs_background": "light"
     },
     "output_type": "display_data"
    }
   ],
   "source": [
    "import matplotlib.pyplot as plt\n",
    "%matplotlib inline\n",
    "\n",
    "_ = plt.boxplot(res_cv.values(), labels=res_cv.keys(), showmeans=True)"
   ]
  },
  {
   "cell_type": "code",
   "execution_count": null,
   "metadata": {},
   "outputs": [],
   "source": []
  },
  {
   "cell_type": "code",
   "execution_count": null,
   "metadata": {},
   "outputs": [],
   "source": []
  },
  {
   "cell_type": "code",
   "execution_count": null,
   "metadata": {},
   "outputs": [],
   "source": []
  },
  {
   "cell_type": "code",
   "execution_count": null,
   "metadata": {},
   "outputs": [],
   "source": [
    "#rascunho\n",
    "from joblib import dump, load\n",
    "dump(model.model, file_path)\n",
    "model23 = load(file_path)"
   ]
  },
  {
   "cell_type": "markdown",
   "metadata": {},
   "source": [
    "### 2a parte h20"
   ]
  },
  {
   "cell_type": "code",
   "execution_count": null,
   "metadata": {},
   "outputs": [],
   "source": [
    "#### ALL ABOUT eras Validacao, cv_results(boxplot) e metricas e h20"
   ]
  },
  {
   "cell_type": "code",
   "execution_count": 4,
   "metadata": {},
   "outputs": [],
   "source": [
    "import h2o\n",
    "from h2o.estimators.gbm import H2OGradientBoostingEstimator"
   ]
  },
  {
   "cell_type": "code",
   "execution_count": 5,
   "metadata": {},
   "outputs": [
    {
     "name": "stdout",
     "output_type": "stream",
     "text": [
      "Checking whether there is an H2O instance running at http://localhost:54321 ..... not found.\n",
      "Attempting to start a local H2O server...\n",
      "  Java Version: java version \"1.8.0_231\"; Java(TM) SE Runtime Environment (build 1.8.0_231-b11); Java HotSpot(TM) 64-Bit Server VM (build 25.231-b11, mixed mode)\n",
      "  Starting server from /Users/nicholasrichers/Documents/virtualenvs/numerai_env/lib/python3.8/site-packages/h2o/backend/bin/h2o.jar\n",
      "  Ice root: /var/folders/h3/qyfbykxs3jxflfr3kk8hdjcr0000gn/T/tmp9ufydwhi\n",
      "  JVM stdout: /var/folders/h3/qyfbykxs3jxflfr3kk8hdjcr0000gn/T/tmp9ufydwhi/h2o_nicholasrichers_started_from_python.out\n",
      "  JVM stderr: /var/folders/h3/qyfbykxs3jxflfr3kk8hdjcr0000gn/T/tmp9ufydwhi/h2o_nicholasrichers_started_from_python.err\n",
      "  Server is running at http://127.0.0.1:54321\n",
      "Connecting to H2O server at http://127.0.0.1:54321 ... successful.\n"
     ]
    },
    {
     "data": {
      "text/html": [
       "<div style=\"overflow:auto\"><table style=\"width:50%\"><tr><td>H2O_cluster_uptime:</td>\n",
       "<td>04 secs</td></tr>\n",
       "<tr><td>H2O_cluster_timezone:</td>\n",
       "<td>America/Sao_Paulo</td></tr>\n",
       "<tr><td>H2O_data_parsing_timezone:</td>\n",
       "<td>UTC</td></tr>\n",
       "<tr><td>H2O_cluster_version:</td>\n",
       "<td>3.30.1.1</td></tr>\n",
       "<tr><td>H2O_cluster_version_age:</td>\n",
       "<td>5 days </td></tr>\n",
       "<tr><td>H2O_cluster_name:</td>\n",
       "<td>H2O_from_python_nicholasrichers_g6cq06</td></tr>\n",
       "<tr><td>H2O_cluster_total_nodes:</td>\n",
       "<td>1</td></tr>\n",
       "<tr><td>H2O_cluster_free_memory:</td>\n",
       "<td>902 Mb</td></tr>\n",
       "<tr><td>H2O_cluster_total_cores:</td>\n",
       "<td>4</td></tr>\n",
       "<tr><td>H2O_cluster_allowed_cores:</td>\n",
       "<td>4</td></tr>\n",
       "<tr><td>H2O_cluster_status:</td>\n",
       "<td>accepting new members, healthy</td></tr>\n",
       "<tr><td>H2O_connection_url:</td>\n",
       "<td>http://127.0.0.1:54321</td></tr>\n",
       "<tr><td>H2O_connection_proxy:</td>\n",
       "<td>{\"http\": null, \"https\": null}</td></tr>\n",
       "<tr><td>H2O_internal_security:</td>\n",
       "<td>False</td></tr>\n",
       "<tr><td>H2O_API_Extensions:</td>\n",
       "<td>Amazon S3, XGBoost, Algos, AutoML, Core V3, TargetEncoder, Core V4</td></tr>\n",
       "<tr><td>Python_version:</td>\n",
       "<td>3.8.3 final</td></tr></table></div>"
      ],
      "text/plain": [
       "--------------------------  ------------------------------------------------------------------\n",
       "H2O_cluster_uptime:         04 secs\n",
       "H2O_cluster_timezone:       America/Sao_Paulo\n",
       "H2O_data_parsing_timezone:  UTC\n",
       "H2O_cluster_version:        3.30.1.1\n",
       "H2O_cluster_version_age:    5 days\n",
       "H2O_cluster_name:           H2O_from_python_nicholasrichers_g6cq06\n",
       "H2O_cluster_total_nodes:    1\n",
       "H2O_cluster_free_memory:    902 Mb\n",
       "H2O_cluster_total_cores:    4\n",
       "H2O_cluster_allowed_cores:  4\n",
       "H2O_cluster_status:         accepting new members, healthy\n",
       "H2O_connection_url:         http://127.0.0.1:54321\n",
       "H2O_connection_proxy:       {\"http\": null, \"https\": null}\n",
       "H2O_internal_security:      False\n",
       "H2O_API_Extensions:         Amazon S3, XGBoost, Algos, AutoML, Core V3, TargetEncoder, Core V4\n",
       "Python_version:             3.8.3 final\n",
       "--------------------------  ------------------------------------------------------------------"
      ]
     },
     "metadata": {},
     "output_type": "display_data"
    }
   ],
   "source": [
    "h2o.init()"
   ]
  },
  {
   "cell_type": "code",
   "execution_count": 9,
   "metadata": {},
   "outputs": [],
   "source": [
    "train_path = \"https://numerai-public-datasets.s3-us-west-2.amazonaws.com/latest_numerai_training_data.csv.xz\"\n",
    "tournament_path = \"https://numerai-public-datasets.s3-us-west-2.amazonaws.com/latest_numerai_tournament_data.csv.xz\"\n",
    "\n",
    "response = \"target_kazutsugi\"\n",
    "file_path = '../../data/raw/numerai_training_data.csv'\n",
    "tournament_path = '../../data/raw/numerai_tournament_data.csv'"
   ]
  },
  {
   "cell_type": "code",
   "execution_count": 14,
   "metadata": {},
   "outputs": [
    {
     "name": "stdout",
     "output_type": "stream",
     "text": [
      "Parse progress: |█████████████████████████████████████████████████████████| 100%\n"
     ]
    }
   ],
   "source": [
    "df = h2o.import_file(path = file_path, sep=',', header=1)"
   ]
  },
  {
   "cell_type": "code",
   "execution_count": 23,
   "metadata": {},
   "outputs": [
    {
     "name": "stdout",
     "output_type": "stream",
     "text": [
      "Rows:501808\n",
      "Cols:314\n",
      "\n",
      "\n"
     ]
    },
    {
     "data": {
      "text/html": [
       "<table>\n",
       "<thead>\n",
       "<tr><th>       </th><th>id              </th><th>era  </th><th>data_type  </th><th>feature_intelligence1  </th><th>feature_intelligence2  </th><th>feature_intelligence3  </th><th>feature_intelligence4  </th><th>feature_intelligence5  </th><th>feature_intelligence6  </th><th>feature_intelligence7  </th><th>feature_intelligence8  </th><th>feature_intelligence9  </th><th>feature_intelligence10  </th><th>feature_intelligence11  </th><th>feature_intelligence12  </th><th>feature_charisma1  </th><th>feature_charisma2  </th><th>feature_charisma3  </th><th>feature_charisma4  </th><th>feature_charisma5  </th><th>feature_charisma6  </th><th>feature_charisma7  </th><th>feature_charisma8  </th><th>feature_charisma9  </th><th>feature_charisma10  </th><th>feature_charisma11  </th><th>feature_charisma12  </th><th>feature_charisma13  </th><th>feature_charisma14  </th><th>feature_charisma15  </th><th>feature_charisma16  </th><th>feature_charisma17  </th><th>feature_charisma18  </th><th>feature_charisma19  </th><th>feature_charisma20  </th><th>feature_charisma21  </th><th>feature_charisma22  </th><th>feature_charisma23  </th><th>feature_charisma24  </th><th>feature_charisma25  </th><th>feature_charisma26  </th><th>feature_charisma27  </th><th>feature_charisma28  </th><th>feature_charisma29  </th><th>feature_charisma30  </th><th>feature_charisma31  </th><th>feature_charisma32  </th><th>feature_charisma33  </th><th>feature_charisma34  </th><th>feature_charisma35  </th><th>feature_charisma36  </th><th>feature_charisma37  </th><th>feature_charisma38  </th><th>feature_charisma39  </th><th>feature_charisma40  </th><th>feature_charisma41  </th><th>feature_charisma42  </th><th>feature_charisma43  </th><th>feature_charisma44  </th><th>feature_charisma45  </th><th>feature_charisma46  </th><th>feature_charisma47  </th><th>feature_charisma48  </th><th>feature_charisma49  </th><th>feature_charisma50  </th><th>feature_charisma51  </th><th>feature_charisma52  </th><th>feature_charisma53  </th><th>feature_charisma54  </th><th>feature_charisma55  </th><th>feature_charisma56  </th><th>feature_charisma57  </th><th>feature_charisma58  </th><th>feature_charisma59  </th><th>feature_charisma60  </th><th>feature_charisma61  </th><th>feature_charisma62  </th><th>feature_charisma63  </th><th>feature_charisma64  </th><th>feature_charisma65  </th><th>feature_charisma66  </th><th>feature_charisma67  </th><th>feature_charisma68  </th><th>feature_charisma69  </th><th>feature_charisma70  </th><th>feature_charisma71  </th><th>feature_charisma72  </th><th>feature_charisma73  </th><th>feature_charisma74  </th><th>feature_charisma75  </th><th>feature_charisma76  </th><th>feature_charisma77  </th><th>feature_charisma78  </th><th>feature_charisma79  </th><th>feature_charisma80  </th><th>feature_charisma81  </th><th>feature_charisma82  </th><th>feature_charisma83  </th><th>feature_charisma84  </th><th>feature_charisma85  </th><th>feature_charisma86  </th><th>feature_strength1  </th><th>feature_strength2  </th><th>feature_strength3  </th><th>feature_strength4  </th><th>feature_strength5  </th><th>feature_strength6  </th><th>feature_strength7  </th><th>feature_strength8  </th><th>feature_strength9  </th><th>feature_strength10  </th><th>feature_strength11  </th><th>feature_strength12  </th><th>feature_strength13  </th><th>feature_strength14  </th><th>feature_strength15  </th><th>feature_strength16  </th><th>feature_strength17  </th><th>feature_strength18  </th><th>feature_strength19  </th><th>feature_strength20  </th><th>feature_strength21  </th><th>feature_strength22  </th><th>feature_strength23  </th><th>feature_strength24  </th><th>feature_strength25  </th><th>feature_strength26  </th><th>feature_strength27  </th><th>feature_strength28  </th><th>feature_strength29  </th><th>feature_strength30  </th><th>feature_strength31  </th><th>feature_strength32  </th><th>feature_strength33  </th><th>feature_strength34  </th><th>feature_strength35  </th><th>feature_strength36  </th><th>feature_strength37  </th><th>feature_strength38  </th><th>feature_dexterity1  </th><th>feature_dexterity2  </th><th>feature_dexterity3  </th><th>feature_dexterity4  </th><th>feature_dexterity5  </th><th>feature_dexterity6  </th><th>feature_dexterity7  </th><th>feature_dexterity8  </th><th>feature_dexterity9  </th><th>feature_dexterity10  </th><th>feature_dexterity11  </th><th>feature_dexterity12  </th><th>feature_dexterity13  </th><th>feature_dexterity14  </th><th>feature_constitution1  </th><th>feature_constitution2  </th><th>feature_constitution3  </th><th>feature_constitution4  </th><th>feature_constitution5  </th><th>feature_constitution6  </th><th>feature_constitution7  </th><th>feature_constitution8  </th><th>feature_constitution9  </th><th>feature_constitution10  </th><th>feature_constitution11  </th><th>feature_constitution12  </th><th>feature_constitution13  </th><th>feature_constitution14  </th><th>feature_constitution15  </th><th>feature_constitution16  </th><th>feature_constitution17  </th><th>feature_constitution18  </th><th>feature_constitution19  </th><th>feature_constitution20  </th><th>feature_constitution21  </th><th>feature_constitution22  </th><th>feature_constitution23  </th><th>feature_constitution24  </th><th>feature_constitution25  </th><th>feature_constitution26  </th><th>feature_constitution27  </th><th>feature_constitution28  </th><th>feature_constitution29  </th><th>feature_constitution30  </th><th>feature_constitution31  </th><th>feature_constitution32  </th><th>feature_constitution33  </th><th>feature_constitution34  </th><th>feature_constitution35  </th><th>feature_constitution36  </th><th>feature_constitution37  </th><th>feature_constitution38  </th><th>feature_constitution39  </th><th>feature_constitution40  </th><th>feature_constitution41  </th><th>feature_constitution42  </th><th>feature_constitution43  </th><th>feature_constitution44  </th><th>feature_constitution45  </th><th>feature_constitution46  </th><th>feature_constitution47  </th><th>feature_constitution48  </th><th>feature_constitution49  </th><th>feature_constitution50  </th><th>feature_constitution51  </th><th>feature_constitution52  </th><th>feature_constitution53  </th><th>feature_constitution54  </th><th>feature_constitution55  </th><th>feature_constitution56  </th><th>feature_constitution57  </th><th>feature_constitution58  </th><th>feature_constitution59  </th><th>feature_constitution60  </th><th>feature_constitution61  </th><th>feature_constitution62  </th><th>feature_constitution63  </th><th>feature_constitution64  </th><th>feature_constitution65  </th><th>feature_constitution66  </th><th>feature_constitution67  </th><th>feature_constitution68  </th><th>feature_constitution69  </th><th>feature_constitution70  </th><th>feature_constitution71  </th><th>feature_constitution72  </th><th>feature_constitution73  </th><th>feature_constitution74  </th><th>feature_constitution75  </th><th>feature_constitution76  </th><th>feature_constitution77  </th><th>feature_constitution78  </th><th>feature_constitution79  </th><th>feature_constitution80  </th><th>feature_constitution81  </th><th>feature_constitution82  </th><th>feature_constitution83  </th><th>feature_constitution84  </th><th>feature_constitution85  </th><th>feature_constitution86  </th><th>feature_constitution87  </th><th>feature_constitution88  </th><th>feature_constitution89  </th><th>feature_constitution90  </th><th>feature_constitution91  </th><th>feature_constitution92  </th><th>feature_constitution93  </th><th>feature_constitution94  </th><th>feature_constitution95  </th><th>feature_constitution96  </th><th>feature_constitution97  </th><th>feature_constitution98  </th><th>feature_constitution99  </th><th>feature_constitution100  </th><th>feature_constitution101  </th><th>feature_constitution102  </th><th>feature_constitution103  </th><th>feature_constitution104  </th><th>feature_constitution105  </th><th>feature_constitution106  </th><th>feature_constitution107  </th><th>feature_constitution108  </th><th>feature_constitution109  </th><th>feature_constitution110  </th><th>feature_constitution111  </th><th>feature_constitution112  </th><th>feature_constitution113  </th><th>feature_constitution114  </th><th>feature_wisdom1    </th><th>feature_wisdom2    </th><th>feature_wisdom3    </th><th>feature_wisdom4    </th><th>feature_wisdom5    </th><th>feature_wisdom6    </th><th>feature_wisdom7   </th><th>feature_wisdom8   </th><th>feature_wisdom9   </th><th>feature_wisdom10   </th><th>feature_wisdom11   </th><th>feature_wisdom12   </th><th>feature_wisdom13  </th><th>feature_wisdom14  </th><th>feature_wisdom15  </th><th>feature_wisdom16  </th><th>feature_wisdom17   </th><th>feature_wisdom18   </th><th>feature_wisdom19   </th><th>feature_wisdom20   </th><th>feature_wisdom21  </th><th>feature_wisdom22   </th><th>feature_wisdom23   </th><th>feature_wisdom24   </th><th>feature_wisdom25   </th><th>feature_wisdom26  </th><th>feature_wisdom27   </th><th>feature_wisdom28   </th><th>feature_wisdom29   </th><th>feature_wisdom30  </th><th>feature_wisdom31   </th><th>feature_wisdom32   </th><th>feature_wisdom33   </th><th>feature_wisdom34   </th><th>feature_wisdom35   </th><th>feature_wisdom36  </th><th>feature_wisdom37  </th><th>feature_wisdom38   </th><th>feature_wisdom39   </th><th>feature_wisdom40  </th><th>feature_wisdom41   </th><th>feature_wisdom42  </th><th>feature_wisdom43   </th><th>feature_wisdom44   </th><th>feature_wisdom45   </th><th>feature_wisdom46   </th><th>target_kazutsugi  </th></tr>\n",
       "</thead>\n",
       "<tbody>\n",
       "<tr><td>type   </td><td>string          </td><td>enum </td><td>enum       </td><td>real                   </td><td>real                   </td><td>real                   </td><td>real                   </td><td>real                   </td><td>real                   </td><td>real                   </td><td>real                   </td><td>real                   </td><td>real                    </td><td>real                    </td><td>real                    </td><td>real               </td><td>real               </td><td>real               </td><td>real               </td><td>real               </td><td>real               </td><td>real               </td><td>real               </td><td>real               </td><td>real                </td><td>real                </td><td>real                </td><td>real                </td><td>real                </td><td>real                </td><td>real                </td><td>real                </td><td>real                </td><td>real                </td><td>real                </td><td>real                </td><td>real                </td><td>real                </td><td>real                </td><td>real                </td><td>real                </td><td>real                </td><td>real                </td><td>real                </td><td>real                </td><td>real                </td><td>real                </td><td>real                </td><td>real                </td><td>real                </td><td>real                </td><td>real                </td><td>real                </td><td>real                </td><td>real                </td><td>real                </td><td>real                </td><td>real                </td><td>real                </td><td>real                </td><td>real                </td><td>real                </td><td>real                </td><td>real                </td><td>real                </td><td>real                </td><td>real                </td><td>real                </td><td>real                </td><td>real                </td><td>real                </td><td>real                </td><td>real                </td><td>real                </td><td>real                </td><td>real                </td><td>real                </td><td>real                </td><td>real                </td><td>real                </td><td>real                </td><td>real                </td><td>real                </td><td>real                </td><td>real                </td><td>real                </td><td>real                </td><td>real                </td><td>real                </td><td>real                </td><td>real                </td><td>real                </td><td>real                </td><td>real                </td><td>real                </td><td>real                </td><td>real                </td><td>real                </td><td>real                </td><td>real                </td><td>real                </td><td>real               </td><td>real               </td><td>real               </td><td>real               </td><td>real               </td><td>real               </td><td>real               </td><td>real               </td><td>real               </td><td>real                </td><td>real                </td><td>real                </td><td>real                </td><td>real                </td><td>real                </td><td>real                </td><td>real                </td><td>real                </td><td>real                </td><td>real                </td><td>real                </td><td>real                </td><td>real                </td><td>real                </td><td>real                </td><td>real                </td><td>real                </td><td>real                </td><td>real                </td><td>real                </td><td>real                </td><td>real                </td><td>real                </td><td>real                </td><td>real                </td><td>real                </td><td>real                </td><td>real                </td><td>real                </td><td>real                </td><td>real                </td><td>real                </td><td>real                </td><td>real                </td><td>real                </td><td>real                </td><td>real                </td><td>real                 </td><td>real                 </td><td>real                 </td><td>real                 </td><td>real                 </td><td>real                   </td><td>real                   </td><td>real                   </td><td>real                   </td><td>real                   </td><td>real                   </td><td>real                   </td><td>real                   </td><td>real                   </td><td>real                    </td><td>real                    </td><td>real                    </td><td>real                    </td><td>real                    </td><td>real                    </td><td>real                    </td><td>real                    </td><td>real                    </td><td>real                    </td><td>real                    </td><td>real                    </td><td>real                    </td><td>real                    </td><td>real                    </td><td>real                    </td><td>real                    </td><td>real                    </td><td>real                    </td><td>real                    </td><td>real                    </td><td>real                    </td><td>real                    </td><td>real                    </td><td>real                    </td><td>real                    </td><td>real                    </td><td>real                    </td><td>real                    </td><td>real                    </td><td>real                    </td><td>real                    </td><td>real                    </td><td>real                    </td><td>real                    </td><td>real                    </td><td>real                    </td><td>real                    </td><td>real                    </td><td>real                    </td><td>real                    </td><td>real                    </td><td>real                    </td><td>real                    </td><td>real                    </td><td>real                    </td><td>real                    </td><td>real                    </td><td>real                    </td><td>real                    </td><td>real                    </td><td>real                    </td><td>real                    </td><td>real                    </td><td>real                    </td><td>real                    </td><td>real                    </td><td>real                    </td><td>real                    </td><td>real                    </td><td>real                    </td><td>real                    </td><td>real                    </td><td>real                    </td><td>real                    </td><td>real                    </td><td>real                    </td><td>real                    </td><td>real                    </td><td>real                    </td><td>real                    </td><td>real                    </td><td>real                    </td><td>real                    </td><td>real                    </td><td>real                    </td><td>real                    </td><td>real                    </td><td>real                    </td><td>real                    </td><td>real                    </td><td>real                    </td><td>real                    </td><td>real                    </td><td>real                    </td><td>real                    </td><td>real                    </td><td>real                    </td><td>real                    </td><td>real                    </td><td>real                     </td><td>real                     </td><td>real                     </td><td>real                     </td><td>real                     </td><td>real                     </td><td>real                     </td><td>real                     </td><td>real                     </td><td>real                     </td><td>real                     </td><td>real                     </td><td>real                     </td><td>real                     </td><td>real                     </td><td>real               </td><td>real               </td><td>real               </td><td>real               </td><td>real               </td><td>real               </td><td>real              </td><td>real              </td><td>real              </td><td>real               </td><td>real               </td><td>real               </td><td>real              </td><td>real              </td><td>real              </td><td>real              </td><td>real               </td><td>real               </td><td>real               </td><td>real               </td><td>real              </td><td>real               </td><td>real               </td><td>real               </td><td>real               </td><td>real              </td><td>real               </td><td>real               </td><td>real               </td><td>real              </td><td>real               </td><td>real               </td><td>real               </td><td>real               </td><td>real               </td><td>real              </td><td>real              </td><td>real               </td><td>real               </td><td>real              </td><td>real               </td><td>real              </td><td>real               </td><td>real               </td><td>real               </td><td>real               </td><td>enum              </td></tr>\n",
       "<tr><td>mins   </td><td>NaN             </td><td>     </td><td>           </td><td>0.0                    </td><td>0.0                    </td><td>0.0                    </td><td>0.0                    </td><td>0.0                    </td><td>0.0                    </td><td>0.0                    </td><td>0.0                    </td><td>0.0                    </td><td>0.0                     </td><td>0.0                     </td><td>0.0                     </td><td>0.0                </td><td>0.0                </td><td>0.0                </td><td>0.0                </td><td>0.0                </td><td>0.0                </td><td>0.0                </td><td>0.0                </td><td>0.0                </td><td>0.0                 </td><td>0.0                 </td><td>0.0                 </td><td>0.0                 </td><td>0.0                 </td><td>0.0                 </td><td>0.0                 </td><td>0.0                 </td><td>0.0                 </td><td>0.0                 </td><td>0.0                 </td><td>0.0                 </td><td>0.0                 </td><td>0.0                 </td><td>0.0                 </td><td>0.0                 </td><td>0.0                 </td><td>0.0                 </td><td>0.0                 </td><td>0.0                 </td><td>0.0                 </td><td>0.0                 </td><td>0.0                 </td><td>0.0                 </td><td>0.0                 </td><td>0.0                 </td><td>0.0                 </td><td>0.0                 </td><td>0.0                 </td><td>0.0                 </td><td>0.0                 </td><td>0.0                 </td><td>0.0                 </td><td>0.0                 </td><td>0.0                 </td><td>0.0                 </td><td>0.0                 </td><td>0.0                 </td><td>0.0                 </td><td>0.0                 </td><td>0.0                 </td><td>0.0                 </td><td>0.0                 </td><td>0.0                 </td><td>0.0                 </td><td>0.0                 </td><td>0.0                 </td><td>0.0                 </td><td>0.0                 </td><td>0.0                 </td><td>0.0                 </td><td>0.0                 </td><td>0.0                 </td><td>0.0                 </td><td>0.0                 </td><td>0.0                 </td><td>0.0                 </td><td>0.0                 </td><td>0.0                 </td><td>0.0                 </td><td>0.0                 </td><td>0.0                 </td><td>0.0                 </td><td>0.0                 </td><td>0.0                 </td><td>0.0                 </td><td>0.0                 </td><td>0.0                 </td><td>0.0                 </td><td>0.0                 </td><td>0.0                 </td><td>0.0                 </td><td>0.0                 </td><td>0.0                 </td><td>0.0                 </td><td>0.0                 </td><td>0.0                 </td><td>0.0                </td><td>0.0                </td><td>0.0                </td><td>0.0                </td><td>0.0                </td><td>0.0                </td><td>0.0                </td><td>0.0                </td><td>0.0                </td><td>0.0                 </td><td>0.0                 </td><td>0.0                 </td><td>0.0                 </td><td>0.0                 </td><td>0.0                 </td><td>0.0                 </td><td>0.0                 </td><td>0.0                 </td><td>0.0                 </td><td>0.0                 </td><td>0.0                 </td><td>0.0                 </td><td>0.0                 </td><td>0.0                 </td><td>0.0                 </td><td>0.0                 </td><td>0.0                 </td><td>0.0                 </td><td>0.0                 </td><td>0.0                 </td><td>0.0                 </td><td>0.0                 </td><td>0.0                 </td><td>0.0                 </td><td>0.0                 </td><td>0.0                 </td><td>0.0                 </td><td>0.0                 </td><td>0.0                 </td><td>0.0                 </td><td>0.0                 </td><td>0.0                 </td><td>0.0                 </td><td>0.0                 </td><td>0.0                 </td><td>0.0                 </td><td>0.0                 </td><td>0.0                  </td><td>0.0                  </td><td>0.0                  </td><td>0.0                  </td><td>0.0                  </td><td>0.0                    </td><td>0.0                    </td><td>0.0                    </td><td>0.0                    </td><td>0.0                    </td><td>0.0                    </td><td>0.0                    </td><td>0.0                    </td><td>0.0                    </td><td>0.0                     </td><td>0.0                     </td><td>0.0                     </td><td>0.0                     </td><td>0.0                     </td><td>0.0                     </td><td>0.0                     </td><td>0.0                     </td><td>0.0                     </td><td>0.0                     </td><td>0.0                     </td><td>0.0                     </td><td>0.0                     </td><td>0.0                     </td><td>0.0                     </td><td>0.0                     </td><td>0.0                     </td><td>0.0                     </td><td>0.0                     </td><td>0.0                     </td><td>0.0                     </td><td>0.0                     </td><td>0.0                     </td><td>0.0                     </td><td>0.0                     </td><td>0.0                     </td><td>0.0                     </td><td>0.0                     </td><td>0.0                     </td><td>0.0                     </td><td>0.0                     </td><td>0.0                     </td><td>0.0                     </td><td>0.0                     </td><td>0.0                     </td><td>0.0                     </td><td>0.0                     </td><td>0.0                     </td><td>0.0                     </td><td>0.0                     </td><td>0.0                     </td><td>0.0                     </td><td>0.0                     </td><td>0.0                     </td><td>0.0                     </td><td>0.0                     </td><td>0.0                     </td><td>0.0                     </td><td>0.0                     </td><td>0.0                     </td><td>0.0                     </td><td>0.0                     </td><td>0.0                     </td><td>0.0                     </td><td>0.0                     </td><td>0.0                     </td><td>0.0                     </td><td>0.0                     </td><td>0.0                     </td><td>0.0                     </td><td>0.0                     </td><td>0.0                     </td><td>0.0                     </td><td>0.0                     </td><td>0.0                     </td><td>0.0                     </td><td>0.0                     </td><td>0.0                     </td><td>0.0                     </td><td>0.0                     </td><td>0.0                     </td><td>0.0                     </td><td>0.0                     </td><td>0.0                     </td><td>0.0                     </td><td>0.0                     </td><td>0.0                     </td><td>0.0                     </td><td>0.0                     </td><td>0.0                     </td><td>0.0                     </td><td>0.0                     </td><td>0.0                     </td><td>0.0                     </td><td>0.0                     </td><td>0.0                     </td><td>0.0                     </td><td>0.0                     </td><td>0.0                     </td><td>0.0                     </td><td>0.0                      </td><td>0.0                      </td><td>0.0                      </td><td>0.0                      </td><td>0.0                      </td><td>0.0                      </td><td>0.0                      </td><td>0.0                      </td><td>0.0                      </td><td>0.0                      </td><td>0.0                      </td><td>0.0                      </td><td>0.0                      </td><td>0.0                      </td><td>0.0                      </td><td>0.0                </td><td>0.0                </td><td>0.0                </td><td>0.0                </td><td>0.0                </td><td>0.0                </td><td>0.0               </td><td>0.0               </td><td>0.0               </td><td>0.0                </td><td>0.0                </td><td>0.0                </td><td>0.0               </td><td>0.0               </td><td>0.0               </td><td>0.0               </td><td>0.0                </td><td>0.0                </td><td>0.0                </td><td>0.0                </td><td>0.0               </td><td>0.0                </td><td>0.0                </td><td>0.0                </td><td>0.0                </td><td>0.0               </td><td>0.0                </td><td>0.0                </td><td>0.0                </td><td>0.0               </td><td>0.0                </td><td>0.0                </td><td>0.0                </td><td>0.0                </td><td>0.0                </td><td>0.0               </td><td>0.0               </td><td>0.0                </td><td>0.0                </td><td>0.0               </td><td>0.0                </td><td>0.0               </td><td>0.0                </td><td>0.0                </td><td>0.0                </td><td>0.0                </td><td>                  </td></tr>\n",
       "<tr><td>mean   </td><td>NaN             </td><td>     </td><td>           </td><td>0.49998106845646173    </td><td>0.49997907566240407    </td><td>0.4999790756624038     </td><td>0.4999810684564613     </td><td>0.49997708286834863    </td><td>0.4999770828683478     </td><td>0.4999770828683481     </td><td>0.4999810684564619     </td><td>0.4999800720594326     </td><td>0.4999800720594338      </td><td>0.4999810684564618      </td><td>0.4999770828683478      </td><td>0.4999681152950934 </td><td>0.49997608647131947</td><td>0.49997409367726364</td><td>0.49997708286834897</td><td>0.4999760864713197 </td><td>0.49997110448617726</td><td>0.4999740936772636 </td><td>0.4999740936772637 </td><td>0.49998605044160255</td><td>0.4999770828683477  </td><td>0.49997907566240424 </td><td>0.49998007205943307 </td><td>0.49997708286834935 </td><td>0.49997210088320737 </td><td>0.4999740936772635  </td><td>0.4999770828683486  </td><td>0.4999770828683485  </td><td>0.4999740936772626  </td><td>0.49996811529509305 </td><td>0.4999810684564621  </td><td>0.49998306125051917 </td><td>0.49997907566240474 </td><td>0.4999770828683479  </td><td>0.49997608647131964 </td><td>0.49998206485348906 </td><td>0.4999810684564627  </td><td>0.4999760864713202  </td><td>0.49997608647131947 </td><td>0.49997807926537546 </td><td>0.4999730972802349  </td><td>0.49997708286834674 </td><td>0.49997807926537613 </td><td>0.4999721008832075  </td><td>0.4999750900742909  </td><td>0.49997708286834747 </td><td>0.49998306125051817 </td><td>0.49997110448617793 </td><td>0.49997309728023565 </td><td>0.49997708286834863 </td><td>0.4999770828683482  </td><td>0.4999750900742917  </td><td>0.49997807926537696 </td><td>0.4999790756624047  </td><td>0.49997608647132014 </td><td>0.4999740936772629  </td><td>0.49997110448617915 </td><td>0.4999820648534906  </td><td>0.4999780792653758  </td><td>0.4999750900742914  </td><td>0.49997708286834763 </td><td>0.4999770828683479  </td><td>0.4999740936772636  </td><td>0.49997608647131925 </td><td>0.49997110448617754 </td><td>0.4999750900742923  </td><td>0.4999760864713205  </td><td>0.499981068456461   </td><td>0.49997907566240474 </td><td>0.4999750900742911  </td><td>0.4999790756624053  </td><td>0.4999770828683473  </td><td>0.4999740936772639  </td><td>0.4999760864713198  </td><td>0.49998106845646273 </td><td>0.4999760864713198  </td><td>0.4999711044861779  </td><td>0.49998106845646134 </td><td>0.4999671188980639  </td><td>0.49998605044160316 </td><td>0.4999790756624057  </td><td>0.4999780792653763  </td><td>0.49997409367726253 </td><td>0.4999750900742917  </td><td>0.4999760864713201  </td><td>0.49997807926537685 </td><td>0.4999740936772626  </td><td>0.4999760864713184  </td><td>0.49997708286834874 </td><td>0.4999760864713198  </td><td>0.4999800720594337  </td><td>0.49997110448617765 </td><td>0.499967118898065   </td><td>0.49998106845646156 </td><td>0.499976086471319   </td><td>0.49997608647131914 </td><td>0.4999760864713197  </td><td>0.49997807926537685</td><td>0.4999740936772636 </td><td>0.49997907566240396</td><td>0.4999780792653772 </td><td>0.49998007205943357</td><td>0.4999800720594324 </td><td>0.4999770828683477 </td><td>0.49997110448617765</td><td>0.49997907566240507</td><td>0.499967118898064   </td><td>0.4999780792653763  </td><td>0.49997708286834947 </td><td>0.49998007205943346 </td><td>0.49997110448617765 </td><td>0.4999770828683483  </td><td>0.4999800720594321  </td><td>0.499980072059433   </td><td>0.4999701080891504  </td><td>0.4999790756624052  </td><td>0.49997110448617854 </td><td>0.49997807926537674 </td><td>0.4999790756624052  </td><td>0.4999800720594341  </td><td>0.49997608647132086 </td><td>0.4999800720594331  </td><td>0.49997509007429064 </td><td>0.49997708286834824 </td><td>0.4999711044861784  </td><td>0.4999760864713199  </td><td>0.49997708286834747 </td><td>0.49998007205943273 </td><td>0.49997409367726275 </td><td>0.49997509007429086 </td><td>0.4999711044861785  </td><td>0.49997708286834747 </td><td>0.4999671188980645  </td><td>0.49997010808914966 </td><td>0.4999711044861776  </td><td>0.49997608647131964 </td><td>0.49998007205943457 </td><td>0.49998007205943273 </td><td>0.49998106845646095 </td><td>0.49997608647131936 </td><td>0.4999770828683472  </td><td>0.4999810684564614  </td><td>0.49998007205943296 </td><td>0.4999760864713197  </td><td>0.49998007205943296  </td><td>0.4999770828683483   </td><td>0.49997708286834736  </td><td>0.49997608647132025  </td><td>0.4999770828683473   </td><td>0.4999681152950941     </td><td>0.4999800720594323     </td><td>0.4999780792653765     </td><td>0.49997807926537696    </td><td>0.4999770828683484     </td><td>0.4999730972802344     </td><td>0.4999730972802343     </td><td>0.49997010808915004    </td><td>0.49997608647132036    </td><td>0.49997309728023415     </td><td>0.4999711044861781      </td><td>0.4999770828683483      </td><td>0.49998405764754655     </td><td>0.49996811529509355     </td><td>0.49997010808914955     </td><td>0.49997708286834713     </td><td>0.4999701080891494      </td><td>0.4999730972802344      </td><td>0.4999711044861774      </td><td>0.49997807926537663     </td><td>0.49997708286834724     </td><td>0.49997608647131964     </td><td>0.4999780792653756      </td><td>0.49997010808914977     </td><td>0.4999760864713189      </td><td>0.4999780792653764      </td><td>0.4999730972802356      </td><td>0.49997110448617843     </td><td>0.4999770828683492      </td><td>0.49998405764754683     </td><td>0.49996612250103717     </td><td>0.4999780792653769      </td><td>0.499976086471321       </td><td>0.4999721008832067      </td><td>0.49998804323566        </td><td>0.499972100883206       </td><td>0.49997010808915043     </td><td>0.4999800720594321      </td><td>0.49997309728023526     </td><td>0.49997708286834747     </td><td>0.49998306125051833     </td><td>0.4999840576475465      </td><td>0.4999721008832064      </td><td>0.4999721008832067      </td><td>0.499987046838632       </td><td>0.4999780792653772      </td><td>0.4999870468386322      </td><td>0.4999760864713193      </td><td>0.4999780792653765      </td><td>0.49997708286834885     </td><td>0.49996811529509355     </td><td>0.49996911169212177     </td><td>0.4999770828683478      </td><td>0.4999820648534906      </td><td>0.49997210088320654     </td><td>0.4999711044861782      </td><td>0.4999780792653764      </td><td>0.4999770828683481      </td><td>0.49997409367726325     </td><td>0.49997608647132064     </td><td>0.49997509007429114     </td><td>0.49996612250103706     </td><td>0.49997708286834874     </td><td>0.4999780792653772      </td><td>0.4999770828683482      </td><td>0.4999711044861788      </td><td>0.4999760864713193      </td><td>0.4999770828683477      </td><td>0.4999691116921209      </td><td>0.4999770828683483      </td><td>0.499977082868348       </td><td>0.49998007205943157     </td><td>0.49998007205943307     </td><td>0.49997708286834835     </td><td>0.4999711044861779      </td><td>0.49998306125051806     </td><td>0.49997608647131814     </td><td>0.49997110448617915     </td><td>0.4999840576475464      </td><td>0.49996811529509316     </td><td>0.49997409367726264     </td><td>0.4999701080891494      </td><td>0.4999820648534895      </td><td>0.4999661225010367      </td><td>0.49997210088320654     </td><td>0.49996911169212144     </td><td>0.49997608647132014     </td><td>0.49998106845646095     </td><td>0.4999830612505171      </td><td>0.49998106845646084     </td><td>0.4999780792653768      </td><td>0.49997409367726314     </td><td>0.499971104486178       </td><td>0.49996911169212166     </td><td>0.49998206485349017     </td><td>0.4999750900742923      </td><td>0.49998306125051895     </td><td>0.4999780792653762      </td><td>0.4999740936772638      </td><td>0.49998206485348967      </td><td>0.4999770828683482       </td><td>0.4999780792653757       </td><td>0.4999800720594339       </td><td>0.4999661225010381       </td><td>0.4999880432356599       </td><td>0.49997110448617893      </td><td>0.49998306125051895      </td><td>0.4999830612505182       </td><td>0.4999780792653776       </td><td>0.4999711044861788       </td><td>0.4999760864713208       </td><td>0.49997807926537535      </td><td>0.499978079265376        </td><td>0.49998007205943346      </td><td>0.4999810684564604 </td><td>0.4999750900742912 </td><td>0.49998007205943235</td><td>0.4999790756624044 </td><td>0.49998007205943235</td><td>0.4999760864713203 </td><td>0.4999750900742917</td><td>0.4999820648534905</td><td>0.4999730972802359</td><td>0.49996911169212055</td><td>0.49997608647131914</td><td>0.49997110448617854</td><td>0.4999780792653771</td><td>0.4999810684564603</td><td>0.4999790756624043</td><td>0.499979075662404 </td><td>0.4999810684564616 </td><td>0.4999691116921206 </td><td>0.49996911169212205</td><td>0.49998106845646145</td><td>0.4999740936772637</td><td>0.49997309728023465</td><td>0.49997608647131936</td><td>0.49997409367726453</td><td>0.49996911169212116</td><td>0.4999820648534903</td><td>0.49997907566240496</td><td>0.4999740936772638 </td><td>0.4999810684564617 </td><td>0.4999790756624052</td><td>0.49997907566240446</td><td>0.4999760864713206 </td><td>0.49997409367726275</td><td>0.4999780792653764 </td><td>0.49998106845646134</td><td>0.4999820648534892</td><td>0.499979075662404 </td><td>0.4999820648534901 </td><td>0.4999820648534897 </td><td>0.4999740936772644</td><td>0.49998007205943273</td><td>0.49998206485349  </td><td>0.49998007205943196</td><td>0.49997409367726314</td><td>0.49997907566240535</td><td>0.49997110448617765</td><td>                  </td></tr>\n",
       "<tr><td>maxs   </td><td>NaN             </td><td>     </td><td>           </td><td>1.0                    </td><td>1.0                    </td><td>1.0                    </td><td>1.0                    </td><td>1.0                    </td><td>1.0                    </td><td>1.0                    </td><td>1.0                    </td><td>1.0                    </td><td>1.0                     </td><td>1.0                     </td><td>1.0                     </td><td>1.0                </td><td>1.0                </td><td>1.0                </td><td>1.0                </td><td>1.0                </td><td>1.0                </td><td>1.0                </td><td>1.0                </td><td>1.0                </td><td>1.0                 </td><td>1.0                 </td><td>1.0                 </td><td>1.0                 </td><td>1.0                 </td><td>1.0                 </td><td>1.0                 </td><td>1.0                 </td><td>1.0                 </td><td>1.0                 </td><td>1.0                 </td><td>1.0                 </td><td>1.0                 </td><td>1.0                 </td><td>1.0                 </td><td>1.0                 </td><td>1.0                 </td><td>1.0                 </td><td>1.0                 </td><td>1.0                 </td><td>1.0                 </td><td>1.0                 </td><td>1.0                 </td><td>1.0                 </td><td>1.0                 </td><td>1.0                 </td><td>1.0                 </td><td>1.0                 </td><td>1.0                 </td><td>1.0                 </td><td>1.0                 </td><td>1.0                 </td><td>1.0                 </td><td>1.0                 </td><td>1.0                 </td><td>1.0                 </td><td>1.0                 </td><td>1.0                 </td><td>1.0                 </td><td>1.0                 </td><td>1.0                 </td><td>1.0                 </td><td>1.0                 </td><td>1.0                 </td><td>1.0                 </td><td>1.0                 </td><td>1.0                 </td><td>1.0                 </td><td>1.0                 </td><td>1.0                 </td><td>1.0                 </td><td>1.0                 </td><td>1.0                 </td><td>1.0                 </td><td>1.0                 </td><td>1.0                 </td><td>1.0                 </td><td>1.0                 </td><td>1.0                 </td><td>1.0                 </td><td>1.0                 </td><td>1.0                 </td><td>1.0                 </td><td>1.0                 </td><td>1.0                 </td><td>1.0                 </td><td>1.0                 </td><td>1.0                 </td><td>1.0                 </td><td>1.0                 </td><td>1.0                 </td><td>1.0                 </td><td>1.0                 </td><td>1.0                 </td><td>1.0                 </td><td>1.0                 </td><td>1.0                 </td><td>1.0                </td><td>1.0                </td><td>1.0                </td><td>1.0                </td><td>1.0                </td><td>1.0                </td><td>1.0                </td><td>1.0                </td><td>1.0                </td><td>1.0                 </td><td>1.0                 </td><td>1.0                 </td><td>1.0                 </td><td>1.0                 </td><td>1.0                 </td><td>1.0                 </td><td>1.0                 </td><td>1.0                 </td><td>1.0                 </td><td>1.0                 </td><td>1.0                 </td><td>1.0                 </td><td>1.0                 </td><td>1.0                 </td><td>1.0                 </td><td>1.0                 </td><td>1.0                 </td><td>1.0                 </td><td>1.0                 </td><td>1.0                 </td><td>1.0                 </td><td>1.0                 </td><td>1.0                 </td><td>1.0                 </td><td>1.0                 </td><td>1.0                 </td><td>1.0                 </td><td>1.0                 </td><td>1.0                 </td><td>1.0                 </td><td>1.0                 </td><td>1.0                 </td><td>1.0                 </td><td>1.0                 </td><td>1.0                 </td><td>1.0                 </td><td>1.0                 </td><td>1.0                  </td><td>1.0                  </td><td>1.0                  </td><td>1.0                  </td><td>1.0                  </td><td>1.0                    </td><td>1.0                    </td><td>1.0                    </td><td>1.0                    </td><td>1.0                    </td><td>1.0                    </td><td>1.0                    </td><td>1.0                    </td><td>1.0                    </td><td>1.0                     </td><td>1.0                     </td><td>1.0                     </td><td>1.0                     </td><td>1.0                     </td><td>1.0                     </td><td>1.0                     </td><td>1.0                     </td><td>1.0                     </td><td>1.0                     </td><td>1.0                     </td><td>1.0                     </td><td>1.0                     </td><td>1.0                     </td><td>1.0                     </td><td>1.0                     </td><td>1.0                     </td><td>1.0                     </td><td>1.0                     </td><td>1.0                     </td><td>1.0                     </td><td>1.0                     </td><td>1.0                     </td><td>1.0                     </td><td>1.0                     </td><td>1.0                     </td><td>1.0                     </td><td>1.0                     </td><td>1.0                     </td><td>1.0                     </td><td>1.0                     </td><td>1.0                     </td><td>1.0                     </td><td>1.0                     </td><td>1.0                     </td><td>1.0                     </td><td>1.0                     </td><td>1.0                     </td><td>1.0                     </td><td>1.0                     </td><td>1.0                     </td><td>1.0                     </td><td>1.0                     </td><td>1.0                     </td><td>1.0                     </td><td>1.0                     </td><td>1.0                     </td><td>1.0                     </td><td>1.0                     </td><td>1.0                     </td><td>1.0                     </td><td>1.0                     </td><td>1.0                     </td><td>1.0                     </td><td>1.0                     </td><td>1.0                     </td><td>1.0                     </td><td>1.0                     </td><td>1.0                     </td><td>1.0                     </td><td>1.0                     </td><td>1.0                     </td><td>1.0                     </td><td>1.0                     </td><td>1.0                     </td><td>1.0                     </td><td>1.0                     </td><td>1.0                     </td><td>1.0                     </td><td>1.0                     </td><td>1.0                     </td><td>1.0                     </td><td>1.0                     </td><td>1.0                     </td><td>1.0                     </td><td>1.0                     </td><td>1.0                     </td><td>1.0                     </td><td>1.0                     </td><td>1.0                     </td><td>1.0                     </td><td>1.0                     </td><td>1.0                     </td><td>1.0                     </td><td>1.0                     </td><td>1.0                     </td><td>1.0                     </td><td>1.0                     </td><td>1.0                     </td><td>1.0                     </td><td>1.0                      </td><td>1.0                      </td><td>1.0                      </td><td>1.0                      </td><td>1.0                      </td><td>1.0                      </td><td>1.0                      </td><td>1.0                      </td><td>1.0                      </td><td>1.0                      </td><td>1.0                      </td><td>1.0                      </td><td>1.0                      </td><td>1.0                      </td><td>1.0                      </td><td>1.0                </td><td>1.0                </td><td>1.0                </td><td>1.0                </td><td>1.0                </td><td>1.0                </td><td>1.0               </td><td>1.0               </td><td>1.0               </td><td>1.0                </td><td>1.0                </td><td>1.0                </td><td>1.0               </td><td>1.0               </td><td>1.0               </td><td>1.0               </td><td>1.0                </td><td>1.0                </td><td>1.0                </td><td>1.0                </td><td>1.0               </td><td>1.0                </td><td>1.0                </td><td>1.0                </td><td>1.0                </td><td>1.0               </td><td>1.0                </td><td>1.0                </td><td>1.0                </td><td>1.0               </td><td>1.0                </td><td>1.0                </td><td>1.0                </td><td>1.0                </td><td>1.0                </td><td>1.0               </td><td>1.0               </td><td>1.0                </td><td>1.0                </td><td>1.0               </td><td>1.0                </td><td>1.0               </td><td>1.0                </td><td>1.0                </td><td>1.0                </td><td>1.0                </td><td>                  </td></tr>\n",
       "<tr><td>sigma  </td><td>NaN             </td><td>     </td><td>           </td><td>0.35359601342742597    </td><td>0.35359284316083356    </td><td>0.3535928431608342     </td><td>0.35359601342742597    </td><td>0.3535872071372763     </td><td>0.3535872071372763     </td><td>0.3535872071372763     </td><td>0.35359601342742564    </td><td>0.35209935773620427    </td><td>0.35209935773620427     </td><td>0.3535960134274262      </td><td>0.3535872071372764      </td><td>0.3529857622911202 </td><td>0.3349864937265926 </td><td>0.3374370248643408 </td><td>0.3385565107132717 </td><td>0.3135143932247703 </td><td>0.3530136363406561 </td><td>0.32099202118519365</td><td>0.29136094885987435</td><td>0.35347341365563406</td><td>0.3484161051724169  </td><td>0.3430229717105332  </td><td>0.34340727394855375 </td><td>0.34006625565094495 </td><td>0.33670725211811214 </td><td>0.2913609488598742  </td><td>0.33744182341855017 </td><td>0.338556510713272   </td><td>0.3530598528209827  </td><td>0.3529857622911204  </td><td>0.3431460389061529  </td><td>0.3419975116388831  </td><td>0.2881223441717706  </td><td>0.3337326493701929  </td><td>0.334986493726592   </td><td>0.2653714276042613  </td><td>0.3397115391591323  </td><td>0.28829477254825486 </td><td>0.3445351961094351  </td><td>0.34034046775617915 </td><td>0.34423719004400244 </td><td>0.35207424147142163 </td><td>0.30807950920759236 </td><td>0.33670725211811203 </td><td>0.35293459636612234 </td><td>0.33744182341854984 </td><td>0.34199751163888303 </td><td>0.34935678021788635 </td><td>0.3442371900440024  </td><td>0.33373264937019276 </td><td>0.35306655564529643 </td><td>0.3009761109041302  </td><td>0.3379765951649228  </td><td>0.3519578352248259  </td><td>0.3494312836535712  </td><td>0.3374370248643409  </td><td>0.35254866765753873 </td><td>0.2653714276042616  </td><td>0.30807950920759236 </td><td>0.2879662480523526  </td><td>0.340066255650945   </td><td>0.3520742414714221  </td><td>0.3377591002979715  </td><td>0.3445351961094349  </td><td>0.3530136363406561  </td><td>0.35293459636612273 </td><td>0.28992021186624944 </td><td>0.3535960134274258  </td><td>0.3430229717105331  </td><td>0.3009761109041302  </td><td>0.28812234417177063 </td><td>0.35306655564529615 </td><td>0.33775910029797157 </td><td>0.3528410660993     </td><td>0.3431460389061532  </td><td>0.28992021186624944 </td><td>0.3525486676575385  </td><td>0.33971153915913216 </td><td>0.3320024750503121  </td><td>0.35347341365563434 </td><td>0.35195783522482643 </td><td>0.3403404677561795  </td><td>0.3209920211851937  </td><td>0.2879662480523526  </td><td>0.34943128365357085 </td><td>0.3379765951649224  </td><td>0.35305985282098246 </td><td>0.28829477254825453 </td><td>0.3484161051724166  </td><td>0.3135143932247707  </td><td>0.343407273948554   </td><td>0.3493567802178865  </td><td>0.33200247505031183 </td><td>0.35359601342742614 </td><td>0.34446361144099935 </td><td>0.35284106609930016 </td><td>0.34446361144099896 </td><td>0.3526503993341618 </td><td>0.3375473693803455 </td><td>0.3531335749482959 </td><td>0.3526503993341616 </td><td>0.3386536186272631 </td><td>0.2842231527518765 </td><td>0.299386569963753  </td><td>0.35268536214550616</td><td>0.3524387797063394 </td><td>0.353031276495314   </td><td>0.3497711584049651  </td><td>0.33976396356268246 </td><td>0.3386536186272635  </td><td>0.3515137924579124  </td><td>0.3526058954937191  </td><td>0.34934537227495327 </td><td>0.28422315275187676 </td><td>0.3280473719001411  </td><td>0.3531335749482958  </td><td>0.18038335916954024 </td><td>0.3497711584049652  </td><td>0.35243877970633936 </td><td>0.34934537227495305 </td><td>0.3329476274534808  </td><td>0.3403250973499372  </td><td>0.30330928759227543 </td><td>0.35260589549371957 </td><td>0.35268536214550583 </td><td>0.33294762745348055 </td><td>0.3397639635626827  </td><td>0.34032509734993716 </td><td>0.33754736938034546 </td><td>0.3033092875922751  </td><td>0.35151379245791303 </td><td>0.2993865699637531  </td><td>0.353031276495314   </td><td>0.3280473719001414  </td><td>0.1803833591695402  </td><td>0.35254372201707274 </td><td>0.35263062068933276 </td><td>0.35359354769957874 </td><td>0.35359601342742597 </td><td>0.3535879115637076  </td><td>0.3535872071372765  </td><td>0.35359601342742586 </td><td>0.35359354769957907 </td><td>0.35254372201707307 </td><td>0.3526306206893329   </td><td>0.3535872071372762   </td><td>0.35358720713727637  </td><td>0.35358791156370695  </td><td>0.35358720713727587  </td><td>0.3426258783451011     </td><td>0.345631692100141      </td><td>0.3458755658234966     </td><td>0.35288377560834555    </td><td>0.33919859701315735    </td><td>0.338467102548661      </td><td>0.35276798908803814    </td><td>0.33993401249817806    </td><td>0.3527739913498833     </td><td>0.3384671025486608      </td><td>0.34598105859579076     </td><td>0.35315755754568523     </td><td>0.3517118047935546      </td><td>0.33952487008333776     </td><td>0.3443855016381377      </td><td>0.3510454184625397      </td><td>0.3399340124981781      </td><td>0.3389657191714516      </td><td>0.34017794365230725     </td><td>0.3453054173100983      </td><td>0.3324055147414209      </td><td>0.35290001074656185     </td><td>0.34587556582349643     </td><td>0.35281776743907056     </td><td>0.3529000107465618      </td><td>0.3453054173100986      </td><td>0.352767989088038       </td><td>0.3459810585957904      </td><td>0.3531575575456852      </td><td>0.3342573333224666      </td><td>0.3376890291442462      </td><td>0.3525712776244852      </td><td>0.35277399134988263     </td><td>0.35330494462351736     </td><td>0.35284530257894287     </td><td>0.3533049446235177      </td><td>0.3443855016381373      </td><td>0.3508498710095799      </td><td>0.33896571917145124     </td><td>0.35104541846253967     </td><td>0.337600130664308       </td><td>0.33425733332246693     </td><td>0.3533331457360121      </td><td>0.3336494144419458      </td><td>0.3532562932773067      </td><td>0.35159882050913543     </td><td>0.3532562932773065      </td><td>0.35289718727540964     </td><td>0.3528837756083456      </td><td>0.3531575575456849      </td><td>0.33952487008333776     </td><td>0.3531321634183002      </td><td>0.3518601514193035      </td><td>0.35334936100275993     </td><td>0.33364941444194607     </td><td>0.35319176493509297     </td><td>0.35257127762448504     </td><td>0.352664526279589       </td><td>0.3514092514784985      </td><td>0.34532417279933414     </td><td>0.3388187110761082      </td><td>0.3426244240880782      </td><td>0.3516190114665135      </td><td>0.3529070694550218      </td><td>0.3516190114665133      </td><td>0.33371734725063124     </td><td>0.3505320064321229      </td><td>0.35266452627958905     </td><td>0.35313216341829984     </td><td>0.33240551474142077     </td><td>0.3518601514193036      </td><td>0.3386021255749162      </td><td>0.34563169210014066     </td><td>0.3391985970131576      </td><td>0.35319105965250464     </td><td>0.3510220014159848      </td><td>0.3528971872754097      </td><td>0.340177943652307       </td><td>0.3517118047935547      </td><td>0.3426258783451012      </td><td>0.3514092514784981      </td><td>0.3528177674390705      </td><td>0.35105109545922425     </td><td>0.3426244240880782      </td><td>0.35333314573601227     </td><td>0.3495328525951403      </td><td>0.34532417279933425     </td><td>0.3394217745410696      </td><td>0.3510220014159845      </td><td>0.33942177454106975     </td><td>0.35154709786798916     </td><td>0.35256067934830415     </td><td>0.3337173472506315      </td><td>0.34953285259514016     </td><td>0.3533493610027597      </td><td>0.33881871107610817     </td><td>0.3382296713825094      </td><td>0.3529070694550217      </td><td>0.3525606793483045      </td><td>0.3510510954592245       </td><td>0.3531575575456851       </td><td>0.3515470978679892       </td><td>0.33860212557491587      </td><td>0.33768902914424603      </td><td>0.35284530257894287      </td><td>0.35319105965250414      </td><td>0.3382296713825091       </td><td>0.3376001306643076       </td><td>0.3494077582186613       </td><td>0.35319176493509324      </td><td>0.3505320064321227       </td><td>0.3515988205091355       </td><td>0.34940775821866155      </td><td>0.3508498710095795       </td><td>0.35359601342742564</td><td>0.35254195549783257</td><td>0.3529645917291796 </td><td>0.34768860008927066</td><td>0.3506623836649655 </td><td>0.33294725337078324</td><td>0.3525419554978333</td><td>0.350823600519027 </td><td>0.3534846882459145</td><td>0.34953285259514066</td><td>0.33294725337078274</td><td>0.35341914515058126</td><td>0.3446718165970708</td><td>0.3535960134274258</td><td>0.3531430976942744</td><td>0.3476886000892706</td><td>0.35359601342742575</td><td>0.35141279535506786</td><td>0.34953285259513994</td><td>0.3535960134274259 </td><td>0.348778038654758 </td><td>0.3534846882459149 </td><td>0.30239012225819994</td><td>0.34165099695069084</td><td>0.3514127953550678 </td><td>0.3508236005190266</td><td>0.3531430976942746 </td><td>0.34877803865475804</td><td>0.35359601342742586</td><td>0.3476886000892706</td><td>0.3527718731821393 </td><td>0.30239012225819994</td><td>0.3416509969506905 </td><td>0.34467181659707097</td><td>0.3535960134274261 </td><td>0.3521506456872644</td><td>0.3527718731821393</td><td>0.35313886555889656</td><td>0.35313886555889706</td><td>0.35132807770107  </td><td>0.3506623836649652 </td><td>0.3521506456872643</td><td>0.35296459172917977</td><td>0.3513280777010697 </td><td>0.3476886000892706 </td><td>0.35341914515058104</td><td>                  </td></tr>\n",
       "<tr><td>zeros  </td><td>0               </td><td>     </td><td>           </td><td>100407                 </td><td>100406                 </td><td>100406                 </td><td>100407                 </td><td>100404                 </td><td>100404                 </td><td>100404                 </td><td>100407                 </td><td>99558                  </td><td>99558                   </td><td>100407                  </td><td>100404                  </td><td>100066             </td><td>90119              </td><td>91446              </td><td>92051              </td><td>78943              </td><td>100082             </td><td>82751              </td><td>68183              </td><td>100334             </td><td>97491               </td><td>94493               </td><td>94705               </td><td>92874               </td><td>91050               </td><td>68183               </td><td>91446               </td><td>92051               </td><td>100108              </td><td>100066              </td><td>94561               </td><td>93928               </td><td>66675               </td><td>89447               </td><td>90119               </td><td>56561               </td><td>92679               </td><td>66754               </td><td>95331               </td><td>93023               </td><td>95168               </td><td>99547               </td><td>76228               </td><td>91050               </td><td>100035              </td><td>91446               </td><td>93928               </td><td>98019               </td><td>95168               </td><td>89447               </td><td>100108              </td><td>72756               </td><td>91735               </td><td>99479               </td><td>98059               </td><td>91446               </td><td>99816               </td><td>56561               </td><td>76228               </td><td>66604               </td><td>92874               </td><td>99547               </td><td>91620               </td><td>95331               </td><td>100082              </td><td>100035              </td><td>67508               </td><td>100407              </td><td>94493               </td><td>72756               </td><td>66675               </td><td>100108              </td><td>91620               </td><td>99982               </td><td>94561               </td><td>67508               </td><td>99816               </td><td>92679               </td><td>88528               </td><td>100334              </td><td>99479               </td><td>93023               </td><td>82751               </td><td>66604               </td><td>98059               </td><td>91735               </td><td>100108              </td><td>66754               </td><td>97491               </td><td>78943               </td><td>94705               </td><td>98019               </td><td>88528               </td><td>100407              </td><td>95291               </td><td>99982               </td><td>95291               </td><td>99871              </td><td>91505              </td><td>100145             </td><td>99871              </td><td>92103              </td><td>64881              </td><td>71990              </td><td>99897              </td><td>99750              </td><td>100094              </td><td>98250               </td><td>92710               </td><td>92103               </td><td>99233               </td><td>99850               </td><td>98008               </td><td>64881               </td><td>86431               </td><td>100145              </td><td>26153               </td><td>98250               </td><td>99750               </td><td>98008               </td><td>89026               </td><td>93012               </td><td>73888               </td><td>99850               </td><td>99897               </td><td>89026               </td><td>92710               </td><td>93012               </td><td>91505               </td><td>73888               </td><td>99233               </td><td>71990               </td><td>100094              </td><td>86431               </td><td>26153               </td><td>99814               </td><td>99860               </td><td>100406              </td><td>100407              </td><td>100405              </td><td>100404              </td><td>100407              </td><td>100406              </td><td>99814               </td><td>99860                </td><td>100404               </td><td>100404               </td><td>100405               </td><td>100404               </td><td>94282                  </td><td>95936                  </td><td>96073                  </td><td>100005                 </td><td>92401                  </td><td>92006                  </td><td>99942                  </td><td>92805                  </td><td>99944                  </td><td>92006                   </td><td>96134                   </td><td>100160                  </td><td>99340                   </td><td>92583                   </td><td>95249                   </td><td>98965                   </td><td>92805                   </td><td>92276                   </td><td>92938                   </td><td>95756                   </td><td>88738                   </td><td>100015                  </td><td>96073                   </td><td>99972                   </td><td>100015                  </td><td>95756                   </td><td>99942                   </td><td>96134                   </td><td>100160                  </td><td>89726                   </td><td>91585                   </td><td>99827                   </td><td>99944                   </td><td>100247                  </td><td>99979                   </td><td>100247                  </td><td>95249                   </td><td>98853                   </td><td>92276                   </td><td>98965                   </td><td>91528                   </td><td>89726                   </td><td>100262                  </td><td>89404                   </td><td>100213                  </td><td>99278                   </td><td>100213                  </td><td>100014                  </td><td>100005                  </td><td>100160                  </td><td>92583                   </td><td>100149                  </td><td>99426                   </td><td>100265                  </td><td>89404                   </td><td>100182                  </td><td>99827                   </td><td>99881                   </td><td>99172                   </td><td>95770                   </td><td>92193                   </td><td>94282                   </td><td>99288                   </td><td>100018                  </td><td>99288                   </td><td>89443                   </td><td>98676                   </td><td>99881                   </td><td>100149                  </td><td>88738                   </td><td>99426                   </td><td>92075                   </td><td>95936                   </td><td>92401                   </td><td>100182                  </td><td>98949                   </td><td>100014                  </td><td>92938                   </td><td>99340                   </td><td>94282                   </td><td>99172                   </td><td>99972                   </td><td>98966                   </td><td>94282                   </td><td>100262                  </td><td>98119                   </td><td>95770                   </td><td>92519                   </td><td>98949                   </td><td>92519                   </td><td>99250                   </td><td>99824                   </td><td>89443                   </td><td>98119                   </td><td>100265                  </td><td>92193                   </td><td>91871                   </td><td>100018                  </td><td>99824                   </td><td>98966                    </td><td>100160                   </td><td>99250                    </td><td>92075                    </td><td>91585                    </td><td>99979                    </td><td>100182                   </td><td>91871                    </td><td>91528                    </td><td>98046                    </td><td>100182                   </td><td>98676                    </td><td>99278                    </td><td>98046                    </td><td>98853                    </td><td>100407             </td><td>99813              </td><td>100049             </td><td>97081              </td><td>98750              </td><td>89026              </td><td>99813             </td><td>98840             </td><td>100349            </td><td>98119              </td><td>89026              </td><td>100310             </td><td>95404             </td><td>100407            </td><td>100150            </td><td>97081             </td><td>100407             </td><td>99178              </td><td>98119              </td><td>100407             </td><td>97693             </td><td>100349             </td><td>73440              </td><td>93744              </td><td>99178              </td><td>98840             </td><td>100150             </td><td>97693              </td><td>100407             </td><td>97081             </td><td>99941              </td><td>73440              </td><td>93744              </td><td>95404              </td><td>100407             </td><td>99587             </td><td>99941             </td><td>100147             </td><td>100147             </td><td>99127             </td><td>98750              </td><td>99587             </td><td>100049             </td><td>99127              </td><td>97081              </td><td>100310             </td><td>                  </td></tr>\n",
       "<tr><td>missing</td><td>0               </td><td>0    </td><td>0          </td><td>0                      </td><td>0                      </td><td>0                      </td><td>0                      </td><td>0                      </td><td>0                      </td><td>0                      </td><td>0                      </td><td>0                      </td><td>0                       </td><td>0                       </td><td>0                       </td><td>0                  </td><td>0                  </td><td>0                  </td><td>0                  </td><td>0                  </td><td>0                  </td><td>0                  </td><td>0                  </td><td>0                  </td><td>0                   </td><td>0                   </td><td>0                   </td><td>0                   </td><td>0                   </td><td>0                   </td><td>0                   </td><td>0                   </td><td>0                   </td><td>0                   </td><td>0                   </td><td>0                   </td><td>0                   </td><td>0                   </td><td>0                   </td><td>0                   </td><td>0                   </td><td>0                   </td><td>0                   </td><td>0                   </td><td>0                   </td><td>0                   </td><td>0                   </td><td>0                   </td><td>0                   </td><td>0                   </td><td>0                   </td><td>0                   </td><td>0                   </td><td>0                   </td><td>0                   </td><td>0                   </td><td>0                   </td><td>0                   </td><td>0                   </td><td>0                   </td><td>0                   </td><td>0                   </td><td>0                   </td><td>0                   </td><td>0                   </td><td>0                   </td><td>0                   </td><td>0                   </td><td>0                   </td><td>0                   </td><td>0                   </td><td>0                   </td><td>0                   </td><td>0                   </td><td>0                   </td><td>0                   </td><td>0                   </td><td>0                   </td><td>0                   </td><td>0                   </td><td>0                   </td><td>0                   </td><td>0                   </td><td>0                   </td><td>0                   </td><td>0                   </td><td>0                   </td><td>0                   </td><td>0                   </td><td>0                   </td><td>0                   </td><td>0                   </td><td>0                   </td><td>0                   </td><td>0                   </td><td>0                   </td><td>0                   </td><td>0                   </td><td>0                   </td><td>0                   </td><td>0                   </td><td>0                  </td><td>0                  </td><td>0                  </td><td>0                  </td><td>0                  </td><td>0                  </td><td>0                  </td><td>0                  </td><td>0                  </td><td>0                   </td><td>0                   </td><td>0                   </td><td>0                   </td><td>0                   </td><td>0                   </td><td>0                   </td><td>0                   </td><td>0                   </td><td>0                   </td><td>0                   </td><td>0                   </td><td>0                   </td><td>0                   </td><td>0                   </td><td>0                   </td><td>0                   </td><td>0                   </td><td>0                   </td><td>0                   </td><td>0                   </td><td>0                   </td><td>0                   </td><td>0                   </td><td>0                   </td><td>0                   </td><td>0                   </td><td>0                   </td><td>0                   </td><td>0                   </td><td>0                   </td><td>0                   </td><td>0                   </td><td>0                   </td><td>0                   </td><td>0                   </td><td>0                   </td><td>0                   </td><td>0                    </td><td>0                    </td><td>0                    </td><td>0                    </td><td>0                    </td><td>0                      </td><td>0                      </td><td>0                      </td><td>0                      </td><td>0                      </td><td>0                      </td><td>0                      </td><td>0                      </td><td>0                      </td><td>0                       </td><td>0                       </td><td>0                       </td><td>0                       </td><td>0                       </td><td>0                       </td><td>0                       </td><td>0                       </td><td>0                       </td><td>0                       </td><td>0                       </td><td>0                       </td><td>0                       </td><td>0                       </td><td>0                       </td><td>0                       </td><td>0                       </td><td>0                       </td><td>0                       </td><td>0                       </td><td>0                       </td><td>0                       </td><td>0                       </td><td>0                       </td><td>0                       </td><td>0                       </td><td>0                       </td><td>0                       </td><td>0                       </td><td>0                       </td><td>0                       </td><td>0                       </td><td>0                       </td><td>0                       </td><td>0                       </td><td>0                       </td><td>0                       </td><td>0                       </td><td>0                       </td><td>0                       </td><td>0                       </td><td>0                       </td><td>0                       </td><td>0                       </td><td>0                       </td><td>0                       </td><td>0                       </td><td>0                       </td><td>0                       </td><td>0                       </td><td>0                       </td><td>0                       </td><td>0                       </td><td>0                       </td><td>0                       </td><td>0                       </td><td>0                       </td><td>0                       </td><td>0                       </td><td>0                       </td><td>0                       </td><td>0                       </td><td>0                       </td><td>0                       </td><td>0                       </td><td>0                       </td><td>0                       </td><td>0                       </td><td>0                       </td><td>0                       </td><td>0                       </td><td>0                       </td><td>0                       </td><td>0                       </td><td>0                       </td><td>0                       </td><td>0                       </td><td>0                       </td><td>0                       </td><td>0                       </td><td>0                       </td><td>0                       </td><td>0                       </td><td>0                       </td><td>0                       </td><td>0                       </td><td>0                       </td><td>0                       </td><td>0                       </td><td>0                       </td><td>0                        </td><td>0                        </td><td>0                        </td><td>0                        </td><td>0                        </td><td>0                        </td><td>0                        </td><td>0                        </td><td>0                        </td><td>0                        </td><td>0                        </td><td>0                        </td><td>0                        </td><td>0                        </td><td>0                        </td><td>0                  </td><td>0                  </td><td>0                  </td><td>0                  </td><td>0                  </td><td>0                  </td><td>0                 </td><td>0                 </td><td>0                 </td><td>0                  </td><td>0                  </td><td>0                  </td><td>0                 </td><td>0                 </td><td>0                 </td><td>0                 </td><td>0                  </td><td>0                  </td><td>0                  </td><td>0                  </td><td>0                 </td><td>0                  </td><td>0                  </td><td>0                  </td><td>0                  </td><td>0                 </td><td>0                  </td><td>0                  </td><td>0                  </td><td>0                 </td><td>0                  </td><td>0                  </td><td>0                  </td><td>0                  </td><td>0                  </td><td>0                 </td><td>0                 </td><td>0                  </td><td>0                  </td><td>0                 </td><td>0                  </td><td>0                 </td><td>0                  </td><td>0                  </td><td>0                  </td><td>0                  </td><td>0                 </td></tr>\n",
       "<tr><td>0      </td><td>n000315175b67977</td><td>era1 </td><td>train      </td><td>0.0                    </td><td>0.5                    </td><td>0.25                   </td><td>0.0                    </td><td>0.5                    </td><td>0.25                   </td><td>0.25                   </td><td>0.25                   </td><td>0.75                   </td><td>0.75                    </td><td>0.25                    </td><td>0.25                    </td><td>1.0                </td><td>0.75               </td><td>0.5                </td><td>1.0                </td><td>0.5                </td><td>0.0                </td><td>0.5                </td><td>0.5                </td><td>0.0                </td><td>0.0                 </td><td>0.0                 </td><td>1.0                 </td><td>0.25                </td><td>0.0                 </td><td>0.5                 </td><td>0.25                </td><td>0.75                </td><td>0.5                 </td><td>1.0                 </td><td>0.75                </td><td>0.75                </td><td>0.5                 </td><td>0.5                 </td><td>0.75                </td><td>0.5                 </td><td>0.25                </td><td>0.75                </td><td>0.75                </td><td>0.5                 </td><td>0.25                </td><td>0.25                </td><td>0.5                 </td><td>0.25                </td><td>0.5                 </td><td>0.25                </td><td>0.75                </td><td>0.25                </td><td>0.25                </td><td>0.5                 </td><td>0.5                 </td><td>0.75                </td><td>0.25                </td><td>0.5                 </td><td>0.25                </td><td>0.5                 </td><td>0.25                </td><td>0.5                 </td><td>0.5                 </td><td>0.5                 </td><td>0.25                </td><td>0.5                 </td><td>0.25                </td><td>0.75                </td><td>0.0                 </td><td>0.25                </td><td>0.5                 </td><td>0.0                 </td><td>0.0                 </td><td>0.75                </td><td>0.5                 </td><td>0.5                 </td><td>0.25                </td><td>0.5                 </td><td>0.5                 </td><td>0.5                 </td><td>0.25                </td><td>0.25                </td><td>0.25                </td><td>0.0                 </td><td>0.5                 </td><td>0.5                 </td><td>0.5                 </td><td>0.5                 </td><td>0.0                 </td><td>0.5                 </td><td>0.5                 </td><td>0.75                </td><td>0.0                 </td><td>0.5                 </td><td>0.75                </td><td>0.5                 </td><td>0.5                 </td><td>0.0                 </td><td>0.75                </td><td>0.5                 </td><td>0.5                 </td><td>0.0                </td><td>0.75               </td><td>0.0                </td><td>0.25               </td><td>0.75               </td><td>0.25               </td><td>0.5                </td><td>1.0                </td><td>0.75               </td><td>0.5                 </td><td>0.0                 </td><td>0.5                 </td><td>0.75                </td><td>0.5                 </td><td>0.0                 </td><td>0.75                </td><td>0.5                 </td><td>0.75                </td><td>0.0                 </td><td>0.5                 </td><td>0.0                 </td><td>0.75                </td><td>0.75                </td><td>0.25                </td><td>0.5                 </td><td>0.5                 </td><td>0.0                 </td><td>1.0                 </td><td>0.25                </td><td>0.5                 </td><td>0.75                </td><td>0.75                </td><td>0.5                 </td><td>0.75                </td><td>0.5                 </td><td>0.5                 </td><td>0.5                 </td><td>0.5                 </td><td>0.75                </td><td>0.75                </td><td>0.5                 </td><td>1.0                 </td><td>0.75                </td><td>0.75                </td><td>1.0                 </td><td>0.5                 </td><td>0.75                </td><td>0.75                 </td><td>0.75                 </td><td>0.25                 </td><td>0.75                 </td><td>0.5                  </td><td>0.25                   </td><td>0.5                    </td><td>0.5                    </td><td>0.75                   </td><td>0.0                    </td><td>0.0                    </td><td>0.5                    </td><td>0.75                   </td><td>0.25                   </td><td>0.25                    </td><td>0.75                    </td><td>0.5                     </td><td>0.5                     </td><td>0.5                     </td><td>0.0                     </td><td>1.0                     </td><td>0.75                    </td><td>0.25                    </td><td>0.75                    </td><td>0.25                    </td><td>0.75                    </td><td>0.0                     </td><td>0.5                     </td><td>0.0                     </td><td>0.25                    </td><td>0.5                     </td><td>0.25                    </td><td>0.5                     </td><td>0.25                    </td><td>0.5                     </td><td>1.0                     </td><td>0.0                     </td><td>0.25                    </td><td>0.5                     </td><td>0.75                    </td><td>0.5                     </td><td>0.25                    </td><td>0.0                     </td><td>0.25                    </td><td>0.75                    </td><td>0.5                     </td><td>0.25                    </td><td>0.25                    </td><td>0.5                     </td><td>0.5                     </td><td>0.75                    </td><td>0.75                    </td><td>0.0                     </td><td>0.5                     </td><td>0.25                    </td><td>0.5                     </td><td>0.0                     </td><td>0.5                     </td><td>1.0                     </td><td>0.5                     </td><td>0.5                     </td><td>0.0                     </td><td>1.0                     </td><td>0.25                    </td><td>0.5                     </td><td>0.5                     </td><td>0.25                    </td><td>0.5                     </td><td>0.75                    </td><td>0.0                     </td><td>0.5                     </td><td>0.25                    </td><td>1.0                     </td><td>0.25                    </td><td>0.75                    </td><td>0.5                     </td><td>0.25                    </td><td>0.25                    </td><td>0.0                     </td><td>0.0                     </td><td>0.75                    </td><td>0.0                     </td><td>0.5                     </td><td>0.25                    </td><td>0.25                    </td><td>0.25                    </td><td>0.25                    </td><td>1.0                     </td><td>0.25                    </td><td>0.5                     </td><td>0.0                     </td><td>0.5                     </td><td>0.75                    </td><td>0.5                     </td><td>0.75                    </td><td>0.25                    </td><td>0.5                     </td><td>0.5                     </td><td>0.0                     </td><td>1.0                     </td><td>0.25                    </td><td>0.25                    </td><td>0.5                     </td><td>0.5                     </td><td>0.75                     </td><td>0.5                      </td><td>0.5                      </td><td>0.25                     </td><td>1.0                      </td><td>0.75                     </td><td>0.25                     </td><td>0.25                     </td><td>0.5                      </td><td>0.5                      </td><td>0.25                     </td><td>0.25                     </td><td>0.5                      </td><td>0.5                      </td><td>0.25                     </td><td>0.25               </td><td>1.0                </td><td>0.75               </td><td>0.5                </td><td>0.75               </td><td>0.75               </td><td>0.75              </td><td>0.75              </td><td>0.75              </td><td>0.75               </td><td>0.5                </td><td>1.0                </td><td>1.0               </td><td>0.5               </td><td>0.75              </td><td>0.5               </td><td>0.25               </td><td>0.25               </td><td>0.75               </td><td>0.5                </td><td>1.0               </td><td>0.5                </td><td>0.75               </td><td>0.75               </td><td>0.25               </td><td>0.5               </td><td>1.0                </td><td>0.75               </td><td>0.5                </td><td>0.5               </td><td>1.0                </td><td>0.25               </td><td>0.5                </td><td>0.5                </td><td>0.5                </td><td>0.75              </td><td>1.0               </td><td>1.0                </td><td>1.0                </td><td>0.75              </td><td>0.5                </td><td>0.75              </td><td>0.5                </td><td>1.0                </td><td>0.5                </td><td>0.75               </td><td>0.75              </td></tr>\n",
       "<tr><td>1      </td><td>n0014af834a96cdd</td><td>era1 </td><td>train      </td><td>0.0                    </td><td>0.0                    </td><td>0.0                    </td><td>0.25                   </td><td>0.5                    </td><td>0.0                    </td><td>0.0                    </td><td>0.25                   </td><td>0.5                    </td><td>0.5                     </td><td>0.0                     </td><td>0.5                     </td><td>0.0                </td><td>0.5                </td><td>0.5                </td><td>0.5                </td><td>0.5                </td><td>0.5                </td><td>0.25               </td><td>0.25               </td><td>0.5                </td><td>0.0                 </td><td>1.0                 </td><td>0.5                 </td><td>0.5                 </td><td>0.5                 </td><td>0.75                </td><td>0.5                 </td><td>0.5                 </td><td>0.75                </td><td>0.25                </td><td>0.5                 </td><td>0.75                </td><td>0.5                 </td><td>0.25                </td><td>0.75                </td><td>0.5                 </td><td>0.5                 </td><td>0.5                 </td><td>0.75                </td><td>0.5                 </td><td>0.5                 </td><td>0.75                </td><td>0.25                </td><td>0.5                 </td><td>0.25                </td><td>0.5                 </td><td>0.75                </td><td>0.75                </td><td>0.5                 </td><td>0.5                 </td><td>0.5                 </td><td>0.5                 </td><td>0.5                 </td><td>0.0                 </td><td>0.25                </td><td>0.25                </td><td>0.0                 </td><td>0.5                 </td><td>0.25                </td><td>0.5                 </td><td>0.5                 </td><td>0.75                </td><td>0.5                 </td><td>1.0                 </td><td>0.5                 </td><td>0.0                 </td><td>0.5                 </td><td>1.0                 </td><td>1.0                 </td><td>0.5                 </td><td>0.5                 </td><td>0.5                 </td><td>0.5                 </td><td>0.25                </td><td>0.5                 </td><td>0.5                 </td><td>0.0                 </td><td>0.5                 </td><td>0.5                 </td><td>0.75                </td><td>0.0                 </td><td>0.5                 </td><td>0.0                 </td><td>0.5                 </td><td>0.25                </td><td>0.5                 </td><td>1.0                 </td><td>0.5                 </td><td>0.0                 </td><td>0.5                 </td><td>0.5                 </td><td>1.0                 </td><td>0.75                </td><td>1.0                 </td><td>0.5                 </td><td>0.25                </td><td>0.5                 </td><td>0.5                </td><td>0.5                </td><td>0.25               </td><td>0.5                </td><td>0.75               </td><td>0.25               </td><td>0.5                </td><td>0.5                </td><td>0.75               </td><td>0.0                 </td><td>0.75                </td><td>0.0                 </td><td>0.5                 </td><td>0.25                </td><td>0.25                </td><td>1.0                 </td><td>0.25                </td><td>0.25                </td><td>0.0                 </td><td>0.75                </td><td>0.5                 </td><td>0.75                </td><td>1.0                 </td><td>0.0                 </td><td>0.0                 </td><td>0.5                 </td><td>0.5                 </td><td>0.25                </td><td>0.0                 </td><td>0.0                 </td><td>0.0                 </td><td>0.5                 </td><td>0.5                 </td><td>0.5                 </td><td>1.0                 </td><td>0.0                 </td><td>0.25                </td><td>0.75                </td><td>0.75                </td><td>0.5                 </td><td>0.0                 </td><td>0.5                 </td><td>0.25                </td><td>0.25                </td><td>0.25                </td><td>0.0                 </td><td>0.5                 </td><td>0.25                 </td><td>0.5                  </td><td>0.0                  </td><td>0.0                  </td><td>0.0                  </td><td>1.0                    </td><td>0.25                   </td><td>0.0                    </td><td>0.75                   </td><td>0.75                   </td><td>0.5                    </td><td>0.0                    </td><td>0.75                   </td><td>1.0                    </td><td>0.75                    </td><td>0.5                     </td><td>1.0                     </td><td>0.0                     </td><td>1.0                     </td><td>0.75                    </td><td>0.0                     </td><td>0.75                    </td><td>1.0                     </td><td>0.5                     </td><td>1.0                     </td><td>1.0                     </td><td>1.0                     </td><td>0.0                     </td><td>0.75                    </td><td>1.0                     </td><td>0.75                    </td><td>0.0                     </td><td>0.5                     </td><td>1.0                     </td><td>1.0                     </td><td>1.0                     </td><td>0.75                    </td><td>1.0                     </td><td>0.75                    </td><td>1.0                     </td><td>1.0                     </td><td>0.75                    </td><td>0.75                    </td><td>1.0                     </td><td>0.5                     </td><td>0.0                     </td><td>1.0                     </td><td>1.0                     </td><td>0.5                     </td><td>1.0                     </td><td>0.0                     </td><td>1.0                     </td><td>0.75                    </td><td>0.75                    </td><td>0.5                     </td><td>1.0                     </td><td>0.0                     </td><td>0.0                     </td><td>0.75                    </td><td>0.75                    </td><td>0.5                     </td><td>0.5                     </td><td>0.5                     </td><td>1.0                     </td><td>1.0                     </td><td>0.5                     </td><td>0.75                    </td><td>0.5                     </td><td>1.0                     </td><td>0.5                     </td><td>0.25                    </td><td>0.75                    </td><td>0.0                     </td><td>0.0                     </td><td>1.0                     </td><td>0.0                     </td><td>0.5                     </td><td>0.5                     </td><td>0.75                    </td><td>0.75                    </td><td>0.0                     </td><td>0.75                    </td><td>0.5                     </td><td>0.0                     </td><td>0.75                    </td><td>1.0                     </td><td>1.0                     </td><td>0.0                     </td><td>0.75                    </td><td>0.75                    </td><td>0.75                    </td><td>1.0                     </td><td>0.5                     </td><td>0.5                     </td><td>0.5                     </td><td>0.5                     </td><td>0.75                    </td><td>0.5                     </td><td>0.75                    </td><td>1.0                     </td><td>1.0                     </td><td>1.0                     </td><td>0.75                    </td><td>0.75                    </td><td>0.25                     </td><td>0.75                     </td><td>0.5                      </td><td>0.75                     </td><td>0.75                     </td><td>0.75                     </td><td>0.75                     </td><td>1.0                      </td><td>0.5                      </td><td>0.75                     </td><td>0.5                      </td><td>0.75                     </td><td>0.0                      </td><td>1.0                      </td><td>0.75                     </td><td>0.5                </td><td>1.0                </td><td>0.0                </td><td>0.25               </td><td>0.0                </td><td>1.0                </td><td>1.0               </td><td>0.25              </td><td>0.25              </td><td>0.25               </td><td>1.0                </td><td>1.0                </td><td>0.5               </td><td>0.5               </td><td>0.5               </td><td>0.0               </td><td>0.25               </td><td>1.0                </td><td>0.5                </td><td>1.0                </td><td>1.0               </td><td>0.5                </td><td>0.5                </td><td>0.5                </td><td>1.0                </td><td>0.25              </td><td>0.75               </td><td>1.0                </td><td>0.25               </td><td>0.25              </td><td>1.0                </td><td>0.5                </td><td>0.5                </td><td>0.5                </td><td>0.75               </td><td>0.75              </td><td>0.75              </td><td>1.0                </td><td>1.0                </td><td>0.0               </td><td>0.0                </td><td>0.75              </td><td>0.25               </td><td>0.0                </td><td>0.25               </td><td>1.0                </td><td>0.25              </td></tr>\n",
       "<tr><td>2      </td><td>n001c93979ac41d4</td><td>era1 </td><td>train      </td><td>0.25                   </td><td>0.5                    </td><td>0.25                   </td><td>0.25                   </td><td>1.0                    </td><td>0.75                   </td><td>0.75                   </td><td>0.25                   </td><td>0.0                    </td><td>0.25                    </td><td>0.5                     </td><td>1.0                     </td><td>0.5                </td><td>0.75               </td><td>0.5                </td><td>0.5                </td><td>1.0                </td><td>0.5                </td><td>0.5                </td><td>0.5                </td><td>0.25               </td><td>0.0                 </td><td>0.25                </td><td>0.75                </td><td>0.75                </td><td>0.75                </td><td>0.5                 </td><td>0.75                </td><td>0.5                 </td><td>0.25                </td><td>0.5                 </td><td>0.75                </td><td>0.25                </td><td>0.5                 </td><td>0.5                 </td><td>0.75                </td><td>0.5                 </td><td>0.5                 </td><td>0.25                </td><td>0.75                </td><td>0.75                </td><td>0.5                 </td><td>0.75                </td><td>0.0                 </td><td>0.75                </td><td>0.5                 </td><td>0.75                </td><td>0.25                </td><td>0.25                </td><td>0.75                </td><td>0.5                 </td><td>0.5                 </td><td>0.75                </td><td>0.75                </td><td>0.5                 </td><td>1.0                 </td><td>0.5                 </td><td>0.75                </td><td>0.5                 </td><td>0.0                 </td><td>0.75                </td><td>0.75                </td><td>0.75                </td><td>0.75                </td><td>0.75                </td><td>0.25                </td><td>0.5                 </td><td>0.5                 </td><td>0.0                 </td><td>0.0                 </td><td>1.0                 </td><td>0.5                 </td><td>0.5                 </td><td>0.75                </td><td>0.5                 </td><td>0.75                </td><td>0.5                 </td><td>0.5                 </td><td>0.5                 </td><td>0.75                </td><td>0.25                </td><td>0.5                 </td><td>0.5                 </td><td>0.5                 </td><td>0.75                </td><td>0.75                </td><td>0.75                </td><td>0.25                </td><td>0.0                 </td><td>0.0                 </td><td>0.75                </td><td>0.75                </td><td>0.25                </td><td>0.75                </td><td>0.0                 </td><td>0.5                 </td><td>0.5                 </td><td>0.75                </td><td>0.0                </td><td>0.0                </td><td>0.0                </td><td>0.0                </td><td>0.0                </td><td>0.0                </td><td>0.5                </td><td>0.0                </td><td>0.0                </td><td>0.0                 </td><td>0.0                 </td><td>0.5                 </td><td>0.0                 </td><td>0.0                 </td><td>0.0                 </td><td>0.25                </td><td>0.0                 </td><td>1.0                 </td><td>0.0                 </td><td>0.5                 </td><td>0.0                 </td><td>0.0                 </td><td>0.25                </td><td>0.5                 </td><td>0.0                 </td><td>0.5                 </td><td>0.0                 </td><td>0.0                 </td><td>0.5                 </td><td>0.5                 </td><td>0.0                 </td><td>0.25                </td><td>0.5                 </td><td>0.0                 </td><td>0.5                 </td><td>0.0                 </td><td>1.0                 </td><td>0.5                 </td><td>0.0                 </td><td>0.25                </td><td>1.0                 </td><td>1.0                 </td><td>0.25                </td><td>0.25                </td><td>1.0                 </td><td>0.75                </td><td>0.0                 </td><td>0.25                 </td><td>0.25                 </td><td>0.5                  </td><td>0.25                 </td><td>0.5                  </td><td>0.0                    </td><td>0.75                   </td><td>0.5                    </td><td>0.25                   </td><td>0.75                   </td><td>0.75                   </td><td>0.75                   </td><td>1.0                    </td><td>1.0                    </td><td>1.0                     </td><td>0.25                    </td><td>0.0                     </td><td>0.75                    </td><td>0.0                     </td><td>0.5                     </td><td>0.25                    </td><td>1.0                     </td><td>0.25                    </td><td>0.25                    </td><td>0.0                     </td><td>0.75                    </td><td>0.75                    </td><td>0.5                     </td><td>0.75                    </td><td>1.0                     </td><td>0.25                    </td><td>0.75                    </td><td>0.25                    </td><td>0.0                     </td><td>0.5                     </td><td>0.5                     </td><td>0.5                     </td><td>1.0                     </td><td>0.5                     </td><td>0.5                     </td><td>0.5                     </td><td>0.5                     </td><td>0.0                     </td><td>0.0                     </td><td>0.0                     </td><td>0.75                    </td><td>0.5                     </td><td>0.25                    </td><td>0.75                    </td><td>0.75                    </td><td>0.25                    </td><td>0.75                    </td><td>1.0                     </td><td>0.25                    </td><td>0.0                     </td><td>0.0                     </td><td>0.0                     </td><td>0.5                     </td><td>1.0                     </td><td>0.75                    </td><td>0.5                     </td><td>0.5                     </td><td>1.0                     </td><td>0.0                     </td><td>0.5                     </td><td>0.0                     </td><td>0.0                     </td><td>0.75                    </td><td>0.25                    </td><td>0.75                    </td><td>0.75                    </td><td>0.25                    </td><td>1.0                     </td><td>0.0                     </td><td>0.75                    </td><td>0.5                     </td><td>0.5                     </td><td>0.75                    </td><td>0.5                     </td><td>0.25                    </td><td>0.0                     </td><td>0.75                    </td><td>0.25                    </td><td>1.0                     </td><td>0.25                    </td><td>0.0                     </td><td>0.75                    </td><td>0.0                     </td><td>0.25                    </td><td>0.25                    </td><td>0.0                     </td><td>0.5                     </td><td>0.0                     </td><td>0.0                     </td><td>0.0                     </td><td>0.5                     </td><td>0.0                     </td><td>0.5                     </td><td>0.0                     </td><td>0.75                    </td><td>0.0                     </td><td>0.25                    </td><td>0.25                    </td><td>0.0                     </td><td>0.0                      </td><td>0.0                      </td><td>0.5                      </td><td>0.5                      </td><td>0.5                      </td><td>0.5                      </td><td>0.5                      </td><td>0.25                     </td><td>0.75                     </td><td>0.25                     </td><td>0.75                     </td><td>0.25                     </td><td>0.0                      </td><td>0.25                     </td><td>0.0                      </td><td>1.0                </td><td>0.5                </td><td>1.0                </td><td>0.75               </td><td>0.0                </td><td>1.0                </td><td>0.75              </td><td>0.25              </td><td>1.0               </td><td>1.0                </td><td>1.0                </td><td>0.5                </td><td>1.0               </td><td>1.0               </td><td>1.0               </td><td>0.5               </td><td>1.0                </td><td>0.0                </td><td>1.0                </td><td>1.0                </td><td>0.5               </td><td>1.0                </td><td>0.75               </td><td>1.0                </td><td>0.0                </td><td>0.5               </td><td>0.75               </td><td>0.0                </td><td>1.0                </td><td>0.5               </td><td>0.5                </td><td>0.75               </td><td>1.0                </td><td>0.75               </td><td>1.0                </td><td>0.25              </td><td>0.5               </td><td>0.25               </td><td>0.5                </td><td>0.0               </td><td>0.0                </td><td>0.5               </td><td>1.0                </td><td>0.0                </td><td>0.25               </td><td>0.75               </td><td>0                 </td></tr>\n",
       "<tr><td>3      </td><td>n0034e4143f22a13</td><td>era1 </td><td>train      </td><td>1.0                    </td><td>0.0                    </td><td>0.0                    </td><td>0.5                    </td><td>0.5                    </td><td>0.25                   </td><td>0.25                   </td><td>0.75                   </td><td>0.25                   </td><td>0.5                     </td><td>0.5                     </td><td>0.5                     </td><td>0.75               </td><td>0.5                </td><td>1.0                </td><td>0.5                </td><td>0.5                </td><td>0.0                </td><td>1.0                </td><td>0.0                </td><td>0.75               </td><td>0.0                 </td><td>0.5                 </td><td>0.5                 </td><td>0.5                 </td><td>0.5                 </td><td>0.0                 </td><td>0.5                 </td><td>0.5                 </td><td>0.75                </td><td>0.75                </td><td>0.5                 </td><td>0.25                </td><td>0.5                 </td><td>0.5                 </td><td>0.5                 </td><td>0.5                 </td><td>0.5                 </td><td>0.5                 </td><td>0.5                 </td><td>0.75                </td><td>0.5                 </td><td>0.5                 </td><td>1.0                 </td><td>0.5                 </td><td>0.5                 </td><td>0.5                 </td><td>0.5                 </td><td>0.75                </td><td>0.5                 </td><td>0.5                 </td><td>0.75                </td><td>0.5                 </td><td>0.5                 </td><td>0.25                </td><td>0.25                </td><td>1.0                 </td><td>0.0                 </td><td>0.5                 </td><td>1.0                 </td><td>0.5                 </td><td>0.5                 </td><td>0.5                 </td><td>0.5                 </td><td>0.5                 </td><td>0.0                 </td><td>0.5                 </td><td>0.5                 </td><td>1.0                 </td><td>0.75                </td><td>0.5                 </td><td>0.5                 </td><td>0.75                </td><td>0.5                 </td><td>1.0                 </td><td>0.5                 </td><td>0.5                 </td><td>0.0                 </td><td>0.5                 </td><td>0.25                </td><td>0.75                </td><td>0.5                 </td><td>0.75                </td><td>0.5                 </td><td>0.5                 </td><td>0.5                 </td><td>0.5                 </td><td>0.75                </td><td>0.5                 </td><td>0.0                 </td><td>0.5                 </td><td>0.5                 </td><td>0.75                </td><td>0.5                 </td><td>1.0                 </td><td>0.5                 </td><td>0.75                </td><td>0.5                 </td><td>0.0                </td><td>0.5                </td><td>0.5                </td><td>0.25               </td><td>0.75               </td><td>0.5                </td><td>1.0                </td><td>0.75               </td><td>0.5                </td><td>0.0                 </td><td>0.0                 </td><td>0.75                </td><td>1.0                 </td><td>0.0                 </td><td>0.25                </td><td>0.25                </td><td>0.25                </td><td>0.0                 </td><td>0.5                 </td><td>0.5                 </td><td>0.25                </td><td>0.75                </td><td>0.5                 </td><td>0.0                 </td><td>0.25                </td><td>0.5                 </td><td>0.0                 </td><td>1.0                 </td><td>0.0                 </td><td>0.5                 </td><td>0.25                </td><td>0.5                 </td><td>0.75                </td><td>0.0                 </td><td>1.0                 </td><td>0.0                 </td><td>0.0                 </td><td>0.5                 </td><td>0.25                </td><td>0.25                </td><td>0.25                </td><td>0.0                 </td><td>0.0                 </td><td>0.25                </td><td>0.25                </td><td>0.25                </td><td>0.5                 </td><td>0.25                 </td><td>0.25                 </td><td>0.25                 </td><td>0.25                 </td><td>0.25                 </td><td>0.75                   </td><td>0.75                   </td><td>0.5                    </td><td>0.25                   </td><td>0.25                   </td><td>0.25                   </td><td>1.0                    </td><td>1.0                    </td><td>0.5                    </td><td>0.25                    </td><td>0.5                     </td><td>0.0                     </td><td>1.0                     </td><td>0.25                    </td><td>0.75                    </td><td>0.5                     </td><td>1.0                     </td><td>0.25                    </td><td>0.25                    </td><td>0.75                    </td><td>0.0                     </td><td>0.25                    </td><td>0.25                    </td><td>0.25                    </td><td>0.25                    </td><td>0.75                    </td><td>1.0                     </td><td>0.5                     </td><td>0.0                     </td><td>0.0                     </td><td>0.0                     </td><td>0.25                    </td><td>0.5                     </td><td>0.25                    </td><td>0.25                    </td><td>0.25                    </td><td>0.75                    </td><td>0.25                    </td><td>0.25                    </td><td>0.25                    </td><td>0.0                     </td><td>0.25                    </td><td>0.75                    </td><td>1.0                     </td><td>0.25                    </td><td>0.5                     </td><td>0.25                    </td><td>0.25                    </td><td>0.25                    </td><td>0.0                     </td><td>0.0                     </td><td>0.5                     </td><td>1.0                     </td><td>0.25                    </td><td>1.0                     </td><td>1.0                     </td><td>0.25                    </td><td>0.5                     </td><td>0.25                    </td><td>0.25                    </td><td>0.0                     </td><td>0.75                    </td><td>0.75                    </td><td>0.25                    </td><td>1.0                     </td><td>1.0                     </td><td>0.25                    </td><td>0.5                     </td><td>0.5                     </td><td>0.25                    </td><td>1.0                     </td><td>0.0                     </td><td>0.75                    </td><td>0.25                    </td><td>0.0                     </td><td>0.75                    </td><td>0.25                    </td><td>0.25                    </td><td>1.0                     </td><td>0.75                    </td><td>0.25                    </td><td>0.25                    </td><td>0.75                    </td><td>0.75                    </td><td>0.75                    </td><td>0.25                    </td><td>0.25                    </td><td>0.25                    </td><td>0.75                    </td><td>0.25                    </td><td>1.0                     </td><td>0.5                     </td><td>1.0                     </td><td>0.25                    </td><td>0.25                    </td><td>0.0                     </td><td>0.25                    </td><td>0.5                     </td><td>0.25                    </td><td>0.5                      </td><td>0.0                      </td><td>1.0                      </td><td>0.0                      </td><td>0.0                      </td><td>0.25                     </td><td>0.25                     </td><td>0.25                     </td><td>0.0                      </td><td>0.25                     </td><td>0.75                     </td><td>0.25                     </td><td>0.75                     </td><td>0.25                     </td><td>0.25                     </td><td>1.0                </td><td>1.0                </td><td>1.0                </td><td>1.0                </td><td>0.75               </td><td>0.75               </td><td>1.0               </td><td>1.0               </td><td>1.0               </td><td>0.75               </td><td>0.75               </td><td>1.0                </td><td>0.75              </td><td>0.75              </td><td>0.75              </td><td>1.0               </td><td>0.75               </td><td>1.0                </td><td>0.75               </td><td>1.0                </td><td>0.75              </td><td>1.0                </td><td>0.0                </td><td>0.5                </td><td>0.75               </td><td>1.0               </td><td>0.75               </td><td>1.0                </td><td>0.75               </td><td>1.0               </td><td>1.0                </td><td>0.0                </td><td>0.5                </td><td>0.75               </td><td>0.75               </td><td>1.0               </td><td>0.75              </td><td>1.0                </td><td>1.0                </td><td>0.75              </td><td>0.75               </td><td>1.0               </td><td>1.0                </td><td>0.75               </td><td>1.0                </td><td>1.0                </td><td>0                 </td></tr>\n",
       "<tr><td>4      </td><td>n00679d1a636062f</td><td>era1 </td><td>train      </td><td>0.25                   </td><td>0.25                   </td><td>0.25                   </td><td>0.25                   </td><td>0.0                    </td><td>0.25                   </td><td>0.5                    </td><td>0.25                   </td><td>0.25                   </td><td>0.5                     </td><td>0.25                    </td><td>0.25                    </td><td>0.75               </td><td>0.5                </td><td>0.0                </td><td>0.5                </td><td>0.5                </td><td>0.25               </td><td>0.0                </td><td>0.5                </td><td>0.0                </td><td>0.5                 </td><td>0.25                </td><td>0.5                 </td><td>0.5                 </td><td>0.5                 </td><td>0.5                 </td><td>0.5                 </td><td>0.5                 </td><td>0.5                 </td><td>0.75                </td><td>0.5                 </td><td>0.25                </td><td>0.5                 </td><td>0.5                 </td><td>0.5                 </td><td>0.5                 </td><td>0.25                </td><td>0.5                 </td><td>0.25                </td><td>0.0                 </td><td>0.5                 </td><td>0.75                </td><td>0.25                </td><td>0.5                 </td><td>0.5                 </td><td>0.5                 </td><td>0.5                 </td><td>0.5                 </td><td>0.5                 </td><td>0.25                </td><td>0.25                </td><td>0.5                 </td><td>0.5                 </td><td>0.25                </td><td>0.0                 </td><td>0.0                 </td><td>1.0                 </td><td>0.5                 </td><td>0.25                </td><td>0.5                 </td><td>0.5                 </td><td>0.75                </td><td>0.0                 </td><td>0.5                 </td><td>0.25                </td><td>0.5                 </td><td>0.5                 </td><td>0.25                </td><td>0.5                 </td><td>0.5                 </td><td>0.5                 </td><td>0.5                 </td><td>0.0                 </td><td>0.75                </td><td>0.5                 </td><td>0.5                 </td><td>1.0                 </td><td>0.0                 </td><td>0.5                 </td><td>0.0                 </td><td>0.5                 </td><td>0.0                 </td><td>0.0                 </td><td>0.5                 </td><td>0.25                </td><td>0.5                 </td><td>0.5                 </td><td>0.5                 </td><td>0.25                </td><td>0.5                 </td><td>0.5                 </td><td>0.75                </td><td>0.5                 </td><td>0.5                 </td><td>0.5                 </td><td>0.75                </td><td>0.5                 </td><td>0.25               </td><td>0.5                </td><td>0.25               </td><td>0.25               </td><td>0.25               </td><td>0.5                </td><td>0.25               </td><td>0.25               </td><td>0.0                </td><td>0.25                </td><td>0.25                </td><td>0.25                </td><td>0.25                </td><td>0.0                 </td><td>0.25                </td><td>1.0                 </td><td>0.5                 </td><td>1.0                 </td><td>0.25                </td><td>0.5                 </td><td>0.25                </td><td>0.25                </td><td>1.0                 </td><td>0.25                </td><td>0.25                </td><td>0.0                 </td><td>0.25                </td><td>0.25                </td><td>0.25                </td><td>0.0                 </td><td>0.25                </td><td>0.5                 </td><td>0.25                </td><td>0.25                </td><td>0.25                </td><td>0.25                </td><td>1.0                 </td><td>0.5                 </td><td>0.5                 </td><td>0.5                 </td><td>0.5                 </td><td>0.75                </td><td>0.25                </td><td>0.5                 </td><td>0.75                </td><td>0.5                 </td><td>0.5                 </td><td>0.5                  </td><td>0.5                  </td><td>0.5                  </td><td>0.25                 </td><td>0.5                  </td><td>1.0                    </td><td>0.25                   </td><td>1.0                    </td><td>1.0                    </td><td>0.25                   </td><td>0.25                   </td><td>1.0                    </td><td>1.0                    </td><td>0.25                   </td><td>0.25                    </td><td>0.5                     </td><td>0.25                    </td><td>1.0                     </td><td>1.0                     </td><td>0.25                    </td><td>0.0                     </td><td>1.0                     </td><td>0.0                     </td><td>0.5                     </td><td>1.0                     </td><td>1.0                     </td><td>0.5                     </td><td>1.0                     </td><td>0.0                     </td><td>0.5                     </td><td>1.0                     </td><td>1.0                     </td><td>0.5                     </td><td>0.0                     </td><td>1.0                     </td><td>0.75                    </td><td>0.25                    </td><td>0.25                    </td><td>1.0                     </td><td>1.0                     </td><td>1.0                     </td><td>0.25                    </td><td>0.5                     </td><td>0.25                    </td><td>0.0                     </td><td>0.0                     </td><td>1.0                     </td><td>1.0                     </td><td>0.0                     </td><td>0.5                     </td><td>0.75                    </td><td>0.25                    </td><td>0.25                    </td><td>1.0                     </td><td>0.0                     </td><td>1.0                     </td><td>0.0                     </td><td>0.5                     </td><td>0.25                    </td><td>0.0                     </td><td>1.0                     </td><td>0.0                     </td><td>0.0                     </td><td>1.0                     </td><td>0.25                    </td><td>0.5                     </td><td>1.0                     </td><td>0.25                    </td><td>1.0                     </td><td>0.25                    </td><td>0.0                     </td><td>0.75                    </td><td>0.25                    </td><td>0.0                     </td><td>1.0                     </td><td>0.75                    </td><td>0.5                     </td><td>0.25                    </td><td>0.25                    </td><td>0.25                    </td><td>0.0                     </td><td>0.25                    </td><td>0.75                    </td><td>1.0                     </td><td>1.0                     </td><td>1.0                     </td><td>0.0                     </td><td>0.0                     </td><td>1.0                     </td><td>1.0                     </td><td>0.0                     </td><td>0.25                    </td><td>0.25                    </td><td>0.0                     </td><td>0.25                    </td><td>0.75                    </td><td>1.0                     </td><td>0.0                     </td><td>0.0                     </td><td>0.25                    </td><td>0.5                     </td><td>0.25                    </td><td>1.0                     </td><td>1.0                     </td><td>0.0                      </td><td>0.0                      </td><td>0.75                     </td><td>0.75                     </td><td>0.5                      </td><td>1.0                      </td><td>0.25                     </td><td>0.0                      </td><td>0.0                      </td><td>0.5                      </td><td>1.0                      </td><td>0.75                     </td><td>0.75                     </td><td>0.5                      </td><td>0.5                      </td><td>0.25               </td><td>0.75               </td><td>0.0                </td><td>0.5                </td><td>0.5                </td><td>1.0                </td><td>0.75              </td><td>1.0               </td><td>0.25              </td><td>0.75               </td><td>1.0                </td><td>0.75               </td><td>0.0               </td><td>0.0               </td><td>0.75              </td><td>0.5               </td><td>1.0                </td><td>0.5                </td><td>0.75               </td><td>0.25               </td><td>0.5               </td><td>0.0                </td><td>0.5                </td><td>0.5                </td><td>0.5                </td><td>0.75              </td><td>0.75               </td><td>0.5                </td><td>0.75               </td><td>0.25              </td><td>0.75               </td><td>0.5                </td><td>0.5                </td><td>0.25               </td><td>0.25               </td><td>0.75              </td><td>0.5               </td><td>0.75               </td><td>0.75               </td><td>0.25              </td><td>0.5                </td><td>0.75              </td><td>0.0                </td><td>0.5                </td><td>0.25               </td><td>0.75               </td><td>0.75              </td></tr>\n",
       "<tr><td>5      </td><td>n009aa2d32389eca</td><td>era1 </td><td>train      </td><td>0.5                    </td><td>0.5                    </td><td>0.25                   </td><td>0.25                   </td><td>0.75                   </td><td>0.75                   </td><td>0.75                   </td><td>0.5                    </td><td>0.25                   </td><td>0.5                     </td><td>0.25                    </td><td>0.75                    </td><td>1.0                </td><td>0.25               </td><td>0.25               </td><td>0.5                </td><td>1.0                </td><td>0.0                </td><td>0.5                </td><td>0.5                </td><td>0.5                </td><td>0.75                </td><td>0.0                 </td><td>0.0                 </td><td>0.75                </td><td>0.25                </td><td>0.5                 </td><td>0.5                 </td><td>0.5                 </td><td>1.0                 </td><td>1.0                 </td><td>0.25                </td><td>0.25                </td><td>0.5                 </td><td>0.25                </td><td>0.25                </td><td>0.5                 </td><td>0.25                </td><td>0.25                </td><td>0.75                </td><td>0.25                </td><td>1.0                 </td><td>0.5                 </td><td>1.0                 </td><td>0.25                </td><td>0.0                 </td><td>0.75                </td><td>0.0                 </td><td>1.0                 </td><td>1.0                 </td><td>0.25                </td><td>0.5                 </td><td>1.0                 </td><td>1.0                 </td><td>0.5                 </td><td>0.0                 </td><td>0.25                </td><td>0.25                </td><td>0.5                 </td><td>1.0                 </td><td>0.5                 </td><td>0.75                </td><td>0.25                </td><td>0.25                </td><td>0.75                </td><td>0.0                 </td><td>0.0                 </td><td>0.5                 </td><td>0.75                </td><td>0.0                 </td><td>0.75                </td><td>0.5                 </td><td>0.5                 </td><td>0.25                </td><td>0.75                </td><td>0.5                 </td><td>0.5                 </td><td>0.25                </td><td>0.25                </td><td>0.25                </td><td>0.5                 </td><td>0.5                 </td><td>0.5                 </td><td>0.5                 </td><td>0.5                 </td><td>0.0                 </td><td>1.0                 </td><td>1.0                 </td><td>0.75                </td><td>0.75                </td><td>0.75                </td><td>0.0                 </td><td>1.0                 </td><td>0.5                 </td><td>0.5                 </td><td>1.0                 </td><td>0.5                 </td><td>1.0                 </td><td>0.0                </td><td>0.25               </td><td>0.75               </td><td>0.0                </td><td>0.25               </td><td>1.0                </td><td>0.5                </td><td>1.0                </td><td>1.0                </td><td>0.0                 </td><td>0.0                 </td><td>0.5                 </td><td>0.25                </td><td>1.0                 </td><td>0.0                 </td><td>0.0                 </td><td>1.0                 </td><td>0.25                </td><td>1.0                 </td><td>0.5                 </td><td>0.0                 </td><td>1.0                 </td><td>0.0                 </td><td>0.75                </td><td>0.75                </td><td>0.5                 </td><td>0.0                 </td><td>1.0                 </td><td>1.0                 </td><td>0.75                </td><td>0.5                 </td><td>0.0                 </td><td>0.5                 </td><td>1.0                 </td><td>0.5                 </td><td>0.0                 </td><td>0.25                </td><td>0.5                 </td><td>0.5                 </td><td>0.25                </td><td>0.75                </td><td>0.75                </td><td>0.25                </td><td>0.25                </td><td>0.75                </td><td>0.5                 </td><td>0.5                 </td><td>0.5                  </td><td>0.25                 </td><td>0.25                 </td><td>0.25                 </td><td>0.5                  </td><td>0.5                    </td><td>1.0                    </td><td>0.5                    </td><td>0.5                    </td><td>0.75                   </td><td>0.75                   </td><td>0.0                    </td><td>0.25                   </td><td>0.0                    </td><td>0.75                    </td><td>0.25                    </td><td>1.0                     </td><td>0.0                     </td><td>0.0                     </td><td>0.5                     </td><td>1.0                     </td><td>0.5                     </td><td>0.0                     </td><td>0.25                    </td><td>0.75                    </td><td>0.5                     </td><td>0.0                     </td><td>0.25                    </td><td>0.5                     </td><td>0.25                    </td><td>0.75                    </td><td>0.25                    </td><td>0.25                    </td><td>1.0                     </td><td>0.0                     </td><td>0.5                     </td><td>0.0                     </td><td>0.0                     </td><td>0.5                     </td><td>0.25                    </td><td>0.5                     </td><td>0.25                    </td><td>0.75                    </td><td>0.0                     </td><td>1.0                     </td><td>0.75                    </td><td>0.0                     </td><td>0.75                    </td><td>0.5                     </td><td>0.0                     </td><td>1.0                     </td><td>0.0                     </td><td>0.25                    </td><td>0.25                    </td><td>1.0                     </td><td>0.0                     </td><td>1.0                     </td><td>0.0                     </td><td>0.0                     </td><td>0.75                    </td><td>0.75                    </td><td>0.0                     </td><td>0.75                    </td><td>0.0                     </td><td>0.0                     </td><td>0.0                     </td><td>0.5                     </td><td>1.0                     </td><td>0.0                     </td><td>1.0                     </td><td>0.75                    </td><td>0.75                    </td><td>0.75                    </td><td>0.75                    </td><td>0.5                     </td><td>0.25                    </td><td>0.75                    </td><td>1.0                     </td><td>0.75                    </td><td>0.0                     </td><td>0.0                     </td><td>0.25                    </td><td>0.25                    </td><td>0.25                    </td><td>0.5                     </td><td>0.0                     </td><td>0.75                    </td><td>1.0                     </td><td>0.5                     </td><td>0.75                    </td><td>0.5                     </td><td>0.0                     </td><td>0.75                    </td><td>0.0                     </td><td>0.5                     </td><td>1.0                     </td><td>0.0                     </td><td>0.75                    </td><td>0.5                     </td><td>0.0                     </td><td>0.0                     </td><td>0.25                    </td><td>0.25                    </td><td>0.0                     </td><td>1.0                      </td><td>0.75                     </td><td>1.0                      </td><td>1.0                      </td><td>0.25                     </td><td>0.5                      </td><td>0.0                      </td><td>0.0                      </td><td>0.75                     </td><td>0.25                     </td><td>1.0                      </td><td>0.75                     </td><td>1.0                      </td><td>0.5                      </td><td>0.75                     </td><td>1.0                </td><td>0.25               </td><td>0.75               </td><td>0.25               </td><td>0.0                </td><td>1.0                </td><td>0.0               </td><td>1.0               </td><td>0.75              </td><td>1.0                </td><td>1.0                </td><td>0.0                </td><td>1.0               </td><td>1.0               </td><td>0.75              </td><td>0.25              </td><td>0.5                </td><td>0.0                </td><td>0.75               </td><td>1.0                </td><td>1.0               </td><td>0.5                </td><td>0.5                </td><td>1.0                </td><td>0.0                </td><td>1.0               </td><td>0.75               </td><td>0.75               </td><td>0.5                </td><td>0.25              </td><td>0.75               </td><td>0.5                </td><td>0.75               </td><td>1.0                </td><td>1.0                </td><td>0.5               </td><td>0.75              </td><td>0.75               </td><td>0.75               </td><td>0.0               </td><td>0.0                </td><td>0.75              </td><td>0.5                </td><td>0.0                </td><td>0.25               </td><td>0.0                </td><td>0.25              </td></tr>\n",
       "<tr><td>6      </td><td>n009ef1a5fe009b6</td><td>era1 </td><td>train      </td><td>0.5                    </td><td>0.25                   </td><td>0.25                   </td><td>0.75                   </td><td>1.0                    </td><td>1.0                    </td><td>1.0                    </td><td>0.75                   </td><td>0.0                    </td><td>0.0                     </td><td>0.75                    </td><td>1.0                     </td><td>1.0                </td><td>0.25               </td><td>1.0                </td><td>0.75               </td><td>0.5                </td><td>0.25               </td><td>0.5                </td><td>0.5                </td><td>0.75               </td><td>0.75                </td><td>0.25                </td><td>0.0                 </td><td>0.25                </td><td>0.5                 </td><td>0.5                 </td><td>0.5                 </td><td>0.75                </td><td>0.25                </td><td>1.0                 </td><td>0.25                </td><td>1.0                 </td><td>0.5                 </td><td>0.25                </td><td>0.25                </td><td>0.5                 </td><td>0.5                 </td><td>1.0                 </td><td>1.0                 </td><td>0.25                </td><td>0.75                </td><td>0.25                </td><td>0.5                 </td><td>0.5                 </td><td>0.25                </td><td>0.5                 </td><td>0.75                </td><td>0.25                </td><td>0.5                 </td><td>0.25                </td><td>0.25                </td><td>0.5                 </td><td>0.5                 </td><td>0.75                </td><td>1.0                 </td><td>1.0                 </td><td>0.25                </td><td>0.5                 </td><td>0.5                 </td><td>0.5                 </td><td>0.25                </td><td>0.25                </td><td>0.25                </td><td>1.0                 </td><td>0.0                 </td><td>0.25                </td><td>0.5                 </td><td>0.75                </td><td>0.5                 </td><td>0.5                 </td><td>0.5                 </td><td>0.25                </td><td>0.25                </td><td>0.75                </td><td>0.0                 </td><td>0.5                 </td><td>0.5                 </td><td>0.5                 </td><td>0.25                </td><td>0.75                </td><td>0.75                </td><td>0.25                </td><td>0.5                 </td><td>0.5                 </td><td>1.0                 </td><td>0.5                 </td><td>0.25                </td><td>0.75                </td><td>0.5                 </td><td>0.5                 </td><td>0.0                 </td><td>0.25                </td><td>0.25                </td><td>0.75                </td><td>0.25                </td><td>0.75                </td><td>0.5                 </td><td>0.25               </td><td>0.75               </td><td>0.0                </td><td>0.25               </td><td>0.5                </td><td>1.0                </td><td>0.5                </td><td>0.0                </td><td>0.25               </td><td>0.25                </td><td>0.75                </td><td>0.25                </td><td>0.5                 </td><td>0.0                 </td><td>0.25                </td><td>0.75                </td><td>1.0                 </td><td>0.5                 </td><td>0.0                 </td><td>0.5                 </td><td>0.5                 </td><td>0.25                </td><td>0.75                </td><td>0.25                </td><td>0.5                 </td><td>0.5                 </td><td>0.25                </td><td>0.0                 </td><td>0.25                </td><td>0.25                </td><td>0.5                 </td><td>0.75                </td><td>0.5                 </td><td>0.0                 </td><td>0.5                 </td><td>0.5                 </td><td>0.5                 </td><td>0.5                 </td><td>0.0                 </td><td>0.0                 </td><td>0.0                 </td><td>0.0                 </td><td>0.0                 </td><td>0.0                 </td><td>0.0                 </td><td>0.0                 </td><td>0.25                </td><td>0.0                  </td><td>0.0                  </td><td>0.25                 </td><td>0.0                  </td><td>0.25                 </td><td>0.0                    </td><td>0.5                    </td><td>0.25                   </td><td>1.0                    </td><td>0.75                   </td><td>0.75                   </td><td>0.75                   </td><td>0.75                   </td><td>0.5                    </td><td>0.75                    </td><td>0.75                    </td><td>0.75                    </td><td>1.0                     </td><td>0.75                    </td><td>0.25                    </td><td>0.25                    </td><td>0.5                     </td><td>0.5                     </td><td>1.0                     </td><td>0.0                     </td><td>0.5                     </td><td>1.0                     </td><td>0.25                    </td><td>0.5                     </td><td>1.0                     </td><td>0.0                     </td><td>0.75                    </td><td>0.75                    </td><td>0.5                     </td><td>0.5                     </td><td>1.0                     </td><td>0.75                    </td><td>0.75                    </td><td>0.75                    </td><td>1.0                     </td><td>1.0                     </td><td>0.25                    </td><td>1.0                     </td><td>0.5                     </td><td>0.25                    </td><td>0.0                     </td><td>0.5                     </td><td>0.0                     </td><td>0.0                     </td><td>0.75                    </td><td>0.25                    </td><td>1.0                     </td><td>0.75                    </td><td>1.0                     </td><td>0.75                    </td><td>0.75                    </td><td>0.75                    </td><td>0.5                     </td><td>0.75                    </td><td>0.0                     </td><td>1.0                     </td><td>0.75                    </td><td>0.25                    </td><td>0.25                    </td><td>0.5                     </td><td>0.75                    </td><td>0.0                     </td><td>0.5                     </td><td>0.75                    </td><td>0.5                     </td><td>0.0                     </td><td>1.0                     </td><td>0.25                    </td><td>0.75                    </td><td>0.5                     </td><td>0.5                     </td><td>0.75                    </td><td>0.5                     </td><td>0.75                    </td><td>0.75                    </td><td>0.0                     </td><td>0.75                    </td><td>1.0                     </td><td>1.0                     </td><td>0.0                     </td><td>0.25                    </td><td>0.5                     </td><td>0.5                     </td><td>0.0                     </td><td>0.0                     </td><td>0.25                    </td><td>0.75                    </td><td>0.75                    </td><td>0.25                    </td><td>0.75                    </td><td>1.0                     </td><td>0.75                    </td><td>0.0                     </td><td>0.25                    </td><td>1.0                     </td><td>0.75                    </td><td>0.5                     </td><td>0.75                    </td><td>0.75                    </td><td>0.5                      </td><td>0.75                     </td><td>0.75                     </td><td>0.75                     </td><td>0.75                     </td><td>1.0                      </td><td>0.75                     </td><td>0.5                      </td><td>0.0                      </td><td>1.0                      </td><td>1.0                      </td><td>1.0                      </td><td>0.5                      </td><td>0.5                      </td><td>1.0                      </td><td>0.75               </td><td>1.0                </td><td>0.5                </td><td>0.75               </td><td>0.5                </td><td>0.25               </td><td>1.0               </td><td>1.0               </td><td>0.75              </td><td>0.75               </td><td>0.5                </td><td>1.0                </td><td>0.5               </td><td>1.0               </td><td>1.0               </td><td>0.5               </td><td>0.75               </td><td>0.25               </td><td>0.75               </td><td>0.75               </td><td>0.75              </td><td>0.5                </td><td>1.0                </td><td>0.5                </td><td>0.25               </td><td>0.75              </td><td>1.0                </td><td>1.0                </td><td>1.0                </td><td>0.75              </td><td>1.0                </td><td>0.75               </td><td>0.25               </td><td>1.0                </td><td>1.0                </td><td>0.75              </td><td>0.5               </td><td>1.0                </td><td>1.0                </td><td>0.5               </td><td>0.5                </td><td>0.75              </td><td>0.5                </td><td>0.5                </td><td>0.5                </td><td>1.0                </td><td>0                 </td></tr>\n",
       "<tr><td>7      </td><td>n00ae5d51f55fb0f</td><td>era1 </td><td>train      </td><td>0.25                   </td><td>1.0                    </td><td>1.0                    </td><td>0.75                   </td><td>1.0                    </td><td>0.75                   </td><td>0.75                   </td><td>0.75                   </td><td>1.0                    </td><td>0.75                    </td><td>0.25                    </td><td>1.0                     </td><td>0.0                </td><td>0.5                </td><td>1.0                </td><td>1.0                </td><td>0.5                </td><td>0.75               </td><td>1.0                </td><td>0.5                </td><td>1.0                </td><td>0.5                 </td><td>0.5                 </td><td>0.75                </td><td>0.0                 </td><td>0.5                 </td><td>0.5                 </td><td>0.5                 </td><td>1.0                 </td><td>1.0                 </td><td>0.0                 </td><td>0.5                 </td><td>0.75                </td><td>0.5                 </td><td>0.5                 </td><td>0.5                 </td><td>0.5                 </td><td>0.5                 </td><td>0.5                 </td><td>0.5                 </td><td>0.5                 </td><td>1.0                 </td><td>1.0                 </td><td>0.5                 </td><td>0.5                 </td><td>0.75                </td><td>0.5                 </td><td>0.25                </td><td>1.0                 </td><td>1.0                 </td><td>0.5                 </td><td>1.0                 </td><td>0.5                 </td><td>0.5                 </td><td>1.0                 </td><td>0.75                </td><td>1.0                 </td><td>0.25                </td><td>0.5                 </td><td>0.5                 </td><td>0.5                 </td><td>0.0                 </td><td>1.0                 </td><td>0.5                 </td><td>0.5                 </td><td>0.75                </td><td>0.75                </td><td>0.5                 </td><td>1.0                 </td><td>0.25                </td><td>0.5                 </td><td>0.5                 </td><td>1.0                 </td><td>0.5                 </td><td>1.0                 </td><td>0.5                 </td><td>0.5                 </td><td>0.25                </td><td>0.5                 </td><td>0.5                 </td><td>1.0                 </td><td>1.0                 </td><td>0.5                 </td><td>1.0                 </td><td>0.5                 </td><td>1.0                 </td><td>0.5                 </td><td>1.0                 </td><td>0.5                 </td><td>0.5                 </td><td>0.5                 </td><td>0.75                </td><td>1.0                 </td><td>0.5                 </td><td>1.0                 </td><td>0.5                 </td><td>1.0                 </td><td>0.5                 </td><td>0.25               </td><td>0.5                </td><td>0.0                </td><td>0.25               </td><td>0.25               </td><td>0.5                </td><td>1.0                </td><td>0.75               </td><td>1.0                </td><td>0.5                 </td><td>0.5                 </td><td>1.0                 </td><td>0.5                 </td><td>0.5                 </td><td>0.5                 </td><td>0.75                </td><td>0.5                 </td><td>0.5                 </td><td>0.25                </td><td>0.5                 </td><td>0.5                 </td><td>1.0                 </td><td>0.5                 </td><td>0.5                 </td><td>0.5                 </td><td>0.5                 </td><td>0.5                 </td><td>0.75                </td><td>0.5                 </td><td>1.0                 </td><td>0.25                </td><td>0.5                 </td><td>0.25                </td><td>0.5                 </td><td>1.0                 </td><td>0.25                </td><td>0.5                 </td><td>0.5                 </td><td>1.0                 </td><td>1.0                 </td><td>1.0                 </td><td>1.0                 </td><td>1.0                 </td><td>1.0                 </td><td>1.0                 </td><td>1.0                 </td><td>1.0                 </td><td>1.0                  </td><td>0.75                 </td><td>1.0                  </td><td>1.0                  </td><td>1.0                  </td><td>0.5                    </td><td>0.25                   </td><td>0.75                   </td><td>0.5                    </td><td>0.75                   </td><td>0.75                   </td><td>0.75                   </td><td>0.75                   </td><td>0.75                   </td><td>1.0                     </td><td>0.5                     </td><td>0.75                    </td><td>0.75                    </td><td>1.0                     </td><td>0.5                     </td><td>1.0                     </td><td>0.5                     </td><td>0.25                    </td><td>0.75                    </td><td>0.5                     </td><td>0.5                     </td><td>0.5                     </td><td>0.75                    </td><td>0.75                    </td><td>0.5                     </td><td>0.25                    </td><td>0.75                    </td><td>0.25                    </td><td>0.75                    </td><td>0.75                    </td><td>0.75                    </td><td>0.5                     </td><td>0.75                    </td><td>0.5                     </td><td>0.75                    </td><td>0.5                     </td><td>0.5                     </td><td>0.25                    </td><td>0.25                    </td><td>0.75                    </td><td>0.25                    </td><td>0.75                    </td><td>0.5                     </td><td>0.25                    </td><td>0.5                     </td><td>0.5                     </td><td>0.75                    </td><td>0.75                    </td><td>0.75                    </td><td>0.5                     </td><td>1.0                     </td><td>0.75                    </td><td>0.75                    </td><td>0.5                     </td><td>0.5                     </td><td>0.0                     </td><td>0.5                     </td><td>0.75                    </td><td>0.75                    </td><td>0.75                    </td><td>1.0                     </td><td>0.5                     </td><td>0.0                     </td><td>0.5                     </td><td>0.5                     </td><td>0.25                    </td><td>0.25                    </td><td>1.0                     </td><td>0.75                    </td><td>0.5                     </td><td>0.5                     </td><td>1.0                     </td><td>0.5                     </td><td>0.75                    </td><td>0.25                    </td><td>0.25                    </td><td>0.5                     </td><td>0.75                    </td><td>0.75                    </td><td>0.25                    </td><td>0.5                     </td><td>0.75                    </td><td>0.75                    </td><td>0.25                    </td><td>0.25                    </td><td>0.0                     </td><td>0.75                    </td><td>1.0                     </td><td>0.5                     </td><td>1.0                     </td><td>0.0                     </td><td>0.25                    </td><td>0.75                    </td><td>0.0                     </td><td>0.75                    </td><td>1.0                     </td><td>0.5                     </td><td>0.25                    </td><td>0.25                    </td><td>0.5                      </td><td>0.5                      </td><td>0.0                      </td><td>1.0                      </td><td>0.75                     </td><td>0.5                      </td><td>0.25                     </td><td>0.5                      </td><td>0.25                     </td><td>0.25                     </td><td>0.0                      </td><td>0.5                      </td><td>0.25                     </td><td>0.5                      </td><td>0.0                      </td><td>0.5                </td><td>0.5                </td><td>0.25               </td><td>0.25               </td><td>0.75               </td><td>0.5                </td><td>0.25              </td><td>0.25              </td><td>0.5               </td><td>0.75               </td><td>0.5                </td><td>0.5                </td><td>0.25              </td><td>0.25              </td><td>0.25              </td><td>0.25              </td><td>1.0                </td><td>0.75               </td><td>1.0                </td><td>0.5                </td><td>0.25              </td><td>0.5                </td><td>0.5                </td><td>0.25               </td><td>0.5                </td><td>0.25              </td><td>0.5                </td><td>0.0                </td><td>0.75               </td><td>0.5               </td><td>0.0                </td><td>0.75               </td><td>0.25               </td><td>0.0                </td><td>0.0                </td><td>0.25              </td><td>0.5               </td><td>0.5                </td><td>0.25               </td><td>0.75              </td><td>0.75               </td><td>0.0               </td><td>0.25               </td><td>0.75               </td><td>0.5                </td><td>0.25               </td><td>0                 </td></tr>\n",
       "<tr><td>8      </td><td>n00b0ac86d77aed7</td><td>era1 </td><td>train      </td><td>0.5                    </td><td>0.5                    </td><td>0.5                    </td><td>1.0                    </td><td>1.0                    </td><td>0.25                   </td><td>0.5                    </td><td>1.0                    </td><td>0.5                    </td><td>0.25                    </td><td>0.5                     </td><td>1.0                     </td><td>0.75               </td><td>0.75               </td><td>0.0                </td><td>0.5                </td><td>0.5                </td><td>0.5                </td><td>0.0                </td><td>0.5                </td><td>0.25               </td><td>1.0                 </td><td>0.5                 </td><td>0.75                </td><td>0.5                 </td><td>0.5                 </td><td>0.5                 </td><td>0.75                </td><td>0.5                 </td><td>0.5                 </td><td>0.75                </td><td>0.5                 </td><td>0.75                </td><td>0.5                 </td><td>0.5                 </td><td>0.5                 </td><td>0.5                 </td><td>1.0                 </td><td>0.5                 </td><td>0.5                 </td><td>0.5                 </td><td>0.5                 </td><td>0.5                 </td><td>0.5                 </td><td>0.25                </td><td>1.0                 </td><td>0.75                </td><td>0.25                </td><td>0.5                 </td><td>0.25                </td><td>0.5                 </td><td>0.25                </td><td>0.75                </td><td>0.25                </td><td>0.25                </td><td>0.5                 </td><td>0.0                 </td><td>0.5                 </td><td>0.5                 </td><td>0.5                 </td><td>0.5                 </td><td>0.75                </td><td>0.5                 </td><td>0.5                 </td><td>0.5                 </td><td>0.5                 </td><td>1.0                 </td><td>0.5                 </td><td>1.0                 </td><td>0.5                 </td><td>0.75                </td><td>0.5                 </td><td>0.25                </td><td>0.5                 </td><td>0.0                 </td><td>0.25                </td><td>0.5                 </td><td>0.5                 </td><td>0.75                </td><td>0.5                 </td><td>0.0                 </td><td>0.25                </td><td>0.5                 </td><td>0.0                 </td><td>0.5                 </td><td>0.75                </td><td>0.5                 </td><td>0.5                 </td><td>0.5                 </td><td>0.75                </td><td>0.5                 </td><td>0.75                </td><td>0.5                 </td><td>0.5                 </td><td>1.0                 </td><td>0.5                 </td><td>0.0                 </td><td>0.5                 </td><td>0.0                </td><td>0.5                </td><td>0.0                </td><td>0.0                </td><td>0.25               </td><td>0.5                </td><td>0.75               </td><td>0.75               </td><td>0.75               </td><td>1.0                 </td><td>0.0                 </td><td>0.25                </td><td>0.25                </td><td>0.75                </td><td>0.0                 </td><td>0.25                </td><td>0.5                 </td><td>1.0                 </td><td>0.0                 </td><td>0.5                 </td><td>0.0                 </td><td>0.75                </td><td>0.0                 </td><td>0.5                 </td><td>0.5                 </td><td>0.0                 </td><td>0.0                 </td><td>0.75                </td><td>0.5                 </td><td>0.25                </td><td>0.5                 </td><td>0.5                 </td><td>0.0                 </td><td>0.75                </td><td>0.75                </td><td>1.0                 </td><td>1.0                 </td><td>0.5                 </td><td>0.0                 </td><td>0.25                </td><td>0.5                 </td><td>1.0                 </td><td>0.5                 </td><td>0.75                </td><td>0.75                </td><td>0.75                </td><td>0.5                 </td><td>0.75                 </td><td>0.5                  </td><td>0.75                 </td><td>1.0                  </td><td>0.5                  </td><td>0.0                    </td><td>0.25                   </td><td>0.5                    </td><td>0.0                    </td><td>0.0                    </td><td>0.0                    </td><td>0.0                    </td><td>0.5                    </td><td>0.0                    </td><td>0.0                     </td><td>0.0                     </td><td>0.75                    </td><td>0.0                     </td><td>0.0                     </td><td>0.5                     </td><td>0.25                    </td><td>0.5                     </td><td>0.0                     </td><td>0.0                     </td><td>0.0                     </td><td>0.0                     </td><td>0.0                     </td><td>0.75                    </td><td>0.5                     </td><td>0.0                     </td><td>0.0                     </td><td>0.25                    </td><td>0.0                     </td><td>0.75                    </td><td>0.0                     </td><td>0.5                     </td><td>0.0                     </td><td>0.0                     </td><td>0.0                     </td><td>0.25                    </td><td>0.0                     </td><td>0.5                     </td><td>0.0                     </td><td>0.0                     </td><td>0.25                    </td><td>0.5                     </td><td>0.0                     </td><td>0.25                    </td><td>0.5                     </td><td>0.0                     </td><td>0.5                     </td><td>0.0                     </td><td>0.0                     </td><td>0.25                    </td><td>0.5                     </td><td>0.0                     </td><td>1.0                     </td><td>0.0                     </td><td>0.0                     </td><td>0.5                     </td><td>1.0                     </td><td>0.0                     </td><td>0.0                     </td><td>0.0                     </td><td>0.0                     </td><td>0.0                     </td><td>0.0                     </td><td>0.25                    </td><td>0.25                    </td><td>0.5                     </td><td>0.5                     </td><td>0.0                     </td><td>0.0                     </td><td>1.0                     </td><td>0.0                     </td><td>0.0                     </td><td>1.0                     </td><td>0.25                    </td><td>0.0                     </td><td>0.0                     </td><td>0.0                     </td><td>0.0                     </td><td>0.0                     </td><td>0.25                    </td><td>0.0                     </td><td>0.0                     </td><td>0.5                     </td><td>1.0                     </td><td>0.0                     </td><td>0.0                     </td><td>0.0                     </td><td>0.0                     </td><td>1.0                     </td><td>0.25                    </td><td>1.0                     </td><td>1.0                     </td><td>0.0                     </td><td>0.5                     </td><td>0.25                    </td><td>0.0                     </td><td>0.0                     </td><td>0.25                    </td><td>0.0                     </td><td>0.25                    </td><td>1.0                      </td><td>0.5                      </td><td>1.0                      </td><td>1.0                      </td><td>0.5                      </td><td>0.0                      </td><td>0.0                      </td><td>0.25                     </td><td>0.5                      </td><td>0.0                      </td><td>1.0                      </td><td>0.0                      </td><td>0.5                      </td><td>0.25                     </td><td>0.0                      </td><td>0.5                </td><td>0.25               </td><td>1.0                </td><td>0.0                </td><td>0.0                </td><td>0.5                </td><td>0.0               </td><td>0.0               </td><td>1.0               </td><td>0.5                </td><td>0.5                </td><td>0.0                </td><td>0.25              </td><td>0.25              </td><td>0.0               </td><td>0.0               </td><td>0.5                </td><td>0.0                </td><td>0.75               </td><td>0.5                </td><td>0.0               </td><td>1.0                </td><td>0.75               </td><td>0.5                </td><td>0.0                </td><td>0.0               </td><td>0.0                </td><td>0.0                </td><td>0.25               </td><td>0.25              </td><td>0.0                </td><td>1.0                </td><td>0.5                </td><td>0.0                </td><td>0.25               </td><td>0.0               </td><td>0.0               </td><td>0.0                </td><td>0.0                </td><td>0.0               </td><td>0.0                </td><td>0.0               </td><td>1.0                </td><td>0.0                </td><td>0.0                </td><td>0.0                </td><td>0.5               </td></tr>\n",
       "<tr><td>9      </td><td>n00c63366aeaf76a</td><td>era1 </td><td>train      </td><td>0.5                    </td><td>1.0                    </td><td>1.0                    </td><td>0.25                   </td><td>0.75                   </td><td>0.25                   </td><td>0.25                   </td><td>0.75                   </td><td>0.5                    </td><td>0.5                     </td><td>0.25                    </td><td>0.75                    </td><td>0.0                </td><td>0.25               </td><td>0.5                </td><td>1.0                </td><td>0.5                </td><td>1.0                </td><td>0.5                </td><td>1.0                </td><td>0.75               </td><td>0.5                 </td><td>1.0                 </td><td>0.25                </td><td>1.0                 </td><td>0.75                </td><td>1.0                 </td><td>0.5                 </td><td>0.75                </td><td>1.0                 </td><td>0.25                </td><td>0.75                </td><td>1.0                 </td><td>0.5                 </td><td>1.0                 </td><td>0.25                </td><td>0.5                 </td><td>1.0                 </td><td>1.0                 </td><td>1.0                 </td><td>1.0                 </td><td>1.0                 </td><td>0.75                </td><td>0.5                 </td><td>0.5                 </td><td>1.0                 </td><td>0.5                 </td><td>1.0                 </td><td>1.0                 </td><td>0.75                </td><td>1.0                 </td><td>0.75                </td><td>0.5                 </td><td>0.5                 </td><td>0.75                </td><td>0.25                </td><td>0.5                 </td><td>1.0                 </td><td>0.5                 </td><td>0.5                 </td><td>0.5                 </td><td>1.0                 </td><td>0.75                </td><td>0.5                 </td><td>1.0                 </td><td>1.0                 </td><td>1.0                 </td><td>0.5                 </td><td>1.0                 </td><td>1.0                 </td><td>0.5                 </td><td>0.5                 </td><td>1.0                 </td><td>0.5                 </td><td>1.0                 </td><td>0.75                </td><td>0.5                 </td><td>1.0                 </td><td>1.0                 </td><td>1.0                 </td><td>0.75                </td><td>0.75                </td><td>1.0                 </td><td>0.5                 </td><td>0.5                 </td><td>0.25                </td><td>0.5                 </td><td>1.0                 </td><td>1.0                 </td><td>0.5                 </td><td>0.5                 </td><td>0.25                </td><td>1.0                 </td><td>1.0                 </td><td>1.0                 </td><td>1.0                 </td><td>1.0                 </td><td>1.0                 </td><td>0.75               </td><td>0.25               </td><td>0.0                </td><td>0.75               </td><td>1.0                </td><td>0.75               </td><td>0.5                </td><td>0.0                </td><td>1.0                </td><td>0.0                 </td><td>0.0                 </td><td>1.0                 </td><td>1.0                 </td><td>0.5                 </td><td>0.75                </td><td>0.75                </td><td>0.75                </td><td>0.25                </td><td>0.0                 </td><td>0.5                 </td><td>0.0                 </td><td>1.0                 </td><td>0.75                </td><td>0.0                 </td><td>0.5                 </td><td>0.5                 </td><td>0.75                </td><td>0.0                 </td><td>0.0                 </td><td>1.0                 </td><td>0.5                 </td><td>0.25                </td><td>0.5                 </td><td>0.5                 </td><td>0.5                 </td><td>0.0                 </td><td>0.25                </td><td>0.5                 </td><td>1.0                 </td><td>1.0                 </td><td>1.0                 </td><td>1.0                 </td><td>1.0                 </td><td>1.0                 </td><td>1.0                 </td><td>1.0                 </td><td>1.0                 </td><td>1.0                  </td><td>1.0                  </td><td>1.0                  </td><td>1.0                  </td><td>1.0                  </td><td>1.0                    </td><td>0.5                    </td><td>0.5                    </td><td>0.5                    </td><td>0.5                    </td><td>0.0                    </td><td>0.75                   </td><td>0.0                    </td><td>0.0                    </td><td>0.0                     </td><td>0.5                     </td><td>0.75                    </td><td>0.25                    </td><td>0.75                    </td><td>0.0                     </td><td>1.0                     </td><td>0.0                     </td><td>0.0                     </td><td>0.0                     </td><td>0.25                    </td><td>0.75                    </td><td>0.0                     </td><td>0.25                    </td><td>0.0                     </td><td>0.0                     </td><td>0.25                    </td><td>0.75                    </td><td>0.5                     </td><td>1.0                     </td><td>1.0                     </td><td>0.25                    </td><td>0.25                    </td><td>0.25                    </td><td>1.0                     </td><td>0.75                    </td><td>1.0                     </td><td>0.0                     </td><td>0.75                    </td><td>0.25                    </td><td>1.0                     </td><td>1.0                     </td><td>1.0                     </td><td>0.25                    </td><td>0.75                    </td><td>0.5                     </td><td>0.75                    </td><td>0.5                     </td><td>0.0                     </td><td>0.5                     </td><td>1.0                     </td><td>0.75                    </td><td>1.0                     </td><td>0.25                    </td><td>0.0                     </td><td>0.75                    </td><td>0.25                    </td><td>0.25                    </td><td>0.75                    </td><td>0.75                    </td><td>0.0                     </td><td>0.25                    </td><td>1.0                     </td><td>0.5                     </td><td>0.0                     </td><td>0.25                    </td><td>0.75                    </td><td>0.0                     </td><td>0.5                     </td><td>1.0                     </td><td>0.75                    </td><td>0.25                    </td><td>0.25                    </td><td>0.75                    </td><td>0.75                    </td><td>0.25                    </td><td>1.0                     </td><td>0.0                     </td><td>0.25                    </td><td>0.25                    </td><td>1.0                     </td><td>1.0                     </td><td>0.0                     </td><td>1.0                     </td><td>0.75                    </td><td>0.25                    </td><td>1.0                     </td><td>0.25                    </td><td>0.0                     </td><td>1.0                     </td><td>0.0                     </td><td>0.25                    </td><td>1.0                     </td><td>0.5                     </td><td>1.0                     </td><td>0.0                     </td><td>0.25                    </td><td>0.0                     </td><td>0.0                     </td><td>1.0                     </td><td>1.0                      </td><td>1.0                      </td><td>0.25                     </td><td>0.25                     </td><td>0.25                     </td><td>0.75                     </td><td>0.25                     </td><td>0.0                      </td><td>1.0                      </td><td>0.75                     </td><td>0.25                     </td><td>0.0                      </td><td>1.0                      </td><td>0.5                      </td><td>0.75                     </td><td>0.25               </td><td>0.75               </td><td>0.75               </td><td>1.0                </td><td>1.0                </td><td>0.75               </td><td>0.75              </td><td>0.75              </td><td>0.75              </td><td>0.0                </td><td>0.75               </td><td>0.75               </td><td>0.5               </td><td>0.5               </td><td>0.0               </td><td>1.0               </td><td>0.5                </td><td>0.75               </td><td>0.0                </td><td>0.25               </td><td>0.25              </td><td>0.5                </td><td>0.75               </td><td>0.5                </td><td>1.0                </td><td>0.75              </td><td>0.0                </td><td>0.25               </td><td>0.75               </td><td>1.0               </td><td>0.25               </td><td>0.75               </td><td>0.75               </td><td>0.5                </td><td>0.5                </td><td>0.5               </td><td>0.0               </td><td>0.0                </td><td>0.0                </td><td>1.0               </td><td>1.0                </td><td>0.75              </td><td>0.5                </td><td>1.0                </td><td>1.0                </td><td>0.75               </td><td>1                 </td></tr>\n",
       "</tbody>\n",
       "</table>"
      ]
     },
     "metadata": {},
     "output_type": "display_data"
    }
   ],
   "source": [
    "df.describe()"
   ]
  },
  {
   "cell_type": "code",
   "execution_count": 21,
   "metadata": {},
   "outputs": [],
   "source": [
    "df[response] = df[response].ascharacter().asfactor()"
   ]
  },
  {
   "cell_type": "code",
   "execution_count": 31,
   "metadata": {},
   "outputs": [
    {
     "name": "stderr",
     "output_type": "stream",
     "text": [
      "/Users/nicholasrichers/Documents/virtualenvs/numerai_env/lib/python3.8/site-packages/h2o/estimators/estimator_base.py:200: RuntimeWarning: Dropping bad and constant columns: [data_type, id]\n",
      "  warnings.warn(mesg[\"message\"], RuntimeWarning)\n"
     ]
    },
    {
     "name": "stdout",
     "output_type": "stream",
     "text": [
      "gbm Model Build progress: |███████████████████████████████████████████████| 100%\n"
     ]
    }
   ],
   "source": [
    "predictors = df.columns[3:-1]\n",
    "gbm = H2OGradientBoostingEstimator()\n",
    "gbm.train(x=predictors, y=response, training_frame=df)"
   ]
  },
  {
   "cell_type": "code",
   "execution_count": 47,
   "metadata": {},
   "outputs": [
    {
     "name": "stdout",
     "output_type": "stream",
     "text": [
      "Model Details\n",
      "=============\n",
      "H2OGradientBoostingEstimator :  Gradient Boosting Machine\n",
      "Model Key:  GBM_model_python_1597566247245_1\n",
      "\n",
      "\n",
      "Model Summary: \n"
     ]
    },
    {
     "data": {
      "text/html": [
       "<div>\n",
       "<style scoped>\n",
       "    .dataframe tbody tr th:only-of-type {\n",
       "        vertical-align: middle;\n",
       "    }\n",
       "\n",
       "    .dataframe tbody tr th {\n",
       "        vertical-align: top;\n",
       "    }\n",
       "\n",
       "    .dataframe thead th {\n",
       "        text-align: right;\n",
       "    }\n",
       "</style>\n",
       "<table border=\"1\" class=\"dataframe\">\n",
       "  <thead>\n",
       "    <tr style=\"text-align: right;\">\n",
       "      <th></th>\n",
       "      <th></th>\n",
       "      <th>number_of_trees</th>\n",
       "      <th>number_of_internal_trees</th>\n",
       "      <th>model_size_in_bytes</th>\n",
       "      <th>min_depth</th>\n",
       "      <th>max_depth</th>\n",
       "      <th>mean_depth</th>\n",
       "      <th>min_leaves</th>\n",
       "      <th>max_leaves</th>\n",
       "      <th>mean_leaves</th>\n",
       "    </tr>\n",
       "  </thead>\n",
       "  <tbody>\n",
       "    <tr>\n",
       "      <th>0</th>\n",
       "      <td></td>\n",
       "      <td>50.0</td>\n",
       "      <td>250.0</td>\n",
       "      <td>171204.0</td>\n",
       "      <td>5.0</td>\n",
       "      <td>5.0</td>\n",
       "      <td>5.0</td>\n",
       "      <td>32.0</td>\n",
       "      <td>32.0</td>\n",
       "      <td>32.0</td>\n",
       "    </tr>\n",
       "  </tbody>\n",
       "</table>\n",
       "</div>"
      ],
      "text/plain": [
       "     number_of_trees  number_of_internal_trees  model_size_in_bytes  \\\n",
       "0               50.0                     250.0             171204.0   \n",
       "\n",
       "   min_depth  max_depth  mean_depth  min_leaves  max_leaves  mean_leaves  \n",
       "0        5.0        5.0         5.0        32.0        32.0         32.0  "
      ]
     },
     "metadata": {},
     "output_type": "display_data"
    },
    {
     "name": "stdout",
     "output_type": "stream",
     "text": [
      "\n",
      "\n",
      "ModelMetricsMultinomial: gbm\n",
      "** Reported on train data. **\n",
      "\n",
      "MSE: 0.6111345224704894\n",
      "RMSE: 0.781750933782934\n",
      "LogLoss: 1.545020114014453\n",
      "Mean Per-Class Error: 0.6834223883661046\n",
      "\n",
      "Confusion Matrix: Row labels: Actual class; Column labels: Predicted class\n"
     ]
    },
    {
     "data": {
      "text/html": [
       "<div>\n",
       "<style scoped>\n",
       "    .dataframe tbody tr th:only-of-type {\n",
       "        vertical-align: middle;\n",
       "    }\n",
       "\n",
       "    .dataframe tbody tr th {\n",
       "        vertical-align: top;\n",
       "    }\n",
       "\n",
       "    .dataframe thead th {\n",
       "        text-align: right;\n",
       "    }\n",
       "</style>\n",
       "<table border=\"1\" class=\"dataframe\">\n",
       "  <thead>\n",
       "    <tr style=\"text-align: right;\">\n",
       "      <th></th>\n",
       "      <th>0</th>\n",
       "      <th>0.25</th>\n",
       "      <th>0.5</th>\n",
       "      <th>0.75</th>\n",
       "      <th>1</th>\n",
       "      <th>Error</th>\n",
       "      <th>Rate</th>\n",
       "    </tr>\n",
       "  </thead>\n",
       "  <tbody>\n",
       "    <tr>\n",
       "      <th>0</th>\n",
       "      <td>36906.0</td>\n",
       "      <td>10655.0</td>\n",
       "      <td>17367.0</td>\n",
       "      <td>10294.0</td>\n",
       "      <td>24820.0</td>\n",
       "      <td>0.631095</td>\n",
       "      <td>63,136 / 100,042</td>\n",
       "    </tr>\n",
       "    <tr>\n",
       "      <th>1</th>\n",
       "      <td>19208.0</td>\n",
       "      <td>19478.0</td>\n",
       "      <td>29516.0</td>\n",
       "      <td>12081.0</td>\n",
       "      <td>19763.0</td>\n",
       "      <td>0.805310</td>\n",
       "      <td>80,568 / 100,046</td>\n",
       "    </tr>\n",
       "    <tr>\n",
       "      <th>2</th>\n",
       "      <td>17169.0</td>\n",
       "      <td>11308.0</td>\n",
       "      <td>42771.0</td>\n",
       "      <td>11978.0</td>\n",
       "      <td>18406.0</td>\n",
       "      <td>0.579158</td>\n",
       "      <td>58,861 / 101,632</td>\n",
       "    </tr>\n",
       "    <tr>\n",
       "      <th>3</th>\n",
       "      <td>17782.0</td>\n",
       "      <td>11590.0</td>\n",
       "      <td>29509.0</td>\n",
       "      <td>19953.0</td>\n",
       "      <td>21207.0</td>\n",
       "      <td>0.800552</td>\n",
       "      <td>80,088 / 100,041</td>\n",
       "    </tr>\n",
       "    <tr>\n",
       "      <th>4</th>\n",
       "      <td>22420.0</td>\n",
       "      <td>9278.0</td>\n",
       "      <td>17205.0</td>\n",
       "      <td>11225.0</td>\n",
       "      <td>39919.0</td>\n",
       "      <td>0.600998</td>\n",
       "      <td>60,128 / 100,047</td>\n",
       "    </tr>\n",
       "    <tr>\n",
       "      <th>5</th>\n",
       "      <td>113485.0</td>\n",
       "      <td>62309.0</td>\n",
       "      <td>136368.0</td>\n",
       "      <td>65531.0</td>\n",
       "      <td>124115.0</td>\n",
       "      <td>0.683092</td>\n",
       "      <td>342,781 / 501,808</td>\n",
       "    </tr>\n",
       "  </tbody>\n",
       "</table>\n",
       "</div>"
      ],
      "text/plain": [
       "          0     0.25       0.5     0.75         1     Error               Rate\n",
       "0   36906.0  10655.0   17367.0  10294.0   24820.0  0.631095   63,136 / 100,042\n",
       "1   19208.0  19478.0   29516.0  12081.0   19763.0  0.805310   80,568 / 100,046\n",
       "2   17169.0  11308.0   42771.0  11978.0   18406.0  0.579158   58,861 / 101,632\n",
       "3   17782.0  11590.0   29509.0  19953.0   21207.0  0.800552   80,088 / 100,041\n",
       "4   22420.0   9278.0   17205.0  11225.0   39919.0  0.600998   60,128 / 100,047\n",
       "5  113485.0  62309.0  136368.0  65531.0  124115.0  0.683092  342,781 / 501,808"
      ]
     },
     "metadata": {},
     "output_type": "display_data"
    },
    {
     "name": "stdout",
     "output_type": "stream",
     "text": [
      "\n",
      "Top-5 Hit Ratios: \n"
     ]
    },
    {
     "data": {
      "text/html": [
       "<div>\n",
       "<style scoped>\n",
       "    .dataframe tbody tr th:only-of-type {\n",
       "        vertical-align: middle;\n",
       "    }\n",
       "\n",
       "    .dataframe tbody tr th {\n",
       "        vertical-align: top;\n",
       "    }\n",
       "\n",
       "    .dataframe thead th {\n",
       "        text-align: right;\n",
       "    }\n",
       "</style>\n",
       "<table border=\"1\" class=\"dataframe\">\n",
       "  <thead>\n",
       "    <tr style=\"text-align: right;\">\n",
       "      <th></th>\n",
       "      <th>k</th>\n",
       "      <th>hit_ratio</th>\n",
       "    </tr>\n",
       "  </thead>\n",
       "  <tbody>\n",
       "    <tr>\n",
       "      <th>0</th>\n",
       "      <td>1</td>\n",
       "      <td>0.316908</td>\n",
       "    </tr>\n",
       "    <tr>\n",
       "      <th>1</th>\n",
       "      <td>2</td>\n",
       "      <td>0.547847</td>\n",
       "    </tr>\n",
       "    <tr>\n",
       "      <th>2</th>\n",
       "      <td>3</td>\n",
       "      <td>0.734273</td>\n",
       "    </tr>\n",
       "    <tr>\n",
       "      <th>3</th>\n",
       "      <td>4</td>\n",
       "      <td>0.888332</td>\n",
       "    </tr>\n",
       "    <tr>\n",
       "      <th>4</th>\n",
       "      <td>5</td>\n",
       "      <td>1.000000</td>\n",
       "    </tr>\n",
       "  </tbody>\n",
       "</table>\n",
       "</div>"
      ],
      "text/plain": [
       "   k  hit_ratio\n",
       "0  1   0.316908\n",
       "1  2   0.547847\n",
       "2  3   0.734273\n",
       "3  4   0.888332\n",
       "4  5   1.000000"
      ]
     },
     "metadata": {},
     "output_type": "display_data"
    },
    {
     "name": "stdout",
     "output_type": "stream",
     "text": [
      "\n",
      "Scoring History: \n"
     ]
    },
    {
     "data": {
      "text/html": [
       "<div>\n",
       "<style scoped>\n",
       "    .dataframe tbody tr th:only-of-type {\n",
       "        vertical-align: middle;\n",
       "    }\n",
       "\n",
       "    .dataframe tbody tr th {\n",
       "        vertical-align: top;\n",
       "    }\n",
       "\n",
       "    .dataframe thead th {\n",
       "        text-align: right;\n",
       "    }\n",
       "</style>\n",
       "<table border=\"1\" class=\"dataframe\">\n",
       "  <thead>\n",
       "    <tr style=\"text-align: right;\">\n",
       "      <th></th>\n",
       "      <th></th>\n",
       "      <th>timestamp</th>\n",
       "      <th>duration</th>\n",
       "      <th>number_of_trees</th>\n",
       "      <th>training_rmse</th>\n",
       "      <th>training_logloss</th>\n",
       "      <th>training_classification_error</th>\n",
       "    </tr>\n",
       "  </thead>\n",
       "  <tbody>\n",
       "    <tr>\n",
       "      <th>0</th>\n",
       "      <td></td>\n",
       "      <td>2020-08-16 05:40:23</td>\n",
       "      <td>0.131 sec</td>\n",
       "      <td>0.0</td>\n",
       "      <td>0.800000</td>\n",
       "      <td>1.609438</td>\n",
       "      <td>0.800306</td>\n",
       "    </tr>\n",
       "    <tr>\n",
       "      <th>1</th>\n",
       "      <td></td>\n",
       "      <td>2020-08-16 05:41:23</td>\n",
       "      <td>1 min  0.092 sec</td>\n",
       "      <td>1.0</td>\n",
       "      <td>0.798649</td>\n",
       "      <td>1.602950</td>\n",
       "      <td>0.739857</td>\n",
       "    </tr>\n",
       "    <tr>\n",
       "      <th>2</th>\n",
       "      <td></td>\n",
       "      <td>2020-08-16 05:42:06</td>\n",
       "      <td>1 min 42.908 sec</td>\n",
       "      <td>2.0</td>\n",
       "      <td>0.797447</td>\n",
       "      <td>1.597571</td>\n",
       "      <td>0.736598</td>\n",
       "    </tr>\n",
       "    <tr>\n",
       "      <th>3</th>\n",
       "      <td></td>\n",
       "      <td>2020-08-16 05:42:46</td>\n",
       "      <td>2 min 23.102 sec</td>\n",
       "      <td>3.0</td>\n",
       "      <td>0.796367</td>\n",
       "      <td>1.593051</td>\n",
       "      <td>0.734446</td>\n",
       "    </tr>\n",
       "    <tr>\n",
       "      <th>4</th>\n",
       "      <td></td>\n",
       "      <td>2020-08-16 05:43:27</td>\n",
       "      <td>3 min  4.005 sec</td>\n",
       "      <td>4.0</td>\n",
       "      <td>0.795397</td>\n",
       "      <td>1.589224</td>\n",
       "      <td>0.732268</td>\n",
       "    </tr>\n",
       "    <tr>\n",
       "      <th>5</th>\n",
       "      <td></td>\n",
       "      <td>2020-08-16 05:44:08</td>\n",
       "      <td>3 min 44.383 sec</td>\n",
       "      <td>5.0</td>\n",
       "      <td>0.794510</td>\n",
       "      <td>1.585898</td>\n",
       "      <td>0.730170</td>\n",
       "    </tr>\n",
       "    <tr>\n",
       "      <th>6</th>\n",
       "      <td></td>\n",
       "      <td>2020-08-16 05:44:45</td>\n",
       "      <td>4 min 22.227 sec</td>\n",
       "      <td>6.0</td>\n",
       "      <td>0.793707</td>\n",
       "      <td>1.583035</td>\n",
       "      <td>0.729492</td>\n",
       "    </tr>\n",
       "    <tr>\n",
       "      <th>7</th>\n",
       "      <td></td>\n",
       "      <td>2020-08-16 05:45:23</td>\n",
       "      <td>4 min 59.488 sec</td>\n",
       "      <td>7.0</td>\n",
       "      <td>0.792975</td>\n",
       "      <td>1.580540</td>\n",
       "      <td>0.728518</td>\n",
       "    </tr>\n",
       "    <tr>\n",
       "      <th>8</th>\n",
       "      <td></td>\n",
       "      <td>2020-08-16 05:46:08</td>\n",
       "      <td>5 min 45.176 sec</td>\n",
       "      <td>8.0</td>\n",
       "      <td>0.792311</td>\n",
       "      <td>1.578389</td>\n",
       "      <td>0.727685</td>\n",
       "    </tr>\n",
       "    <tr>\n",
       "      <th>9</th>\n",
       "      <td></td>\n",
       "      <td>2020-08-16 05:46:49</td>\n",
       "      <td>6 min 26.233 sec</td>\n",
       "      <td>9.0</td>\n",
       "      <td>0.791697</td>\n",
       "      <td>1.576428</td>\n",
       "      <td>0.725784</td>\n",
       "    </tr>\n",
       "    <tr>\n",
       "      <th>10</th>\n",
       "      <td></td>\n",
       "      <td>2020-08-16 05:47:30</td>\n",
       "      <td>7 min  7.058 sec</td>\n",
       "      <td>10.0</td>\n",
       "      <td>0.791136</td>\n",
       "      <td>1.574712</td>\n",
       "      <td>0.724104</td>\n",
       "    </tr>\n",
       "    <tr>\n",
       "      <th>11</th>\n",
       "      <td></td>\n",
       "      <td>2020-08-16 05:48:08</td>\n",
       "      <td>7 min 44.474 sec</td>\n",
       "      <td>11.0</td>\n",
       "      <td>0.790611</td>\n",
       "      <td>1.573125</td>\n",
       "      <td>0.722920</td>\n",
       "    </tr>\n",
       "    <tr>\n",
       "      <th>12</th>\n",
       "      <td></td>\n",
       "      <td>2020-08-16 05:48:44</td>\n",
       "      <td>8 min 21.020 sec</td>\n",
       "      <td>12.0</td>\n",
       "      <td>0.790122</td>\n",
       "      <td>1.571687</td>\n",
       "      <td>0.721475</td>\n",
       "    </tr>\n",
       "    <tr>\n",
       "      <th>13</th>\n",
       "      <td></td>\n",
       "      <td>2020-08-16 05:49:24</td>\n",
       "      <td>9 min  0.351 sec</td>\n",
       "      <td>13.0</td>\n",
       "      <td>0.789683</td>\n",
       "      <td>1.570431</td>\n",
       "      <td>0.720778</td>\n",
       "    </tr>\n",
       "    <tr>\n",
       "      <th>14</th>\n",
       "      <td></td>\n",
       "      <td>2020-08-16 05:50:00</td>\n",
       "      <td>9 min 37.002 sec</td>\n",
       "      <td>14.0</td>\n",
       "      <td>0.789252</td>\n",
       "      <td>1.569167</td>\n",
       "      <td>0.719096</td>\n",
       "    </tr>\n",
       "    <tr>\n",
       "      <th>15</th>\n",
       "      <td></td>\n",
       "      <td>2020-08-16 05:50:36</td>\n",
       "      <td>10 min 12.813 sec</td>\n",
       "      <td>15.0</td>\n",
       "      <td>0.788860</td>\n",
       "      <td>1.568046</td>\n",
       "      <td>0.717982</td>\n",
       "    </tr>\n",
       "    <tr>\n",
       "      <th>16</th>\n",
       "      <td></td>\n",
       "      <td>2020-08-16 05:51:12</td>\n",
       "      <td>10 min 48.781 sec</td>\n",
       "      <td>16.0</td>\n",
       "      <td>0.788497</td>\n",
       "      <td>1.567004</td>\n",
       "      <td>0.716822</td>\n",
       "    </tr>\n",
       "    <tr>\n",
       "      <th>17</th>\n",
       "      <td></td>\n",
       "      <td>2020-08-16 05:51:46</td>\n",
       "      <td>11 min 22.726 sec</td>\n",
       "      <td>17.0</td>\n",
       "      <td>0.788151</td>\n",
       "      <td>1.566024</td>\n",
       "      <td>0.715654</td>\n",
       "    </tr>\n",
       "    <tr>\n",
       "      <th>18</th>\n",
       "      <td></td>\n",
       "      <td>2020-08-16 05:52:19</td>\n",
       "      <td>11 min 55.374 sec</td>\n",
       "      <td>18.0</td>\n",
       "      <td>0.787827</td>\n",
       "      <td>1.565081</td>\n",
       "      <td>0.714421</td>\n",
       "    </tr>\n",
       "    <tr>\n",
       "      <th>19</th>\n",
       "      <td></td>\n",
       "      <td>2020-08-16 05:53:03</td>\n",
       "      <td>12 min 39.875 sec</td>\n",
       "      <td>19.0</td>\n",
       "      <td>0.787521</td>\n",
       "      <td>1.564181</td>\n",
       "      <td>0.713556</td>\n",
       "    </tr>\n",
       "  </tbody>\n",
       "</table>\n",
       "</div>"
      ],
      "text/plain": [
       "                timestamp           duration  number_of_trees  training_rmse  \\\n",
       "0     2020-08-16 05:40:23          0.131 sec              0.0       0.800000   \n",
       "1     2020-08-16 05:41:23   1 min  0.092 sec              1.0       0.798649   \n",
       "2     2020-08-16 05:42:06   1 min 42.908 sec              2.0       0.797447   \n",
       "3     2020-08-16 05:42:46   2 min 23.102 sec              3.0       0.796367   \n",
       "4     2020-08-16 05:43:27   3 min  4.005 sec              4.0       0.795397   \n",
       "5     2020-08-16 05:44:08   3 min 44.383 sec              5.0       0.794510   \n",
       "6     2020-08-16 05:44:45   4 min 22.227 sec              6.0       0.793707   \n",
       "7     2020-08-16 05:45:23   4 min 59.488 sec              7.0       0.792975   \n",
       "8     2020-08-16 05:46:08   5 min 45.176 sec              8.0       0.792311   \n",
       "9     2020-08-16 05:46:49   6 min 26.233 sec              9.0       0.791697   \n",
       "10    2020-08-16 05:47:30   7 min  7.058 sec             10.0       0.791136   \n",
       "11    2020-08-16 05:48:08   7 min 44.474 sec             11.0       0.790611   \n",
       "12    2020-08-16 05:48:44   8 min 21.020 sec             12.0       0.790122   \n",
       "13    2020-08-16 05:49:24   9 min  0.351 sec             13.0       0.789683   \n",
       "14    2020-08-16 05:50:00   9 min 37.002 sec             14.0       0.789252   \n",
       "15    2020-08-16 05:50:36  10 min 12.813 sec             15.0       0.788860   \n",
       "16    2020-08-16 05:51:12  10 min 48.781 sec             16.0       0.788497   \n",
       "17    2020-08-16 05:51:46  11 min 22.726 sec             17.0       0.788151   \n",
       "18    2020-08-16 05:52:19  11 min 55.374 sec             18.0       0.787827   \n",
       "19    2020-08-16 05:53:03  12 min 39.875 sec             19.0       0.787521   \n",
       "\n",
       "    training_logloss  training_classification_error  \n",
       "0           1.609438                       0.800306  \n",
       "1           1.602950                       0.739857  \n",
       "2           1.597571                       0.736598  \n",
       "3           1.593051                       0.734446  \n",
       "4           1.589224                       0.732268  \n",
       "5           1.585898                       0.730170  \n",
       "6           1.583035                       0.729492  \n",
       "7           1.580540                       0.728518  \n",
       "8           1.578389                       0.727685  \n",
       "9           1.576428                       0.725784  \n",
       "10          1.574712                       0.724104  \n",
       "11          1.573125                       0.722920  \n",
       "12          1.571687                       0.721475  \n",
       "13          1.570431                       0.720778  \n",
       "14          1.569167                       0.719096  \n",
       "15          1.568046                       0.717982  \n",
       "16          1.567004                       0.716822  \n",
       "17          1.566024                       0.715654  \n",
       "18          1.565081                       0.714421  \n",
       "19          1.564181                       0.713556  "
      ]
     },
     "metadata": {},
     "output_type": "display_data"
    },
    {
     "name": "stdout",
     "output_type": "stream",
     "text": [
      "\n",
      "See the whole table with table.as_data_frame()\n",
      "\n",
      "Variable Importances: \n"
     ]
    },
    {
     "data": {
      "text/html": [
       "<div>\n",
       "<style scoped>\n",
       "    .dataframe tbody tr th:only-of-type {\n",
       "        vertical-align: middle;\n",
       "    }\n",
       "\n",
       "    .dataframe tbody tr th {\n",
       "        vertical-align: top;\n",
       "    }\n",
       "\n",
       "    .dataframe thead th {\n",
       "        text-align: right;\n",
       "    }\n",
       "</style>\n",
       "<table border=\"1\" class=\"dataframe\">\n",
       "  <thead>\n",
       "    <tr style=\"text-align: right;\">\n",
       "      <th></th>\n",
       "      <th>variable</th>\n",
       "      <th>relative_importance</th>\n",
       "      <th>scaled_importance</th>\n",
       "      <th>percentage</th>\n",
       "    </tr>\n",
       "  </thead>\n",
       "  <tbody>\n",
       "    <tr>\n",
       "      <th>0</th>\n",
       "      <td>era</td>\n",
       "      <td>20176.812500</td>\n",
       "      <td>1.000000</td>\n",
       "      <td>0.300251</td>\n",
       "    </tr>\n",
       "    <tr>\n",
       "      <th>1</th>\n",
       "      <td>feature_intelligence8</td>\n",
       "      <td>18633.714844</td>\n",
       "      <td>0.923521</td>\n",
       "      <td>0.277288</td>\n",
       "    </tr>\n",
       "    <tr>\n",
       "      <th>2</th>\n",
       "      <td>feature_intelligence4</td>\n",
       "      <td>6727.462891</td>\n",
       "      <td>0.333425</td>\n",
       "      <td>0.100111</td>\n",
       "    </tr>\n",
       "    <tr>\n",
       "      <th>3</th>\n",
       "      <td>feature_intelligence1</td>\n",
       "      <td>4635.756836</td>\n",
       "      <td>0.229757</td>\n",
       "      <td>0.068985</td>\n",
       "    </tr>\n",
       "    <tr>\n",
       "      <th>4</th>\n",
       "      <td>feature_dexterity11</td>\n",
       "      <td>1430.527588</td>\n",
       "      <td>0.070900</td>\n",
       "      <td>0.021288</td>\n",
       "    </tr>\n",
       "    <tr>\n",
       "      <th>5</th>\n",
       "      <td>feature_wisdom14</td>\n",
       "      <td>875.229980</td>\n",
       "      <td>0.043378</td>\n",
       "      <td>0.013024</td>\n",
       "    </tr>\n",
       "    <tr>\n",
       "      <th>6</th>\n",
       "      <td>feature_constitution2</td>\n",
       "      <td>497.764832</td>\n",
       "      <td>0.024670</td>\n",
       "      <td>0.007407</td>\n",
       "    </tr>\n",
       "    <tr>\n",
       "      <th>7</th>\n",
       "      <td>feature_strength19</td>\n",
       "      <td>476.524139</td>\n",
       "      <td>0.023617</td>\n",
       "      <td>0.007091</td>\n",
       "    </tr>\n",
       "    <tr>\n",
       "      <th>8</th>\n",
       "      <td>feature_wisdom35</td>\n",
       "      <td>378.717651</td>\n",
       "      <td>0.018770</td>\n",
       "      <td>0.005636</td>\n",
       "    </tr>\n",
       "    <tr>\n",
       "      <th>9</th>\n",
       "      <td>feature_constitution54</td>\n",
       "      <td>378.375275</td>\n",
       "      <td>0.018753</td>\n",
       "      <td>0.005631</td>\n",
       "    </tr>\n",
       "    <tr>\n",
       "      <th>10</th>\n",
       "      <td>feature_wisdom37</td>\n",
       "      <td>335.182037</td>\n",
       "      <td>0.016612</td>\n",
       "      <td>0.004988</td>\n",
       "    </tr>\n",
       "    <tr>\n",
       "      <th>11</th>\n",
       "      <td>feature_strength10</td>\n",
       "      <td>335.037476</td>\n",
       "      <td>0.016605</td>\n",
       "      <td>0.004986</td>\n",
       "    </tr>\n",
       "    <tr>\n",
       "      <th>12</th>\n",
       "      <td>feature_strength12</td>\n",
       "      <td>308.051880</td>\n",
       "      <td>0.015268</td>\n",
       "      <td>0.004584</td>\n",
       "    </tr>\n",
       "    <tr>\n",
       "      <th>13</th>\n",
       "      <td>feature_intelligence10</td>\n",
       "      <td>298.568054</td>\n",
       "      <td>0.014798</td>\n",
       "      <td>0.004443</td>\n",
       "    </tr>\n",
       "    <tr>\n",
       "      <th>14</th>\n",
       "      <td>feature_strength31</td>\n",
       "      <td>280.133484</td>\n",
       "      <td>0.013884</td>\n",
       "      <td>0.004169</td>\n",
       "    </tr>\n",
       "    <tr>\n",
       "      <th>15</th>\n",
       "      <td>feature_dexterity4</td>\n",
       "      <td>259.107513</td>\n",
       "      <td>0.012842</td>\n",
       "      <td>0.003856</td>\n",
       "    </tr>\n",
       "    <tr>\n",
       "      <th>16</th>\n",
       "      <td>feature_dexterity12</td>\n",
       "      <td>254.177399</td>\n",
       "      <td>0.012598</td>\n",
       "      <td>0.003782</td>\n",
       "    </tr>\n",
       "    <tr>\n",
       "      <th>17</th>\n",
       "      <td>feature_constitution85</td>\n",
       "      <td>211.655350</td>\n",
       "      <td>0.010490</td>\n",
       "      <td>0.003150</td>\n",
       "    </tr>\n",
       "    <tr>\n",
       "      <th>18</th>\n",
       "      <td>feature_wisdom22</td>\n",
       "      <td>210.202316</td>\n",
       "      <td>0.010418</td>\n",
       "      <td>0.003128</td>\n",
       "    </tr>\n",
       "    <tr>\n",
       "      <th>19</th>\n",
       "      <td>feature_constitution90</td>\n",
       "      <td>171.212921</td>\n",
       "      <td>0.008486</td>\n",
       "      <td>0.002548</td>\n",
       "    </tr>\n",
       "  </tbody>\n",
       "</table>\n",
       "</div>"
      ],
      "text/plain": [
       "                  variable  relative_importance  scaled_importance  percentage\n",
       "0                      era         20176.812500           1.000000    0.300251\n",
       "1    feature_intelligence8         18633.714844           0.923521    0.277288\n",
       "2    feature_intelligence4          6727.462891           0.333425    0.100111\n",
       "3    feature_intelligence1          4635.756836           0.229757    0.068985\n",
       "4      feature_dexterity11          1430.527588           0.070900    0.021288\n",
       "5         feature_wisdom14           875.229980           0.043378    0.013024\n",
       "6    feature_constitution2           497.764832           0.024670    0.007407\n",
       "7       feature_strength19           476.524139           0.023617    0.007091\n",
       "8         feature_wisdom35           378.717651           0.018770    0.005636\n",
       "9   feature_constitution54           378.375275           0.018753    0.005631\n",
       "10        feature_wisdom37           335.182037           0.016612    0.004988\n",
       "11      feature_strength10           335.037476           0.016605    0.004986\n",
       "12      feature_strength12           308.051880           0.015268    0.004584\n",
       "13  feature_intelligence10           298.568054           0.014798    0.004443\n",
       "14      feature_strength31           280.133484           0.013884    0.004169\n",
       "15      feature_dexterity4           259.107513           0.012842    0.003856\n",
       "16     feature_dexterity12           254.177399           0.012598    0.003782\n",
       "17  feature_constitution85           211.655350           0.010490    0.003150\n",
       "18        feature_wisdom22           210.202316           0.010418    0.003128\n",
       "19  feature_constitution90           171.212921           0.008486    0.002548"
      ]
     },
     "metadata": {},
     "output_type": "display_data"
    },
    {
     "name": "stdout",
     "output_type": "stream",
     "text": [
      "\n",
      "See the whole table with table.as_data_frame()\n",
      "\n"
     ]
    }
   ],
   "source": [
    "print(gbm)"
   ]
  },
  {
   "cell_type": "code",
   "execution_count": 54,
   "metadata": {},
   "outputs": [
    {
     "data": {
      "text/html": [
       "<div>\n",
       "<style scoped>\n",
       "    .dataframe tbody tr th:only-of-type {\n",
       "        vertical-align: middle;\n",
       "    }\n",
       "\n",
       "    .dataframe tbody tr th {\n",
       "        vertical-align: top;\n",
       "    }\n",
       "\n",
       "    .dataframe thead th {\n",
       "        text-align: right;\n",
       "    }\n",
       "</style>\n",
       "<table border=\"1\" class=\"dataframe\">\n",
       "  <thead>\n",
       "    <tr style=\"text-align: right;\">\n",
       "      <th></th>\n",
       "      <th>variable</th>\n",
       "      <th>relative_importance</th>\n",
       "      <th>scaled_importance</th>\n",
       "      <th>percentage</th>\n",
       "    </tr>\n",
       "  </thead>\n",
       "  <tbody>\n",
       "    <tr>\n",
       "      <th>0</th>\n",
       "      <td>era</td>\n",
       "      <td>20176.812500</td>\n",
       "      <td>1.000000</td>\n",
       "      <td>0.300251</td>\n",
       "    </tr>\n",
       "    <tr>\n",
       "      <th>1</th>\n",
       "      <td>feature_intelligence8</td>\n",
       "      <td>18633.714844</td>\n",
       "      <td>0.923521</td>\n",
       "      <td>0.277288</td>\n",
       "    </tr>\n",
       "    <tr>\n",
       "      <th>2</th>\n",
       "      <td>feature_intelligence4</td>\n",
       "      <td>6727.462891</td>\n",
       "      <td>0.333425</td>\n",
       "      <td>0.100111</td>\n",
       "    </tr>\n",
       "    <tr>\n",
       "      <th>3</th>\n",
       "      <td>feature_intelligence1</td>\n",
       "      <td>4635.756836</td>\n",
       "      <td>0.229757</td>\n",
       "      <td>0.068985</td>\n",
       "    </tr>\n",
       "    <tr>\n",
       "      <th>4</th>\n",
       "      <td>feature_dexterity11</td>\n",
       "      <td>1430.527588</td>\n",
       "      <td>0.070900</td>\n",
       "      <td>0.021288</td>\n",
       "    </tr>\n",
       "    <tr>\n",
       "      <th>...</th>\n",
       "      <td>...</td>\n",
       "      <td>...</td>\n",
       "      <td>...</td>\n",
       "      <td>...</td>\n",
       "    </tr>\n",
       "    <tr>\n",
       "      <th>306</th>\n",
       "      <td>feature_charisma22</td>\n",
       "      <td>2.660679</td>\n",
       "      <td>0.000132</td>\n",
       "      <td>0.000040</td>\n",
       "    </tr>\n",
       "    <tr>\n",
       "      <th>307</th>\n",
       "      <td>feature_strength30</td>\n",
       "      <td>1.781751</td>\n",
       "      <td>0.000088</td>\n",
       "      <td>0.000027</td>\n",
       "    </tr>\n",
       "    <tr>\n",
       "      <th>308</th>\n",
       "      <td>feature_wisdom45</td>\n",
       "      <td>1.602460</td>\n",
       "      <td>0.000079</td>\n",
       "      <td>0.000024</td>\n",
       "    </tr>\n",
       "    <tr>\n",
       "      <th>309</th>\n",
       "      <td>feature_charisma30</td>\n",
       "      <td>0.000000</td>\n",
       "      <td>0.000000</td>\n",
       "      <td>0.000000</td>\n",
       "    </tr>\n",
       "    <tr>\n",
       "      <th>310</th>\n",
       "      <td>feature_constitution102</td>\n",
       "      <td>0.000000</td>\n",
       "      <td>0.000000</td>\n",
       "      <td>0.000000</td>\n",
       "    </tr>\n",
       "  </tbody>\n",
       "</table>\n",
       "<p>311 rows × 4 columns</p>\n",
       "</div>"
      ],
      "text/plain": [
       "                    variable  relative_importance  scaled_importance  \\\n",
       "0                        era         20176.812500           1.000000   \n",
       "1      feature_intelligence8         18633.714844           0.923521   \n",
       "2      feature_intelligence4          6727.462891           0.333425   \n",
       "3      feature_intelligence1          4635.756836           0.229757   \n",
       "4        feature_dexterity11          1430.527588           0.070900   \n",
       "..                       ...                  ...                ...   \n",
       "306       feature_charisma22             2.660679           0.000132   \n",
       "307       feature_strength30             1.781751           0.000088   \n",
       "308         feature_wisdom45             1.602460           0.000079   \n",
       "309       feature_charisma30             0.000000           0.000000   \n",
       "310  feature_constitution102             0.000000           0.000000   \n",
       "\n",
       "     percentage  \n",
       "0      0.300251  \n",
       "1      0.277288  \n",
       "2      0.100111  \n",
       "3      0.068985  \n",
       "4      0.021288  \n",
       "..          ...  \n",
       "306    0.000040  \n",
       "307    0.000027  \n",
       "308    0.000024  \n",
       "309    0.000000  \n",
       "310    0.000000  \n",
       "\n",
       "[311 rows x 4 columns]"
      ]
     },
     "execution_count": 54,
     "metadata": {},
     "output_type": "execute_result"
    }
   ],
   "source": [
    "gbm._model_json['output']['variable_importances'].as_data_frame()"
   ]
  },
  {
   "cell_type": "code",
   "execution_count": 6,
   "metadata": {},
   "outputs": [],
   "source": [
    "model_path = '/Users/nicholasrichers/Documents/GitHub/dissertacao/notebooks/Baseline/GBM_model_python_1597566247245_1'"
   ]
  },
  {
   "cell_type": "code",
   "execution_count": 55,
   "metadata": {},
   "outputs": [
    {
     "name": "stdout",
     "output_type": "stream",
     "text": [
      "/Users/nicholasrichers/Documents/GitHub/dissertacao/notebooks/Baseline/GBM_model_python_1597566247245_1\n"
     ]
    }
   ],
   "source": [
    "# save the model\n",
    "#model_path = h2o.save_model(model=gbm, path=\"\", force=True)\n",
    "print(model_path)"
   ]
  },
  {
   "cell_type": "code",
   "execution_count": 7,
   "metadata": {},
   "outputs": [],
   "source": [
    "# load the model\n",
    "saved_model = h2o.load_model(model_path)"
   ]
  },
  {
   "cell_type": "code",
   "execution_count": 10,
   "metadata": {},
   "outputs": [
    {
     "name": "stdout",
     "output_type": "stream",
     "text": [
      "Parse progress: |████████████████████████████████████████████████████████ (failed)  99%\n"
     ]
    },
    {
     "ename": "OSError",
     "evalue": "Job with key $03017f00000132d4ffffffff$_8988155d7c40fd0c421b413e59fd495d failed with an exception: DistributedException from /127.0.0.1:54321: 'Java heap space', caused by java.lang.OutOfMemoryError: Java heap space\nstacktrace: \nDistributedException from /127.0.0.1:54321: 'Java heap space', caused by java.lang.OutOfMemoryError: Java heap space\n\tat water.MRTask.getResult(MRTask.java:494)\n\tat water.MRTask.getResult(MRTask.java:502)\n\tat water.MRTask.doAll(MRTask.java:409)\n\tat water.parser.ParseDataset.parseAllKeys(ParseDataset.java:254)\n\tat water.parser.ParseDataset.access$000(ParseDataset.java:26)\n\tat water.parser.ParseDataset$ParserFJTask.compute2(ParseDataset.java:203)\n\tat water.H2O$H2OCountedCompleter.compute(H2O.java:1563)\n\tat jsr166y.CountedCompleter.exec(CountedCompleter.java:468)\n\tat jsr166y.ForkJoinTask.doExec(ForkJoinTask.java:263)\n\tat jsr166y.ForkJoinPool$WorkQueue.runTask(ForkJoinPool.java:974)\n\tat jsr166y.ForkJoinPool.runWorker(ForkJoinPool.java:1477)\n\tat jsr166y.ForkJoinWorkerThread.run(ForkJoinWorkerThread.java:104)\nCaused by: java.lang.OutOfMemoryError: Java heap space\n",
     "output_type": "error",
     "traceback": [
      "\u001b[0;31m---------------------------------------------------------------------------\u001b[0m",
      "\u001b[0;31mOSError\u001b[0m                                   Traceback (most recent call last)",
      "\u001b[0;32m<ipython-input-10-1abd4733e969>\u001b[0m in \u001b[0;36m<module>\u001b[0;34m\u001b[0m\n\u001b[0;32m----> 1\u001b[0;31m \u001b[0mdf_tournament\u001b[0m \u001b[0;34m=\u001b[0m \u001b[0mh2o\u001b[0m\u001b[0;34m.\u001b[0m\u001b[0mimport_file\u001b[0m\u001b[0;34m(\u001b[0m\u001b[0mpath\u001b[0m \u001b[0;34m=\u001b[0m \u001b[0mtournament_path\u001b[0m\u001b[0;34m,\u001b[0m \u001b[0msep\u001b[0m\u001b[0;34m=\u001b[0m\u001b[0;34m','\u001b[0m\u001b[0;34m,\u001b[0m \u001b[0mheader\u001b[0m\u001b[0;34m=\u001b[0m\u001b[0;36m1\u001b[0m\u001b[0;34m)\u001b[0m\u001b[0;34m\u001b[0m\u001b[0;34m\u001b[0m\u001b[0m\n\u001b[0m\u001b[1;32m      2\u001b[0m \u001b[0mdf_tournament\u001b[0m\u001b[0;34m[\u001b[0m\u001b[0mresponse\u001b[0m\u001b[0;34m]\u001b[0m \u001b[0;34m=\u001b[0m \u001b[0mdf_tournament\u001b[0m\u001b[0;34m[\u001b[0m\u001b[0mresponse\u001b[0m\u001b[0;34m]\u001b[0m\u001b[0;34m.\u001b[0m\u001b[0mascharacter\u001b[0m\u001b[0;34m(\u001b[0m\u001b[0;34m)\u001b[0m\u001b[0;34m.\u001b[0m\u001b[0masfactor\u001b[0m\u001b[0;34m(\u001b[0m\u001b[0;34m)\u001b[0m\u001b[0;34m\u001b[0m\u001b[0;34m\u001b[0m\u001b[0m\n",
      "\u001b[0;32m~/Documents/virtualenvs/numerai_env/lib/python3.8/site-packages/h2o/h2o.py\u001b[0m in \u001b[0;36mimport_file\u001b[0;34m(path, destination_frame, parse, header, sep, col_names, col_types, na_strings, pattern, skipped_columns, custom_non_data_line_markers, partition_by)\u001b[0m\n\u001b[1;32m    469\u001b[0m         \u001b[0;32mreturn\u001b[0m \u001b[0mlazy_import\u001b[0m\u001b[0;34m(\u001b[0m\u001b[0mpath\u001b[0m\u001b[0;34m,\u001b[0m \u001b[0mpattern\u001b[0m\u001b[0;34m)\u001b[0m\u001b[0;34m\u001b[0m\u001b[0;34m\u001b[0m\u001b[0m\n\u001b[1;32m    470\u001b[0m     \u001b[0;32melse\u001b[0m\u001b[0;34m:\u001b[0m\u001b[0;34m\u001b[0m\u001b[0;34m\u001b[0m\u001b[0m\n\u001b[0;32m--> 471\u001b[0;31m         return H2OFrame()._import_parse(path, pattern, destination_frame, header, sep, col_names, col_types, na_strings,\n\u001b[0m\u001b[1;32m    472\u001b[0m                                         skipped_columns, custom_non_data_line_markers, partition_by)\n\u001b[1;32m    473\u001b[0m \u001b[0;34m\u001b[0m\u001b[0m\n",
      "\u001b[0;32m~/Documents/virtualenvs/numerai_env/lib/python3.8/site-packages/h2o/frame.py\u001b[0m in \u001b[0;36m_import_parse\u001b[0;34m(self, path, pattern, destination_frame, header, separator, column_names, column_types, na_strings, skipped_columns, custom_non_data_line_markers, partition_by)\u001b[0m\n\u001b[1;32m    426\u001b[0m             \u001b[0mpath\u001b[0m \u001b[0;34m=\u001b[0m \u001b[0mos\u001b[0m\u001b[0;34m.\u001b[0m\u001b[0mpath\u001b[0m\u001b[0;34m.\u001b[0m\u001b[0mabspath\u001b[0m\u001b[0;34m(\u001b[0m\u001b[0mpath\u001b[0m\u001b[0;34m)\u001b[0m\u001b[0;34m\u001b[0m\u001b[0;34m\u001b[0m\u001b[0m\n\u001b[1;32m    427\u001b[0m         \u001b[0mrawkey\u001b[0m \u001b[0;34m=\u001b[0m \u001b[0mh2o\u001b[0m\u001b[0;34m.\u001b[0m\u001b[0mlazy_import\u001b[0m\u001b[0;34m(\u001b[0m\u001b[0mpath\u001b[0m\u001b[0;34m,\u001b[0m \u001b[0mpattern\u001b[0m\u001b[0;34m)\u001b[0m\u001b[0;34m\u001b[0m\u001b[0;34m\u001b[0m\u001b[0m\n\u001b[0;32m--> 428\u001b[0;31m         self._parse(rawkey, destination_frame, header, separator, column_names, column_types, na_strings,\n\u001b[0m\u001b[1;32m    429\u001b[0m                     skipped_columns, custom_non_data_line_markers, partition_by)\n\u001b[1;32m    430\u001b[0m         \u001b[0;32mreturn\u001b[0m \u001b[0mself\u001b[0m\u001b[0;34m\u001b[0m\u001b[0;34m\u001b[0m\u001b[0m\n",
      "\u001b[0;32m~/Documents/virtualenvs/numerai_env/lib/python3.8/site-packages/h2o/frame.py\u001b[0m in \u001b[0;36m_parse\u001b[0;34m(self, rawkey, destination_frame, header, separator, column_names, column_types, na_strings, skipped_columns, custom_non_data_line_markers, partition_by)\u001b[0m\n\u001b[1;32m    442\u001b[0m         setup = h2o.parse_setup(rawkey, destination_frame, header, separator, column_names, column_types, na_strings,\n\u001b[1;32m    443\u001b[0m                                 skipped_columns, custom_non_data_line_markers, partition_by)\n\u001b[0;32m--> 444\u001b[0;31m         \u001b[0;32mreturn\u001b[0m \u001b[0mself\u001b[0m\u001b[0;34m.\u001b[0m\u001b[0m_parse_raw\u001b[0m\u001b[0;34m(\u001b[0m\u001b[0msetup\u001b[0m\u001b[0;34m)\u001b[0m\u001b[0;34m\u001b[0m\u001b[0;34m\u001b[0m\u001b[0m\n\u001b[0m\u001b[1;32m    445\u001b[0m \u001b[0;34m\u001b[0m\u001b[0m\n\u001b[1;32m    446\u001b[0m \u001b[0;34m\u001b[0m\u001b[0m\n",
      "\u001b[0;32m~/Documents/virtualenvs/numerai_env/lib/python3.8/site-packages/h2o/frame.py\u001b[0m in \u001b[0;36m_parse_raw\u001b[0;34m(self, setup)\u001b[0m\n\u001b[1;32m    470\u001b[0m         \u001b[0mp\u001b[0m\u001b[0;34m[\u001b[0m\u001b[0;34m'source_frames'\u001b[0m\u001b[0;34m]\u001b[0m \u001b[0;34m=\u001b[0m \u001b[0;34m[\u001b[0m\u001b[0m_quoted\u001b[0m\u001b[0;34m(\u001b[0m\u001b[0msrc\u001b[0m\u001b[0;34m[\u001b[0m\u001b[0;34m'name'\u001b[0m\u001b[0;34m]\u001b[0m\u001b[0;34m)\u001b[0m \u001b[0;32mfor\u001b[0m \u001b[0msrc\u001b[0m \u001b[0;32min\u001b[0m \u001b[0msetup\u001b[0m\u001b[0;34m[\u001b[0m\u001b[0;34m'source_frames'\u001b[0m\u001b[0;34m]\u001b[0m\u001b[0;34m]\u001b[0m\u001b[0;34m\u001b[0m\u001b[0;34m\u001b[0m\u001b[0m\n\u001b[1;32m    471\u001b[0m \u001b[0;34m\u001b[0m\u001b[0m\n\u001b[0;32m--> 472\u001b[0;31m         \u001b[0mH2OJob\u001b[0m\u001b[0;34m(\u001b[0m\u001b[0mh2o\u001b[0m\u001b[0;34m.\u001b[0m\u001b[0mapi\u001b[0m\u001b[0;34m(\u001b[0m\u001b[0;34m\"POST /3/Parse\"\u001b[0m\u001b[0;34m,\u001b[0m \u001b[0mdata\u001b[0m\u001b[0;34m=\u001b[0m\u001b[0mp\u001b[0m\u001b[0;34m)\u001b[0m\u001b[0;34m,\u001b[0m \u001b[0;34m\"Parse\"\u001b[0m\u001b[0;34m)\u001b[0m\u001b[0;34m.\u001b[0m\u001b[0mpoll\u001b[0m\u001b[0;34m(\u001b[0m\u001b[0;34m)\u001b[0m\u001b[0;34m\u001b[0m\u001b[0;34m\u001b[0m\u001b[0m\n\u001b[0m\u001b[1;32m    473\u001b[0m         \u001b[0;31m# Need to return a Frame here for nearly all callers\u001b[0m\u001b[0;34m\u001b[0m\u001b[0;34m\u001b[0m\u001b[0;34m\u001b[0m\u001b[0m\n\u001b[1;32m    474\u001b[0m         \u001b[0;31m# ... but job stats returns only a dest_key, requiring another REST call to get nrow/ncol\u001b[0m\u001b[0;34m\u001b[0m\u001b[0;34m\u001b[0m\u001b[0;34m\u001b[0m\u001b[0m\n",
      "\u001b[0;32m~/Documents/virtualenvs/numerai_env/lib/python3.8/site-packages/h2o/job.py\u001b[0m in \u001b[0;36mpoll\u001b[0;34m(self, poll_updates)\u001b[0m\n\u001b[1;32m     75\u001b[0m         \u001b[0;32mif\u001b[0m \u001b[0mself\u001b[0m\u001b[0;34m.\u001b[0m\u001b[0mstatus\u001b[0m \u001b[0;34m==\u001b[0m \u001b[0;34m\"FAILED\"\u001b[0m\u001b[0;34m:\u001b[0m\u001b[0;34m\u001b[0m\u001b[0;34m\u001b[0m\u001b[0m\n\u001b[1;32m     76\u001b[0m             \u001b[0;32mif\u001b[0m \u001b[0;34m(\u001b[0m\u001b[0misinstance\u001b[0m\u001b[0;34m(\u001b[0m\u001b[0mself\u001b[0m\u001b[0;34m.\u001b[0m\u001b[0mjob\u001b[0m\u001b[0;34m,\u001b[0m \u001b[0mdict\u001b[0m\u001b[0;34m)\u001b[0m\u001b[0;34m)\u001b[0m \u001b[0;32mand\u001b[0m \u001b[0;34m(\u001b[0m\u001b[0;34m\"stacktrace\"\u001b[0m \u001b[0;32min\u001b[0m \u001b[0mlist\u001b[0m\u001b[0;34m(\u001b[0m\u001b[0mself\u001b[0m\u001b[0;34m.\u001b[0m\u001b[0mjob\u001b[0m\u001b[0;34m)\u001b[0m\u001b[0;34m)\u001b[0m\u001b[0;34m:\u001b[0m\u001b[0;34m\u001b[0m\u001b[0;34m\u001b[0m\u001b[0m\n\u001b[0;32m---> 77\u001b[0;31m                 raise EnvironmentError(\"Job with key {} failed with an exception: {}\\nstacktrace: \"\n\u001b[0m\u001b[1;32m     78\u001b[0m                                        \"\\n{}\".format(self.job_key, self.exception, self.job[\"stacktrace\"]))\n\u001b[1;32m     79\u001b[0m             \u001b[0;32melse\u001b[0m\u001b[0;34m:\u001b[0m\u001b[0;34m\u001b[0m\u001b[0;34m\u001b[0m\u001b[0m\n",
      "\u001b[0;31mOSError\u001b[0m: Job with key $03017f00000132d4ffffffff$_8988155d7c40fd0c421b413e59fd495d failed with an exception: DistributedException from /127.0.0.1:54321: 'Java heap space', caused by java.lang.OutOfMemoryError: Java heap space\nstacktrace: \nDistributedException from /127.0.0.1:54321: 'Java heap space', caused by java.lang.OutOfMemoryError: Java heap space\n\tat water.MRTask.getResult(MRTask.java:494)\n\tat water.MRTask.getResult(MRTask.java:502)\n\tat water.MRTask.doAll(MRTask.java:409)\n\tat water.parser.ParseDataset.parseAllKeys(ParseDataset.java:254)\n\tat water.parser.ParseDataset.access$000(ParseDataset.java:26)\n\tat water.parser.ParseDataset$ParserFJTask.compute2(ParseDataset.java:203)\n\tat water.H2O$H2OCountedCompleter.compute(H2O.java:1563)\n\tat jsr166y.CountedCompleter.exec(CountedCompleter.java:468)\n\tat jsr166y.ForkJoinTask.doExec(ForkJoinTask.java:263)\n\tat jsr166y.ForkJoinPool$WorkQueue.runTask(ForkJoinPool.java:974)\n\tat jsr166y.ForkJoinPool.runWorker(ForkJoinPool.java:1477)\n\tat jsr166y.ForkJoinWorkerThread.run(ForkJoinWorkerThread.java:104)\nCaused by: java.lang.OutOfMemoryError: Java heap space\n"
     ]
    }
   ],
   "source": [
    "df_tournament = h2o.import_file(path = tournament_path, sep=',', header=1)\n",
    "df_tournament[response] = df_tournament[response].ascharacter().asfactor()"
   ]
  },
  {
   "cell_type": "code",
   "execution_count": 9,
   "metadata": {},
   "outputs": [
    {
     "data": {
      "text/plain": [
       "'../../data/raw/numerai_tournament_data.csv'"
      ]
     },
     "execution_count": 9,
     "metadata": {},
     "output_type": "execute_result"
    }
   ],
   "source": [
    "df_tournament.summary()"
   ]
  },
  {
   "cell_type": "code",
   "execution_count": null,
   "metadata": {},
   "outputs": [],
   "source": [
    "%%time\n",
    "predictors = df.columns[:-1]\n",
    "\n",
    "saved_model.predict(x=predictors, y=response, training_frame=df_tournament)"
   ]
  },
  {
   "cell_type": "markdown",
   "metadata": {},
   "source": [
    "### 3a parte h20"
   ]
  },
  {
   "cell_type": "code",
   "execution_count": null,
   "metadata": {},
   "outputs": [],
   "source": [
    "#### ALL ABOUT eras Validacao e metricas"
   ]
  },
  {
   "cell_type": "code",
   "execution_count": null,
   "metadata": {},
   "outputs": [],
   "source": []
  },
  {
   "cell_type": "code",
   "execution_count": null,
   "metadata": {},
   "outputs": [],
   "source": []
  },
  {
   "cell_type": "code",
   "execution_count": null,
   "metadata": {},
   "outputs": [],
   "source": []
  },
  {
   "cell_type": "code",
   "execution_count": null,
   "metadata": {},
   "outputs": [],
   "source": []
  },
  {
   "cell_type": "code",
   "execution_count": null,
   "metadata": {},
   "outputs": [],
   "source": []
  },
  {
   "cell_type": "code",
   "execution_count": null,
   "metadata": {},
   "outputs": [],
   "source": []
  },
  {
   "cell_type": "code",
   "execution_count": null,
   "metadata": {},
   "outputs": [],
   "source": []
  },
  {
   "cell_type": "markdown",
   "metadata": {},
   "source": [
    "Rascunho"
   ]
  },
  {
   "cell_type": "code",
   "execution_count": null,
   "metadata": {},
   "outputs": [],
   "source": [
    "%%time\n",
    "#from joblib import parallel_backend\n",
    "\n",
    "#with parallel_backend('threading', n_jobs=-1):\n",
    "    # Train the model\n",
    "    #model = RandomForestClassifier(n_estimators=10, n_jobs=-1)\n",
    "    #model.fit(df_training[features], encoded_target_train)\n",
    "    # Test the model\n",
    "    #y_pred = clf.predict(X_test)\n"
   ]
  }
 ],
 "metadata": {
  "kernelspec": {
   "display_name": "Python 3",
   "language": "python",
   "name": "python3"
  },
  "language_info": {
   "codemirror_mode": {
    "name": "ipython",
    "version": 3
   },
   "file_extension": ".py",
   "mimetype": "text/x-python",
   "name": "python",
   "nbconvert_exporter": "python",
   "pygments_lexer": "ipython3",
   "version": "3.8.3"
  }
 },
 "nbformat": 4,
 "nbformat_minor": 4
}
