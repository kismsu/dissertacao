{
 "cells": [
  {
   "cell_type": "code",
   "execution_count": 1,
   "metadata": {},
   "outputs": [],
   "source": [
    "%load_ext autoreload\n",
    "%autoreload 2"
   ]
  },
  {
   "cell_type": "code",
   "execution_count": 2,
   "metadata": {},
   "outputs": [],
   "source": [
    "#basics\n",
    "import sys,os\n",
    "\n",
    "#utils\n",
    "import paths\n",
    "\n",
    "#main libraries\n",
    "import pandas as pd\n",
    "\n",
    "#model Libraries\n",
    "from sklearn import utils\n",
    "from sklearn import preprocessing\n",
    "\n",
    "from sklearn.model_selection import RandomizedSearchCV\n",
    "from sklearn.model_selection import GroupKFold\n",
    "\n",
    "from sklearn.ensemble import RandomForestClassifier\n",
    "from sklearn.ensemble import RandomForestRegressor\n",
    "\n",
    "from sklearn.metrics import make_scorer\n",
    "from sklearn.metrics import roc_auc_score\n",
    "from sklearn.metrics import mean_squared_error"
   ]
  },
  {
   "cell_type": "code",
   "execution_count": 3,
   "metadata": {},
   "outputs": [],
   "source": [
    "#private modules \n",
    "#data\n",
    "from src.data import make_dataset\n",
    "\n",
    "#utils\n",
    "from src.utils import memory_usage\n",
    "\n",
    "#model\n",
    "from src.models import train_model\n",
    "from src.models import evaluation"
   ]
  },
  {
   "cell_type": "code",
   "execution_count": 4,
   "metadata": {},
   "outputs": [
    {
     "name": "stdout",
     "output_type": "stream",
     "text": [
      "<class 'pandas.core.frame.DataFrame'>\n",
      "RangeIndex: 5000 entries, 0 to 4999\n",
      "Columns: 314 entries, id to target_kazutsugi\n",
      "dtypes: float64(311), int32(1), object(2)\n",
      "memory usage: 12.0+ MB\n",
      "None\n",
      "CPU times: user 898 ms, sys: 495 ms, total: 1.39 s\n",
      "Wall time: 2min 36s\n"
     ]
    }
   ],
   "source": [
    "%%time\n",
    "df_training,features,target = make_dataset.get_data(nrows=5000, low_memory=False, dataset=\"training\")"
   ]
  },
  {
   "cell_type": "code",
   "execution_count": 5,
   "metadata": {},
   "outputs": [
    {
     "name": "stdout",
     "output_type": "stream",
     "text": [
      "CPU times: user 6 µs, sys: 1 µs, total: 7 µs\n",
      "Wall time: 13.1 µs\n"
     ]
    }
   ],
   "source": [
    "%%time\n",
    "#df_tournament,features,target = make_dataset.get_data(nrows=5000, low_memory=False, dataset=\"tournament\")"
   ]
  },
  {
   "cell_type": "code",
   "execution_count": 6,
   "metadata": {},
   "outputs": [
    {
     "name": "stdout",
     "output_type": "stream",
     "text": [
      "Available memory (%): 24.47061538696289\n"
     ]
    }
   ],
   "source": [
    "memory_usage.memory()"
   ]
  },
  {
   "cell_type": "code",
   "execution_count": 7,
   "metadata": {},
   "outputs": [],
   "source": [
    "results, res_cv = list(), dict()"
   ]
  },
  {
   "cell_type": "code",
   "execution_count": 8,
   "metadata": {},
   "outputs": [
    {
     "name": "stdout",
     "output_type": "stream",
     "text": [
      "==> Starting K-fold cross validation for rf model, 5000 examples\n",
      "Fitting 3 folds for each of 1 candidates, totalling 3 fits\n"
     ]
    },
    {
     "name": "stderr",
     "output_type": "stream",
     "text": [
      "[Parallel(n_jobs=-1)]: Using backend LokyBackend with 4 concurrent workers.\n",
      "[Parallel(n_jobs=-1)]: Done   3 out of   3 | elapsed:    4.5s remaining:    0.0s\n",
      "[Parallel(n_jobs=-1)]: Done   3 out of   3 | elapsed:    4.5s finished\n"
     ]
    },
    {
     "name": "stdout",
     "output_type": "stream",
     "text": [
      "==> Elapsed seconds: 4.973\n",
      "Best rf model: RandomForestClassifier(n_estimators=10)\n",
      "Best rf score (val): 0.540\n"
     ]
    }
   ],
   "source": [
    "rf_param_grid =  {\n",
    "    'rf__n_estimators' : [10],\n",
    "}\n",
    "\n",
    "\n",
    "#encoding target to multiclass\n",
    "lab_enc = preprocessing.LabelEncoder()\n",
    "encoded_target_train = lab_enc.fit_transform(df_training[target])\n",
    "\n",
    "\n",
    "#Group K-fold\n",
    "CV = GroupKFold(n_splits = 3)\n",
    "grp = list(CV.split(X = df_training[features], y = df_training[target],  groups = df_training.era.values))\n",
    "\n",
    "\n",
    "#scorer function\n",
    "scorer = make_scorer(roc_auc_score, multi_class='ovr', needs_proba=True)\n",
    "\n",
    "result = evaluation.evaluate_model(df_training[features], encoded_target_train,\n",
    "                                   RandomForestClassifier(), 'rf',\n",
    "                                   rf_param_grid, \n",
    "                                   scorer, \n",
    "                                   n_iter=1, \n",
    "                                   cv_folds=grp,\n",
    "                                   pipeline=None)\n",
    "\n",
    "results.append(result)\n",
    "res_cv[result[1]] = evaluation.get_cv_scores(result[0])"
   ]
  },
  {
   "cell_type": "code",
   "execution_count": 9,
   "metadata": {},
   "outputs": [
    {
     "name": "stdout",
     "output_type": "stream",
     "text": [
      "==> Starting K-fold cross validation for regrf model, 5000 examples\n",
      "Fitting 3 folds for each of 2 candidates, totalling 6 fits\n"
     ]
    },
    {
     "name": "stderr",
     "output_type": "stream",
     "text": [
      "[Parallel(n_jobs=-1)]: Using backend LokyBackend with 4 concurrent workers.\n",
      "[Parallel(n_jobs=-1)]: Done   3 out of   6 | elapsed:    9.0s remaining:    9.0s\n",
      "[Parallel(n_jobs=-1)]: Done   6 out of   6 | elapsed:   17.5s finished\n"
     ]
    },
    {
     "name": "stdout",
     "output_type": "stream",
     "text": [
      "==> Elapsed seconds: 22.196\n",
      "Best regrf model: RandomForestRegressor(n_estimators=10)\n",
      "Best regrf score (val): 2.244\n"
     ]
    }
   ],
   "source": [
    "rf_param_grid =  {\n",
    "    #'rf__bootstrap' : [True, False],\n",
    "    #'rf__ccp_alpha' : 0.0, \n",
    "    #'rf__class_weight': [None, {0:1,1:1}, {0:1,1:10}, {0:1,1:100}, 'balanced'],\n",
    "    #'rf__criterion' : 'gini', \n",
    "    #'rf__max_depth' : [10, 20, 30, 40, 50, 60, 70, 80, 90, 100, None], \n",
    "    #'rf__max_features' : ['auto', 'sqrt'],\n",
    "    #'rf__max_leaf_nodes' : None,\n",
    "    #'rf__max_samples' : None,\n",
    "    #'rf__min_impurity_decrease' : 0.0, \n",
    "    #'rf__min_impurity_split' : None,\n",
    "    #'rf__min_samples_leaf' : [1, 2, 4],\n",
    "    #'rf__min_samples_split' : [2, 5, 10],\n",
    "    #'rf__min_weight_fraction_leaf' : 0.0, \n",
    "    'regrf__n_estimators' : [10, 20],#, 200, 400, 600, 800, 1000, 1200, 1400, 1600, 1800, 2000],\n",
    "    #'rf__oob_score' : False, \n",
    "    #'rf__random_state' : None,\n",
    "    #'rf__verbose' : 0, \n",
    "    #'rf__warm_start' : False\n",
    "}\n",
    "\n",
    "\n",
    "scorer = make_scorer(mean_squared_error)\n",
    "\n",
    "result = evaluation.evaluate_model(df_training[features], encoded_target_train,\n",
    "                                   RandomForestRegressor(), 'regrf',\n",
    "                                   rf_param_grid, \n",
    "                                   scorer, n_iter=2, \n",
    "                                   cv_folds=grp, pipeline=None)\n",
    "\n",
    "results.append(result)\n",
    "res_cv[result[1]] = evaluation.get_cv_scores(result[0])"
   ]
  },
  {
   "cell_type": "code",
   "execution_count": 10,
   "metadata": {},
   "outputs": [
    {
     "data": {
      "image/png": "[encoded data removed]",
      "text/plain": [
       "<Figure size 432x288 with 1 Axes>"
      ]
     },
     "metadata": {
      "needs_background": "light"
     },
     "output_type": "display_data"
    }
   ],
   "source": [
    "import matplotlib.pyplot as plt\n",
    "%matplotlib inline\n",
    "\n",
    "_ = plt.boxplot(res_cv.values(), labels=res_cv.keys(), showmeans=True)"
   ]
  },
  {
   "cell_type": "code",
   "execution_count": 11,
   "metadata": {},
   "outputs": [],
   "source": [
    "#salvando o pipeline completo\n",
    "file_path = '../../models/rf-baseline-pipeline.pkl'\n",
    "\n",
    "model = list(filter(lambda x: x[1] == 'rf', results))[0][0]\n",
    "model.save(file_path)"
   ]
  },
  {
   "cell_type": "code",
   "execution_count": 12,
   "metadata": {},
   "outputs": [
    {
     "data": {
      "text/plain": [
       "['../../models/rf-baseline.pkl']"
      ]
     },
     "execution_count": 12,
     "metadata": {},
     "output_type": "execute_result"
    }
   ],
   "source": [
    "#salvando apenas o modelo\n",
    "from joblib import dump, load\n",
    "dump(model.model, '../../models/rf-baseline.pkl')"
   ]
  },
  {
   "cell_type": "code",
   "execution_count": 13,
   "metadata": {},
   "outputs": [],
   "source": [
    "#carregando o modelo\n",
    "model_loaded = load(file_path)"
   ]
  },
  {
   "cell_type": "markdown",
   "metadata": {},
   "source": [
    "### 2a parte validacao e metricas"
   ]
  },
  {
   "cell_type": "code",
   "execution_count": 14,
   "metadata": {},
   "outputs": [],
   "source": [
    "#### ALL ABOUT eras Validacao e metricas"
   ]
  },
  {
   "cell_type": "code",
   "execution_count": null,
   "metadata": {},
   "outputs": [],
   "source": []
  },
  {
   "cell_type": "code",
   "execution_count": null,
   "metadata": {},
   "outputs": [],
   "source": []
  },
  {
   "cell_type": "code",
   "execution_count": null,
   "metadata": {},
   "outputs": [],
   "source": []
  },
  {
   "cell_type": "code",
   "execution_count": null,
   "metadata": {},
   "outputs": [],
   "source": []
  },
  {
   "cell_type": "code",
   "execution_count": null,
   "metadata": {},
   "outputs": [],
   "source": []
  },
  {
   "cell_type": "code",
   "execution_count": null,
   "metadata": {},
   "outputs": [],
   "source": []
  },
  {
   "cell_type": "code",
   "execution_count": null,
   "metadata": {},
   "outputs": [],
   "source": []
  },
  {
   "cell_type": "markdown",
   "metadata": {},
   "source": [
    "Rascunho"
   ]
  },
  {
   "cell_type": "code",
   "execution_count": 15,
   "metadata": {},
   "outputs": [
    {
     "name": "stdout",
     "output_type": "stream",
     "text": [
      "CPU times: user 3 µs, sys: 1 µs, total: 4 µs\n",
      "Wall time: 6.2 µs\n"
     ]
    }
   ],
   "source": [
    "%%time\n",
    "#from joblib import parallel_backend\n",
    "\n",
    "#with parallel_backend('threading', n_jobs=-1):\n",
    "    # Train the model\n",
    "    #model = RandomForestClassifier(n_estimators=10, n_jobs=-1)\n",
    "    #model.fit(df_training[features], encoded_target_train)\n",
    "    # Test the model\n",
    "    #y_pred = clf.predict(X_test)\n"
   ]
  }
 ],
 "metadata": {
  "kernelspec": {
   "display_name": "Python 3",
   "language": "python",
   "name": "python3"
  },
  "language_info": {
   "codemirror_mode": {
    "name": "ipython",
    "version": 3
   },
   "file_extension": ".py",
   "mimetype": "text/x-python",
   "name": "python",
   "nbconvert_exporter": "python",
   "pygments_lexer": "ipython3",
   "version": "3.8.3"
  }
 },
 "nbformat": 4,
 "nbformat_minor": 4
}
