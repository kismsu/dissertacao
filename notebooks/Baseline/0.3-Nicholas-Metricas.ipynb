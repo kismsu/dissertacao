{
 "cells": [
  {
   "cell_type": "code",
   "execution_count": 1,
   "metadata": {},
   "outputs": [],
   "source": [
    "%load_ext autoreload\n",
    "%autoreload 2"
   ]
  },
  {
   "cell_type": "code",
   "execution_count": 2,
   "metadata": {},
   "outputs": [],
   "source": [
    "#basics\n",
    "import sys,os\n",
    "sys.path.insert(1, os.path.dirname(os.getcwd()))\n",
    "\n",
    "#utils\n",
    "import paths\n",
    "\n",
    "#main libraries\n",
    "import numpy as np\n",
    "import pandas as pd\n",
    "import matplotlib.pyplot as plt\n",
    "pd.set_option(\"display.precision\", 4)\n",
    "%matplotlib inline\n",
    "\n",
    "#model Libraries\n",
    "from sklearn import utils\n",
    "from sklearn import preprocessing\n",
    "\n",
    "from sklearn.model_selection import RandomizedSearchCV\n",
    "from sklearn.model_selection import GroupKFold\n",
    "\n",
    "from sklearn.ensemble import RandomForestClassifier\n",
    "from sklearn.ensemble import RandomForestRegressor\n",
    "\n",
    "from sklearn.metrics import make_scorer\n",
    "from sklearn.metrics import roc_auc_score\n",
    "from sklearn.metrics import mean_squared_error"
   ]
  },
  {
   "cell_type": "code",
   "execution_count": 3,
   "metadata": {},
   "outputs": [],
   "source": [
    "#private modules \n",
    "#data\n",
    "from src.data import make_dataset\n",
    "\n",
    "#utils\n",
    "from src.utils import memory_usage\n",
    "\n",
    "#models\n",
    "from src.models import train_model\n",
    "from src.models import evaluation\n",
    "from src.models import metrics\n",
    "from src.models import metrics_description"
   ]
  },
  {
   "cell_type": "code",
   "execution_count": 5,
   "metadata": {},
   "outputs": [
    {
     "name": "stdout",
     "output_type": "stream",
     "text": [
      "low memory activated\n",
      "Memory usage after optimization is: 3.08 MB\n",
      "Decreased by 49.1%\n",
      "<class 'pandas.core.frame.DataFrame'>\n",
      "RangeIndex: 5000 entries, 0 to 4999\n",
      "Columns: 314 entries, id to target_kazutsugi\n",
      "dtypes: float16(311), int32(1), object(2)\n",
      "memory usage: 3.1+ MB\n",
      "None\n",
      "CPU times: user 1.65 s, sys: 3.52 s, total: 5.17 s\n",
      "Wall time: 6.75 s\n"
     ]
    }
   ],
   "source": [
    "%%time\n",
    "df_training,features,target = make_dataset.get_data(nrows=5000,\n",
    "                                                    low_memory=True, \n",
    "                                                    dataset=\"training\", \n",
    "                                                    feather=True)"
   ]
  },
  {
   "cell_type": "code",
   "execution_count": 6,
   "metadata": {},
   "outputs": [
    {
     "name": "stdout",
     "output_type": "stream",
     "text": [
      "low memory activated\n",
      "Memory usage after optimization is: 65.86 MB\n",
      "Decreased by 49.1%\n",
      "<class 'pandas.core.frame.DataFrame'>\n",
      "RangeIndex: 106895 entries, 0 to 106894\n",
      "Columns: 314 entries, id to target_kazutsugi\n",
      "dtypes: float16(311), int32(1), object(2)\n",
      "memory usage: 65.4+ MB\n",
      "None\n",
      "CPU times: user 7.06 s, sys: 3.01 s, total: 10.1 s\n",
      "Wall time: 10.1 s\n"
     ]
    }
   ],
   "source": [
    "%%time\n",
    "df_validation,features,target = make_dataset.get_data(nrows=None,\n",
    "                                                    low_memory=True, \n",
    "                                                    dataset=\"validation\", \n",
    "                                                    feather=True)"
   ]
  },
  {
   "cell_type": "code",
   "execution_count": 7,
   "metadata": {},
   "outputs": [
    {
     "name": "stdout",
     "output_type": "stream",
     "text": [
      "Available memory (%): 21.700000762939453\n"
     ]
    }
   ],
   "source": [
    "memory_usage.memory()"
   ]
  },
  {
   "cell_type": "code",
   "execution_count": 8,
   "metadata": {},
   "outputs": [],
   "source": [
    "results, res_cv = list(), dict()"
   ]
  },
  {
   "cell_type": "code",
   "execution_count": 9,
   "metadata": {},
   "outputs": [
    {
     "name": "stdout",
     "output_type": "stream",
     "text": [
      "==> Starting K-fold cross validation for rf model, 5000 examples\n",
      "Fitting 3 folds for each of 1 candidates, totalling 3 fits\n"
     ]
    },
    {
     "name": "stderr",
     "output_type": "stream",
     "text": [
      "[Parallel(n_jobs=-1)]: Using backend LokyBackend with 4 concurrent workers.\n",
      "[Parallel(n_jobs=-1)]: Done   3 out of   3 | elapsed:    3.4s remaining:    0.0s\n",
      "[Parallel(n_jobs=-1)]: Done   3 out of   3 | elapsed:    3.4s finished\n"
     ]
    },
    {
     "name": "stdout",
     "output_type": "stream",
     "text": [
      "==> Elapsed seconds: 3.794\n",
      "Best rf model: RandomForestClassifier(n_estimators=10)\n",
      "Best rf score (val): 0.532\n"
     ]
    }
   ],
   "source": [
    "rf_param_grid =  {\n",
    "    'rf__n_estimators' : [10],\n",
    "}\n",
    "\n",
    "\n",
    "#encoding target to multiclass\n",
    "#(df[target]*4).astype(int))\n",
    "lab_enc = preprocessing.LabelEncoder()\n",
    "encoded_target_train = lab_enc.fit_transform(df_training[target])\n",
    "\n",
    "\n",
    "#Group K-fold\n",
    "CV = GroupKFold(n_splits = 3)\n",
    "grp = list(CV.split(X = df_training[features], y = df_training[target],  groups = df_training.era.values))\n",
    "\n",
    "\n",
    "#scorer function\n",
    "scorer = make_scorer(roc_auc_score, multi_class='ovr', needs_proba=True, average='weighted')\n",
    "\n",
    "result = evaluation.evaluate_model(df_training[features], encoded_target_train,\n",
    "                                   RandomForestClassifier(), 'rf',\n",
    "                                   rf_param_grid, \n",
    "                                   scorer, \n",
    "                                   n_iter=1, \n",
    "                                   cv_folds=grp,\n",
    "                                   pipeline=None)\n",
    "\n",
    "results.append(result)\n",
    "res_cv[result[1]] = evaluation.get_cv_scores(result[0])"
   ]
  },
  {
   "cell_type": "code",
   "execution_count": 10,
   "metadata": {},
   "outputs": [
    {
     "name": "stdout",
     "output_type": "stream",
     "text": [
      "==> Starting K-fold cross validation for lr model, 5000 examples\n",
      "Fitting 3 folds for each of 1 candidates, totalling 3 fits\n"
     ]
    },
    {
     "name": "stderr",
     "output_type": "stream",
     "text": [
      "[Parallel(n_jobs=-1)]: Using backend LokyBackend with 4 concurrent workers.\n"
     ]
    },
    {
     "name": "stdout",
     "output_type": "stream",
     "text": [
      "==> Elapsed seconds: 1.392\n",
      "Best lr model: LinearRegression(n_jobs=-1)\n",
      "Best lr score (val): 0.135\n"
     ]
    },
    {
     "name": "stderr",
     "output_type": "stream",
     "text": [
      "[Parallel(n_jobs=-1)]: Done   3 out of   3 | elapsed:    1.2s remaining:    0.0s\n",
      "[Parallel(n_jobs=-1)]: Done   3 out of   3 | elapsed:    1.2s finished\n"
     ]
    }
   ],
   "source": [
    "lr_param_grid =  {\n",
    "    'lr__n_jobs' : [-1],\n",
    "\n",
    "}\n",
    "\n",
    "#model = XGBRegressor(max_depth=5, learning_rate=0.01, n_estimators=2000, n_jobs=-1, colsample_bytree=0.1)\n",
    "\n",
    "from sklearn.linear_model import LinearRegression\n",
    "from sklearn.metrics import mean_squared_error\n",
    "\n",
    "# Train the model\n",
    "reg = LinearRegression()\n",
    "\n",
    "\n",
    "scorer = make_scorer(mean_squared_error)\n",
    "\n",
    "result = evaluation.evaluate_model(df_training[features], df_training[target],\n",
    "                                   LinearRegression(), 'lr',\n",
    "                                   lr_param_grid, \n",
    "                                   scorer, n_iter=1, \n",
    "                                   cv_folds=grp, pipeline=None)\n",
    "\n",
    "results.append(result)\n",
    "res_cv[result[1]] = evaluation.get_cv_scores(result[0])"
   ]
  },
  {
   "cell_type": "code",
   "execution_count": 11,
   "metadata": {},
   "outputs": [
    {
     "data": {
      "image/png": "[encoded data removed]",
      "text/plain": [
       "<Figure size 432x288 with 1 Axes>"
      ]
     },
     "metadata": {
      "needs_background": "light"
     },
     "output_type": "display_data"
    }
   ],
   "source": [
    "_ = plt.boxplot(res_cv.values(), labels=res_cv.keys(), showmeans=True)"
   ]
  },
  {
   "cell_type": "code",
   "execution_count": 12,
   "metadata": {},
   "outputs": [],
   "source": [
    "#salvando o pipeline completo\n",
    "file_path = '../../models/sao_paulo-pipeline.pkl'\n",
    "\n",
    "model = list(filter(lambda x: x[1] == 'rf', results))[0][0]\n",
    "model.save(file_path)"
   ]
  },
  {
   "cell_type": "code",
   "execution_count": null,
   "metadata": {},
   "outputs": [],
   "source": [
    "#salvando apenas o modelo\n",
    "from joblib import dump, load\n",
    "dump(model.model, '../../models/sao_paulo-baseline.pkl')"
   ]
  },
  {
   "cell_type": "code",
   "execution_count": null,
   "metadata": {},
   "outputs": [],
   "source": [
    "#carregando o modelo\n",
    "model_loaded = load(file_path)"
   ]
  },
  {
   "cell_type": "markdown",
   "metadata": {},
   "source": [
    "### 2a Parte: Metricas"
   ]
  },
  {
   "cell_type": "markdown",
   "metadata": {},
   "source": [
    "Your submission is scored on the correlation between your predictions and the true targets. The higher the correlation the better.\n",
    "\n",
    "\n",
    "\n",
    "#### Metricas Submissão:\n",
    "\n",
    "- Validation Correlation {3.6%..4.4%} (4.8% overfit) (The mean of your per-era correlations)\n",
    "- Validation Sharpe (per era mean/std)\n",
    "- Corr With Example Preds (example scripts xgboost)\n",
    "- Feature Exposure (acima de .08 é mto alto, mas 0.07 é dificil)(example scripts caiu de  .22 para .15 com neutralizacao)\n",
    "\n",
    "\n",
    "### Metricas Leaderboard (live data):\n",
    "- Correaltion (spearman??)\n",
    "- MMC\n",
    "- Corr W/Metamodel\n",
    "\n",
    "#### Ranking (média correlation dos ultimos 20 rounds)\n",
    "- Reputation \n",
    "- MMC Rep\n",
    "\n",
    "\n",
    "\n",
    "#### Métricas Modelo (Classificacao - Multi) (pegar ideias do pycaret)\n",
    "- AUC {0.515..0.520} (+que isso é overffiting)\n",
    "- Acuracia\n",
    "- F1\n",
    "\n",
    "\n",
    "#### Métricas Modelo (Regressão)\n",
    "- MSE\n",
    "- Rˆ2\n",
    "\n",
    "\n",
    "#### Métricas Modelo (Ranking)\n",
    "- ????\n",
    "\n",
    "\n"
   ]
  },
  {
   "cell_type": "markdown",
   "metadata": {},
   "source": [
    "#### Notas\n",
    "\n",
    "- MSE looks worse than correlation out of sample (tips & tricks)\n",
    "\n",
    "- Validation correlation: The mean of your per-era correlations.Is this computed using the predictions of the validation data set and the real targets of the validation dataset\n",
    "\n",
    "\n",
    "\n",
    "- Corr With Example Preds: This is the correlation between your model and the example predictions. Which are the example predictions and agains which dataset are calculated?\n",
    "\n",
    "\n",
    "\n",
    " - For calculating feature exposure: Calculate the pearson correlation between feature 1 and your predictions, between feature 2 and your predictions, … …, between feature 310 and your predictions.\n",
    " \n",
    " \n",
    "- For optimization I also use smart sharpe ratio and smart sortino ratio (sharpe/sortino ratio with an autocorrelation penalty). These were discussed in another thread of this forum. \n"
   ]
  },
  {
   "cell_type": "code",
   "execution_count": 13,
   "metadata": {},
   "outputs": [],
   "source": [
    "model = list(filter(lambda x: x[1] == 'rf', results))[0][0]\n",
    "preds = model.model.predict(model.pipeline.transform(df_validation[features]))"
   ]
  },
  {
   "cell_type": "code",
   "execution_count": 14,
   "metadata": {},
   "outputs": [
    {
     "name": "stdout",
     "output_type": "stream",
     "text": [
      "Qtde. eras: 22\n",
      "performance over time\n"
     ]
    },
    {
     "data": {
      "image/png": "[encoded data removed]",
      "text/plain": [
       "<Figure size 432x288 with 1 Axes>"
      ]
     },
     "metadata": {
      "needs_background": "light"
     },
     "output_type": "display_data"
    }
   ],
   "source": [
    "era_scores, era_df, df_metrics = metrics.submission_metrics(df_validation, preds, model.name)"
   ]
  },
  {
   "cell_type": "code",
   "execution_count": 15,
   "metadata": {},
   "outputs": [
    {
     "data": {
      "text/html": [
       "<div>\n",
       "<style scoped>\n",
       "    .dataframe tbody tr th:only-of-type {\n",
       "        vertical-align: middle;\n",
       "    }\n",
       "\n",
       "    .dataframe tbody tr th {\n",
       "        vertical-align: top;\n",
       "    }\n",
       "\n",
       "    .dataframe thead th {\n",
       "        text-align: right;\n",
       "    }\n",
       "</style>\n",
       "<table border=\"1\" class=\"dataframe\">\n",
       "  <thead>\n",
       "    <tr style=\"text-align: right;\">\n",
       "      <th></th>\n",
       "      <th>Valor</th>\n",
       "      <th>Categoria</th>\n",
       "      <th>Range_Aceitavel</th>\n",
       "      <th>Descricao</th>\n",
       "    </tr>\n",
       "    <tr>\n",
       "      <th>Metrica</th>\n",
       "      <th></th>\n",
       "      <th></th>\n",
       "      <th></th>\n",
       "      <th></th>\n",
       "    </tr>\n",
       "  </thead>\n",
       "  <tbody>\n",
       "    <tr>\n",
       "      <th>Model_Name</th>\n",
       "      <td>rf</td>\n",
       "      <td>Submission</td>\n",
       "      <td>NA</td>\n",
       "      <td>Nome do Modelo</td>\n",
       "    </tr>\n",
       "    <tr>\n",
       "      <th>Max_Drawdown</th>\n",
       "      <td>-0.03499</td>\n",
       "      <td>Financeira</td>\n",
       "      <td>[..]</td>\n",
       "      <td>Perda máxima em uma era</td>\n",
       "    </tr>\n",
       "    <tr>\n",
       "      <th>Avg_corr</th>\n",
       "      <td>0.002376</td>\n",
       "      <td>Submission</td>\n",
       "      <td>[..]</td>\n",
       "      <td>...</td>\n",
       "    </tr>\n",
       "    <tr>\n",
       "      <th>Median_corr</th>\n",
       "      <td>0.004452</td>\n",
       "      <td>Estatistica</td>\n",
       "      <td>[..]</td>\n",
       "      <td>...</td>\n",
       "    </tr>\n",
       "    <tr>\n",
       "      <th>Variance</th>\n",
       "      <td>0.0002926</td>\n",
       "      <td>Estatistica</td>\n",
       "      <td>[..]</td>\n",
       "      <td>...</td>\n",
       "    </tr>\n",
       "    <tr>\n",
       "      <th>Std_Dev</th>\n",
       "      <td>0.0171</td>\n",
       "      <td>Estatistica</td>\n",
       "      <td>[..]</td>\n",
       "      <td>...</td>\n",
       "    </tr>\n",
       "    <tr>\n",
       "      <th>AR(1)</th>\n",
       "      <td>0.1281</td>\n",
       "      <td>Estatistica</td>\n",
       "      <td>[..]</td>\n",
       "      <td>...</td>\n",
       "    </tr>\n",
       "    <tr>\n",
       "      <th>Skewness</th>\n",
       "      <td>-0.3869</td>\n",
       "      <td>Estatistica</td>\n",
       "      <td>[..]</td>\n",
       "      <td>...</td>\n",
       "    </tr>\n",
       "    <tr>\n",
       "      <th>Exc_Kurtosis</th>\n",
       "      <td>-0.07211</td>\n",
       "      <td>Estatistica</td>\n",
       "      <td>[..]</td>\n",
       "      <td>...</td>\n",
       "    </tr>\n",
       "    <tr>\n",
       "      <th>Std_Error_Mean</th>\n",
       "      <td>0.003733</td>\n",
       "      <td>Estatistica</td>\n",
       "      <td>[..]</td>\n",
       "      <td>...</td>\n",
       "    </tr>\n",
       "    <tr>\n",
       "      <th>Sharpe</th>\n",
       "      <td>0.4811</td>\n",
       "      <td>Submission</td>\n",
       "      <td>[..]</td>\n",
       "      <td>...</td>\n",
       "    </tr>\n",
       "    <tr>\n",
       "      <th>Smart_Sharpe</th>\n",
       "      <td>0.4157</td>\n",
       "      <td>Financeira</td>\n",
       "      <td>[..]</td>\n",
       "      <td>...</td>\n",
       "    </tr>\n",
       "    <tr>\n",
       "      <th>Numerai_Sharpe</th>\n",
       "      <td>-1.628</td>\n",
       "      <td>Financeira</td>\n",
       "      <td>[..]</td>\n",
       "      <td>...</td>\n",
       "    </tr>\n",
       "    <tr>\n",
       "      <th>Ann_Sharpe</th>\n",
       "      <td>-1.628</td>\n",
       "      <td>Financeira</td>\n",
       "      <td>[..]</td>\n",
       "      <td>...</td>\n",
       "    </tr>\n",
       "    <tr>\n",
       "      <th>Adj_Sharpe</th>\n",
       "      <td>-1.812</td>\n",
       "      <td>Financeira</td>\n",
       "      <td>[..]</td>\n",
       "      <td>...</td>\n",
       "    </tr>\n",
       "    <tr>\n",
       "      <th>VaR_10</th>\n",
       "      <td>-0.002013</td>\n",
       "      <td>Financeira</td>\n",
       "      <td>[..]</td>\n",
       "      <td>...</td>\n",
       "    </tr>\n",
       "    <tr>\n",
       "      <th>Sortino_Ratio</th>\n",
       "      <td>-0.4503</td>\n",
       "      <td>Financeira</td>\n",
       "      <td>[..]</td>\n",
       "      <td>Sortino ratio as an alternative to Sharpe for ...</td>\n",
       "    </tr>\n",
       "    <tr>\n",
       "      <th>Smart_Sortino_Ratio</th>\n",
       "      <td>-0.3982</td>\n",
       "      <td>Financeira</td>\n",
       "      <td>[..]</td>\n",
       "      <td>Sortino Ratio penalizado AR(1)</td>\n",
       "    </tr>\n",
       "    <tr>\n",
       "      <th>Payout</th>\n",
       "      <td>0.002376</td>\n",
       "      <td>Leaderboard</td>\n",
       "      <td>[..]</td>\n",
       "      <td>...</td>\n",
       "    </tr>\n",
       "    <tr>\n",
       "      <th>Feat_exp_std (val)</th>\n",
       "      <td>0.02462</td>\n",
       "      <td>Estatistica</td>\n",
       "      <td>[..]</td>\n",
       "      <td>...</td>\n",
       "    </tr>\n",
       "    <tr>\n",
       "      <th>Feat_exp_max (val)</th>\n",
       "      <td>0.06693</td>\n",
       "      <td>Estatistica</td>\n",
       "      <td>[..]</td>\n",
       "      <td>...</td>\n",
       "    </tr>\n",
       "  </tbody>\n",
       "</table>\n",
       "</div>"
      ],
      "text/plain": [
       "                         Valor    Categoria Range_Aceitavel  \\\n",
       "Metrica                                                       \n",
       "Model_Name                  rf   Submission              NA   \n",
       "Max_Drawdown          -0.03499   Financeira            [..]   \n",
       "Avg_corr              0.002376   Submission            [..]   \n",
       "Median_corr           0.004452  Estatistica            [..]   \n",
       "Variance             0.0002926  Estatistica            [..]   \n",
       "Std_Dev                 0.0171  Estatistica            [..]   \n",
       "AR(1)                   0.1281  Estatistica            [..]   \n",
       "Skewness               -0.3869  Estatistica            [..]   \n",
       "Exc_Kurtosis          -0.07211  Estatistica            [..]   \n",
       "Std_Error_Mean        0.003733  Estatistica            [..]   \n",
       "Sharpe                  0.4811   Submission            [..]   \n",
       "Smart_Sharpe            0.4157   Financeira            [..]   \n",
       "Numerai_Sharpe          -1.628   Financeira            [..]   \n",
       "Ann_Sharpe              -1.628   Financeira            [..]   \n",
       "Adj_Sharpe              -1.812   Financeira            [..]   \n",
       "VaR_10               -0.002013   Financeira            [..]   \n",
       "Sortino_Ratio          -0.4503   Financeira            [..]   \n",
       "Smart_Sortino_Ratio    -0.3982   Financeira            [..]   \n",
       "Payout                0.002376  Leaderboard            [..]   \n",
       "Feat_exp_std (val)     0.02462  Estatistica            [..]   \n",
       "Feat_exp_max (val)     0.06693  Estatistica            [..]   \n",
       "\n",
       "                                                             Descricao  \n",
       "Metrica                                                                 \n",
       "Model_Name                                              Nome do Modelo  \n",
       "Max_Drawdown                                   Perda máxima em uma era  \n",
       "Avg_corr                                                           ...  \n",
       "Median_corr                                                        ...  \n",
       "Variance                                                           ...  \n",
       "Std_Dev                                                            ...  \n",
       "AR(1)                                                              ...  \n",
       "Skewness                                                           ...  \n",
       "Exc_Kurtosis                                                       ...  \n",
       "Std_Error_Mean                                                     ...  \n",
       "Sharpe                                                             ...  \n",
       "Smart_Sharpe                                                       ...  \n",
       "Numerai_Sharpe                                                     ...  \n",
       "Ann_Sharpe                                                         ...  \n",
       "Adj_Sharpe                                                         ...  \n",
       "VaR_10                                                             ...  \n",
       "Sortino_Ratio        Sortino ratio as an alternative to Sharpe for ...  \n",
       "Smart_Sortino_Ratio                     Sortino Ratio penalizado AR(1)  \n",
       "Payout                                                             ...  \n",
       "Feat_exp_std (val)                                                 ...  \n",
       "Feat_exp_max (val)                                                 ...  "
      ]
     },
     "execution_count": 15,
     "metadata": {},
     "output_type": "execute_result"
    }
   ],
   "source": [
    "df_metrics"
   ]
  },
  {
   "cell_type": "markdown",
   "metadata": {},
   "source": [
    "##### Metricas regressao (melhorar para o SP)"
   ]
  },
  {
   "cell_type": "code",
   "execution_count": 16,
   "metadata": {},
   "outputs": [
    {
     "name": "stdout",
     "output_type": "stream",
     "text": [
      "Model performance on validation set:\n",
      "Training R^2: -0.10671030742008147\n",
      "Training MSE: 0.1381569653749466\n"
     ]
    }
   ],
   "source": [
    "model = list(filter(lambda x: x[1] == 'lr', results))[0][0]\n",
    "preds = model.model.predict(model.pipeline.transform(df_validation[features]))\n",
    "\n",
    "# Evaluate the model\n",
    "print('Model performance on validation set:')\n",
    "score = model.model.score(df_validation[features], df_validation[target])  #default deve ser o R2\n",
    "mse = mean_squared_error(df_validation[target], preds)\n",
    "print(f'Training R^2: {score}')\n",
    "print(f'Training MSE: {mse}')"
   ]
  },
  {
   "cell_type": "code",
   "execution_count": 17,
   "metadata": {},
   "outputs": [
    {
     "name": "stdout",
     "output_type": "stream",
     "text": [
      "Qtde. eras: 22\n",
      "performance over time\n"
     ]
    },
    {
     "data": {
      "image/png": "[encoded data removed]",
      "text/plain": [
       "<Figure size 432x288 with 1 Axes>"
      ]
     },
     "metadata": {
      "needs_background": "light"
     },
     "output_type": "display_data"
    }
   ],
   "source": [
    "era_scores, era_df, df_metrics = metrics.submission_metrics(df_validation, preds, model.name)"
   ]
  },
  {
   "cell_type": "markdown",
   "metadata": {},
   "source": [
    "##### Metricas Classificacao (OK)"
   ]
  },
  {
   "cell_type": "code",
   "execution_count": 19,
   "metadata": {},
   "outputs": [],
   "source": [
    "model = list(filter(lambda x: x[1] == 'rf', results))[0][0]\n",
    "preds = model.model.predict(model.pipeline.transform(df_validation[features]))\n",
    "#preds = minmax_scale(preds)"
   ]
  },
  {
   "cell_type": "code",
   "execution_count": 20,
   "metadata": {},
   "outputs": [
    {
     "name": "stdout",
     "output_type": "stream",
     "text": [
      "              precision    recall  f1-score   support\n",
      "\n",
      "           0       0.23      0.28      0.25     21352\n",
      "           1       0.21      0.26      0.23     21363\n",
      "           2       0.22      0.23      0.23     21474\n",
      "           3       0.21      0.17      0.19     21362\n",
      "           4       0.23      0.15      0.19     21344\n",
      "\n",
      "    accuracy                           0.22    106895\n",
      "   macro avg       0.22      0.22      0.22    106895\n",
      "weighted avg       0.22      0.22      0.22    106895\n",
      "\n"
     ]
    },
    {
     "data": {
      "image/png": "[encoded data removed]",
      "text/plain": [
       "<Figure size 432x288 with 2 Axes>"
      ]
     },
     "metadata": {
      "needs_background": "light"
     },
     "output_type": "display_data"
    }
   ],
   "source": [
    "evaluation.plot_confusion_matrix(lab_enc.fit_transform(df_validation[target]), preds)"
   ]
  },
  {
   "cell_type": "markdown",
   "metadata": {},
   "source": [
    "Rascunho"
   ]
  },
  {
   "cell_type": "code",
   "execution_count": null,
   "metadata": {},
   "outputs": [],
   "source": [
    "MODEL_FILE = Path(\"example_model.xgb\")\n",
    "\n",
    "if MODEL_FILE.is_file():\n",
    "    print(\"Loading pre-trained model...\")\n",
    "    model.load_model(MODEL_FILE)"
   ]
  },
  {
   "cell_type": "code",
   "execution_count": null,
   "metadata": {},
   "outputs": [],
   "source": [
    "%%time\n",
    "#from joblib import parallel_backend\n",
    "\n",
    "#with parallel_backend('threading', n_jobs=-1):\n",
    "    # Train the model\n",
    "    #model = RandomForestClassifier(n_estimators=10, n_jobs=-1)\n",
    "    #model.fit(df_training[features], encoded_target_train)\n",
    "    # Test the model\n",
    "    #y_pred = clf.predict(X_test)\n"
   ]
  }
 ],
 "metadata": {
  "kernelspec": {
   "display_name": "Python 3",
   "language": "python",
   "name": "python3"
  },
  "language_info": {
   "codemirror_mode": {
    "name": "ipython",
    "version": 3
   },
   "file_extension": ".py",
   "mimetype": "text/x-python",
   "name": "python",
   "nbconvert_exporter": "python",
   "pygments_lexer": "ipython3",
   "version": "3.8.3"
  }
 },
 "nbformat": 4,
 "nbformat_minor": 4
}
