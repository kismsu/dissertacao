{
 "cells": [
  {
   "cell_type": "code",
   "execution_count": 1,
   "metadata": {},
   "outputs": [],
   "source": [
    "%load_ext autoreload\n",
    "%autoreload 2"
   ]
  },
  {
   "cell_type": "code",
   "execution_count": 2,
   "metadata": {},
   "outputs": [],
   "source": [
    "#basics\n",
    "import sys,os\n",
    "sys.path.insert(1, os.path.dirname(os.getcwd()))\n",
    "\n",
    "#utils\n",
    "import paths\n",
    "\n",
    "#main libraries\n",
    "import numpy as np\n",
    "import pandas as pd\n",
    "import matplotlib.pyplot as plt\n",
    "pd.set_option(\"display.precision\", 4)\n",
    "%matplotlib inline\n",
    "\n",
    "#model Libraries\n",
    "from sklearn import utils\n",
    "from sklearn import preprocessing\n",
    "\n",
    "from sklearn.model_selection import RandomizedSearchCV\n",
    "from sklearn.model_selection import GroupKFold\n",
    "\n",
    "from sklearn.ensemble import RandomForestClassifier\n",
    "from sklearn.ensemble import RandomForestRegressor\n",
    "\n",
    "from sklearn.metrics import make_scorer\n",
    "from sklearn.metrics import roc_auc_score\n",
    "from sklearn.metrics import mean_squared_error"
   ]
  },
  {
   "cell_type": "code",
   "execution_count": 3,
   "metadata": {},
   "outputs": [],
   "source": [
    "#private modules \n",
    "#data\n",
    "from src.data import make_dataset\n",
    "\n",
    "#utils\n",
    "from src.utils import memory_usage\n",
    "\n",
    "#models\n",
    "from src.models import train_model\n",
    "from src.models import evaluation\n",
    "\n",
    "#validation\n",
    "from src.validation import metrics\n",
    "from src.validation import metrics_description"
   ]
  },
  {
   "cell_type": "code",
   "execution_count": 4,
   "metadata": {},
   "outputs": [
    {
     "name": "stdout",
     "output_type": "stream",
     "text": [
      "low memory activated\n",
      "Memory usage after optimization is: 3.08 MB\n",
      "Decreased by 49.1%\n",
      "<class 'pandas.core.frame.DataFrame'>\n",
      "RangeIndex: 5000 entries, 0 to 4999\n",
      "Columns: 314 entries, id to target_kazutsugi\n",
      "dtypes: float16(311), int32(1), object(2)\n",
      "memory usage: 3.1+ MB\n",
      "None\n",
      "CPU times: user 1.61 s, sys: 3.66 s, total: 5.27 s\n",
      "Wall time: 7.85 s\n"
     ]
    }
   ],
   "source": [
    "%%time\n",
    "df_training,features,target = make_dataset.get_data(nrows=5000,\n",
    "                                                    low_memory=True, \n",
    "                                                    dataset=\"training\", \n",
    "                                                    feather=True)"
   ]
  },
  {
   "cell_type": "code",
   "execution_count": 5,
   "metadata": {},
   "outputs": [
    {
     "name": "stdout",
     "output_type": "stream",
     "text": [
      "low memory activated\n",
      "Memory usage after optimization is: 65.86 MB\n",
      "Decreased by 49.1%\n",
      "<class 'pandas.core.frame.DataFrame'>\n",
      "RangeIndex: 106895 entries, 0 to 106894\n",
      "Columns: 314 entries, id to target_kazutsugi\n",
      "dtypes: float16(311), int32(1), object(2)\n",
      "memory usage: 65.4+ MB\n",
      "None\n",
      "CPU times: user 7 s, sys: 2.99 s, total: 9.99 s\n",
      "Wall time: 10.2 s\n"
     ]
    }
   ],
   "source": [
    "%%time\n",
    "df_validation,features,target = make_dataset.get_data(nrows=None,\n",
    "                                                    low_memory=True, \n",
    "                                                    dataset=\"validation\", \n",
    "                                                    feather=True)"
   ]
  },
  {
   "cell_type": "code",
   "execution_count": 6,
   "metadata": {},
   "outputs": [
    {
     "name": "stdout",
     "output_type": "stream",
     "text": [
      "Available memory (%): 23.197650909423828\n"
     ]
    }
   ],
   "source": [
    "memory_usage.memory()"
   ]
  },
  {
   "cell_type": "code",
   "execution_count": 5,
   "metadata": {},
   "outputs": [],
   "source": [
    "results, res_cv = list(), dict()"
   ]
  },
  {
   "cell_type": "code",
   "execution_count": null,
   "metadata": {},
   "outputs": [],
   "source": []
  },
  {
   "cell_type": "code",
   "execution_count": 9,
   "metadata": {},
   "outputs": [
    {
     "name": "stdout",
     "output_type": "stream",
     "text": [
      "==> Starting K-fold cross validation for lr model, 5000 examples\n",
      "Fitting 3 folds for each of 1 candidates, totalling 3 fits\n"
     ]
    },
    {
     "name": "stderr",
     "output_type": "stream",
     "text": [
      "[Parallel(n_jobs=-1)]: Using backend LokyBackend with 4 concurrent workers.\n"
     ]
    },
    {
     "name": "stdout",
     "output_type": "stream",
     "text": [
      "==> Elapsed seconds: 1.486\n",
      "Best lr model: LinearRegression(n_jobs=-1)\n",
      "Best lr score (val): 0.135\n"
     ]
    },
    {
     "name": "stderr",
     "output_type": "stream",
     "text": [
      "[Parallel(n_jobs=-1)]: Done   3 out of   3 | elapsed:    1.3s remaining:    0.0s\n",
      "[Parallel(n_jobs=-1)]: Done   3 out of   3 | elapsed:    1.3s finished\n"
     ]
    }
   ],
   "source": [
    "lr_param_grid =  {\n",
    "    'lr__n_jobs' : [-1],\n",
    "\n",
    "}\n",
    "\n",
    "#model = XGBRegressor(max_depth=5, learning_rate=0.01, n_estimators=2000, n_jobs=-1, colsample_bytree=0.1)\n",
    "\n",
    "from sklearn.linear_model import LinearRegression\n",
    "from sklearn.metrics import mean_squared_error\n",
    "\n",
    "# Train the model\n",
    "reg = LinearRegression()\n",
    "\n",
    "\n",
    "scorer = make_scorer(mean_squared_error)\n",
    "\n",
    "result = evaluation.evaluate_model(df_training[features], df_training[target],\n",
    "                                   LinearRegression(), 'lr',\n",
    "                                   lr_param_grid, \n",
    "                                   scorer, n_iter=1, \n",
    "                                   cv_folds=grp, pipeline=None)\n",
    "\n",
    "results.append(result)\n",
    "res_cv[result[1]] = evaluation.get_cv_scores(result[0])"
   ]
  },
  {
   "cell_type": "code",
   "execution_count": 10,
   "metadata": {},
   "outputs": [
    {
     "data": {
      "image/png": "[encoded data removed]",
      "text/plain": [
       "<Figure size 432x288 with 1 Axes>"
      ]
     },
     "metadata": {
      "needs_background": "light"
     },
     "output_type": "display_data"
    }
   ],
   "source": [
    "_ = plt.boxplot(res_cv.values(), labels=res_cv.keys(), showmeans=True)"
   ]
  },
  {
   "cell_type": "code",
   "execution_count": 11,
   "metadata": {},
   "outputs": [],
   "source": [
    "#salvando o pipeline completo\n",
    "file_path = '../../models/sao_paulo-pipeline.pkl'\n",
    "\n",
    "model = list(filter(lambda x: x[1] == 'rf', results))[0][0]\n",
    "model.save(file_path)"
   ]
  },
  {
   "cell_type": "code",
   "execution_count": 12,
   "metadata": {},
   "outputs": [
    {
     "data": {
      "text/plain": [
       "['../../models/sao_paulo-baseline.pkl']"
      ]
     },
     "execution_count": 12,
     "metadata": {},
     "output_type": "execute_result"
    }
   ],
   "source": [
    "#salvando apenas o modelo\n",
    "from joblib import dump, load\n",
    "dump(model.model, '../../models/sao_paulo-baseline.pkl')"
   ]
  },
  {
   "cell_type": "code",
   "execution_count": 13,
   "metadata": {},
   "outputs": [],
   "source": [
    "#carregando o modelo\n",
    "model_loaded = load(file_path)"
   ]
  },
  {
   "cell_type": "markdown",
   "metadata": {},
   "source": [
    "### 2a Parte: Metricas"
   ]
  },
  {
   "cell_type": "markdown",
   "metadata": {},
   "source": [
    "Your submission is scored on the correlation between your predictions and the true targets. The higher the correlation the better.\n",
    "\n",
    "\n",
    "\n",
    "#### Metricas Submissão:\n",
    "\n",
    "- Validation Correlation {3.6%..4.4%} (4.8% overfit) (The mean of your per-era correlations)\n",
    "- Validation Sharpe (per era mean/std)\n",
    "- Corr With Example Preds (example scripts xgboost)\n",
    "- Feature Exposure (acima de .08 é mto alto, mas 0.07 é dificil)(example scripts caiu de  .22 para .15 com neutralizacao)\n",
    "\n",
    "\n",
    "### Metricas Leaderboard (live data):\n",
    "- Correaltion (spearman??)\n",
    "- MMC\n",
    "- Corr W/Metamodel\n",
    "\n",
    "#### Ranking (média correlation dos ultimos 20 rounds)\n",
    "- Reputation \n",
    "- MMC Rep\n",
    "\n",
    "\n",
    "\n",
    "#### Métricas Modelo (Classificacao - Multi) (pegar ideias do pycaret)\n",
    "- AUC {0.515..0.520} (+que isso é overffiting)\n",
    "- Acuracia\n",
    "- F1\n",
    "\n",
    "\n",
    "#### Métricas Modelo (Regressão)\n",
    "- MSE\n",
    "- Rˆ2\n",
    "\n",
    "\n",
    "#### Métricas Modelo (Ranking)\n",
    "- ????\n",
    "\n",
    "\n"
   ]
  },
  {
   "cell_type": "code",
   "execution_count": 14,
   "metadata": {},
   "outputs": [],
   "source": [
    "model = list(filter(lambda x: x[1] == 'rf', results))[0][0]\n",
    "preds = model.model.predict(model.pipeline.transform(df_validation[features]))"
   ]
  },
  {
   "cell_type": "code",
   "execution_count": 58,
   "metadata": {},
   "outputs": [
    {
     "name": "stdout",
     "output_type": "stream",
     "text": [
      "Qtde. eras: 22\n",
      "performance over time\n"
     ]
    },
    {
     "data": {
      "image/png": "[encoded data removed]",
      "text/plain": [
       "<Figure size 432x288 with 1 Axes>"
      ]
     },
     "metadata": {
      "needs_background": "light"
     },
     "output_type": "display_data"
    }
   ],
   "source": [
    "era_scores, era_df, df_metrics, feat_corrs = metrics.submission_metrics(df_validation, preds, model.name)"
   ]
  },
  {
   "cell_type": "code",
   "execution_count": 54,
   "metadata": {},
   "outputs": [
    {
     "data": {
      "text/plain": [
       "count    310.0000\n",
       "mean       0.0188\n",
       "std        0.0317\n",
       "min       -0.0674\n",
       "25%       -0.0018\n",
       "50%        0.0250\n",
       "75%        0.0422\n",
       "max        0.0799\n",
       "dtype: float64"
      ]
     },
     "execution_count": 54,
     "metadata": {},
     "output_type": "execute_result"
    }
   ],
   "source": [
    "feat_corrs.describe()"
   ]
  },
  {
   "cell_type": "code",
   "execution_count": 59,
   "metadata": {},
   "outputs": [
    {
     "data": {
      "text/html": [
       "<div>\n",
       "<style scoped>\n",
       "    .dataframe tbody tr th:only-of-type {\n",
       "        vertical-align: middle;\n",
       "    }\n",
       "\n",
       "    .dataframe tbody tr th {\n",
       "        vertical-align: top;\n",
       "    }\n",
       "\n",
       "    .dataframe thead th {\n",
       "        text-align: right;\n",
       "    }\n",
       "</style>\n",
       "<table border=\"1\" class=\"dataframe\">\n",
       "  <thead>\n",
       "    <tr style=\"text-align: right;\">\n",
       "      <th></th>\n",
       "      <th>Valor</th>\n",
       "      <th>Categoria</th>\n",
       "      <th>Range_Aceitavel</th>\n",
       "      <th>Descricao</th>\n",
       "    </tr>\n",
       "    <tr>\n",
       "      <th>Metrica</th>\n",
       "      <th></th>\n",
       "      <th></th>\n",
       "      <th></th>\n",
       "      <th></th>\n",
       "    </tr>\n",
       "  </thead>\n",
       "  <tbody>\n",
       "    <tr>\n",
       "      <th>Model_Name</th>\n",
       "      <td>rf</td>\n",
       "      <td>Submission</td>\n",
       "      <td>NA</td>\n",
       "      <td>Nome do Modelo</td>\n",
       "    </tr>\n",
       "    <tr>\n",
       "      <th>Max_Drawdown</th>\n",
       "      <td>-0.0192</td>\n",
       "      <td>Financeira</td>\n",
       "      <td>[0%..2%]</td>\n",
       "      <td>Perda máxima em uma era</td>\n",
       "    </tr>\n",
       "    <tr>\n",
       "      <th>Avg_corr</th>\n",
       "      <td>-0.0002078</td>\n",
       "      <td>Submission</td>\n",
       "      <td>[3.6%..4.4%] 4.8%, overfitting</td>\n",
       "      <td>Média spearman corr por era</td>\n",
       "    </tr>\n",
       "    <tr>\n",
       "      <th>Median_corr</th>\n",
       "      <td>-0.001808</td>\n",
       "      <td>Estatistica</td>\n",
       "      <td>[3.6%..4.4%] Dentro do range de médias</td>\n",
       "      <td>Mediana spearman corr por era</td>\n",
       "    </tr>\n",
       "    <tr>\n",
       "      <th>Variance</th>\n",
       "      <td>0.0001585</td>\n",
       "      <td>Estatistica</td>\n",
       "      <td>[0..] Próximo a zero</td>\n",
       "      <td>Variancia spearman corr por era</td>\n",
       "    </tr>\n",
       "    <tr>\n",
       "      <th>Std_Dev</th>\n",
       "      <td>0.01259</td>\n",
       "      <td>Estatistica</td>\n",
       "      <td>[0..] Próximo a zero</td>\n",
       "      <td>Std spearman corr por era</td>\n",
       "    </tr>\n",
       "    <tr>\n",
       "      <th>AR(1)</th>\n",
       "      <td>-0.2311</td>\n",
       "      <td>Estatistica</td>\n",
       "      <td>[0..] Próximo a zero</td>\n",
       "      <td>AR(1) das era scores, X = a+ b * X_(-1)</td>\n",
       "    </tr>\n",
       "    <tr>\n",
       "      <th>Skewness</th>\n",
       "      <td>0.9166</td>\n",
       "      <td>Estatistica</td>\n",
       "      <td>[..]</td>\n",
       "      <td>Skewness</td>\n",
       "    </tr>\n",
       "    <tr>\n",
       "      <th>Exc_Kurtosis</th>\n",
       "      <td>0.8909</td>\n",
       "      <td>Estatistica</td>\n",
       "      <td>[..]</td>\n",
       "      <td>Kurtosis</td>\n",
       "    </tr>\n",
       "    <tr>\n",
       "      <th>Std_Error_Mean</th>\n",
       "      <td>0.002748</td>\n",
       "      <td>Estatistica</td>\n",
       "      <td>[0..] Próximo a zero</td>\n",
       "      <td>Desvio padrão da média</td>\n",
       "    </tr>\n",
       "    <tr>\n",
       "      <th>Sharpe</th>\n",
       "      <td>-0.05718</td>\n",
       "      <td>Submission</td>\n",
       "      <td>[..]</td>\n",
       "      <td>...</td>\n",
       "    </tr>\n",
       "    <tr>\n",
       "      <th>Smart_Sharpe</th>\n",
       "      <td>-0.04465</td>\n",
       "      <td>Financeira</td>\n",
       "      <td>[..]</td>\n",
       "      <td>Sharpe * auto_corr_penalty</td>\n",
       "    </tr>\n",
       "    <tr>\n",
       "      <th>Numerai_Sharpe</th>\n",
       "      <td>-2.923</td>\n",
       "      <td>Financeira</td>\n",
       "      <td>[..]</td>\n",
       "      <td>...</td>\n",
       "    </tr>\n",
       "    <tr>\n",
       "      <th>Ann_Sharpe</th>\n",
       "      <td>-2.923</td>\n",
       "      <td>Financeira</td>\n",
       "      <td>[..]</td>\n",
       "      <td>...</td>\n",
       "    </tr>\n",
       "    <tr>\n",
       "      <th>Adj_Sharpe</th>\n",
       "      <td>-0.6911</td>\n",
       "      <td>Financeira</td>\n",
       "      <td>[..]</td>\n",
       "      <td>...</td>\n",
       "    </tr>\n",
       "    <tr>\n",
       "      <th>VaR_10</th>\n",
       "      <td>0.000365</td>\n",
       "      <td>Financeira</td>\n",
       "      <td>[..]</td>\n",
       "      <td>...</td>\n",
       "    </tr>\n",
       "    <tr>\n",
       "      <th>Sortino_Ratio</th>\n",
       "      <td>-0.6743</td>\n",
       "      <td>Financeira</td>\n",
       "      <td>[..]</td>\n",
       "      <td>Sortino ratio as an alternative to Sharpe for ...</td>\n",
       "    </tr>\n",
       "    <tr>\n",
       "      <th>Smart_Sortino_Ratio</th>\n",
       "      <td>-0.5389</td>\n",
       "      <td>Financeira</td>\n",
       "      <td>[..]</td>\n",
       "      <td>Sortino Ratio penalizado AR(1)</td>\n",
       "    </tr>\n",
       "    <tr>\n",
       "      <th>Payout</th>\n",
       "      <td>-0.0002078</td>\n",
       "      <td>Leaderboard</td>\n",
       "      <td>[3.6%..4.4%]</td>\n",
       "      <td>Retira as 20% piores e melhores eras corr</td>\n",
       "    </tr>\n",
       "    <tr>\n",
       "      <th>Feat_exp_mean (val)</th>\n",
       "      <td>0.0188</td>\n",
       "      <td>Estatistica</td>\n",
       "      <td>[7%..8%]</td>\n",
       "      <td>Média das features exposures (ver describe)</td>\n",
       "    </tr>\n",
       "    <tr>\n",
       "      <th>Feat_exp_max (val)</th>\n",
       "      <td>0.07992</td>\n",
       "      <td>Estatistica</td>\n",
       "      <td>[7%..15%]</td>\n",
       "      <td>feature com maior exp</td>\n",
       "    </tr>\n",
       "  </tbody>\n",
       "</table>\n",
       "</div>"
      ],
      "text/plain": [
       "                         Valor    Categoria  \\\n",
       "Metrica                                       \n",
       "Model_Name                  rf   Submission   \n",
       "Max_Drawdown           -0.0192   Financeira   \n",
       "Avg_corr            -0.0002078   Submission   \n",
       "Median_corr          -0.001808  Estatistica   \n",
       "Variance             0.0001585  Estatistica   \n",
       "Std_Dev                0.01259  Estatistica   \n",
       "AR(1)                  -0.2311  Estatistica   \n",
       "Skewness                0.9166  Estatistica   \n",
       "Exc_Kurtosis            0.8909  Estatistica   \n",
       "Std_Error_Mean        0.002748  Estatistica   \n",
       "Sharpe                -0.05718   Submission   \n",
       "Smart_Sharpe          -0.04465   Financeira   \n",
       "Numerai_Sharpe          -2.923   Financeira   \n",
       "Ann_Sharpe              -2.923   Financeira   \n",
       "Adj_Sharpe             -0.6911   Financeira   \n",
       "VaR_10                0.000365   Financeira   \n",
       "Sortino_Ratio          -0.6743   Financeira   \n",
       "Smart_Sortino_Ratio    -0.5389   Financeira   \n",
       "Payout              -0.0002078  Leaderboard   \n",
       "Feat_exp_mean (val)     0.0188  Estatistica   \n",
       "Feat_exp_max (val)     0.07992  Estatistica   \n",
       "\n",
       "                                            Range_Aceitavel  \\\n",
       "Metrica                                                       \n",
       "Model_Name                                               NA   \n",
       "Max_Drawdown                                       [0%..2%]   \n",
       "Avg_corr                     [3.6%..4.4%] 4.8%, overfitting   \n",
       "Median_corr          [3.6%..4.4%] Dentro do range de médias   \n",
       "Variance                               [0..] Próximo a zero   \n",
       "Std_Dev                                [0..] Próximo a zero   \n",
       "AR(1)                                  [0..] Próximo a zero   \n",
       "Skewness                                               [..]   \n",
       "Exc_Kurtosis                                           [..]   \n",
       "Std_Error_Mean                         [0..] Próximo a zero   \n",
       "Sharpe                                                 [..]   \n",
       "Smart_Sharpe                                           [..]   \n",
       "Numerai_Sharpe                                         [..]   \n",
       "Ann_Sharpe                                             [..]   \n",
       "Adj_Sharpe                                             [..]   \n",
       "VaR_10                                                 [..]   \n",
       "Sortino_Ratio                                          [..]   \n",
       "Smart_Sortino_Ratio                                    [..]   \n",
       "Payout                                        [3.6%..4.4%]    \n",
       "Feat_exp_mean (val)                                [7%..8%]   \n",
       "Feat_exp_max (val)                                [7%..15%]   \n",
       "\n",
       "                                                             Descricao  \n",
       "Metrica                                                                 \n",
       "Model_Name                                              Nome do Modelo  \n",
       "Max_Drawdown                                   Perda máxima em uma era  \n",
       "Avg_corr                                   Média spearman corr por era  \n",
       "Median_corr                              Mediana spearman corr por era  \n",
       "Variance                               Variancia spearman corr por era  \n",
       "Std_Dev                                      Std spearman corr por era  \n",
       "AR(1)                          AR(1) das era scores, X = a+ b * X_(-1)  \n",
       "Skewness                                                      Skewness  \n",
       "Exc_Kurtosis                                                  Kurtosis  \n",
       "Std_Error_Mean                                  Desvio padrão da média  \n",
       "Sharpe                                                             ...  \n",
       "Smart_Sharpe                                Sharpe * auto_corr_penalty  \n",
       "Numerai_Sharpe                                                     ...  \n",
       "Ann_Sharpe                                                         ...  \n",
       "Adj_Sharpe                                                         ...  \n",
       "VaR_10                                                             ...  \n",
       "Sortino_Ratio        Sortino ratio as an alternative to Sharpe for ...  \n",
       "Smart_Sortino_Ratio                     Sortino Ratio penalizado AR(1)  \n",
       "Payout                       Retira as 20% piores e melhores eras corr  \n",
       "Feat_exp_mean (val)        Média das features exposures (ver describe)  \n",
       "Feat_exp_max (val)                               feature com maior exp  "
      ]
     },
     "execution_count": 59,
     "metadata": {},
     "output_type": "execute_result"
    }
   ],
   "source": [
    "df_metrics"
   ]
  },
  {
   "cell_type": "markdown",
   "metadata": {},
   "source": [
    "##### Metricas regressao (melhorar para o SP)"
   ]
  },
  {
   "cell_type": "code",
   "execution_count": 17,
   "metadata": {},
   "outputs": [
    {
     "name": "stdout",
     "output_type": "stream",
     "text": [
      "Model performance on validation set:\n",
      "Training R^2: -0.10671030742008147\n",
      "Training MSE: 0.1381569653749466\n"
     ]
    }
   ],
   "source": [
    "model = list(filter(lambda x: x[1] == 'lr', results))[0][0]\n",
    "preds = model.model.predict(model.pipeline.transform(df_validation[features]))\n",
    "\n",
    "# Evaluate the model\n",
    "print('Model performance on validation set:')\n",
    "score = model.model.score(df_validation[features], df_validation[target])  #default deve ser o R2\n",
    "mse = mean_squared_error(df_validation[target], preds)\n",
    "print(f'Training R^2: {score}')\n",
    "print(f'Training MSE: {mse}')"
   ]
  },
  {
   "cell_type": "code",
   "execution_count": 18,
   "metadata": {},
   "outputs": [
    {
     "name": "stdout",
     "output_type": "stream",
     "text": [
      "Qtde. eras: 22\n",
      "performance over time\n"
     ]
    },
    {
     "data": {
      "image/png": "[encoded data removed]",
      "text/plain": [
       "<Figure size 432x288 with 1 Axes>"
      ]
     },
     "metadata": {
      "needs_background": "light"
     },
     "output_type": "display_data"
    }
   ],
   "source": [
    "era_scores, era_df, df_metrics = metrics.submission_metrics(df_validation, preds, model.name)"
   ]
  },
  {
   "cell_type": "markdown",
   "metadata": {},
   "source": [
    "##### Metricas Classificacao (OK)"
   ]
  },
  {
   "cell_type": "code",
   "execution_count": 19,
   "metadata": {},
   "outputs": [],
   "source": [
    "model = list(filter(lambda x: x[1] == 'rf', results))[0][0]\n",
    "preds = model.model.predict(model.pipeline.transform(df_validation[features]))\n",
    "#preds = minmax_scale(preds)"
   ]
  },
  {
   "cell_type": "code",
   "execution_count": 20,
   "metadata": {},
   "outputs": [
    {
     "name": "stdout",
     "output_type": "stream",
     "text": [
      "              precision    recall  f1-score   support\n",
      "\n",
      "           0       0.24      0.30      0.27     21352\n",
      "           1       0.22      0.23      0.22     21363\n",
      "           2       0.24      0.25      0.25     21474\n",
      "           3       0.21      0.19      0.20     21362\n",
      "           4       0.25      0.19      0.22     21344\n",
      "\n",
      "    accuracy                           0.23    106895\n",
      "   macro avg       0.23      0.23      0.23    106895\n",
      "weighted avg       0.23      0.23      0.23    106895\n",
      "\n"
     ]
    },
    {
     "data": {
      "image/png": "[encoded data removed]",
      "text/plain": [
       "<Figure size 432x288 with 2 Axes>"
      ]
     },
     "metadata": {
      "needs_background": "light"
     },
     "output_type": "display_data"
    }
   ],
   "source": [
    "evaluation.plot_confusion_matrix(lab_enc.fit_transform(df_validation[target]), preds)"
   ]
  },
  {
   "cell_type": "markdown",
   "metadata": {},
   "source": [
    "Rascunho"
   ]
  },
  {
   "cell_type": "code",
   "execution_count": 31,
   "metadata": {},
   "outputs": [],
   "source": [
    "import pandas as pd\n",
    "def feature_exposure(df, pred):\n",
    "    #df = df[df.data_type == 'validation']\n",
    "    feature_columns = [x for x in df.columns if x.startswith('feature_')]\n",
    "    correlations = []\n",
    "    for col in feature_columns:\n",
    "        correlations.append(np.corrcoef(pred, df[col])[0, 1])\n",
    "    corr_series = pd.Series(correlations, index=features)\n",
    "    return corr_series"
   ]
  },
  {
   "cell_type": "code",
   "execution_count": 32,
   "metadata": {},
   "outputs": [],
   "source": [
    "corrs = feature_exposure(df_validation, preds)"
   ]
  },
  {
   "cell_type": "code",
   "execution_count": 34,
   "metadata": {},
   "outputs": [],
   "source": [
    "val = {}\n",
    "\n",
    "val[\"f_exp\"] = corrs.describe()"
   ]
  },
  {
   "cell_type": "code",
   "execution_count": 41,
   "metadata": {},
   "outputs": [
    {
     "data": {
      "text/html": [
       "<div>\n",
       "<style scoped>\n",
       "    .dataframe tbody tr th:only-of-type {\n",
       "        vertical-align: middle;\n",
       "    }\n",
       "\n",
       "    .dataframe tbody tr th {\n",
       "        vertical-align: top;\n",
       "    }\n",
       "\n",
       "    .dataframe thead th {\n",
       "        text-align: right;\n",
       "    }\n",
       "</style>\n",
       "<table border=\"1\" class=\"dataframe\">\n",
       "  <thead>\n",
       "    <tr style=\"text-align: right;\">\n",
       "      <th></th>\n",
       "      <th>f_exp</th>\n",
       "    </tr>\n",
       "  </thead>\n",
       "  <tbody>\n",
       "    <tr>\n",
       "      <th>count</th>\n",
       "      <td>310.0000</td>\n",
       "    </tr>\n",
       "    <tr>\n",
       "      <th>mean</th>\n",
       "      <td>0.0188</td>\n",
       "    </tr>\n",
       "    <tr>\n",
       "      <th>std</th>\n",
       "      <td>0.0317</td>\n",
       "    </tr>\n",
       "    <tr>\n",
       "      <th>min</th>\n",
       "      <td>-0.0674</td>\n",
       "    </tr>\n",
       "    <tr>\n",
       "      <th>25%</th>\n",
       "      <td>-0.0018</td>\n",
       "    </tr>\n",
       "    <tr>\n",
       "      <th>50%</th>\n",
       "      <td>0.0250</td>\n",
       "    </tr>\n",
       "    <tr>\n",
       "      <th>75%</th>\n",
       "      <td>0.0422</td>\n",
       "    </tr>\n",
       "    <tr>\n",
       "      <th>max</th>\n",
       "      <td>0.0799</td>\n",
       "    </tr>\n",
       "  </tbody>\n",
       "</table>\n",
       "</div>"
      ],
      "text/plain": [
       "          f_exp\n",
       "count  310.0000\n",
       "mean     0.0188\n",
       "std      0.0317\n",
       "min     -0.0674\n",
       "25%     -0.0018\n",
       "50%      0.0250\n",
       "75%      0.0422\n",
       "max      0.0799"
      ]
     },
     "execution_count": 41,
     "metadata": {},
     "output_type": "execute_result"
    }
   ],
   "source": [
    "df_metrics = pd.DataFrame.from_dict(val)\n",
    "df_metrics\n",
    "\n",
    "\n"
   ]
  },
  {
   "cell_type": "code",
   "execution_count": null,
   "metadata": {},
   "outputs": [],
   "source": [
    "MODEL_FILE = Path(\"example_model.xgb\")\n",
    "\n",
    "if MODEL_FILE.is_file():\n",
    "    print(\"Loading pre-trained model...\")\n",
    "    model.load_model(MODEL_FILE)"
   ]
  },
  {
   "cell_type": "code",
   "execution_count": null,
   "metadata": {},
   "outputs": [],
   "source": [
    "%%time\n",
    "#from joblib import parallel_backend\n",
    "\n",
    "#with parallel_backend('threading', n_jobs=-1):\n",
    "    # Train the model\n",
    "    #model = RandomForestClassifier(n_estimators=10, n_jobs=-1)\n",
    "    #model.fit(df_training[features], encoded_target_train)\n",
    "    # Test the model\n",
    "    #y_pred = clf.predict(X_test)\n"
   ]
  }
 ],
 "metadata": {
  "kernelspec": {
   "display_name": "Python 3",
   "language": "python",
   "name": "python3"
  },
  "language_info": {
   "codemirror_mode": {
    "name": "ipython",
    "version": 3
   },
   "file_extension": ".py",
   "mimetype": "text/x-python",
   "name": "python",
   "nbconvert_exporter": "python",
   "pygments_lexer": "ipython3",
   "version": "3.8.3"
  }
 },
 "nbformat": 4,
 "nbformat_minor": 4
}
