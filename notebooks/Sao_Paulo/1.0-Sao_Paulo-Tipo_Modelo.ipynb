{
 "cells": [
  {
   "cell_type": "code",
   "execution_count": 1,
   "metadata": {},
   "outputs": [],
   "source": [
    "%load_ext autoreload\n",
    "%autoreload 2"
   ]
  },
  {
   "cell_type": "code",
   "execution_count": 2,
   "metadata": {},
   "outputs": [],
   "source": [
    "#basics\n",
    "import sys,os\n",
    "sys.path.insert(1, os.path.dirname(os.getcwd()))\n",
    "\n",
    "#utils\n",
    "import paths\n",
    "\n",
    "#main libraries\n",
    "import numpy as np\n",
    "import pandas as pd\n",
    "import matplotlib.pyplot as plt\n",
    "pd.set_option(\"display.precision\", 4)\n",
    "%matplotlib inline\n",
    "\n",
    "#model Libraries\n",
    "from sklearn import utils\n",
    "from sklearn import preprocessing\n",
    "\n",
    "from sklearn.model_selection import RandomizedSearchCV\n",
    "from sklearn.model_selection import GroupKFold\n",
    "\n",
    "from sklearn.ensemble import RandomForestClassifier\n",
    "from sklearn.ensemble import RandomForestRegressor\n",
    "\n",
    "from sklearn.metrics import make_scorer\n",
    "from sklearn.metrics import roc_auc_score\n",
    "from sklearn.metrics import mean_squared_error\n",
    "\n",
    "\n",
    "#skopt\n",
    "from skopt import BayesSearchCV\n",
    "from skopt.space import Real, Categorical, Integer\n",
    "from tune_sklearn import TuneSearchCV"
   ]
  },
  {
   "cell_type": "code",
   "execution_count": 3,
   "metadata": {},
   "outputs": [],
   "source": [
    "#private modules \n",
    "#data\n",
    "from src.data import make_dataset\n",
    "\n",
    "#utils\n",
    "from src.utils import memory_usage\n",
    "\n",
    "#models\n",
    "from src.models import train_model\n",
    "from src.models import evaluation\n",
    "\n",
    "#validation\n",
    "from src.validation import metrics\n",
    "from src.validation import metrics_description\n",
    "\n",
    "#sklearn\n",
    "from sklearn.model_selection import GroupKFold"
   ]
  },
  {
   "cell_type": "code",
   "execution_count": 27,
   "metadata": {},
   "outputs": [
    {
     "name": "stdout",
     "output_type": "stream",
     "text": [
      "low memory activated\n",
      "Memory usage after optimization is: 309.15 MB\n",
      "Decreased by 49.1%\n",
      "<class 'pandas.core.frame.DataFrame'>\n",
      "RangeIndex: 501808 entries, 0 to 501807\n",
      "Columns: 314 entries, id to target_kazutsugi\n",
      "dtypes: float16(311), int32(1), object(2)\n",
      "memory usage: 307.2+ MB\n",
      "None\n",
      "CPU times: user 55.9 s, sys: 1min 45s, total: 2min 41s\n",
      "Wall time: 5min\n"
     ]
    }
   ],
   "source": [
    "%%time\n",
    "df_training,features,target = make_dataset.get_data(nrows=None,\n",
    "                                                    low_memory=True, \n",
    "                                                    dataset=\"training\", \n",
    "                                                    feather=True) #false on AWS/colab"
   ]
  },
  {
   "cell_type": "code",
   "execution_count": 15,
   "metadata": {},
   "outputs": [
    {
     "name": "stdout",
     "output_type": "stream",
     "text": [
      "low memory activated\n",
      "Memory usage after optimization is: 65.86 MB\n",
      "Decreased by 49.1%\n",
      "<class 'pandas.core.frame.DataFrame'>\n",
      "RangeIndex: 106895 entries, 0 to 106894\n",
      "Columns: 314 entries, id to target_kazutsugi\n",
      "dtypes: float16(311), int32(1), object(2)\n",
      "memory usage: 65.4+ MB\n",
      "None\n",
      "CPU times: user 6.91 s, sys: 3.37 s, total: 10.3 s\n",
      "Wall time: 11.5 s\n"
     ]
    }
   ],
   "source": [
    "%%time\n",
    "df_validation,features,target = make_dataset.get_data(nrows=None,\n",
    "                                                    low_memory=True, \n",
    "                                                    dataset=\"validation\", \n",
    "                                                    feather=True)"
   ]
  },
  {
   "cell_type": "markdown",
   "metadata": {},
   "source": [
    "### 2a Parte: Pycaret Linear Models"
   ]
  },
  {
   "cell_type": "code",
   "execution_count": 20,
   "metadata": {},
   "outputs": [
    {
     "data": {
      "text/html": [
       "<div>\n",
       "<style scoped>\n",
       "    .dataframe tbody tr th:only-of-type {\n",
       "        vertical-align: middle;\n",
       "    }\n",
       "\n",
       "    .dataframe tbody tr th {\n",
       "        vertical-align: top;\n",
       "    }\n",
       "\n",
       "    .dataframe thead th {\n",
       "        text-align: right;\n",
       "    }\n",
       "</style>\n",
       "<table border=\"1\" class=\"dataframe\">\n",
       "  <thead>\n",
       "    <tr style=\"text-align: right;\">\n",
       "      <th></th>\n",
       "      <th>Model</th>\n",
       "      <th>MAE</th>\n",
       "      <th>MSE</th>\n",
       "      <th>RMSE</th>\n",
       "      <th>R2</th>\n",
       "      <th>RMSLE</th>\n",
       "      <th>MAPE</th>\n",
       "      <th>TT (Sec)</th>\n",
       "    </tr>\n",
       "  </thead>\n",
       "  <tbody>\n",
       "    <tr>\n",
       "      <th>0</th>\n",
       "      <td>Orthogonal Matching Pursuit</td>\n",
       "      <td>0.3012</td>\n",
       "      <td>0.1244</td>\n",
       "      <td>0.3527</td>\n",
       "      <td>0.0015</td>\n",
       "      <td>0.2461</td>\n",
       "      <td>0.4623</td>\n",
       "      <td>1.3055</td>\n",
       "    </tr>\n",
       "    <tr>\n",
       "      <th>1</th>\n",
       "      <td>Bayesian Ridge</td>\n",
       "      <td>0.3009</td>\n",
       "      <td>0.1244</td>\n",
       "      <td>0.3527</td>\n",
       "      <td>0.0019</td>\n",
       "      <td>0.2461</td>\n",
       "      <td>0.4616</td>\n",
       "      <td>37.0157</td>\n",
       "    </tr>\n",
       "    <tr>\n",
       "      <th>2</th>\n",
       "      <td>Ridge Regression</td>\n",
       "      <td>0.3017</td>\n",
       "      <td>0.1245</td>\n",
       "      <td>0.3528</td>\n",
       "      <td>0.0013</td>\n",
       "      <td>0.2461</td>\n",
       "      <td>0.4637</td>\n",
       "      <td>6.7043</td>\n",
       "    </tr>\n",
       "    <tr>\n",
       "      <th>3</th>\n",
       "      <td>Linear Regression</td>\n",
       "      <td>0.3017</td>\n",
       "      <td>0.1245</td>\n",
       "      <td>0.3528</td>\n",
       "      <td>0.0013</td>\n",
       "      <td>0.2461</td>\n",
       "      <td>0.4637</td>\n",
       "      <td>6.2805</td>\n",
       "    </tr>\n",
       "    <tr>\n",
       "      <th>4</th>\n",
       "      <td>Automatic Relevance Determination</td>\n",
       "      <td>0.3008</td>\n",
       "      <td>0.1245</td>\n",
       "      <td>0.3529</td>\n",
       "      <td>0.0009</td>\n",
       "      <td>0.2462</td>\n",
       "      <td>0.4607</td>\n",
       "      <td>14.4360</td>\n",
       "    </tr>\n",
       "    <tr>\n",
       "      <th>5</th>\n",
       "      <td>Lasso Regression</td>\n",
       "      <td>0.2991</td>\n",
       "      <td>0.1246</td>\n",
       "      <td>0.3530</td>\n",
       "      <td>0.0000</td>\n",
       "      <td>0.2463</td>\n",
       "      <td>0.4565</td>\n",
       "      <td>2.7285</td>\n",
       "    </tr>\n",
       "    <tr>\n",
       "      <th>6</th>\n",
       "      <td>Elastic Net</td>\n",
       "      <td>0.2991</td>\n",
       "      <td>0.1246</td>\n",
       "      <td>0.3530</td>\n",
       "      <td>0.0000</td>\n",
       "      <td>0.2463</td>\n",
       "      <td>0.4565</td>\n",
       "      <td>2.0007</td>\n",
       "    </tr>\n",
       "    <tr>\n",
       "      <th>7</th>\n",
       "      <td>Least Angle Regression</td>\n",
       "      <td>0.3022</td>\n",
       "      <td>0.1246</td>\n",
       "      <td>0.3530</td>\n",
       "      <td>-0.0002</td>\n",
       "      <td>0.2463</td>\n",
       "      <td>0.4649</td>\n",
       "      <td>1.4324</td>\n",
       "    </tr>\n",
       "    <tr>\n",
       "      <th>8</th>\n",
       "      <td>Lasso Least Angle Regression</td>\n",
       "      <td>0.2991</td>\n",
       "      <td>0.1246</td>\n",
       "      <td>0.3530</td>\n",
       "      <td>0.0000</td>\n",
       "      <td>0.2463</td>\n",
       "      <td>0.4565</td>\n",
       "      <td>1.4809</td>\n",
       "    </tr>\n",
       "  </tbody>\n",
       "</table>\n",
       "</div>"
      ],
      "text/plain": [
       "                               Model     MAE     MSE    RMSE      R2   RMSLE  \\\n",
       "0        Orthogonal Matching Pursuit  0.3012  0.1244  0.3527  0.0015  0.2461   \n",
       "1                     Bayesian Ridge  0.3009  0.1244  0.3527  0.0019  0.2461   \n",
       "2                   Ridge Regression  0.3017  0.1245  0.3528  0.0013  0.2461   \n",
       "3                  Linear Regression  0.3017  0.1245  0.3528  0.0013  0.2461   \n",
       "4  Automatic Relevance Determination  0.3008  0.1245  0.3529  0.0009  0.2462   \n",
       "5                   Lasso Regression  0.2991  0.1246  0.3530  0.0000  0.2463   \n",
       "6                        Elastic Net  0.2991  0.1246  0.3530  0.0000  0.2463   \n",
       "7             Least Angle Regression  0.3022  0.1246  0.3530 -0.0002  0.2463   \n",
       "8       Lasso Least Angle Regression  0.2991  0.1246  0.3530  0.0000  0.2463   \n",
       "\n",
       "     MAPE  TT (Sec)  \n",
       "0  0.4623    1.3055  \n",
       "1  0.4616   37.0157  \n",
       "2  0.4637    6.7043  \n",
       "3  0.4637    6.2805  \n",
       "4  0.4607   14.4360  \n",
       "5  0.4565    2.7285  \n",
       "6  0.4565    2.0007  \n",
       "7  0.4649    1.4324  \n",
       "8  0.4565    1.4809  "
      ]
     },
     "execution_count": 20,
     "metadata": {},
     "output_type": "execute_result"
    }
   ],
   "source": [
    "load_table = pd.read_excel(\"../../reports/pycaret_compare_results.xlsx\", index=True)\n",
    "load_table"
   ]
  },
  {
   "cell_type": "markdown",
   "metadata": {},
   "source": [
    "### 3a Treinamento modelos (ilustrativo)?"
   ]
  },
  {
   "cell_type": "code",
   "execution_count": 9,
   "metadata": {},
   "outputs": [],
   "source": [
    "#Group K-fold\n",
    "CV = GroupKFold(n_splits = 3)\n",
    "grp = list(CV.split(X = df_training[features], y = df_training[target],  groups = df_training.era.values))\n",
    "\n",
    "from sklearn.metrics import mean_squared_error\n",
    "scorer = make_scorer(mean_squared_error)\n",
    "\n",
    "results, res_cv = list(), dict()"
   ]
  },
  {
   "cell_type": "code",
   "execution_count": 10,
   "metadata": {},
   "outputs": [
    {
     "name": "stdout",
     "output_type": "stream",
     "text": [
      "==> Starting K-fold cross validation for xgb model, 5000 examples\n",
      "Fitting 3 folds for each of 3 candidates, totalling 9 fits\n"
     ]
    },
    {
     "name": "stderr",
     "output_type": "stream",
     "text": [
      "[Parallel(n_jobs=-1)]: Using backend LokyBackend with 4 concurrent workers.\n",
      "[Parallel(n_jobs=-1)]: Done   4 out of   9 | elapsed:    1.6s remaining:    2.0s\n",
      "[Parallel(n_jobs=-1)]: Done   6 out of   9 | elapsed:    2.5s remaining:    1.2s\n",
      "[Parallel(n_jobs=-1)]: Done   9 out of   9 | elapsed:    3.6s finished\n"
     ]
    },
    {
     "name": "stdout",
     "output_type": "stream",
     "text": [
      "==> Elapsed seconds: 4.972\n",
      "Best xgb model: XGBRegressor(colsample_bylevel=0.7, colsample_bytree=0.6, gamma=0.81,\n",
      "             learning_rate=0.3, max_depth=21, min_child_weight=5,\n",
      "             n_estimators=15, objective='reg:squarederror',\n",
      "             reg_alpha=0.21544346900318834, reg_lambda=0.12915496650148842,\n",
      "             scale_pos_weight=5000, subsample=0.6)\n",
      "Best xgb score (val): 0.190\n"
     ]
    }
   ],
   "source": [
    "from xgboost import XGBRegressor\n",
    "\n",
    "\n",
    "xgb_param_grid = {\n",
    "        'colsample_bylevel' : [0.1, 0.2, 0.3, 0.4, 0.5, 0.6, 0.7, 0.8, 1.0],\n",
    "        'colsample_bytree' :[0.6, 0.7, 0.8, 1.0],\n",
    "        'gamma' : list(np.linspace(0.05, 1, 6)),\n",
    "        'learning_rate' : [0.0001, 0.001, 0.01, 0.1, 0.2, 0.3],\n",
    "        'max_depth' : list(range(3, 30, 3)),\n",
    "        'min_child_weight' : list(range(1, 11, 2)),\n",
    "        'n_estimators' : list(range(5, 20, 5)),\n",
    "        'reg_alpha' : list(np.logspace(-1, 1, num=10)/10),\n",
    "        'reg_lambda' : list(np.logspace(-1, 1, num=10)/10),\n",
    "        'subsample' : [0.6, 0.7, 0.8, 1.0],\n",
    "        'scale_pos_weight' : [1, 10, 25, 50, 75, 99, 100, 1000, 3000,5000, 10000],\n",
    "        'objective': [\"reg:squarederror\"]\n",
    "}\n",
    "\n",
    "result = evaluation.evaluate_model(df_training[features], df_training[target],\n",
    "                                   XGBRegressor(), 'xgb',\n",
    "                                   xgb_param_grid, \n",
    "                                   scorer, n_iter=3, \n",
    "                                   cv_folds=grp, pipeline=None)\n",
    "\n",
    "results.append(result)\n",
    "res_cv[result[1]] = evaluation.get_cv_scores(result[0])"
   ]
  },
  {
   "cell_type": "code",
   "execution_count": null,
   "metadata": {},
   "outputs": [],
   "source": []
  },
  {
   "cell_type": "code",
   "execution_count": null,
   "metadata": {},
   "outputs": [],
   "source": []
  },
  {
   "cell_type": "code",
   "execution_count": null,
   "metadata": {},
   "outputs": [],
   "source": []
  },
  {
   "cell_type": "code",
   "execution_count": null,
   "metadata": {},
   "outputs": [],
   "source": []
  },
  {
   "cell_type": "code",
   "execution_count": 34,
   "metadata": {},
   "outputs": [
    {
     "name": "stdout",
     "output_type": "stream",
     "text": [
      "3.8.3\n"
     ]
    }
   ],
   "source": [
    "from platform import python_version\n",
    "\n",
    "print(python_version())"
   ]
  },
  {
   "cell_type": "code",
   "execution_count": 23,
   "metadata": {},
   "outputs": [
    {
     "data": {
      "text/html": [
       "<div>\n",
       "<style scoped>\n",
       "    .dataframe tbody tr th:only-of-type {\n",
       "        vertical-align: middle;\n",
       "    }\n",
       "\n",
       "    .dataframe tbody tr th {\n",
       "        vertical-align: top;\n",
       "    }\n",
       "\n",
       "    .dataframe thead th {\n",
       "        text-align: right;\n",
       "    }\n",
       "</style>\n",
       "<table border=\"1\" class=\"dataframe\">\n",
       "  <thead>\n",
       "    <tr style=\"text-align: right;\">\n",
       "      <th></th>\n",
       "      <th>outsample</th>\n",
       "      <th>insample</th>\n",
       "      <th>time_elapsed_GPU(s)</th>\n",
       "      <th>time_elapsed(s)</th>\n",
       "    </tr>\n",
       "  </thead>\n",
       "  <tbody>\n",
       "    <tr>\n",
       "      <th>LGBMRegressor</th>\n",
       "      <td>0.0447</td>\n",
       "      <td>0.2677</td>\n",
       "      <td>23.8324</td>\n",
       "      <td>62.3275</td>\n",
       "    </tr>\n",
       "    <tr>\n",
       "      <th>XGBRanker</th>\n",
       "      <td>0.0442</td>\n",
       "      <td>0.2021</td>\n",
       "      <td>67.5707</td>\n",
       "      <td>469.0444</td>\n",
       "    </tr>\n",
       "    <tr>\n",
       "      <th>XGBRegressor</th>\n",
       "      <td>0.0440</td>\n",
       "      <td>0.2667</td>\n",
       "      <td>37.2466</td>\n",
       "      <td>445.6100</td>\n",
       "    </tr>\n",
       "    <tr>\n",
       "      <th>LGBMClassifier</th>\n",
       "      <td>0.0305</td>\n",
       "      <td>0.2070</td>\n",
       "      <td>137.1966</td>\n",
       "      <td>301.8254</td>\n",
       "    </tr>\n",
       "    <tr>\n",
       "      <th>XGBClassifier</th>\n",
       "      <td>0.0302</td>\n",
       "      <td>0.1648</td>\n",
       "      <td>232.9470</td>\n",
       "      <td>2172.2911</td>\n",
       "    </tr>\n",
       "    <tr>\n",
       "      <th>CatBoostClassifier</th>\n",
       "      <td>0.0271</td>\n",
       "      <td>0.0959</td>\n",
       "      <td>19.0138</td>\n",
       "      <td>1193.6433</td>\n",
       "    </tr>\n",
       "    <tr>\n",
       "      <th>CatBoostRegressor</th>\n",
       "      <td>0.0267</td>\n",
       "      <td>0.0949</td>\n",
       "      <td>9.2403</td>\n",
       "      <td>209.8839</td>\n",
       "    </tr>\n",
       "    <tr>\n",
       "      <th>LGBMRanker</th>\n",
       "      <td>0.0150</td>\n",
       "      <td>0.0647</td>\n",
       "      <td>6092.7200</td>\n",
       "      <td>16133.8554</td>\n",
       "    </tr>\n",
       "  </tbody>\n",
       "</table>\n",
       "</div>"
      ],
      "text/plain": [
       "                    outsample  insample  time_elapsed_GPU(s)  time_elapsed(s)\n",
       "LGBMRegressor          0.0447    0.2677              23.8324          62.3275\n",
       "XGBRanker              0.0442    0.2021              67.5707         469.0444\n",
       "XGBRegressor           0.0440    0.2667              37.2466         445.6100\n",
       "LGBMClassifier         0.0305    0.2070             137.1966         301.8254\n",
       "XGBClassifier          0.0302    0.1648             232.9470        2172.2911\n",
       "CatBoostClassifier     0.0271    0.0959              19.0138        1193.6433\n",
       "CatBoostRegressor      0.0267    0.0949               9.2403         209.8839\n",
       "LGBMRanker             0.0150    0.0647            6092.7200       16133.8554"
      ]
     },
     "execution_count": 23,
     "metadata": {},
     "output_type": "execute_result"
    }
   ],
   "source": [
    "load_baseline = pd.read_csv(\"../../reports/results_baseline.csv\")\n",
    "load_baseline"
   ]
  },
  {
   "cell_type": "code",
   "execution_count": 24,
   "metadata": {},
   "outputs": [],
   "source": [
    "df_nomi = pd.read_csv(\"../../data/raw/numerai_datasets/numerai_training_validation_target_nomi.csv\")"
   ]
  },
  {
   "cell_type": "code",
   "execution_count": 32,
   "metadata": {},
   "outputs": [
    {
     "data": {
      "text/plain": [
       "array(['train', 'validation'], dtype=object)"
      ]
     },
     "execution_count": 32,
     "metadata": {},
     "output_type": "execute_result"
    }
   ],
   "source": [
    "df_nomi.data_type.unique()"
   ]
  },
  {
   "cell_type": "code",
   "execution_count": 2,
   "metadata": {},
   "outputs": [
    {
     "data": {
      "text/plain": [
       "'2.3.1'"
      ]
     },
     "execution_count": 2,
     "metadata": {},
     "output_type": "execute_result"
    }
   ],
   "source": [
    "import lightgbm as lgbm\n",
    "lgbm.__version__"
   ]
  },
  {
   "cell_type": "code",
   "execution_count": 1,
   "metadata": {},
   "outputs": [
    {
     "data": {
      "text/plain": [
       "'0.90'"
      ]
     },
     "execution_count": 1,
     "metadata": {},
     "output_type": "execute_result"
    }
   ],
   "source": [
    "import xgboost as xgb\n",
    "xgb.__version__"
   ]
  },
  {
   "cell_type": "code",
   "execution_count": 41,
   "metadata": {},
   "outputs": [],
   "source": []
  },
  {
   "cell_type": "markdown",
   "metadata": {},
   "source": [
    "### Parte 4 Avaliacao dos modelos Treinados e graficos"
   ]
  },
  {
   "cell_type": "code",
   "execution_count": 12,
   "metadata": {},
   "outputs": [
    {
     "data": {
      "text/plain": [
       "<src.models.train_model.TunedModel at 0x7ffde58c28e0>"
      ]
     },
     "execution_count": 12,
     "metadata": {},
     "output_type": "execute_result"
    }
   ],
   "source": [
    "model"
   ]
  },
  {
   "cell_type": "code",
   "execution_count": 16,
   "metadata": {},
   "outputs": [],
   "source": [
    "model = list(filter(lambda x: x[1] == 'xgb', results))[0][0]\n",
    "preds = model.model.predict(df_validation[features])"
   ]
  },
  {
   "cell_type": "code",
   "execution_count": 17,
   "metadata": {},
   "outputs": [
    {
     "name": "stdout",
     "output_type": "stream",
     "text": [
      "Qtde. eras: 22\n",
      "performance over time\n"
     ]
    },
    {
     "data": {
      "image/png": "[encoded data removed]",
      "text/plain": [
       "<Figure size 432x288 with 1 Axes>"
      ]
     },
     "metadata": {
      "needs_background": "light"
     },
     "output_type": "display_data"
    }
   ],
   "source": [
    "era_scores, era_df, df_metrics, feat_corrs = metrics.submission_metrics(df_validation, preds, model.name)"
   ]
  },
  {
   "cell_type": "code",
   "execution_count": 18,
   "metadata": {},
   "outputs": [
    {
     "data": {
      "text/plain": [
       "count    310.0000\n",
       "mean       0.0021\n",
       "std        0.0304\n",
       "min       -0.0745\n",
       "25%       -0.0185\n",
       "50%        0.0043\n",
       "75%        0.0205\n",
       "max        0.1547\n",
       "dtype: float64"
      ]
     },
     "execution_count": 18,
     "metadata": {},
     "output_type": "execute_result"
    }
   ],
   "source": [
    "feat_corrs.describe()"
   ]
  },
  {
   "cell_type": "code",
   "execution_count": 19,
   "metadata": {},
   "outputs": [
    {
     "data": {
      "text/html": [
       "<div>\n",
       "<style scoped>\n",
       "    .dataframe tbody tr th:only-of-type {\n",
       "        vertical-align: middle;\n",
       "    }\n",
       "\n",
       "    .dataframe tbody tr th {\n",
       "        vertical-align: top;\n",
       "    }\n",
       "\n",
       "    .dataframe thead th {\n",
       "        text-align: right;\n",
       "    }\n",
       "</style>\n",
       "<table border=\"1\" class=\"dataframe\">\n",
       "  <thead>\n",
       "    <tr style=\"text-align: right;\">\n",
       "      <th></th>\n",
       "      <th>Valor</th>\n",
       "      <th>Categoria</th>\n",
       "      <th>Range_Aceitavel</th>\n",
       "      <th>Descricao</th>\n",
       "    </tr>\n",
       "    <tr>\n",
       "      <th>Metrica</th>\n",
       "      <th></th>\n",
       "      <th></th>\n",
       "      <th></th>\n",
       "      <th></th>\n",
       "    </tr>\n",
       "  </thead>\n",
       "  <tbody>\n",
       "    <tr>\n",
       "      <th>Model_Name</th>\n",
       "      <td>xgb</td>\n",
       "      <td>Submission</td>\n",
       "      <td>NA</td>\n",
       "      <td>Nome do Modelo</td>\n",
       "    </tr>\n",
       "    <tr>\n",
       "      <th>Max_Drawdown</th>\n",
       "      <td>-0.02566</td>\n",
       "      <td>Financeira</td>\n",
       "      <td>[0%..2%]</td>\n",
       "      <td>Perda máxima em uma era</td>\n",
       "    </tr>\n",
       "    <tr>\n",
       "      <th>Validation_Corr</th>\n",
       "      <td>-0.001201</td>\n",
       "      <td>Submission</td>\n",
       "      <td>[3.6%..4.4%] 4.8%, overfitting</td>\n",
       "      <td>Média spearman corr por era</td>\n",
       "    </tr>\n",
       "    <tr>\n",
       "      <th>Median_corr</th>\n",
       "      <td>0.001019</td>\n",
       "      <td>Estatistica</td>\n",
       "      <td>[3.6%..4.4%] Dentro do range de médias</td>\n",
       "      <td>Mediana spearman corr por era</td>\n",
       "    </tr>\n",
       "    <tr>\n",
       "      <th>Variance</th>\n",
       "      <td>0.0002252</td>\n",
       "      <td>Estatistica</td>\n",
       "      <td>[0..] Próximo a zero</td>\n",
       "      <td>Variancia spearman corr por era</td>\n",
       "    </tr>\n",
       "    <tr>\n",
       "      <th>Std_Dev</th>\n",
       "      <td>0.01501</td>\n",
       "      <td>Estatistica</td>\n",
       "      <td>[0..] Próximo a zero</td>\n",
       "      <td>Std spearman corr por era</td>\n",
       "    </tr>\n",
       "    <tr>\n",
       "      <th>AR(1)</th>\n",
       "      <td>0.1366</td>\n",
       "      <td>Estatistica</td>\n",
       "      <td>[0..] Próximo a zero</td>\n",
       "      <td>AR(1) pearson corr eras[:-1] e eras[1:]</td>\n",
       "    </tr>\n",
       "    <tr>\n",
       "      <th>Skewness</th>\n",
       "      <td>0.427</td>\n",
       "      <td>Estatistica</td>\n",
       "      <td>[0..1]</td>\n",
       "      <td>Skewness, central moment **3</td>\n",
       "    </tr>\n",
       "    <tr>\n",
       "      <th>Exc_Kurtosis</th>\n",
       "      <td>0.06905</td>\n",
       "      <td>Estatistica</td>\n",
       "      <td>[-1..0]</td>\n",
       "      <td>Kurtosis central moment **4</td>\n",
       "    </tr>\n",
       "    <tr>\n",
       "      <th>Std_Error_Mean</th>\n",
       "      <td>0.003275</td>\n",
       "      <td>Estatistica</td>\n",
       "      <td>[0..] Menor que o std</td>\n",
       "      <td>std/sqrt(n) measures how far the sample mean o...</td>\n",
       "    </tr>\n",
       "    <tr>\n",
       "      <th>Validation_Sharpe</th>\n",
       "      <td>-0.2772</td>\n",
       "      <td>Submission</td>\n",
       "      <td>[5..25] Iniciantes entre 1 e 2, competidores 1...</td>\n",
       "      <td>Média da correlacoa por era / std corr por era...</td>\n",
       "    </tr>\n",
       "    <tr>\n",
       "      <th>Smart_Sharpe</th>\n",
       "      <td>-0.2376</td>\n",
       "      <td>Financeira</td>\n",
       "      <td>Pouco menor que o shape</td>\n",
       "      <td>Sharpe * auto_corr_penalty</td>\n",
       "    </tr>\n",
       "    <tr>\n",
       "      <th>Numerai_Sharpe</th>\n",
       "      <td>-2.62</td>\n",
       "      <td>Financeira</td>\n",
       "      <td>Pouco menor que o sharpe</td>\n",
       "      <td>sharpe menos transaction costs</td>\n",
       "    </tr>\n",
       "    <tr>\n",
       "      <th>Adj_Sharpe</th>\n",
       "      <td>-2.08</td>\n",
       "      <td>Financeira</td>\n",
       "      <td>Prox ao sharpe [5..25]</td>\n",
       "      <td>Adjusted Sharpe Ratio adjusts for skewness and...</td>\n",
       "    </tr>\n",
       "    <tr>\n",
       "      <th>VaR_10</th>\n",
       "      <td>0.00148</td>\n",
       "      <td>Financeira</td>\n",
       "      <td>[-0.1..0]</td>\n",
       "      <td>Identificar exposicao ao risco || fornece um i...</td>\n",
       "    </tr>\n",
       "    <tr>\n",
       "      <th>Sortino_Ratio</th>\n",
       "      <td>-0.6334</td>\n",
       "      <td>Financeira</td>\n",
       "      <td>Prox ao sharpe [5..25]</td>\n",
       "      <td>Sortino ratio as an alternative to Sharpe for ...</td>\n",
       "    </tr>\n",
       "    <tr>\n",
       "      <th>Smart_Sortino_Ratio</th>\n",
       "      <td>-0.5556</td>\n",
       "      <td>Financeira</td>\n",
       "      <td>Pouco abaixo do sortino</td>\n",
       "      <td>Sortino Ratio penalizado</td>\n",
       "    </tr>\n",
       "    <tr>\n",
       "      <th>Payout</th>\n",
       "      <td>-0.001201</td>\n",
       "      <td>Leaderboard</td>\n",
       "      <td>[3.6%..4.4%]</td>\n",
       "      <td>Retira as 25% piores e melhores eras corr</td>\n",
       "    </tr>\n",
       "    <tr>\n",
       "      <th>Feat_exp_std (val)</th>\n",
       "      <td>0.0303</td>\n",
       "      <td>Estatistica</td>\n",
       "      <td>[8%..x%]</td>\n",
       "      <td>Std das features exposures, example_preds 0.0765</td>\n",
       "    </tr>\n",
       "    <tr>\n",
       "      <th>Feat_exp_max (val)</th>\n",
       "      <td>0.1547</td>\n",
       "      <td>Estatistica</td>\n",
       "      <td>[0.10..0.20] com neutralizacao cai pra .15</td>\n",
       "      <td>feature com maior exp</td>\n",
       "    </tr>\n",
       "  </tbody>\n",
       "</table>\n",
       "</div>"
      ],
      "text/plain": [
       "                         Valor    Categoria  \\\n",
       "Metrica                                       \n",
       "Model_Name                 xgb   Submission   \n",
       "Max_Drawdown          -0.02566   Financeira   \n",
       "Validation_Corr      -0.001201   Submission   \n",
       "Median_corr           0.001019  Estatistica   \n",
       "Variance             0.0002252  Estatistica   \n",
       "Std_Dev                0.01501  Estatistica   \n",
       "AR(1)                   0.1366  Estatistica   \n",
       "Skewness                 0.427  Estatistica   \n",
       "Exc_Kurtosis           0.06905  Estatistica   \n",
       "Std_Error_Mean        0.003275  Estatistica   \n",
       "Validation_Sharpe      -0.2772   Submission   \n",
       "Smart_Sharpe           -0.2376   Financeira   \n",
       "Numerai_Sharpe           -2.62   Financeira   \n",
       "Adj_Sharpe               -2.08   Financeira   \n",
       "VaR_10                 0.00148   Financeira   \n",
       "Sortino_Ratio          -0.6334   Financeira   \n",
       "Smart_Sortino_Ratio    -0.5556   Financeira   \n",
       "Payout               -0.001201  Leaderboard   \n",
       "Feat_exp_std (val)      0.0303  Estatistica   \n",
       "Feat_exp_max (val)      0.1547  Estatistica   \n",
       "\n",
       "                                                       Range_Aceitavel  \\\n",
       "Metrica                                                                  \n",
       "Model_Name                                                          NA   \n",
       "Max_Drawdown                                                  [0%..2%]   \n",
       "Validation_Corr                         [3.6%..4.4%] 4.8%, overfitting   \n",
       "Median_corr                     [3.6%..4.4%] Dentro do range de médias   \n",
       "Variance                                          [0..] Próximo a zero   \n",
       "Std_Dev                                           [0..] Próximo a zero   \n",
       "AR(1)                                             [0..] Próximo a zero   \n",
       "Skewness                                                        [0..1]   \n",
       "Exc_Kurtosis                                                   [-1..0]   \n",
       "Std_Error_Mean                                   [0..] Menor que o std   \n",
       "Validation_Sharpe    [5..25] Iniciantes entre 1 e 2, competidores 1...   \n",
       "Smart_Sharpe                                   Pouco menor que o shape   \n",
       "Numerai_Sharpe                                Pouco menor que o sharpe   \n",
       "Adj_Sharpe                                      Prox ao sharpe [5..25]   \n",
       "VaR_10                                                       [-0.1..0]   \n",
       "Sortino_Ratio                                   Prox ao sharpe [5..25]   \n",
       "Smart_Sortino_Ratio                            Pouco abaixo do sortino   \n",
       "Payout                                                   [3.6%..4.4%]    \n",
       "Feat_exp_std (val)                                            [8%..x%]   \n",
       "Feat_exp_max (val)          [0.10..0.20] com neutralizacao cai pra .15   \n",
       "\n",
       "                                                             Descricao  \n",
       "Metrica                                                                 \n",
       "Model_Name                                              Nome do Modelo  \n",
       "Max_Drawdown                                   Perda máxima em uma era  \n",
       "Validation_Corr                            Média spearman corr por era  \n",
       "Median_corr                              Mediana spearman corr por era  \n",
       "Variance                               Variancia spearman corr por era  \n",
       "Std_Dev                                      Std spearman corr por era  \n",
       "AR(1)                          AR(1) pearson corr eras[:-1] e eras[1:]  \n",
       "Skewness                                  Skewness, central moment **3  \n",
       "Exc_Kurtosis                               Kurtosis central moment **4  \n",
       "Std_Error_Mean       std/sqrt(n) measures how far the sample mean o...  \n",
       "Validation_Sharpe    Média da correlacoa por era / std corr por era...  \n",
       "Smart_Sharpe                                Sharpe * auto_corr_penalty  \n",
       "Numerai_Sharpe                          sharpe menos transaction costs  \n",
       "Adj_Sharpe           Adjusted Sharpe Ratio adjusts for skewness and...  \n",
       "VaR_10               Identificar exposicao ao risco || fornece um i...  \n",
       "Sortino_Ratio        Sortino ratio as an alternative to Sharpe for ...  \n",
       "Smart_Sortino_Ratio                           Sortino Ratio penalizado  \n",
       "Payout                       Retira as 25% piores e melhores eras corr  \n",
       "Feat_exp_std (val)    Std das features exposures, example_preds 0.0765  \n",
       "Feat_exp_max (val)                               feature com maior exp  "
      ]
     },
     "execution_count": 19,
     "metadata": {},
     "output_type": "execute_result"
    }
   ],
   "source": [
    "df_metrics"
   ]
  },
  {
   "cell_type": "markdown",
   "metadata": {},
   "source": [
    "##### Metricas regressao (melhorar para o SP)"
   ]
  },
  {
   "cell_type": "code",
   "execution_count": 17,
   "metadata": {},
   "outputs": [
    {
     "name": "stdout",
     "output_type": "stream",
     "text": [
      "Model performance on validation set:\n",
      "Training R^2: -0.010808492754463828\n",
      "Training MSE: 0.12618499994277954\n"
     ]
    }
   ],
   "source": [
    "model = list(filter(lambda x: x[1] == 'lr', results))[0][0]\n",
    "preds = model.model.predict(model.pipeline.transform(df_validation[features]))\n",
    "\n",
    "# Evaluate the model\n",
    "print('Model performance on validation set:')\n",
    "score = model.model.score(df_validation[features], df_validation[target])  #default deve ser o R2\n",
    "mse = mean_squared_error(df_validation[target], preds)\n",
    "print(f'Training R^2: {score}')\n",
    "print(f'Training MSE: {mse}')"
   ]
  },
  {
   "cell_type": "code",
   "execution_count": 115,
   "metadata": {},
   "outputs": [
    {
     "name": "stdout",
     "output_type": "stream",
     "text": [
      "Qtde. eras: 22\n",
      "performance over time\n"
     ]
    },
    {
     "data": {
      "image/png": "[encoded data removed]",
      "text/plain": [
       "<Figure size 432x288 with 1 Axes>"
      ]
     },
     "metadata": {
      "needs_background": "light"
     },
     "output_type": "display_data"
    }
   ],
   "source": [
    "era_scores, era_df, df_metrics, feat_corrs = metrics.submission_metrics(df_validation, preds, model.name)"
   ]
  },
  {
   "cell_type": "code",
   "execution_count": 116,
   "metadata": {},
   "outputs": [
    {
     "data": {
      "text/html": [
       "<div>\n",
       "<style scoped>\n",
       "    .dataframe tbody tr th:only-of-type {\n",
       "        vertical-align: middle;\n",
       "    }\n",
       "\n",
       "    .dataframe tbody tr th {\n",
       "        vertical-align: top;\n",
       "    }\n",
       "\n",
       "    .dataframe thead th {\n",
       "        text-align: right;\n",
       "    }\n",
       "</style>\n",
       "<table border=\"1\" class=\"dataframe\">\n",
       "  <thead>\n",
       "    <tr style=\"text-align: right;\">\n",
       "      <th></th>\n",
       "      <th>Valor</th>\n",
       "      <th>Categoria</th>\n",
       "      <th>Range_Aceitavel</th>\n",
       "      <th>Descricao</th>\n",
       "    </tr>\n",
       "    <tr>\n",
       "      <th>Metrica</th>\n",
       "      <th></th>\n",
       "      <th></th>\n",
       "      <th></th>\n",
       "      <th></th>\n",
       "    </tr>\n",
       "  </thead>\n",
       "  <tbody>\n",
       "    <tr>\n",
       "      <th>Model_Name</th>\n",
       "      <td>rf</td>\n",
       "      <td>Submission</td>\n",
       "      <td>NA</td>\n",
       "      <td>Nome do Modelo</td>\n",
       "    </tr>\n",
       "    <tr>\n",
       "      <th>Max_Drawdown</th>\n",
       "      <td>-0.02401</td>\n",
       "      <td>Financeira</td>\n",
       "      <td>[0%..2%]</td>\n",
       "      <td>Perda máxima em uma era</td>\n",
       "    </tr>\n",
       "    <tr>\n",
       "      <th>Validation_Corr</th>\n",
       "      <td>0.001461</td>\n",
       "      <td>Submission</td>\n",
       "      <td>[3.6%..4.4%] 4.8%, overfitting</td>\n",
       "      <td>Média spearman corr por era</td>\n",
       "    </tr>\n",
       "    <tr>\n",
       "      <th>Median_corr</th>\n",
       "      <td>0.0001883</td>\n",
       "      <td>Estatistica</td>\n",
       "      <td>[3.6%..4.4%] Dentro do range de médias</td>\n",
       "      <td>Mediana spearman corr por era</td>\n",
       "    </tr>\n",
       "    <tr>\n",
       "      <th>Variance</th>\n",
       "      <td>0.0001974</td>\n",
       "      <td>Estatistica</td>\n",
       "      <td>[0..] Próximo a zero</td>\n",
       "      <td>Variancia spearman corr por era</td>\n",
       "    </tr>\n",
       "    <tr>\n",
       "      <th>Std_Dev</th>\n",
       "      <td>0.01405</td>\n",
       "      <td>Estatistica</td>\n",
       "      <td>[0..] Próximo a zero</td>\n",
       "      <td>Std spearman corr por era</td>\n",
       "    </tr>\n",
       "    <tr>\n",
       "      <th>AR(1)</th>\n",
       "      <td>-0.02083</td>\n",
       "      <td>Estatistica</td>\n",
       "      <td>[0..] Próximo a zero</td>\n",
       "      <td>AR(1) pearson corr eras[:-1] e eras[1:]</td>\n",
       "    </tr>\n",
       "    <tr>\n",
       "      <th>Skewness</th>\n",
       "      <td>0.6107</td>\n",
       "      <td>Estatistica</td>\n",
       "      <td>[0..1]</td>\n",
       "      <td>Skewness, central moment **3</td>\n",
       "    </tr>\n",
       "    <tr>\n",
       "      <th>Exc_Kurtosis</th>\n",
       "      <td>0.374</td>\n",
       "      <td>Estatistica</td>\n",
       "      <td>[-1..0]</td>\n",
       "      <td>Kurtosis central moment **4</td>\n",
       "    </tr>\n",
       "    <tr>\n",
       "      <th>Std_Error_Mean</th>\n",
       "      <td>0.003066</td>\n",
       "      <td>Estatistica</td>\n",
       "      <td>[0..] Menor que o std</td>\n",
       "      <td>std/sqrt(n) measures how far the sample mean o...</td>\n",
       "    </tr>\n",
       "    <tr>\n",
       "      <th>Validation_Sharpe</th>\n",
       "      <td>0.3602</td>\n",
       "      <td>Submission</td>\n",
       "      <td>[5..25] Iniciantes entre 1 e 2, competidores 1...</td>\n",
       "      <td>Média da correlacoa por era / std corr por era...</td>\n",
       "    </tr>\n",
       "    <tr>\n",
       "      <th>Smart_Sharpe</th>\n",
       "      <td>0.345</td>\n",
       "      <td>Financeira</td>\n",
       "      <td>Pouco menor que o shape</td>\n",
       "      <td>Sharpe * auto_corr_penalty</td>\n",
       "    </tr>\n",
       "    <tr>\n",
       "      <th>Numerai_Sharpe</th>\n",
       "      <td>-2.157</td>\n",
       "      <td>Financeira</td>\n",
       "      <td>Pouco menor que o sharpe</td>\n",
       "      <td>sharpe menos transaction costs</td>\n",
       "    </tr>\n",
       "    <tr>\n",
       "      <th>Adj_Sharpe</th>\n",
       "      <td>-1.527</td>\n",
       "      <td>Financeira</td>\n",
       "      <td>Prox ao sharpe</td>\n",
       "      <td>Adjusted Sharpe Ratio adjusts for skewness and...</td>\n",
       "    </tr>\n",
       "    <tr>\n",
       "      <th>VaR_10</th>\n",
       "      <td>-0.001258</td>\n",
       "      <td>Financeira</td>\n",
       "      <td>[-.1..0]</td>\n",
       "      <td>Identificar exposicao ao risco || fornece um i...</td>\n",
       "    </tr>\n",
       "    <tr>\n",
       "      <th>Sortino_Ratio</th>\n",
       "      <td>-0.58</td>\n",
       "      <td>Financeira</td>\n",
       "      <td>[..]</td>\n",
       "      <td>Sortino ratio as an alternative to Sharpe for ...</td>\n",
       "    </tr>\n",
       "    <tr>\n",
       "      <th>Smart_Sortino_Ratio</th>\n",
       "      <td>-0.5686</td>\n",
       "      <td>Financeira</td>\n",
       "      <td>Pouco abaixo do sortino</td>\n",
       "      <td>Sortino Ratio penalizado</td>\n",
       "    </tr>\n",
       "    <tr>\n",
       "      <th>Payout</th>\n",
       "      <td>0.001461</td>\n",
       "      <td>Leaderboard</td>\n",
       "      <td>[3.6%..4.4%]</td>\n",
       "      <td>Retira as 25% piores e melhores eras corr</td>\n",
       "    </tr>\n",
       "    <tr>\n",
       "      <th>Feat_exp_std (val)</th>\n",
       "      <td>0.0305</td>\n",
       "      <td>Estatistica</td>\n",
       "      <td>[8%..x%]</td>\n",
       "      <td>Std das features exposures, example_preds 0.0765</td>\n",
       "    </tr>\n",
       "    <tr>\n",
       "      <th>Feat_exp_max (val)</th>\n",
       "      <td>0.09354</td>\n",
       "      <td>Estatistica</td>\n",
       "      <td>[0.10..0.20] com neutralizacao cai pra .15</td>\n",
       "      <td>feature com maior exp</td>\n",
       "    </tr>\n",
       "  </tbody>\n",
       "</table>\n",
       "</div>"
      ],
      "text/plain": [
       "                         Valor    Categoria  \\\n",
       "Metrica                                       \n",
       "Model_Name                  rf   Submission   \n",
       "Max_Drawdown          -0.02401   Financeira   \n",
       "Validation_Corr       0.001461   Submission   \n",
       "Median_corr          0.0001883  Estatistica   \n",
       "Variance             0.0001974  Estatistica   \n",
       "Std_Dev                0.01405  Estatistica   \n",
       "AR(1)                 -0.02083  Estatistica   \n",
       "Skewness                0.6107  Estatistica   \n",
       "Exc_Kurtosis             0.374  Estatistica   \n",
       "Std_Error_Mean        0.003066  Estatistica   \n",
       "Validation_Sharpe       0.3602   Submission   \n",
       "Smart_Sharpe             0.345   Financeira   \n",
       "Numerai_Sharpe          -2.157   Financeira   \n",
       "Adj_Sharpe              -1.527   Financeira   \n",
       "VaR_10               -0.001258   Financeira   \n",
       "Sortino_Ratio            -0.58   Financeira   \n",
       "Smart_Sortino_Ratio    -0.5686   Financeira   \n",
       "Payout                0.001461  Leaderboard   \n",
       "Feat_exp_std (val)      0.0305  Estatistica   \n",
       "Feat_exp_max (val)     0.09354  Estatistica   \n",
       "\n",
       "                                                       Range_Aceitavel  \\\n",
       "Metrica                                                                  \n",
       "Model_Name                                                          NA   \n",
       "Max_Drawdown                                                  [0%..2%]   \n",
       "Validation_Corr                         [3.6%..4.4%] 4.8%, overfitting   \n",
       "Median_corr                     [3.6%..4.4%] Dentro do range de médias   \n",
       "Variance                                          [0..] Próximo a zero   \n",
       "Std_Dev                                           [0..] Próximo a zero   \n",
       "AR(1)                                             [0..] Próximo a zero   \n",
       "Skewness                                                        [0..1]   \n",
       "Exc_Kurtosis                                                   [-1..0]   \n",
       "Std_Error_Mean                                   [0..] Menor que o std   \n",
       "Validation_Sharpe    [5..25] Iniciantes entre 1 e 2, competidores 1...   \n",
       "Smart_Sharpe                                   Pouco menor que o shape   \n",
       "Numerai_Sharpe                                Pouco menor que o sharpe   \n",
       "Adj_Sharpe                                              Prox ao sharpe   \n",
       "VaR_10                                                        [-.1..0]   \n",
       "Sortino_Ratio                                                     [..]   \n",
       "Smart_Sortino_Ratio                            Pouco abaixo do sortino   \n",
       "Payout                                                   [3.6%..4.4%]    \n",
       "Feat_exp_std (val)                                            [8%..x%]   \n",
       "Feat_exp_max (val)          [0.10..0.20] com neutralizacao cai pra .15   \n",
       "\n",
       "                                                             Descricao  \n",
       "Metrica                                                                 \n",
       "Model_Name                                              Nome do Modelo  \n",
       "Max_Drawdown                                   Perda máxima em uma era  \n",
       "Validation_Corr                            Média spearman corr por era  \n",
       "Median_corr                              Mediana spearman corr por era  \n",
       "Variance                               Variancia spearman corr por era  \n",
       "Std_Dev                                      Std spearman corr por era  \n",
       "AR(1)                          AR(1) pearson corr eras[:-1] e eras[1:]  \n",
       "Skewness                                  Skewness, central moment **3  \n",
       "Exc_Kurtosis                               Kurtosis central moment **4  \n",
       "Std_Error_Mean       std/sqrt(n) measures how far the sample mean o...  \n",
       "Validation_Sharpe    Média da correlacoa por era / std corr por era...  \n",
       "Smart_Sharpe                                Sharpe * auto_corr_penalty  \n",
       "Numerai_Sharpe                          sharpe menos transaction costs  \n",
       "Adj_Sharpe           Adjusted Sharpe Ratio adjusts for skewness and...  \n",
       "VaR_10               Identificar exposicao ao risco || fornece um i...  \n",
       "Sortino_Ratio        Sortino ratio as an alternative to Sharpe for ...  \n",
       "Smart_Sortino_Ratio                           Sortino Ratio penalizado  \n",
       "Payout                       Retira as 25% piores e melhores eras corr  \n",
       "Feat_exp_std (val)    Std das features exposures, example_preds 0.0765  \n",
       "Feat_exp_max (val)                               feature com maior exp  "
      ]
     },
     "execution_count": 116,
     "metadata": {},
     "output_type": "execute_result"
    }
   ],
   "source": [
    "df_metrics"
   ]
  },
  {
   "cell_type": "markdown",
   "metadata": {},
   "source": [
    "### 5a Pate meta model"
   ]
  },
  {
   "cell_type": "code",
   "execution_count": null,
   "metadata": {},
   "outputs": [],
   "source": []
  },
  {
   "cell_type": "code",
   "execution_count": null,
   "metadata": {},
   "outputs": [],
   "source": []
  },
  {
   "cell_type": "code",
   "execution_count": null,
   "metadata": {},
   "outputs": [],
   "source": []
  },
  {
   "cell_type": "markdown",
   "metadata": {},
   "source": [
    "Rascunho"
   ]
  },
  {
   "cell_type": "markdown",
   "metadata": {},
   "source": [
    "### Local training"
   ]
  },
  {
   "cell_type": "code",
   "execution_count": 28,
   "metadata": {},
   "outputs": [
    {
     "name": "stdout",
     "output_type": "stream",
     "text": [
      "Available memory (%): 13.227272033691406\n"
     ]
    }
   ],
   "source": [
    "memory_usage.memory()"
   ]
  },
  {
   "cell_type": "code",
   "execution_count": 7,
   "metadata": {},
   "outputs": [],
   "source": [
    "results, res_cv = list(), dict()"
   ]
  },
  {
   "cell_type": "code",
   "execution_count": 6,
   "metadata": {},
   "outputs": [],
   "source": [
    "#Group K-fold\n",
    "CV = GroupKFold(n_splits = 3)\n",
    "grp = list(CV.split(X = df_training[features], y = df_training[target],  groups = df_training.era.values))"
   ]
  },
  {
   "cell_type": "code",
   "execution_count": null,
   "metadata": {},
   "outputs": [],
   "source": [
    "rf_param_grid =  {\n",
    "    'reg_rf__n_estimators' : [10],\n",
    "}\n",
    "\n",
    "\n",
    "scorer = make_scorer(mean_squared_error)\n",
    "\n",
    "result = evaluation.evaluate_model(df_training[features], df_training[target],\n",
    "                                   LinearRegression(), 'reg_rf',\n",
    "                                   lr_param_grid, \n",
    "                                   scorer, n_iter=1, \n",
    "                                   cv_folds=grp, pipeline=None)\n",
    "\n",
    "results.append(result)\n",
    "res_cv[result[1]] = evaluation.get_cv_scores(result[0])"
   ]
  },
  {
   "cell_type": "code",
   "execution_count": null,
   "metadata": {},
   "outputs": [],
   "source": [
    "result[0].results"
   ]
  },
  {
   "cell_type": "code",
   "execution_count": 10,
   "metadata": {},
   "outputs": [
    {
     "data": {
      "image/png": "[encoded data removed]",
      "text/plain": [
       "<Figure size 432x288 with 1 Axes>"
      ]
     },
     "metadata": {
      "needs_background": "light"
     },
     "output_type": "display_data"
    }
   ],
   "source": [
    "_ = plt.boxplot(res_cv.values(), labels=res_cv.keys(), showmeans=True)"
   ]
  },
  {
   "cell_type": "code",
   "execution_count": 11,
   "metadata": {},
   "outputs": [],
   "source": [
    "#salvando o pipeline completo\n",
    "file_path = '../../models/sao_paulo-pipeline.pkl'\n",
    "\n",
    "model = list(filter(lambda x: x[1] == 'rf', results))[0][0]\n",
    "model.save(file_path)"
   ]
  },
  {
   "cell_type": "code",
   "execution_count": 12,
   "metadata": {},
   "outputs": [
    {
     "data": {
      "text/plain": [
       "['../../models/sao_paulo-baseline.pkl']"
      ]
     },
     "execution_count": 12,
     "metadata": {},
     "output_type": "execute_result"
    }
   ],
   "source": [
    "#salvando apenas o modelo\n",
    "from joblib import dump, load\n",
    "dump(model.model, '../../models/sao_paulo-baseline.pkl')"
   ]
  },
  {
   "cell_type": "code",
   "execution_count": 13,
   "metadata": {},
   "outputs": [],
   "source": [
    "#carregando o modelo\n",
    "model_loaded = load(file_path)"
   ]
  },
  {
   "cell_type": "code",
   "execution_count": null,
   "metadata": {},
   "outputs": [],
   "source": []
  },
  {
   "cell_type": "code",
   "execution_count": null,
   "metadata": {},
   "outputs": [],
   "source": []
  },
  {
   "cell_type": "code",
   "execution_count": null,
   "metadata": {},
   "outputs": [],
   "source": []
  },
  {
   "cell_type": "code",
   "execution_count": 35,
   "metadata": {},
   "outputs": [
    {
     "name": "stdout",
     "output_type": "stream",
     "text": [
      ">cores=1: 22.561 seconds\n",
      ">cores=2: 13.700 seconds\n",
      ">cores=3: 9.732 seconds\n",
      ">cores=4: 9.550 seconds\n",
      ">cores=5: 8.731 seconds\n",
      ">cores=6: 8.896 seconds\n",
      ">cores=7: 9.042 seconds\n",
      ">cores=8: 9.022 seconds\n"
     ]
    },
    {
     "data": {
      "image/png": "[encoded data removed]",
      "text/plain": [
       "<Figure size 432x288 with 1 Axes>"
      ]
     },
     "metadata": {
      "needs_background": "light"
     },
     "output_type": "display_data"
    }
   ],
   "source": [
    "# example of comparing number of cores used during training to execution speed\n",
    "from time import time\n",
    "from sklearn.datasets import make_classification\n",
    "from sklearn.ensemble import RandomForestClassifier\n",
    "from matplotlib import pyplot\n",
    "# define dataset\n",
    "X, y = make_classification(n_samples=10000, n_features=20, n_informative=15, n_redundant=5, random_state=3)\n",
    "results = list()\n",
    "# compare timing for number of cores\n",
    "n_cores = [1, 2, 3, 4, 5, 6, 7, 8]\n",
    "for n in n_cores:\n",
    "\t# capture current time\n",
    "\tstart = time()\n",
    "\t# define the model\n",
    "\tmodel = RandomForestClassifier(n_estimators=500, n_jobs=n)\n",
    "\t# fit the model\n",
    "\tmodel.fit(X, y)\n",
    "\t# capture current time\n",
    "\tend = time()\n",
    "\t# store execution time\n",
    "\tresult = end - start\n",
    "\tprint('>cores=%d: %.3f seconds' % (n, result))\n",
    "\tresults.append(result)\n",
    "pyplot.plot(n_cores, results)\n",
    "pyplot.show()"
   ]
  },
  {
   "cell_type": "code",
   "execution_count": null,
   "metadata": {},
   "outputs": [],
   "source": []
  }
 ],
 "metadata": {
  "kernelspec": {
   "display_name": "Python 3",
   "language": "python",
   "name": "python3"
  },
  "language_info": {
   "codemirror_mode": {
    "name": "ipython",
    "version": 3
   },
   "file_extension": ".py",
   "mimetype": "text/x-python",
   "name": "python",
   "nbconvert_exporter": "python",
   "pygments_lexer": "ipython3",
   "version": "3.8.3"
  }
 },
 "nbformat": 4,
 "nbformat_minor": 4
}
