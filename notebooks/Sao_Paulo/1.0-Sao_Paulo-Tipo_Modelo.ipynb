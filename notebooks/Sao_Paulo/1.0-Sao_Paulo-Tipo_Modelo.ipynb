{
 "cells": [
  {
   "cell_type": "code",
   "execution_count": 1,
   "metadata": {},
   "outputs": [],
   "source": [
    "%load_ext autoreload\n",
    "%autoreload 2"
   ]
  },
  {
   "cell_type": "code",
   "execution_count": 2,
   "metadata": {},
   "outputs": [],
   "source": [
    "#basics\n",
    "import sys,os\n",
    "sys.path.insert(1, os.path.dirname(os.getcwd()))\n",
    "\n",
    "#utils\n",
    "import paths\n",
    "\n",
    "#main libraries\n",
    "import numpy as np\n",
    "import pandas as pd\n",
    "import matplotlib.pyplot as plt\n",
    "pd.set_option(\"display.precision\", 4)\n",
    "%matplotlib inline\n",
    "\n",
    "#model Libraries\n",
    "from sklearn import utils\n",
    "from sklearn import preprocessing\n",
    "\n",
    "from sklearn.model_selection import RandomizedSearchCV\n",
    "from sklearn.model_selection import GroupKFold\n",
    "\n",
    "from sklearn.ensemble import RandomForestClassifier\n",
    "from sklearn.ensemble import RandomForestRegressor\n",
    "\n",
    "from sklearn.metrics import make_scorer\n",
    "from sklearn.metrics import roc_auc_score\n",
    "from sklearn.metrics import mean_squared_error\n",
    "\n",
    "\n",
    "#skopt\n",
    "from skopt import BayesSearchCV\n",
    "from skopt.space import Real, Categorical, Integer\n",
    "from tune_sklearn import TuneSearchCV"
   ]
  },
  {
   "cell_type": "code",
   "execution_count": 359,
   "metadata": {},
   "outputs": [],
   "source": [
    "#private modules \n",
    "#data\n",
    "from src.data import make_dataset\n",
    "\n",
    "#utils\n",
    "from src.utils import memory_usage\n",
    "\n",
    "#models\n",
    "from src.models import train_model\n",
    "from src.models import evaluation\n",
    "\n",
    "#validation\n",
    "from src.validation import group_ts_split\n",
    "from src.validation import metrics\n",
    "from src.validation import metrics_description\n",
    "\n",
    "#visualization\n",
    "from src.visualization import visualize\n",
    "\n",
    "\n",
    "#sklearn\n",
    "from sklearn.model_selection import GroupKFold"
   ]
  },
  {
   "cell_type": "code",
   "execution_count": 214,
   "metadata": {},
   "outputs": [
    {
     "name": "stdout",
     "output_type": "stream",
     "text": [
      "low memory activated\n",
      "Memory usage after optimization is: 309.15 MB\n",
      "Decreased by 49.1%\n",
      "<class 'pandas.core.frame.DataFrame'>\n",
      "RangeIndex: 501808 entries, 0 to 501807\n",
      "Columns: 314 entries, id to target_kazutsugi\n",
      "dtypes: float16(311), int32(1), object(2)\n",
      "memory usage: 307.2+ MB\n",
      "None\n",
      "CPU times: user 51.3 s, sys: 1min 10s, total: 2min 2s\n",
      "Wall time: 3min 22s\n"
     ]
    }
   ],
   "source": [
    "%%time\n",
    "df_training,features,target = make_dataset.get_data(nrows=None,\n",
    "                                                    low_memory=True, \n",
    "                                                    dataset=\"training\", \n",
    "                                                    feather=True) #false on AWS/colab"
   ]
  },
  {
   "cell_type": "code",
   "execution_count": 259,
   "metadata": {},
   "outputs": [
    {
     "name": "stdout",
     "output_type": "stream",
     "text": [
      "<class 'pandas.core.frame.DataFrame'>\n",
      "RangeIndex: 106895 entries, 0 to 106894\n",
      "Columns: 314 entries, id to target_kazutsugi\n",
      "dtypes: float32(311), int32(1), object(2)\n",
      "memory usage: 128.9+ MB\n",
      "None\n",
      "CPU times: user 429 ms, sys: 298 ms, total: 727 ms\n",
      "Wall time: 1.36 s\n"
     ]
    }
   ],
   "source": [
    "%%time\n",
    "df_validation,features,target = make_dataset.get_data(nrows=None,\n",
    "                                                    low_memory=False, \n",
    "                                                    dataset=\"validation\", \n",
    "                                                    feather=True)"
   ]
  },
  {
   "cell_type": "markdown",
   "metadata": {},
   "source": [
    "### 2a Parte: Pycaret Linear Models"
   ]
  },
  {
   "cell_type": "code",
   "execution_count": 6,
   "metadata": {},
   "outputs": [
    {
     "data": {
      "text/html": [
       "<div>\n",
       "<style scoped>\n",
       "    .dataframe tbody tr th:only-of-type {\n",
       "        vertical-align: middle;\n",
       "    }\n",
       "\n",
       "    .dataframe tbody tr th {\n",
       "        vertical-align: top;\n",
       "    }\n",
       "\n",
       "    .dataframe thead th {\n",
       "        text-align: right;\n",
       "    }\n",
       "</style>\n",
       "<table border=\"1\" class=\"dataframe\">\n",
       "  <thead>\n",
       "    <tr style=\"text-align: right;\">\n",
       "      <th></th>\n",
       "      <th>Model</th>\n",
       "      <th>MAE</th>\n",
       "      <th>MSE</th>\n",
       "      <th>RMSE</th>\n",
       "      <th>R2</th>\n",
       "      <th>RMSLE</th>\n",
       "      <th>MAPE</th>\n",
       "      <th>TT (Sec)</th>\n",
       "    </tr>\n",
       "  </thead>\n",
       "  <tbody>\n",
       "    <tr>\n",
       "      <th>0</th>\n",
       "      <td>Orthogonal Matching Pursuit</td>\n",
       "      <td>0.3012</td>\n",
       "      <td>0.1244</td>\n",
       "      <td>0.3527</td>\n",
       "      <td>0.0015</td>\n",
       "      <td>0.2461</td>\n",
       "      <td>0.4623</td>\n",
       "      <td>1.3055</td>\n",
       "    </tr>\n",
       "    <tr>\n",
       "      <th>1</th>\n",
       "      <td>Bayesian Ridge</td>\n",
       "      <td>0.3009</td>\n",
       "      <td>0.1244</td>\n",
       "      <td>0.3527</td>\n",
       "      <td>0.0019</td>\n",
       "      <td>0.2461</td>\n",
       "      <td>0.4616</td>\n",
       "      <td>37.0157</td>\n",
       "    </tr>\n",
       "    <tr>\n",
       "      <th>2</th>\n",
       "      <td>Ridge Regression</td>\n",
       "      <td>0.3017</td>\n",
       "      <td>0.1245</td>\n",
       "      <td>0.3528</td>\n",
       "      <td>0.0013</td>\n",
       "      <td>0.2461</td>\n",
       "      <td>0.4637</td>\n",
       "      <td>6.7043</td>\n",
       "    </tr>\n",
       "    <tr>\n",
       "      <th>3</th>\n",
       "      <td>Linear Regression</td>\n",
       "      <td>0.3017</td>\n",
       "      <td>0.1245</td>\n",
       "      <td>0.3528</td>\n",
       "      <td>0.0013</td>\n",
       "      <td>0.2461</td>\n",
       "      <td>0.4637</td>\n",
       "      <td>6.2805</td>\n",
       "    </tr>\n",
       "    <tr>\n",
       "      <th>4</th>\n",
       "      <td>Automatic Relevance Determination</td>\n",
       "      <td>0.3008</td>\n",
       "      <td>0.1245</td>\n",
       "      <td>0.3529</td>\n",
       "      <td>0.0009</td>\n",
       "      <td>0.2462</td>\n",
       "      <td>0.4607</td>\n",
       "      <td>14.4360</td>\n",
       "    </tr>\n",
       "    <tr>\n",
       "      <th>5</th>\n",
       "      <td>Lasso Regression</td>\n",
       "      <td>0.2991</td>\n",
       "      <td>0.1246</td>\n",
       "      <td>0.3530</td>\n",
       "      <td>0.0000</td>\n",
       "      <td>0.2463</td>\n",
       "      <td>0.4565</td>\n",
       "      <td>2.7285</td>\n",
       "    </tr>\n",
       "    <tr>\n",
       "      <th>6</th>\n",
       "      <td>Elastic Net</td>\n",
       "      <td>0.2991</td>\n",
       "      <td>0.1246</td>\n",
       "      <td>0.3530</td>\n",
       "      <td>0.0000</td>\n",
       "      <td>0.2463</td>\n",
       "      <td>0.4565</td>\n",
       "      <td>2.0007</td>\n",
       "    </tr>\n",
       "    <tr>\n",
       "      <th>7</th>\n",
       "      <td>Least Angle Regression</td>\n",
       "      <td>0.3022</td>\n",
       "      <td>0.1246</td>\n",
       "      <td>0.3530</td>\n",
       "      <td>-0.0002</td>\n",
       "      <td>0.2463</td>\n",
       "      <td>0.4649</td>\n",
       "      <td>1.4324</td>\n",
       "    </tr>\n",
       "    <tr>\n",
       "      <th>8</th>\n",
       "      <td>Lasso Least Angle Regression</td>\n",
       "      <td>0.2991</td>\n",
       "      <td>0.1246</td>\n",
       "      <td>0.3530</td>\n",
       "      <td>0.0000</td>\n",
       "      <td>0.2463</td>\n",
       "      <td>0.4565</td>\n",
       "      <td>1.4809</td>\n",
       "    </tr>\n",
       "  </tbody>\n",
       "</table>\n",
       "</div>"
      ],
      "text/plain": [
       "                               Model     MAE     MSE    RMSE      R2   RMSLE  \\\n",
       "0        Orthogonal Matching Pursuit  0.3012  0.1244  0.3527  0.0015  0.2461   \n",
       "1                     Bayesian Ridge  0.3009  0.1244  0.3527  0.0019  0.2461   \n",
       "2                   Ridge Regression  0.3017  0.1245  0.3528  0.0013  0.2461   \n",
       "3                  Linear Regression  0.3017  0.1245  0.3528  0.0013  0.2461   \n",
       "4  Automatic Relevance Determination  0.3008  0.1245  0.3529  0.0009  0.2462   \n",
       "5                   Lasso Regression  0.2991  0.1246  0.3530  0.0000  0.2463   \n",
       "6                        Elastic Net  0.2991  0.1246  0.3530  0.0000  0.2463   \n",
       "7             Least Angle Regression  0.3022  0.1246  0.3530 -0.0002  0.2463   \n",
       "8       Lasso Least Angle Regression  0.2991  0.1246  0.3530  0.0000  0.2463   \n",
       "\n",
       "     MAPE  TT (Sec)  \n",
       "0  0.4623    1.3055  \n",
       "1  0.4616   37.0157  \n",
       "2  0.4637    6.7043  \n",
       "3  0.4637    6.2805  \n",
       "4  0.4607   14.4360  \n",
       "5  0.4565    2.7285  \n",
       "6  0.4565    2.0007  \n",
       "7  0.4649    1.4324  \n",
       "8  0.4565    1.4809  "
      ]
     },
     "execution_count": 6,
     "metadata": {},
     "output_type": "execute_result"
    }
   ],
   "source": [
    "load_table = pd.read_excel(\"../../reports/pycaret_compare_results.xlsx\", index=True)\n",
    "load_table"
   ]
  },
  {
   "cell_type": "markdown",
   "metadata": {},
   "source": [
    "### 3a Treinamento modelos\n",
    "\n",
    "Vamos treinar os modelos\n",
    "- LinearRegression\n",
    "- Ridge\n",
    "- Orthogonal Matching Pursuit\n",
    "- Xgbost\n",
    "- LightGBM\n",
    "- Xgboost Ranker\n",
    "- Xgboost Adj_Sharpe\n"
   ]
  },
  {
   "cell_type": "code",
   "execution_count": 7,
   "metadata": {},
   "outputs": [
    {
     "name": "stdout",
     "output_type": "stream",
     "text": [
      "xgb version: 1.2.0\n",
      "lgbm version: 2.3.1\n"
     ]
    }
   ],
   "source": [
    "#checando versoes para evitar conflitos\n",
    "import xgboost as xgb\n",
    "print(\"xgb version:\", xgb.__version__)\n",
    "\n",
    "import lightgbm as lgbm\n",
    "print(\"lgbm version:\", lgbm.__version__)"
   ]
  },
  {
   "cell_type": "markdown",
   "metadata": {},
   "source": [
    "#### Validacao"
   ]
  },
  {
   "cell_type": "code",
   "execution_count": 8,
   "metadata": {},
   "outputs": [],
   "source": [
    "#Group K-fold\n",
    "CV = GroupKFold(n_splits = 3)\n",
    "grp = list(CV.split(X = df_training[features], y = df_training[target],  groups = df_training.era.values))"
   ]
  },
  {
   "cell_type": "markdown",
   "metadata": {},
   "source": [
    "#### Metrica"
   ]
  },
  {
   "cell_type": "code",
   "execution_count": 9,
   "metadata": {},
   "outputs": [],
   "source": [
    "def spearmanr(target, pred):\n",
    "    from scipy import stats\n",
    "    return stats.spearmanr(target, pred)[0]\n",
    "\n",
    "\n",
    "scorer = make_scorer(spearmanr)"
   ]
  },
  {
   "cell_type": "markdown",
   "metadata": {},
   "source": [
    "#### resultados"
   ]
  },
  {
   "cell_type": "code",
   "execution_count": 60,
   "metadata": {},
   "outputs": [],
   "source": [
    "results, res_cv = list(), dict()"
   ]
  },
  {
   "cell_type": "markdown",
   "metadata": {},
   "source": [
    "#### Linear regression"
   ]
  },
  {
   "cell_type": "code",
   "execution_count": null,
   "metadata": {},
   "outputs": [
    {
     "name": "stdout",
     "output_type": "stream",
     "text": [
      "==> Starting K-fold cross validation for lr model, 501808 examples\n",
      "Fitting 3 folds for each of 1 candidates, totalling 3 fits\n"
     ]
    },
    {
     "name": "stderr",
     "output_type": "stream",
     "text": [
      "[Parallel(n_jobs=-1)]: Using backend LokyBackend with 4 concurrent workers.\n"
     ]
    }
   ],
   "source": [
    "from sklearn.linear_model import LinearRegression\n",
    "\n",
    "lr_param_grid =  {\n",
    "    'fit_intercept' : [False],#[True, False],\n",
    "    'normalize' : [True],#[True, False],\n",
    "\n",
    "}\n",
    "\n",
    "\n",
    "result = evaluation.evaluate_model(df_training[features], df_training[target],\n",
    "                                   LinearRegression(), 'lr',\n",
    "                                   lr_param_grid, \n",
    "                                   scorer, \n",
    "                                   n_iter=1, \n",
    "                                   cv_folds=group_ts_split.TimeSeriesSplitGroups(3, df_training.era),\n",
    "                                   pipeline=None)\n",
    "\n",
    "results.append(result)\n",
    "res_cv[result[1]] = evaluation.get_cv_scores(result[0])"
   ]
  },
  {
   "cell_type": "markdown",
   "metadata": {},
   "source": [
    "#### Ridge"
   ]
  },
  {
   "cell_type": "code",
   "execution_count": 27,
   "metadata": {},
   "outputs": [
    {
     "name": "stdout",
     "output_type": "stream",
     "text": [
      "==> Starting K-fold cross validation for ridge model, 501808 examples\n",
      "Fitting 3 folds for each of 1 candidates, totalling 3 fits\n"
     ]
    },
    {
     "name": "stderr",
     "output_type": "stream",
     "text": [
      "[Parallel(n_jobs=-1)]: Using backend LokyBackend with 4 concurrent workers.\n",
      "[Parallel(n_jobs=-1)]: Done   3 out of   3 | elapsed:  2.4min finished\n"
     ]
    },
    {
     "name": "stdout",
     "output_type": "stream",
     "text": [
      "==> Elapsed seconds: 163.454\n",
      "Best ridge model: Ridge(alpha=1.5)\n",
      "Best ridge score (val): 0.037\n"
     ]
    }
   ],
   "source": [
    "from sklearn.linear_model import Ridge\n",
    "\n",
    "ridge_param_grid =  {\n",
    "    'fit_intercept' : [True, False],\n",
    "    'normalize' : [True, False],\n",
    "    'alpha' : [1.5]#Real(10**-1, 10**1, \"log-uniform\") #[1.5]\n",
    "\n",
    "}\n",
    "\n",
    "result = evaluation.evaluate_model_skopt(df_training[features], df_training[target],\n",
    "                                   Ridge(), 'ridge',\n",
    "                                   ridge_param_grid, \n",
    "                                   scorer, n_iter=1, \n",
    "                                   cv_folds=grp, pipeline=None)\n",
    "\n",
    "results.append(result)\n",
    "res_cv[result[1]] = evaluation.get_cv_scores(result[0])"
   ]
  },
  {
   "cell_type": "markdown",
   "metadata": {},
   "source": [
    "#### OMP"
   ]
  },
  {
   "cell_type": "code",
   "execution_count": null,
   "metadata": {},
   "outputs": [],
   "source": [
    "from sklearn.linear_model import OrthogonalMatchingPursuit\n",
    "\n",
    "omp_param_grid =  {\n",
    "    'n_nonzero_coefs' :[105] #Integer(1, len(features), 'uniform')\n",
    "\n",
    "}\n",
    "\n",
    "\n",
    "result = evaluation.evaluate_model_skopt(df_training[features], df_training[target],\n",
    "                                   OrthogonalMatchingPursuit(), 'omp',\n",
    "                                   omp_param_grid, \n",
    "                                   scorer, \n",
    "                                   n_iter=1, \n",
    "                                   cv_folds=grp, \n",
    "                                   pipeline=None)\n",
    "\n",
    "results.append(result)\n",
    "res_cv[result[1]] = evaluation.get_cv_scores(result[0])"
   ]
  },
  {
   "cell_type": "markdown",
   "metadata": {},
   "source": [
    "#### Xgboost"
   ]
  },
  {
   "cell_type": "code",
   "execution_count": 26,
   "metadata": {},
   "outputs": [
    {
     "name": "stdout",
     "output_type": "stream",
     "text": [
      "==> Starting K-fold cross validation for xgb_corr model, 20000 examples\n",
      "oi\n",
      "Fitting 3 folds for each of 1 candidates, totalling 3 fits\n"
     ]
    },
    {
     "name": "stderr",
     "output_type": "stream",
     "text": [
      "[Parallel(n_jobs=-1)]: Using backend LokyBackend with 4 concurrent workers.\n",
      "[Parallel(n_jobs=-1)]: Done   3 out of   3 | elapsed:  5.5min remaining:    0.0s\n",
      "[Parallel(n_jobs=-1)]: Done   3 out of   3 | elapsed:  5.5min finished\n"
     ]
    },
    {
     "name": "stdout",
     "output_type": "stream",
     "text": [
      "==> Elapsed seconds: 614.373\n",
      "Best xgb_corr model: XGBRegressor(colsample_bytree=0.65, early_stopping_rounds=30, gamma=2.22,\n",
      "             learning_rate=0.01, min_child_weight=8, n_estimators=2000,\n",
      "             objective='reg:squarederror', reg_alpha=60, subsample=0.85)\n",
      "Best xgb_corr score (val): nan\n"
     ]
    }
   ],
   "source": [
    "from xgboost import XGBRegressor\n",
    "#example scripts\n",
    "#XGBRegressor(max_depth=5, learning_rate=0.01, n_estimators=2000, n_jobs=-1, colsample_bytree=0.1)\n",
    "\n",
    "xgb_param_grid = {\n",
    "        #step 1 & 6\n",
    "        'n_estimators' : [2000], #Integer(3500, 6000, 'uniform'), [3704]\n",
    "        'learning_rate' : [0.01], #Real(10**-3, 10**-1, \"log-uniform\"),\n",
    "\n",
    "        #step 2\n",
    "        'max_depth' : [3], #Integer(3, 10, 'uniform'),\n",
    "        'min_child_weight': [8], #Integer(1, 10, 'uniform'),\n",
    "\n",
    "        #step 3\n",
    "        'gamma' : [2.22], #Real(5e-1, 6, 'log-uniform'),\n",
    "\n",
    "\n",
    "        #step 4\n",
    "        'subsample' : [0.85], #Real(1e-1, 1, 'uniform'),\n",
    "        'colsample_bytree': [0.65], #Real(1e-1, 1, 'uniform'), \n",
    "\n",
    "        #step 5\n",
    "        'reg_alpha' : [60], #Real(1, 100, 'log-uniform'),\n",
    "\n",
    "        \n",
    "        #utils\n",
    "        'objective': [\"reg:squarederror\"],\n",
    "        'early_stopping_rounds' : [30],\n",
    "        #'tree_method' : ['gpu_hist'], \n",
    "        #'gpu_id' : [0]\n",
    "\n",
    "        \n",
    "}\n",
    "\n",
    "scorer = make_scorer(spearmanr)\n",
    "#scorer = make_scorer(mean_squared_error, squared=True)\n",
    "\n",
    "\n",
    "result = evaluation.evaluate_model(df_training[features], df_training[target],\n",
    "                                          XGBRegressor(), 'xgb_corr',\n",
    "                                          xgb_param_grid, scorer, \n",
    "                                          n_jobs=-1, n_iter=1, \n",
    "                                          cv_folds=grp, pipeline=None)\n",
    "\n",
    "results.append(result)\n",
    "res_cv[result[1]] = evaluation.get_cv_scores(result[0])"
   ]
  },
  {
   "cell_type": "markdown",
   "metadata": {},
   "source": [
    "#### LightGBM"
   ]
  },
  {
   "cell_type": "code",
   "execution_count": null,
   "metadata": {},
   "outputs": [],
   "source": [
    "from lightgbm import LGBMRegressor\n",
    "#LGBMRegressor(max_depth=5, learning_rate=0.01, n_estimators=2000, n_jobs=-1, colsample_bytree=0.1, num_leaves=32)\n",
    "\n",
    "lgbm_param_grid = {\n",
    "    \n",
    "\n",
    "    #step 1 & 6\n",
    "    'n_estimators' : [3100], #Integer(500, 4000, 'uniform'), #[3083] [500]\n",
    "    'learning_rate' : [0.01], #Real(10**-5, 10**0, \"log-uniform\"),  \n",
    "\n",
    "\n",
    "    #step 2\n",
    "    'num_leaves': [110], #Integer(50, 250, \"uniform\"), \n",
    "    'min_data_in_leaf' : [2000], #Integer(100, 2000, 'uniform'), #[1913]\n",
    "    'max_depth' : [7], #Integer(3, 30, 'uniform'),\n",
    "    \n",
    "\n",
    "    #step 3\n",
    "    'bagging_fraction' : [0.6], #Real(1e-1, 1, 'uniform'),\n",
    "    'bagging_temperature': [0.25], #Real(1e-1, 1.0, 'unifom'),\n",
    "    \n",
    "    #step 4\n",
    "    'colsample_bytree': [0.13], #Real(1e-1, 1, 'uniform'),\n",
    "    'subsample':[0.16], #Real(1e-1, 1, 'uniform'), #smaller for baseline\n",
    "\n",
    "    #step 5\n",
    "    'reg_lambda': [0.12], # Real(10**-2, 1, \"log-uniform\"),\n",
    "\n",
    "\n",
    "    #utils\n",
    "    'boosting_type': ['goss'],\n",
    "    'device_type' : ['gpu']\n",
    "\n",
    "}\n",
    "\n",
    "\n",
    "\n",
    "result = evaluation.evaluate_model_skopt(df_training[features], df_training[target],\n",
    "                                   LGBMRegressor(), 'lgbm_corr',\n",
    "                                   lgbm_param_grid, \n",
    "                                   scorer, n_iter=10, \n",
    "                                   cv_folds=grp, \n",
    "                                   pipeline=None)\n",
    "\n",
    "results.append(result)\n",
    "res_cv[result[1]] = evaluation.get_cv_scores(result[0])"
   ]
  },
  {
   "cell_type": "markdown",
   "metadata": {},
   "source": [
    "#### XGBRanker"
   ]
  },
  {
   "cell_type": "code",
   "execution_count": 111,
   "metadata": {},
   "outputs": [],
   "source": [
    "cdf = df_training.groupby('era').agg(['count'])\n",
    "group = cdf[cdf.columns[0]].values"
   ]
  },
  {
   "cell_type": "code",
   "execution_count": 114,
   "metadata": {},
   "outputs": [
    {
     "name": "stdout",
     "output_type": "stream",
     "text": [
      "==> Starting K-fold cross validation for xgb_rank_corr model, 20000 examples\n",
      "Fitting 3 folds for each of 1 candidates, totalling 3 fits\n"
     ]
    },
    {
     "name": "stderr",
     "output_type": "stream",
     "text": [
      "[Parallel(n_jobs=-1)]: Using backend LokyBackend with 4 concurrent workers.\n",
      "[Parallel(n_jobs=-1)]: Done   3 out of   3 | elapsed:    4.5s remaining:    0.0s\n",
      "[Parallel(n_jobs=-1)]: Done   3 out of   3 | elapsed:    4.5s finished\n"
     ]
    },
    {
     "name": "stdout",
     "output_type": "stream",
     "text": [
      "==> Elapsed seconds: 6.302\n",
      "Best xgb_rank_corr model: XGBRanker(learning_rate=0.01, n_estimators=10)\n",
      "Best xgb_rank_corr score (val): 23.000\n"
     ]
    }
   ],
   "source": [
    "from xgboost import XGBRanker\n",
    "\n",
    "xgb_rank_param_grid = {\n",
    "        #step 1 & 6\n",
    "        'n_estimators' : [10], #Integer(3500, 6000, 'uniform'),[3704]\n",
    "        'learning_rate' : [0.01], #Real(10**-3, 10**-1, \"log-uniform\"),\n",
    "\n",
    "        #step 2\n",
    "        #'max_depth' : [3], #Integer(3, 10, 'uniform'),\n",
    "        #'min_child_weight': [8], #Integer(1, 10, 'uniform'),\n",
    "\n",
    "        #step 3\n",
    "        #'gamma' : [2.22], #Real(5e-1, 6, 'log-uniform'),\n",
    "\n",
    "\n",
    "        #step 4\n",
    "        #'subsample' : [0.85], #Real(1e-1, 1, 'uniform'),\n",
    "        #'colsample_bytree': [0.65], #Real(1e-1, 1, 'uniform'), \n",
    "\n",
    "        #step 5\n",
    "        #'reg_alpha' : [60], #Real(1, 100, 'log-uniform'),\n",
    "\n",
    "        \n",
    "        #utils\n",
    "        #'objective': [\"rank:pairwise\"],\n",
    "        #'early_stopping_rounds' : [30],\n",
    "        #'tree_method' : ['gpu_hist'], \n",
    "        #'gpu_id' : [0]\n",
    "\n",
    "        \n",
    "}\n",
    "\n",
    "\n",
    "param_fit_grid = {'group': group}\n",
    "#param_fit_grid = {}\n",
    "\n",
    "\n",
    "from sklearn.metrics import mean_squared_error\n",
    "from sklearn.metrics import mean_absolute_error\n",
    "scorer = make_scorer(spearmanr)\n",
    "scorer = make_scorer(mean_absolute_error)\n",
    "\n",
    "result = evaluation.evaluate_model(df_training[features], df_training[target],\n",
    "                                          XGBRanker(), 'xgb_rank_corr',\n",
    "                                          xgb_rank_param_grid, scorer, \n",
    "                                          n_jobs=-1, n_iter=1, \n",
    "                                          cv_folds=grp, pipeline=None,\n",
    "                                          fit_params=param_fit_grid)\n",
    "\n",
    "results.append(result)\n",
    "res_cv[result[1]] = evaluation.get_cv_scores(result[0])\n",
    "\n"
   ]
  },
  {
   "cell_type": "code",
   "execution_count": 47,
   "metadata": {},
   "outputs": [
    {
     "data": {
      "text/plain": [
       "array([0.26034057, 0.34274697, 0.8481461 , ..., 0.5171928 , 0.33860397,\n",
       "       0.49629954], dtype=float32)"
      ]
     },
     "execution_count": 47,
     "metadata": {},
     "output_type": "execute_result"
    }
   ],
   "source": [
    "model = XGBRanker()\n",
    "param_fit_grid = {'group': group}\n",
    "model.fit(df_training[features], df_training[target], **param_fit_grid)\n",
    "model.predict(df_validation[features])"
   ]
  },
  {
   "cell_type": "code",
   "execution_count": null,
   "metadata": {},
   "outputs": [],
   "source": [
    "params = {\n",
    "    'loss_function': 'PairLogit:max_pairs=100000',\n",
    "    #'task_type': 'GPU',\n",
    "    #'devices': '0'\n",
    "}\n",
    "m = CatBoost(params)\n",
    "# traind = numerox Data object for training\n",
    "m.fit(df_training[features], df_training[target], group_id=df_training.era)"
   ]
  },
  {
   "cell_type": "code",
   "execution_count": 99,
   "metadata": {},
   "outputs": [],
   "source": [
    "from catboost import CatBoost"
   ]
  },
  {
   "cell_type": "code",
   "execution_count": 113,
   "metadata": {},
   "outputs": [
    {
     "data": {
      "text/plain": [
       "array([2408, 2371, 2424, 2543, 2679, 2875, 3026, 1674])"
      ]
     },
     "execution_count": 113,
     "metadata": {},
     "output_type": "execute_result"
    }
   ],
   "source": [
    "group"
   ]
  },
  {
   "cell_type": "code",
   "execution_count": 46,
   "metadata": {},
   "outputs": [
    {
     "name": "stdout",
     "output_type": "stream",
     "text": [
      "[01:22:43] WARNING: src/objective/regression_obj.cu:152: reg:linear is now deprecated in favor of reg:squarederror.\n"
     ]
    },
    {
     "data": {
      "text/plain": [
       "array([0.44086367, 0.44441757, 0.5517954 , ..., 0.50294495, 0.47988242,\n",
       "       0.49268314], dtype=float32)"
      ]
     },
     "execution_count": 46,
     "metadata": {},
     "output_type": "execute_result"
    }
   ],
   "source": [
    "model = XGBRegressor()\n",
    "param_fit_grid = {}\n",
    "model.fit(df_training[features], df_training[target], **param_fit_grid)\n",
    "model.predict(df_validation[features])"
   ]
  },
  {
   "cell_type": "code",
   "execution_count": 85,
   "metadata": {},
   "outputs": [
    {
     "data": {
      "text/plain": [
       "array([23, 23, 23])"
      ]
     },
     "execution_count": 85,
     "metadata": {},
     "output_type": "execute_result"
    }
   ],
   "source": [
    "from sklearn.model_selection import cross_val_score\n",
    "model = XGBRanker()\n",
    "fit_params = {'group': group}\n",
    "scorer = make_scorer(mean_absolute_error)\n",
    "\n",
    "\n",
    "cross_val_score(XGBRanker(), df_training[features], df_training[target],fit_params=None, scoring=scorer, error_score=23)\n",
    "\n"
   ]
  },
  {
   "cell_type": "code",
   "execution_count": null,
   "metadata": {},
   "outputs": [],
   "source": [
    "from sklearn.metrics import mean_squared_error\n",
    "from xgboost import XGBRanker\n",
    "from sklearn.model_selection import GridSearchCV\n",
    "\n",
    "xgb_param_grid = {'n_estimators' : [10,20,30]}\n",
    "fit_params = {'group': group}\n",
    "scorer=make_scorer(mean_squared_error)\n",
    "\n",
    "grid_search = GridSearchCV(XGBRanker(),xgb_param_grid, scoring=scorer, cv=3, error_score=500)\n",
    "grid_search.fit(training_data[feature_names], training_data[TARGET_NAME], **fit_params)\n",
    "\n",
    "grid_search.cv_results_\n",
    "\n",
    "\n",
    "\n",
    "grid_search.fit(df_training[features], df_training[target], **fit_params)"
   ]
  },
  {
   "cell_type": "code",
   "execution_count": null,
   "metadata": {},
   "outputs": [],
   "source": [
    "grid_search.cv_results_"
   ]
  },
  {
   "cell_type": "code",
   "execution_count": 61,
   "metadata": {},
   "outputs": [],
   "source": [
    "cc = cross_val_score"
   ]
  },
  {
   "cell_type": "markdown",
   "metadata": {},
   "source": [
    "#### XGBoost + Adj_Sharpe"
   ]
  },
  {
   "cell_type": "code",
   "execution_count": 63,
   "metadata": {},
   "outputs": [
    {
     "data": {
      "text/plain": [
       "array([0.48085198, 0.45819652, 0.540035  , ..., 0.51940864, 0.51574445,\n",
       "       0.49592617], dtype=float32)"
      ]
     },
     "execution_count": 63,
     "metadata": {},
     "output_type": "execute_result"
    }
   ],
   "source": [
    "models['lr'].model.predict(df_validation[features])"
   ]
  },
  {
   "cell_type": "markdown",
   "metadata": {},
   "source": [
    "--------------\n",
    "--------------"
   ]
  },
  {
   "cell_type": "markdown",
   "metadata": {},
   "source": [
    "#### Save/load models"
   ]
  },
  {
   "cell_type": "code",
   "execution_count": 28,
   "metadata": {},
   "outputs": [],
   "source": [
    "#salvando apenas o modelo\n",
    "#from joblib import dump, load\n",
    "#\n",
    "#file_path = '../../models/sao_paulo/'\n",
    "#for model_name in res_cv.keys():\n",
    "#    model = list(filter(lambda x: x[1] == model_name, results))[0][0]\n",
    "#    dump(model,file_path + model_name + '-cv.pkl')"
   ]
  },
  {
   "cell_type": "code",
   "execution_count": 356,
   "metadata": {},
   "outputs": [],
   "source": [
    "#carregndo os modelos\n",
    "from joblib import dump, load\n",
    "file_path = '../../models/sao_paulo/'\n",
    "\n",
    "models, res_cv, preds = dict(), dict(), dict()\n",
    "era_scores, df_metrics, feat_corrs = dict(), dict(), dict()\n",
    "model_names = ['ex_preds', 'lr', 'ridge']\n",
    "\n",
    "\n",
    "\n",
    "for model in model_names[1:]:\n",
    "    #load model complete pipe\n",
    "    models[model] = load(file_path + model + '-cv.pkl')\n",
    "    \n",
    "    #loading cv scores\n",
    "    res_cv[model] = evaluation.get_cv_scores(models[model])\n",
    "    \n",
    "    #predicoes val1 & val2\n",
    "    preds[model] = models[model].model.predict(df_validation[features])\n",
    "\n",
    "    \n",
    "    #salvando as metricas\n",
    "    era_scores[model], df_metrics[model], feat_corrs[model], ex_preds = \\\n",
    "                        metrics.submission_metrics(df_validation, preds[model], models[model].name, True)\n",
    "\n",
    "\n",
    "\n",
    "#add ex_preds\n",
    "preds['ex_preds'] = ex_preds\n",
    "era_scores['ex_preds'], df_metrics['ex_preds'], feat_corrs['ex_preds'], ex_preds = \\\n",
    "                        metrics.submission_metrics(df_validation, preds['ex_preds'], \"ex_preds\", False)\n",
    "\n",
    "\n",
    "\n",
    "#dict to dataframe\n",
    "df_res_cv = pd.DataFrame.from_dict(res_cv)\n",
    "df_preds = pd.DataFrame.from_dict(preds)\n",
    "df_era_scores = pd.DataFrame.from_dict(era_scores)\n",
    "df_feat_corrs = pd.DataFrame.from_dict(feat_corrs)\n",
    "df_metrics_cons = metrics.metrics_consolidated(df_metrics)"
   ]
  },
  {
   "cell_type": "code",
   "execution_count": 12,
   "metadata": {},
   "outputs": [
    {
     "data": {
      "text/html": [
       "<div>\n",
       "<style scoped>\n",
       "    .dataframe tbody tr th:only-of-type {\n",
       "        vertical-align: middle;\n",
       "    }\n",
       "\n",
       "    .dataframe tbody tr th {\n",
       "        vertical-align: top;\n",
       "    }\n",
       "\n",
       "    .dataframe thead th {\n",
       "        text-align: right;\n",
       "    }\n",
       "</style>\n",
       "<table border=\"1\" class=\"dataframe\">\n",
       "  <thead>\n",
       "    <tr style=\"text-align: right;\">\n",
       "      <th></th>\n",
       "      <th>mean_fit_time</th>\n",
       "      <th>std_fit_time</th>\n",
       "      <th>mean_score_time</th>\n",
       "      <th>std_score_time</th>\n",
       "      <th>param_normalize</th>\n",
       "      <th>param_fit_intercept</th>\n",
       "      <th>params</th>\n",
       "      <th>split0_test_score</th>\n",
       "      <th>split1_test_score</th>\n",
       "      <th>split2_test_score</th>\n",
       "      <th>mean_test_score</th>\n",
       "      <th>std_test_score</th>\n",
       "      <th>rank_test_score</th>\n",
       "      <th>split0_train_score</th>\n",
       "      <th>split1_train_score</th>\n",
       "      <th>split2_train_score</th>\n",
       "      <th>mean_train_score</th>\n",
       "      <th>std_train_score</th>\n",
       "    </tr>\n",
       "  </thead>\n",
       "  <tbody>\n",
       "    <tr>\n",
       "      <th>0</th>\n",
       "      <td>103.7116</td>\n",
       "      <td>0.9026</td>\n",
       "      <td>3.4144</td>\n",
       "      <td>0.6039</td>\n",
       "      <td>True</td>\n",
       "      <td>False</td>\n",
       "      <td>{'normalize': True, 'fit_intercept': False}</td>\n",
       "      <td>0.0231</td>\n",
       "      <td>0.0231</td>\n",
       "      <td>0.0318</td>\n",
       "      <td>0.026</td>\n",
       "      <td>0.0041</td>\n",
       "      <td>1</td>\n",
       "      <td>0.0388</td>\n",
       "      <td>0.0402</td>\n",
       "      <td>0.0348</td>\n",
       "      <td>0.0379</td>\n",
       "      <td>0.0023</td>\n",
       "    </tr>\n",
       "  </tbody>\n",
       "</table>\n",
       "</div>"
      ],
      "text/plain": [
       "   mean_fit_time  std_fit_time  mean_score_time  std_score_time  \\\n",
       "0       103.7116        0.9026           3.4144          0.6039   \n",
       "\n",
       "  param_normalize param_fit_intercept  \\\n",
       "0            True               False   \n",
       "\n",
       "                                        params  split0_test_score  \\\n",
       "0  {'normalize': True, 'fit_intercept': False}             0.0231   \n",
       "\n",
       "   split1_test_score  split2_test_score  mean_test_score  std_test_score  \\\n",
       "0             0.0231             0.0318            0.026          0.0041   \n",
       "\n",
       "   rank_test_score  split0_train_score  split1_train_score  \\\n",
       "0                1              0.0388              0.0402   \n",
       "\n",
       "   split2_train_score  mean_train_score  std_train_score  \n",
       "0              0.0348            0.0379           0.0023  "
      ]
     },
     "execution_count": 12,
     "metadata": {},
     "output_type": "execute_result"
    }
   ],
   "source": [
    "models[\"lr\"].results"
   ]
  },
  {
   "cell_type": "markdown",
   "metadata": {},
   "source": [
    "### Parte 4 Avaliacao dos modelos Treinados e graficos"
   ]
  },
  {
   "cell_type": "code",
   "execution_count": 283,
   "metadata": {},
   "outputs": [
    {
     "data": {
      "image/png": "[encoded data removed]",
      "text/plain": [
       "<Figure size 432x288 with 1 Axes>"
      ]
     },
     "metadata": {},
     "output_type": "display_data"
    }
   ],
   "source": [
    "_ = plt.boxplot(res_cv.values(), labels=res_cv.keys(), showmeans=True)"
   ]
  },
  {
   "cell_type": "code",
   "execution_count": 62,
   "metadata": {},
   "outputs": [
    {
     "name": "stdout",
     "output_type": "stream",
     "text": [
      "CPU times: user 842 ms, sys: 2.71 s, total: 3.55 s\n",
      "Wall time: 2min\n"
     ]
    },
    {
     "data": {
      "image/png": "[encoded data removed]",
      "text/plain": [
       "<Figure size 432x288 with 1 Axes>"
      ]
     },
     "metadata": {
      "needs_background": "light"
     },
     "output_type": "display_data"
    }
   ],
   "source": [
    "%%time\n",
    "evaluation.plot_learning_curve(estimator=models['lr'].model,\n",
    "                               title=models['lr'].name.upper()+' Learning Curves',\n",
    "                               X=df_training[features], \n",
    "                               y=df_training[target],\n",
    "                               cv=grp,\n",
    "                               scoring=scorer)"
   ]
  },
  {
   "cell_type": "code",
   "execution_count": 323,
   "metadata": {},
   "outputs": [
    {
     "data": {
      "application/vnd.plotly.v1+json": {
       "config": {
        "linkText": "Export to plot.ly",
        "plotlyServerURL": "https://plot.ly",
        "showLink": false
       },
       "data": [
        {
         "marker": {
          "color": "#ff0000"
         },
         "name": "ex_preds",
         "type": "bar",
         "visible": true,
         "x": [
          "era_121",
          "era_122",
          "era_123",
          "era_124",
          "era_125",
          "era_126",
          "era_127",
          "era_128",
          "era_129",
          "era_130",
          "era_131",
          "era_132",
          "era_197",
          "era_198",
          "era_199",
          "era_200",
          "era_201",
          "era_202",
          "era_203",
          "era_204",
          "era_205",
          "era_206"
         ],
         "y": [
          0.02612142334486962,
          0.042270225335504785,
          0.05152610809338603,
          0.06305018711845223,
          0.03100515018809467,
          0.02925918020801589,
          -0.01234088794725806,
          0.0724850883343476,
          0.004946342390879637,
          0.064667815935512,
          0.04394686986048737,
          0.0802308311667191,
          0.032584709327547534,
          0.02291426788783327,
          -0.04553481787832358,
          0.010990232549357437,
          0.006069170601515848,
          0.0543781576020614,
          0.02916641629321467,
          0.04978643152723428,
          -0.01414721023674501,
          0.0011241319058635981
         ]
        },
        {
         "marker": {
          "color": "#ffa700"
         },
         "name": "lr",
         "type": "bar",
         "visible": true,
         "x": [
          "era_121",
          "era_122",
          "era_123",
          "era_124",
          "era_125",
          "era_126",
          "era_127",
          "era_128",
          "era_129",
          "era_130",
          "era_131",
          "era_132",
          "era_197",
          "era_198",
          "era_199",
          "era_200",
          "era_201",
          "era_202",
          "era_203",
          "era_204",
          "era_205",
          "era_206"
         ],
         "y": [
          0.03407897971859401,
          0.012130795463910014,
          0.021444610278017046,
          0.031960067444665445,
          0.031916615316084924,
          0.005604580763657558,
          -0.005608897203212104,
          0.05160694623639609,
          0.025809681639893396,
          -0.0022266895682518935,
          0.012652202781517036,
          0.046084681306245406,
          0.038380889539048176,
          -0.0045166892667291795,
          -0.022855478046990927,
          0.044150186373521264,
          0.007096136098108612,
          0.0031550011414027447,
          0.018563866236750947,
          0.023487292344268572,
          -0.014003691240647057,
          -0.007651163186936875
         ]
        },
        {
         "marker": {
          "color": "#afff00"
         },
         "name": "ridge",
         "type": "bar",
         "visible": true,
         "x": [
          "era_121",
          "era_122",
          "era_123",
          "era_124",
          "era_125",
          "era_126",
          "era_127",
          "era_128",
          "era_129",
          "era_130",
          "era_131",
          "era_132",
          "era_197",
          "era_198",
          "era_199",
          "era_200",
          "era_201",
          "era_202",
          "era_203",
          "era_204",
          "era_205",
          "era_206"
         ],
         "y": [
          0.03407903279297051,
          0.012128984620237617,
          0.021443647932616657,
          0.031962924460447156,
          0.031913811374283306,
          0.0056042589446230195,
          -0.005611678874280392,
          0.05160674787143467,
          0.025811751779308105,
          -0.0022295844125495316,
          0.012651274054370944,
          0.046084171994458405,
          0.038378304924532924,
          -0.004515482558801662,
          -0.022854747981494915,
          0.044150948597391375,
          0.007096652543840871,
          0.0031568167467463603,
          0.01856378718519575,
          0.023487992418090783,
          -0.014003553602824098,
          -0.007648986415210721
         ]
        }
       ],
       "layout": {
        "autosize": true,
        "barmode": "stack",
        "template": {
         "data": {
          "bar": [
           {
            "error_x": {
             "color": "#2a3f5f"
            },
            "error_y": {
             "color": "#2a3f5f"
            },
            "marker": {
             "line": {
              "color": "#E5ECF6",
              "width": 0.5
             }
            },
            "type": "bar"
           }
          ],
          "barpolar": [
           {
            "marker": {
             "line": {
              "color": "#E5ECF6",
              "width": 0.5
             }
            },
            "type": "barpolar"
           }
          ],
          "carpet": [
           {
            "aaxis": {
             "endlinecolor": "#2a3f5f",
             "gridcolor": "white",
             "linecolor": "white",
             "minorgridcolor": "white",
             "startlinecolor": "#2a3f5f"
            },
            "baxis": {
             "endlinecolor": "#2a3f5f",
             "gridcolor": "white",
             "linecolor": "white",
             "minorgridcolor": "white",
             "startlinecolor": "#2a3f5f"
            },
            "type": "carpet"
           }
          ],
          "choropleth": [
           {
            "colorbar": {
             "outlinewidth": 0,
             "ticks": ""
            },
            "type": "choropleth"
           }
          ],
          "contour": [
           {
            "colorbar": {
             "outlinewidth": 0,
             "ticks": ""
            },
            "colorscale": [
             [
              0,
              "#0d0887"
             ],
             [
              0.1111111111111111,
              "#46039f"
             ],
             [
              0.2222222222222222,
              "#7201a8"
             ],
             [
              0.3333333333333333,
              "#9c179e"
             ],
             [
              0.4444444444444444,
              "#bd3786"
             ],
             [
              0.5555555555555556,
              "#d8576b"
             ],
             [
              0.6666666666666666,
              "#ed7953"
             ],
             [
              0.7777777777777778,
              "#fb9f3a"
             ],
             [
              0.8888888888888888,
              "#fdca26"
             ],
             [
              1,
              "#f0f921"
             ]
            ],
            "type": "contour"
           }
          ],
          "contourcarpet": [
           {
            "colorbar": {
             "outlinewidth": 0,
             "ticks": ""
            },
            "type": "contourcarpet"
           }
          ],
          "heatmap": [
           {
            "colorbar": {
             "outlinewidth": 0,
             "ticks": ""
            },
            "colorscale": [
             [
              0,
              "#0d0887"
             ],
             [
              0.1111111111111111,
              "#46039f"
             ],
             [
              0.2222222222222222,
              "#7201a8"
             ],
             [
              0.3333333333333333,
              "#9c179e"
             ],
             [
              0.4444444444444444,
              "#bd3786"
             ],
             [
              0.5555555555555556,
              "#d8576b"
             ],
             [
              0.6666666666666666,
              "#ed7953"
             ],
             [
              0.7777777777777778,
              "#fb9f3a"
             ],
             [
              0.8888888888888888,
              "#fdca26"
             ],
             [
              1,
              "#f0f921"
             ]
            ],
            "type": "heatmap"
           }
          ],
          "heatmapgl": [
           {
            "colorbar": {
             "outlinewidth": 0,
             "ticks": ""
            },
            "colorscale": [
             [
              0,
              "#0d0887"
             ],
             [
              0.1111111111111111,
              "#46039f"
             ],
             [
              0.2222222222222222,
              "#7201a8"
             ],
             [
              0.3333333333333333,
              "#9c179e"
             ],
             [
              0.4444444444444444,
              "#bd3786"
             ],
             [
              0.5555555555555556,
              "#d8576b"
             ],
             [
              0.6666666666666666,
              "#ed7953"
             ],
             [
              0.7777777777777778,
              "#fb9f3a"
             ],
             [
              0.8888888888888888,
              "#fdca26"
             ],
             [
              1,
              "#f0f921"
             ]
            ],
            "type": "heatmapgl"
           }
          ],
          "histogram": [
           {
            "marker": {
             "colorbar": {
              "outlinewidth": 0,
              "ticks": ""
             }
            },
            "type": "histogram"
           }
          ],
          "histogram2d": [
           {
            "colorbar": {
             "outlinewidth": 0,
             "ticks": ""
            },
            "colorscale": [
             [
              0,
              "#0d0887"
             ],
             [
              0.1111111111111111,
              "#46039f"
             ],
             [
              0.2222222222222222,
              "#7201a8"
             ],
             [
              0.3333333333333333,
              "#9c179e"
             ],
             [
              0.4444444444444444,
              "#bd3786"
             ],
             [
              0.5555555555555556,
              "#d8576b"
             ],
             [
              0.6666666666666666,
              "#ed7953"
             ],
             [
              0.7777777777777778,
              "#fb9f3a"
             ],
             [
              0.8888888888888888,
              "#fdca26"
             ],
             [
              1,
              "#f0f921"
             ]
            ],
            "type": "histogram2d"
           }
          ],
          "histogram2dcontour": [
           {
            "colorbar": {
             "outlinewidth": 0,
             "ticks": ""
            },
            "colorscale": [
             [
              0,
              "#0d0887"
             ],
             [
              0.1111111111111111,
              "#46039f"
             ],
             [
              0.2222222222222222,
              "#7201a8"
             ],
             [
              0.3333333333333333,
              "#9c179e"
             ],
             [
              0.4444444444444444,
              "#bd3786"
             ],
             [
              0.5555555555555556,
              "#d8576b"
             ],
             [
              0.6666666666666666,
              "#ed7953"
             ],
             [
              0.7777777777777778,
              "#fb9f3a"
             ],
             [
              0.8888888888888888,
              "#fdca26"
             ],
             [
              1,
              "#f0f921"
             ]
            ],
            "type": "histogram2dcontour"
           }
          ],
          "mesh3d": [
           {
            "colorbar": {
             "outlinewidth": 0,
             "ticks": ""
            },
            "type": "mesh3d"
           }
          ],
          "parcoords": [
           {
            "line": {
             "colorbar": {
              "outlinewidth": 0,
              "ticks": ""
             }
            },
            "type": "parcoords"
           }
          ],
          "pie": [
           {
            "automargin": true,
            "type": "pie"
           }
          ],
          "scatter": [
           {
            "marker": {
             "colorbar": {
              "outlinewidth": 0,
              "ticks": ""
             }
            },
            "type": "scatter"
           }
          ],
          "scatter3d": [
           {
            "line": {
             "colorbar": {
              "outlinewidth": 0,
              "ticks": ""
             }
            },
            "marker": {
             "colorbar": {
              "outlinewidth": 0,
              "ticks": ""
             }
            },
            "type": "scatter3d"
           }
          ],
          "scattercarpet": [
           {
            "marker": {
             "colorbar": {
              "outlinewidth": 0,
              "ticks": ""
             }
            },
            "type": "scattercarpet"
           }
          ],
          "scattergeo": [
           {
            "marker": {
             "colorbar": {
              "outlinewidth": 0,
              "ticks": ""
             }
            },
            "type": "scattergeo"
           }
          ],
          "scattergl": [
           {
            "marker": {
             "colorbar": {
              "outlinewidth": 0,
              "ticks": ""
             }
            },
            "type": "scattergl"
           }
          ],
          "scattermapbox": [
           {
            "marker": {
             "colorbar": {
              "outlinewidth": 0,
              "ticks": ""
             }
            },
            "type": "scattermapbox"
           }
          ],
          "scatterpolar": [
           {
            "marker": {
             "colorbar": {
              "outlinewidth": 0,
              "ticks": ""
             }
            },
            "type": "scatterpolar"
           }
          ],
          "scatterpolargl": [
           {
            "marker": {
             "colorbar": {
              "outlinewidth": 0,
              "ticks": ""
             }
            },
            "type": "scatterpolargl"
           }
          ],
          "scatterternary": [
           {
            "marker": {
             "colorbar": {
              "outlinewidth": 0,
              "ticks": ""
             }
            },
            "type": "scatterternary"
           }
          ],
          "surface": [
           {
            "colorbar": {
             "outlinewidth": 0,
             "ticks": ""
            },
            "colorscale": [
             [
              0,
              "#0d0887"
             ],
             [
              0.1111111111111111,
              "#46039f"
             ],
             [
              0.2222222222222222,
              "#7201a8"
             ],
             [
              0.3333333333333333,
              "#9c179e"
             ],
             [
              0.4444444444444444,
              "#bd3786"
             ],
             [
              0.5555555555555556,
              "#d8576b"
             ],
             [
              0.6666666666666666,
              "#ed7953"
             ],
             [
              0.7777777777777778,
              "#fb9f3a"
             ],
             [
              0.8888888888888888,
              "#fdca26"
             ],
             [
              1,
              "#f0f921"
             ]
            ],
            "type": "surface"
           }
          ],
          "table": [
           {
            "cells": {
             "fill": {
              "color": "#EBF0F8"
             },
             "line": {
              "color": "white"
             }
            },
            "header": {
             "fill": {
              "color": "#C8D4E3"
             },
             "line": {
              "color": "white"
             }
            },
            "type": "table"
           }
          ]
         },
         "layout": {
          "annotationdefaults": {
           "arrowcolor": "#2a3f5f",
           "arrowhead": 0,
           "arrowwidth": 1
          },
          "coloraxis": {
           "colorbar": {
            "outlinewidth": 0,
            "ticks": ""
           }
          },
          "colorscale": {
           "diverging": [
            [
             0,
             "#8e0152"
            ],
            [
             0.1,
             "#c51b7d"
            ],
            [
             0.2,
             "#de77ae"
            ],
            [
             0.3,
             "#f1b6da"
            ],
            [
             0.4,
             "#fde0ef"
            ],
            [
             0.5,
             "#f7f7f7"
            ],
            [
             0.6,
             "#e6f5d0"
            ],
            [
             0.7,
             "#b8e186"
            ],
            [
             0.8,
             "#7fbc41"
            ],
            [
             0.9,
             "#4d9221"
            ],
            [
             1,
             "#276419"
            ]
           ],
           "sequential": [
            [
             0,
             "#0d0887"
            ],
            [
             0.1111111111111111,
             "#46039f"
            ],
            [
             0.2222222222222222,
             "#7201a8"
            ],
            [
             0.3333333333333333,
             "#9c179e"
            ],
            [
             0.4444444444444444,
             "#bd3786"
            ],
            [
             0.5555555555555556,
             "#d8576b"
            ],
            [
             0.6666666666666666,
             "#ed7953"
            ],
            [
             0.7777777777777778,
             "#fb9f3a"
            ],
            [
             0.8888888888888888,
             "#fdca26"
            ],
            [
             1,
             "#f0f921"
            ]
           ],
           "sequentialminus": [
            [
             0,
             "#0d0887"
            ],
            [
             0.1111111111111111,
             "#46039f"
            ],
            [
             0.2222222222222222,
             "#7201a8"
            ],
            [
             0.3333333333333333,
             "#9c179e"
            ],
            [
             0.4444444444444444,
             "#bd3786"
            ],
            [
             0.5555555555555556,
             "#d8576b"
            ],
            [
             0.6666666666666666,
             "#ed7953"
            ],
            [
             0.7777777777777778,
             "#fb9f3a"
            ],
            [
             0.8888888888888888,
             "#fdca26"
            ],
            [
             1,
             "#f0f921"
            ]
           ]
          },
          "colorway": [
           "#636efa",
           "#EF553B",
           "#00cc96",
           "#ab63fa",
           "#FFA15A",
           "#19d3f3",
           "#FF6692",
           "#B6E880",
           "#FF97FF",
           "#FECB52"
          ],
          "font": {
           "color": "#2a3f5f"
          },
          "geo": {
           "bgcolor": "white",
           "lakecolor": "white",
           "landcolor": "#E5ECF6",
           "showlakes": true,
           "showland": true,
           "subunitcolor": "white"
          },
          "hoverlabel": {
           "align": "left"
          },
          "hovermode": "closest",
          "mapbox": {
           "style": "light"
          },
          "paper_bgcolor": "white",
          "plot_bgcolor": "#E5ECF6",
          "polar": {
           "angularaxis": {
            "gridcolor": "white",
            "linecolor": "white",
            "ticks": ""
           },
           "bgcolor": "#E5ECF6",
           "radialaxis": {
            "gridcolor": "white",
            "linecolor": "white",
            "ticks": ""
           }
          },
          "scene": {
           "xaxis": {
            "backgroundcolor": "#E5ECF6",
            "gridcolor": "white",
            "gridwidth": 2,
            "linecolor": "white",
            "showbackground": true,
            "ticks": "",
            "zerolinecolor": "white"
           },
           "yaxis": {
            "backgroundcolor": "#E5ECF6",
            "gridcolor": "white",
            "gridwidth": 2,
            "linecolor": "white",
            "showbackground": true,
            "ticks": "",
            "zerolinecolor": "white"
           },
           "zaxis": {
            "backgroundcolor": "#E5ECF6",
            "gridcolor": "white",
            "gridwidth": 2,
            "linecolor": "white",
            "showbackground": true,
            "ticks": "",
            "zerolinecolor": "white"
           }
          },
          "shapedefaults": {
           "line": {
            "color": "#2a3f5f"
           }
          },
          "ternary": {
           "aaxis": {
            "gridcolor": "white",
            "linecolor": "white",
            "ticks": ""
           },
           "baxis": {
            "gridcolor": "white",
            "linecolor": "white",
            "ticks": ""
           },
           "bgcolor": "#E5ECF6",
           "caxis": {
            "gridcolor": "white",
            "linecolor": "white",
            "ticks": ""
           }
          },
          "title": {
           "x": 0.05
          },
          "xaxis": {
           "automargin": true,
           "gridcolor": "white",
           "linecolor": "white",
           "ticks": "",
           "title": {
            "standoff": 15
           },
           "zerolinecolor": "white",
           "zerolinewidth": 2
          },
          "yaxis": {
           "automargin": true,
           "gridcolor": "white",
           "linecolor": "white",
           "ticks": "",
           "title": {
            "standoff": 15
           },
           "zerolinecolor": "white",
           "zerolinewidth": 2
          }
         }
        },
        "title": {
         "text": "Era Scores por Modelo"
        },
        "xaxis": {
         "autorange": true,
         "range": [
          -0.5,
          21.5
         ],
         "showspikes": false,
         "title": {
          "text": "Eras"
         },
         "type": "category"
        },
        "yaxis": {
         "autorange": true,
         "range": [
          -0.1060752564817532,
          0.19052899501712212
         ],
         "showspikes": false,
         "title": {
          "text": "Spearman Score"
         },
         "type": "linear"
        }
       }
      },
      "image/png": "[encoded data removed]",
      "text/html": [
       "<div>\n",
       "        \n",
       "        \n",
       "            <div id=\"a24e7706-d1f0-4ade-991a-429c88ef9d77\" class=\"plotly-graph-div\" style=\"height:525px; width:100%;\"></div>\n",
       "            <script type=\"text/javascript\">\n",
       "                require([\"plotly\"], function(Plotly) {\n",
       "                    window.PLOTLYENV=window.PLOTLYENV || {};\n",
       "                    \n",
       "                if (document.getElementById(\"a24e7706-d1f0-4ade-991a-429c88ef9d77\")) {\n",
       "                    Plotly.newPlot(\n",
       "                        'a24e7706-d1f0-4ade-991a-429c88ef9d77',\n",
       "                        [{\"marker\": {\"color\": \"#ff0000\"}, \"name\": \"ex_preds\", \"type\": \"bar\", \"x\": [\"era_121\", \"era_122\", \"era_123\", \"era_124\", \"era_125\", \"era_126\", \"era_127\", \"era_128\", \"era_129\", \"era_130\", \"era_131\", \"era_132\", \"era_197\", \"era_198\", \"era_199\", \"era_200\", \"era_201\", \"era_202\", \"era_203\", \"era_204\", \"era_205\", \"era_206\"], \"y\": [0.02612142334486962, 0.042270225335504785, 0.05152610809338603, 0.06305018711845223, 0.03100515018809467, 0.02925918020801589, -0.01234088794725806, 0.0724850883343476, 0.004946342390879637, 0.064667815935512, 0.04394686986048737, 0.0802308311667191, 0.032584709327547534, 0.02291426788783327, -0.04553481787832358, 0.010990232549357437, 0.006069170601515848, 0.0543781576020614, 0.02916641629321467, 0.04978643152723428, -0.01414721023674501, 0.0011241319058635981]}, {\"marker\": {\"color\": \"#ffa700\"}, \"name\": \"lr\", \"type\": \"bar\", \"x\": [\"era_121\", \"era_122\", \"era_123\", \"era_124\", \"era_125\", \"era_126\", \"era_127\", \"era_128\", \"era_129\", \"era_130\", \"era_131\", \"era_132\", \"era_197\", \"era_198\", \"era_199\", \"era_200\", \"era_201\", \"era_202\", \"era_203\", \"era_204\", \"era_205\", \"era_206\"], \"y\": [0.03407897971859401, 0.012130795463910014, 0.021444610278017046, 0.031960067444665445, 0.031916615316084924, 0.005604580763657558, -0.005608897203212104, 0.05160694623639609, 0.025809681639893396, -0.0022266895682518935, 0.012652202781517036, 0.046084681306245406, 0.038380889539048176, -0.0045166892667291795, -0.022855478046990927, 0.044150186373521264, 0.007096136098108612, 0.0031550011414027447, 0.018563866236750947, 0.023487292344268572, -0.014003691240647057, -0.007651163186936875]}, {\"marker\": {\"color\": \"#afff00\"}, \"name\": \"ridge\", \"type\": \"bar\", \"x\": [\"era_121\", \"era_122\", \"era_123\", \"era_124\", \"era_125\", \"era_126\", \"era_127\", \"era_128\", \"era_129\", \"era_130\", \"era_131\", \"era_132\", \"era_197\", \"era_198\", \"era_199\", \"era_200\", \"era_201\", \"era_202\", \"era_203\", \"era_204\", \"era_205\", \"era_206\"], \"y\": [0.03407903279297051, 0.012128984620237617, 0.021443647932616657, 0.031962924460447156, 0.031913811374283306, 0.0056042589446230195, -0.005611678874280392, 0.05160674787143467, 0.025811751779308105, -0.0022295844125495316, 0.012651274054370944, 0.046084171994458405, 0.038378304924532924, -0.004515482558801662, -0.022854747981494915, 0.044150948597391375, 0.007096652543840871, 0.0031568167467463603, 0.01856378718519575, 0.023487992418090783, -0.014003553602824098, -0.007648986415210721]}],\n",
       "                        {\"barmode\": \"stack\", \"template\": {\"data\": {\"bar\": [{\"error_x\": {\"color\": \"#2a3f5f\"}, \"error_y\": {\"color\": \"#2a3f5f\"}, \"marker\": {\"line\": {\"color\": \"#E5ECF6\", \"width\": 0.5}}, \"type\": \"bar\"}], \"barpolar\": [{\"marker\": {\"line\": {\"color\": \"#E5ECF6\", \"width\": 0.5}}, \"type\": \"barpolar\"}], \"carpet\": [{\"aaxis\": {\"endlinecolor\": \"#2a3f5f\", \"gridcolor\": \"white\", \"linecolor\": \"white\", \"minorgridcolor\": \"white\", \"startlinecolor\": \"#2a3f5f\"}, \"baxis\": {\"endlinecolor\": \"#2a3f5f\", \"gridcolor\": \"white\", \"linecolor\": \"white\", \"minorgridcolor\": \"white\", \"startlinecolor\": \"#2a3f5f\"}, \"type\": \"carpet\"}], \"choropleth\": [{\"colorbar\": {\"outlinewidth\": 0, \"ticks\": \"\"}, \"type\": \"choropleth\"}], \"contour\": [{\"colorbar\": {\"outlinewidth\": 0, \"ticks\": \"\"}, \"colorscale\": [[0.0, \"#0d0887\"], [0.1111111111111111, \"#46039f\"], [0.2222222222222222, \"#7201a8\"], [0.3333333333333333, \"#9c179e\"], [0.4444444444444444, \"#bd3786\"], [0.5555555555555556, \"#d8576b\"], [0.6666666666666666, \"#ed7953\"], [0.7777777777777778, \"#fb9f3a\"], [0.8888888888888888, \"#fdca26\"], [1.0, \"#f0f921\"]], \"type\": \"contour\"}], \"contourcarpet\": [{\"colorbar\": {\"outlinewidth\": 0, \"ticks\": \"\"}, \"type\": \"contourcarpet\"}], \"heatmap\": [{\"colorbar\": {\"outlinewidth\": 0, \"ticks\": \"\"}, \"colorscale\": [[0.0, \"#0d0887\"], [0.1111111111111111, \"#46039f\"], [0.2222222222222222, \"#7201a8\"], [0.3333333333333333, \"#9c179e\"], [0.4444444444444444, \"#bd3786\"], [0.5555555555555556, \"#d8576b\"], [0.6666666666666666, \"#ed7953\"], [0.7777777777777778, \"#fb9f3a\"], [0.8888888888888888, \"#fdca26\"], [1.0, \"#f0f921\"]], \"type\": \"heatmap\"}], \"heatmapgl\": [{\"colorbar\": {\"outlinewidth\": 0, \"ticks\": \"\"}, \"colorscale\": [[0.0, \"#0d0887\"], [0.1111111111111111, \"#46039f\"], [0.2222222222222222, \"#7201a8\"], [0.3333333333333333, \"#9c179e\"], [0.4444444444444444, \"#bd3786\"], [0.5555555555555556, \"#d8576b\"], [0.6666666666666666, \"#ed7953\"], [0.7777777777777778, \"#fb9f3a\"], [0.8888888888888888, \"#fdca26\"], [1.0, \"#f0f921\"]], \"type\": \"heatmapgl\"}], \"histogram\": [{\"marker\": {\"colorbar\": {\"outlinewidth\": 0, \"ticks\": \"\"}}, \"type\": \"histogram\"}], \"histogram2d\": [{\"colorbar\": {\"outlinewidth\": 0, \"ticks\": \"\"}, \"colorscale\": [[0.0, \"#0d0887\"], [0.1111111111111111, \"#46039f\"], [0.2222222222222222, \"#7201a8\"], [0.3333333333333333, \"#9c179e\"], [0.4444444444444444, \"#bd3786\"], [0.5555555555555556, \"#d8576b\"], [0.6666666666666666, \"#ed7953\"], [0.7777777777777778, \"#fb9f3a\"], [0.8888888888888888, \"#fdca26\"], [1.0, \"#f0f921\"]], \"type\": \"histogram2d\"}], \"histogram2dcontour\": [{\"colorbar\": {\"outlinewidth\": 0, \"ticks\": \"\"}, \"colorscale\": [[0.0, \"#0d0887\"], [0.1111111111111111, \"#46039f\"], [0.2222222222222222, \"#7201a8\"], [0.3333333333333333, \"#9c179e\"], [0.4444444444444444, \"#bd3786\"], [0.5555555555555556, \"#d8576b\"], [0.6666666666666666, \"#ed7953\"], [0.7777777777777778, \"#fb9f3a\"], [0.8888888888888888, \"#fdca26\"], [1.0, \"#f0f921\"]], \"type\": \"histogram2dcontour\"}], \"mesh3d\": [{\"colorbar\": {\"outlinewidth\": 0, \"ticks\": \"\"}, \"type\": \"mesh3d\"}], \"parcoords\": [{\"line\": {\"colorbar\": {\"outlinewidth\": 0, \"ticks\": \"\"}}, \"type\": \"parcoords\"}], \"pie\": [{\"automargin\": true, \"type\": \"pie\"}], \"scatter\": [{\"marker\": {\"colorbar\": {\"outlinewidth\": 0, \"ticks\": \"\"}}, \"type\": \"scatter\"}], \"scatter3d\": [{\"line\": {\"colorbar\": {\"outlinewidth\": 0, \"ticks\": \"\"}}, \"marker\": {\"colorbar\": {\"outlinewidth\": 0, \"ticks\": \"\"}}, \"type\": \"scatter3d\"}], \"scattercarpet\": [{\"marker\": {\"colorbar\": {\"outlinewidth\": 0, \"ticks\": \"\"}}, \"type\": \"scattercarpet\"}], \"scattergeo\": [{\"marker\": {\"colorbar\": {\"outlinewidth\": 0, \"ticks\": \"\"}}, \"type\": \"scattergeo\"}], \"scattergl\": [{\"marker\": {\"colorbar\": {\"outlinewidth\": 0, \"ticks\": \"\"}}, \"type\": \"scattergl\"}], \"scattermapbox\": [{\"marker\": {\"colorbar\": {\"outlinewidth\": 0, \"ticks\": \"\"}}, \"type\": \"scattermapbox\"}], \"scatterpolar\": [{\"marker\": {\"colorbar\": {\"outlinewidth\": 0, \"ticks\": \"\"}}, \"type\": \"scatterpolar\"}], \"scatterpolargl\": [{\"marker\": {\"colorbar\": {\"outlinewidth\": 0, \"ticks\": \"\"}}, \"type\": \"scatterpolargl\"}], \"scatterternary\": [{\"marker\": {\"colorbar\": {\"outlinewidth\": 0, \"ticks\": \"\"}}, \"type\": \"scatterternary\"}], \"surface\": [{\"colorbar\": {\"outlinewidth\": 0, \"ticks\": \"\"}, \"colorscale\": [[0.0, \"#0d0887\"], [0.1111111111111111, \"#46039f\"], [0.2222222222222222, \"#7201a8\"], [0.3333333333333333, \"#9c179e\"], [0.4444444444444444, \"#bd3786\"], [0.5555555555555556, \"#d8576b\"], [0.6666666666666666, \"#ed7953\"], [0.7777777777777778, \"#fb9f3a\"], [0.8888888888888888, \"#fdca26\"], [1.0, \"#f0f921\"]], \"type\": \"surface\"}], \"table\": [{\"cells\": {\"fill\": {\"color\": \"#EBF0F8\"}, \"line\": {\"color\": \"white\"}}, \"header\": {\"fill\": {\"color\": \"#C8D4E3\"}, \"line\": {\"color\": \"white\"}}, \"type\": \"table\"}]}, \"layout\": {\"annotationdefaults\": {\"arrowcolor\": \"#2a3f5f\", \"arrowhead\": 0, \"arrowwidth\": 1}, \"coloraxis\": {\"colorbar\": {\"outlinewidth\": 0, \"ticks\": \"\"}}, \"colorscale\": {\"diverging\": [[0, \"#8e0152\"], [0.1, \"#c51b7d\"], [0.2, \"#de77ae\"], [0.3, \"#f1b6da\"], [0.4, \"#fde0ef\"], [0.5, \"#f7f7f7\"], [0.6, \"#e6f5d0\"], [0.7, \"#b8e186\"], [0.8, \"#7fbc41\"], [0.9, \"#4d9221\"], [1, \"#276419\"]], \"sequential\": [[0.0, \"#0d0887\"], [0.1111111111111111, \"#46039f\"], [0.2222222222222222, \"#7201a8\"], [0.3333333333333333, \"#9c179e\"], [0.4444444444444444, \"#bd3786\"], [0.5555555555555556, \"#d8576b\"], [0.6666666666666666, \"#ed7953\"], [0.7777777777777778, \"#fb9f3a\"], [0.8888888888888888, \"#fdca26\"], [1.0, \"#f0f921\"]], \"sequentialminus\": [[0.0, \"#0d0887\"], [0.1111111111111111, \"#46039f\"], [0.2222222222222222, \"#7201a8\"], [0.3333333333333333, \"#9c179e\"], [0.4444444444444444, \"#bd3786\"], [0.5555555555555556, \"#d8576b\"], [0.6666666666666666, \"#ed7953\"], [0.7777777777777778, \"#fb9f3a\"], [0.8888888888888888, \"#fdca26\"], [1.0, \"#f0f921\"]]}, \"colorway\": [\"#636efa\", \"#EF553B\", \"#00cc96\", \"#ab63fa\", \"#FFA15A\", \"#19d3f3\", \"#FF6692\", \"#B6E880\", \"#FF97FF\", \"#FECB52\"], \"font\": {\"color\": \"#2a3f5f\"}, \"geo\": {\"bgcolor\": \"white\", \"lakecolor\": \"white\", \"landcolor\": \"#E5ECF6\", \"showlakes\": true, \"showland\": true, \"subunitcolor\": \"white\"}, \"hoverlabel\": {\"align\": \"left\"}, \"hovermode\": \"closest\", \"mapbox\": {\"style\": \"light\"}, \"paper_bgcolor\": \"white\", \"plot_bgcolor\": \"#E5ECF6\", \"polar\": {\"angularaxis\": {\"gridcolor\": \"white\", \"linecolor\": \"white\", \"ticks\": \"\"}, \"bgcolor\": \"#E5ECF6\", \"radialaxis\": {\"gridcolor\": \"white\", \"linecolor\": \"white\", \"ticks\": \"\"}}, \"scene\": {\"xaxis\": {\"backgroundcolor\": \"#E5ECF6\", \"gridcolor\": \"white\", \"gridwidth\": 2, \"linecolor\": \"white\", \"showbackground\": true, \"ticks\": \"\", \"zerolinecolor\": \"white\"}, \"yaxis\": {\"backgroundcolor\": \"#E5ECF6\", \"gridcolor\": \"white\", \"gridwidth\": 2, \"linecolor\": \"white\", \"showbackground\": true, \"ticks\": \"\", \"zerolinecolor\": \"white\"}, \"zaxis\": {\"backgroundcolor\": \"#E5ECF6\", \"gridcolor\": \"white\", \"gridwidth\": 2, \"linecolor\": \"white\", \"showbackground\": true, \"ticks\": \"\", \"zerolinecolor\": \"white\"}}, \"shapedefaults\": {\"line\": {\"color\": \"#2a3f5f\"}}, \"ternary\": {\"aaxis\": {\"gridcolor\": \"white\", \"linecolor\": \"white\", \"ticks\": \"\"}, \"baxis\": {\"gridcolor\": \"white\", \"linecolor\": \"white\", \"ticks\": \"\"}, \"bgcolor\": \"#E5ECF6\", \"caxis\": {\"gridcolor\": \"white\", \"linecolor\": \"white\", \"ticks\": \"\"}}, \"title\": {\"x\": 0.05}, \"xaxis\": {\"automargin\": true, \"gridcolor\": \"white\", \"linecolor\": \"white\", \"ticks\": \"\", \"title\": {\"standoff\": 15}, \"zerolinecolor\": \"white\", \"zerolinewidth\": 2}, \"yaxis\": {\"automargin\": true, \"gridcolor\": \"white\", \"linecolor\": \"white\", \"ticks\": \"\", \"title\": {\"standoff\": 15}, \"zerolinecolor\": \"white\", \"zerolinewidth\": 2}}}, \"title\": {\"text\": \"Era Scores por Modelo\"}, \"xaxis\": {\"title\": {\"text\": \"Eras\"}}, \"yaxis\": {\"title\": {\"text\": \"Spearman Score\"}}},\n",
       "                        {\"responsive\": true}\n",
       "                    ).then(function(){\n",
       "                            \n",
       "var gd = document.getElementById('a24e7706-d1f0-4ade-991a-429c88ef9d77');\n",
       "var x = new MutationObserver(function (mutations, observer) {{\n",
       "        var display = window.getComputedStyle(gd).display;\n",
       "        if (!display || display === 'none') {{\n",
       "            console.log([gd, 'removed!']);\n",
       "            Plotly.purge(gd);\n",
       "            observer.disconnect();\n",
       "        }}\n",
       "}});\n",
       "\n",
       "// Listen for the removal of the full notebook cells\n",
       "var notebookContainer = gd.closest('#notebook-container');\n",
       "if (notebookContainer) {{\n",
       "    x.observe(notebookContainer, {childList: true});\n",
       "}}\n",
       "\n",
       "// Listen for the clearing of the current output cell\n",
       "var outputEl = gd.closest('.output');\n",
       "if (outputEl) {{\n",
       "    x.observe(outputEl, {childList: true});\n",
       "}}\n",
       "\n",
       "                        })\n",
       "                };\n",
       "                });\n",
       "            </script>\n",
       "        </div>"
      ]
     },
     "metadata": {},
     "output_type": "display_data"
    }
   ],
   "source": [
    "visualize.plot_era_scores(df_era_scores, model_names)"
   ]
  },
  {
   "cell_type": "code",
   "execution_count": 301,
   "metadata": {},
   "outputs": [
    {
     "data": {
      "application/vnd.plotly.v1+json": {
       "config": {
        "linkText": "Export to plot.ly",
        "plotlyServerURL": "https://plot.ly",
        "showLink": false
       },
       "data": [
        {
         "boxpoints": "all",
         "marker": {
          "color": "#ff0000"
         },
         "name": "ex_preds",
         "type": "box",
         "visible": true,
         "y": [
          0.06036443573079751,
          -0.1231286484651977,
          -0.11941440154648436,
          0.03376945244955014,
          -0.02356270797734068,
          0.07917380022218809,
          0.09136884739835316,
          0.04130587897927838,
          -0.011712780321797818,
          -0.003984201247016629,
          0.044024414803097565,
          -0.027723608099419983,
          0.16503058596668424,
          0.06593290818547831,
          0.05915484883756207,
          0.026541066650542972,
          0.10062714978604179,
          0.1730802379866875,
          0.030573122920504854,
          -0.04094008113632282,
          -0.1685206400828404,
          0.13203479857446923,
          0.08993315677350935,
          0.05507335582377749,
          0.095252495176598,
          0.07247340027452179,
          -0.049656227836177354,
          0.09626875191957285,
          0.08475769608907273,
          0.15005458422916423,
          0.170032565411701,
          0.04212218411333101,
          0.06757866180370653,
          0.041844706318458366,
          0.07905670311634867,
          0.07330934237876538,
          0.036351853962129366,
          0.12963547714322432,
          0.050536320686841954,
          0.09852929856905172,
          0.1211426843821335,
          0.07003910501000989,
          0.07325808576163659,
          0.07811762776752736,
          0.08733830801229289,
          0.13692390680700295,
          0.09085367477800085,
          0.06723415643161668,
          0.14363460935911251,
          0.06503655460196489,
          0.08209372823227555,
          0.13806570678922583,
          0.10632014187391088,
          0.1114737137705142,
          0.029188805636911924,
          0.06954930711847881,
          0.05175247374821859,
          0.1510520014176624,
          0.03902615627908163,
          0.0767141677786392,
          0.05127325017398474,
          0.07832198719056158,
          0.07651320654427855,
          0.06909049923427948,
          0.08797713014815187,
          0.17190023105978225,
          0.13980923603274056,
          0.04572083211018815,
          -0.10045276278016939,
          0.09074520008988181,
          0.10690914015422148,
          0.040320262859683716,
          0.138703209225975,
          0.06877236622672112,
          0.044187333775581206,
          0.05041341695882486,
          0.04791282289903204,
          0.15285331052967652,
          0.12470319823037368,
          0.07017917969436945,
          -0.1676343323027226,
          0.02856090390704904,
          0.12693325972591324,
          0.045110570177739895,
          0.04458615810777924,
          0.0762524566478338,
          0.1202646954556267,
          0.1584208093443909,
          0.04789261559198569,
          0.12402260605996225,
          0.08980744619457316,
          0.04878339891790694,
          0.14928507904588148,
          0.08135293625304894,
          -0.11338843225335232,
          0.09273873829424109,
          0.03876722122799511,
          0.09512100269080426,
          0.17185886093990982,
          0.030880840570288677,
          0.10842696079751704,
          0.18784055360616814,
          -0.03508642522777114,
          -0.010187483657485707,
          0.07602480908209,
          0.07928344507490875,
          0.10179254629036198,
          0.04286999080147606,
          0.1649363136561965,
          0.08946389267430349,
          -0.021756982828643658,
          0.1560418253901017,
          0.0977863334408706,
          -0.002048953091945005,
          0.002814131561994697,
          0.004053241629598116,
          0.0948497711012,
          0.03886803254734866,
          0.1592495723181738,
          0.11025778995161482,
          0.010640960941170476,
          0.021383342101085057,
          -0.013854343635674745,
          0.07948923525071151,
          0.10353634446993604,
          0.07978168052705839,
          0.018380721150360307,
          0.08995128542448912,
          -0.006668595446996801,
          0.031320221092016154,
          0.0879579837438038,
          0.1575505081226875,
          0.0689391685322655,
          0.047229285831927974,
          0.003042342774435835,
          0.046514385728665196,
          -0.04104881609554955,
          -0.10430556084048742,
          -0.21132255039765746,
          -0.2682324030784898,
          -0.15839365812717576,
          -0.2829814834771536,
          -0.27034854212486986,
          -0.20625364700267076,
          -0.020604786765608465,
          -0.11325099671713598,
          -0.2749829507485818,
          -0.19983486536027587,
          -0.1714079205695444,
          -0.1983586340941313,
          -0.039482882378687294,
          -0.026909947299778268,
          -0.0007230461866615619,
          -0.011434981660701848,
          0.004319427168063364,
          0.0006036171611740602,
          -0.0581710077570497,
          0.018647796723836357,
          0.07772559823067389,
          -0.005894730546460782,
          0.024353148746255722,
          0.02928979053622869,
          -0.05633932306850632,
          0.07455942738408601,
          -0.052148929638177126,
          0.027397007129753338,
          0.007504592980124266,
          0.07440122692807337,
          0.009942993943735648,
          -0.04419007589380372,
          0.05172533251675063,
          -0.007187679264913325,
          0.008154211637827362,
          -0.06366017402656843,
          -0.007758129891108985,
          -0.03374561584782299,
          -0.05053761651482599,
          0.014898720569099248,
          0.012882537246359198,
          0.12403380767696424,
          -0.026297645639925427,
          -0.034888051870819614,
          0.0619598483326166,
          0.037028561713714124,
          -0.0048786669818028225,
          0.03607416362510394,
          -0.05438790945172942,
          -0.07664922110534209,
          0.0705108622239681,
          0.028887299562153305,
          0.0799882329713865,
          0.11829650439526729,
          -0.03859339469084545,
          0.05490213817839582,
          -0.023150186822171556,
          -0.05994880695094689,
          -0.03292561262709264,
          -0.030523584516484563,
          -0.018482298111337926,
          0.009743194940624946,
          0.09022601331677282,
          -0.02135380952259777,
          0.06344729308350423,
          0.004963366613808374,
          0.03644291970369282,
          -0.10615475644288636,
          -0.021433475039842616,
          0.052264476219659614,
          0.08567560267561361,
          0.05180753752647962,
          0.044742780094056855,
          -0.03705624092402131,
          -0.056629773003255925,
          0.03411489247506714,
          -0.05757824277784901,
          0.023452188354712345,
          -0.0752975720799519,
          0.050831257215185215,
          -0.009854456717490943,
          0.03539623452918266,
          0.049644226256065786,
          0.017899779203307514,
          -0.03672405130734637,
          0.0049982935004520435,
          -0.014448607925500786,
          0.1360585951456973,
          -0.03100584952326598,
          0.008387516769221892,
          -0.05729969414265754,
          -0.035541529304727905,
          0.09901010998362768,
          -0.05684650932852603,
          0.06201789039211955,
          -0.04094513005583658,
          -0.040844689566926703,
          0.030894094215049753,
          0.04183828524168614,
          0.0031710365278152398,
          0.13066754028758287,
          -0.0027829498396510564,
          -0.10322188015008733,
          0.04510932521269719,
          0.013751812694276142,
          0.020122703619705876,
          -0.022056915410903197,
          0.02569454647912065,
          0.07188396055682643,
          0.04266184564388685,
          0.03253213798111841,
          0.060516116604909076,
          0.020972032216363026,
          -0.0969115670982895,
          0.022421521803679567,
          -0.03180807809801444,
          0.002996762074540194,
          -0.010900541643824273,
          0.06380639504996449,
          0.0820639214104083,
          0.013798123803033946,
          -0.10377471918921453,
          -0.07773642340624591,
          -0.07213884814146347,
          0.01042040336348499,
          -0.07590705349217214,
          0.00964846388030329,
          0.03759458630456974,
          0.00976063584005147,
          0.009726549443839449,
          0.11897470761494645,
          0.05346999185507622,
          0.045867385012717476,
          0.05689187178375807,
          0.05289181660008559,
          0.0147408015248286,
          0.05676630426988344,
          0.03788568564307062,
          0.042537066676991975,
          0.018625472403508987,
          0.07324041454546926,
          0.001662018809966725,
          0.014826878943486044,
          0.09361673294691214,
          0.012969380223348936,
          0.033054932498511394,
          0.05990104786877586,
          0.044325373630167954,
          0.11627407991600468,
          0.03309818903017433,
          0.09130917197168219,
          0.03973946970457337,
          0.06277150769238192,
          0.0584204392894883,
          0.013005468297073672,
          0.009509917664677979,
          0.10508258428436025,
          0.1224830816988458,
          0.027155504623467625,
          0.06150506926736212,
          0.048049055977185444,
          0.12408145420270213,
          0.09600932687288204,
          0.10232713155078406,
          0.11185568431313718,
          0.11002566685154651,
          0.11196809131656088,
          0.12297315037065333,
          0.025295379757813225,
          0.12621607585629716,
          0.005488409057546896,
          0.05390010867175597
         ]
        },
        {
         "boxpoints": "all",
         "marker": {
          "color": "#ffa700"
         },
         "name": "lr",
         "type": "box",
         "visible": true,
         "y": [
          0.09406569767116756,
          0.011474484277711377,
          0.01961789794924774,
          0.05055930477356904,
          0.07289785482088848,
          0.10790637243355664,
          0.11280247670023076,
          0.07120792561303677,
          0.07006703903693881,
          0.08202719721587623,
          0.053743981826155834,
          0.06622953856820504,
          0.1562746756927118,
          0.11841742565759057,
          0.12426483650708169,
          0.09330141568984111,
          0.1543348448325965,
          0.19222650564113025,
          0.11229162231196774,
          0.06800199437447996,
          -0.05022622663191476,
          0.15750682070611818,
          0.1444333693945145,
          0.10683396702948683,
          0.1383692975862002,
          0.13894029154735887,
          0.061750555509814044,
          0.14042759583047562,
          0.12215094620926821,
          0.1852347112254669,
          0.17729522548915638,
          0.11654270028209285,
          0.12916648656858917,
          0.12023822487185021,
          0.12136366753152573,
          0.12616565943588248,
          0.115295691280612,
          0.17164340105851433,
          0.12149301782001458,
          0.14607195423142516,
          0.163918923988599,
          0.13165458268989805,
          0.1335535644243634,
          0.1137368862109977,
          0.14746043410835505,
          0.1573590608593807,
          0.13897684444571604,
          0.13314795347226216,
          0.18521166758484287,
          0.12603143287464544,
          0.126458714290244,
          0.17397634647018997,
          0.18421901209094596,
          0.1552957107882703,
          0.12599645135825324,
          0.13897837363505072,
          0.11905420617821239,
          0.1834643478574988,
          0.12426965182938025,
          0.11636463968393344,
          0.12479669736082306,
          0.11605402758263539,
          0.13399070789250117,
          0.14013806143756413,
          0.13884147739165742,
          0.1953642618112703,
          0.1669606774305556,
          0.11952621290399602,
          -0.021324374305592617,
          0.13939956093197722,
          0.17730694740389927,
          0.11308714944700124,
          0.1770539372518585,
          0.13257043158308746,
          0.13959575531484716,
          0.11973608290357254,
          0.11397024519395865,
          0.1791224320422258,
          0.16806926429214103,
          0.12871209784754042,
          -0.04786050483429625,
          0.1256820849607804,
          0.1609956961241531,
          0.11492399961624652,
          0.12385384117169668,
          0.1479608148263715,
          0.16717054654782665,
          0.1927198191044315,
          0.12883643246142418,
          0.157293272334273,
          0.15123292057951704,
          0.1132154412010657,
          0.1861509253371691,
          0.13570511793152798,
          -0.02512839581646631,
          0.13616514245710098,
          0.13176577311274087,
          0.1309340583842766,
          0.17706061484808408,
          0.11689324231007,
          0.1537604795115633,
          0.187452090074113,
          0.08112067242646956,
          0.08692315576106693,
          0.13495995818734177,
          0.10875304219375412,
          0.14326991960988425,
          0.12063040094188147,
          0.17451346274474072,
          0.17853055584931374,
          0.08876579961060128,
          0.18225026652665166,
          0.13449446921898933,
          0.12096079179203935,
          0.10149303106505696,
          0.0778641224903464,
          0.15870644419190622,
          0.1872966627432441,
          0.17181225330263683,
          0.1496199586644535,
          0.1415763364666747,
          0.07945697839808526,
          0.08289720520618164,
          0.13287473384469334,
          0.13514237210411692,
          0.11462668434169562,
          0.08363224255728025,
          0.17069345902564043,
          0.08344244599786446,
          0.1360756240802672,
          0.14606393630268932,
          0.1851184552358533,
          0.13904039508355523,
          0.11512339357703558,
          0.07115878114310581,
          0.1866291742697545,
          0.08814544831357438,
          0.04178426554874979,
          -0.014989841723021828,
          -0.05474174204604992,
          0.014361542457656449,
          -0.07520493028359139,
          -0.061000817386469536,
          -0.015443677037139001,
          0.09776232560301304,
          0.03680989311695393,
          -0.06499432728964474,
          -0.014542202418979586,
          0.002254672322666733,
          -0.015016606558187644,
          0.07526392130858625,
          0.07916387374113615,
          0.06786727590204913,
          0.12992021707929277,
          0.055142901765620714,
          0.0526124950813207,
          0.03819974491089848,
          0.10039470564549559,
          0.13239383126750645,
          0.05471856467729212,
          0.13051804682522464,
          0.03877624139299718,
          0.059156949782493154,
          0.17516651270779557,
          0.026213638872391018,
          0.11137613972549376,
          0.08640375830074043,
          0.1000966130979508,
          0.10077280977958944,
          0.07326791111406582,
          0.16082220717581255,
          0.07756981558505456,
          0.06448817918878964,
          0.028547526271234126,
          0.07584907884443967,
          0.07761096958782834,
          0.03570795445671887,
          0.14396216922090804,
          0.04125524962917889,
          0.20485481673643346,
          0.052896018698917344,
          0.04907294720562918,
          0.11783677558934058,
          0.1674120112738517,
          0.1337439336618036,
          0.16073970651498964,
          0.026200268062865236,
          0.02374112799813587,
          0.09657447146779341,
          0.10646166158429143,
          0.12975840072772826,
          0.20343854121000354,
          0.06577561251567286,
          0.08338634195562775,
          0.10149279327698622,
          -0.007574547970049293,
          0.0982634949798616,
          0.051141053554146894,
          0.1069018402444657,
          0.043719011047307604,
          0.16472037486617527,
          0.0493747207958439,
          0.101362138627521,
          0.10850297869747953,
          0.08308330009100229,
          0.01689217160763209,
          0.04491752197620254,
          0.09905457841465037,
          0.17837171032047291,
          0.1328421868481278,
          0.1243141491987004,
          0.07539920237142309,
          0.0374637540183546,
          0.1175977519407329,
          0.03652043804673297,
          0.06728016748823736,
          0.0395430174077819,
          0.09605057795867616,
          0.05515650495603158,
          0.1535283282824882,
          0.09611190779769699,
          0.07732004910969026,
          0.09166679415217657,
          0.05544494464516141,
          0.05596762894146234,
          0.11607229671572178,
          0.05885881456529946,
          0.10782520089387024,
          0.052501580107873425,
          0.07679896922180529,
          0.19160119671326237,
          0.03127277151668146,
          0.114022129379186,
          0.08087329887211363,
          0.0547704376004799,
          0.09463704400142138,
          0.12627909438308202,
          0.06900033352805585,
          0.12250546042748396,
          0.07084461467519301,
          0.020329427888874076,
          0.11611978392160612,
          0.06830777279200331,
          0.0798107579199691,
          0.10604432831316746,
          0.10752245549104521,
          0.10883879692066516,
          0.12728547205573976,
          0.10361224463715728,
          0.11737044319810047,
          0.049429452200089444,
          0.02498678591336752,
          0.07585560206820899,
          0.05516829186520719,
          0.14612578571205162,
          0.06145353760798391,
          0.10325830927672125,
          0.13346151829581582,
          0.1594725276148349,
          0.01369960695414029,
          0.033815557731008895,
          -0.013463190320518419,
          0.14423771649496894,
          0.02210078627365818,
          0.07487728100062335,
          0.12224753451560788,
          0.026472617511844806,
          0.11198321010514196,
          0.1539016089549423,
          0.09741073338839515,
          0.11658865347745202,
          0.100500192541363,
          0.049409450318105085,
          0.09639223388312884,
          0.09661118076978045,
          0.11963167766835145,
          0.1052958388938489,
          0.07241251111980236,
          0.12327581177433795,
          0.10706650154693304,
          0.09600489249198932,
          0.13400929516990348,
          0.08797647312623737,
          0.11190804700656076,
          0.10504586163978626,
          0.044177962246632854,
          0.1329302271681741,
          0.04671677892992784,
          0.12526477564683555,
          0.08398242066451789,
          0.12692203500440816,
          0.09899603653971259,
          0.09725951118619885,
          0.11647252259149171,
          0.1483199213809997,
          0.1213055262082774,
          0.03231682889098937,
          0.10520085445312449,
          0.10963174559799407,
          0.17055369580556423,
          0.14820387473703456,
          0.14305498688785334,
          0.14567092821623506,
          0.15934413504225364,
          0.15483760281316883,
          0.17151389512186985,
          0.02234247109418302,
          0.15840489927454152,
          0.11601767846821269,
          0.11863473052261833
         ]
        },
        {
         "boxpoints": "all",
         "marker": {
          "color": "#afff00"
         },
         "name": "ridge",
         "type": "box",
         "visible": true,
         "y": [
          0.09406907492120688,
          0.011481786131826745,
          0.01962465402187807,
          0.050562546120980746,
          0.07290189408677075,
          0.1079092061163701,
          0.11280637103150268,
          0.07121422909125755,
          0.07007310112674704,
          0.08203051997906212,
          0.05374869102400526,
          0.0662360731094445,
          0.15627861818048847,
          0.11842613145872534,
          0.1242745440290545,
          0.09330591549047809,
          0.1543447290680762,
          0.19223246780888242,
          0.11229892884768601,
          0.06800643200099822,
          -0.050227366969488686,
          0.1575127350749516,
          0.14444045016703339,
          0.10683993229433203,
          0.13837478331884642,
          0.13894586520648244,
          0.06175350458380674,
          0.14043373759931752,
          0.12215792299131197,
          0.185245616101633,
          0.17729826687799397,
          0.11655435861757402,
          0.1291727792670033,
          0.12024275721991459,
          0.12136805143528645,
          0.1261703666635413,
          0.11530177390624222,
          0.17165073974850492,
          0.12149781651693577,
          0.1460795422638628,
          0.16392599605907518,
          0.13166229228729312,
          0.13356275992327274,
          0.11374177606633698,
          0.147465281329738,
          0.15736658141838097,
          0.13898421322269236,
          0.13315310661513338,
          0.18521849592630166,
          0.12603857303179752,
          0.1264632767592708,
          0.17398088904715717,
          0.18422825335170548,
          0.1553007478699861,
          0.12600306078951246,
          0.13898744395787954,
          0.11906021465183737,
          0.1834703712557922,
          0.12428077444291716,
          0.11637128474590498,
          0.12480182287503072,
          0.11605880342956772,
          0.13399860877981054,
          0.14014620286057713,
          0.13884744573095723,
          0.19536986015479696,
          0.16696737352210522,
          0.11953332544515276,
          -0.021323147166157238,
          0.13940381429144585,
          0.17731677802868365,
          0.11309680987421408,
          0.1770628936566866,
          0.1325781673475085,
          0.13960213253928933,
          0.1197426706244436,
          0.11397597062096723,
          0.17912853145815016,
          0.16807824062692925,
          0.12871680521029844,
          -0.047859274674440705,
          0.1256882372728646,
          0.1610033635915326,
          0.11493199569362679,
          0.12386360348618422,
          0.14796652533645965,
          0.16717553683615735,
          0.19272816360964964,
          0.12884102833979644,
          0.1573004834948636,
          0.15123974718654098,
          0.11322146002959897,
          0.18616066723764127,
          0.13571118042305091,
          -0.025125271181922277,
          0.13616963920160968,
          0.1317710333787534,
          0.13093842683726334,
          0.17706493639272064,
          0.11689812033059212,
          0.15376648276576113,
          0.18745728489518731,
          0.08112657889702493,
          0.08693142253455512,
          0.13496899533967366,
          0.10876028391889672,
          0.1432761623535023,
          0.12063634946385131,
          0.1745188781538874,
          0.17853811833428965,
          0.08877077668103246,
          0.1822550346437888,
          0.1345005937346223,
          0.12096754267391967,
          0.10149689637609975,
          0.07786727873329198,
          0.15870847362088766,
          0.18729769650381387,
          0.17181827483467552,
          0.14962674419101155,
          0.14158252588179157,
          0.07946408541411426,
          0.08290072843933714,
          0.13288116301880806,
          0.13514845420988225,
          0.11463216403311184,
          0.08363720227555217,
          0.17070126200730318,
          0.08345053949970924,
          0.13607924321210962,
          0.14606944238028546,
          0.18512004694502537,
          0.13904776239778607,
          0.11512998463836181,
          0.07116410884373098,
          0.1866372839943589,
          0.08814678387118931,
          0.04178765965572157,
          -0.0149844721319674,
          -0.05473930105042766,
          0.014364215325374472,
          -0.07519850189678959,
          -0.06099620024287471,
          -0.015440768959601978,
          0.09776813477999022,
          0.03681578114191783,
          -0.06499287480403199,
          -0.014538050074076513,
          0.0022594827033475258,
          -0.015009859839425141,
          0.07526740156192394,
          0.07916369613034012,
          0.06787418597769866,
          0.12992954346099667,
          0.05514438302007758,
          0.052618892900595564,
          0.038206339096597694,
          0.10039508638458211,
          0.13239181416592607,
          0.054726928827272335,
          0.13052641795088354,
          0.03877924242767254,
          0.05916045717692062,
          0.17517333263829166,
          0.02621763186785143,
          0.11138211564210106,
          0.08640859024601934,
          0.10009687375839263,
          0.1007782642035242,
          0.0732717802333261,
          0.16082953097163175,
          0.07757599735005924,
          0.06449264919689039,
          0.028549571838828863,
          0.07585637664357402,
          0.07761371738342279,
          0.03571393314058478,
          0.1439660214655439,
          0.0412603982427833,
          0.2048637755200306,
          0.052896589603510326,
          0.049075034191385154,
          0.11783766760362871,
          0.16741906426066117,
          0.13374853968212536,
          0.16074870372831768,
          0.02620229590433481,
          0.02374730214313951,
          0.09657879974865692,
          0.10647031137070753,
          0.12976464933829437,
          0.20344656441803483,
          0.0657746362941431,
          0.08339241366844612,
          0.10149524699185532,
          -0.00757357940685549,
          0.09826921084934362,
          0.05114539211997926,
          0.10691491129877495,
          0.043721368237206897,
          0.16472981220225377,
          0.04937933596797694,
          0.10136721168395099,
          0.10850875718677215,
          0.0830857931320573,
          0.016898958488673517,
          0.04492535067525744,
          0.09906467745197,
          0.17837796607678158,
          0.13284438903698184,
          0.12431781303331203,
          0.07540319511818067,
          0.03746891862341104,
          0.11760319068368665,
          0.036525878630266205,
          0.06728574507813494,
          0.039548660100810006,
          0.09605856624799163,
          0.055162719440933025,
          0.1535329783546415,
          0.0961129623806152,
          0.07732104542561563,
          0.09166831739159254,
          0.05544972110357654,
          0.05597411216586216,
          0.1160751702519562,
          0.05886607335176219,
          0.10783660601161602,
          0.05250688135616638,
          0.07679894023332927,
          0.19160889314537669,
          0.03127487558487595,
          0.11403016335804467,
          0.08087162405136611,
          0.05477074121252256,
          0.09463572145969974,
          0.12628083171770563,
          0.06900532734508312,
          0.12250764344733217,
          0.07084919731528301,
          0.020333342733781935,
          0.11612131700190281,
          0.06831534266119663,
          0.07981021682577162,
          0.1060474391645604,
          0.10753398331370573,
          0.10884026476374677,
          0.12729129290564617,
          0.10361815156035163,
          0.1173754229198055,
          0.04943629900372067,
          0.024987825410396906,
          0.0758627640447797,
          0.05516498966176106,
          0.14613462222503887,
          0.06146000565217442,
          0.10326298101335542,
          0.13346824810411032,
          0.15947639449746756,
          0.013705115501464905,
          0.03382204945520395,
          -0.013464523514093133,
          0.1442437035698553,
          0.022106828332650784,
          0.07488466974404309,
          0.12225001249665586,
          0.02647404788184575,
          0.11199147264870335,
          0.15390860272311568,
          0.0974159577456861,
          0.1165951457979133,
          0.10050405975251947,
          0.04941206845602887,
          0.09639230449834597,
          0.09661600794159098,
          0.11963757126899996,
          0.10530035656597253,
          0.07241824945099111,
          0.12328425591450745,
          0.10707500064819093,
          0.0960082287959496,
          0.13401281993273848,
          0.0879768134148465,
          0.11190846674566023,
          0.10505364349766913,
          0.04417965591685872,
          0.13293114401384093,
          0.04671731096594894,
          0.1252719848850493,
          0.08398988015902831,
          0.12693086376031004,
          0.09900419775457305,
          0.09726364664800424,
          0.11648046168540906,
          0.14832502741826195,
          0.12131372611429606,
          0.032318658778665285,
          0.10520576041735373,
          0.10963111073641278,
          0.1705586382803916,
          0.14820905170437174,
          0.1430611783219147,
          0.145675712806193,
          0.15935135578706408,
          0.1548418746288209,
          0.17151898282408798,
          0.02234467756283949,
          0.15841141083684518,
          0.11602528370810444,
          0.11864031513528511
         ]
        }
       ],
       "layout": {
        "autosize": true,
        "dragmode": "zoom",
        "paper_bgcolor": "rgb(243, 243, 243)",
        "plot_bgcolor": "rgb(243, 243, 243)",
        "template": {
         "data": {
          "bar": [
           {
            "error_x": {
             "color": "#2a3f5f"
            },
            "error_y": {
             "color": "#2a3f5f"
            },
            "marker": {
             "line": {
              "color": "#E5ECF6",
              "width": 0.5
             }
            },
            "type": "bar"
           }
          ],
          "barpolar": [
           {
            "marker": {
             "line": {
              "color": "#E5ECF6",
              "width": 0.5
             }
            },
            "type": "barpolar"
           }
          ],
          "carpet": [
           {
            "aaxis": {
             "endlinecolor": "#2a3f5f",
             "gridcolor": "white",
             "linecolor": "white",
             "minorgridcolor": "white",
             "startlinecolor": "#2a3f5f"
            },
            "baxis": {
             "endlinecolor": "#2a3f5f",
             "gridcolor": "white",
             "linecolor": "white",
             "minorgridcolor": "white",
             "startlinecolor": "#2a3f5f"
            },
            "type": "carpet"
           }
          ],
          "choropleth": [
           {
            "colorbar": {
             "outlinewidth": 0,
             "ticks": ""
            },
            "type": "choropleth"
           }
          ],
          "contour": [
           {
            "colorbar": {
             "outlinewidth": 0,
             "ticks": ""
            },
            "colorscale": [
             [
              0,
              "#0d0887"
             ],
             [
              0.1111111111111111,
              "#46039f"
             ],
             [
              0.2222222222222222,
              "#7201a8"
             ],
             [
              0.3333333333333333,
              "#9c179e"
             ],
             [
              0.4444444444444444,
              "#bd3786"
             ],
             [
              0.5555555555555556,
              "#d8576b"
             ],
             [
              0.6666666666666666,
              "#ed7953"
             ],
             [
              0.7777777777777778,
              "#fb9f3a"
             ],
             [
              0.8888888888888888,
              "#fdca26"
             ],
             [
              1,
              "#f0f921"
             ]
            ],
            "type": "contour"
           }
          ],
          "contourcarpet": [
           {
            "colorbar": {
             "outlinewidth": 0,
             "ticks": ""
            },
            "type": "contourcarpet"
           }
          ],
          "heatmap": [
           {
            "colorbar": {
             "outlinewidth": 0,
             "ticks": ""
            },
            "colorscale": [
             [
              0,
              "#0d0887"
             ],
             [
              0.1111111111111111,
              "#46039f"
             ],
             [
              0.2222222222222222,
              "#7201a8"
             ],
             [
              0.3333333333333333,
              "#9c179e"
             ],
             [
              0.4444444444444444,
              "#bd3786"
             ],
             [
              0.5555555555555556,
              "#d8576b"
             ],
             [
              0.6666666666666666,
              "#ed7953"
             ],
             [
              0.7777777777777778,
              "#fb9f3a"
             ],
             [
              0.8888888888888888,
              "#fdca26"
             ],
             [
              1,
              "#f0f921"
             ]
            ],
            "type": "heatmap"
           }
          ],
          "heatmapgl": [
           {
            "colorbar": {
             "outlinewidth": 0,
             "ticks": ""
            },
            "colorscale": [
             [
              0,
              "#0d0887"
             ],
             [
              0.1111111111111111,
              "#46039f"
             ],
             [
              0.2222222222222222,
              "#7201a8"
             ],
             [
              0.3333333333333333,
              "#9c179e"
             ],
             [
              0.4444444444444444,
              "#bd3786"
             ],
             [
              0.5555555555555556,
              "#d8576b"
             ],
             [
              0.6666666666666666,
              "#ed7953"
             ],
             [
              0.7777777777777778,
              "#fb9f3a"
             ],
             [
              0.8888888888888888,
              "#fdca26"
             ],
             [
              1,
              "#f0f921"
             ]
            ],
            "type": "heatmapgl"
           }
          ],
          "histogram": [
           {
            "marker": {
             "colorbar": {
              "outlinewidth": 0,
              "ticks": ""
             }
            },
            "type": "histogram"
           }
          ],
          "histogram2d": [
           {
            "colorbar": {
             "outlinewidth": 0,
             "ticks": ""
            },
            "colorscale": [
             [
              0,
              "#0d0887"
             ],
             [
              0.1111111111111111,
              "#46039f"
             ],
             [
              0.2222222222222222,
              "#7201a8"
             ],
             [
              0.3333333333333333,
              "#9c179e"
             ],
             [
              0.4444444444444444,
              "#bd3786"
             ],
             [
              0.5555555555555556,
              "#d8576b"
             ],
             [
              0.6666666666666666,
              "#ed7953"
             ],
             [
              0.7777777777777778,
              "#fb9f3a"
             ],
             [
              0.8888888888888888,
              "#fdca26"
             ],
             [
              1,
              "#f0f921"
             ]
            ],
            "type": "histogram2d"
           }
          ],
          "histogram2dcontour": [
           {
            "colorbar": {
             "outlinewidth": 0,
             "ticks": ""
            },
            "colorscale": [
             [
              0,
              "#0d0887"
             ],
             [
              0.1111111111111111,
              "#46039f"
             ],
             [
              0.2222222222222222,
              "#7201a8"
             ],
             [
              0.3333333333333333,
              "#9c179e"
             ],
             [
              0.4444444444444444,
              "#bd3786"
             ],
             [
              0.5555555555555556,
              "#d8576b"
             ],
             [
              0.6666666666666666,
              "#ed7953"
             ],
             [
              0.7777777777777778,
              "#fb9f3a"
             ],
             [
              0.8888888888888888,
              "#fdca26"
             ],
             [
              1,
              "#f0f921"
             ]
            ],
            "type": "histogram2dcontour"
           }
          ],
          "mesh3d": [
           {
            "colorbar": {
             "outlinewidth": 0,
             "ticks": ""
            },
            "type": "mesh3d"
           }
          ],
          "parcoords": [
           {
            "line": {
             "colorbar": {
              "outlinewidth": 0,
              "ticks": ""
             }
            },
            "type": "parcoords"
           }
          ],
          "pie": [
           {
            "automargin": true,
            "type": "pie"
           }
          ],
          "scatter": [
           {
            "marker": {
             "colorbar": {
              "outlinewidth": 0,
              "ticks": ""
             }
            },
            "type": "scatter"
           }
          ],
          "scatter3d": [
           {
            "line": {
             "colorbar": {
              "outlinewidth": 0,
              "ticks": ""
             }
            },
            "marker": {
             "colorbar": {
              "outlinewidth": 0,
              "ticks": ""
             }
            },
            "type": "scatter3d"
           }
          ],
          "scattercarpet": [
           {
            "marker": {
             "colorbar": {
              "outlinewidth": 0,
              "ticks": ""
             }
            },
            "type": "scattercarpet"
           }
          ],
          "scattergeo": [
           {
            "marker": {
             "colorbar": {
              "outlinewidth": 0,
              "ticks": ""
             }
            },
            "type": "scattergeo"
           }
          ],
          "scattergl": [
           {
            "marker": {
             "colorbar": {
              "outlinewidth": 0,
              "ticks": ""
             }
            },
            "type": "scattergl"
           }
          ],
          "scattermapbox": [
           {
            "marker": {
             "colorbar": {
              "outlinewidth": 0,
              "ticks": ""
             }
            },
            "type": "scattermapbox"
           }
          ],
          "scatterpolar": [
           {
            "marker": {
             "colorbar": {
              "outlinewidth": 0,
              "ticks": ""
             }
            },
            "type": "scatterpolar"
           }
          ],
          "scatterpolargl": [
           {
            "marker": {
             "colorbar": {
              "outlinewidth": 0,
              "ticks": ""
             }
            },
            "type": "scatterpolargl"
           }
          ],
          "scatterternary": [
           {
            "marker": {
             "colorbar": {
              "outlinewidth": 0,
              "ticks": ""
             }
            },
            "type": "scatterternary"
           }
          ],
          "surface": [
           {
            "colorbar": {
             "outlinewidth": 0,
             "ticks": ""
            },
            "colorscale": [
             [
              0,
              "#0d0887"
             ],
             [
              0.1111111111111111,
              "#46039f"
             ],
             [
              0.2222222222222222,
              "#7201a8"
             ],
             [
              0.3333333333333333,
              "#9c179e"
             ],
             [
              0.4444444444444444,
              "#bd3786"
             ],
             [
              0.5555555555555556,
              "#d8576b"
             ],
             [
              0.6666666666666666,
              "#ed7953"
             ],
             [
              0.7777777777777778,
              "#fb9f3a"
             ],
             [
              0.8888888888888888,
              "#fdca26"
             ],
             [
              1,
              "#f0f921"
             ]
            ],
            "type": "surface"
           }
          ],
          "table": [
           {
            "cells": {
             "fill": {
              "color": "#EBF0F8"
             },
             "line": {
              "color": "white"
             }
            },
            "header": {
             "fill": {
              "color": "#C8D4E3"
             },
             "line": {
              "color": "white"
             }
            },
            "type": "table"
           }
          ]
         },
         "layout": {
          "annotationdefaults": {
           "arrowcolor": "#2a3f5f",
           "arrowhead": 0,
           "arrowwidth": 1
          },
          "coloraxis": {
           "colorbar": {
            "outlinewidth": 0,
            "ticks": ""
           }
          },
          "colorscale": {
           "diverging": [
            [
             0,
             "#8e0152"
            ],
            [
             0.1,
             "#c51b7d"
            ],
            [
             0.2,
             "#de77ae"
            ],
            [
             0.3,
             "#f1b6da"
            ],
            [
             0.4,
             "#fde0ef"
            ],
            [
             0.5,
             "#f7f7f7"
            ],
            [
             0.6,
             "#e6f5d0"
            ],
            [
             0.7,
             "#b8e186"
            ],
            [
             0.8,
             "#7fbc41"
            ],
            [
             0.9,
             "#4d9221"
            ],
            [
             1,
             "#276419"
            ]
           ],
           "sequential": [
            [
             0,
             "#0d0887"
            ],
            [
             0.1111111111111111,
             "#46039f"
            ],
            [
             0.2222222222222222,
             "#7201a8"
            ],
            [
             0.3333333333333333,
             "#9c179e"
            ],
            [
             0.4444444444444444,
             "#bd3786"
            ],
            [
             0.5555555555555556,
             "#d8576b"
            ],
            [
             0.6666666666666666,
             "#ed7953"
            ],
            [
             0.7777777777777778,
             "#fb9f3a"
            ],
            [
             0.8888888888888888,
             "#fdca26"
            ],
            [
             1,
             "#f0f921"
            ]
           ],
           "sequentialminus": [
            [
             0,
             "#0d0887"
            ],
            [
             0.1111111111111111,
             "#46039f"
            ],
            [
             0.2222222222222222,
             "#7201a8"
            ],
            [
             0.3333333333333333,
             "#9c179e"
            ],
            [
             0.4444444444444444,
             "#bd3786"
            ],
            [
             0.5555555555555556,
             "#d8576b"
            ],
            [
             0.6666666666666666,
             "#ed7953"
            ],
            [
             0.7777777777777778,
             "#fb9f3a"
            ],
            [
             0.8888888888888888,
             "#fdca26"
            ],
            [
             1,
             "#f0f921"
            ]
           ]
          },
          "colorway": [
           "#636efa",
           "#EF553B",
           "#00cc96",
           "#ab63fa",
           "#FFA15A",
           "#19d3f3",
           "#FF6692",
           "#B6E880",
           "#FF97FF",
           "#FECB52"
          ],
          "font": {
           "color": "#2a3f5f"
          },
          "geo": {
           "bgcolor": "white",
           "lakecolor": "white",
           "landcolor": "#E5ECF6",
           "showlakes": true,
           "showland": true,
           "subunitcolor": "white"
          },
          "hoverlabel": {
           "align": "left"
          },
          "hovermode": "closest",
          "mapbox": {
           "style": "light"
          },
          "paper_bgcolor": "white",
          "plot_bgcolor": "#E5ECF6",
          "polar": {
           "angularaxis": {
            "gridcolor": "white",
            "linecolor": "white",
            "ticks": ""
           },
           "bgcolor": "#E5ECF6",
           "radialaxis": {
            "gridcolor": "white",
            "linecolor": "white",
            "ticks": ""
           }
          },
          "scene": {
           "xaxis": {
            "backgroundcolor": "#E5ECF6",
            "gridcolor": "white",
            "gridwidth": 2,
            "linecolor": "white",
            "showbackground": true,
            "ticks": "",
            "zerolinecolor": "white"
           },
           "yaxis": {
            "backgroundcolor": "#E5ECF6",
            "gridcolor": "white",
            "gridwidth": 2,
            "linecolor": "white",
            "showbackground": true,
            "ticks": "",
            "zerolinecolor": "white"
           },
           "zaxis": {
            "backgroundcolor": "#E5ECF6",
            "gridcolor": "white",
            "gridwidth": 2,
            "linecolor": "white",
            "showbackground": true,
            "ticks": "",
            "zerolinecolor": "white"
           }
          },
          "shapedefaults": {
           "line": {
            "color": "#2a3f5f"
           }
          },
          "ternary": {
           "aaxis": {
            "gridcolor": "white",
            "linecolor": "white",
            "ticks": ""
           },
           "baxis": {
            "gridcolor": "white",
            "linecolor": "white",
            "ticks": ""
           },
           "bgcolor": "#E5ECF6",
           "caxis": {
            "gridcolor": "white",
            "linecolor": "white",
            "ticks": ""
           }
          },
          "title": {
           "x": 0.05
          },
          "xaxis": {
           "automargin": true,
           "gridcolor": "white",
           "linecolor": "white",
           "ticks": "",
           "title": {
            "standoff": 15
           },
           "zerolinecolor": "white",
           "zerolinewidth": 2
          },
          "yaxis": {
           "automargin": true,
           "gridcolor": "white",
           "linecolor": "white",
           "ticks": "",
           "title": {
            "standoff": 15
           },
           "zerolinecolor": "white",
           "zerolinewidth": 2
          }
         }
        },
        "title": {
         "font": {
          "color": "#7f7f7f",
          "family": "Arial",
          "size": 22
         },
         "text": "Correlação das features com o Target"
        },
        "xaxis": {
         "autorange": true,
         "range": [
          -0.5124137931034483,
          2.5
         ],
         "showspikes": false,
         "title": {
          "text": "Status"
         },
         "type": "category"
        },
        "yaxis": {
         "autorange": true,
         "range": [
          -0.31008399786588603,
          0.23196628990876306
         ],
         "showspikes": false,
         "title": {
          "text": "Taxa de Juros"
         },
         "type": "linear"
        }
       }
      },
      "image/png": "[encoded data removed]",
      "text/html": [
       "<div>\n",
       "        \n",
       "        \n",
       "            <div id=\"2d2cd19c-e015-4da2-8eb0-a8095ed8569d\" class=\"plotly-graph-div\" style=\"height:525px; width:100%;\"></div>\n",
       "            <script type=\"text/javascript\">\n",
       "                require([\"plotly\"], function(Plotly) {\n",
       "                    window.PLOTLYENV=window.PLOTLYENV || {};\n",
       "                    \n",
       "                if (document.getElementById(\"2d2cd19c-e015-4da2-8eb0-a8095ed8569d\")) {\n",
       "                    Plotly.newPlot(\n",
       "                        '2d2cd19c-e015-4da2-8eb0-a8095ed8569d',\n",
       "                        [{\"boxpoints\": \"all\", \"marker\": {\"color\": \"#ff0000\"}, \"name\": \"ex_preds\", \"type\": \"box\", \"y\": [0.06036443573079751, -0.1231286484651977, -0.11941440154648436, 0.03376945244955014, -0.02356270797734068, 0.07917380022218809, 0.09136884739835316, 0.04130587897927838, -0.011712780321797818, -0.003984201247016629, 0.044024414803097565, -0.027723608099419983, 0.16503058596668424, 0.06593290818547831, 0.05915484883756207, 0.026541066650542972, 0.10062714978604179, 0.1730802379866875, 0.030573122920504854, -0.04094008113632282, -0.1685206400828404, 0.13203479857446923, 0.08993315677350935, 0.05507335582377749, 0.095252495176598, 0.07247340027452179, -0.049656227836177354, 0.09626875191957285, 0.08475769608907273, 0.15005458422916423, 0.170032565411701, 0.04212218411333101, 0.06757866180370653, 0.041844706318458366, 0.07905670311634867, 0.07330934237876538, 0.036351853962129366, 0.12963547714322432, 0.050536320686841954, 0.09852929856905172, 0.1211426843821335, 0.07003910501000989, 0.07325808576163659, 0.07811762776752736, 0.08733830801229289, 0.13692390680700295, 0.09085367477800085, 0.06723415643161668, 0.14363460935911251, 0.06503655460196489, 0.08209372823227555, 0.13806570678922583, 0.10632014187391088, 0.1114737137705142, 0.029188805636911924, 0.06954930711847881, 0.05175247374821859, 0.1510520014176624, 0.03902615627908163, 0.0767141677786392, 0.05127325017398474, 0.07832198719056158, 0.07651320654427855, 0.06909049923427948, 0.08797713014815187, 0.17190023105978225, 0.13980923603274056, 0.04572083211018815, -0.10045276278016939, 0.09074520008988181, 0.10690914015422148, 0.040320262859683716, 0.138703209225975, 0.06877236622672112, 0.044187333775581206, 0.05041341695882486, 0.04791282289903204, 0.15285331052967652, 0.12470319823037368, 0.07017917969436945, -0.1676343323027226, 0.02856090390704904, 0.12693325972591324, 0.045110570177739895, 0.04458615810777924, 0.0762524566478338, 0.1202646954556267, 0.1584208093443909, 0.04789261559198569, 0.12402260605996225, 0.08980744619457316, 0.04878339891790694, 0.14928507904588148, 0.08135293625304894, -0.11338843225335232, 0.09273873829424109, 0.03876722122799511, 0.09512100269080426, 0.17185886093990982, 0.030880840570288677, 0.10842696079751704, 0.18784055360616814, -0.03508642522777114, -0.010187483657485707, 0.07602480908209, 0.07928344507490875, 0.10179254629036198, 0.04286999080147606, 0.1649363136561965, 0.08946389267430349, -0.021756982828643658, 0.1560418253901017, 0.0977863334408706, -0.002048953091945005, 0.002814131561994697, 0.004053241629598116, 0.0948497711012, 0.03886803254734866, 0.1592495723181738, 0.11025778995161482, 0.010640960941170476, 0.021383342101085057, -0.013854343635674745, 0.07948923525071151, 0.10353634446993604, 0.07978168052705839, 0.018380721150360307, 0.08995128542448912, -0.006668595446996801, 0.031320221092016154, 0.0879579837438038, 0.1575505081226875, 0.0689391685322655, 0.047229285831927974, 0.003042342774435835, 0.046514385728665196, -0.04104881609554955, -0.10430556084048742, -0.21132255039765746, -0.2682324030784898, -0.15839365812717576, -0.2829814834771536, -0.27034854212486986, -0.20625364700267076, -0.020604786765608465, -0.11325099671713598, -0.2749829507485818, -0.19983486536027587, -0.1714079205695444, -0.1983586340941313, -0.039482882378687294, -0.026909947299778268, -0.0007230461866615619, -0.011434981660701848, 0.004319427168063364, 0.0006036171611740602, -0.0581710077570497, 0.018647796723836357, 0.07772559823067389, -0.005894730546460782, 0.024353148746255722, 0.02928979053622869, -0.05633932306850632, 0.07455942738408601, -0.052148929638177126, 0.027397007129753338, 0.007504592980124266, 0.07440122692807337, 0.009942993943735648, -0.04419007589380372, 0.05172533251675063, -0.007187679264913325, 0.008154211637827362, -0.06366017402656843, -0.007758129891108985, -0.03374561584782299, -0.05053761651482599, 0.014898720569099248, 0.012882537246359198, 0.12403380767696424, -0.026297645639925427, -0.034888051870819614, 0.0619598483326166, 0.037028561713714124, -0.0048786669818028225, 0.03607416362510394, -0.05438790945172942, -0.07664922110534209, 0.0705108622239681, 0.028887299562153305, 0.0799882329713865, 0.11829650439526729, -0.03859339469084545, 0.05490213817839582, -0.023150186822171556, -0.05994880695094689, -0.03292561262709264, -0.030523584516484563, -0.018482298111337926, 0.009743194940624946, 0.09022601331677282, -0.02135380952259777, 0.06344729308350423, 0.004963366613808374, 0.03644291970369282, -0.10615475644288636, -0.021433475039842616, 0.052264476219659614, 0.08567560267561361, 0.05180753752647962, 0.044742780094056855, -0.03705624092402131, -0.056629773003255925, 0.03411489247506714, -0.05757824277784901, 0.023452188354712345, -0.0752975720799519, 0.050831257215185215, -0.009854456717490943, 0.03539623452918266, 0.049644226256065786, 0.017899779203307514, -0.03672405130734637, 0.0049982935004520435, -0.014448607925500786, 0.1360585951456973, -0.03100584952326598, 0.008387516769221892, -0.05729969414265754, -0.035541529304727905, 0.09901010998362768, -0.05684650932852603, 0.06201789039211955, -0.04094513005583658, -0.040844689566926703, 0.030894094215049753, 0.04183828524168614, 0.0031710365278152398, 0.13066754028758287, -0.0027829498396510564, -0.10322188015008733, 0.04510932521269719, 0.013751812694276142, 0.020122703619705876, -0.022056915410903197, 0.02569454647912065, 0.07188396055682643, 0.04266184564388685, 0.03253213798111841, 0.060516116604909076, 0.020972032216363026, -0.0969115670982895, 0.022421521803679567, -0.03180807809801444, 0.002996762074540194, -0.010900541643824273, 0.06380639504996449, 0.0820639214104083, 0.013798123803033946, -0.10377471918921453, -0.07773642340624591, -0.07213884814146347, 0.01042040336348499, -0.07590705349217214, 0.00964846388030329, 0.03759458630456974, 0.00976063584005147, 0.009726549443839449, 0.11897470761494645, 0.05346999185507622, 0.045867385012717476, 0.05689187178375807, 0.05289181660008559, 0.0147408015248286, 0.05676630426988344, 0.03788568564307062, 0.042537066676991975, 0.018625472403508987, 0.07324041454546926, 0.001662018809966725, 0.014826878943486044, 0.09361673294691214, 0.012969380223348936, 0.033054932498511394, 0.05990104786877586, 0.044325373630167954, 0.11627407991600468, 0.03309818903017433, 0.09130917197168219, 0.03973946970457337, 0.06277150769238192, 0.0584204392894883, 0.013005468297073672, 0.009509917664677979, 0.10508258428436025, 0.1224830816988458, 0.027155504623467625, 0.06150506926736212, 0.048049055977185444, 0.12408145420270213, 0.09600932687288204, 0.10232713155078406, 0.11185568431313718, 0.11002566685154651, 0.11196809131656088, 0.12297315037065333, 0.025295379757813225, 0.12621607585629716, 0.005488409057546896, 0.05390010867175597]}, {\"boxpoints\": \"all\", \"marker\": {\"color\": \"#ffa700\"}, \"name\": \"lr\", \"type\": \"box\", \"y\": [0.09406569767116756, 0.011474484277711377, 0.01961789794924774, 0.05055930477356904, 0.07289785482088848, 0.10790637243355664, 0.11280247670023076, 0.07120792561303677, 0.07006703903693881, 0.08202719721587623, 0.053743981826155834, 0.06622953856820504, 0.1562746756927118, 0.11841742565759057, 0.12426483650708169, 0.09330141568984111, 0.1543348448325965, 0.19222650564113025, 0.11229162231196774, 0.06800199437447996, -0.05022622663191476, 0.15750682070611818, 0.1444333693945145, 0.10683396702948683, 0.1383692975862002, 0.13894029154735887, 0.061750555509814044, 0.14042759583047562, 0.12215094620926821, 0.1852347112254669, 0.17729522548915638, 0.11654270028209285, 0.12916648656858917, 0.12023822487185021, 0.12136366753152573, 0.12616565943588248, 0.115295691280612, 0.17164340105851433, 0.12149301782001458, 0.14607195423142516, 0.163918923988599, 0.13165458268989805, 0.1335535644243634, 0.1137368862109977, 0.14746043410835505, 0.1573590608593807, 0.13897684444571604, 0.13314795347226216, 0.18521166758484287, 0.12603143287464544, 0.126458714290244, 0.17397634647018997, 0.18421901209094596, 0.1552957107882703, 0.12599645135825324, 0.13897837363505072, 0.11905420617821239, 0.1834643478574988, 0.12426965182938025, 0.11636463968393344, 0.12479669736082306, 0.11605402758263539, 0.13399070789250117, 0.14013806143756413, 0.13884147739165742, 0.1953642618112703, 0.1669606774305556, 0.11952621290399602, -0.021324374305592617, 0.13939956093197722, 0.17730694740389927, 0.11308714944700124, 0.1770539372518585, 0.13257043158308746, 0.13959575531484716, 0.11973608290357254, 0.11397024519395865, 0.1791224320422258, 0.16806926429214103, 0.12871209784754042, -0.04786050483429625, 0.1256820849607804, 0.1609956961241531, 0.11492399961624652, 0.12385384117169668, 0.1479608148263715, 0.16717054654782665, 0.1927198191044315, 0.12883643246142418, 0.157293272334273, 0.15123292057951704, 0.1132154412010657, 0.1861509253371691, 0.13570511793152798, -0.02512839581646631, 0.13616514245710098, 0.13176577311274087, 0.1309340583842766, 0.17706061484808408, 0.11689324231007, 0.1537604795115633, 0.187452090074113, 0.08112067242646956, 0.08692315576106693, 0.13495995818734177, 0.10875304219375412, 0.14326991960988425, 0.12063040094188147, 0.17451346274474072, 0.17853055584931374, 0.08876579961060128, 0.18225026652665166, 0.13449446921898933, 0.12096079179203935, 0.10149303106505696, 0.0778641224903464, 0.15870644419190622, 0.1872966627432441, 0.17181225330263683, 0.1496199586644535, 0.1415763364666747, 0.07945697839808526, 0.08289720520618164, 0.13287473384469334, 0.13514237210411692, 0.11462668434169562, 0.08363224255728025, 0.17069345902564043, 0.08344244599786446, 0.1360756240802672, 0.14606393630268932, 0.1851184552358533, 0.13904039508355523, 0.11512339357703558, 0.07115878114310581, 0.1866291742697545, 0.08814544831357438, 0.04178426554874979, -0.014989841723021828, -0.05474174204604992, 0.014361542457656449, -0.07520493028359139, -0.061000817386469536, -0.015443677037139001, 0.09776232560301304, 0.03680989311695393, -0.06499432728964474, -0.014542202418979586, 0.002254672322666733, -0.015016606558187644, 0.07526392130858625, 0.07916387374113615, 0.06786727590204913, 0.12992021707929277, 0.055142901765620714, 0.0526124950813207, 0.03819974491089848, 0.10039470564549559, 0.13239383126750645, 0.05471856467729212, 0.13051804682522464, 0.03877624139299718, 0.059156949782493154, 0.17516651270779557, 0.026213638872391018, 0.11137613972549376, 0.08640375830074043, 0.1000966130979508, 0.10077280977958944, 0.07326791111406582, 0.16082220717581255, 0.07756981558505456, 0.06448817918878964, 0.028547526271234126, 0.07584907884443967, 0.07761096958782834, 0.03570795445671887, 0.14396216922090804, 0.04125524962917889, 0.20485481673643346, 0.052896018698917344, 0.04907294720562918, 0.11783677558934058, 0.1674120112738517, 0.1337439336618036, 0.16073970651498964, 0.026200268062865236, 0.02374112799813587, 0.09657447146779341, 0.10646166158429143, 0.12975840072772826, 0.20343854121000354, 0.06577561251567286, 0.08338634195562775, 0.10149279327698622, -0.007574547970049293, 0.0982634949798616, 0.051141053554146894, 0.1069018402444657, 0.043719011047307604, 0.16472037486617527, 0.0493747207958439, 0.101362138627521, 0.10850297869747953, 0.08308330009100229, 0.01689217160763209, 0.04491752197620254, 0.09905457841465037, 0.17837171032047291, 0.1328421868481278, 0.1243141491987004, 0.07539920237142309, 0.0374637540183546, 0.1175977519407329, 0.03652043804673297, 0.06728016748823736, 0.0395430174077819, 0.09605057795867616, 0.05515650495603158, 0.1535283282824882, 0.09611190779769699, 0.07732004910969026, 0.09166679415217657, 0.05544494464516141, 0.05596762894146234, 0.11607229671572178, 0.05885881456529946, 0.10782520089387024, 0.052501580107873425, 0.07679896922180529, 0.19160119671326237, 0.03127277151668146, 0.114022129379186, 0.08087329887211363, 0.0547704376004799, 0.09463704400142138, 0.12627909438308202, 0.06900033352805585, 0.12250546042748396, 0.07084461467519301, 0.020329427888874076, 0.11611978392160612, 0.06830777279200331, 0.0798107579199691, 0.10604432831316746, 0.10752245549104521, 0.10883879692066516, 0.12728547205573976, 0.10361224463715728, 0.11737044319810047, 0.049429452200089444, 0.02498678591336752, 0.07585560206820899, 0.05516829186520719, 0.14612578571205162, 0.06145353760798391, 0.10325830927672125, 0.13346151829581582, 0.1594725276148349, 0.01369960695414029, 0.033815557731008895, -0.013463190320518419, 0.14423771649496894, 0.02210078627365818, 0.07487728100062335, 0.12224753451560788, 0.026472617511844806, 0.11198321010514196, 0.1539016089549423, 0.09741073338839515, 0.11658865347745202, 0.100500192541363, 0.049409450318105085, 0.09639223388312884, 0.09661118076978045, 0.11963167766835145, 0.1052958388938489, 0.07241251111980236, 0.12327581177433795, 0.10706650154693304, 0.09600489249198932, 0.13400929516990348, 0.08797647312623737, 0.11190804700656076, 0.10504586163978626, 0.044177962246632854, 0.1329302271681741, 0.04671677892992784, 0.12526477564683555, 0.08398242066451789, 0.12692203500440816, 0.09899603653971259, 0.09725951118619885, 0.11647252259149171, 0.1483199213809997, 0.1213055262082774, 0.03231682889098937, 0.10520085445312449, 0.10963174559799407, 0.17055369580556423, 0.14820387473703456, 0.14305498688785334, 0.14567092821623506, 0.15934413504225364, 0.15483760281316883, 0.17151389512186985, 0.02234247109418302, 0.15840489927454152, 0.11601767846821269, 0.11863473052261833]}, {\"boxpoints\": \"all\", \"marker\": {\"color\": \"#afff00\"}, \"name\": \"ridge\", \"type\": \"box\", \"y\": [0.09406907492120688, 0.011481786131826745, 0.01962465402187807, 0.050562546120980746, 0.07290189408677075, 0.1079092061163701, 0.11280637103150268, 0.07121422909125755, 0.07007310112674704, 0.08203051997906212, 0.05374869102400526, 0.0662360731094445, 0.15627861818048847, 0.11842613145872534, 0.1242745440290545, 0.09330591549047809, 0.1543447290680762, 0.19223246780888242, 0.11229892884768601, 0.06800643200099822, -0.050227366969488686, 0.1575127350749516, 0.14444045016703339, 0.10683993229433203, 0.13837478331884642, 0.13894586520648244, 0.06175350458380674, 0.14043373759931752, 0.12215792299131197, 0.185245616101633, 0.17729826687799397, 0.11655435861757402, 0.1291727792670033, 0.12024275721991459, 0.12136805143528645, 0.1261703666635413, 0.11530177390624222, 0.17165073974850492, 0.12149781651693577, 0.1460795422638628, 0.16392599605907518, 0.13166229228729312, 0.13356275992327274, 0.11374177606633698, 0.147465281329738, 0.15736658141838097, 0.13898421322269236, 0.13315310661513338, 0.18521849592630166, 0.12603857303179752, 0.1264632767592708, 0.17398088904715717, 0.18422825335170548, 0.1553007478699861, 0.12600306078951246, 0.13898744395787954, 0.11906021465183737, 0.1834703712557922, 0.12428077444291716, 0.11637128474590498, 0.12480182287503072, 0.11605880342956772, 0.13399860877981054, 0.14014620286057713, 0.13884744573095723, 0.19536986015479696, 0.16696737352210522, 0.11953332544515276, -0.021323147166157238, 0.13940381429144585, 0.17731677802868365, 0.11309680987421408, 0.1770628936566866, 0.1325781673475085, 0.13960213253928933, 0.1197426706244436, 0.11397597062096723, 0.17912853145815016, 0.16807824062692925, 0.12871680521029844, -0.047859274674440705, 0.1256882372728646, 0.1610033635915326, 0.11493199569362679, 0.12386360348618422, 0.14796652533645965, 0.16717553683615735, 0.19272816360964964, 0.12884102833979644, 0.1573004834948636, 0.15123974718654098, 0.11322146002959897, 0.18616066723764127, 0.13571118042305091, -0.025125271181922277, 0.13616963920160968, 0.1317710333787534, 0.13093842683726334, 0.17706493639272064, 0.11689812033059212, 0.15376648276576113, 0.18745728489518731, 0.08112657889702493, 0.08693142253455512, 0.13496899533967366, 0.10876028391889672, 0.1432761623535023, 0.12063634946385131, 0.1745188781538874, 0.17853811833428965, 0.08877077668103246, 0.1822550346437888, 0.1345005937346223, 0.12096754267391967, 0.10149689637609975, 0.07786727873329198, 0.15870847362088766, 0.18729769650381387, 0.17181827483467552, 0.14962674419101155, 0.14158252588179157, 0.07946408541411426, 0.08290072843933714, 0.13288116301880806, 0.13514845420988225, 0.11463216403311184, 0.08363720227555217, 0.17070126200730318, 0.08345053949970924, 0.13607924321210962, 0.14606944238028546, 0.18512004694502537, 0.13904776239778607, 0.11512998463836181, 0.07116410884373098, 0.1866372839943589, 0.08814678387118931, 0.04178765965572157, -0.0149844721319674, -0.05473930105042766, 0.014364215325374472, -0.07519850189678959, -0.06099620024287471, -0.015440768959601978, 0.09776813477999022, 0.03681578114191783, -0.06499287480403199, -0.014538050074076513, 0.0022594827033475258, -0.015009859839425141, 0.07526740156192394, 0.07916369613034012, 0.06787418597769866, 0.12992954346099667, 0.05514438302007758, 0.052618892900595564, 0.038206339096597694, 0.10039508638458211, 0.13239181416592607, 0.054726928827272335, 0.13052641795088354, 0.03877924242767254, 0.05916045717692062, 0.17517333263829166, 0.02621763186785143, 0.11138211564210106, 0.08640859024601934, 0.10009687375839263, 0.1007782642035242, 0.0732717802333261, 0.16082953097163175, 0.07757599735005924, 0.06449264919689039, 0.028549571838828863, 0.07585637664357402, 0.07761371738342279, 0.03571393314058478, 0.1439660214655439, 0.0412603982427833, 0.2048637755200306, 0.052896589603510326, 0.049075034191385154, 0.11783766760362871, 0.16741906426066117, 0.13374853968212536, 0.16074870372831768, 0.02620229590433481, 0.02374730214313951, 0.09657879974865692, 0.10647031137070753, 0.12976464933829437, 0.20344656441803483, 0.0657746362941431, 0.08339241366844612, 0.10149524699185532, -0.00757357940685549, 0.09826921084934362, 0.05114539211997926, 0.10691491129877495, 0.043721368237206897, 0.16472981220225377, 0.04937933596797694, 0.10136721168395099, 0.10850875718677215, 0.0830857931320573, 0.016898958488673517, 0.04492535067525744, 0.09906467745197, 0.17837796607678158, 0.13284438903698184, 0.12431781303331203, 0.07540319511818067, 0.03746891862341104, 0.11760319068368665, 0.036525878630266205, 0.06728574507813494, 0.039548660100810006, 0.09605856624799163, 0.055162719440933025, 0.1535329783546415, 0.0961129623806152, 0.07732104542561563, 0.09166831739159254, 0.05544972110357654, 0.05597411216586216, 0.1160751702519562, 0.05886607335176219, 0.10783660601161602, 0.05250688135616638, 0.07679894023332927, 0.19160889314537669, 0.03127487558487595, 0.11403016335804467, 0.08087162405136611, 0.05477074121252256, 0.09463572145969974, 0.12628083171770563, 0.06900532734508312, 0.12250764344733217, 0.07084919731528301, 0.020333342733781935, 0.11612131700190281, 0.06831534266119663, 0.07981021682577162, 0.1060474391645604, 0.10753398331370573, 0.10884026476374677, 0.12729129290564617, 0.10361815156035163, 0.1173754229198055, 0.04943629900372067, 0.024987825410396906, 0.0758627640447797, 0.05516498966176106, 0.14613462222503887, 0.06146000565217442, 0.10326298101335542, 0.13346824810411032, 0.15947639449746756, 0.013705115501464905, 0.03382204945520395, -0.013464523514093133, 0.1442437035698553, 0.022106828332650784, 0.07488466974404309, 0.12225001249665586, 0.02647404788184575, 0.11199147264870335, 0.15390860272311568, 0.0974159577456861, 0.1165951457979133, 0.10050405975251947, 0.04941206845602887, 0.09639230449834597, 0.09661600794159098, 0.11963757126899996, 0.10530035656597253, 0.07241824945099111, 0.12328425591450745, 0.10707500064819093, 0.0960082287959496, 0.13401281993273848, 0.0879768134148465, 0.11190846674566023, 0.10505364349766913, 0.04417965591685872, 0.13293114401384093, 0.04671731096594894, 0.1252719848850493, 0.08398988015902831, 0.12693086376031004, 0.09900419775457305, 0.09726364664800424, 0.11648046168540906, 0.14832502741826195, 0.12131372611429606, 0.032318658778665285, 0.10520576041735373, 0.10963111073641278, 0.1705586382803916, 0.14820905170437174, 0.1430611783219147, 0.145675712806193, 0.15935135578706408, 0.1548418746288209, 0.17151898282408798, 0.02234467756283949, 0.15841141083684518, 0.11602528370810444, 0.11864031513528511]}],\n",
       "                        {\"paper_bgcolor\": \"rgb(243, 243, 243)\", \"plot_bgcolor\": \"rgb(243, 243, 243)\", \"template\": {\"data\": {\"bar\": [{\"error_x\": {\"color\": \"#2a3f5f\"}, \"error_y\": {\"color\": \"#2a3f5f\"}, \"marker\": {\"line\": {\"color\": \"#E5ECF6\", \"width\": 0.5}}, \"type\": \"bar\"}], \"barpolar\": [{\"marker\": {\"line\": {\"color\": \"#E5ECF6\", \"width\": 0.5}}, \"type\": \"barpolar\"}], \"carpet\": [{\"aaxis\": {\"endlinecolor\": \"#2a3f5f\", \"gridcolor\": \"white\", \"linecolor\": \"white\", \"minorgridcolor\": \"white\", \"startlinecolor\": \"#2a3f5f\"}, \"baxis\": {\"endlinecolor\": \"#2a3f5f\", \"gridcolor\": \"white\", \"linecolor\": \"white\", \"minorgridcolor\": \"white\", \"startlinecolor\": \"#2a3f5f\"}, \"type\": \"carpet\"}], \"choropleth\": [{\"colorbar\": {\"outlinewidth\": 0, \"ticks\": \"\"}, \"type\": \"choropleth\"}], \"contour\": [{\"colorbar\": {\"outlinewidth\": 0, \"ticks\": \"\"}, \"colorscale\": [[0.0, \"#0d0887\"], [0.1111111111111111, \"#46039f\"], [0.2222222222222222, \"#7201a8\"], [0.3333333333333333, \"#9c179e\"], [0.4444444444444444, \"#bd3786\"], [0.5555555555555556, \"#d8576b\"], [0.6666666666666666, \"#ed7953\"], [0.7777777777777778, \"#fb9f3a\"], [0.8888888888888888, \"#fdca26\"], [1.0, \"#f0f921\"]], \"type\": \"contour\"}], \"contourcarpet\": [{\"colorbar\": {\"outlinewidth\": 0, \"ticks\": \"\"}, \"type\": \"contourcarpet\"}], \"heatmap\": [{\"colorbar\": {\"outlinewidth\": 0, \"ticks\": \"\"}, \"colorscale\": [[0.0, \"#0d0887\"], [0.1111111111111111, \"#46039f\"], [0.2222222222222222, \"#7201a8\"], [0.3333333333333333, \"#9c179e\"], [0.4444444444444444, \"#bd3786\"], [0.5555555555555556, \"#d8576b\"], [0.6666666666666666, \"#ed7953\"], [0.7777777777777778, \"#fb9f3a\"], [0.8888888888888888, \"#fdca26\"], [1.0, \"#f0f921\"]], \"type\": \"heatmap\"}], \"heatmapgl\": [{\"colorbar\": {\"outlinewidth\": 0, \"ticks\": \"\"}, \"colorscale\": [[0.0, \"#0d0887\"], [0.1111111111111111, \"#46039f\"], [0.2222222222222222, \"#7201a8\"], [0.3333333333333333, \"#9c179e\"], [0.4444444444444444, \"#bd3786\"], [0.5555555555555556, \"#d8576b\"], [0.6666666666666666, \"#ed7953\"], [0.7777777777777778, \"#fb9f3a\"], [0.8888888888888888, \"#fdca26\"], [1.0, \"#f0f921\"]], \"type\": \"heatmapgl\"}], \"histogram\": [{\"marker\": {\"colorbar\": {\"outlinewidth\": 0, \"ticks\": \"\"}}, \"type\": \"histogram\"}], \"histogram2d\": [{\"colorbar\": {\"outlinewidth\": 0, \"ticks\": \"\"}, \"colorscale\": [[0.0, \"#0d0887\"], [0.1111111111111111, \"#46039f\"], [0.2222222222222222, \"#7201a8\"], [0.3333333333333333, \"#9c179e\"], [0.4444444444444444, \"#bd3786\"], [0.5555555555555556, \"#d8576b\"], [0.6666666666666666, \"#ed7953\"], [0.7777777777777778, \"#fb9f3a\"], [0.8888888888888888, \"#fdca26\"], [1.0, \"#f0f921\"]], \"type\": \"histogram2d\"}], \"histogram2dcontour\": [{\"colorbar\": {\"outlinewidth\": 0, \"ticks\": \"\"}, \"colorscale\": [[0.0, \"#0d0887\"], [0.1111111111111111, \"#46039f\"], [0.2222222222222222, \"#7201a8\"], [0.3333333333333333, \"#9c179e\"], [0.4444444444444444, \"#bd3786\"], [0.5555555555555556, \"#d8576b\"], [0.6666666666666666, \"#ed7953\"], [0.7777777777777778, \"#fb9f3a\"], [0.8888888888888888, \"#fdca26\"], [1.0, \"#f0f921\"]], \"type\": \"histogram2dcontour\"}], \"mesh3d\": [{\"colorbar\": {\"outlinewidth\": 0, \"ticks\": \"\"}, \"type\": \"mesh3d\"}], \"parcoords\": [{\"line\": {\"colorbar\": {\"outlinewidth\": 0, \"ticks\": \"\"}}, \"type\": \"parcoords\"}], \"pie\": [{\"automargin\": true, \"type\": \"pie\"}], \"scatter\": [{\"marker\": {\"colorbar\": {\"outlinewidth\": 0, \"ticks\": \"\"}}, \"type\": \"scatter\"}], \"scatter3d\": [{\"line\": {\"colorbar\": {\"outlinewidth\": 0, \"ticks\": \"\"}}, \"marker\": {\"colorbar\": {\"outlinewidth\": 0, \"ticks\": \"\"}}, \"type\": \"scatter3d\"}], \"scattercarpet\": [{\"marker\": {\"colorbar\": {\"outlinewidth\": 0, \"ticks\": \"\"}}, \"type\": \"scattercarpet\"}], \"scattergeo\": [{\"marker\": {\"colorbar\": {\"outlinewidth\": 0, \"ticks\": \"\"}}, \"type\": \"scattergeo\"}], \"scattergl\": [{\"marker\": {\"colorbar\": {\"outlinewidth\": 0, \"ticks\": \"\"}}, \"type\": \"scattergl\"}], \"scattermapbox\": [{\"marker\": {\"colorbar\": {\"outlinewidth\": 0, \"ticks\": \"\"}}, \"type\": \"scattermapbox\"}], \"scatterpolar\": [{\"marker\": {\"colorbar\": {\"outlinewidth\": 0, \"ticks\": \"\"}}, \"type\": \"scatterpolar\"}], \"scatterpolargl\": [{\"marker\": {\"colorbar\": {\"outlinewidth\": 0, \"ticks\": \"\"}}, \"type\": \"scatterpolargl\"}], \"scatterternary\": [{\"marker\": {\"colorbar\": {\"outlinewidth\": 0, \"ticks\": \"\"}}, \"type\": \"scatterternary\"}], \"surface\": [{\"colorbar\": {\"outlinewidth\": 0, \"ticks\": \"\"}, \"colorscale\": [[0.0, \"#0d0887\"], [0.1111111111111111, \"#46039f\"], [0.2222222222222222, \"#7201a8\"], [0.3333333333333333, \"#9c179e\"], [0.4444444444444444, \"#bd3786\"], [0.5555555555555556, \"#d8576b\"], [0.6666666666666666, \"#ed7953\"], [0.7777777777777778, \"#fb9f3a\"], [0.8888888888888888, \"#fdca26\"], [1.0, \"#f0f921\"]], \"type\": \"surface\"}], \"table\": [{\"cells\": {\"fill\": {\"color\": \"#EBF0F8\"}, \"line\": {\"color\": \"white\"}}, \"header\": {\"fill\": {\"color\": \"#C8D4E3\"}, \"line\": {\"color\": \"white\"}}, \"type\": \"table\"}]}, \"layout\": {\"annotationdefaults\": {\"arrowcolor\": \"#2a3f5f\", \"arrowhead\": 0, \"arrowwidth\": 1}, \"coloraxis\": {\"colorbar\": {\"outlinewidth\": 0, \"ticks\": \"\"}}, \"colorscale\": {\"diverging\": [[0, \"#8e0152\"], [0.1, \"#c51b7d\"], [0.2, \"#de77ae\"], [0.3, \"#f1b6da\"], [0.4, \"#fde0ef\"], [0.5, \"#f7f7f7\"], [0.6, \"#e6f5d0\"], [0.7, \"#b8e186\"], [0.8, \"#7fbc41\"], [0.9, \"#4d9221\"], [1, \"#276419\"]], \"sequential\": [[0.0, \"#0d0887\"], [0.1111111111111111, \"#46039f\"], [0.2222222222222222, \"#7201a8\"], [0.3333333333333333, \"#9c179e\"], [0.4444444444444444, \"#bd3786\"], [0.5555555555555556, \"#d8576b\"], [0.6666666666666666, \"#ed7953\"], [0.7777777777777778, \"#fb9f3a\"], [0.8888888888888888, \"#fdca26\"], [1.0, \"#f0f921\"]], \"sequentialminus\": [[0.0, \"#0d0887\"], [0.1111111111111111, \"#46039f\"], [0.2222222222222222, \"#7201a8\"], [0.3333333333333333, \"#9c179e\"], [0.4444444444444444, \"#bd3786\"], [0.5555555555555556, \"#d8576b\"], [0.6666666666666666, \"#ed7953\"], [0.7777777777777778, \"#fb9f3a\"], [0.8888888888888888, \"#fdca26\"], [1.0, \"#f0f921\"]]}, \"colorway\": [\"#636efa\", \"#EF553B\", \"#00cc96\", \"#ab63fa\", \"#FFA15A\", \"#19d3f3\", \"#FF6692\", \"#B6E880\", \"#FF97FF\", \"#FECB52\"], \"font\": {\"color\": \"#2a3f5f\"}, \"geo\": {\"bgcolor\": \"white\", \"lakecolor\": \"white\", \"landcolor\": \"#E5ECF6\", \"showlakes\": true, \"showland\": true, \"subunitcolor\": \"white\"}, \"hoverlabel\": {\"align\": \"left\"}, \"hovermode\": \"closest\", \"mapbox\": {\"style\": \"light\"}, \"paper_bgcolor\": \"white\", \"plot_bgcolor\": \"#E5ECF6\", \"polar\": {\"angularaxis\": {\"gridcolor\": \"white\", \"linecolor\": \"white\", \"ticks\": \"\"}, \"bgcolor\": \"#E5ECF6\", \"radialaxis\": {\"gridcolor\": \"white\", \"linecolor\": \"white\", \"ticks\": \"\"}}, \"scene\": {\"xaxis\": {\"backgroundcolor\": \"#E5ECF6\", \"gridcolor\": \"white\", \"gridwidth\": 2, \"linecolor\": \"white\", \"showbackground\": true, \"ticks\": \"\", \"zerolinecolor\": \"white\"}, \"yaxis\": {\"backgroundcolor\": \"#E5ECF6\", \"gridcolor\": \"white\", \"gridwidth\": 2, \"linecolor\": \"white\", \"showbackground\": true, \"ticks\": \"\", \"zerolinecolor\": \"white\"}, \"zaxis\": {\"backgroundcolor\": \"#E5ECF6\", \"gridcolor\": \"white\", \"gridwidth\": 2, \"linecolor\": \"white\", \"showbackground\": true, \"ticks\": \"\", \"zerolinecolor\": \"white\"}}, \"shapedefaults\": {\"line\": {\"color\": \"#2a3f5f\"}}, \"ternary\": {\"aaxis\": {\"gridcolor\": \"white\", \"linecolor\": \"white\", \"ticks\": \"\"}, \"baxis\": {\"gridcolor\": \"white\", \"linecolor\": \"white\", \"ticks\": \"\"}, \"bgcolor\": \"#E5ECF6\", \"caxis\": {\"gridcolor\": \"white\", \"linecolor\": \"white\", \"ticks\": \"\"}}, \"title\": {\"x\": 0.05}, \"xaxis\": {\"automargin\": true, \"gridcolor\": \"white\", \"linecolor\": \"white\", \"ticks\": \"\", \"title\": {\"standoff\": 15}, \"zerolinecolor\": \"white\", \"zerolinewidth\": 2}, \"yaxis\": {\"automargin\": true, \"gridcolor\": \"white\", \"linecolor\": \"white\", \"ticks\": \"\", \"title\": {\"standoff\": 15}, \"zerolinecolor\": \"white\", \"zerolinewidth\": 2}}}, \"title\": {\"font\": {\"color\": \"#7f7f7f\", \"family\": \"Arial\", \"size\": 22}, \"text\": \"Correla\\u00e7\\u00e3o das features com o Target\"}, \"xaxis\": {\"title\": {\"text\": \"Status\"}}, \"yaxis\": {\"title\": {\"text\": \"Taxa de Juros\"}}},\n",
       "                        {\"responsive\": true}\n",
       "                    ).then(function(){\n",
       "                            \n",
       "var gd = document.getElementById('2d2cd19c-e015-4da2-8eb0-a8095ed8569d');\n",
       "var x = new MutationObserver(function (mutations, observer) {{\n",
       "        var display = window.getComputedStyle(gd).display;\n",
       "        if (!display || display === 'none') {{\n",
       "            console.log([gd, 'removed!']);\n",
       "            Plotly.purge(gd);\n",
       "            observer.disconnect();\n",
       "        }}\n",
       "}});\n",
       "\n",
       "// Listen for the removal of the full notebook cells\n",
       "var notebookContainer = gd.closest('#notebook-container');\n",
       "if (notebookContainer) {{\n",
       "    x.observe(notebookContainer, {childList: true});\n",
       "}}\n",
       "\n",
       "// Listen for the clearing of the current output cell\n",
       "var outputEl = gd.closest('.output');\n",
       "if (outputEl) {{\n",
       "    x.observe(outputEl, {childList: true});\n",
       "}}\n",
       "\n",
       "                        })\n",
       "                };\n",
       "                });\n",
       "            </script>\n",
       "        </div>"
      ]
     },
     "metadata": {},
     "output_type": "display_data"
    }
   ],
   "source": [
    "visualize.plot_feat_cors(df_feat_corrs, model_names)"
   ]
  },
  {
   "cell_type": "code",
   "execution_count": 357,
   "metadata": {},
   "outputs": [
    {
     "data": {
      "text/html": [
       "<style  type=\"text/css\" >\n",
       "    #T_3fdff7b0_052d_11eb_afdc_8438355b82e0row0_col0 {\n",
       "            background-color:  yellow;\n",
       "        }    #T_3fdff7b0_052d_11eb_afdc_8438355b82e0row0_col1 {\n",
       "            background-color:  yellow;\n",
       "        }    #T_3fdff7b0_052d_11eb_afdc_8438355b82e0row0_col3 {\n",
       "            background-color:  yellow;\n",
       "        }    #T_3fdff7b0_052d_11eb_afdc_8438355b82e0row0_col4 {\n",
       "            background-color:  yellow;\n",
       "        }    #T_3fdff7b0_052d_11eb_afdc_8438355b82e0row2_col2 {\n",
       "            background-color:  yellow;\n",
       "        }    #T_3fdff7b0_052d_11eb_afdc_8438355b82e0row2_col5 {\n",
       "            background-color:  yellow;\n",
       "        }</style><table id=\"T_3fdff7b0_052d_11eb_afdc_8438355b82e0\" ><thead>    <tr>        <th class=\"index_name level0\" >Metrica</th>        <th class=\"col_heading level0 col0\" >Validation_Sharpe</th>        <th class=\"col_heading level0 col1\" >Validation_Mean</th>        <th class=\"col_heading level0 col2\" >Feat_neutral_mean</th>        <th class=\"col_heading level0 col3\" >Std_Dev</th>        <th class=\"col_heading level0 col4\" >Feat_exp_max</th>        <th class=\"col_heading level0 col5\" >Max_Drawdown</th>    </tr></thead><tbody>\n",
       "                <tr>\n",
       "                        <th id=\"T_3fdff7b0_052d_11eb_afdc_8438355b82e0level0_row0\" class=\"row_heading level0 row0\" >ex_preds</th>\n",
       "                        <td id=\"T_3fdff7b0_052d_11eb_afdc_8438355b82e0row0_col0\" class=\"data row0 col0\" >3.3390</td>\n",
       "                        <td id=\"T_3fdff7b0_052d_11eb_afdc_8438355b82e0row0_col1\" class=\"data row0 col1\" >0.0293</td>\n",
       "                        <td id=\"T_3fdff7b0_052d_11eb_afdc_8438355b82e0row0_col2\" class=\"data row0 col2\" >0.0000</td>\n",
       "                        <td id=\"T_3fdff7b0_052d_11eb_afdc_8438355b82e0row0_col3\" class=\"data row0 col3\" >0.0304</td>\n",
       "                        <td id=\"T_3fdff7b0_052d_11eb_afdc_8438355b82e0row0_col4\" class=\"data row0 col4\" >0.2830</td>\n",
       "                        <td id=\"T_3fdff7b0_052d_11eb_afdc_8438355b82e0row0_col5\" class=\"data row0 col5\" >-0.0780</td>\n",
       "            </tr>\n",
       "            <tr>\n",
       "                        <th id=\"T_3fdff7b0_052d_11eb_afdc_8438355b82e0level0_row1\" class=\"row_heading level0 row1\" >lr</th>\n",
       "                        <td id=\"T_3fdff7b0_052d_11eb_afdc_8438355b82e0row1_col0\" class=\"data row1 col0\" >2.7258</td>\n",
       "                        <td id=\"T_3fdff7b0_052d_11eb_afdc_8438355b82e0row1_col1\" class=\"data row1 col1\" >0.0160</td>\n",
       "                        <td id=\"T_3fdff7b0_052d_11eb_afdc_8438355b82e0row1_col2\" class=\"data row1 col2\" >0.0023</td>\n",
       "                        <td id=\"T_3fdff7b0_052d_11eb_afdc_8438355b82e0row1_col3\" class=\"data row1 col3\" >0.0203</td>\n",
       "                        <td id=\"T_3fdff7b0_052d_11eb_afdc_8438355b82e0row1_col4\" class=\"data row1 col4\" >0.2049</td>\n",
       "                        <td id=\"T_3fdff7b0_052d_11eb_afdc_8438355b82e0row1_col5\" class=\"data row1 col5\" >-0.0368</td>\n",
       "            </tr>\n",
       "            <tr>\n",
       "                        <th id=\"T_3fdff7b0_052d_11eb_afdc_8438355b82e0level0_row2\" class=\"row_heading level0 row2\" >ridge</th>\n",
       "                        <td id=\"T_3fdff7b0_052d_11eb_afdc_8438355b82e0row2_col0\" class=\"data row2 col0\" >2.7258</td>\n",
       "                        <td id=\"T_3fdff7b0_052d_11eb_afdc_8438355b82e0row2_col1\" class=\"data row2 col1\" >0.0160</td>\n",
       "                        <td id=\"T_3fdff7b0_052d_11eb_afdc_8438355b82e0row2_col2\" class=\"data row2 col2\" >0.0038</td>\n",
       "                        <td id=\"T_3fdff7b0_052d_11eb_afdc_8438355b82e0row2_col3\" class=\"data row2 col3\" >0.0203</td>\n",
       "                        <td id=\"T_3fdff7b0_052d_11eb_afdc_8438355b82e0row2_col4\" class=\"data row2 col4\" >0.2049</td>\n",
       "                        <td id=\"T_3fdff7b0_052d_11eb_afdc_8438355b82e0row2_col5\" class=\"data row2 col5\" >-0.0368</td>\n",
       "            </tr>\n",
       "    </tbody></table>"
      ],
      "text/plain": [
       "<pandas.io.formats.style.Styler at 0x7fa5e47055b0>"
      ]
     },
     "execution_count": 357,
     "metadata": {},
     "output_type": "execute_result"
    }
   ],
   "source": [
    "leaderboard = df_metrics_cons[df_metrics_cons.Categoria.isin([\"Performance\", \"Risk\"])].loc[:,model_names]\n",
    "leaderboard.astype(float).T.style.apply(visualize.highlight_max)"
   ]
  },
  {
   "cell_type": "markdown",
   "metadata": {},
   "source": [
    "### 5a Parte treino 120 eras"
   ]
  },
  {
   "cell_type": "code",
   "execution_count": null,
   "metadata": {},
   "outputs": [],
   "source": []
  },
  {
   "cell_type": "code",
   "execution_count": null,
   "metadata": {},
   "outputs": [],
   "source": []
  },
  {
   "cell_type": "markdown",
   "metadata": {},
   "source": [
    "### 6a Pate meta model"
   ]
  },
  {
   "cell_type": "code",
   "execution_count": 320,
   "metadata": {},
   "outputs": [
    {
     "data": {
      "text/html": [
       "<div>\n",
       "<style scoped>\n",
       "    .dataframe tbody tr th:only-of-type {\n",
       "        vertical-align: middle;\n",
       "    }\n",
       "\n",
       "    .dataframe tbody tr th {\n",
       "        vertical-align: top;\n",
       "    }\n",
       "\n",
       "    .dataframe thead th {\n",
       "        text-align: right;\n",
       "    }\n",
       "</style>\n",
       "<table border=\"1\" class=\"dataframe\">\n",
       "  <thead>\n",
       "    <tr style=\"text-align: right;\">\n",
       "      <th></th>\n",
       "      <th>lr</th>\n",
       "      <th>ridge</th>\n",
       "      <th>ex_preds</th>\n",
       "    </tr>\n",
       "  </thead>\n",
       "  <tbody>\n",
       "    <tr>\n",
       "      <th>lr</th>\n",
       "      <td>1.0000</td>\n",
       "      <td>1.0000</td>\n",
       "      <td>0.5426</td>\n",
       "    </tr>\n",
       "    <tr>\n",
       "      <th>ridge</th>\n",
       "      <td>1.0000</td>\n",
       "      <td>1.0000</td>\n",
       "      <td>0.5426</td>\n",
       "    </tr>\n",
       "    <tr>\n",
       "      <th>ex_preds</th>\n",
       "      <td>0.5426</td>\n",
       "      <td>0.5426</td>\n",
       "      <td>1.0000</td>\n",
       "    </tr>\n",
       "  </tbody>\n",
       "</table>\n",
       "</div>"
      ],
      "text/plain": [
       "              lr   ridge  ex_preds\n",
       "lr        1.0000  1.0000    0.5426\n",
       "ridge     1.0000  1.0000    0.5426\n",
       "ex_preds  0.5426  0.5426    1.0000"
      ]
     },
     "execution_count": 320,
     "metadata": {},
     "output_type": "execute_result"
    }
   ],
   "source": [
    "df_era_scores.corr(method=\"spearman\")"
   ]
  },
  {
   "cell_type": "code",
   "execution_count": 321,
   "metadata": {},
   "outputs": [
    {
     "data": {
      "image/png": "[encoded data removed]",
      "text/plain": [
       "<Figure size 792x648 with 2 Axes>"
      ]
     },
     "metadata": {},
     "output_type": "display_data"
    }
   ],
   "source": [
    "visualize.plot_corr_matrix(df_era_scores)"
   ]
  },
  {
   "cell_type": "code",
   "execution_count": 11,
   "metadata": {},
   "outputs": [],
   "source": [
    "## shap do metamodel  nb 0.2"
   ]
  },
  {
   "cell_type": "code",
   "execution_count": null,
   "metadata": {},
   "outputs": [],
   "source": [
    "from pycaret.regression import * #feature_wisdom45"
   ]
  },
  {
   "cell_type": "code",
   "execution_count": null,
   "metadata": {},
   "outputs": [],
   "source": [
    "interpret_model(model_loaded)"
   ]
  },
  {
   "cell_type": "code",
   "execution_count": null,
   "metadata": {},
   "outputs": [],
   "source": [
    "interpret_model(model_loaded, plot='correlation', feature= 'feature_wisdom45')"
   ]
  },
  {
   "cell_type": "markdown",
   "metadata": {},
   "source": [
    "### Rascunho"
   ]
  },
  {
   "cell_type": "code",
   "execution_count": null,
   "metadata": {},
   "outputs": [],
   "source": []
  },
  {
   "cell_type": "code",
   "execution_count": null,
   "metadata": {},
   "outputs": [],
   "source": []
  },
  {
   "cell_type": "code",
   "execution_count": null,
   "metadata": {},
   "outputs": [],
   "source": []
  },
  {
   "cell_type": "code",
   "execution_count": null,
   "metadata": {},
   "outputs": [],
   "source": []
  },
  {
   "cell_type": "code",
   "execution_count": null,
   "metadata": {},
   "outputs": [],
   "source": []
  },
  {
   "cell_type": "code",
   "execution_count": null,
   "metadata": {},
   "outputs": [],
   "source": []
  }
 ],
 "metadata": {
  "kernelspec": {
   "display_name": "Python 3",
   "language": "python",
   "name": "python3"
  },
  "language_info": {
   "codemirror_mode": {
    "name": "ipython",
    "version": 3
   },
   "file_extension": ".py",
   "mimetype": "text/x-python",
   "name": "python",
   "nbconvert_exporter": "python",
   "pygments_lexer": "ipython3",
   "version": "3.8.3"
  }
 },
 "nbformat": 4,
 "nbformat_minor": 4
}
