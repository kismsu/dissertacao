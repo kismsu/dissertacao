{
 "cells": [
  {
   "cell_type": "code",
   "execution_count": 1,
   "metadata": {},
   "outputs": [],
   "source": [
    "%load_ext autoreload\n",
    "%autoreload 2"
   ]
  },
  {
   "cell_type": "code",
   "execution_count": 2,
   "metadata": {},
   "outputs": [],
   "source": [
    "#basics\n",
    "import sys,os\n",
    "sys.path.insert(1, os.path.dirname(os.getcwd()))\n",
    "\n",
    "#utils\n",
    "import paths\n",
    "\n",
    "#main libraries\n",
    "import numpy as np\n",
    "import pandas as pd\n",
    "import matplotlib.pyplot as plt\n",
    "pd.set_option(\"display.precision\", 4)\n",
    "%matplotlib inline\n",
    "\n",
    "#model Libraries\n",
    "from sklearn import utils\n",
    "from sklearn import preprocessing\n",
    "\n",
    "from sklearn.model_selection import RandomizedSearchCV\n",
    "from sklearn.model_selection import GroupKFold\n",
    "\n",
    "from sklearn.ensemble import RandomForestClassifier\n",
    "from sklearn.ensemble import RandomForestRegressor\n",
    "\n",
    "from sklearn.metrics import make_scorer\n",
    "from sklearn.metrics import roc_auc_score\n",
    "from sklearn.metrics import mean_squared_error\n",
    "\n",
    "\n",
    "#skopt\n",
    "from skopt import BayesSearchCV\n",
    "from skopt.space import Real, Categorical, Integer\n",
    "from tune_sklearn import TuneSearchCV"
   ]
  },
  {
   "cell_type": "code",
   "execution_count": 3,
   "metadata": {},
   "outputs": [],
   "source": [
    "#private modules \n",
    "#data\n",
    "from src.data import make_dataset\n",
    "\n",
    "#utils\n",
    "from src.utils import memory_usage\n",
    "\n",
    "#models\n",
    "from src.models import train_model\n",
    "from src.models import evaluation\n",
    "\n",
    "#validation\n",
    "from src.validation import metrics\n",
    "from src.validation import metrics_description\n",
    "\n",
    "#sklearn\n",
    "from sklearn.model_selection import GroupKFold"
   ]
  },
  {
   "cell_type": "code",
   "execution_count": 43,
   "metadata": {},
   "outputs": [
    {
     "name": "stdout",
     "output_type": "stream",
     "text": [
      "low memory activated\n",
      "Memory usage after optimization is: 309.15 MB\n",
      "Decreased by 49.1%\n",
      "<class 'pandas.core.frame.DataFrame'>\n",
      "RangeIndex: 501808 entries, 0 to 501807\n",
      "Columns: 314 entries, id to target_kazutsugi\n",
      "dtypes: float16(311), int32(1), object(2)\n",
      "memory usage: 307.2+ MB\n",
      "None\n",
      "CPU times: user 44.7 s, sys: 42.8 s, total: 1min 27s\n",
      "Wall time: 1min 35s\n"
     ]
    }
   ],
   "source": [
    "%%time\n",
    "df_training,features,target = make_dataset.get_data(nrows=None,\n",
    "                                                    low_memory=True, \n",
    "                                                    dataset=\"training\", \n",
    "                                                    feather=True) #false on AWS/colab"
   ]
  },
  {
   "cell_type": "code",
   "execution_count": 4,
   "metadata": {},
   "outputs": [
    {
     "name": "stdout",
     "output_type": "stream",
     "text": [
      "low memory activated\n",
      "Memory usage after optimization is: 65.86 MB\n",
      "Decreased by 49.1%\n",
      "<class 'pandas.core.frame.DataFrame'>\n",
      "RangeIndex: 106895 entries, 0 to 106894\n",
      "Columns: 314 entries, id to target_kazutsugi\n",
      "dtypes: float16(311), int32(1), object(2)\n",
      "memory usage: 65.4+ MB\n",
      "None\n",
      "CPU times: user 7.01 s, sys: 3.15 s, total: 10.2 s\n",
      "Wall time: 11.3 s\n"
     ]
    }
   ],
   "source": [
    "%%time\n",
    "df_validation,features,target = make_dataset.get_data(nrows=None,\n",
    "                                                    low_memory=False, \n",
    "                                                    dataset=\"validation\", \n",
    "                                                    feather=True)"
   ]
  },
  {
   "cell_type": "markdown",
   "metadata": {},
   "source": [
    "### 2a Parte: Pycaret Linear Models"
   ]
  },
  {
   "cell_type": "code",
   "execution_count": 6,
   "metadata": {},
   "outputs": [
    {
     "data": {
      "text/html": [
       "<div>\n",
       "<style scoped>\n",
       "    .dataframe tbody tr th:only-of-type {\n",
       "        vertical-align: middle;\n",
       "    }\n",
       "\n",
       "    .dataframe tbody tr th {\n",
       "        vertical-align: top;\n",
       "    }\n",
       "\n",
       "    .dataframe thead th {\n",
       "        text-align: right;\n",
       "    }\n",
       "</style>\n",
       "<table border=\"1\" class=\"dataframe\">\n",
       "  <thead>\n",
       "    <tr style=\"text-align: right;\">\n",
       "      <th></th>\n",
       "      <th>Model</th>\n",
       "      <th>MAE</th>\n",
       "      <th>MSE</th>\n",
       "      <th>RMSE</th>\n",
       "      <th>R2</th>\n",
       "      <th>RMSLE</th>\n",
       "      <th>MAPE</th>\n",
       "      <th>TT (Sec)</th>\n",
       "    </tr>\n",
       "  </thead>\n",
       "  <tbody>\n",
       "    <tr>\n",
       "      <th>0</th>\n",
       "      <td>Orthogonal Matching Pursuit</td>\n",
       "      <td>0.3012</td>\n",
       "      <td>0.1244</td>\n",
       "      <td>0.3527</td>\n",
       "      <td>0.0015</td>\n",
       "      <td>0.2461</td>\n",
       "      <td>0.4623</td>\n",
       "      <td>1.3055</td>\n",
       "    </tr>\n",
       "    <tr>\n",
       "      <th>1</th>\n",
       "      <td>Bayesian Ridge</td>\n",
       "      <td>0.3009</td>\n",
       "      <td>0.1244</td>\n",
       "      <td>0.3527</td>\n",
       "      <td>0.0019</td>\n",
       "      <td>0.2461</td>\n",
       "      <td>0.4616</td>\n",
       "      <td>37.0157</td>\n",
       "    </tr>\n",
       "    <tr>\n",
       "      <th>2</th>\n",
       "      <td>Ridge Regression</td>\n",
       "      <td>0.3017</td>\n",
       "      <td>0.1245</td>\n",
       "      <td>0.3528</td>\n",
       "      <td>0.0013</td>\n",
       "      <td>0.2461</td>\n",
       "      <td>0.4637</td>\n",
       "      <td>6.7043</td>\n",
       "    </tr>\n",
       "    <tr>\n",
       "      <th>3</th>\n",
       "      <td>Linear Regression</td>\n",
       "      <td>0.3017</td>\n",
       "      <td>0.1245</td>\n",
       "      <td>0.3528</td>\n",
       "      <td>0.0013</td>\n",
       "      <td>0.2461</td>\n",
       "      <td>0.4637</td>\n",
       "      <td>6.2805</td>\n",
       "    </tr>\n",
       "    <tr>\n",
       "      <th>4</th>\n",
       "      <td>Automatic Relevance Determination</td>\n",
       "      <td>0.3008</td>\n",
       "      <td>0.1245</td>\n",
       "      <td>0.3529</td>\n",
       "      <td>0.0009</td>\n",
       "      <td>0.2462</td>\n",
       "      <td>0.4607</td>\n",
       "      <td>14.4360</td>\n",
       "    </tr>\n",
       "    <tr>\n",
       "      <th>5</th>\n",
       "      <td>Lasso Regression</td>\n",
       "      <td>0.2991</td>\n",
       "      <td>0.1246</td>\n",
       "      <td>0.3530</td>\n",
       "      <td>0.0000</td>\n",
       "      <td>0.2463</td>\n",
       "      <td>0.4565</td>\n",
       "      <td>2.7285</td>\n",
       "    </tr>\n",
       "    <tr>\n",
       "      <th>6</th>\n",
       "      <td>Elastic Net</td>\n",
       "      <td>0.2991</td>\n",
       "      <td>0.1246</td>\n",
       "      <td>0.3530</td>\n",
       "      <td>0.0000</td>\n",
       "      <td>0.2463</td>\n",
       "      <td>0.4565</td>\n",
       "      <td>2.0007</td>\n",
       "    </tr>\n",
       "    <tr>\n",
       "      <th>7</th>\n",
       "      <td>Least Angle Regression</td>\n",
       "      <td>0.3022</td>\n",
       "      <td>0.1246</td>\n",
       "      <td>0.3530</td>\n",
       "      <td>-0.0002</td>\n",
       "      <td>0.2463</td>\n",
       "      <td>0.4649</td>\n",
       "      <td>1.4324</td>\n",
       "    </tr>\n",
       "    <tr>\n",
       "      <th>8</th>\n",
       "      <td>Lasso Least Angle Regression</td>\n",
       "      <td>0.2991</td>\n",
       "      <td>0.1246</td>\n",
       "      <td>0.3530</td>\n",
       "      <td>0.0000</td>\n",
       "      <td>0.2463</td>\n",
       "      <td>0.4565</td>\n",
       "      <td>1.4809</td>\n",
       "    </tr>\n",
       "  </tbody>\n",
       "</table>\n",
       "</div>"
      ],
      "text/plain": [
       "                               Model     MAE     MSE    RMSE      R2   RMSLE  \\\n",
       "0        Orthogonal Matching Pursuit  0.3012  0.1244  0.3527  0.0015  0.2461   \n",
       "1                     Bayesian Ridge  0.3009  0.1244  0.3527  0.0019  0.2461   \n",
       "2                   Ridge Regression  0.3017  0.1245  0.3528  0.0013  0.2461   \n",
       "3                  Linear Regression  0.3017  0.1245  0.3528  0.0013  0.2461   \n",
       "4  Automatic Relevance Determination  0.3008  0.1245  0.3529  0.0009  0.2462   \n",
       "5                   Lasso Regression  0.2991  0.1246  0.3530  0.0000  0.2463   \n",
       "6                        Elastic Net  0.2991  0.1246  0.3530  0.0000  0.2463   \n",
       "7             Least Angle Regression  0.3022  0.1246  0.3530 -0.0002  0.2463   \n",
       "8       Lasso Least Angle Regression  0.2991  0.1246  0.3530  0.0000  0.2463   \n",
       "\n",
       "     MAPE  TT (Sec)  \n",
       "0  0.4623    1.3055  \n",
       "1  0.4616   37.0157  \n",
       "2  0.4637    6.7043  \n",
       "3  0.4637    6.2805  \n",
       "4  0.4607   14.4360  \n",
       "5  0.4565    2.7285  \n",
       "6  0.4565    2.0007  \n",
       "7  0.4649    1.4324  \n",
       "8  0.4565    1.4809  "
      ]
     },
     "execution_count": 6,
     "metadata": {},
     "output_type": "execute_result"
    }
   ],
   "source": [
    "load_table = pd.read_excel(\"../../reports/pycaret_compare_results.xlsx\", index=True)\n",
    "load_table"
   ]
  },
  {
   "cell_type": "markdown",
   "metadata": {},
   "source": [
    "### 3a Treinamento modelos\n",
    "\n",
    "Vamos treinar os modelos\n",
    "- LinearRegression\n",
    "- Ridge\n",
    "- Orthogonal Matching Pursuit\n",
    "- Xgbost\n",
    "- LightGBM\n",
    "- Xgboost Ranker\n",
    "- Xgboost Adj_Sharpe\n"
   ]
  },
  {
   "cell_type": "code",
   "execution_count": 7,
   "metadata": {},
   "outputs": [
    {
     "name": "stdout",
     "output_type": "stream",
     "text": [
      "xgb version: 1.2.0\n",
      "lgbm version: 2.3.1\n"
     ]
    }
   ],
   "source": [
    "#checando versoes para evitar conflitos\n",
    "import xgboost as xgb\n",
    "print(\"xgb version:\", xgb.__version__)\n",
    "\n",
    "import lightgbm as lgbm\n",
    "print(\"lgbm version:\", lgbm.__version__)"
   ]
  },
  {
   "cell_type": "markdown",
   "metadata": {},
   "source": [
    "#### Validacao"
   ]
  },
  {
   "cell_type": "code",
   "execution_count": 44,
   "metadata": {},
   "outputs": [],
   "source": [
    "#Group K-fold\n",
    "CV = GroupKFold(n_splits = 3)\n",
    "grp = list(CV.split(X = df_training[features], y = df_training[target],  groups = df_training.era.values))"
   ]
  },
  {
   "cell_type": "markdown",
   "metadata": {},
   "source": [
    "#### Metrica"
   ]
  },
  {
   "cell_type": "code",
   "execution_count": 64,
   "metadata": {},
   "outputs": [],
   "source": [
    "def spearmanr(target, pred):\n",
    "    from scipy import stats\n",
    "    return stats.spearmanr(target, pred)[0]\n",
    "\n",
    "\n",
    "scorer = make_scorer(spearmanr)"
   ]
  },
  {
   "cell_type": "markdown",
   "metadata": {},
   "source": [
    "#### resultados"
   ]
  },
  {
   "cell_type": "code",
   "execution_count": 60,
   "metadata": {},
   "outputs": [],
   "source": [
    "results, res_cv = list(), dict()"
   ]
  },
  {
   "cell_type": "markdown",
   "metadata": {},
   "source": [
    "#### Linear regression"
   ]
  },
  {
   "cell_type": "code",
   "execution_count": 62,
   "metadata": {},
   "outputs": [
    {
     "name": "stdout",
     "output_type": "stream",
     "text": [
      "==> Starting K-fold cross validation for lr model, 501808 examples\n",
      "Fitting 3 folds for each of 1 candidates, totalling 3 fits\n"
     ]
    },
    {
     "name": "stderr",
     "output_type": "stream",
     "text": [
      "[Parallel(n_jobs=-1)]: Using backend LokyBackend with 4 concurrent workers.\n",
      "[Parallel(n_jobs=-1)]: Done   3 out of   3 | elapsed:  1.4min remaining:    0.0s\n",
      "[Parallel(n_jobs=-1)]: Done   3 out of   3 | elapsed:  1.4min finished\n"
     ]
    },
    {
     "name": "stdout",
     "output_type": "stream",
     "text": [
      "==> Elapsed seconds: 101.222\n",
      "Best lr model: LinearRegression(fit_intercept=False, normalize=True)\n",
      "Best lr score (val): 0.026\n"
     ]
    }
   ],
   "source": [
    "from sklearn.linear_model import LinearRegression\n",
    "\n",
    "lr_param_grid =  {\n",
    "    'fit_intercept' : [False],#[True, False],\n",
    "    'normalize' : [True],#[True, False],\n",
    "\n",
    "}\n",
    "\n",
    "\n",
    "result = evaluation.evaluate_model(df_training[features], df_training[target],\n",
    "                                   LinearRegression(), 'lr',\n",
    "                                   lr_param_grid, \n",
    "                                   scorer, \n",
    "                                   n_iter=1, \n",
    "                                   cv_folds=grp, \n",
    "                                   pipeline=None)\n",
    "\n",
    "results.append(result)\n",
    "res_cv[result[1]] = evaluation.get_cv_scores(result[0])"
   ]
  },
  {
   "cell_type": "markdown",
   "metadata": {},
   "source": [
    "#### Ridge"
   ]
  },
  {
   "cell_type": "code",
   "execution_count": 27,
   "metadata": {},
   "outputs": [
    {
     "name": "stdout",
     "output_type": "stream",
     "text": [
      "==> Starting K-fold cross validation for ridge model, 501808 examples\n",
      "Fitting 3 folds for each of 1 candidates, totalling 3 fits\n"
     ]
    },
    {
     "name": "stderr",
     "output_type": "stream",
     "text": [
      "[Parallel(n_jobs=-1)]: Using backend LokyBackend with 4 concurrent workers.\n",
      "[Parallel(n_jobs=-1)]: Done   3 out of   3 | elapsed:  2.4min finished\n"
     ]
    },
    {
     "name": "stdout",
     "output_type": "stream",
     "text": [
      "==> Elapsed seconds: 163.454\n",
      "Best ridge model: Ridge(alpha=1.5)\n",
      "Best ridge score (val): 0.037\n"
     ]
    }
   ],
   "source": [
    "from sklearn.linear_model import Ridge\n",
    "\n",
    "ridge_param_grid =  {\n",
    "    'fit_intercept' : [True, False],\n",
    "    'normalize' : [True, False],\n",
    "    'alpha' : [1.5]#Real(10**-1, 10**1, \"log-uniform\") #[1.5]\n",
    "\n",
    "}\n",
    "\n",
    "result = evaluation.evaluate_model_skopt(df_training[features], df_training[target],\n",
    "                                   Ridge(), 'ridge',\n",
    "                                   ridge_param_grid, \n",
    "                                   scorer, n_iter=1, \n",
    "                                   cv_folds=grp, pipeline=None)\n",
    "\n",
    "results.append(result)\n",
    "res_cv[result[1]] = evaluation.get_cv_scores(result[0])"
   ]
  },
  {
   "cell_type": "markdown",
   "metadata": {},
   "source": [
    "#### OMP"
   ]
  },
  {
   "cell_type": "code",
   "execution_count": null,
   "metadata": {},
   "outputs": [],
   "source": [
    "from sklearn.linear_model import OrthogonalMatchingPursuit\n",
    "\n",
    "omp_param_grid =  {\n",
    "    'n_nonzero_coefs' :[105] #Integer(1, len(features), 'uniform')\n",
    "\n",
    "}\n",
    "\n",
    "\n",
    "result = evaluation.evaluate_model_skopt(df_training[features], df_training[target],\n",
    "                                   OrthogonalMatchingPursuit(), 'omp',\n",
    "                                   omp_param_grid, \n",
    "                                   scorer, \n",
    "                                   n_iter=1, \n",
    "                                   cv_folds=grp, \n",
    "                                   pipeline=None)\n",
    "\n",
    "results.append(result)\n",
    "res_cv[result[1]] = evaluation.get_cv_scores(result[0])"
   ]
  },
  {
   "cell_type": "markdown",
   "metadata": {},
   "source": [
    "#### Xgboost"
   ]
  },
  {
   "cell_type": "code",
   "execution_count": 26,
   "metadata": {},
   "outputs": [
    {
     "name": "stdout",
     "output_type": "stream",
     "text": [
      "==> Starting K-fold cross validation for xgb_corr model, 20000 examples\n",
      "oi\n",
      "Fitting 3 folds for each of 1 candidates, totalling 3 fits\n"
     ]
    },
    {
     "name": "stderr",
     "output_type": "stream",
     "text": [
      "[Parallel(n_jobs=-1)]: Using backend LokyBackend with 4 concurrent workers.\n",
      "[Parallel(n_jobs=-1)]: Done   3 out of   3 | elapsed:  5.5min remaining:    0.0s\n",
      "[Parallel(n_jobs=-1)]: Done   3 out of   3 | elapsed:  5.5min finished\n"
     ]
    },
    {
     "name": "stdout",
     "output_type": "stream",
     "text": [
      "==> Elapsed seconds: 614.373\n",
      "Best xgb_corr model: XGBRegressor(colsample_bytree=0.65, early_stopping_rounds=30, gamma=2.22,\n",
      "             learning_rate=0.01, min_child_weight=8, n_estimators=2000,\n",
      "             objective='reg:squarederror', reg_alpha=60, subsample=0.85)\n",
      "Best xgb_corr score (val): nan\n"
     ]
    }
   ],
   "source": [
    "from xgboost import XGBRegressor\n",
    "#example scripts\n",
    "#XGBRegressor(max_depth=5, learning_rate=0.01, n_estimators=2000, n_jobs=-1, colsample_bytree=0.1)\n",
    "\n",
    "xgb_param_grid = {\n",
    "        #step 1 & 6\n",
    "        'n_estimators' : [2000], #Integer(3500, 6000, 'uniform'), [3704]\n",
    "        'learning_rate' : [0.01], #Real(10**-3, 10**-1, \"log-uniform\"),\n",
    "\n",
    "        #step 2\n",
    "        'max_depth' : [3], #Integer(3, 10, 'uniform'),\n",
    "        'min_child_weight': [8], #Integer(1, 10, 'uniform'),\n",
    "\n",
    "        #step 3\n",
    "        'gamma' : [2.22], #Real(5e-1, 6, 'log-uniform'),\n",
    "\n",
    "\n",
    "        #step 4\n",
    "        'subsample' : [0.85], #Real(1e-1, 1, 'uniform'),\n",
    "        'colsample_bytree': [0.65], #Real(1e-1, 1, 'uniform'), \n",
    "\n",
    "        #step 5\n",
    "        'reg_alpha' : [60], #Real(1, 100, 'log-uniform'),\n",
    "\n",
    "        \n",
    "        #utils\n",
    "        'objective': [\"reg:squarederror\"],\n",
    "        'early_stopping_rounds' : [30],\n",
    "        #'tree_method' : ['gpu_hist'], \n",
    "        #'gpu_id' : [0]\n",
    "\n",
    "        \n",
    "}\n",
    "\n",
    "scorer = make_scorer(spearmanr)\n",
    "#scorer = make_scorer(mean_squared_error, squared=True)\n",
    "\n",
    "\n",
    "result = evaluation.evaluate_model(df_training[features], df_training[target],\n",
    "                                          XGBRegressor(), 'xgb_corr',\n",
    "                                          xgb_param_grid, scorer, \n",
    "                                          n_jobs=-1, n_iter=1, \n",
    "                                          cv_folds=grp, pipeline=None)\n",
    "\n",
    "results.append(result)\n",
    "res_cv[result[1]] = evaluation.get_cv_scores(result[0])"
   ]
  },
  {
   "cell_type": "markdown",
   "metadata": {},
   "source": [
    "#### LightGBM"
   ]
  },
  {
   "cell_type": "code",
   "execution_count": null,
   "metadata": {},
   "outputs": [],
   "source": [
    "from lightgbm import LGBMRegressor\n",
    "#LGBMRegressor(max_depth=5, learning_rate=0.01, n_estimators=2000, n_jobs=-1, colsample_bytree=0.1, num_leaves=32)\n",
    "\n",
    "lgbm_param_grid = {\n",
    "    \n",
    "\n",
    "    #step 1 & 6\n",
    "    'n_estimators' : [3100], #Integer(500, 4000, 'uniform'), #[3083] [500]\n",
    "    'learning_rate' : [0.01], #Real(10**-5, 10**0, \"log-uniform\"),  \n",
    "\n",
    "\n",
    "    #step 2\n",
    "    'num_leaves': [110], #Integer(50, 250, \"uniform\"), \n",
    "    'min_data_in_leaf' : [2000], #Integer(100, 2000, 'uniform'), #[1913]\n",
    "    'max_depth' : [7], #Integer(3, 30, 'uniform'),\n",
    "    \n",
    "\n",
    "    #step 3\n",
    "    'bagging_fraction' : [0.6], #Real(1e-1, 1, 'uniform'),\n",
    "    'bagging_temperature': [0.25], #Real(1e-1, 1.0, 'unifom'),\n",
    "    \n",
    "    #step 4\n",
    "    'colsample_bytree': [0.13], #Real(1e-1, 1, 'uniform'),\n",
    "    'subsample':[0.16], #Real(1e-1, 1, 'uniform'), #smaller for baseline\n",
    "\n",
    "    #step 5\n",
    "    'reg_lambda': [0.12], # Real(10**-2, 1, \"log-uniform\"),\n",
    "\n",
    "\n",
    "    #utils\n",
    "    'boosting_type': ['goss'],\n",
    "    'device_type' : ['gpu']\n",
    "\n",
    "}\n",
    "\n",
    "\n",
    "\n",
    "result = evaluation.evaluate_model_skopt(df_training[features], df_training[target],\n",
    "                                   LGBMRegressor(), 'lgbm_corr',\n",
    "                                   lgbm_param_grid, \n",
    "                                   scorer, n_iter=10, \n",
    "                                   cv_folds=grp, \n",
    "                                   pipeline=None)\n",
    "\n",
    "results.append(result)\n",
    "res_cv[result[1]] = evaluation.get_cv_scores(result[0])"
   ]
  },
  {
   "cell_type": "markdown",
   "metadata": {},
   "source": [
    "#### XGBRanker"
   ]
  },
  {
   "cell_type": "code",
   "execution_count": 111,
   "metadata": {},
   "outputs": [],
   "source": [
    "cdf = df_training.groupby('era').agg(['count'])\n",
    "group = cdf[cdf.columns[0]].values"
   ]
  },
  {
   "cell_type": "code",
   "execution_count": 114,
   "metadata": {},
   "outputs": [
    {
     "name": "stdout",
     "output_type": "stream",
     "text": [
      "==> Starting K-fold cross validation for xgb_rank_corr model, 20000 examples\n",
      "Fitting 3 folds for each of 1 candidates, totalling 3 fits\n"
     ]
    },
    {
     "name": "stderr",
     "output_type": "stream",
     "text": [
      "[Parallel(n_jobs=-1)]: Using backend LokyBackend with 4 concurrent workers.\n",
      "[Parallel(n_jobs=-1)]: Done   3 out of   3 | elapsed:    4.5s remaining:    0.0s\n",
      "[Parallel(n_jobs=-1)]: Done   3 out of   3 | elapsed:    4.5s finished\n"
     ]
    },
    {
     "name": "stdout",
     "output_type": "stream",
     "text": [
      "==> Elapsed seconds: 6.302\n",
      "Best xgb_rank_corr model: XGBRanker(learning_rate=0.01, n_estimators=10)\n",
      "Best xgb_rank_corr score (val): 23.000\n"
     ]
    }
   ],
   "source": [
    "from xgboost import XGBRanker\n",
    "\n",
    "xgb_rank_param_grid = {\n",
    "        #step 1 & 6\n",
    "        'n_estimators' : [10], #Integer(3500, 6000, 'uniform'),[3704]\n",
    "        'learning_rate' : [0.01], #Real(10**-3, 10**-1, \"log-uniform\"),\n",
    "\n",
    "        #step 2\n",
    "        #'max_depth' : [3], #Integer(3, 10, 'uniform'),\n",
    "        #'min_child_weight': [8], #Integer(1, 10, 'uniform'),\n",
    "\n",
    "        #step 3\n",
    "        #'gamma' : [2.22], #Real(5e-1, 6, 'log-uniform'),\n",
    "\n",
    "\n",
    "        #step 4\n",
    "        #'subsample' : [0.85], #Real(1e-1, 1, 'uniform'),\n",
    "        #'colsample_bytree': [0.65], #Real(1e-1, 1, 'uniform'), \n",
    "\n",
    "        #step 5\n",
    "        #'reg_alpha' : [60], #Real(1, 100, 'log-uniform'),\n",
    "\n",
    "        \n",
    "        #utils\n",
    "        #'objective': [\"rank:pairwise\"],\n",
    "        #'early_stopping_rounds' : [30],\n",
    "        #'tree_method' : ['gpu_hist'], \n",
    "        #'gpu_id' : [0]\n",
    "\n",
    "        \n",
    "}\n",
    "\n",
    "\n",
    "param_fit_grid = {'group': group}\n",
    "#param_fit_grid = {}\n",
    "\n",
    "\n",
    "from sklearn.metrics import mean_squared_error\n",
    "from sklearn.metrics import mean_absolute_error\n",
    "scorer = make_scorer(spearmanr)\n",
    "scorer = make_scorer(mean_absolute_error)\n",
    "\n",
    "result = evaluation.evaluate_model(df_training[features], df_training[target],\n",
    "                                          XGBRanker(), 'xgb_rank_corr',\n",
    "                                          xgb_rank_param_grid, scorer, \n",
    "                                          n_jobs=-1, n_iter=1, \n",
    "                                          cv_folds=grp, pipeline=None,\n",
    "                                          fit_params=param_fit_grid)\n",
    "\n",
    "results.append(result)\n",
    "res_cv[result[1]] = evaluation.get_cv_scores(result[0])\n",
    "\n"
   ]
  },
  {
   "cell_type": "code",
   "execution_count": 47,
   "metadata": {},
   "outputs": [
    {
     "data": {
      "text/plain": [
       "array([0.26034057, 0.34274697, 0.8481461 , ..., 0.5171928 , 0.33860397,\n",
       "       0.49629954], dtype=float32)"
      ]
     },
     "execution_count": 47,
     "metadata": {},
     "output_type": "execute_result"
    }
   ],
   "source": [
    "model = XGBRanker()\n",
    "param_fit_grid = {'group': group}\n",
    "model.fit(df_training[features], df_training[target], **param_fit_grid)\n",
    "model.predict(df_validation[features])"
   ]
  },
  {
   "cell_type": "code",
   "execution_count": null,
   "metadata": {},
   "outputs": [],
   "source": [
    "params = {\n",
    "    'loss_function': 'PairLogit:max_pairs=100000',\n",
    "    #'task_type': 'GPU',\n",
    "    #'devices': '0'\n",
    "}\n",
    "m = CatBoost(params)\n",
    "# traind = numerox Data object for training\n",
    "m.fit(df_training[features], df_training[target], group_id=df_training.era)"
   ]
  },
  {
   "cell_type": "code",
   "execution_count": 99,
   "metadata": {},
   "outputs": [],
   "source": [
    "from catboost import CatBoost"
   ]
  },
  {
   "cell_type": "code",
   "execution_count": 113,
   "metadata": {},
   "outputs": [
    {
     "data": {
      "text/plain": [
       "array([2408, 2371, 2424, 2543, 2679, 2875, 3026, 1674])"
      ]
     },
     "execution_count": 113,
     "metadata": {},
     "output_type": "execute_result"
    }
   ],
   "source": [
    "group"
   ]
  },
  {
   "cell_type": "code",
   "execution_count": 46,
   "metadata": {},
   "outputs": [
    {
     "name": "stdout",
     "output_type": "stream",
     "text": [
      "[01:22:43] WARNING: src/objective/regression_obj.cu:152: reg:linear is now deprecated in favor of reg:squarederror.\n"
     ]
    },
    {
     "data": {
      "text/plain": [
       "array([0.44086367, 0.44441757, 0.5517954 , ..., 0.50294495, 0.47988242,\n",
       "       0.49268314], dtype=float32)"
      ]
     },
     "execution_count": 46,
     "metadata": {},
     "output_type": "execute_result"
    }
   ],
   "source": [
    "model = XGBRegressor()\n",
    "param_fit_grid = {}\n",
    "model.fit(df_training[features], df_training[target], **param_fit_grid)\n",
    "model.predict(df_validation[features])"
   ]
  },
  {
   "cell_type": "code",
   "execution_count": 85,
   "metadata": {},
   "outputs": [
    {
     "data": {
      "text/plain": [
       "array([23, 23, 23])"
      ]
     },
     "execution_count": 85,
     "metadata": {},
     "output_type": "execute_result"
    }
   ],
   "source": [
    "from sklearn.model_selection import cross_val_score\n",
    "model = XGBRanker()\n",
    "fit_params = {'group': group}\n",
    "scorer = make_scorer(mean_absolute_error)\n",
    "\n",
    "\n",
    "cross_val_score(XGBRanker(), df_training[features], df_training[target],fit_params=None, scoring=scorer, error_score=23)\n",
    "\n"
   ]
  },
  {
   "cell_type": "code",
   "execution_count": null,
   "metadata": {},
   "outputs": [],
   "source": [
    "from sklearn.metrics import mean_squared_error\n",
    "from xgboost import XGBRanker\n",
    "from sklearn.model_selection import GridSearchCV\n",
    "\n",
    "xgb_param_grid = {'n_estimators' : [10,20,30]}\n",
    "fit_params = {'group': group}\n",
    "scorer=make_scorer(mean_squared_error)\n",
    "\n",
    "grid_search = GridSearchCV(XGBRanker(),xgb_param_grid, scoring=scorer, cv=3, error_score=500)\n",
    "grid_search.fit(training_data[feature_names], training_data[TARGET_NAME], **fit_params)\n",
    "\n",
    "grid_search.cv_results_\n",
    "\n",
    "\n",
    "\n",
    "grid_search.fit(df_training[features], df_training[target], **fit_params)"
   ]
  },
  {
   "cell_type": "code",
   "execution_count": null,
   "metadata": {},
   "outputs": [],
   "source": [
    "grid_search.cv_results_"
   ]
  },
  {
   "cell_type": "code",
   "execution_count": 61,
   "metadata": {},
   "outputs": [],
   "source": [
    "cc = cross_val_score"
   ]
  },
  {
   "cell_type": "markdown",
   "metadata": {},
   "source": [
    "#### XGBoost + Adj_Sharpe"
   ]
  },
  {
   "cell_type": "code",
   "execution_count": 63,
   "metadata": {},
   "outputs": [
    {
     "data": {
      "text/plain": [
       "array([0.48085198, 0.45819652, 0.540035  , ..., 0.51940864, 0.51574445,\n",
       "       0.49592617], dtype=float32)"
      ]
     },
     "execution_count": 63,
     "metadata": {},
     "output_type": "execute_result"
    }
   ],
   "source": [
    "models['lr'].model.predict(df_validation[features])"
   ]
  },
  {
   "cell_type": "markdown",
   "metadata": {},
   "source": [
    "--------------\n",
    "--------------"
   ]
  },
  {
   "cell_type": "markdown",
   "metadata": {},
   "source": [
    "#### Save/load models"
   ]
  },
  {
   "cell_type": "code",
   "execution_count": 28,
   "metadata": {},
   "outputs": [],
   "source": [
    "#salvando apenas o modelo\n",
    "#from joblib import dump, load\n",
    "#\n",
    "#file_path = '../../models/sao_paulo/'\n",
    "#for model_name in res_cv.keys():\n",
    "#    model = list(filter(lambda x: x[1] == model_name, results))[0][0]\n",
    "#    dump(model,file_path + model_name + '-cv.pkl')"
   ]
  },
  {
   "cell_type": "code",
   "execution_count": 33,
   "metadata": {},
   "outputs": [],
   "source": [
    "#carregndo os modelos\n",
    "from joblib import dump, load\n",
    "file_path = '../../models/sao_paulo/'\n",
    "\n",
    "models, res_cv = dict(), dict()\n",
    "era_scores, df_metrics, feat_corrs = dict(), dict(), dict()\n",
    "\n",
    "model_names = ['lr', 'ridge']\n",
    "\n",
    "for model in model_names:\n",
    "    #load model complete pipe\n",
    "    models[model] = load(file_path + model + '-cv.pkl')\n",
    "    \n",
    "    #loading cv scores\n",
    "    res_cv[model] = evaluation.get_cv_scores(models[model])\n",
    "    \n",
    "    #predicoes val1 & val2\n",
    "    preds[model] = models[model].model.predict(df_validation[features])\n",
    "    \n",
    "    #salvando as metricas\n",
    "    era_scores[model], df_metrics[model], feat_corrs[model] = \\\n",
    "                        metrics.submission_metrics(df_validation, preds[model], models[model].name)"
   ]
  },
  {
   "cell_type": "code",
   "execution_count": 81,
   "metadata": {},
   "outputs": [
    {
     "data": {
      "text/html": [
       "<div>\n",
       "<style scoped>\n",
       "    .dataframe tbody tr th:only-of-type {\n",
       "        vertical-align: middle;\n",
       "    }\n",
       "\n",
       "    .dataframe tbody tr th {\n",
       "        vertical-align: top;\n",
       "    }\n",
       "\n",
       "    .dataframe thead th {\n",
       "        text-align: right;\n",
       "    }\n",
       "</style>\n",
       "<table border=\"1\" class=\"dataframe\">\n",
       "  <thead>\n",
       "    <tr style=\"text-align: right;\">\n",
       "      <th></th>\n",
       "      <th>mean_fit_time</th>\n",
       "      <th>std_fit_time</th>\n",
       "      <th>mean_score_time</th>\n",
       "      <th>std_score_time</th>\n",
       "      <th>param_normalize</th>\n",
       "      <th>param_fit_intercept</th>\n",
       "      <th>params</th>\n",
       "      <th>split0_test_score</th>\n",
       "      <th>split1_test_score</th>\n",
       "      <th>split2_test_score</th>\n",
       "      <th>mean_test_score</th>\n",
       "      <th>std_test_score</th>\n",
       "      <th>rank_test_score</th>\n",
       "      <th>split0_train_score</th>\n",
       "      <th>split1_train_score</th>\n",
       "      <th>split2_train_score</th>\n",
       "      <th>mean_train_score</th>\n",
       "      <th>std_train_score</th>\n",
       "    </tr>\n",
       "  </thead>\n",
       "  <tbody>\n",
       "    <tr>\n",
       "      <th>0</th>\n",
       "      <td>103.7116</td>\n",
       "      <td>0.9026</td>\n",
       "      <td>3.4144</td>\n",
       "      <td>0.6039</td>\n",
       "      <td>True</td>\n",
       "      <td>False</td>\n",
       "      <td>{'normalize': True, 'fit_intercept': False}</td>\n",
       "      <td>0.0231</td>\n",
       "      <td>0.0231</td>\n",
       "      <td>0.0318</td>\n",
       "      <td>0.026</td>\n",
       "      <td>0.0041</td>\n",
       "      <td>1</td>\n",
       "      <td>0.0388</td>\n",
       "      <td>0.0402</td>\n",
       "      <td>0.0348</td>\n",
       "      <td>0.0379</td>\n",
       "      <td>0.0023</td>\n",
       "    </tr>\n",
       "  </tbody>\n",
       "</table>\n",
       "</div>"
      ],
      "text/plain": [
       "   mean_fit_time  std_fit_time  mean_score_time  std_score_time  \\\n",
       "0       103.7116        0.9026           3.4144          0.6039   \n",
       "\n",
       "  param_normalize param_fit_intercept  \\\n",
       "0            True               False   \n",
       "\n",
       "                                        params  split0_test_score  \\\n",
       "0  {'normalize': True, 'fit_intercept': False}             0.0231   \n",
       "\n",
       "   split1_test_score  split2_test_score  mean_test_score  std_test_score  \\\n",
       "0             0.0231             0.0318            0.026          0.0041   \n",
       "\n",
       "   rank_test_score  split0_train_score  split1_train_score  \\\n",
       "0                1              0.0388              0.0402   \n",
       "\n",
       "   split2_train_score  mean_train_score  std_train_score  \n",
       "0              0.0348            0.0379           0.0023  "
      ]
     },
     "execution_count": 81,
     "metadata": {},
     "output_type": "execute_result"
    }
   ],
   "source": [
    "models[\"lr\"].results"
   ]
  },
  {
   "cell_type": "markdown",
   "metadata": {},
   "source": [
    "### Parte 4 Avaliacao dos modelos Treinados e graficos"
   ]
  },
  {
   "cell_type": "code",
   "execution_count": 46,
   "metadata": {},
   "outputs": [
    {
     "data": {
      "image/png": "[encoded data removed]",
      "text/plain": [
       "<Figure size 432x288 with 1 Axes>"
      ]
     },
     "metadata": {
      "needs_background": "light"
     },
     "output_type": "display_data"
    }
   ],
   "source": [
    "_ = plt.boxplot(res_cv.values(), labels=res_cv.keys(), showmeans=True)"
   ]
  },
  {
   "cell_type": "code",
   "execution_count": 47,
   "metadata": {},
   "outputs": [
    {
     "data": {
      "image/png": "[encoded data removed]",
      "text/plain": [
       "<Figure size 432x288 with 1 Axes>"
      ]
     },
     "metadata": {
      "needs_background": "light"
     },
     "output_type": "display_data"
    }
   ],
   "source": [
    "%%time\n",
    "evaluation.plot_learning_curve(estimator=models['lr'].model,\n",
    "                               title=models['lr'].name.upper()+' Learning Curves',\n",
    "                               X=df_training[features], \n",
    "                               y=df_training[target],\n",
    "                               cv=grp,\n",
    "                               scoring=scorer)"
   ]
  },
  {
   "cell_type": "code",
   "execution_count": null,
   "metadata": {},
   "outputs": [],
   "source": [
    "\n",
    "result = evaluation.evaluate_model(df_training[features], df_training[target],\n",
    "                                   LinearRegression(), 'lr',\n",
    "                                   lr_param_grid, \n",
    "                                   scorer, \n",
    "                                   n_iter=1, \n",
    "                                   cv_folds=grp, \n",
    "                                   pipeline=None)"
   ]
  },
  {
   "cell_type": "code",
   "execution_count": 21,
   "metadata": {},
   "outputs": [
    {
     "name": "stdout",
     "output_type": "stream",
     "text": [
      "Qtde. eras: 22\n",
      "performance over time\n"
     ]
    },
    {
     "data": {
      "image/png": "[encoded data removed]",
      "text/plain": [
       "<Figure size 432x288 with 1 Axes>"
      ]
     },
     "metadata": {
      "needs_background": "light"
     },
     "output_type": "display_data"
    }
   ],
   "source": [
    "era_idx = [np.where(df_training.era==uera)[0] for uera in df_training.era.unique()]\n",
    "def numerai_score(y_true, y_pred):\n",
    "    \n",
    "    \n",
    "    \n",
    "    rank_pred = y_pred.groupby(eras).apply(lambda x: x.rank(pct=True, method=\"first\"))\n",
    "    return numpy.corrcoef(y_true, rank_pred)[0,1]"
   ]
  },
  {
   "cell_type": "code",
   "execution_count": 29,
   "metadata": {},
   "outputs": [
    {
     "data": {
      "text/plain": [
       "<matplotlib.axes._subplots.AxesSubplot at 0x7f859f569cd0>"
      ]
     },
     "execution_count": 29,
     "metadata": {},
     "output_type": "execute_result"
    },
    {
     "data": {
      "image/png": "[encoded data removed]",
      "text/plain": [
       "<Figure size 432x288 with 1 Axes>"
      ]
     },
     "metadata": {
      "needs_background": "light"
     },
     "output_type": "display_data"
    }
   ],
   "source": [
    "era_scores.plot(kind=\"bar\")"
   ]
  },
  {
   "cell_type": "code",
   "execution_count": 27,
   "metadata": {},
   "outputs": [
    {
     "data": {
      "text/plain": [
       "count    310.0000\n",
       "mean       0.1034\n",
       "std        0.0533\n",
       "min       -0.0752\n",
       "25%        0.0715\n",
       "50%        0.1135\n",
       "75%        0.1389\n",
       "max        0.2049\n",
       "dtype: float64"
      ]
     },
     "execution_count": 27,
     "metadata": {},
     "output_type": "execute_result"
    }
   ],
   "source": [
    "feat_corrs.describe()"
   ]
  },
  {
   "cell_type": "code",
   "execution_count": 80,
   "metadata": {},
   "outputs": [
    {
     "data": {
      "text/html": [
       "<div>\n",
       "<style scoped>\n",
       "    .dataframe tbody tr th:only-of-type {\n",
       "        vertical-align: middle;\n",
       "    }\n",
       "\n",
       "    .dataframe tbody tr th {\n",
       "        vertical-align: top;\n",
       "    }\n",
       "\n",
       "    .dataframe thead th {\n",
       "        text-align: right;\n",
       "    }\n",
       "</style>\n",
       "<table border=\"1\" class=\"dataframe\">\n",
       "  <thead>\n",
       "    <tr style=\"text-align: right;\">\n",
       "      <th></th>\n",
       "      <th>id</th>\n",
       "      <th>era</th>\n",
       "      <th>data_type</th>\n",
       "      <th>feature_intelligence1</th>\n",
       "      <th>feature_intelligence2</th>\n",
       "      <th>feature_intelligence3</th>\n",
       "      <th>feature_intelligence4</th>\n",
       "      <th>feature_intelligence5</th>\n",
       "      <th>feature_intelligence6</th>\n",
       "      <th>feature_intelligence7</th>\n",
       "      <th>...</th>\n",
       "      <th>feature_wisdom38</th>\n",
       "      <th>feature_wisdom39</th>\n",
       "      <th>feature_wisdom40</th>\n",
       "      <th>feature_wisdom41</th>\n",
       "      <th>feature_wisdom42</th>\n",
       "      <th>feature_wisdom43</th>\n",
       "      <th>feature_wisdom44</th>\n",
       "      <th>feature_wisdom45</th>\n",
       "      <th>feature_wisdom46</th>\n",
       "      <th>target_kazutsugi</th>\n",
       "    </tr>\n",
       "  </thead>\n",
       "  <tbody>\n",
       "    <tr>\n",
       "      <th>0</th>\n",
       "      <td>n0003aa52cab36c2</td>\n",
       "      <td>121</td>\n",
       "      <td>validation</td>\n",
       "      <td>0.25</td>\n",
       "      <td>0.75</td>\n",
       "      <td>0.50</td>\n",
       "      <td>0.50</td>\n",
       "      <td>0.0</td>\n",
       "      <td>0.75</td>\n",
       "      <td>0.5</td>\n",
       "      <td>...</td>\n",
       "      <td>0.75</td>\n",
       "      <td>0.75</td>\n",
       "      <td>1.00</td>\n",
       "      <td>0.75</td>\n",
       "      <td>0.50</td>\n",
       "      <td>0.5</td>\n",
       "      <td>1.0</td>\n",
       "      <td>0.00</td>\n",
       "      <td>0.00</td>\n",
       "      <td>0.00</td>\n",
       "    </tr>\n",
       "    <tr>\n",
       "      <th>1</th>\n",
       "      <td>n000920ed083903f</td>\n",
       "      <td>121</td>\n",
       "      <td>validation</td>\n",
       "      <td>0.75</td>\n",
       "      <td>0.50</td>\n",
       "      <td>0.75</td>\n",
       "      <td>1.00</td>\n",
       "      <td>0.5</td>\n",
       "      <td>0.00</td>\n",
       "      <td>0.0</td>\n",
       "      <td>...</td>\n",
       "      <td>0.50</td>\n",
       "      <td>0.50</td>\n",
       "      <td>0.75</td>\n",
       "      <td>1.00</td>\n",
       "      <td>0.75</td>\n",
       "      <td>0.5</td>\n",
       "      <td>0.5</td>\n",
       "      <td>0.50</td>\n",
       "      <td>0.50</td>\n",
       "      <td>0.25</td>\n",
       "    </tr>\n",
       "    <tr>\n",
       "      <th>2</th>\n",
       "      <td>n0038e640522c4a6</td>\n",
       "      <td>121</td>\n",
       "      <td>validation</td>\n",
       "      <td>1.00</td>\n",
       "      <td>0.00</td>\n",
       "      <td>0.00</td>\n",
       "      <td>1.00</td>\n",
       "      <td>1.0</td>\n",
       "      <td>1.00</td>\n",
       "      <td>1.0</td>\n",
       "      <td>...</td>\n",
       "      <td>0.00</td>\n",
       "      <td>0.00</td>\n",
       "      <td>0.50</td>\n",
       "      <td>0.25</td>\n",
       "      <td>0.00</td>\n",
       "      <td>0.0</td>\n",
       "      <td>0.5</td>\n",
       "      <td>0.50</td>\n",
       "      <td>0.00</td>\n",
       "      <td>1.00</td>\n",
       "    </tr>\n",
       "    <tr>\n",
       "      <th>3</th>\n",
       "      <td>n004ac94a87dc54b</td>\n",
       "      <td>121</td>\n",
       "      <td>validation</td>\n",
       "      <td>0.75</td>\n",
       "      <td>1.00</td>\n",
       "      <td>1.00</td>\n",
       "      <td>0.50</td>\n",
       "      <td>0.0</td>\n",
       "      <td>0.00</td>\n",
       "      <td>0.0</td>\n",
       "      <td>...</td>\n",
       "      <td>0.00</td>\n",
       "      <td>0.00</td>\n",
       "      <td>0.00</td>\n",
       "      <td>0.25</td>\n",
       "      <td>0.00</td>\n",
       "      <td>0.0</td>\n",
       "      <td>0.0</td>\n",
       "      <td>0.25</td>\n",
       "      <td>0.25</td>\n",
       "      <td>0.75</td>\n",
       "    </tr>\n",
       "    <tr>\n",
       "      <th>4</th>\n",
       "      <td>n0052fe97ea0c05f</td>\n",
       "      <td>121</td>\n",
       "      <td>validation</td>\n",
       "      <td>0.25</td>\n",
       "      <td>0.50</td>\n",
       "      <td>0.50</td>\n",
       "      <td>0.25</td>\n",
       "      <td>1.0</td>\n",
       "      <td>0.50</td>\n",
       "      <td>0.5</td>\n",
       "      <td>...</td>\n",
       "      <td>0.50</td>\n",
       "      <td>0.75</td>\n",
       "      <td>0.00</td>\n",
       "      <td>0.00</td>\n",
       "      <td>0.75</td>\n",
       "      <td>1.0</td>\n",
       "      <td>0.0</td>\n",
       "      <td>0.25</td>\n",
       "      <td>1.00</td>\n",
       "      <td>1.00</td>\n",
       "    </tr>\n",
       "  </tbody>\n",
       "</table>\n",
       "<p>5 rows × 314 columns</p>\n",
       "</div>"
      ],
      "text/plain": [
       "                 id  era   data_type  feature_intelligence1  \\\n",
       "0  n0003aa52cab36c2  121  validation                   0.25   \n",
       "1  n000920ed083903f  121  validation                   0.75   \n",
       "2  n0038e640522c4a6  121  validation                   1.00   \n",
       "3  n004ac94a87dc54b  121  validation                   0.75   \n",
       "4  n0052fe97ea0c05f  121  validation                   0.25   \n",
       "\n",
       "   feature_intelligence2  feature_intelligence3  feature_intelligence4  \\\n",
       "0                   0.75                   0.50                   0.50   \n",
       "1                   0.50                   0.75                   1.00   \n",
       "2                   0.00                   0.00                   1.00   \n",
       "3                   1.00                   1.00                   0.50   \n",
       "4                   0.50                   0.50                   0.25   \n",
       "\n",
       "   feature_intelligence5  feature_intelligence6  feature_intelligence7  ...  \\\n",
       "0                    0.0                   0.75                    0.5  ...   \n",
       "1                    0.5                   0.00                    0.0  ...   \n",
       "2                    1.0                   1.00                    1.0  ...   \n",
       "3                    0.0                   0.00                    0.0  ...   \n",
       "4                    1.0                   0.50                    0.5  ...   \n",
       "\n",
       "   feature_wisdom38  feature_wisdom39  feature_wisdom40  feature_wisdom41  \\\n",
       "0              0.75              0.75              1.00              0.75   \n",
       "1              0.50              0.50              0.75              1.00   \n",
       "2              0.00              0.00              0.50              0.25   \n",
       "3              0.00              0.00              0.00              0.25   \n",
       "4              0.50              0.75              0.00              0.00   \n",
       "\n",
       "   feature_wisdom42  feature_wisdom43  feature_wisdom44  feature_wisdom45  \\\n",
       "0              0.50               0.5               1.0              0.00   \n",
       "1              0.75               0.5               0.5              0.50   \n",
       "2              0.00               0.0               0.5              0.50   \n",
       "3              0.00               0.0               0.0              0.25   \n",
       "4              0.75               1.0               0.0              0.25   \n",
       "\n",
       "   feature_wisdom46  target_kazutsugi  \n",
       "0              0.00              0.00  \n",
       "1              0.50              0.25  \n",
       "2              0.00              1.00  \n",
       "3              0.25              0.75  \n",
       "4              1.00              1.00  \n",
       "\n",
       "[5 rows x 314 columns]"
      ]
     },
     "execution_count": 80,
     "metadata": {},
     "output_type": "execute_result"
    }
   ],
   "source": [
    "df_validation.head()"
   ]
  },
  {
   "cell_type": "markdown",
   "metadata": {},
   "source": [
    "##### Metricas regressao (melhorar para o SP)"
   ]
  },
  {
   "cell_type": "code",
   "execution_count": 17,
   "metadata": {},
   "outputs": [
    {
     "name": "stdout",
     "output_type": "stream",
     "text": [
      "Model performance on validation set:\n",
      "Training R^2: -0.010808492754463828\n",
      "Training MSE: 0.12618499994277954\n"
     ]
    }
   ],
   "source": [
    "model = list(filter(lambda x: x[1] == 'lr', results))[0][0]\n",
    "preds = model.model.predict(model.pipeline.transform(df_validation[features]))\n",
    "\n",
    "# Evaluate the model\n",
    "print('Model performance on validation set:')\n",
    "score = model.model.score(df_validation[features], df_validation[target])  #default deve ser o R2\n",
    "mse = mean_squared_error(df_validation[target], preds)\n",
    "print(f'Training R^2: {score}')\n",
    "print(f'Training MSE: {mse}')"
   ]
  },
  {
   "cell_type": "code",
   "execution_count": 115,
   "metadata": {},
   "outputs": [
    {
     "name": "stdout",
     "output_type": "stream",
     "text": [
      "Qtde. eras: 22\n",
      "performance over time\n"
     ]
    },
    {
     "data": {
      "image/png": "[encoded data removed]",
      "text/plain": [
       "<Figure size 432x288 with 1 Axes>"
      ]
     },
     "metadata": {
      "needs_background": "light"
     },
     "output_type": "display_data"
    }
   ],
   "source": [
    "era_scores, era_df, df_metrics, feat_corrs = metrics.submission_metrics(df_validation, preds, model.name)"
   ]
  },
  {
   "cell_type": "code",
   "execution_count": 28,
   "metadata": {},
   "outputs": [
    {
     "data": {
      "text/plain": [
       "<matplotlib.axes._subplots.AxesSubplot at 0x7f859fc7b0d0>"
      ]
     },
     "execution_count": 28,
     "metadata": {},
     "output_type": "execute_result"
    },
    {
     "data": {
      "image/png": "[encoded data removed]",
      "text/plain": [
       "<Figure size 432x288 with 1 Axes>"
      ]
     },
     "metadata": {
      "needs_background": "light"
     },
     "output_type": "display_data"
    }
   ],
   "source": [
    "era_scores.plot(kind=\"bar\")"
   ]
  },
  {
   "cell_type": "code",
   "execution_count": 116,
   "metadata": {},
   "outputs": [
    {
     "data": {
      "text/html": [
       "<div>\n",
       "<style scoped>\n",
       "    .dataframe tbody tr th:only-of-type {\n",
       "        vertical-align: middle;\n",
       "    }\n",
       "\n",
       "    .dataframe tbody tr th {\n",
       "        vertical-align: top;\n",
       "    }\n",
       "\n",
       "    .dataframe thead th {\n",
       "        text-align: right;\n",
       "    }\n",
       "</style>\n",
       "<table border=\"1\" class=\"dataframe\">\n",
       "  <thead>\n",
       "    <tr style=\"text-align: right;\">\n",
       "      <th></th>\n",
       "      <th>Valor</th>\n",
       "      <th>Categoria</th>\n",
       "      <th>Range_Aceitavel</th>\n",
       "      <th>Descricao</th>\n",
       "    </tr>\n",
       "    <tr>\n",
       "      <th>Metrica</th>\n",
       "      <th></th>\n",
       "      <th></th>\n",
       "      <th></th>\n",
       "      <th></th>\n",
       "    </tr>\n",
       "  </thead>\n",
       "  <tbody>\n",
       "    <tr>\n",
       "      <th>Model_Name</th>\n",
       "      <td>rf</td>\n",
       "      <td>Submission</td>\n",
       "      <td>NA</td>\n",
       "      <td>Nome do Modelo</td>\n",
       "    </tr>\n",
       "    <tr>\n",
       "      <th>Max_Drawdown</th>\n",
       "      <td>-0.02401</td>\n",
       "      <td>Financeira</td>\n",
       "      <td>[0%..2%]</td>\n",
       "      <td>Perda máxima em uma era</td>\n",
       "    </tr>\n",
       "    <tr>\n",
       "      <th>Validation_Corr</th>\n",
       "      <td>0.001461</td>\n",
       "      <td>Submission</td>\n",
       "      <td>[3.6%..4.4%] 4.8%, overfitting</td>\n",
       "      <td>Média spearman corr por era</td>\n",
       "    </tr>\n",
       "    <tr>\n",
       "      <th>Median_corr</th>\n",
       "      <td>0.0001883</td>\n",
       "      <td>Estatistica</td>\n",
       "      <td>[3.6%..4.4%] Dentro do range de médias</td>\n",
       "      <td>Mediana spearman corr por era</td>\n",
       "    </tr>\n",
       "    <tr>\n",
       "      <th>Variance</th>\n",
       "      <td>0.0001974</td>\n",
       "      <td>Estatistica</td>\n",
       "      <td>[0..] Próximo a zero</td>\n",
       "      <td>Variancia spearman corr por era</td>\n",
       "    </tr>\n",
       "    <tr>\n",
       "      <th>Std_Dev</th>\n",
       "      <td>0.01405</td>\n",
       "      <td>Estatistica</td>\n",
       "      <td>[0..] Próximo a zero</td>\n",
       "      <td>Std spearman corr por era</td>\n",
       "    </tr>\n",
       "    <tr>\n",
       "      <th>AR(1)</th>\n",
       "      <td>-0.02083</td>\n",
       "      <td>Estatistica</td>\n",
       "      <td>[0..] Próximo a zero</td>\n",
       "      <td>AR(1) pearson corr eras[:-1] e eras[1:]</td>\n",
       "    </tr>\n",
       "    <tr>\n",
       "      <th>Skewness</th>\n",
       "      <td>0.6107</td>\n",
       "      <td>Estatistica</td>\n",
       "      <td>[0..1]</td>\n",
       "      <td>Skewness, central moment **3</td>\n",
       "    </tr>\n",
       "    <tr>\n",
       "      <th>Exc_Kurtosis</th>\n",
       "      <td>0.374</td>\n",
       "      <td>Estatistica</td>\n",
       "      <td>[-1..0]</td>\n",
       "      <td>Kurtosis central moment **4</td>\n",
       "    </tr>\n",
       "    <tr>\n",
       "      <th>Std_Error_Mean</th>\n",
       "      <td>0.003066</td>\n",
       "      <td>Estatistica</td>\n",
       "      <td>[0..] Menor que o std</td>\n",
       "      <td>std/sqrt(n) measures how far the sample mean o...</td>\n",
       "    </tr>\n",
       "    <tr>\n",
       "      <th>Validation_Sharpe</th>\n",
       "      <td>0.3602</td>\n",
       "      <td>Submission</td>\n",
       "      <td>[5..25] Iniciantes entre 1 e 2, competidores 1...</td>\n",
       "      <td>Média da correlacoa por era / std corr por era...</td>\n",
       "    </tr>\n",
       "    <tr>\n",
       "      <th>Smart_Sharpe</th>\n",
       "      <td>0.345</td>\n",
       "      <td>Financeira</td>\n",
       "      <td>Pouco menor que o shape</td>\n",
       "      <td>Sharpe * auto_corr_penalty</td>\n",
       "    </tr>\n",
       "    <tr>\n",
       "      <th>Numerai_Sharpe</th>\n",
       "      <td>-2.157</td>\n",
       "      <td>Financeira</td>\n",
       "      <td>Pouco menor que o sharpe</td>\n",
       "      <td>sharpe menos transaction costs</td>\n",
       "    </tr>\n",
       "    <tr>\n",
       "      <th>Adj_Sharpe</th>\n",
       "      <td>-1.527</td>\n",
       "      <td>Financeira</td>\n",
       "      <td>Prox ao sharpe</td>\n",
       "      <td>Adjusted Sharpe Ratio adjusts for skewness and...</td>\n",
       "    </tr>\n",
       "    <tr>\n",
       "      <th>VaR_10</th>\n",
       "      <td>-0.001258</td>\n",
       "      <td>Financeira</td>\n",
       "      <td>[-.1..0]</td>\n",
       "      <td>Identificar exposicao ao risco || fornece um i...</td>\n",
       "    </tr>\n",
       "    <tr>\n",
       "      <th>Sortino_Ratio</th>\n",
       "      <td>-0.58</td>\n",
       "      <td>Financeira</td>\n",
       "      <td>[..]</td>\n",
       "      <td>Sortino ratio as an alternative to Sharpe for ...</td>\n",
       "    </tr>\n",
       "    <tr>\n",
       "      <th>Smart_Sortino_Ratio</th>\n",
       "      <td>-0.5686</td>\n",
       "      <td>Financeira</td>\n",
       "      <td>Pouco abaixo do sortino</td>\n",
       "      <td>Sortino Ratio penalizado</td>\n",
       "    </tr>\n",
       "    <tr>\n",
       "      <th>Payout</th>\n",
       "      <td>0.001461</td>\n",
       "      <td>Leaderboard</td>\n",
       "      <td>[3.6%..4.4%]</td>\n",
       "      <td>Retira as 25% piores e melhores eras corr</td>\n",
       "    </tr>\n",
       "    <tr>\n",
       "      <th>Feat_exp_std (val)</th>\n",
       "      <td>0.0305</td>\n",
       "      <td>Estatistica</td>\n",
       "      <td>[8%..x%]</td>\n",
       "      <td>Std das features exposures, example_preds 0.0765</td>\n",
       "    </tr>\n",
       "    <tr>\n",
       "      <th>Feat_exp_max (val)</th>\n",
       "      <td>0.09354</td>\n",
       "      <td>Estatistica</td>\n",
       "      <td>[0.10..0.20] com neutralizacao cai pra .15</td>\n",
       "      <td>feature com maior exp</td>\n",
       "    </tr>\n",
       "  </tbody>\n",
       "</table>\n",
       "</div>"
      ],
      "text/plain": [
       "                         Valor    Categoria  \\\n",
       "Metrica                                       \n",
       "Model_Name                  rf   Submission   \n",
       "Max_Drawdown          -0.02401   Financeira   \n",
       "Validation_Corr       0.001461   Submission   \n",
       "Median_corr          0.0001883  Estatistica   \n",
       "Variance             0.0001974  Estatistica   \n",
       "Std_Dev                0.01405  Estatistica   \n",
       "AR(1)                 -0.02083  Estatistica   \n",
       "Skewness                0.6107  Estatistica   \n",
       "Exc_Kurtosis             0.374  Estatistica   \n",
       "Std_Error_Mean        0.003066  Estatistica   \n",
       "Validation_Sharpe       0.3602   Submission   \n",
       "Smart_Sharpe             0.345   Financeira   \n",
       "Numerai_Sharpe          -2.157   Financeira   \n",
       "Adj_Sharpe              -1.527   Financeira   \n",
       "VaR_10               -0.001258   Financeira   \n",
       "Sortino_Ratio            -0.58   Financeira   \n",
       "Smart_Sortino_Ratio    -0.5686   Financeira   \n",
       "Payout                0.001461  Leaderboard   \n",
       "Feat_exp_std (val)      0.0305  Estatistica   \n",
       "Feat_exp_max (val)     0.09354  Estatistica   \n",
       "\n",
       "                                                       Range_Aceitavel  \\\n",
       "Metrica                                                                  \n",
       "Model_Name                                                          NA   \n",
       "Max_Drawdown                                                  [0%..2%]   \n",
       "Validation_Corr                         [3.6%..4.4%] 4.8%, overfitting   \n",
       "Median_corr                     [3.6%..4.4%] Dentro do range de médias   \n",
       "Variance                                          [0..] Próximo a zero   \n",
       "Std_Dev                                           [0..] Próximo a zero   \n",
       "AR(1)                                             [0..] Próximo a zero   \n",
       "Skewness                                                        [0..1]   \n",
       "Exc_Kurtosis                                                   [-1..0]   \n",
       "Std_Error_Mean                                   [0..] Menor que o std   \n",
       "Validation_Sharpe    [5..25] Iniciantes entre 1 e 2, competidores 1...   \n",
       "Smart_Sharpe                                   Pouco menor que o shape   \n",
       "Numerai_Sharpe                                Pouco menor que o sharpe   \n",
       "Adj_Sharpe                                              Prox ao sharpe   \n",
       "VaR_10                                                        [-.1..0]   \n",
       "Sortino_Ratio                                                     [..]   \n",
       "Smart_Sortino_Ratio                            Pouco abaixo do sortino   \n",
       "Payout                                                   [3.6%..4.4%]    \n",
       "Feat_exp_std (val)                                            [8%..x%]   \n",
       "Feat_exp_max (val)          [0.10..0.20] com neutralizacao cai pra .15   \n",
       "\n",
       "                                                             Descricao  \n",
       "Metrica                                                                 \n",
       "Model_Name                                              Nome do Modelo  \n",
       "Max_Drawdown                                   Perda máxima em uma era  \n",
       "Validation_Corr                            Média spearman corr por era  \n",
       "Median_corr                              Mediana spearman corr por era  \n",
       "Variance                               Variancia spearman corr por era  \n",
       "Std_Dev                                      Std spearman corr por era  \n",
       "AR(1)                          AR(1) pearson corr eras[:-1] e eras[1:]  \n",
       "Skewness                                  Skewness, central moment **3  \n",
       "Exc_Kurtosis                               Kurtosis central moment **4  \n",
       "Std_Error_Mean       std/sqrt(n) measures how far the sample mean o...  \n",
       "Validation_Sharpe    Média da correlacoa por era / std corr por era...  \n",
       "Smart_Sharpe                                Sharpe * auto_corr_penalty  \n",
       "Numerai_Sharpe                          sharpe menos transaction costs  \n",
       "Adj_Sharpe           Adjusted Sharpe Ratio adjusts for skewness and...  \n",
       "VaR_10               Identificar exposicao ao risco || fornece um i...  \n",
       "Sortino_Ratio        Sortino ratio as an alternative to Sharpe for ...  \n",
       "Smart_Sortino_Ratio                           Sortino Ratio penalizado  \n",
       "Payout                       Retira as 25% piores e melhores eras corr  \n",
       "Feat_exp_std (val)    Std das features exposures, example_preds 0.0765  \n",
       "Feat_exp_max (val)                               feature com maior exp  "
      ]
     },
     "execution_count": 116,
     "metadata": {},
     "output_type": "execute_result"
    }
   ],
   "source": [
    "df_metrics"
   ]
  },
  {
   "cell_type": "markdown",
   "metadata": {},
   "source": [
    "### 5a Parte treino 120 eras"
   ]
  },
  {
   "cell_type": "code",
   "execution_count": null,
   "metadata": {},
   "outputs": [],
   "source": []
  },
  {
   "cell_type": "code",
   "execution_count": null,
   "metadata": {},
   "outputs": [],
   "source": []
  },
  {
   "cell_type": "markdown",
   "metadata": {},
   "source": [
    "### 6a Pate meta model"
   ]
  },
  {
   "cell_type": "code",
   "execution_count": null,
   "metadata": {},
   "outputs": [],
   "source": []
  },
  {
   "cell_type": "code",
   "execution_count": 11,
   "metadata": {},
   "outputs": [],
   "source": []
  },
  {
   "cell_type": "code",
   "execution_count": null,
   "metadata": {},
   "outputs": [],
   "source": []
  },
  {
   "cell_type": "code",
   "execution_count": null,
   "metadata": {},
   "outputs": [],
   "source": []
  },
  {
   "cell_type": "code",
   "execution_count": null,
   "metadata": {},
   "outputs": [],
   "source": []
  },
  {
   "cell_type": "markdown",
   "metadata": {},
   "source": [
    "### Rascunho"
   ]
  },
  {
   "cell_type": "code",
   "execution_count": 28,
   "metadata": {},
   "outputs": [
    {
     "name": "stdout",
     "output_type": "stream",
     "text": [
      "Available memory (%): 13.227272033691406\n"
     ]
    }
   ],
   "source": [
    "memory_usage.memory()"
   ]
  },
  {
   "cell_type": "code",
   "execution_count": 7,
   "metadata": {},
   "outputs": [],
   "source": [
    "results, res_cv = list(), dict()"
   ]
  },
  {
   "cell_type": "code",
   "execution_count": 6,
   "metadata": {},
   "outputs": [],
   "source": [
    "#Group K-fold\n",
    "CV = GroupKFold(n_splits = 3)\n",
    "grp = list(CV.split(X = df_training[features], y = df_training[target],  groups = df_training.era.values))"
   ]
  },
  {
   "cell_type": "code",
   "execution_count": null,
   "metadata": {},
   "outputs": [],
   "source": [
    "rf_param_grid =  {\n",
    "    'reg_rf__n_estimators' : [10],\n",
    "}\n",
    "\n",
    "\n",
    "scorer = make_scorer(mean_squared_error)\n",
    "\n",
    "result = evaluation.evaluate_model(df_training[features], df_training[target],\n",
    "                                   LinearRegression(), 'reg_rf',\n",
    "                                   lr_param_grid, \n",
    "                                   scorer, n_iter=1, \n",
    "                                   cv_folds=grp, pipeline=None)\n",
    "\n",
    "results.append(result)\n",
    "res_cv[result[1]] = evaluation.get_cv_scores(result[0])"
   ]
  },
  {
   "cell_type": "code",
   "execution_count": null,
   "metadata": {},
   "outputs": [],
   "source": [
    "result[0].results"
   ]
  },
  {
   "cell_type": "code",
   "execution_count": 10,
   "metadata": {},
   "outputs": [
    {
     "data": {
      "image/png": "[encoded data removed]",
      "text/plain": [
       "<Figure size 432x288 with 1 Axes>"
      ]
     },
     "metadata": {
      "needs_background": "light"
     },
     "output_type": "display_data"
    }
   ],
   "source": [
    "_ = plt.boxplot(res_cv.values(), labels=res_cv.keys(), showmeans=True)"
   ]
  },
  {
   "cell_type": "code",
   "execution_count": 13,
   "metadata": {},
   "outputs": [],
   "source": [
    "#carregando o modelo\n",
    "model_loaded = load(file_path)"
   ]
  },
  {
   "cell_type": "code",
   "execution_count": null,
   "metadata": {},
   "outputs": [],
   "source": []
  },
  {
   "cell_type": "code",
   "execution_count": null,
   "metadata": {},
   "outputs": [],
   "source": []
  },
  {
   "cell_type": "code",
   "execution_count": null,
   "metadata": {},
   "outputs": [],
   "source": []
  },
  {
   "cell_type": "code",
   "execution_count": 35,
   "metadata": {},
   "outputs": [
    {
     "name": "stdout",
     "output_type": "stream",
     "text": [
      ">cores=1: 22.561 seconds\n",
      ">cores=2: 13.700 seconds\n",
      ">cores=3: 9.732 seconds\n",
      ">cores=4: 9.550 seconds\n",
      ">cores=5: 8.731 seconds\n",
      ">cores=6: 8.896 seconds\n",
      ">cores=7: 9.042 seconds\n",
      ">cores=8: 9.022 seconds\n"
     ]
    },
    {
     "data": {
      "image/png": "[encoded data removed]",
      "text/plain": [
       "<Figure size 432x288 with 1 Axes>"
      ]
     },
     "metadata": {
      "needs_background": "light"
     },
     "output_type": "display_data"
    }
   ],
   "source": [
    "# example of comparing number of cores used during training to execution speed\n",
    "from time import time\n",
    "from sklearn.datasets import make_classification\n",
    "from sklearn.ensemble import RandomForestClassifier\n",
    "from matplotlib import pyplot\n",
    "# define dataset\n",
    "X, y = make_classification(n_samples=10000, n_features=20, n_informative=15, n_redundant=5, random_state=3)\n",
    "results = list()\n",
    "# compare timing for number of cores\n",
    "n_cores = [1, 2, 3, 4, 5, 6, 7, 8]\n",
    "for n in n_cores:\n",
    "\t# capture current time\n",
    "\tstart = time()\n",
    "\t# define the model\n",
    "\tmodel = RandomForestClassifier(n_estimators=500, n_jobs=n)\n",
    "\t# fit the model\n",
    "\tmodel.fit(X, y)\n",
    "\t# capture current time\n",
    "\tend = time()\n",
    "\t# store execution time\n",
    "\tresult = end - start\n",
    "\tprint('>cores=%d: %.3f seconds' % (n, result))\n",
    "\tresults.append(result)\n",
    "pyplot.plot(n_cores, results)\n",
    "pyplot.show()"
   ]
  },
  {
   "cell_type": "code",
   "execution_count": 7,
   "metadata": {},
   "outputs": [
    {
     "data": {
      "text/html": [
       "<div>\n",
       "<style scoped>\n",
       "    .dataframe tbody tr th:only-of-type {\n",
       "        vertical-align: middle;\n",
       "    }\n",
       "\n",
       "    .dataframe tbody tr th {\n",
       "        vertical-align: top;\n",
       "    }\n",
       "\n",
       "    .dataframe thead th {\n",
       "        text-align: right;\n",
       "    }\n",
       "</style>\n",
       "<table border=\"1\" class=\"dataframe\">\n",
       "  <thead>\n",
       "    <tr style=\"text-align: right;\">\n",
       "      <th></th>\n",
       "      <th>outsample</th>\n",
       "      <th>insample</th>\n",
       "      <th>time_elapsed_GPU(s)</th>\n",
       "      <th>time_elapsed(s)</th>\n",
       "    </tr>\n",
       "  </thead>\n",
       "  <tbody>\n",
       "    <tr>\n",
       "      <th>LGBMRegressor</th>\n",
       "      <td>0.0447</td>\n",
       "      <td>0.2677</td>\n",
       "      <td>23.8324</td>\n",
       "      <td>62.3275</td>\n",
       "    </tr>\n",
       "    <tr>\n",
       "      <th>XGBRanker</th>\n",
       "      <td>0.0442</td>\n",
       "      <td>0.2021</td>\n",
       "      <td>67.5707</td>\n",
       "      <td>469.0444</td>\n",
       "    </tr>\n",
       "    <tr>\n",
       "      <th>XGBRegressor</th>\n",
       "      <td>0.0440</td>\n",
       "      <td>0.2667</td>\n",
       "      <td>37.2466</td>\n",
       "      <td>445.6100</td>\n",
       "    </tr>\n",
       "    <tr>\n",
       "      <th>LGBMClassifier</th>\n",
       "      <td>0.0305</td>\n",
       "      <td>0.2070</td>\n",
       "      <td>137.1966</td>\n",
       "      <td>301.8254</td>\n",
       "    </tr>\n",
       "    <tr>\n",
       "      <th>XGBClassifier</th>\n",
       "      <td>0.0302</td>\n",
       "      <td>0.1648</td>\n",
       "      <td>232.9470</td>\n",
       "      <td>2172.2911</td>\n",
       "    </tr>\n",
       "    <tr>\n",
       "      <th>CatBoostClassifier</th>\n",
       "      <td>0.0271</td>\n",
       "      <td>0.0959</td>\n",
       "      <td>19.0138</td>\n",
       "      <td>1193.6433</td>\n",
       "    </tr>\n",
       "    <tr>\n",
       "      <th>CatBoostRegressor</th>\n",
       "      <td>0.0267</td>\n",
       "      <td>0.0949</td>\n",
       "      <td>9.2403</td>\n",
       "      <td>209.8839</td>\n",
       "    </tr>\n",
       "    <tr>\n",
       "      <th>LGBMRanker</th>\n",
       "      <td>0.0150</td>\n",
       "      <td>0.0647</td>\n",
       "      <td>6092.7200</td>\n",
       "      <td>16133.8554</td>\n",
       "    </tr>\n",
       "  </tbody>\n",
       "</table>\n",
       "</div>"
      ],
      "text/plain": [
       "                    outsample  insample  time_elapsed_GPU(s)  time_elapsed(s)\n",
       "LGBMRegressor          0.0447    0.2677              23.8324          62.3275\n",
       "XGBRanker              0.0442    0.2021              67.5707         469.0444\n",
       "XGBRegressor           0.0440    0.2667              37.2466         445.6100\n",
       "LGBMClassifier         0.0305    0.2070             137.1966         301.8254\n",
       "XGBClassifier          0.0302    0.1648             232.9470        2172.2911\n",
       "CatBoostClassifier     0.0271    0.0959              19.0138        1193.6433\n",
       "CatBoostRegressor      0.0267    0.0949               9.2403         209.8839\n",
       "LGBMRanker             0.0150    0.0647            6092.7200       16133.8554"
      ]
     },
     "execution_count": 7,
     "metadata": {},
     "output_type": "execute_result"
    }
   ],
   "source": [
    "load_baseline = pd.read_csv(\"../../reports/results_baseline.csv\")\n",
    "load_baseline"
   ]
  },
  {
   "cell_type": "code",
   "execution_count": null,
   "metadata": {},
   "outputs": [],
   "source": [
    "df_nomi = pd.read_csv(\"../../data/raw/numerai_datasets/numerai_training_validation_target_nomi.csv\")"
   ]
  }
 ],
 "metadata": {
  "kernelspec": {
   "display_name": "Python 3",
   "language": "python",
   "name": "python3"
  },
  "language_info": {
   "codemirror_mode": {
    "name": "ipython",
    "version": 3
   },
   "file_extension": ".py",
   "mimetype": "text/x-python",
   "name": "python",
   "nbconvert_exporter": "python",
   "pygments_lexer": "ipython3",
   "version": "3.8.3"
  }
 },
 "nbformat": 4,
 "nbformat_minor": 4
}
